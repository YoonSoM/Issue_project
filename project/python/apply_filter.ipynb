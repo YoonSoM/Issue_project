{
  "nbformat": 4,
  "nbformat_minor": 0,
  "metadata": {
    "colab": {
      "provenance": []
    },
    "kernelspec": {
      "name": "python3",
      "display_name": "Python 3"
    },
    "language_info": {
      "name": "python"
    }
  },
  "cells": [
    {
      "cell_type": "code",
      "execution_count": null,
      "metadata": {
        "id": "POLp_wk-hNCC"
      },
      "outputs": [],
      "source": [
        "pip install Pillow"
      ]
    },
    {
      "cell_type": "code",
      "source": [
        "from PIL import Image, ImageFilter\n",
        "\n",
        "def apply_filter(image_path, filter_type):\n",
        "    # 이미지를 엽니다.\n",
        "    image = Image.open(image_path)\n",
        "\n",
        "    # 필터 적용\n",
        "    if filter_type == 'BLUR':\n",
        "        filtered_image = image.filter(ImageFilter.BLUR)\n",
        "    elif filter_type == 'CONTOUR':\n",
        "        filtered_image = image.filter(ImageFilter.CONTOUR)\n",
        "    elif filter_type == 'DETAIL':\n",
        "        filtered_image = image.filter(ImageFilter.DETAIL)\n",
        "    elif filter_type == 'EDGE_ENHANCE':\n",
        "        filtered_image = image.filter(ImageFilter.EDGE_ENHANCE)\n",
        "    elif filter_type == 'EMBOSS':\n",
        "        filtered_image = image.filter(ImageFilter.EMBOSS)\n",
        "    elif filter_type == 'SHARPEN':\n",
        "        filtered_image = image.filter(ImageFilter.SHARPEN)\n",
        "    else:\n",
        "        print(\"지원하지 않는 필터입니다.\")\n",
        "        return\n",
        "\n",
        "    # 필터가 적용된 이미지를 저장합니다.\n",
        "    filtered_image.save(f\"filtered_{filter_type.lower()}.png\")\n",
        "    print(f\"{filter_type} 필터가 적용된 이미지가 저장되었습니다: filtered_{filter_type.lower()}.png\")\n",
        "\n",
        "# 사용 예시\n",
        "image_path = 'your_image.jpg'  # 여기에 이미지 파일 경로를 입력하세요.\n",
        "filter_type = 'BLUR'  # 적용할 필터 종류 ('BLUR', 'CONTOUR', 'DETAIL', 'EDGE_ENHANCE', 'EMBOSS', 'SHARPEN')\n",
        "apply_filter(image_path, filter_type)"
      ],
      "metadata": {
        "id": "_afsYM_PhQA3"
      },
      "execution_count": null,
      "outputs": []
    }
  ]
}