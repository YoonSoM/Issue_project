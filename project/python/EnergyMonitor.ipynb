{
  "nbformat": 4,
  "nbformat_minor": 0,
  "metadata": {
    "colab": {
      "provenance": []
    },
    "kernelspec": {
      "name": "python3",
      "display_name": "Python 3"
    },
    "language_info": {
      "name": "python"
    }
  },
  "cells": [
    {
      "cell_type": "code",
      "execution_count": 1,
      "metadata": {
        "colab": {
          "base_uri": "https://localhost:8080/"
        },
        "id": "i-urKn3eZ_Rg",
        "outputId": "e8aa30d9-2119-438b-bd61-9eba833190ca"
      },
      "outputs": [
        {
          "output_type": "stream",
          "name": "stdout",
          "text": [
            "\n",
            "1. 전기 사용량 추가\n",
            "2. 전기 사용량 조회\n",
            "3. 소비 분석\n",
            "4. 종료\n",
            "옵션을 선택하세요: 4\n",
            "프로그램을 종료합니다.\n"
          ]
        }
      ],
      "source": [
        "class EnergyMonitor:\n",
        "    def __init__(self):\n",
        "        self.monthly_consumption = []\n",
        "\n",
        "    def add_consumption(self, kWh):\n",
        "        self.monthly_consumption.append(kWh)\n",
        "\n",
        "    def display_consumption(self):\n",
        "        print(\"\\n월별 전기 사용량 (kWh):\")\n",
        "        for month, consumption in enumerate(self.monthly_consumption, start=1):\n",
        "            print(f\"월 {month}: {consumption} kWh\")\n",
        "\n",
        "    def analyze_consumption(self):\n",
        "        if not self.monthly_consumption:\n",
        "            print(\"데이터가 없습니다.\")\n",
        "            return\n",
        "\n",
        "        total = sum(self.monthly_consumption)\n",
        "        average = total / len(self.monthly_consumption)\n",
        "\n",
        "        print(f\"\\n총 전기 사용량: {total} kWh\")\n",
        "        print(f\"평균 전기 사용량: {average:.2f} kWh\")\n",
        "\n",
        "        if average > 300:\n",
        "            print(\"에너지 절약 팁: 사용량이 평균보다 높습니다. 전기 사용을 줄이는 방법을 고려해보세요.\")\n",
        "        else:\n",
        "            print(\"좋습니다! 에너지 사용량이 평균 이하입니다.\")\n",
        "\n",
        "\n",
        "def main():\n",
        "    monitor = EnergyMonitor()\n",
        "\n",
        "    while True:\n",
        "        print(\"\\n1. 전기 사용량 추가\")\n",
        "        print(\"2. 전기 사용량 조회\")\n",
        "        print(\"3. 소비 분석\")\n",
        "        print(\"4. 종료\")\n",
        "        choice = input(\"옵션을 선택하세요: \")\n",
        "\n",
        "        if choice == '1':\n",
        "            consumption = float(input(\"이번 달 전기 사용량 (kWh)을 입력하세요: \"))\n",
        "            monitor.add_consumption(consumption)\n",
        "        elif choice == '2':\n",
        "            monitor.display_consumption()\n",
        "        elif choice == '3':\n",
        "            monitor.analyze_consumption()\n",
        "        elif choice == '4':\n",
        "            print(\"프로그램을 종료합니다.\")\n",
        "            break\n",
        "        else:\n",
        "            print(\"잘못된 선택입니다. 다시 시도하세요.\")\n",
        "\n",
        "\n",
        "if __name__ == \"__main__\":\n",
        "    main()\n"
      ]
    },
    {
      "cell_type": "code",
      "source": [],
      "metadata": {
        "id": "vkXFS3tCaTu4"
      },
      "execution_count": null,
      "outputs": []
    }
  ]
}