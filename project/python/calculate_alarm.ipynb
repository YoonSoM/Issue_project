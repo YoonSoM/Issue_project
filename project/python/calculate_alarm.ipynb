{
  "nbformat": 4,
  "nbformat_minor": 0,
  "metadata": {
    "colab": {
      "provenance": []
    },
    "kernelspec": {
      "name": "python3",
      "display_name": "Python 3"
    },
    "language_info": {
      "name": "python"
    }
  },
  "cells": [
    {
      "cell_type": "code",
      "execution_count": 3,
      "metadata": {
        "colab": {
          "base_uri": "https://localhost:8080/"
        },
        "id": "ZQRSTdHMXZ9-",
        "outputId": "5948b6b1-1949-4d30-92cc-3a07eb42cb2c"
      },
      "outputs": [
        {
          "output_type": "stream",
          "name": "stdout",
          "text": [
            "취침 시간을 입력하세요 (시): 10\n",
            "취침 시간을 입력하세요 (분): 33\n",
            "추천 수면 시간:\n",
            "7.5시간 수면 시 알람 시간: 18:03\n",
            "9시간 수면 시 알람 시간: 19:33\n"
          ]
        }
      ],
      "source": [
        "def calculate_alarm_time(bedtime_hour, bedtime_minute, sleep_duration):\n",
        "    # 총 수면 시간(분) 계산\n",
        "    sleep_duration_minutes = int(sleep_duration * 60)  # 정수로 변환\n",
        "    # 알람 시간 계산\n",
        "    alarm_time_minutes = (bedtime_hour * 60 + bedtime_minute) + sleep_duration_minutes\n",
        "    alarm_hour = (alarm_time_minutes // 60) % 24\n",
        "    alarm_minute = alarm_time_minutes % 60\n",
        "    return alarm_hour, alarm_minute\n",
        "\n",
        "# 사용자 입력\n",
        "bedtime_hour = int(input(\"취침 시간을 입력하세요 (시): \"))\n",
        "bedtime_minute = int(input(\"취침 시간을 입력하세요 (분): \"))\n",
        "sleep_duration_options = [7.5, 9]  # 권장 수면 시간 (시간)\n",
        "\n",
        "print(\"추천 수면 시간:\")\n",
        "for duration in sleep_duration_options:\n",
        "    alarm_hour, alarm_minute = calculate_alarm_time(bedtime_hour, bedtime_minute, duration)\n",
        "    print(f\"{duration}시간 수면 시 알람 시간: {alarm_hour:02d}:{alarm_minute:02d}\")\n"
      ]
    },
    {
      "cell_type": "code",
      "source": [],
      "metadata": {
        "id": "dQSVcxy2XiN6"
      },
      "execution_count": null,
      "outputs": []
    }
  ]
}