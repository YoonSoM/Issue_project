{
  "nbformat": 4,
  "nbformat_minor": 0,
  "metadata": {
    "colab": {
      "provenance": []
    },
    "kernelspec": {
      "name": "python3",
      "display_name": "Python 3"
    },
    "language_info": {
      "name": "python"
    }
  },
  "cells": [
    {
      "cell_type": "code",
      "execution_count": null,
      "metadata": {
        "id": "ErMMtKf5RCYY"
      },
      "outputs": [],
      "source": [
        "def calculate_bmi(weight, height):\n",
        "    \"\"\"BMI 계산 함수\"\"\"\n",
        "    bmi = weight / (height ** 2)\n",
        "    return bmi\n",
        "\n",
        "def evaluate_bmi(bmi):\n",
        "    \"\"\"BMI 평가 함수\"\"\"\n",
        "    if bmi < 18.5:\n",
        "        return \"저체중\"\n",
        "    elif 18.5 <= bmi < 24.9:\n",
        "        return \"정상 체중\"\n",
        "    elif 25 <= bmi < 29.9:\n",
        "        return \"과체중\"\n",
        "    else:\n",
        "        return \"비만\"\n",
        "\n",
        "def main():\n",
        "    print(\"개인 맞춤형 건강 관리 어플리케이션\")\n",
        "\n",
        "    # 사용자 입력\n",
        "    weight = float(input(\"체중(kg)을 입력하세요: \"))\n",
        "    height = float(input(\"신장(m)을 입력하세요: \"))\n",
        "\n",
        "    # BMI 계산\n",
        "    bmi = calculate_bmi(weight, height)\n",
        "\n",
        "    # BMI 평가\n",
        "    evaluation = evaluate_bmi(bmi)\n",
        "\n",
        "    # 결과 출력\n",
        "    print(f\"당신의 BMI는 {bmi:.2f}입니다. 건강 상태: {evaluation}\")\n",
        "\n",
        "if __name__ == \"__main__\":\n",
        "    main()\n"
      ]
    }
  ]
}