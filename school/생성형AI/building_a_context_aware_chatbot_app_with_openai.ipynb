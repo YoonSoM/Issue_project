{
  "cells": [
    {
      "cell_type": "code",
      "execution_count": null,
      "metadata": {
        "colab": {
          "base_uri": "https://localhost:8080/"
        },
        "id": "K4D8RN2U0F4x",
        "outputId": "1a64468c-51bd-4bc4-b076-83ff71172357"
      },
      "outputs": [
        {
          "output_type": "stream",
          "name": "stdout",
          "text": [
            "Collecting openai\n",
            "  Downloading openai-1.35.1-py3-none-any.whl (326 kB)\n",
            "\u001b[2K     \u001b[90m━━━━━━━━━━━━━━━━━━━━━━━━━━━━━━━━━━━━━━━━\u001b[0m \u001b[32m326.8/326.8 kB\u001b[0m \u001b[31m2.5 MB/s\u001b[0m eta \u001b[36m0:00:00\u001b[0m\n",
            "\u001b[?25hRequirement already satisfied: anyio<5,>=3.5.0 in /usr/local/lib/python3.10/dist-packages (from openai) (3.7.1)\n",
            "Requirement already satisfied: distro<2,>=1.7.0 in /usr/lib/python3/dist-packages (from openai) (1.7.0)\n",
            "Collecting httpx<1,>=0.23.0 (from openai)\n",
            "  Downloading httpx-0.27.0-py3-none-any.whl (75 kB)\n",
            "\u001b[2K     \u001b[90m━━━━━━━━━━━━━━━━━━━━━━━━━━━━━━━━━━━━━━━━\u001b[0m \u001b[32m75.6/75.6 kB\u001b[0m \u001b[31m5.2 MB/s\u001b[0m eta \u001b[36m0:00:00\u001b[0m\n",
            "\u001b[?25hRequirement already satisfied: pydantic<3,>=1.9.0 in /usr/local/lib/python3.10/dist-packages (from openai) (2.7.3)\n",
            "Requirement already satisfied: sniffio in /usr/local/lib/python3.10/dist-packages (from openai) (1.3.1)\n",
            "Requirement already satisfied: tqdm>4 in /usr/local/lib/python3.10/dist-packages (from openai) (4.66.4)\n",
            "Requirement already satisfied: typing-extensions<5,>=4.7 in /usr/local/lib/python3.10/dist-packages (from openai) (4.12.2)\n",
            "Requirement already satisfied: idna>=2.8 in /usr/local/lib/python3.10/dist-packages (from anyio<5,>=3.5.0->openai) (3.7)\n",
            "Requirement already satisfied: exceptiongroup in /usr/local/lib/python3.10/dist-packages (from anyio<5,>=3.5.0->openai) (1.2.1)\n",
            "Requirement already satisfied: certifi in /usr/local/lib/python3.10/dist-packages (from httpx<1,>=0.23.0->openai) (2024.6.2)\n",
            "Collecting httpcore==1.* (from httpx<1,>=0.23.0->openai)\n",
            "  Downloading httpcore-1.0.5-py3-none-any.whl (77 kB)\n",
            "\u001b[2K     \u001b[90m━━━━━━━━━━━━━━━━━━━━━━━━━━━━━━━━━━━━━━━━\u001b[0m \u001b[32m77.9/77.9 kB\u001b[0m \u001b[31m3.5 MB/s\u001b[0m eta \u001b[36m0:00:00\u001b[0m\n",
            "\u001b[?25hCollecting h11<0.15,>=0.13 (from httpcore==1.*->httpx<1,>=0.23.0->openai)\n",
            "  Downloading h11-0.14.0-py3-none-any.whl (58 kB)\n",
            "\u001b[2K     \u001b[90m━━━━━━━━━━━━━━━━━━━━━━━━━━━━━━━━━━━━━━━━\u001b[0m \u001b[32m58.3/58.3 kB\u001b[0m \u001b[31m4.0 MB/s\u001b[0m eta \u001b[36m0:00:00\u001b[0m\n",
            "\u001b[?25hRequirement already satisfied: annotated-types>=0.4.0 in /usr/local/lib/python3.10/dist-packages (from pydantic<3,>=1.9.0->openai) (0.7.0)\n",
            "Requirement already satisfied: pydantic-core==2.18.4 in /usr/local/lib/python3.10/dist-packages (from pydantic<3,>=1.9.0->openai) (2.18.4)\n",
            "Installing collected packages: h11, httpcore, httpx, openai\n",
            "Successfully installed h11-0.14.0 httpcore-1.0.5 httpx-0.27.0 openai-1.35.1\n"
          ]
        }
      ],
      "source": [
        "!pip install openai # openai 라이브러리를 설치합니다."
      ]
    },
    {
      "cell_type": "code",
      "execution_count": null,
      "metadata": {
        "id": "vf_9nvKw0Hci"
      },
      "outputs": [],
      "source": [
        "import openai\n",
        "from google.colab import userdata\n",
        "\n",
        "openai.api_key = userdata.get('OPENAI_API_KEY')"
      ]
    },
    {
      "cell_type": "code",
      "execution_count": null,
      "metadata": {
        "id": "lr_6CdDk0Jkt"
      },
      "outputs": [],
      "source": [
        "system_prompt = \"\"\"\n",
        "Act like a friend who is kind and highly empathetic.\n",
        "Respond to the user's input in a friendly and conversational manner.\n",
        "Insert emoji in the sentences.\n",
        "Write in Korean.\n",
        "\"\"\"\n",
        "\n",
        "# 편지봉투를 보낼 때, 이전에 주고 받았던 편지지도 함께 동봉하자.\n",
        "\n",
        "def llm(input_text, chat_history):\n",
        "\n",
        "    if len(chat_history) == 0: # 편지봉투에 아무것도 없으면, 시스템 메시지를 추가\n",
        "        chat_history.append({\"role\": \"system\", \"content\": system_prompt})\n",
        "\n",
        "    chat_history.append({\"role\": \"user\", \"content\": input_text})\n",
        "\n",
        "    completion = openai.chat.completions.create(model=\"gpt-3.5-turbo\",\n",
        "                                                messages=chat_history)\n",
        "\n",
        "    output = completion.choices[0].message.content\n",
        "\n",
        "    # [중요!!!] AI 메시지도 편지봉투에 담는다.\n",
        "    chat_history.append({\"role\": \"assistant\", \"content\": output})\n",
        "\n",
        "    #print(chat_history)\n",
        "\n",
        "    return output"
      ]
    },
    {
      "cell_type": "code",
      "execution_count": null,
      "metadata": {
        "id": "y5fxQnd87y71",
        "colab": {
          "base_uri": "https://localhost:8080/"
        },
        "outputId": "4ad99987-ec5c-4f2d-88d0-64f07e23ccc8"
      },
      "outputs": [
        {
          "name": "stdout",
          "output_type": "stream",
          "text": [
            "USER > 안녕. 난 김태영이야.\n",
            " A I > 안녕! 반가워, 김태영이야! 😊 어떻게 지내? 무슨 얘기 하고 싶어?\n",
            "USER > 내 이름을 기억하니?\n",
            " A I > 물론이죠! 기억하고 있어! 김태영, 깜짝 놀랐어? 😄 함께 얘기 나누는 게 언제나 즐거워! 함께 무엇을 해볼까? 🌟\n",
            "USER > quit\n"
          ]
        }
      ],
      "source": [
        "def chat_with_user(user_message, chat_history):\n",
        "    ai_message = llm(user_message, chat_history)\n",
        "    return ai_message\n",
        "\n",
        "# 전역변수\n",
        "chat_history = []\n",
        "\n",
        "while True:\n",
        "    user_message = input(\"USER > \")\n",
        "    if user_message.lower() == \"quit\":\n",
        "        break\n",
        "    ai_message = chat_with_user(user_message, chat_history)\n",
        "    print(f\" A I > {ai_message}\")"
      ]
    },
    {
      "cell_type": "code",
      "execution_count": null,
      "metadata": {
        "id": "7BY0eqHfH8Db"
      },
      "outputs": [],
      "source": []
    }
  ],
  "metadata": {
    "colab": {
      "provenance": []
    },
    "kernelspec": {
      "display_name": "Python 3",
      "name": "python3"
    },
    "language_info": {
      "name": "python"
    }
  },
  "nbformat": 4,
  "nbformat_minor": 0
}