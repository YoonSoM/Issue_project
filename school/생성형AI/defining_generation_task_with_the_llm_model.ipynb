{
  "nbformat": 4,
  "nbformat_minor": 0,
  "metadata": {
    "colab": {
      "provenance": []
    },
    "kernelspec": {
      "name": "python3",
      "display_name": "Python 3"
    },
    "language_info": {
      "name": "python"
    }
  },
  "cells": [
    {
      "cell_type": "markdown",
      "source": [
        "# 기본 llm 함수"
      ],
      "metadata": {
        "id": "V-blS0HYU1L4"
      }
    },
    {
      "cell_type": "code",
      "execution_count": null,
      "metadata": {
        "id": "Zf2gSL8R0DL_"
      },
      "outputs": [],
      "source": [
        "# prompt > llm > respond\n",
        "# prompt : text\n",
        "# response : text\n",
        "\n",
        "def llm(prompt):\n",
        "    response = '감사합니다.'\n",
        "    return response"
      ]
    },
    {
      "cell_type": "code",
      "source": [
        "llm('안녕?')"
      ],
      "metadata": {
        "colab": {
          "base_uri": "https://localhost:8080/",
          "height": 35
        },
        "id": "3v0ksVigwZWu",
        "outputId": "e5aa8383-2785-486a-aa3f-2315725b9491"
      },
      "execution_count": null,
      "outputs": [
        {
          "output_type": "execute_result",
          "data": {
            "text/plain": [
              "'감사합니다.'"
            ],
            "application/vnd.google.colaboratory.intrinsic+json": {
              "type": "string"
            }
          },
          "metadata": {},
          "execution_count": 2
        }
      ]
    },
    {
      "cell_type": "markdown",
      "source": [
        "# 텍스트 생성\n",
        "\n",
        "- 입력되는 텍스트에 대한 응답을 생성\n",
        "- 예시) 맛집 댓글에 대한 답글 생성"
      ],
      "metadata": {
        "id": "-WP6v9LVV8ps"
      }
    },
    {
      "cell_type": "code",
      "source": [
        "def generate_reply(input_text):\n",
        "    # input_text에 대한 답글을 작성한다.\n",
        "    output = llm(input_text)\n",
        "    return output\n",
        "\n",
        "comments = [\n",
        "    \"여기 음식은 언제 와도 실망시키지 않아요. 최고!\",\n",
        "    \"여기 라멘 진짜 ㄹㅇ 맛있어요. 국물이 진하고 면도 쫄깃해서 너무 좋았습니다.\",\n",
        "    \"진짜 깔끔하고, 맛도 좋았어요. 추천합니다!\",\n",
        "    \"왜 이렇게 유명한지 모르겠음ㅋㅋ ㄹㅈㄷ 맛없음\",\n",
        "    \"인생 타르트를 여기서 만났어요❤️ 달지 않고 고소해서 정말 추천합니다!\",\n",
        "    \"메뉴 설명을 너무 친절하게 해주셔서 고르기 수월했어요.\",\n",
        "    \"사진과 음식이 너무 달라서 실망했습니다.\",\n",
        "    \"주변에 추천하려고 사진도 많이 찍었어요. 좋아요!\",\n",
        "    \"솔직히...? 맛이 그닥이에요. 리뷰랑 너무 다르네.\",\n",
        "    \"진짜 개꿀맛..ㅠ 다른곳 안가.\"\n",
        "]\n",
        "\n",
        "for comment in comments:\n",
        "    reply_comment = generate_reply(comment)\n",
        "\n",
        "    print(\"comment : \", comment)\n",
        "    print(\"reply : \", reply_comment)"
      ],
      "metadata": {
        "colab": {
          "base_uri": "https://localhost:8080/"
        },
        "id": "zgJ_NhDk6auJ",
        "outputId": "1b7203ab-6d63-45b8-cfaa-73b1ccaabc56"
      },
      "execution_count": null,
      "outputs": [
        {
          "output_type": "stream",
          "name": "stdout",
          "text": [
            "comment :  여기 음식은 언제 와도 실망시키지 않아요. 최고!\n",
            "reply :  감사합니다.\n",
            "comment :  여기 라멘 진짜 ㄹㅇ 맛있어요. 국물이 진하고 면도 쫄깃해서 너무 좋았습니다.\n",
            "reply :  감사합니다.\n",
            "comment :  진짜 깔끔하고, 맛도 좋았어요. 추천합니다!\n",
            "reply :  감사합니다.\n",
            "comment :  왜 이렇게 유명한지 모르겠음ㅋㅋ ㄹㅈㄷ 맛없음\n",
            "reply :  감사합니다.\n",
            "comment :  인생 타르트를 여기서 만났어요❤️ 달지 않고 고소해서 정말 추천합니다!\n",
            "reply :  감사합니다.\n",
            "comment :  메뉴 설명을 너무 친절하게 해주셔서 고르기 수월했어요.\n",
            "reply :  감사합니다.\n",
            "comment :  사진과 음식이 너무 달라서 실망했습니다.\n",
            "reply :  감사합니다.\n",
            "comment :  주변에 추천하려고 사진도 많이 찍었어요. 좋아요!\n",
            "reply :  감사합니다.\n",
            "comment :  솔직히...? 맛이 그닥이에요. 리뷰랑 너무 다르네.\n",
            "reply :  감사합니다.\n",
            "comment :  진짜 개꿀맛..ㅠ 다른곳 안가.\n",
            "reply :  감사합니다.\n"
          ]
        }
      ]
    },
    {
      "cell_type": "markdown",
      "source": [
        "# 챗봇 태스크\n",
        "\n",
        "- 코랩에서 바로 챗팅을 해볼 수 있는 input() 함수를 사용합니다.\n",
        "- 다른 툴 : streamit, gradio"
      ],
      "metadata": {
        "id": "Rrp34PSxWPom"
      }
    },
    {
      "cell_type": "code",
      "source": [
        "def llm(prompt):\n",
        "    response = '안녕하세요~ 무엇을 도와드릴까요?'\n",
        "    return response\n",
        "\n",
        "def chat_with_user(user_message):\n",
        "\n",
        "    # user_message에 대한 ai_message 출력\n",
        "    ai_message = llm(user_message)\n",
        "\n",
        "    return ai_message\n",
        "\n",
        "# 사용자가 quit이라고 입력하기 전까지 무한루프\n",
        "while True:\n",
        "    user_message = input(\"USER > \")\n",
        "\n",
        "    if user_message.lower() == \"quit\": # 대문자로 입력해도 처리되도록 함\n",
        "        break\n",
        "\n",
        "    ai_message = chat_with_user(user_message)\n",
        "\n",
        "    print(f\" A I > {ai_message}\")"
      ],
      "metadata": {
        "colab": {
          "base_uri": "https://localhost:8080/"
        },
        "id": "c-QgQKaY6wFe",
        "outputId": "30b545cd-0958-488c-d9d4-686fbff8d286"
      },
      "execution_count": null,
      "outputs": [
        {
          "name": "stdout",
          "output_type": "stream",
          "text": [
            "USER > 안녕하세요.\n",
            " A I > 안녕하세요~ 무엇을 도와드릴까요?\n",
            "USER > 저는 김태영입니다. \n",
            " A I > 안녕하세요~ 무엇을 도와드릴까요?\n",
            "USER > 지금 몇 시 인가요?\n",
            " A I > 안녕하세요~ 무엇을 도와드릴까요?\n",
            "USER > quit\n"
          ]
        }
      ]
    },
    {
      "cell_type": "code",
      "source": [],
      "metadata": {
        "id": "mZJMAr4o3jQH"
      },
      "execution_count": null,
      "outputs": []
    }
  ]
}