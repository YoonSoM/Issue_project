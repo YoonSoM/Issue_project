{
  "nbformat": 4,
  "nbformat_minor": 0,
  "metadata": {
    "colab": {
      "provenance": []
    },
    "kernelspec": {
      "name": "python3",
      "display_name": "Python 3"
    },
    "language_info": {
      "name": "python"
    }
  },
  "cells": [
    {
      "cell_type": "markdown",
      "source": [
        "OpenAI API(챗 완성) 사용해보기"
      ],
      "metadata": {
        "id": "u-KIIvQ5NKJP"
      }
    },
    {
      "cell_type": "code",
      "execution_count": null,
      "metadata": {
        "id": "GHgrhVbLnM6I",
        "colab": {
          "base_uri": "https://localhost:8080/"
        },
        "outputId": "3b9cc4a6-6364-4004-f80b-0434466c3a34"
      },
      "outputs": [
        {
          "output_type": "stream",
          "name": "stdout",
          "text": [
            "Collecting openai==0.28\n",
            "  Downloading openai-0.28.0-py3-none-any.whl (76 kB)\n",
            "\u001b[2K     \u001b[90m━━━━━━━━━━━━━━━━━━━━━━━━━━━━━━━━━━━━━━━━\u001b[0m \u001b[32m76.5/76.5 kB\u001b[0m \u001b[31m699.8 kB/s\u001b[0m eta \u001b[36m0:00:00\u001b[0m\n",
            "\u001b[?25hRequirement already satisfied: requests>=2.20 in /usr/local/lib/python3.10/dist-packages (from openai==0.28) (2.31.0)\n",
            "Requirement already satisfied: tqdm in /usr/local/lib/python3.10/dist-packages (from openai==0.28) (4.66.4)\n",
            "Requirement already satisfied: aiohttp in /usr/local/lib/python3.10/dist-packages (from openai==0.28) (3.9.5)\n",
            "Requirement already satisfied: charset-normalizer<4,>=2 in /usr/local/lib/python3.10/dist-packages (from requests>=2.20->openai==0.28) (3.3.2)\n",
            "Requirement already satisfied: idna<4,>=2.5 in /usr/local/lib/python3.10/dist-packages (from requests>=2.20->openai==0.28) (3.7)\n",
            "Requirement already satisfied: urllib3<3,>=1.21.1 in /usr/local/lib/python3.10/dist-packages (from requests>=2.20->openai==0.28) (2.0.7)\n",
            "Requirement already satisfied: certifi>=2017.4.17 in /usr/local/lib/python3.10/dist-packages (from requests>=2.20->openai==0.28) (2024.6.2)\n",
            "Requirement already satisfied: aiosignal>=1.1.2 in /usr/local/lib/python3.10/dist-packages (from aiohttp->openai==0.28) (1.3.1)\n",
            "Requirement already satisfied: attrs>=17.3.0 in /usr/local/lib/python3.10/dist-packages (from aiohttp->openai==0.28) (23.2.0)\n",
            "Requirement already satisfied: frozenlist>=1.1.1 in /usr/local/lib/python3.10/dist-packages (from aiohttp->openai==0.28) (1.4.1)\n",
            "Requirement already satisfied: multidict<7.0,>=4.5 in /usr/local/lib/python3.10/dist-packages (from aiohttp->openai==0.28) (6.0.5)\n",
            "Requirement already satisfied: yarl<2.0,>=1.0 in /usr/local/lib/python3.10/dist-packages (from aiohttp->openai==0.28) (1.9.4)\n",
            "Requirement already satisfied: async-timeout<5.0,>=4.0 in /usr/local/lib/python3.10/dist-packages (from aiohttp->openai==0.28) (4.0.3)\n",
            "Installing collected packages: openai\n",
            "Successfully installed openai-0.28.0\n"
          ]
        }
      ],
      "source": [
        "!pip install openai==0.28 # openai 라이브러리를 설치합니다."
      ]
    },
    {
      "cell_type": "code",
      "source": [
        "import openai\n",
        "from google.colab import userdata\n",
        "\n",
        "openai.api_key = userdata.get('OPENAI_API_KEY')"
      ],
      "metadata": {
        "id": "C5uYZQknXLDM"
      },
      "execution_count": null,
      "outputs": []
    },
    {
      "cell_type": "code",
      "source": [
        "import json\n",
        "\n",
        "# 개발자가 연동을 하고 싶은 함수를 정의한다.\n",
        "# Example dummy function hard coded to return the same weather\n",
        "# In production, this could be your backend API or an external API\n",
        "def get_current_weather(location, unit = \"celsius\"):\n",
        "\n",
        "    weather_info = {\n",
        "        \"location\": location,\n",
        "        \"temperature\": \"24\",\n",
        "        \"unit\": unit,\n",
        "        \"forecast\": [\"sunny\", \"windy\"],\n",
        "    }\n",
        "\n",
        "    return json.dumps(weather_info)"
      ],
      "metadata": {
        "id": "QpKZaIoPc2Hd"
      },
      "execution_count": null,
      "outputs": []
    },
    {
      "cell_type": "code",
      "source": [
        "ret = get_current_weather('서울')"
      ],
      "metadata": {
        "id": "uG9djoordB08"
      },
      "execution_count": null,
      "outputs": []
    },
    {
      "cell_type": "code",
      "source": [
        "print(ret)"
      ],
      "metadata": {
        "colab": {
          "base_uri": "https://localhost:8080/"
        },
        "id": "dRz4EX9sdDCj",
        "outputId": "53809878-cd89-4875-c128-e1960884584f"
      },
      "execution_count": null,
      "outputs": [
        {
          "output_type": "stream",
          "name": "stdout",
          "text": [
            "{\"location\": \"\\uc11c\\uc6b8\", \"temperature\": \"24\", \"unit\": \"celsius\", \"forecast\": [\"sunny\", \"windy\"]}\n"
          ]
        }
      ]
    },
    {
      "cell_type": "code",
      "source": [
        "def get_gps():\n",
        "    return '서울'"
      ],
      "metadata": {
        "id": "nFPKbmmedenu"
      },
      "execution_count": null,
      "outputs": []
    },
    {
      "cell_type": "code",
      "source": [
        "# 함수 호출을 위한 dict\n",
        "\n",
        "available_functions = {\n",
        "    \"get_current_weather\": get_current_weather,\n",
        "    \"get_location_from_gps\" : get_gps, # 일부러 이름을 다르게 함 (이유: 이해를 돕기 위해)\n",
        "}\n",
        "\n",
        "# dict (사전)\n",
        "# 사과(키) : 빨간색의 ... (밸류)\n",
        "# 바나나(키) : 노란색의 ...(밸류)\n",
        "\n",
        "# 사용설명서 : LLM에게 넘길 함수명 기재\n",
        "# dict key : LLM이 특정했을 때, 받을 함수명\n",
        "# 함수명을 받았으면, 그 이름에 해당하는 함수를 호출해야기 때문에\n",
        "# 이 매칭을 위한 dict가 필요하다."
      ],
      "metadata": {
        "id": "LNPdhR0ZdKL7"
      },
      "execution_count": null,
      "outputs": []
    },
    {
      "cell_type": "code",
      "source": [
        "ret = available_functions[\"get_current_weather\"]('서울')\n",
        "\n",
        "# ret = get_current_weather('서울')\n",
        "\n",
        "print(ret)"
      ],
      "metadata": {
        "colab": {
          "base_uri": "https://localhost:8080/"
        },
        "id": "CrDDdP0idSpN",
        "outputId": "8a4fbe3f-b093-4ec2-aec1-30bc84b6348b"
      },
      "execution_count": null,
      "outputs": [
        {
          "output_type": "stream",
          "name": "stdout",
          "text": [
            "{\"location\": \"\\uc11c\\uc6b8\", \"temperature\": \"24\", \"unit\": \"celsius\", \"forecast\": [\"sunny\", \"windy\"]}\n"
          ]
        }
      ]
    },
    {
      "cell_type": "code",
      "source": [
        "ret = available_functions[\"get_location_from_gps\"]()\n",
        "\n",
        "# ret = get_gps()\n",
        "\n",
        "print(ret)"
      ],
      "metadata": {
        "colab": {
          "base_uri": "https://localhost:8080/"
        },
        "id": "CT7fLeuudi1C",
        "outputId": "cb9b5255-74a0-4938-cc8c-7bb7930a8239"
      },
      "execution_count": null,
      "outputs": [
        {
          "output_type": "stream",
          "name": "stdout",
          "text": [
            "서울\n"
          ]
        }
      ]
    },
    {
      "cell_type": "code",
      "source": [
        "def run_conversation(input_text):\n",
        "    # Step 1: send the conversation and available functions to GPT\n",
        "    messages = [\n",
        "        {\"role\": \"user\", \"content\": \"input_text\"}\n",
        "    ]\n",
        "\n",
        "    # 함수 설명서를 작성 for LLM\n",
        "    functions = [\n",
        "        {\n",
        "            \"name\": \"get_current_weather\",\n",
        "            \"description\": \"Get the current weather in a given location\",\n",
        "            \"parameters\": {\n",
        "                \"type\": \"object\",\n",
        "                \"properties\": {\n",
        "                    \"location\": {\n",
        "                        \"type\": \"string\",\n",
        "                        \"description\": \"The city and state, e.g. San Francisco, CA\",\n",
        "                    },\n",
        "                    \"unit\": {\n",
        "                        \"type\": \"string\",\n",
        "                        \"enum\": [\"celsius\", \"fahrenheit\"]\n",
        "                    },\n",
        "                },\n",
        "                \"required\": [\"location\"],\n",
        "            },\n",
        "        }\n",
        "    ]\n",
        "\n",
        "    response = openai.ChatCompletion.create(\n",
        "        model = \"gpt-3.5-turbo-0613\",\n",
        "        messages = messages,\n",
        "        functions = functions,\n",
        "        function_call = \"auto\",  # auto is default, but we'll be explicit\n",
        "    )\n",
        "\n",
        "    print(response)\n",
        "\n",
        "    # 함수 선정을 했는 지 안했는 지는 어떻게 알지?\n",
        "\n",
        "    response_message = response[\"choices\"][0][\"message\"]\n",
        "\n",
        "    # 함수 특정에 성공하면 \"function_call\" 키가 존재합니다.\n",
        "    print(response_message)\n",
        "\n",
        "    # function_call키가 있으면 contents = null\n",
        "    # contents = xxx function_call키가 없음\n",
        "    # Step 2: check if GPT wanted to call a function\n",
        "    if response_message.get(\"function_call\"): # 함수 특정에 성공했다면,\n",
        "        # Step 3: call the function\n",
        "        # Note: the JSON response may not always be valid; be sure to handle errors\n",
        "\n",
        "        # 함수 이름과 인자를 얻어온다.\n",
        "        function_name = response_message[\"function_call\"][\"name\"]\n",
        "        function_args = json.loads(response_message[\"function_call\"][\"arguments\"])\n",
        "\n",
        "        # response_message : function_call, name, arguments\n",
        "        # 함수 이름과 인자 정보를 담은 메시지를 추가한다.\n",
        "        messages.append(response_message)  # extend conversation with assistant's reply\n",
        "\n",
        "        # 함수를 호출해서 그 결과를 얻는다.\n",
        "        function_response = available_functions[function_name](\n",
        "            location = function_args.get(\"location\"),\n",
        "            unit = function_args.get(\"unit\"),\n",
        "        )\n",
        "\n",
        "        # 함수 호출 결과를 메시지에 추가한다.\n",
        "        messages.append(\n",
        "            {\n",
        "                \"role\": \"function\", # 역할 : 함수 호출 결과는 역할을 function으로 설정한다.\n",
        "                \"name\": function_name,\n",
        "                \"content\": function_response,\n",
        "            }\n",
        "        )  # extend conversation with function response\n",
        "\n",
        "        print(\"## messages ##\")\n",
        "        print(messages)\n",
        "        print(\"## messages ##\")\n",
        "\n",
        "        second_response = openai.ChatCompletion.create(\n",
        "            model = \"gpt-3.5-turbo-0613\",\n",
        "            messages = messages, # 사용자 요청사항, 함수 이름 및 인자, 함수 호출 결과\n",
        "        )  # get a new response from GPT where it can see the function response\n",
        "\n",
        "        second_response = second_response[\"choices\"][0][\"message\"]\n",
        "\n",
        "        return second_response\n",
        "    else:\n",
        "        return response"
      ],
      "metadata": {
        "id": "fEdzDpLWA3-Z"
      },
      "execution_count": null,
      "outputs": []
    },
    {
      "cell_type": "code",
      "source": [
        "response = run_conversation(\"hello\")\n",
        "\n",
        "print(response)"
      ],
      "metadata": {
        "colab": {
          "base_uri": "https://localhost:8080/"
        },
        "id": "3Or_V7ujUuXt",
        "outputId": "8f9fa1b0-3329-4f7b-dbc9-a5b5285c21d9"
      },
      "execution_count": null,
      "outputs": [
        {
          "output_type": "stream",
          "name": "stdout",
          "text": [
            "{\n",
            "  \"id\": \"chatcmpl-9c73XuCq8MNCmQOjdsnI61m3LizBs\",\n",
            "  \"object\": \"chat.completion\",\n",
            "  \"created\": 1718870615,\n",
            "  \"model\": \"gpt-3.5-turbo-0613\",\n",
            "  \"choices\": [\n",
            "    {\n",
            "      \"index\": 0,\n",
            "      \"message\": {\n",
            "        \"role\": \"assistant\",\n",
            "        \"content\": \"Hi there! How can I assist you today?\"\n",
            "      },\n",
            "      \"logprobs\": null,\n",
            "      \"finish_reason\": \"stop\"\n",
            "    }\n",
            "  ],\n",
            "  \"usage\": {\n",
            "    \"prompt_tokens\": 75,\n",
            "    \"completion_tokens\": 11,\n",
            "    \"total_tokens\": 86\n",
            "  },\n",
            "  \"system_fingerprint\": null\n",
            "}\n",
            "{\n",
            "  \"role\": \"assistant\",\n",
            "  \"content\": \"Hi there! How can I assist you today?\"\n",
            "}\n",
            "{\n",
            "  \"id\": \"chatcmpl-9c73XuCq8MNCmQOjdsnI61m3LizBs\",\n",
            "  \"object\": \"chat.completion\",\n",
            "  \"created\": 1718870615,\n",
            "  \"model\": \"gpt-3.5-turbo-0613\",\n",
            "  \"choices\": [\n",
            "    {\n",
            "      \"index\": 0,\n",
            "      \"message\": {\n",
            "        \"role\": \"assistant\",\n",
            "        \"content\": \"Hi there! How can I assist you today?\"\n",
            "      },\n",
            "      \"logprobs\": null,\n",
            "      \"finish_reason\": \"stop\"\n",
            "    }\n",
            "  ],\n",
            "  \"usage\": {\n",
            "    \"prompt_tokens\": 75,\n",
            "    \"completion_tokens\": 11,\n",
            "    \"total_tokens\": 86\n",
            "  },\n",
            "  \"system_fingerprint\": null\n",
            "}\n"
          ]
        }
      ]
    },
    {
      "cell_type": "code",
      "source": [
        "response = run_conversation(\"What's the weather in Seoul?\")\n",
        "\n",
        "print(response)"
      ],
      "metadata": {
        "colab": {
          "base_uri": "https://localhost:8080/"
        },
        "id": "cgPIjF7yRc2x",
        "outputId": "5369bef4-024e-4f89-9859-4006cd870ee9"
      },
      "execution_count": null,
      "outputs": [
        {
          "output_type": "stream",
          "name": "stdout",
          "text": [
            "{\n",
            "  \"id\": \"chatcmpl-9c73Y9PqSGPnxGqFMZn2bm4gVbLnV\",\n",
            "  \"object\": \"chat.completion\",\n",
            "  \"created\": 1718870616,\n",
            "  \"model\": \"gpt-3.5-turbo-0613\",\n",
            "  \"choices\": [\n",
            "    {\n",
            "      \"index\": 0,\n",
            "      \"message\": {\n",
            "        \"role\": \"assistant\",\n",
            "        \"content\": null,\n",
            "        \"function_call\": {\n",
            "          \"name\": \"get_current_weather\",\n",
            "          \"arguments\": \"{\\n  \\\"location\\\": \\\"Seoul\\\"\\n}\"\n",
            "        }\n",
            "      },\n",
            "      \"logprobs\": null,\n",
            "      \"finish_reason\": \"function_call\"\n",
            "    }\n",
            "  ],\n",
            "  \"usage\": {\n",
            "    \"prompt_tokens\": 81,\n",
            "    \"completion_tokens\": 17,\n",
            "    \"total_tokens\": 98\n",
            "  },\n",
            "  \"system_fingerprint\": null\n",
            "}\n",
            "{\n",
            "  \"role\": \"assistant\",\n",
            "  \"content\": null,\n",
            "  \"function_call\": {\n",
            "    \"name\": \"get_current_weather\",\n",
            "    \"arguments\": \"{\\n  \\\"location\\\": \\\"Seoul\\\"\\n}\"\n",
            "  }\n",
            "}\n",
            "## messages ##\n",
            "[{'role': 'user', 'content': \"What's the weather in Seoul?\"}, <OpenAIObject at 0x7f4ceff70680> JSON: {\n",
            "  \"role\": \"assistant\",\n",
            "  \"content\": null,\n",
            "  \"function_call\": {\n",
            "    \"name\": \"get_current_weather\",\n",
            "    \"arguments\": \"{\\n  \\\"location\\\": \\\"Seoul\\\"\\n}\"\n",
            "  }\n",
            "}, {'role': 'function', 'name': 'get_current_weather', 'content': '{\"location\": \"Seoul\", \"temperature\": \"24\", \"unit\": null, \"forecast\": [\"sunny\", \"windy\"]}'}]\n",
            "## messages ##\n",
            "{\n",
            "  \"role\": \"assistant\",\n",
            "  \"content\": \"The current weather in Seoul is sunny and windy with a temperature of 24 degrees Celsius.\"\n",
            "}\n"
          ]
        }
      ]
    },
    {
      "cell_type": "code",
      "source": [
        "response = run_conversation(\"What's the weather?\")\n",
        "print(response)"
      ],
      "metadata": {
        "colab": {
          "base_uri": "https://localhost:8080/"
        },
        "id": "V9yEPGfURuTB",
        "outputId": "5982bf03-8694-474b-821b-aed96c958c63"
      },
      "execution_count": null,
      "outputs": [
        {
          "output_type": "stream",
          "name": "stdout",
          "text": [
            "{\n",
            "  \"id\": \"chatcmpl-9c73adF4ZlezwKpLl2eQYRjxRz7AF\",\n",
            "  \"object\": \"chat.completion\",\n",
            "  \"created\": 1718870618,\n",
            "  \"model\": \"gpt-3.5-turbo-0613\",\n",
            "  \"choices\": [\n",
            "    {\n",
            "      \"index\": 0,\n",
            "      \"message\": {\n",
            "        \"role\": \"assistant\",\n",
            "        \"content\": \"In order to provide you with the current weather, could you please let me know the location you are interested in?\"\n",
            "      },\n",
            "      \"logprobs\": null,\n",
            "      \"finish_reason\": \"stop\"\n",
            "    }\n",
            "  ],\n",
            "  \"usage\": {\n",
            "    \"prompt_tokens\": 79,\n",
            "    \"completion_tokens\": 24,\n",
            "    \"total_tokens\": 103\n",
            "  },\n",
            "  \"system_fingerprint\": null\n",
            "}\n",
            "{\n",
            "  \"role\": \"assistant\",\n",
            "  \"content\": \"In order to provide you with the current weather, could you please let me know the location you are interested in?\"\n",
            "}\n",
            "{\n",
            "  \"id\": \"chatcmpl-9c73adF4ZlezwKpLl2eQYRjxRz7AF\",\n",
            "  \"object\": \"chat.completion\",\n",
            "  \"created\": 1718870618,\n",
            "  \"model\": \"gpt-3.5-turbo-0613\",\n",
            "  \"choices\": [\n",
            "    {\n",
            "      \"index\": 0,\n",
            "      \"message\": {\n",
            "        \"role\": \"assistant\",\n",
            "        \"content\": \"In order to provide you with the current weather, could you please let me know the location you are interested in?\"\n",
            "      },\n",
            "      \"logprobs\": null,\n",
            "      \"finish_reason\": \"stop\"\n",
            "    }\n",
            "  ],\n",
            "  \"usage\": {\n",
            "    \"prompt_tokens\": 79,\n",
            "    \"completion_tokens\": 24,\n",
            "    \"total_tokens\": 103\n",
            "  },\n",
            "  \"system_fingerprint\": null\n",
            "}\n"
          ]
        }
      ]
    },
    {
      "cell_type": "code",
      "source": [
        "def run_conversation(user_input_text):\n",
        "    # Step 1: send the conversation and available functions to GPT\n",
        "    messages = [{\"role\": \"user\", \"content\": user_input_text}]\n",
        "    functions = [\n",
        "        {\n",
        "            \"name\": \"get_current_weather\",\n",
        "            \"description\": \"Get the current weather in a given location\",\n",
        "            \"parameters\": {\n",
        "                \"type\": \"object\",\n",
        "                \"properties\": {\n",
        "                    \"location\": {\n",
        "                        \"type\": \"string\",\n",
        "                        \"description\": \"The city and state, e.g. San Francisco, CA\",\n",
        "                    },\n",
        "                    \"unit\": {\"type\": \"string\", \"enum\": [\"celsius\", \"fahrenheit\"]},\n",
        "                },\n",
        "                \"required\": [\"location\"],\n",
        "            },\n",
        "        },\n",
        "        {\n",
        "            \"name\": \"get_location_from_gps\",\n",
        "            \"description\": \"Get the current location\",\n",
        "            \"parameters\": {\n",
        "                \"type\": \"object\",\n",
        "                \"properties\": {\n",
        "                    \"unit\": {\"type\": \"string\"},\n",
        "                },\n",
        "                \"required\": [],\n",
        "            },\n",
        "        }\n",
        "    ]\n",
        "    response = openai.ChatCompletion.create(\n",
        "        model = \"gpt-3.5-turbo-0613\",\n",
        "        messages = messages,\n",
        "        functions = functions,\n",
        "        function_call = \"auto\",  # auto is default, but we'll be explicit\n",
        "    )\n",
        "\n",
        "    print(response)\n",
        "\n",
        "    response_message = response[\"choices\"][0][\"message\"]\n",
        "\n",
        "    print(response_message)\n",
        "\n",
        "    # Step 2: check if GPT wanted to call a function\n",
        "    if response_message.get(\"function_call\"):\n",
        "        # Step 3: call the function\n",
        "        # Note: the JSON response may not always be valid; be sure to handle errors\n",
        "\n",
        "        # 함수 이름과 함수 인자를 얻는다.\n",
        "        function_name = response_message[\"function_call\"][\"name\"]\n",
        "        function_args = json.loads(response_message[\"function_call\"][\"arguments\"])\n",
        "\n",
        "        # 함수 호출\n",
        "        # 어떤 함수가 호출되는 지 모르기 때문에, 즉 인자를 특정할 수 없다.\n",
        "        function_response = available_functions[function_name](**function_args)\n",
        "\n",
        "        # [중요!!] 함수 이름과 인자 정보 추가\n",
        "        messages.append(response_message)  # extend conversation with assistant's reply\n",
        "\n",
        "        # 함수 호출 결과 추가 (role : function)\n",
        "        messages.append(\n",
        "            {\n",
        "                \"role\": \"function\",\n",
        "                \"name\": function_name,\n",
        "                \"content\": function_response,\n",
        "            }\n",
        "        )  # extend conversation with function response\n",
        "\n",
        "        print(\"## messages ##\")\n",
        "        print(messages)\n",
        "        print(\"## messages ##\")\n",
        "\n",
        "        second_response = openai.ChatCompletion.create(\n",
        "            model=\"gpt-3.5-turbo-0613\",\n",
        "            messages=messages,\n",
        "        )  # get a new response from GPT where it can see the function response\n",
        "\n",
        "        second_response = second_response[\"choices\"][0][\"message\"]\n",
        "\n",
        "        return second_response\n",
        "    else:\n",
        "        return response_message"
      ],
      "metadata": {
        "id": "n1ETB0GFZzG4"
      },
      "execution_count": null,
      "outputs": []
    },
    {
      "cell_type": "code",
      "source": [
        "message = run_conversation(\"현재 위치는 어디인가요?\")\n",
        "\n",
        "print(message.content)"
      ],
      "metadata": {
        "colab": {
          "base_uri": "https://localhost:8080/"
        },
        "id": "NtSAW0zUiXXn",
        "outputId": "a89da602-ba40-47bc-bb91-19d4ab4eb409"
      },
      "execution_count": null,
      "outputs": [
        {
          "output_type": "stream",
          "name": "stdout",
          "text": [
            "{\n",
            "  \"id\": \"chatcmpl-9c73bzrIS2HLf8Ac98dhuaAnD3m37\",\n",
            "  \"object\": \"chat.completion\",\n",
            "  \"created\": 1718870619,\n",
            "  \"model\": \"gpt-3.5-turbo-0613\",\n",
            "  \"choices\": [\n",
            "    {\n",
            "      \"index\": 0,\n",
            "      \"message\": {\n",
            "        \"role\": \"assistant\",\n",
            "        \"content\": null,\n",
            "        \"function_call\": {\n",
            "          \"name\": \"get_location_from_gps\",\n",
            "          \"arguments\": \"{}\"\n",
            "        }\n",
            "      },\n",
            "      \"logprobs\": null,\n",
            "      \"finish_reason\": \"function_call\"\n",
            "    }\n",
            "  ],\n",
            "  \"usage\": {\n",
            "    \"prompt_tokens\": 108,\n",
            "    \"completion_tokens\": 9,\n",
            "    \"total_tokens\": 117\n",
            "  },\n",
            "  \"system_fingerprint\": null\n",
            "}\n",
            "{\n",
            "  \"role\": \"assistant\",\n",
            "  \"content\": null,\n",
            "  \"function_call\": {\n",
            "    \"name\": \"get_location_from_gps\",\n",
            "    \"arguments\": \"{}\"\n",
            "  }\n",
            "}\n",
            "## messages ##\n",
            "[{'role': 'user', 'content': '현재 위치는 어디인가요?'}, <OpenAIObject at 0x7f4ceff71da0> JSON: {\n",
            "  \"role\": \"assistant\",\n",
            "  \"content\": null,\n",
            "  \"function_call\": {\n",
            "    \"name\": \"get_location_from_gps\",\n",
            "    \"arguments\": \"{}\"\n",
            "  }\n",
            "}, {'role': 'function', 'name': 'get_location_from_gps', 'content': '서울'}]\n",
            "## messages ##\n",
            "현재 위치는 서울입니다.\n"
          ]
        }
      ]
    },
    {
      "cell_type": "code",
      "source": [
        "message = run_conversation(\"서울의 날씨는요?\")"
      ],
      "metadata": {
        "colab": {
          "base_uri": "https://localhost:8080/"
        },
        "id": "SAx_lsgQUAUA",
        "outputId": "114dae27-2ceb-4197-813c-1204b3742a7a"
      },
      "execution_count": null,
      "outputs": [
        {
          "output_type": "stream",
          "name": "stdout",
          "text": [
            "{\n",
            "  \"id\": \"chatcmpl-9c73dcBwqVIYViMFgxmCfVlQ7qgyz\",\n",
            "  \"object\": \"chat.completion\",\n",
            "  \"created\": 1718870621,\n",
            "  \"model\": \"gpt-3.5-turbo-0613\",\n",
            "  \"choices\": [\n",
            "    {\n",
            "      \"index\": 0,\n",
            "      \"message\": {\n",
            "        \"role\": \"assistant\",\n",
            "        \"content\": null,\n",
            "        \"function_call\": {\n",
            "          \"name\": \"get_current_weather\",\n",
            "          \"arguments\": \"{\\n  \\\"location\\\": \\\"Seoul\\\"\\n}\"\n",
            "        }\n",
            "      },\n",
            "      \"logprobs\": null,\n",
            "      \"finish_reason\": \"function_call\"\n",
            "    }\n",
            "  ],\n",
            "  \"usage\": {\n",
            "    \"prompt_tokens\": 109,\n",
            "    \"completion_tokens\": 17,\n",
            "    \"total_tokens\": 126\n",
            "  },\n",
            "  \"system_fingerprint\": null\n",
            "}\n",
            "{\n",
            "  \"role\": \"assistant\",\n",
            "  \"content\": null,\n",
            "  \"function_call\": {\n",
            "    \"name\": \"get_current_weather\",\n",
            "    \"arguments\": \"{\\n  \\\"location\\\": \\\"Seoul\\\"\\n}\"\n",
            "  }\n",
            "}\n",
            "## messages ##\n",
            "[{'role': 'user', 'content': '서울의 날씨는요?'}, <OpenAIObject at 0x7f4ceff73c90> JSON: {\n",
            "  \"role\": \"assistant\",\n",
            "  \"content\": null,\n",
            "  \"function_call\": {\n",
            "    \"name\": \"get_current_weather\",\n",
            "    \"arguments\": \"{\\n  \\\"location\\\": \\\"Seoul\\\"\\n}\"\n",
            "  }\n",
            "}, {'role': 'function', 'name': 'get_current_weather', 'content': '{\"location\": \"Seoul\", \"temperature\": \"24\", \"unit\": \"celsius\", \"forecast\": [\"sunny\", \"windy\"]}'}]\n",
            "## messages ##\n"
          ]
        }
      ]
    },
    {
      "cell_type": "code",
      "source": [
        "message.content"
      ],
      "metadata": {
        "colab": {
          "base_uri": "https://localhost:8080/",
          "height": 36
        },
        "id": "PcjVT2W6UCGO",
        "outputId": "3bdaf79c-e821-49f2-a913-c9ad7b1099d6"
      },
      "execution_count": null,
      "outputs": [
        {
          "output_type": "execute_result",
          "data": {
            "text/plain": [
              "'서울의 현재 날씨는 맑고 바람이 강하며, 온도는 24도입니다.'"
            ],
            "application/vnd.google.colaboratory.intrinsic+json": {
              "type": "string"
            }
          },
          "metadata": {},
          "execution_count": 17
        }
      ]
    },
    {
      "cell_type": "code",
      "source": [
        "response = run_conversation(\"안녕하세요.\")"
      ],
      "metadata": {
        "id": "h_W4QV1SUMHr",
        "colab": {
          "base_uri": "https://localhost:8080/"
        },
        "outputId": "7d7e8093-87c2-422c-d731-edd51044e928"
      },
      "execution_count": null,
      "outputs": [
        {
          "output_type": "stream",
          "name": "stdout",
          "text": [
            "{\n",
            "  \"id\": \"chatcmpl-9c73egwMDRqgnkM1oWMZDDIuwPzrT\",\n",
            "  \"object\": \"chat.completion\",\n",
            "  \"created\": 1718870622,\n",
            "  \"model\": \"gpt-3.5-turbo-0613\",\n",
            "  \"choices\": [\n",
            "    {\n",
            "      \"index\": 0,\n",
            "      \"message\": {\n",
            "        \"role\": \"assistant\",\n",
            "        \"content\": \"\\uc548\\ub155\\ud558\\uc138\\uc694! \\ub3c4\\uc6c0\\uc774 \\ud544\\uc694\\ud558\\uc2e0\\uac00\\uc694?\"\n",
            "      },\n",
            "      \"logprobs\": null,\n",
            "      \"finish_reason\": \"stop\"\n",
            "    }\n",
            "  ],\n",
            "  \"usage\": {\n",
            "    \"prompt_tokens\": 103,\n",
            "    \"completion_tokens\": 19,\n",
            "    \"total_tokens\": 122\n",
            "  },\n",
            "  \"system_fingerprint\": null\n",
            "}\n",
            "{\n",
            "  \"role\": \"assistant\",\n",
            "  \"content\": \"\\uc548\\ub155\\ud558\\uc138\\uc694! \\ub3c4\\uc6c0\\uc774 \\ud544\\uc694\\ud558\\uc2e0\\uac00\\uc694?\"\n",
            "}\n"
          ]
        }
      ]
    },
    {
      "cell_type": "code",
      "source": [
        "response.content"
      ],
      "metadata": {
        "colab": {
          "base_uri": "https://localhost:8080/",
          "height": 36
        },
        "id": "chCVMFSHbjE5",
        "outputId": "0cb17f7b-0168-4bec-d06a-be71dd50fc8c"
      },
      "execution_count": null,
      "outputs": [
        {
          "output_type": "execute_result",
          "data": {
            "text/plain": [
              "'안녕하세요! 도움이 필요하신가요?'"
            ],
            "application/vnd.google.colaboratory.intrinsic+json": {
              "type": "string"
            }
          },
          "metadata": {},
          "execution_count": 19
        }
      ]
    },
    {
      "cell_type": "code",
      "source": [
        "response = run_conversation(\"현재 날씨는?\")"
      ],
      "metadata": {
        "colab": {
          "base_uri": "https://localhost:8080/"
        },
        "id": "YQIukFv8blzt",
        "outputId": "c8e850c4-4a2d-420d-c0a3-b2657d80fd42"
      },
      "execution_count": null,
      "outputs": [
        {
          "output_type": "stream",
          "name": "stdout",
          "text": [
            "{\n",
            "  \"id\": \"chatcmpl-9c73eNbFcFY3IhOSUdMPKHrownSGa\",\n",
            "  \"object\": \"chat.completion\",\n",
            "  \"created\": 1718870622,\n",
            "  \"model\": \"gpt-3.5-turbo-0613\",\n",
            "  \"choices\": [\n",
            "    {\n",
            "      \"index\": 0,\n",
            "      \"message\": {\n",
            "        \"role\": \"assistant\",\n",
            "        \"content\": null,\n",
            "        \"function_call\": {\n",
            "          \"name\": \"get_location_from_gps\",\n",
            "          \"arguments\": \"{}\"\n",
            "        }\n",
            "      },\n",
            "      \"logprobs\": null,\n",
            "      \"finish_reason\": \"function_call\"\n",
            "    }\n",
            "  ],\n",
            "  \"usage\": {\n",
            "    \"prompt_tokens\": 106,\n",
            "    \"completion_tokens\": 9,\n",
            "    \"total_tokens\": 115\n",
            "  },\n",
            "  \"system_fingerprint\": null\n",
            "}\n",
            "{\n",
            "  \"role\": \"assistant\",\n",
            "  \"content\": null,\n",
            "  \"function_call\": {\n",
            "    \"name\": \"get_location_from_gps\",\n",
            "    \"arguments\": \"{}\"\n",
            "  }\n",
            "}\n",
            "## messages ##\n",
            "[{'role': 'user', 'content': '현재 날씨는?'}, <OpenAIObject at 0x7f4ceff2cf90> JSON: {\n",
            "  \"role\": \"assistant\",\n",
            "  \"content\": null,\n",
            "  \"function_call\": {\n",
            "    \"name\": \"get_location_from_gps\",\n",
            "    \"arguments\": \"{}\"\n",
            "  }\n",
            "}, {'role': 'function', 'name': 'get_location_from_gps', 'content': '서울'}]\n",
            "## messages ##\n"
          ]
        }
      ]
    },
    {
      "cell_type": "code",
      "source": [
        "response.content"
      ],
      "metadata": {
        "id": "nlhqKwtdSEV3",
        "colab": {
          "base_uri": "https://localhost:8080/",
          "height": 36
        },
        "outputId": "d9b4eab4-30f9-477a-d5ad-398ef3e6e528"
      },
      "execution_count": null,
      "outputs": [
        {
          "output_type": "execute_result",
          "data": {
            "text/plain": [
              "'현재 서울의 날씨는 어떤가요?'"
            ],
            "application/vnd.google.colaboratory.intrinsic+json": {
              "type": "string"
            }
          },
          "metadata": {},
          "execution_count": 21
        }
      ]
    },
    {
      "cell_type": "code",
      "source": [
        "run_conversation(\"What's the weather in Seoul?\")"
      ],
      "metadata": {
        "colab": {
          "base_uri": "https://localhost:8080/"
        },
        "id": "xIXR0iIixcnW",
        "outputId": "2209ff4d-e604-4978-8ae5-220c3ef5ff43"
      },
      "execution_count": null,
      "outputs": [
        {
          "output_type": "stream",
          "name": "stdout",
          "text": [
            "{\n",
            "  \"id\": \"chatcmpl-9c7V8n53BJO9BoI3MEpb40l957o10\",\n",
            "  \"object\": \"chat.completion\",\n",
            "  \"created\": 1718872326,\n",
            "  \"model\": \"gpt-3.5-turbo-0613\",\n",
            "  \"choices\": [\n",
            "    {\n",
            "      \"index\": 0,\n",
            "      \"message\": {\n",
            "        \"role\": \"assistant\",\n",
            "        \"content\": null,\n",
            "        \"function_call\": {\n",
            "          \"name\": \"get_current_weather\",\n",
            "          \"arguments\": \"{\\n  \\\"location\\\": \\\"Seoul\\\"\\n}\"\n",
            "        }\n",
            "      },\n",
            "      \"logprobs\": null,\n",
            "      \"finish_reason\": \"function_call\"\n",
            "    }\n",
            "  ],\n",
            "  \"usage\": {\n",
            "    \"prompt_tokens\": 104,\n",
            "    \"completion_tokens\": 17,\n",
            "    \"total_tokens\": 121\n",
            "  },\n",
            "  \"system_fingerprint\": null\n",
            "}\n",
            "{\n",
            "  \"role\": \"assistant\",\n",
            "  \"content\": null,\n",
            "  \"function_call\": {\n",
            "    \"name\": \"get_current_weather\",\n",
            "    \"arguments\": \"{\\n  \\\"location\\\": \\\"Seoul\\\"\\n}\"\n",
            "  }\n",
            "}\n",
            "## messages ##\n",
            "[{'role': 'user', 'content': \"What's the weather in Seoul?\"}, <OpenAIObject at 0x7f4ceff90770> JSON: {\n",
            "  \"role\": \"assistant\",\n",
            "  \"content\": null,\n",
            "  \"function_call\": {\n",
            "    \"name\": \"get_current_weather\",\n",
            "    \"arguments\": \"{\\n  \\\"location\\\": \\\"Seoul\\\"\\n}\"\n",
            "  }\n",
            "}, {'role': 'function', 'name': 'get_current_weather', 'content': '{\"location\": \"Seoul\", \"temperature\": \"24\", \"unit\": \"celsius\", \"forecast\": [\"sunny\", \"windy\"]}'}]\n",
            "## messages ##\n"
          ]
        },
        {
          "output_type": "execute_result",
          "data": {
            "text/plain": [
              "<OpenAIObject at 0x7f4ceff901d0> JSON: {\n",
              "  \"role\": \"assistant\",\n",
              "  \"content\": \"The current weather in Seoul is sunny and windy with a temperature of 24 degrees Celsius.\"\n",
              "}"
            ]
          },
          "metadata": {},
          "execution_count": 23
        }
      ]
    },
    {
      "cell_type": "code",
      "source": [],
      "metadata": {
        "id": "9rdR_AC6xge8"
      },
      "execution_count": null,
      "outputs": []
    }
  ]
}