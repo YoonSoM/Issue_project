{
 "cells": [
  {
   "cell_type": "code",
   "execution_count": 7,
   "metadata": {},
   "outputs": [
    {
     "name": "stdout",
     "output_type": "stream",
     "text": [
      "Requirement already satisfied: neo4j in c:\\users\\bjkim\\anaconda3\\lib\\site-packages (4.1.1)\n",
      "Requirement already satisfied: pytz in c:\\users\\bjkim\\anaconda3\\lib\\site-packages (from neo4j) (2020.1)\n"
     ]
    }
   ],
   "source": [
    "!pip install neo4j"
   ]
  },
  {
   "cell_type": "code",
   "execution_count": 8,
   "metadata": {},
   "outputs": [],
   "source": [
    "from neo4j import GraphDatabase"
   ]
  },
  {
   "cell_type": "code",
   "execution_count": 9,
   "metadata": {},
   "outputs": [],
   "source": [
    "uri = 'neo4j://localhost:7687'\n",
    "user = 'neo4j'\n",
    "password = '1234'"
   ]
  },
  {
   "cell_type": "code",
   "execution_count": 10,
   "metadata": {},
   "outputs": [],
   "source": [
    "driver = GraphDatabase.driver(uri, auth=(user, password))"
   ]
  },
  {
   "cell_type": "code",
   "execution_count": 11,
   "metadata": {},
   "outputs": [],
   "source": [
    "def get_students(tx):\n",
    "    query = 'MATCH (n:STUDENT) RETURN n.성명 AS 성명, n.학년 AS 학년, n.학과 AS 학과'\n",
    "    result = tx.run(query)    \n",
    "    for record in result:\n",
    "        print(record['성명'], record['학년'], record['학과'])        "
   ]
  },
  {
   "cell_type": "code",
   "execution_count": 12,
   "metadata": {},
   "outputs": [],
   "source": [
    "def run_query(func):    \n",
    "    with driver.session() as session:         \n",
    "        session.read_transaction(func)   "
   ]
  },
  {
   "cell_type": "code",
   "execution_count": 13,
   "metadata": {},
   "outputs": [
    {
     "name": "stdout",
     "output_type": "stream",
     "text": [
      "이몽룡 4학년 컴퓨터공학과\n",
      "성춘향 3학년 컴퓨터공학과\n",
      "변사또 2학년 컴퓨터공학과\n"
     ]
    }
   ],
   "source": [
    "run_query(get_students)"
   ]
  },
  {
   "cell_type": "markdown",
   "metadata": {},
   "source": [
    "---"
   ]
  },
  {
   "cell_type": "code",
   "execution_count": 14,
   "metadata": {},
   "outputs": [
    {
     "name": "stdout",
     "output_type": "stream",
     "text": [
      "이몽룡\n",
      "성춘향\n"
     ]
    }
   ],
   "source": [
    "def get_name(tx):\n",
    "    query = 'MATCH (a:STUDENT) WHERE a.학년 >= $grade RETURN a.성명 AS 성명'\n",
    "    result = tx.run(query, grade = '3학년')    \n",
    "    for record in result:\n",
    "        print(record['성명'])  \n",
    "        \n",
    "run_query(get_name)"
   ]
  },
  {
   "cell_type": "markdown",
   "metadata": {},
   "source": [
    "---"
   ]
  },
  {
   "cell_type": "code",
   "execution_count": 15,
   "metadata": {},
   "outputs": [
    {
     "name": "stdout",
     "output_type": "stream",
     "text": [
      "변사또\n"
     ]
    }
   ],
   "source": [
    "def get_name2(tx):\n",
    "    query = \"\"\"\n",
    "                MATCH (a:STUDENT)-[:수강하다]->(b:SUBJECT{과목명:$subject})\n",
    "                RETURN a.성명 AS 성명\n",
    "            \"\"\"\n",
    "    result = tx.run(query, subject = '딥러닝')    \n",
    "    for record in result:\n",
    "        print(record['성명'])  \n",
    "        \n",
    "run_query(get_name2)        "
   ]
  },
  {
   "cell_type": "markdown",
   "metadata": {},
   "source": [
    "---"
   ]
  },
  {
   "cell_type": "code",
   "execution_count": 16,
   "metadata": {},
   "outputs": [
    {
     "name": "stdout",
     "output_type": "stream",
     "text": [
      "인공지능기초\n"
     ]
    }
   ],
   "source": [
    "def get_subject(tx):\n",
    "    query = \"\"\"\n",
    "                MATCH (a:STUDENT)-[:교제하다]->(b:STUDENT{성명:$name})\n",
    "                MATCH (a) - [:수강하다] -> (d:SUBJECT)\n",
    "                RETURN d.과목명 AS 과목명\n",
    "            \"\"\"\n",
    "    result = tx.run(query, name = '성춘향')    \n",
    "    for record in result:\n",
    "        print(record['과목명'])  \n",
    "        \n",
    "run_query(get_subject) "
   ]
  },
  {
   "cell_type": "markdown",
   "metadata": {},
   "source": [
    "---"
   ]
  },
  {
   "cell_type": "code",
   "execution_count": 17,
   "metadata": {},
   "outputs": [
    {
     "name": "stdout",
     "output_type": "stream",
     "text": [
      "<Node id=3 labels=frozenset({'SUBJECT'}) properties={'과목명': '인공지능기초', '담당교수': '김교수', '학점': 2}>\n",
      "과목명 : 인공지능기초\n",
      "담당교수 : 김교수\n",
      "학점 : 2\n",
      "<Node id=4 labels=frozenset({'SUBJECT'}) properties={'과목명': '딥러닝', '담당교수': '박교수', '학점': 3}>\n",
      "과목명 : 딥러닝\n",
      "담당교수 : 박교수\n",
      "학점 : 3\n"
     ]
    }
   ],
   "source": [
    "def get_all_subject(tx):\n",
    "    query = \"\"\"\n",
    "                MATCH (a:SUBJECT) RETURN a\n",
    "            \"\"\"\n",
    "    result = tx.run(query)    \n",
    "    for record in result:\n",
    "        for node in record: \n",
    "            print(node)\n",
    "            for key, val in node.items():\n",
    "                print(key, ':', val)\n",
    "run_query(get_all_subject) "
   ]
  },
  {
   "cell_type": "code",
   "execution_count": 18,
   "metadata": {},
   "outputs": [],
   "source": [
    "driver.close()"
   ]
  },
  {
   "cell_type": "code",
   "execution_count": null,
   "metadata": {},
   "outputs": [],
   "source": []
  }
 ],
 "metadata": {
  "kernelspec": {
   "display_name": "Python 3",
   "language": "python",
   "name": "python3"
  },
  "language_info": {
   "codemirror_mode": {
    "name": "ipython",
    "version": 3
   },
   "file_extension": ".py",
   "mimetype": "text/x-python",
   "name": "python",
   "nbconvert_exporter": "python",
   "pygments_lexer": "ipython3",
   "version": "3.8.3"
  }
 },
 "nbformat": 4,
 "nbformat_minor": 4
}
