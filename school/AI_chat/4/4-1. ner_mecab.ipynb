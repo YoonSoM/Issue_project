{
 "cells": [
  {
   "cell_type": "code",
   "execution_count": 13,
   "metadata": {},
   "outputs": [],
   "source": [
    "from eunjeon import Mecab"
   ]
  },
  {
   "cell_type": "code",
   "execution_count": 14,
   "metadata": {},
   "outputs": [],
   "source": [
    "text = '스티브잡스가 미국 캘리포니아에 있는 스탠포드대학에서 졸업 연설을 했다'"
   ]
  },
  {
   "cell_type": "code",
   "execution_count": 15,
   "metadata": {},
   "outputs": [],
   "source": [
    "mecab = Mecab()"
   ]
  },
  {
   "cell_type": "code",
   "execution_count": 16,
   "metadata": {},
   "outputs": [
    {
     "data": {
      "text/plain": [
       "['스티브잡스', '미국', '캘리포니아', '스탠포드', '대학', '졸업', '연설']"
      ]
     },
     "execution_count": 16,
     "metadata": {},
     "output_type": "execute_result"
    }
   ],
   "source": [
    "nouns = mecab.nouns(text)\n",
    "nouns"
   ]
  },
  {
   "cell_type": "code",
   "execution_count": 18,
   "metadata": {},
   "outputs": [
    {
     "data": {
      "text/plain": [
       "'스티브잡스 미국 캘리포니아 스탠포드 대학 졸업 연설'"
      ]
     },
     "execution_count": 18,
     "metadata": {},
     "output_type": "execute_result"
    }
   ],
   "source": [
    "merge = ' '.join(nouns)\n",
    "merge"
   ]
  },
  {
   "cell_type": "code",
   "execution_count": 19,
   "metadata": {},
   "outputs": [
    {
     "data": {
      "text/plain": [
       "['스티브잡스\\tNNP,인명,F,스티브잡스,Preanalysis,NNP,NNP,스티브/NNP/인명+잡스/NNP/인명',\n",
       " '미국\\tNNP,지명,T,미국,*,*,*,*',\n",
       " '캘리포니아\\tNNP,지명,F,캘리포니아,*,*,*,*',\n",
       " '스탠포드\\tNNP,인명,F,스탠포드,*,*,*,*',\n",
       " '대학\\tNNG,*,T,대학,*,*,*,*',\n",
       " '졸업\\tNNG,*,T,졸업,*,*,*,*',\n",
       " '연설\\tNNG,*,T,연설,*,*,*,*',\n",
       " 'EOS',\n",
       " '']"
      ]
     },
     "execution_count": 19,
     "metadata": {},
     "output_type": "execute_result"
    }
   ],
   "source": [
    "parsed_msg = mecab.tagger.parse(merge).split('\\n')\n",
    "parsed_msg"
   ]
  },
  {
   "cell_type": "code",
   "execution_count": 20,
   "metadata": {},
   "outputs": [
    {
     "data": {
      "text/plain": [
       "['스탠포드\\tNNP,인명,F,스탠포드,*,*,*,*', '대학\\tNNG,*,T,대학,*,*,*,*', 'EOS', '']"
      ]
     },
     "execution_count": 20,
     "metadata": {},
     "output_type": "execute_result"
    }
   ],
   "source": [
    "st = '스탠포드대학'\n",
    "parsed_msg = mecab.tagger.parse(st).split('\\n')\n",
    "parsed_msg"
   ]
  },
  {
   "cell_type": "code",
   "execution_count": null,
   "metadata": {},
   "outputs": [],
   "source": []
  }
 ],
 "metadata": {
  "kernelspec": {
   "display_name": "Python 3",
   "language": "python",
   "name": "python3"
  },
  "language_info": {
   "codemirror_mode": {
    "name": "ipython",
    "version": 3
   },
   "file_extension": ".py",
   "mimetype": "text/x-python",
   "name": "python",
   "nbconvert_exporter": "python",
   "pygments_lexer": "ipython3",
   "version": "3.8.3"
  }
 },
 "nbformat": 4,
 "nbformat_minor": 4
}
