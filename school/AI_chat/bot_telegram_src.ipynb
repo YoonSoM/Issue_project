{
 "cells": [
  {
   "cell_type": "code",
   "execution_count": 1,
   "metadata": {},
   "outputs": [],
   "source": [
    "import requests\n",
    "import os\n",
    "import json"
   ]
  },
  {
   "cell_type": "code",
   "execution_count": 2,
   "metadata": {},
   "outputs": [],
   "source": [
    "token = '발급받은 토큰을 여기에 입력하세요'"
   ]
  },
  {
   "cell_type": "code",
   "execution_count": 9,
   "metadata": {},
   "outputs": [],
   "source": [
    "url = 'https://api.telegram.org/bot{}/getUpdates'.format(token)\n",
    "response = json.loads(requests.get(url).text) "
   ]
  },
  {
   "cell_type": "code",
   "execution_count": 10,
   "metadata": {},
   "outputs": [
    {
     "data": {
      "text/plain": [
       "{'ok': True,\n",
       " 'result': [{'update_id': 927291722,\n",
       "   'message': {'message_id': 39,\n",
       "    'from': {'id': 1239692491,\n",
       "     'is_bot': False,\n",
       "     'first_name': 'BOK JU',\n",
       "     'last_name': 'KIM',\n",
       "     'language_code': 'ko'},\n",
       "    'chat': {'id': 1239692491,\n",
       "     'first_name': 'BOK JU',\n",
       "     'last_name': 'KIM',\n",
       "     'type': 'private'},\n",
       "    'date': 1603105792,\n",
       "    'text': '/start',\n",
       "    'entities': [{'offset': 0, 'length': 6, 'type': 'bot_command'}]}},\n",
       "  {'update_id': 927291723,\n",
       "   'message': {'message_id': 40,\n",
       "    'from': {'id': 1239692491,\n",
       "     'is_bot': False,\n",
       "     'first_name': 'BOK JU',\n",
       "     'last_name': 'KIM',\n",
       "     'language_code': 'ko'},\n",
       "    'chat': {'id': 1239692491,\n",
       "     'first_name': 'BOK JU',\n",
       "     'last_name': 'KIM',\n",
       "     'type': 'private'},\n",
       "    'date': 1603106055,\n",
       "    'text': '안녕하세요?'}},\n",
       "  {'update_id': 927291724,\n",
       "   'message': {'message_id': 42,\n",
       "    'from': {'id': 1239692491,\n",
       "     'is_bot': False,\n",
       "     'first_name': 'BOK JU',\n",
       "     'last_name': 'KIM',\n",
       "     'language_code': 'ko'},\n",
       "    'chat': {'id': 1239692491,\n",
       "     'first_name': 'BOK JU',\n",
       "     'last_name': 'KIM',\n",
       "     'type': 'private'},\n",
       "    'date': 1603106469,\n",
       "    'text': '정보보호 서비스가 가능한가요?'}}]}"
      ]
     },
     "execution_count": 10,
     "metadata": {},
     "output_type": "execute_result"
    }
   ],
   "source": [
    "response"
   ]
  },
  {
   "cell_type": "code",
   "execution_count": 11,
   "metadata": {},
   "outputs": [],
   "source": [
    "url = 'https://api.telegram.org/bot{}/sendMessage'.format(token)"
   ]
  },
  {
   "cell_type": "code",
   "execution_count": 12,
   "metadata": {},
   "outputs": [],
   "source": [
    "chat_id = response[\"result\"][-1][\"message\"][\"from\"][\"id\"]\n",
    "msg = '어떤 정보보호서비스를 원하십니까?'"
   ]
  },
  {
   "cell_type": "code",
   "execution_count": 13,
   "metadata": {},
   "outputs": [
    {
     "data": {
      "text/plain": [
       "<Response [200]>"
      ]
     },
     "execution_count": 13,
     "metadata": {},
     "output_type": "execute_result"
    }
   ],
   "source": [
    "requests.get(url, params = {\"chat_id\" : chat_id, \"text\" : msg})"
   ]
  },
  {
   "cell_type": "code",
   "execution_count": null,
   "metadata": {},
   "outputs": [],
   "source": []
  }
 ],
 "metadata": {
  "kernelspec": {
   "display_name": "Python 3",
   "language": "python",
   "name": "python3"
  },
  "language_info": {
   "codemirror_mode": {
    "name": "ipython",
    "version": 3
   },
   "file_extension": ".py",
   "mimetype": "text/x-python",
   "name": "python",
   "nbconvert_exporter": "python",
   "pygments_lexer": "ipython3",
   "version": "3.8.3"
  }
 },
 "nbformat": 4,
 "nbformat_minor": 4
}
