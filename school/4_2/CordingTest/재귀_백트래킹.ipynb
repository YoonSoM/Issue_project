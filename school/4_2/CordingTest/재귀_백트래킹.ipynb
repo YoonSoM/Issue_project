{
  "nbformat": 4,
  "nbformat_minor": 0,
  "metadata": {
    "colab": {
      "provenance": []
    },
    "kernelspec": {
      "name": "python3",
      "display_name": "Python 3"
    },
    "language_info": {
      "name": "python"
    }
  },
  "cells": [
    {
      "cell_type": "markdown",
      "source": [
        "https://www.acmicpc.net/problem/10872"
      ],
      "metadata": {
        "id": "daiYmeXy4Msz"
      }
    },
    {
      "cell_type": "code",
      "execution_count": null,
      "metadata": {
        "id": "w0SIDQ7a4EJr"
      },
      "outputs": [],
      "source": [
        "import sys\n",
        "input = sys.stdin.readline\n",
        "sys.setrecursionlimit(100000)\n",
        "def f(a):\n",
        "    if a <= 1:\n",
        "        return 1\n",
        "    return a * f(a - 1)\n",
        "n = int(input())\n",
        "res = f(n)\n",
        "print(res)"
      ]
    },
    {
      "cell_type": "code",
      "source": [
        ":\n",
        "import sys\n",
        "import math\n",
        "input = sys.stdin.readline\n",
        "n = int(input())\n",
        "res = math.factorial(n)\n",
        "print(res)"
      ],
      "metadata": {
        "id": "kR1nQF074TjA"
      },
      "execution_count": null,
      "outputs": []
    },
    {
      "cell_type": "markdown",
      "source": [
        "https://www.acmicpc.net/problem/10870"
      ],
      "metadata": {
        "id": "nn8u7dbL4VAz"
      }
    },
    {
      "cell_type": "code",
      "source": [
        "import sys\n",
        "input = sys.stdin.readline\n",
        "sys.setrecursionlimit(100000)\n",
        "def f(a):\n",
        "    if a <= 1:\n",
        "        return a\n",
        "    return f(a - 2) + f(a - 1)\n",
        "n = int(input())\n",
        "res = f(n)\n",
        "print(res)"
      ],
      "metadata": {
        "id": "GBW6-6a44VjK"
      },
      "execution_count": null,
      "outputs": []
    },
    {
      "cell_type": "code",
      "source": [
        "\n",
        "import sys\n",
        "input = sys.stdin.readline\n",
        "n = int(input())\n",
        "a = [0, 1]\n",
        "for i in range(2, n + 1):\n",
        "    a.append(a[i - 2] + a[i - 1])\n",
        "print(a[n])"
      ],
      "metadata": {
        "id": "tra-csX94aUe"
      },
      "execution_count": null,
      "outputs": []
    },
    {
      "cell_type": "markdown",
      "source": [
        "https://www.acmicpc.net/problem/15649"
      ],
      "metadata": {
        "id": "lxNyFLbg4bng"
      }
    },
    {
      "cell_type": "code",
      "source": [
        "import sys\n",
        "import collections\n",
        "input = sys.stdin.readline\n",
        "sys.setrecursionlimit(100000)\n",
        "def f():\n",
        "    if len(s) == m:\n",
        "        print(*s)\n",
        "        return\n",
        "    for j in range(1, n + 1):\n",
        "        if chk[j] == 0:\n",
        "            s.append(j)\n",
        "            chk[j] = 1\n",
        "            f()\n",
        "            s.pop()\n",
        "            chk[j] = 0\n",
        "n, m = map(int, input().split())\n",
        "s = collections.deque()\n",
        "chk = [0] * (n + 1)\n",
        "f()"
      ],
      "metadata": {
        "id": "LFrdbxQj4dWy"
      },
      "execution_count": null,
      "outputs": []
    },
    {
      "cell_type": "code",
      "source": [
        "import sys\n",
        "import itertools\n",
        "input = sys.stdin.readline\n",
        "n, m = map(int, input().split())\n",
        "a = list(range(1, n + 1))\n",
        "for x in itertools.permutations(a, m):\n",
        "    print(*x)"
      ],
      "metadata": {
        "id": "3Vbl5Sem4vFE"
      },
      "execution_count": null,
      "outputs": []
    },
    {
      "cell_type": "markdown",
      "source": [
        "https://www.acmicpc.net/problem/15650"
      ],
      "metadata": {
        "id": "47V5XJBc4x1l"
      }
    },
    {
      "cell_type": "code",
      "source": [
        "import sys\n",
        "import collections\n",
        "input = sys.stdin.readline\n",
        "sys.setrecursionlimit(100000)\n",
        "def f(i):\n",
        "    if len(s) == m:\n",
        "        print(*s)\n",
        "        return\n",
        "    for j in range(i, n + 1):\n",
        "        s.append(j)\n",
        "        f(j + 1)\n",
        "        s.pop()\n",
        "n, m = map(int, input().split())\n",
        "s = collections.deque()\n",
        "f(1)"
      ],
      "metadata": {
        "id": "KUOA5kSl4yQ-"
      },
      "execution_count": null,
      "outputs": []
    },
    {
      "cell_type": "code",
      "source": [
        "import sys\n",
        "import itertools\n",
        "input = sys.stdin.readline\n",
        "n, m = map(int, input().split())\n",
        "a = list(range(1, n + 1))\n",
        "for x in itertools.combinations(a, m):\n",
        "    print(*x)"
      ],
      "metadata": {
        "id": "SUryoNiF48E8"
      },
      "execution_count": null,
      "outputs": []
    },
    {
      "cell_type": "markdown",
      "source": [
        "https://www.acmicpc.net/problem/15651"
      ],
      "metadata": {
        "id": "clXOmRTg5AZQ"
      }
    },
    {
      "cell_type": "code",
      "source": [
        "import sys\n",
        "import collections\n",
        "input = sys.stdin.readline\n",
        "sys.setrecursionlimit(100000)\n",
        "def f():\n",
        "    if len(s) == m:\n",
        "        print(*s)\n",
        "        return\n",
        "    for i in range(1, n + 1):\n",
        "        s.append(i)\n",
        "        f()\n",
        "        s.pop()\n",
        "n, m = map(int, input().split())\n",
        "s = collections.deque()\n",
        "f()"
      ],
      "metadata": {
        "id": "R4FrFWcS5CBh"
      },
      "execution_count": null,
      "outputs": []
    },
    {
      "cell_type": "code",
      "source": [
        "import sys\n",
        "import itertools\n",
        "input = sys.stdin.readline\n",
        "n, m = map(int, input().split())\n",
        "a = list(range(1, n + 1))\n",
        "for x in itertools.product(a, repeat = m):\n",
        "    print(*x)"
      ],
      "metadata": {
        "id": "WAaI6sEu5KOF"
      },
      "execution_count": null,
      "outputs": []
    },
    {
      "cell_type": "markdown",
      "source": [
        "https://www.acmicpc.net/problem/15652"
      ],
      "metadata": {
        "id": "sdVYs2IN5OM1"
      }
    },
    {
      "cell_type": "code",
      "source": [
        "import sys\n",
        "import collections\n",
        "input = sys.stdin.readline\n",
        "sys.setrecursionlimit(100000)\n",
        "def f(i):\n",
        "    if len(s) == m:\n",
        "        print(*s)\n",
        "        return\n",
        "    for j in range(i, n + 1):\n",
        "        s.append(j)\n",
        "        f(j)\n",
        "        s.pop()\n",
        "n, m = map(int, input().split())\n",
        "s = collections.deque()\n",
        "f(1)"
      ],
      "metadata": {
        "id": "nkP_k78y5NVA"
      },
      "execution_count": null,
      "outputs": []
    },
    {
      "cell_type": "code",
      "source": [
        "import sys\n",
        "import itertools\n",
        "input = sys.stdin.readline\n",
        "n, m = map(int, input().split())\n",
        "a = list(range(1, n + 1))\n",
        "for x in itertools.combinations_with_replacement(a, m):\n",
        "  print(*x)"
      ],
      "metadata": {
        "id": "WfmpxjgB5Y8E"
      },
      "execution_count": null,
      "outputs": []
    }
  ]
}