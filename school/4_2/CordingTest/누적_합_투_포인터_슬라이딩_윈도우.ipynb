{
  "nbformat": 4,
  "nbformat_minor": 0,
  "metadata": {
    "colab": {
      "provenance": []
    },
    "kernelspec": {
      "name": "python3",
      "display_name": "Python 3"
    },
    "language_info": {
      "name": "python"
    }
  },
  "cells": [
    {
      "cell_type": "markdown",
      "source": [
        "https://www.acmicpc.net/problem/11659"
      ],
      "metadata": {
        "id": "KZTYbMRjFp23"
      }
    },
    {
      "cell_type": "code",
      "execution_count": null,
      "metadata": {
        "id": "rCXoazjmFe39"
      },
      "outputs": [],
      "source": [
        "import sys\n",
        "input = sys.stdin.readline\n",
        "n, m = map(int, input().split())\n",
        "a = list(map(int, input().split()))\n",
        "b = [0]\n",
        "for x in a:\n",
        "    b.append(b[-1] + x)\n",
        "for k in range(m):\n",
        "    i, j = map(int, input().split())\n",
        "    print(b[j] - b[i - 1])"
      ]
    },
    {
      "cell_type": "markdown",
      "source": [
        "https://www.acmicpc.net/problem/2435"
      ],
      "metadata": {
        "id": "SNRxGFRYFw8l"
      }
    },
    {
      "cell_type": "code",
      "source": [
        "import sys\n",
        "input = sys.stdin.readline\n",
        "n, k = map(int, input().split())\n",
        "a = list(map(int, input().split()))\n",
        "b = [0]\n",
        "for x in a:\n",
        "    b.append(b[-1] + x)\n",
        "res = -100 * k\n",
        "for i in range(k, n + 1):\n",
        "    res = max(res, b[i] - b[i - k])\n",
        "print(res)"
      ],
      "metadata": {
        "id": "ftCvidOQGA5P"
      },
      "execution_count": null,
      "outputs": []
    },
    {
      "cell_type": "markdown",
      "source": [
        "https://www.acmicpc.net/problem/11728"
      ],
      "metadata": {
        "id": "fbxSaVtDGCG4"
      }
    },
    {
      "cell_type": "code",
      "source": [
        "import sys\n",
        "input = sys.stdin.readline\n",
        "n, m = map(int, input().split())\n",
        "a = list(map(int, input().split()))\n",
        "b = list(map(int, input().split()))\n",
        "res = []\n",
        "i, j = 0, 0\n",
        "while i < n and j < m:\n",
        "      if a[i] < b[j]:\n",
        "            res.append(a[i])\n",
        "            i += 1\n",
        "      else:\n",
        "            res.append(b[j])\n",
        "            j += 1\n",
        "if i == n:\n",
        "   while j < m:\n",
        "      res.append(b[j])\n",
        "      j += 1\n",
        "else:\n",
        "   while i < n:\n",
        "      res.append(a[i])\n",
        "      i += 1\n",
        "print(*res)"
      ],
      "metadata": {
        "id": "bQPnSJiYGDbq"
      },
      "execution_count": null,
      "outputs": []
    },
    {
      "cell_type": "code",
      "source": [
        "import sys\n",
        "input = sys.stdin.readline\n",
        "n, m = map(int, input().split())\n",
        "a = list(map(int, input().split())) + [10 ** 9 + 1]\n",
        "b = list(map(int, input().split())) + [10 ** 9 + 1]\n",
        "res = []\n",
        "i, j = 0, 0\n",
        "for k in range(n + m):\n",
        "    if a[i] < b[j]:\n",
        "        res.append(a[i])\n",
        "        i += 1\n",
        "    else:\n",
        "        res.append(b[j])\n",
        "        j += 1\n",
        "print(*res)"
      ],
      "metadata": {
        "id": "200WI07zGGCs"
      },
      "execution_count": null,
      "outputs": []
    },
    {
      "cell_type": "markdown",
      "source": [
        "https://www.acmicpc.net/problem/2003"
      ],
      "metadata": {
        "id": "8VYW9r_eGHb2"
      }
    },
    {
      "cell_type": "code",
      "source": [
        "import sys\n",
        "input = sys.stdin.readline\n",
        "n, m = map(int, input().split())\n",
        "a = list(map(int, input().split())) + [300000001]\n",
        "i, j = 0, 0\n",
        "now = a[0]\n",
        "res = 0\n",
        "while j < n:\n",
        "    if now == m:\n",
        "        res += 1\n",
        "        now -= a[i]\n",
        "        i += 1\n",
        "        j += 1\n",
        "        now += a[j]\n",
        "    elif now < m:\n",
        "        j += 1\n",
        "        now += a[j]\n",
        "    else:\n",
        "        now -= a[i]\n",
        "        i += 1\n",
        "print(res)"
      ],
      "metadata": {
        "id": "w8HvMWo8GI3N"
      },
      "execution_count": null,
      "outputs": []
    },
    {
      "cell_type": "markdown",
      "source": [
        "https://www.acmicpc.net/problem/12847"
      ],
      "metadata": {
        "id": "0RSZbnmHGKEt"
      }
    },
    {
      "cell_type": "code",
      "source": [
        "import sys\n",
        "input = sys.stdin.readline\n",
        "n, m = map(int, input().split())\n",
        "a = list(map(int, input().split()))\n",
        "now = sum(a[:m])\n",
        "res = now\n",
        "for i in range(m, n):\n",
        "    now += a[i]\n",
        "    now -= a[i - m]\n",
        "    res = max(res, now)\n",
        "print(res)"
      ],
      "metadata": {
        "id": "RenpnGSFGLWi"
      },
      "execution_count": null,
      "outputs": []
    },
    {
      "cell_type": "markdown",
      "source": [
        "https://www.acmicpc.net/problem/2559"
      ],
      "metadata": {
        "id": "NXRtZsrEGN60"
      }
    },
    {
      "cell_type": "code",
      "source": [
        "import sys\n",
        "input = sys.stdin.readline\n",
        "n, k = map(int, input().split())\n",
        "a = list(map(int, input().split()))\n",
        "now = sum(a[:k])\n",
        "res = now\n",
        "for i in range(k, n):\n",
        "    now += a[i]\n",
        "    now -= a[i - k]\n",
        "    res = max(res, now)\n",
        "print(res)"
      ],
      "metadata": {
        "id": "0q8hmrXlGPR4"
      },
      "execution_count": null,
      "outputs": []
    }
  ]
}