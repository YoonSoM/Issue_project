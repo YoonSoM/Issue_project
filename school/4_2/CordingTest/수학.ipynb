{
  "nbformat": 4,
  "nbformat_minor": 0,
  "metadata": {
    "colab": {
      "provenance": []
    },
    "kernelspec": {
      "name": "python3",
      "display_name": "Python 3"
    },
    "language_info": {
      "name": "python"
    }
  },
  "cells": [
    {
      "cell_type": "code",
      "execution_count": 3,
      "metadata": {
        "id": "4RuYsd1UfuTT"
      },
      "outputs": [],
      "source": [
        "import sys\n",
        "import math\n",
        "input = sys.stdin.readline"
      ]
    },
    {
      "cell_type": "code",
      "source": [
        "a, b = map(int, input().split())\n",
        "g = math.gcd(a, b)\n",
        "print(g)\n",
        "print(a * b // g)"
      ],
      "metadata": {
        "id": "3-xhibwegJ1m"
      },
      "execution_count": null,
      "outputs": []
    },
    {
      "cell_type": "code",
      "source": [
        "import sys\n",
        "import math\n",
        "input = sys.stdin.readline\n",
        "a, b = map(int, input().split())\n",
        "g = math.gcd(a, b)\n",
        "l = math.lcm(a, b)\n",
        "print(g)\n",
        "print(l)"
      ],
      "metadata": {
        "id": "Zcmm0mvmgP4m"
      },
      "execution_count": null,
      "outputs": []
    },
    {
      "cell_type": "code",
      "source": [
        "import sys\n",
        "import math\n",
        "input = sys.stdin.readline\n",
        "t = int(input())\n",
        "for i in range(t):\n",
        "    a, b = map(int, input().split())\n",
        "    g = math.gcd(a, b)\n",
        "    print(a * b // g)"
      ],
      "metadata": {
        "id": "gGn3tOengSRv"
      },
      "execution_count": null,
      "outputs": []
    },
    {
      "cell_type": "code",
      "source": [
        "import sys\n",
        "import math\n",
        "input = sys.stdin.readline\n",
        "t = int(input())\n",
        "for i in range(t):\n",
        "    a, b = map(int, input().split())\n",
        "    l = math.lcm(a, b)\n",
        "    print(l)"
      ],
      "metadata": {
        "id": "Ajj61_YOgVkr"
      },
      "execution_count": null,
      "outputs": []
    },
    {
      "cell_type": "code",
      "source": [
        "import sys\n",
        "input = sys.stdin.readline\n",
        "n = int(input())\n",
        "a = 2\n",
        "while n > 1:\n",
        "      while n % a == 0:\n",
        "            print(a)\n",
        "            n //= a\n",
        "      a += 1"
      ],
      "metadata": {
        "id": "O1rGmRCygZB-"
      },
      "execution_count": null,
      "outputs": []
    },
    {
      "cell_type": "code",
      "source": [
        "import sys\n",
        "input = sys.stdin.readline\n",
        "n = int(input())\n",
        "a = list(map(int, input().split()))\n",
        "res = 0\n",
        "for x in a:\n",
        "    if x == 1:\n",
        "        continue\n",
        "    flag = 0\n",
        "    for i in range(2, x):\n",
        "        if x % i == 0:\n",
        "            flag = 1\n",
        "            break\n",
        "    if flag == 0:\n",
        "        res += 1\n",
        "print(res)"
      ],
      "metadata": {
        "id": "VLHXr-Behao1"
      },
      "execution_count": null,
      "outputs": []
    },
    {
      "cell_type": "code",
      "source": [
        "import sys\n",
        "input = sys.stdin.readline\n",
        "n = int(input())\n",
        "a = list(map(int, input().split()))\n",
        "res = 0\n",
        "for x in a:\n",
        "    if x == 1:\n",
        "        continue\n",
        "    flag = 0\n",
        "    y = int(x ** 0.5)\n",
        "    for i in range(2, y + 1):\n",
        "        if x % i == 0:\n",
        "            flag = 1\n",
        "            break\n",
        "    if flag == 0:\n",
        "        res += 1\n",
        "print(res)"
      ],
      "metadata": {
        "id": "967gDw1Ihjwv"
      },
      "execution_count": null,
      "outputs": []
    },
    {
      "cell_type": "code",
      "source": [
        "import sys\n",
        "input = sys.stdin.readline\n",
        "n = int(input())\n",
        "a = list(map(int, input().split()))\n",
        "p = [1] * 1001\n",
        "p[1] = 0\n",
        "y = int(1000 * 0.5)\n",
        "for i in range(2, y + 1):\n",
        "    if p[i] == 1:\n",
        "        for j in range(i + i, 1001, i):\n",
        "            p[j] = 0\n",
        "res = 0\n",
        "for x in a:\n",
        "    if p[x] == 1:\n",
        "        res += 1\n",
        "print(res)"
      ],
      "metadata": {
        "id": "vA-nTH8-huNe"
      },
      "execution_count": null,
      "outputs": []
    },
    {
      "cell_type": "code",
      "source": [
        "import sys\n",
        "input = sys.stdin.readline\n",
        "n = int(input())\n",
        "a = list(map(int, input().split()))\n",
        "p = [1] * 1001\n",
        "p[1] = 0\n",
        "y = int(1000 * 0.5)\n",
        "for i in range(2, y + 1):\n",
        "    if p[i] == 1:\n",
        "        for j in range(i + i, 1001, i):\n",
        "            p[j] = 0\n",
        "res = 0\n",
        "for x in a:\n",
        "    res += p[x]\n",
        "print(res)"
      ],
      "metadata": {
        "id": "9UouMkPTh2s7"
      },
      "execution_count": null,
      "outputs": []
    },
    {
      "cell_type": "code",
      "source": [
        "import sys\n",
        "input = sys.stdin.readline\n",
        "n = int(input())\n",
        "m = int(input())\n",
        "p = [1] * (m + 1)\n",
        "p[1] = 0\n",
        "y = int(m * 0.5)\n",
        "for i in range(2, y + 1):\n",
        "    if p[i] == 1:\n",
        "        for j in range(i + i, m + 1, i):\n",
        "            p[j] = 0\n",
        "res = []\n",
        "for i in range(n, m + 1):\n",
        "    if p[i] == 1:\n",
        "        res.append(i)\n",
        "if len(res) == 0:\n",
        "    print(-1)\n",
        "else:\n",
        "    print(sum(res))\n",
        "    print(res[0])"
      ],
      "metadata": {
        "id": "3UIB3rdxiDUT"
      },
      "execution_count": null,
      "outputs": []
    },
    {
      "cell_type": "code",
      "source": [
        "import sys\n",
        "input = sys.stdin.readline\n",
        "n, m = map(int, input().split())\n",
        "p = [1] * (m + 1)\n",
        "p[1] = 0\n",
        "y = int(m * 0.5)\n",
        "for i in range(2, y + 1):\n",
        "    if p[i] == 1:\n",
        "        for j in range(i + i, m + 1, i):\n",
        "            p[j] = 0\n",
        "for i in range(n, m + 1):\n",
        "    if p[i] == 1:\n",
        "        print(i)"
      ],
      "metadata": {
        "id": "E3dR9KGniOiM"
      },
      "execution_count": null,
      "outputs": []
    },
    {
      "cell_type": "code",
      "source": [
        "import sys\n",
        "input = sys.stdin.readline\n",
        "a = int(input())\n",
        "b = int(input())\n",
        "c = int(input())\n",
        "d = int(input())\n",
        "e = int(input())\n",
        "res = min(a, b, c) + min(d, e) - 50\n",
        "print(res)"
      ],
      "metadata": {
        "id": "TJkSGdh6iXU4"
      },
      "execution_count": null,
      "outputs": []
    },
    {
      "cell_type": "code",
      "source": [
        "import sys\n",
        "input = sys.stdin.readline\n",
        "while True:\n",
        "    a = list(map(int, input().split()))\n",
        "    a.sort()\n",
        "    if a[0] == 0:\n",
        "        break\n",
        "    if a[0] ** 2 + a[1] ** 2 == a[2] ** 2:\n",
        "        print('right')\n",
        "    else:\n",
        "        print('wrong')"
      ],
      "metadata": {
        "id": "lOpZMwSsiZzz"
      },
      "execution_count": null,
      "outputs": []
    },
    {
      "cell_type": "code",
      "source": [
        "import sys\n",
        "input = sys.stdin.readline\n",
        "res = 0\n",
        "for i in range(5):\n",
        "    x = int(input())\n",
        "    res += max(x, 40)\n",
        "print(res // 5)"
      ],
      "metadata": {
        "id": "_L9Qwl9SiifQ"
      },
      "execution_count": null,
      "outputs": []
    },
    {
      "cell_type": "code",
      "source": [
        "import sys\n",
        "input = sys.stdin.readline\n",
        "n = int(input())\n",
        "a = list(map(int, input().split()))\n",
        "m = max(a)\n",
        "for i in range(n):\n",
        "    a[i] = a[i] / m * 100\n",
        "res = sum(a) / n\n",
        "print(res)"
      ],
      "metadata": {
        "id": "T8uFi1LFim9A"
      },
      "execution_count": null,
      "outputs": []
    },
    {
      "cell_type": "code",
      "source": [
        "import sys\n",
        "input = sys.stdin.readline\n",
        "n = int(input())\n",
        "a = list(map(int, input().split()))\n",
        "m = max(a)\n",
        "res = sum(a) / n\n",
        "res = res / m * 100\n",
        "print(res)"
      ],
      "metadata": {
        "id": "5pA_-I95l2lG"
      },
      "execution_count": null,
      "outputs": []
    },
    {
      "cell_type": "code",
      "source": [
        "import sys\n",
        "input = sys.stdin.readline\n",
        "n = int(input())\n",
        "cnt2, cnt5 = 0, 0\n",
        "for i in range(1, n + 1):\n",
        "    x = i\n",
        "    while x % 2 == 0:\n",
        "        x //= 2\n",
        "        cnt2 += 1\n",
        "    while x % 5 == 0:\n",
        "        x //= 5\n",
        "        cnt5 += 1\n",
        "print(min(cnt2, cnt5))"
      ],
      "metadata": {
        "id": "fk3RttBnl8v9"
      },
      "execution_count": null,
      "outputs": []
    },
    {
      "cell_type": "code",
      "source": [
        "import sys\n",
        "input = sys.stdin.readline\n",
        "n = int(input())\n",
        "cnt5 = 0\n",
        "for i in range(1, n + 1):\n",
        "    x = i\n",
        "    while x % 5 == 0:\n",
        "        x //= 5\n",
        "        cnt5 += 1\n",
        "print(cnt5)"
      ],
      "metadata": {
        "id": "ZzNFXjs8nCXk"
      },
      "execution_count": null,
      "outputs": []
    },
    {
      "cell_type": "code",
      "source": [
        "import sys\n",
        "input = sys.stdin.readline\n",
        "n = int(input())\n",
        "res = n // 5 + n // (5 ** 2) + n // (5 ** 3)\n",
        "print(res)"
      ],
      "metadata": {
        "id": "0ju4_SsYmLQs"
      },
      "execution_count": null,
      "outputs": []
    },
    {
      "cell_type": "code",
      "source": [
        "import sys\n",
        "input = sys.stdin.readline\n",
        "a, b = map(int, input().split())\n",
        "res = abs(b - a)\n",
        "n = int(input())\n",
        "for i in range(n):\n",
        "    x = int(input())\n",
        "    now = abs(b - x) + 1\n",
        "    res = min(res, now)\n",
        "print(res)"
      ],
      "metadata": {
        "id": "v4Egb_jmnnMD"
      },
      "execution_count": null,
      "outputs": []
    },
    {
      "cell_type": "code",
      "source": [
        "import sys\n",
        "input = sys.stdin.readline\n",
        "n = int(input())\n",
        "res = -1\n",
        "for i in range(5):\n",
        "    now = n - 3 * i\n",
        "    if now >= 0 and now % 5 == 0:\n",
        "        res = i + now // 5\n",
        "        break\n",
        "print(res)"
      ],
      "metadata": {
        "id": "mW2-3b6ZnrlU"
      },
      "execution_count": null,
      "outputs": []
    }
  ]
}