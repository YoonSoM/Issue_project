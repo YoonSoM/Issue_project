{
  "nbformat": 4,
  "nbformat_minor": 0,
  "metadata": {
    "colab": {
      "provenance": []
    },
    "kernelspec": {
      "name": "python3",
      "display_name": "Python 3"
    },
    "language_info": {
      "name": "python"
    }
  },
  "cells": [
    {
      "cell_type": "markdown",
      "source": [
        "https://www.acmicpc.net/problem/3052"
      ],
      "metadata": {
        "id": "UJIOelyeao3c"
      }
    },
    {
      "cell_type": "code",
      "execution_count": null,
      "metadata": {
        "id": "WrIJK_F4ak5K"
      },
      "outputs": [],
      "source": [
        "import sys\n",
        "input = sys.stdin.readline\n",
        "a = [0] * 42\n",
        "for i in range(10):\n",
        "    x = int(input())\n",
        "    a[x % 42] = 1\n",
        "print(sum(a))"
      ]
    },
    {
      "cell_type": "code",
      "source": [
        "import sys\n",
        "input = sys.stdin.readline\n",
        "s = set()\n",
        "for i in range(10):\n",
        "    x = int(input())\n",
        "    s.add(x % 42)\n",
        "print(len(s))"
      ],
      "metadata": {
        "id": "tVuErJvvaz1E"
      },
      "execution_count": null,
      "outputs": []
    },
    {
      "cell_type": "markdown",
      "source": [
        "https://www.acmicpc.net/problem/5704"
      ],
      "metadata": {
        "id": "Bq4ZnavJawGL"
      }
    },
    {
      "cell_type": "code",
      "source": [
        "import sys\n",
        "input = sys.stdin.readline\n",
        "while True:\n",
        "    a = input().rstrip()\n",
        "    if a == '*':\n",
        "        break\n",
        "    b = [0] * 26\n",
        "    for x in a:\n",
        "        if x.islower():\n",
        "            b[ord(x) - ord('a')] = 1\n",
        "    if sum(b) == 26:\n",
        "        print('Y')\n",
        "    else:\n",
        "    v   print('N')"
      ],
      "metadata": {
        "id": "pQ8QmTNAa5f5"
      },
      "execution_count": null,
      "outputs": []
    },
    {
      "cell_type": "code",
      "source": [
        "import sys\n",
        "input = sys.stdin.readline\n",
        "while True:\n",
        "    a = input().rstrip()\n",
        "    if a == '*':\n",
        "        break\n",
        "    s = set()\n",
        "    for x in a:\n",
        "        if x.islower():\n",
        "            s.add(x)\n",
        "    if len(s) == 26:\n",
        "        print('Y')\n",
        "    else:\n",
        "        print('N')"
      ],
      "metadata": {
        "id": "jGVV8TzTbHcF"
      },
      "execution_count": null,
      "outputs": []
    },
    {
      "cell_type": "markdown",
      "source": [
        "https://www.acmicpc.net/problem/10867"
      ],
      "metadata": {
        "id": "lLfBSO57bTu9"
      }
    },
    {
      "cell_type": "code",
      "source": [
        "import sys\n",
        "input = sys.stdin.readline\n",
        "n = int(input())\n",
        "a = set(map(int, input().split()))\n",
        "a = list(a)\n",
        "a.sort()\n",
        "print(*a)"
      ],
      "metadata": {
        "id": "VPJIlsa0bVeD"
      },
      "execution_count": null,
      "outputs": []
    },
    {
      "cell_type": "markdown",
      "source": [
        "https://www.acmicpc.net/problem/1181"
      ],
      "metadata": {
        "id": "XaCFH_YbbW6t"
      }
    },
    {
      "cell_type": "code",
      "source": [
        "import sys\n",
        "input = sys.stdin.readline\n",
        "n = int(input())\n",
        "s = set()\n",
        "for i in range(n):\n",
        "    a = input().rstrip()\n",
        "    s.add((len(a), a))\n",
        "s = list(s)\n",
        "s.sort()\n",
        "for x, y in s:\n",
        "    print(y)"
      ],
      "metadata": {
        "id": "wh8wLoZ8bYd7"
      },
      "execution_count": null,
      "outputs": []
    },
    {
      "cell_type": "markdown",
      "source": [
        "https://www.acmicpc.net/problem/10815"
      ],
      "metadata": {
        "id": "elwodyrtbfGI"
      }
    },
    {
      "cell_type": "code",
      "source": [
        "import sys\n",
        "input = sys.stdin.readline\n",
        "n = int(input())\n",
        "a = set(map(int, input().split()))\n",
        "m = int(input())\n",
        "b = list(map(int, input().split()))\n",
        "res = []\n",
        "for x in b:\n",
        "    if x in a:\n",
        "        res.append(1)\n",
        "    else:\n",
        "        res.append(0)\n",
        "print(*res)"
      ],
      "metadata": {
        "id": "jQoLNkYabhWw"
      },
      "execution_count": null,
      "outputs": []
    },
    {
      "cell_type": "markdown",
      "source": [
        "https://www.acmicpc.net/problem/1764"
      ],
      "metadata": {
        "id": "vRE5elVSboEb"
      }
    },
    {
      "cell_type": "code",
      "source": [
        "import sys\n",
        "input = sys.stdin.readline\n",
        "n, m = map(int, input().split())\n",
        "a = set()\n",
        "b = set()\n",
        "for i in range(n):\n",
        "    x = input().rstrip()\n",
        "    a.add(x)\n",
        "for i in range(m):\n",
        "    x = input().rstrip()\n",
        "    b.add(x)\n",
        "s = a & b\n",
        "s = list(s)\n",
        "s.sort()\n",
        "print(len(s))\n",
        "print(*s, sep = '\\n')"
      ],
      "metadata": {
        "id": "HJC6x5eHbogC"
      },
      "execution_count": null,
      "outputs": []
    },
    {
      "cell_type": "markdown",
      "source": [
        "https://www.acmicpc.net/problem/14425"
      ],
      "metadata": {
        "id": "dxAkwEN3busH"
      }
    },
    {
      "cell_type": "code",
      "source": [
        "import sys\n",
        "input = sys.stdin.readline\n",
        "n, m = map(int, input().split())\n",
        "s = set()\n",
        "res = 0\n",
        "for i in range(n):\n",
        "    x = input().rstrip()\n",
        "    s.add(x)\n",
        "for i in range(m):\n",
        "    x = input().rstrip()\n",
        "    if x in s:\n",
        "        res += 1\n",
        "print(res)"
      ],
      "metadata": {
        "id": "9zHWFuHAbxFB"
      },
      "execution_count": null,
      "outputs": []
    },
    {
      "cell_type": "markdown",
      "source": [
        "https://www.acmicpc.net/problem/11652"
      ],
      "metadata": {
        "id": "rbWfo6_Sb2tL"
      }
    },
    {
      "cell_type": "code",
      "source": [
        "import sys\n",
        "import collections\n",
        "input = sys.stdin.readline\n",
        "n = int(input())\n",
        "d = collections.defaultdict(int)\n",
        "for i in range(n):\n",
        "    x = int(input())\n",
        "    d[x] += 1\n",
        "m = max(d.values())\n",
        "k = list(d.keys())\n",
        "k.sort()\n",
        "for x in k:\n",
        "   if d[x] == m:\n",
        "      print(x)\n",
        "      break"
      ],
      "metadata": {
        "id": "xr2qtMNwb8q5"
      },
      "execution_count": null,
      "outputs": []
    },
    {
      "cell_type": "markdown",
      "source": [
        "https://www.acmicpc.net/problem/1302"
      ],
      "metadata": {
        "id": "76ItNErCcOb2"
      }
    },
    {
      "cell_type": "code",
      "source": [
        "import sys\n",
        "import collections\n",
        "input = sys.stdin.readline\n",
        "n = int(input())\n",
        "d = collections.defaultdict(int)\n",
        "for i in range(n):\n",
        "    x = input().rstrip()\n",
        "    d[x] += 1\n",
        "m = max(d.values())\n",
        "k = list(d.keys())\n",
        "k.sort()\n",
        "for x in k:\n",
        "    if d[x] == m:\n",
        "        print(x)\n",
        "        break"
      ],
      "metadata": {
        "id": "T5XlqFQ0cO-A"
      },
      "execution_count": null,
      "outputs": []
    },
    {
      "cell_type": "markdown",
      "source": [
        "https://www.acmicpc.net/problem/10816"
      ],
      "metadata": {
        "id": "H8BxGhk_caCo"
      }
    },
    {
      "cell_type": "code",
      "source": [
        "import sys\n",
        "import collections\n",
        "input = sys.stdin.readline\n",
        "n = int(input())\n",
        "a = list(map(int, input().split()))\n",
        "d = collections.defaultdict(int)\n",
        "for x in a:\n",
        "    d[x] += 1\n",
        "m = int(input())\n",
        "b = list(map(int, input().split()))\n",
        "res = []\n",
        "for x in b:\n",
        "    res.append(d[x])\n",
        "print(*res)"
      ],
      "metadata": {
        "id": "sPIS7WNDcagG"
      },
      "execution_count": null,
      "outputs": []
    }
  ]
}