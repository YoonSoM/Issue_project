{
  "nbformat": 4,
  "nbformat_minor": 0,
  "metadata": {
    "colab": {
      "provenance": []
    },
    "kernelspec": {
      "name": "python3",
      "display_name": "Python 3"
    },
    "language_info": {
      "name": "python"
    }
  },
  "cells": [
    {
      "cell_type": "code",
      "execution_count": null,
      "metadata": {
        "id": "LoXoUlbiX4bs"
      },
      "outputs": [],
      "source": [
        "import sys\n",
        "input = sys.stdin.readline\n",
        "a = int(input())\n",
        "b = int(input())\n",
        "c = int(input())\n",
        "d = int(input())\n",
        "e = int(input())\n",
        "res = 0\n",
        "if a < 0:\n",
        "   res = d\n",
        "while a < b:\n",
        "   if a < 0:\n",
        "      a += 1\n",
        "      res += c\n",
        "   else:\n",
        "      a += 1\n",
        "      res += e\n",
        "print(res)"
      ]
    },
    {
      "cell_type": "code",
      "source": [
        "import sys\n",
        "input = sys.stdin.readline\n",
        "a = int(input())\n",
        "b = int(input())\n",
        "c = int(input())\n",
        "d = int(input())\n",
        "e = int(input())\n",
        "res = 0\n",
        "if a < 0:\n",
        "   res = d\n",
        "while a < b:\n",
        "   if a < 0:\n",
        "      res += c\n",
        "   else:\n",
        "      res += e\n",
        "      a += 1\n",
        "print(res)"
      ],
      "metadata": {
        "id": "uhKyWqrXYJWu"
      },
      "execution_count": null,
      "outputs": []
    },
    {
      "cell_type": "code",
      "source": [
        "import sys\n",
        "input = sys.stdin.readline\n",
        "a = int(input())\n",
        "b = int(input())\n",
        "c = int(input())\n",
        "d = int(input())\n",
        "e = int(input())\n",
        "res = 0\n",
        "if a < 0:\n",
        "   res = (-a * c) + d\n",
        "   a = 0\n",
        "res += (b - a) * e\n",
        "print(res)"
      ],
      "metadata": {
        "id": "f2DXuZy6YaNj"
      },
      "execution_count": null,
      "outputs": []
    },
    {
      "cell_type": "code",
      "source": [
        "import sys\n",
        "input = sys.stdin.readline\n",
        "n = int(input())\n",
        "a, b = 100, 100\n",
        "for i in range(n):\n",
        "    x, y = map(int, input().split())\n",
        "    if x < y:\n",
        "        a -= y\n",
        "    elif x > y:\n",
        "        b -= x\n",
        "print(a)\n",
        "print(b)"
      ],
      "metadata": {
        "id": "zi9H7aKlYmKo"
      },
      "execution_count": null,
      "outputs": []
    },
    {
      "cell_type": "code",
      "source": [
        "import sys\n",
        "input = sys.stdin.readline\n",
        "a = int(input())\n",
        "n = 1\n",
        "while a > 1:\n",
        "    if a % 2 == 0:\n",
        "        a //= 2\n",
        "    else:\n",
        "        a = 3 * a + 1\n",
        "    n += 1\n",
        "print(n)"
      ],
      "metadata": {
        "id": "qi4eA6HMYsNY"
      },
      "execution_count": null,
      "outputs": []
    },
    {
      "cell_type": "code",
      "source": [
        "import sys\n",
        "input = sys.stdin.readline\n",
        "n = int(input())\n",
        "m = int(input())\n",
        "res = m\n",
        "s = m\n",
        "flag = 0\n",
        "##for i in range(1, n + 1):\n",
        "for i in range(n):\n",
        "    a, b = map(int, input().split())\n",
        "    s += a - b\n",
        "    if s < 0:\n",
        "        flag = 1\n",
        "    res = max(res, s)\n",
        "if flag == 1:\n",
        "    print(0)\n",
        "else:\n",
        "    print(res)"
      ],
      "metadata": {
        "id": "Vq9XaX2JY3Qd"
      },
      "execution_count": null,
      "outputs": []
    },
    {
      "cell_type": "code",
      "source": [
        "import sys\n",
        "input = sys.stdin.readline\n",
        "a1, a2 = map(int, input().split())\n",
        "b1, b2 = map(int, input().split())\n",
        "while True:\n",
        "    a2 -= b1\n",
        "    b2 -= a1\n",
        "    if a2 <= 0 and b2 <= 0:\n",
        "        print('DRAW')\n",
        "        break\n",
        "    if a2 <= 0:\n",
        "        print('PLAYER B')\n",
        "        break\n",
        "    if b2 <= 0:\n",
        "        print('PLAYER A')\n",
        "        break"
      ],
      "metadata": {
        "id": "coGEgRjeZIcV"
      },
      "execution_count": null,
      "outputs": []
    },
    {
      "cell_type": "code",
      "source": [
        "import sys\n",
        "input = sys.stdin.readline\n",
        "n, x, k = map(int, input().split())\n",
        "chk = [0] * (n + 1)\n",
        "chk[x] = 1\n",
        "for i in range(k):\n",
        "    a, b = map(int, input().split())\n",
        "    chk[a], chk[b] = chk[b], chk[a]\n",
        "for i in range(1, n + 1):\n",
        "    if chk[i] == 1:\n",
        "        print(i)\n",
        "        break"
      ],
      "metadata": {
        "id": "UVXNb8CzZUUG"
      },
      "execution_count": null,
      "outputs": []
    },
    {
      "cell_type": "code",
      "source": [
        "import sys\n",
        "input = sys.stdin.readline\n",
        "n, x, k = map(int, input().split())\n",
        "for i in range(k):\n",
        "    a, b = map(int, input().split())\n",
        "    if x == a:\n",
        "        x = b\n",
        "    elif x == b:\n",
        "        x = a\n",
        "    print(x)"
      ],
      "metadata": {
        "id": "-t_x28fpZaGt"
      },
      "execution_count": null,
      "outputs": []
    },
    {
      "cell_type": "code",
      "source": [
        "import sys\n",
        "input = sys.stdin.readline\n",
        "n, m = map(int, input().split())\n",
        "a = list(range(n + 1))\n",
        "for i in range(m):\n",
        "    x, y = map(int, input().split())\n",
        "    a[x], a[y] = a[y], a[x]\n",
        "print(*a[1:])"
      ],
      "metadata": {
        "id": "MVoDn4__anJl"
      },
      "execution_count": null,
      "outputs": []
    },
    {
      "cell_type": "code",
      "source": [
        "import sys\n",
        "input = sys.stdin.readline\n",
        "a = input().rstrip()\n",
        "b = 1\n",
        "for x in a:\n",
        "    if x == 'A':\n",
        "        if b == 1:\n",
        "            b = 2\n",
        "        elif b == 2:\n",
        "            b = 1\n",
        "    elif x == 'B':\n",
        "        if b == 2:\n",
        "            b = 3\n",
        "        elif b == 3:\n",
        "            b = 2\n",
        "    elif x == 'C':\n",
        "        if b == 1:\n",
        "            b = 3\n",
        "        elif b == 3:\n",
        "            b = 1\n",
        "print(b)"
      ],
      "metadata": {
        "id": "vsGKsZ3UasN-"
      },
      "execution_count": null,
      "outputs": []
    },
    {
      "cell_type": "code",
      "source": [
        "import sys\n",
        "input = sys.stdin.readline\n",
        "a = input().rstrip()\n",
        "b = 1\n",
        "for x in a:\n",
        "    if x == 'A' and b != 3:\n",
        "        b = 3 - b\n",
        "    elif x == 'B' and b != 1:\n",
        "        b = 5 - b\n",
        "    elif x == 'C' and b != 2:\n",
        "        b = 4 - b\n",
        "print(b)"
      ],
      "metadata": {
        "id": "MM7QjVnZbMED"
      },
      "execution_count": null,
      "outputs": []
    },
    {
      "cell_type": "code",
      "source": [
        "import sys\n",
        "input = sys.stdin.readline\n",
        "N, m, M, T, R = map(int, input().split())\n",
        "res = 0\n",
        "cnt = 0\n",
        "now = m\n",
        "if m + T > M:\n",
        "    print(-1)\n",
        "else:\n",
        "    while True:\n",
        "        if now + T <= M:\n",
        "            cnt += 1\n",
        "            now += T\n",
        "    else:\n",
        "        now -= R\n",
        "        now = max(now, m)\n",
        "    res += 1\n",
        "    if cnt == N:\n",
        "        break\n",
        "    print(res)"
      ],
      "metadata": {
        "id": "cHyACL-qbahI"
      },
      "execution_count": null,
      "outputs": []
    },
    {
      "cell_type": "code",
      "source": [
        "import sys\n",
        "input = sys.stdin.readline\n",
        "n, m = map(int, input().split())\n",
        "a = [0] * (n + 1)\n",
        "for x in range(m):\n",
        "    i, j, k = map(int, input().split())\n",
        "    for y in range(i, j + 1):\n",
        "        a[y] = k\n",
        "print(*a[1:])"
      ],
      "metadata": {
        "id": "ynxWjqt-bnwp"
      },
      "execution_count": null,
      "outputs": []
    },
    {
      "cell_type": "code",
      "source": [
        "import sys\n",
        "input = sys.stdin.readline\n",
        "t = int(input())\n",
        "for i in range(t):\n",
        "    n = int(input())\n",
        "    res = n\n",
        "    while n > 1:\n",
        "        if n % 2 == 0:\n",
        "            n //= 2\n",
        "        else:\n",
        "            n = 3 * n + 1\n",
        "        res = max(res, n)\n",
        "    print(res)"
      ],
      "metadata": {
        "id": "VSXvEbU1bw2t"
      },
      "execution_count": null,
      "outputs": []
    },
    {
      "cell_type": "code",
      "source": [
        "import sys\n",
        "input = sys.stdin.readline\n",
        "t = int(input())\n",
        "for i in range(t):\n",
        "    n = int(input())\n",
        "    res = n\n",
        "    while n > 1:\n",
        "        if n % 2 == 0:\n",
        "            n //= 2\n",
        "        else:\n",
        "            n = 3 * n + 1\n",
        "            res = max(res, n)\n",
        "    print(res)"
      ],
      "metadata": {
        "id": "jGWoA6nIb-Mc"
      },
      "execution_count": null,
      "outputs": []
    },
    {
      "cell_type": "code",
      "source": [
        "import sys\n",
        "input = sys.stdin.readline\n",
        "a, b, c, m = map(int, input().split())\n",
        "now = 0\n",
        "cnt = 0\n",
        "for i in range(24):\n",
        "    if now + a <= m:\n",
        "        now += a\n",
        "        cnt += b\n",
        "    else:\n",
        "        now -= c\n",
        "        now = max(0, now)\n",
        "print(cnt)"
      ],
      "metadata": {
        "id": "t-7mYwekcSGO"
      },
      "execution_count": null,
      "outputs": []
    },
    {
      "cell_type": "code",
      "source": [
        "import sys\n",
        "input = sys.stdin.readline\n",
        "a, b, c = map(int, input().split())\n",
        "t = [0] * 101\n",
        "res = 0\n",
        "for i in range(3):\n",
        "    x, y = map(int, input().split())\n",
        "    for j in range(x, y):\n",
        "        t[j] += 1\n",
        "for i in range(1, 100):\n",
        "    if t[i] == 1:\n",
        "        res += a\n",
        "    elif t[i] == 2:\n",
        "        res += b * 2\n",
        "    elif t[i] == 3:\n",
        "          res += c * 3\n",
        "print(res)"
      ],
      "metadata": {
        "id": "aP63_w6PcehQ"
      },
      "execution_count": null,
      "outputs": []
    },
    {
      "cell_type": "code",
      "source": [
        "import sys\n",
        "input = sys.stdin.readline\n",
        "a, b, c = map(int, input().split())\n",
        "t = [0] * 101\n",
        "p = [0, a, b * 2, c * 3]\n",
        "res = 0\n",
        "for i in range(3):\n",
        "    x, y = map(int, input().split())\n",
        "    for j in range(x, y):\n",
        "        t[j] += 1\n",
        "for i in range(1, 100):\n",
        "    res += p[t[i]]\n",
        "print(res)"
      ],
      "metadata": {
        "id": "ix4WYd4Wc7uS"
      },
      "execution_count": null,
      "outputs": []
    },
    {
      "cell_type": "code",
      "source": [
        "import sys\n",
        "input = sys.stdin.readline\n",
        "a = list(map(int, input().split()))\n",
        "##for i in range(4):\n",
        "for i in range(5):\n",
        "    for j in range(4):\n",
        "        if a[j] > a[j + 1]:\n",
        "            a[j], a[j + 1] = a[j + 1], a[j]\n",
        "            print(*a)"
      ],
      "metadata": {
        "id": "Dj1X7rNEdCwF"
      },
      "execution_count": null,
      "outputs": []
    },
    {
      "cell_type": "code",
      "source": [
        "import sys\n",
        "input = sys.stdin.readline\n",
        "h, w = map(int, input().split())\n",
        "for i in range(h):\n",
        "    a = input().rstrip()\n",
        "    c = [-1] * w\n",
        "    s = a.find('c')\n",
        "    if s == -1:\n",
        "        print(*c)\n",
        "        continue\n",
        "    now = 0\n",
        "    for j in range(s, w):\n",
        "        if a[j] == 'c':\n",
        "            now = 0\n",
        "        else:\n",
        "            now += 1\n",
        "        c[j] = now\n",
        "    print(*c)"
      ],
      "metadata": {
        "id": "uEDtVhiQdKWy"
      },
      "execution_count": null,
      "outputs": []
    },
    {
      "cell_type": "code",
      "source": [
        "import sys\n",
        "input = sys.stdin.readline\n",
        "n, m = map(int, input().split())\n",
        "a = [[0] * 101 for i in range(101)]\n",
        "cnt = 0\n",
        "for i in range(n):\n",
        "    x1, y1, x2, y2 = map(int, input().split())\n",
        "    for j in range(x1, x2 + 1):\n",
        "        for k in range(y1, y2 + 1):\n",
        "            a[j][k] += 1\n",
        "for i in range(1, 101):\n",
        "    for j in range(1, 101):\n",
        "        if a[i][j] > m:\n",
        "            cnt += 1\n",
        "print(cnt)"
      ],
      "metadata": {
        "id": "rq7Jbgkwdeno"
      },
      "execution_count": null,
      "outputs": []
    }
  ]
}