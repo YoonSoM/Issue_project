{
  "nbformat": 4,
  "nbformat_minor": 0,
  "metadata": {
    "colab": {
      "provenance": []
    },
    "kernelspec": {
      "name": "python3",
      "display_name": "Python 3"
    },
    "language_info": {
      "name": "python"
    }
  },
  "cells": [
    {
      "cell_type": "markdown",
      "source": [
        "https://www.acmicpc.net/problem/10866"
      ],
      "metadata": {
        "id": "R8jn3A_wVusf"
      }
    },
    {
      "cell_type": "code",
      "execution_count": null,
      "metadata": {
        "id": "1b0j43GAVq91"
      },
      "outputs": [],
      "source": [
        "import sys\n",
        "import collections\n",
        "input = sys.stdin.readline\n",
        "n = int(input())\n",
        "d = collections.deque()\n",
        "for i in range(n):\n",
        "    a = input().rstrip()\n",
        "    if a == 'pop_front':\n",
        "        if len(d) == 0:\n",
        "            print(-1)\n",
        "        else:\n",
        "            print(d[0])\n",
        "            d.popleft()\n",
        "    elif a == 'pop_back':\n",
        "        if len(d) == 0:\n",
        "            print(-1)\n",
        "        else:\n",
        "            print(d[-1])\n",
        "            d.pop()\n",
        "    elif a == 'size':\n",
        "        print(len(d))\n",
        "    elif a == 'empty':\n",
        "        if len(d) == 0:\n",
        "            print(1)\n",
        "        else:\n",
        "            print(0)\n",
        "    elif a == 'front':\n",
        "        if len(d) == 0:\n",
        "            print(-1)\n",
        "        else:\n",
        "            print(d[0])\n",
        "    elif a == 'back':\n",
        "        if len(d) == 0:\n",
        "            print(-1)\n",
        "        else:\n",
        "            print(d[-1])\n",
        "    else:\n",
        "        a, x = a.split()\n",
        "        x = int(x)\n",
        "        if a == 'push_front':\n",
        "            d.appendleft(x)\n",
        "        else:\n",
        "            d.append(x)"
      ]
    },
    {
      "cell_type": "markdown",
      "source": [
        "https://www.acmicpc.net/problem/1021"
      ],
      "metadata": {
        "id": "dVbr_fzwZyF9"
      }
    },
    {
      "cell_type": "code",
      "source": [
        "import sys\n",
        "import collections\n",
        "input = sys.stdin.readline\n",
        "n, m = map(int, input().split())\n",
        "a = list(map(int, input().split()))\n",
        "q = collections.deque(range(1, n + 1))\n",
        "res = 0\n",
        "for x in a:\n",
        "    q1 = q.copy()\n",
        "    cnt1 = 0\n",
        "    while x != q1[0]:\n",
        "        b = q1.popleft()\n",
        "        q1.append(b)\n",
        "        cnt1 += 1\n",
        "    q2 = q.copy()\n",
        "    cnt2 = 0\n",
        "    while x != q2[0]:\n",
        "        b = q2.pop()\n",
        "        q2.appendleft(b)\n",
        "        cnt2 += 1\n",
        "    res += min(cnt1, cnt2)\n",
        "    q = q1.copy()\n",
        "    q.popleft()\n",
        "print(res)"
      ],
      "metadata": {
        "id": "Ib90uZ0vZw9V"
      },
      "execution_count": null,
      "outputs": []
    },
    {
      "cell_type": "code",
      "source": [
        "import sys\n",
        "import collections\n",
        "input = sys.stdin.readline\n",
        "n, m = map(int, input().split())\n",
        "a = list(map(int, input().split()))\n",
        "q = collections.deque(range(1, n + 1))\n",
        "res = 0\n",
        "for x in a:\n",
        "    cnt = 0\n",
        "    while x != q[0]:\n",
        "        b = q.popleft()\n",
        "        q.append(b)\n",
        "        cnt += 1\n",
        "    res += min(cnt, n - cnt)\n",
        "    q.popleft()\n",
        "    n -= 1\n",
        "print(res)"
      ],
      "metadata": {
        "id": "5G32VvhQZ0pg"
      },
      "execution_count": null,
      "outputs": []
    },
    {
      "cell_type": "markdown",
      "source": [
        "https://www.acmicpc.net/problem/1927"
      ],
      "metadata": {
        "id": "rMQxdJQPahX7"
      }
    },
    {
      "cell_type": "code",
      "source": [
        "import sys\n",
        "import heapq\n",
        "input = sys.stdin.readline\n",
        "n = int(input())\n",
        "h = []\n",
        "for i in range(n):\n",
        "    x = int(input())\n",
        "    if x == 0:\n",
        "        if len(h) == 0:\n",
        "            print(0)\n",
        "        else:\n",
        "            print(h[0])\n",
        "            heapq.heappop(h)\n",
        "    else:\n",
        "        heapq.heappush(h, x)"
      ],
      "metadata": {
        "id": "jialqdbyah_m"
      },
      "execution_count": null,
      "outputs": []
    },
    {
      "cell_type": "markdown",
      "source": [
        "https://www.acmicpc.net/problem/11279"
      ],
      "metadata": {
        "id": "mrnSsWLkbAmI"
      }
    },
    {
      "cell_type": "code",
      "source": [
        "import sys\n",
        "import heapq\n",
        "input = sys.stdin.readline\n",
        "n = int(input())\n",
        "h = []\n",
        "for i in range(n):\n",
        "    x = int(input())\n",
        "    if x == 0:\n",
        "        if len(h) == 0:\n",
        "            print(0)\n",
        "        else:\n",
        "            print(-h[0])\n",
        "            heapq.heappop(h)\n",
        "    else:\n",
        "        heapq.heappush(h, -x)"
      ],
      "metadata": {
        "id": "T0EwgsMNbBc7"
      },
      "execution_count": null,
      "outputs": []
    },
    {
      "cell_type": "markdown",
      "source": [
        "https://www.acmicpc.net/problem/11286"
      ],
      "metadata": {
        "id": "r6LuI01MbLOF"
      }
    },
    {
      "cell_type": "code",
      "source": [
        "import sys\n",
        "import heapq\n",
        "input = sys.stdin.readline\n",
        "n = int(input())\n",
        "h = []\n",
        "for i in range(n):\n",
        "    x = int(input())\n",
        "    if x == 0:\n",
        "        if len(h) == 0:\n",
        "            print(0)\n",
        "        else:\n",
        "            print(h[0][1])\n",
        "            heapq.heappop(h)\n",
        "    else:\n",
        "        heapq.heappush(h, [abs(x), x])"
      ],
      "metadata": {
        "id": "2Sb9r72tbMrp"
      },
      "execution_count": null,
      "outputs": []
    },
    {
      "cell_type": "markdown",
      "source": [
        "https://www.acmicpc.net/problem/14235"
      ],
      "metadata": {
        "id": "_mmQh2_SbW5B"
      }
    },
    {
      "cell_type": "code",
      "source": [
        "import sys\n",
        "import heapq\n",
        "input = sys.stdin.readline\n",
        "n = int(input())\n",
        "h = []\n",
        "for i in range(n):\n",
        "    a = list(map(int, input().split()))\n",
        "    if a[0] == 0:\n",
        "        if len(h) == 0:\n",
        "            print(-1)\n",
        "        else:\n",
        "            print(-h[0])\n",
        "            heapq.heappop(h)\n",
        "    else:\n",
        "        for x in a[1:]:\n",
        "            heapq.heappush(h, -x)"
      ],
      "metadata": {
        "id": "i4Csen9mbXab"
      },
      "execution_count": null,
      "outputs": []
    },
    {
      "cell_type": "markdown",
      "source": [
        "https://www.acmicpc.net/problem/1417"
      ],
      "metadata": {
        "id": "7vrEklnTblS1"
      }
    },
    {
      "cell_type": "code",
      "source": [
        "import sys\n",
        "import heapq\n",
        "input = sys.stdin.readline\n",
        "n = int(input())\n",
        "a = int(input())\n",
        "h = []\n",
        "for i in range(n - 1):\n",
        "    x = int(input())\n",
        "    heapq.heappush(h, - x)\n",
        "res = 0\n",
        "##if len(h) > 0:\n",
        "if n > 1:\n",
        "    while True:\n",
        "        x = -heapq.heappop(h)\n",
        "        if a > x:\n",
        "            break\n",
        "        res += 1\n",
        "        x -= 1\n",
        "        a += 1\n",
        "        heapq.heappush(h, -x)\n",
        "print(res)"
      ],
      "metadata": {
        "id": "1NStYp4ibm8F"
      },
      "execution_count": null,
      "outputs": []
    }
  ]
}