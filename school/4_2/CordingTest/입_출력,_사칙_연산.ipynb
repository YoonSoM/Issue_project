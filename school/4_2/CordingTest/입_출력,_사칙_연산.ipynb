{
  "nbformat": 4,
  "nbformat_minor": 0,
  "metadata": {
    "colab": {
      "provenance": []
    },
    "kernelspec": {
      "name": "python3",
      "display_name": "Python 3"
    },
    "language_info": {
      "name": "python"
    }
  },
  "cells": [
    {
      "cell_type": "code",
      "execution_count": 1,
      "metadata": {
        "colab": {
          "base_uri": "https://localhost:8080/"
        },
        "id": "mH6lT0RnGV8y",
        "outputId": "a196d575-852b-4da6-e352-6a0ce8c49130"
      },
      "outputs": [
        {
          "output_type": "stream",
          "name": "stdout",
          "text": [
            "\n",
            "\n"
          ]
        }
      ],
      "source": [
        "a = input()\n",
        "print(a)"
      ]
    },
    {
      "cell_type": "code",
      "source": [
        "a = input()\n",
        "print(a)"
      ],
      "metadata": {
        "colab": {
          "base_uri": "https://localhost:8080/"
        },
        "id": "mR3GM2vNGaxJ",
        "outputId": "717735b0-e434-4de1-893f-06b413e00ccc"
      },
      "execution_count": 4,
      "outputs": [
        {
          "output_type": "stream",
          "name": "stdout",
          "text": [
            "\"a\"\n",
            "\"a\"\n"
          ]
        }
      ]
    },
    {
      "cell_type": "code",
      "source": [
        "a = input()\n",
        "a = int(a)\n",
        "print(a)"
      ],
      "metadata": {
        "colab": {
          "base_uri": "https://localhost:8080/"
        },
        "id": "0XTF_mfwGcgv",
        "outputId": "3d22428b-f643-4ba4-eb50-6e083687a834"
      },
      "execution_count": 7,
      "outputs": [
        {
          "output_type": "stream",
          "name": "stdout",
          "text": [
            "1\n",
            "1\n"
          ]
        }
      ]
    },
    {
      "cell_type": "code",
      "source": [
        "a = int(input())\n",
        "print(a)"
      ],
      "metadata": {
        "colab": {
          "base_uri": "https://localhost:8080/"
        },
        "id": "oi2Ah0nlGeWM",
        "outputId": "75b13a5a-da20-49cb-d889-cee84a107443"
      },
      "execution_count": 8,
      "outputs": [
        {
          "output_type": "stream",
          "name": "stdout",
          "text": [
            "1\n",
            "1\n"
          ]
        }
      ]
    },
    {
      "cell_type": "code",
      "source": [
        "a = input()\n",
        "print(float(a))"
      ],
      "metadata": {
        "colab": {
          "base_uri": "https://localhost:8080/"
        },
        "id": "X7LZxGz8Gzf7",
        "outputId": "992ffd5a-f642-4a71-b891-34e39dcddd85"
      },
      "execution_count": 10,
      "outputs": [
        {
          "output_type": "stream",
          "name": "stdout",
          "text": [
            "1\n",
            "1.0\n"
          ]
        }
      ]
    },
    {
      "cell_type": "code",
      "source": [
        "a = float(input())\n",
        "print(a)"
      ],
      "metadata": {
        "colab": {
          "base_uri": "https://localhost:8080/"
        },
        "id": "QZZwJmCoG2TS",
        "outputId": "c2ddf3ce-8eef-4da3-960f-8dae655324aa"
      },
      "execution_count": 11,
      "outputs": [
        {
          "output_type": "stream",
          "name": "stdout",
          "text": [
            "1\n",
            "1.0\n"
          ]
        }
      ]
    },
    {
      "cell_type": "code",
      "source": [
        "a, b = input().split()\n",
        "a = int(a)\n",
        "b = int(b)\n",
        "print(a, b)"
      ],
      "metadata": {
        "id": "IvvrIC47G9hb"
      },
      "execution_count": null,
      "outputs": []
    },
    {
      "cell_type": "code",
      "source": [
        "a, b, c = map(int, input().split())\n",
        "print(a, b, c)"
      ],
      "metadata": {
        "id": "f_5jxGo3Htm1"
      },
      "execution_count": null,
      "outputs": []
    },
    {
      "cell_type": "code",
      "source": [
        "a = input().split()\n",
        "print(a)\n",
        "print(*a)"
      ],
      "metadata": {
        "id": "w7LhnoikHwSK"
      },
      "execution_count": null,
      "outputs": []
    },
    {
      "cell_type": "code",
      "source": [
        "\n",
        "a = list(map(int, input().split()))\n",
        "print(a)\n",
        "print(*a)"
      ],
      "metadata": {
        "id": "pLveOj9pHyU3"
      },
      "execution_count": null,
      "outputs": []
    },
    {
      "cell_type": "code",
      "source": [
        ":\n",
        "import sys\n",
        "input = sys.stdin.readline\n",
        "a = input().rstrip()\n",
        "print(a)"
      ],
      "metadata": {
        "id": "wqJKZxzrH0Mc"
      },
      "execution_count": null,
      "outputs": []
    },
    {
      "cell_type": "code",
      "source": [
        "a, b = input().split()\n",
        "a = int(a)\n",
        "b = int(b)\n",
        "print(a + b)"
      ],
      "metadata": {
        "id": "fyaFNFk2H2i7"
      },
      "execution_count": null,
      "outputs": []
    },
    {
      "cell_type": "code",
      "source": [
        "a, b = input().split()\n",
        "print(int(a) + int(b))"
      ],
      "metadata": {
        "id": "A1_Iud4eH4Ts"
      },
      "execution_count": null,
      "outputs": []
    },
    {
      "cell_type": "code",
      "source": [
        "a, b = map(int, input().split())\n",
        "print(a + b)"
      ],
      "metadata": {
        "id": "4jWGCgplH6Hn"
      },
      "execution_count": null,
      "outputs": []
    },
    {
      "cell_type": "code",
      "source": [
        "a, b = map(int, input().split())\n",
        "print(a - b)"
      ],
      "metadata": {
        "id": "sWh8Hv-TH8p3"
      },
      "execution_count": null,
      "outputs": []
    },
    {
      "cell_type": "code",
      "source": [
        "a, b = map(int, input().split())\n",
        "print(a * b)"
      ],
      "metadata": {
        "id": "txBKtpUAH-YA"
      },
      "execution_count": null,
      "outputs": []
    },
    {
      "cell_type": "code",
      "source": [
        "a = input()\n",
        "b = input()\n",
        "a = int(a)\n",
        "b = int(b)\n",
        "print(a + b)"
      ],
      "metadata": {
        "id": "S9yZi0epIAYH"
      },
      "execution_count": null,
      "outputs": []
    },
    {
      "cell_type": "code",
      "source": [
        "a = input()\n",
        "b = input()\n",
        "print(int(a) + int(b))"
      ],
      "metadata": {
        "id": "8zKnvdnjIFZP"
      },
      "execution_count": null,
      "outputs": []
    },
    {
      "cell_type": "code",
      "source": [
        "a = int(input())\n",
        "b = int(input())\n",
        "print(a + b)"
      ],
      "metadata": {
        "id": "7itPzYKqIG5V"
      },
      "execution_count": null,
      "outputs": []
    },
    {
      "cell_type": "code",
      "source": [
        "t = int(input())\n",
        "for i in range(t):\n",
        "a, b = map(int, input().split(','))\n",
        "print(a + b)"
      ],
      "metadata": {
        "id": "VPx_hA8EIIp3"
      },
      "execution_count": null,
      "outputs": []
    },
    {
      "cell_type": "code",
      "source": [
        "a, b = map(int, input().split())\n",
        "print(a / b)"
      ],
      "metadata": {
        "id": "nKy2S5BfIMYr"
      },
      "execution_count": null,
      "outputs": []
    },
    {
      "cell_type": "code",
      "source": [
        "a, b = map(int, input().split())\n",
        "print(a + b)\n",
        "print(a - b)\n",
        "print(a * b)\n",
        "print(a // b)\n",
        "print(a % b)"
      ],
      "metadata": {
        "id": "sRgVZfa2IOJp"
      },
      "execution_count": null,
      "outputs": []
    },
    {
      "cell_type": "code",
      "source": [
        "import sys\n",
        "input = sys.stdin.readline\n",
        "t = int(input())\n",
        "for i in range(t):\n",
        "a, b = map(int, input().split())\n",
        "print(a + b)"
      ],
      "metadata": {
        "id": "tQoEZnc0IRjE"
      },
      "execution_count": null,
      "outputs": []
    },
    {
      "cell_type": "code",
      "source": [
        "##print(2541 - 1998)\n",
        "y = int(input())\n",
        "print(y - 543)"
      ],
      "metadata": {
        "id": "-lWeX2WwITYj"
      },
      "execution_count": null,
      "outputs": []
    },
    {
      "cell_type": "code",
      "source": [
        "a, b, c = map(int, input().split())\n",
        "d = int(input())\n",
        "c += d\n",
        "b += c // 60\n",
        "c %= 60\n",
        "a += b // 60\n",
        "b %= 60\n",
        "a %= 24\n",
        "print(a, b, c)"
      ],
      "metadata": {
        "id": "kASK-HTTIVlf"
      },
      "execution_count": null,
      "outputs": []
    },
    {
      "cell_type": "code",
      "source": [
        "a, b = map(int, input().split())\n",
        "c = int(input())\n",
        "b += c\n",
        "a += b // 60\n",
        "b %= 60\n",
        "a %= 24\n",
        "print(a, b)"
      ],
      "metadata": {
        "id": "lKaImVlGIZX4"
      },
      "execution_count": null,
      "outputs": []
    }
  ]
}