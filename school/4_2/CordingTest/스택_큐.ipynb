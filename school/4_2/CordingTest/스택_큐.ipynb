{
  "nbformat": 4,
  "nbformat_minor": 0,
  "metadata": {
    "colab": {
      "provenance": []
    },
    "kernelspec": {
      "name": "python3",
      "display_name": "Python 3"
    },
    "language_info": {
      "name": "python"
    }
  },
  "cells": [
    {
      "cell_type": "markdown",
      "source": [
        "https://www.acmicpc.net/problem/10828"
      ],
      "metadata": {
        "id": "2T3EQZy1HQUY"
      }
    },
    {
      "cell_type": "code",
      "execution_count": null,
      "metadata": {
        "id": "rDMqH8mhDBk2"
      },
      "outputs": [],
      "source": [
        "import sys\n",
        "import collections\n",
        "input = sys.stdin.readline\n",
        "n = int(input())\n",
        "s = collections.deque()\n",
        "for i in range(n):\n",
        "    a = input().rstrip()\n",
        "    if a == 'pop':\n",
        "        if len(s) == 0:\n",
        "            print(-1)\n",
        "        else:\n",
        "            print(s[-1])\n",
        "            s.pop()\n",
        "    elif a == 'size':\n",
        "        print(len(s))\n",
        "    elif a == 'empty':\n",
        "        if len(s) == 0:\n",
        "            print(1)\n",
        "        else:\n",
        "            print(0)\n",
        "    elif a == 'top':\n",
        "        if len(s) == 0:\n",
        "            print(-1)\n",
        "        else:\n",
        "            print(s[-1])\n",
        "    else:\n",
        "        a, x = a.split()\n",
        "        s.append(int(x))"
      ]
    },
    {
      "cell_type": "markdown",
      "source": [
        "https://www.acmicpc.net/problem/10773"
      ],
      "metadata": {
        "id": "QSawDe7fJxR-"
      }
    },
    {
      "cell_type": "code",
      "source": [
        "import sys\n",
        "import collections\n",
        "input = sys.stdin.readline\n",
        "n = int(input())\n",
        "s = collections.deque()\n",
        "for i in range(n):\n",
        "    a = int(input())\n",
        "    if a == 0:\n",
        "        s.pop()\n",
        "    else:\n",
        "        s.append(a)\n",
        "print(sum(s))"
      ],
      "metadata": {
        "id": "6u2Gwq0oJygt"
      },
      "execution_count": null,
      "outputs": []
    },
    {
      "cell_type": "markdown",
      "source": [
        "https://www.acmicpc.net/problem/9012"
      ],
      "metadata": {
        "id": "BRgaQ-bxJ46A"
      }
    },
    {
      "cell_type": "code",
      "source": [
        "import sys\n",
        "import collections\n",
        "input = sys.stdin.readline\n",
        "t = int(input())\n",
        "for i in range(t):\n",
        "    a = input().rstrip()\n",
        "    s = collections.deque()\n",
        "    flag = 1\n",
        "    for x in a:\n",
        "        if x == '(':\n",
        "            s.append(x)\n",
        "        else:\n",
        "            if len(s) > 0:\n",
        "                s.pop()\n",
        "            else:\n",
        "                flag = 0\n",
        "                break\n",
        "    if flag == 1 and len(s) == 0:\n",
        "        print('YES')\n",
        "    else:\n",
        "        print('NO')"
      ],
      "metadata": {
        "id": "Qo3l3W8_J5pa"
      },
      "execution_count": null,
      "outputs": []
    },
    {
      "cell_type": "code",
      "source": [
        "import sys\n",
        "##import collections\n",
        "input = sys.stdin.readline\n",
        "t = int(input())\n",
        "for i in range(t):\n",
        "    a = input().rstrip()\n",
        "##     s = collections.deque()\n",
        "    cnt = 0\n",
        "    flag = 1\n",
        "    for x in a:\n",
        "        if x == '(':\n",
        "            cnt += 1\n",
        "        else:\n",
        "            if cnt > 0:\n",
        "                cnt -= 1\n",
        "            else:\n",
        "                flag = 0\n",
        "                break\n",
        "    if flag == 1 and cnt == 0:\n",
        "        print('YES')\n",
        "    else:\n",
        "        print('NO')"
      ],
      "metadata": {
        "id": "Oq-HaPTmMORn"
      },
      "execution_count": null,
      "outputs": []
    },
    {
      "cell_type": "markdown",
      "source": [
        "https://www.acmicpc.net/problem/17952"
      ],
      "metadata": {
        "id": "zU_aiIh9Nb7E"
      }
    },
    {
      "cell_type": "code",
      "source": [
        "import sys\n",
        "import collections\n",
        "input = sys.stdin.readline\n",
        "n = int(input())\n",
        "s = collections.deque()\n",
        "res = 0\n",
        "for i in range(n):\n",
        "    b = list(map(int, input().split()))\n",
        "    if b[0] == 0:\n",
        "        if len(s) == 0:\n",
        "            continue\n",
        "        a, t = s.pop()\n",
        "    else:\n",
        "        a, t = b[1], b[2]\n",
        "    if t == 1:\n",
        "        res += a\n",
        "    else:\n",
        "        s.append([a, t - 1])\n",
        "print(res)"
      ],
      "metadata": {
        "id": "ALBb2-aPNh6p"
      },
      "execution_count": null,
      "outputs": []
    },
    {
      "cell_type": "markdown",
      "source": [
        "https://www.acmicpc.net/problem/10845"
      ],
      "metadata": {
        "id": "hTZvAqJMOR5m"
      }
    },
    {
      "cell_type": "code",
      "source": [
        "import sys\n",
        "import collections\n",
        "input = sys.stdin.readline\n",
        "n = int(input())\n",
        "q = collections.deque()\n",
        "for i in range(n):\n",
        "    a = input().rstrip()\n",
        "    if a == 'pop':\n",
        "        if len(q) == 0:\n",
        "            print(-1)\n",
        "        else:\n",
        "            print(q[0])\n",
        "            q.popleft()\n",
        "    elif a == 'size':\n",
        "        print(len(q))\n",
        "    elif a == 'empty':\n",
        "        if len(q) == 0:\n",
        "            print(1)\n",
        "        else:\n",
        "            print(0)\n",
        "    elif a == 'front':\n",
        "        if len(q) == 0:\n",
        "            print(-1)\n",
        "        else:\n",
        "            print(q[0])\n",
        "    elif a == 'back':\n",
        "        if len(q) == 0:\n",
        "            print(-1)\n",
        "        else:\n",
        "            print(q[-1])\n",
        "    else:\n",
        "        a, x = a.split()\n",
        "        q.append(int(x))"
      ],
      "metadata": {
        "id": "2rgBAy5yOS5Q"
      },
      "execution_count": null,
      "outputs": []
    },
    {
      "cell_type": "markdown",
      "source": [
        "https://www.acmicpc.net/problem/11866"
      ],
      "metadata": {
        "id": "H845WGHzPDQu"
      }
    },
    {
      "cell_type": "code",
      "source": [
        "import sys\n",
        "import collections\n",
        "input = sys.stdin.readline\n",
        "n, k = map(int, input().split())\n",
        "q = collections.deque(range(1, n + 1))\n",
        "res = []\n",
        "for i in range(n):\n",
        "    for j in range(k - 1):\n",
        "        a = q.popleft()\n",
        "        q.append(a)\n",
        "    a = q.popleft()\n",
        "    res.append(a)\n",
        "print('<', end = '')\n",
        "print(*res, sep = ', ', end = '')\n",
        "print('>')"
      ],
      "metadata": {
        "id": "wXmWs1NMPLnb"
      },
      "execution_count": null,
      "outputs": []
    },
    {
      "cell_type": "markdown",
      "source": [
        "https://www.acmicpc.net/problem/2164"
      ],
      "metadata": {
        "id": "AM9d7lGPPWhU"
      }
    },
    {
      "cell_type": "code",
      "source": [
        "import sys\n",
        "import collections\n",
        "input = sys.stdin.readline\n",
        "n = int(input())\n",
        "q = collections.deque(range(1, n + 1))\n",
        "##while len(q) > 1:\n",
        "for i in range(n - 1):\n",
        "    q.popleft()\n",
        "    a = q.popleft()\n",
        "    q.append(a)\n",
        "print(q[0])"
      ],
      "metadata": {
        "id": "SaQHyTkKPXTw"
      },
      "execution_count": null,
      "outputs": []
    }
  ]
}