{
  "nbformat": 4,
  "nbformat_minor": 0,
  "metadata": {
    "colab": {
      "provenance": []
    },
    "kernelspec": {
      "name": "python3",
      "display_name": "Python 3"
    },
    "language_info": {
      "name": "python"
    }
  },
  "cells": [
    {
      "cell_type": "markdown",
      "source": [
        "https://www.acmicpc.net/problem/2751"
      ],
      "metadata": {
        "id": "3Dx2eyrfJ9Is"
      }
    },
    {
      "cell_type": "code",
      "execution_count": null,
      "metadata": {
        "id": "xO0n2rSzJ0IE"
      },
      "outputs": [],
      "source": [
        "import sys\n",
        "input = sys.stdin.readline\n",
        "n = int(input())\n",
        "a = []\n",
        "for i in range(n):\n",
        "    x = int(input())\n",
        "for i in range(n):\n",
        "    a.append(x)\n",
        "a.sort()\n",
        "print(*a, sep = '\\n')"
      ]
    },
    {
      "cell_type": "markdown",
      "source": [
        "https://www.acmicpc.net/problem/10989"
      ],
      "metadata": {
        "id": "Zqs4S8fRKE68"
      }
    },
    {
      "cell_type": "code",
      "source": [
        "import sys\n",
        "input = sys.stdin.readline\n",
        "n = int(input())\n",
        "a = [0] * 10001\n",
        "for i in range(n):\n",
        "    x = int(input())\n",
        "    a[x] += 1\n",
        "for i in range(1, 10001):\n",
        "    if a[i] > 0:\n",
        "        for j in range(a[i]):\n",
        "            print(i)"
      ],
      "metadata": {
        "id": "KIhpzhVuKFjn"
      },
      "execution_count": null,
      "outputs": []
    },
    {
      "cell_type": "code",
      "source": [
        "import sys\n",
        "input = sys.stdin.readline\n",
        "n = int(input())\n",
        "a = [0] * 10001\n",
        "for i in range(n):\n",
        "    x = int(input())\n",
        "    a[x] += 1\n",
        "for i in range(1, 10001):\n",
        "    for j in range(a[i]):\n",
        "        print(i)"
      ],
      "metadata": {
        "id": "CQZC2taEKMmO"
      },
      "execution_count": null,
      "outputs": []
    },
    {
      "cell_type": "markdown",
      "source": [
        "https://www.acmicpc.net/problem/1427"
      ],
      "metadata": {
        "id": "_qFM_-7PKT57"
      }
    },
    {
      "cell_type": "code",
      "source": [
        "import sys\n",
        "input = sys.stdin.readline\n",
        "n = input().rstrip()\n",
        "a = []\n",
        "for x in n:\n",
        "##   a.append(int(x))\n",
        "   a.append(x)\n",
        "##a.sort()\n",
        "##a.reverse()\n",
        "a.sort(reverse = True)\n",
        "print(*a, sep = '')"
      ],
      "metadata": {
        "id": "q0TSyOwEKSkx"
      },
      "execution_count": null,
      "outputs": []
    },
    {
      "cell_type": "markdown",
      "source": [
        "https://www.acmicpc.net/problem/11650"
      ],
      "metadata": {
        "id": "OZnx6--CKWr5"
      }
    },
    {
      "cell_type": "code",
      "source": [
        "import sys\n",
        "input = sys.stdin.readline\n",
        "n = int(input())\n",
        "a = []\n",
        "for i in range(n):\n",
        "    x, y = map(int, input().split())\n",
        "##     a.append([x, y])\n",
        "    a.append((x, y))\n",
        "a.sort()\n",
        "for i in range(n):\n",
        "    x, y = a[i]\n",
        "    print(x, y)"
      ],
      "metadata": {
        "id": "VySp_vl8KdRE"
      },
      "execution_count": null,
      "outputs": []
    },
    {
      "cell_type": "code",
      "source": [
        "import sys\n",
        "input = sys.stdin.readline\n",
        "n = int(input())\n",
        "a = []\n",
        "for i in range(n):\n",
        "    x, y = map(int, input().split())\n",
        "## a.append([x, y])\n",
        "    a.append((x, y))\n",
        "a.sort()\n",
        "for x, y in a:\n",
        "   print(x, y)"
      ],
      "metadata": {
        "id": "Wx0nPkrvKjyy"
      },
      "execution_count": null,
      "outputs": []
    },
    {
      "cell_type": "markdown",
      "source": [
        "https://www.acmicpc.net/problem/11651"
      ],
      "metadata": {
        "id": "4dLuwAwUKrak"
      }
    },
    {
      "cell_type": "code",
      "source": [
        "import sys\n",
        "input = sys.stdin.readline\n",
        "n = int(input())\n",
        "a = []\n",
        "for i in range(n):\n",
        "    x, y = map(int, input().split())\n",
        "    a.append((y, x))\n",
        "a.sort()\n",
        "for y, x in a:\n",
        "    print(x, y)"
      ],
      "metadata": {
        "id": "17AebysqKtCe"
      },
      "execution_count": null,
      "outputs": []
    },
    {
      "cell_type": "markdown",
      "source": [
        "https://www.acmicpc.net/problem/10814"
      ],
      "metadata": {
        "id": "CbLw4OePKyOg"
      }
    },
    {
      "cell_type": "code",
      "source": [
        "import sys\n",
        "input = sys.stdin.readline\n",
        "n = int(input())\n",
        "a = []\n",
        "for i in range(n):\n",
        "    x, y = input().split()\n",
        "    a.append([int(x), i, y])\n",
        "a.sort()\n",
        "for x, i, y in a:\n",
        "    print(x, y)"
      ],
      "metadata": {
        "id": "WtdgOXUnK0OS"
      },
      "execution_count": null,
      "outputs": []
    },
    {
      "cell_type": "markdown",
      "source": [
        "https://www.acmicpc.net/problem/10825"
      ],
      "metadata": {
        "id": "CnG-SZITK48_"
      }
    },
    {
      "cell_type": "code",
      "source": [
        "import sys\n",
        "input = sys.stdin.readline\n",
        "n = int(input())\n",
        "a = []\n",
        "for i in range(n):\n",
        "    m, x, y, z = input().split()\n",
        "    a.append([-int(x), int(y), -int(z), m])\n",
        "a.sort()\n",
        "for x, y, z, m in a:\n",
        "    print(m)"
      ],
      "metadata": {
        "id": "C_jqa8BfK7n2"
      },
      "execution_count": null,
      "outputs": []
    },
    {
      "cell_type": "markdown",
      "source": [
        "https://www.acmicpc.net/problem/11656"
      ],
      "metadata": {
        "id": "Z0DrX9FuLJYT"
      }
    },
    {
      "cell_type": "code",
      "source": [
        "import sys\n",
        "input = sys.stdin.readline\n",
        "s = input().rstrip()\n",
        "n = len(s)\n",
        "a = []\n",
        "for i in range(n):\n",
        "    a.append(s[i:])\n",
        "a.sort()\n",
        "print(*a, sep = '\\n')"
      ],
      "metadata": {
        "id": "3qWFzdxILLDX"
      },
      "execution_count": null,
      "outputs": []
    }
  ]
}