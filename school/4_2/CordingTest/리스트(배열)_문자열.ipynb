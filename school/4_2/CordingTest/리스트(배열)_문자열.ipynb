{
  "nbformat": 4,
  "nbformat_minor": 0,
  "metadata": {
    "colab": {
      "provenance": []
    },
    "kernelspec": {
      "name": "python3",
      "display_name": "Python 3"
    },
    "language_info": {
      "name": "python"
    }
  },
  "cells": [
    {
      "cell_type": "code",
      "execution_count": null,
      "metadata": {
        "id": "k-sS8VikhGhu"
      },
      "outputs": [],
      "source": [
        "import sys\n",
        "input = sys.stdin.readline\n",
        "n = int(input())\n",
        "a = list(map(int, input().split()))\n",
        "res1, res2 = a[0], a[0]\n",
        "for x in a[1:]:\n",
        "    if x < res1:\n",
        "        res1 = x\n",
        "    if res2 < x:\n",
        "        res2 = x\n",
        "print(res1, res2)"
      ]
    },
    {
      "cell_type": "code",
      "source": [
        "import sys\n",
        "input = sys.stdin.readline\n",
        "n = int(input())\n",
        "a = list(map(int, input().split()))\n",
        "a.sort()\n",
        "print(a[0], a[-1])"
      ],
      "metadata": {
        "id": "Ik7I2fFNhpd8"
      },
      "execution_count": null,
      "outputs": []
    },
    {
      "cell_type": "code",
      "source": [
        "import sys\n",
        "input = sys.stdin.readline\n",
        "n = int(input())\n",
        "a = list(map(int, input().split()))\n",
        "print(min(a), max(a))"
      ],
      "metadata": {
        "id": "dqsPZGxOhrUh"
      },
      "execution_count": null,
      "outputs": []
    },
    {
      "cell_type": "code",
      "source": [
        "import sys\n",
        "input = sys.stdin.readline\n",
        "a = []\n",
        "for i in range(9):\n",
        "    x = int(input())\n",
        "    a.append(x)\n",
        "val = a[0]\n",
        "idx = 1\n",
        "for i in range(1, 9):\n",
        "    if val < a[i]:\n",
        "        val = a[i]\n",
        "        idx = i + 1\n",
        "print(val)\n",
        "print(idx)"
      ],
      "metadata": {
        "id": "p6AMWu5Hh-8y"
      },
      "execution_count": null,
      "outputs": []
    },
    {
      "cell_type": "code",
      "source": [
        "import sys\n",
        "input = sys.stdin.readline\n",
        "val = 0\n",
        "idx = 1\n",
        "##idx = 0\n",
        "for i in range(9):\n",
        "    x = int(input())\n",
        "    if val < x:\n",
        "        val = x\n",
        "        idx = i + 1\n",
        "print(val)\n",
        "print(idx)\n"
      ],
      "metadata": {
        "id": "FCKrOtNeiJyW"
      },
      "execution_count": null,
      "outputs": []
    },
    {
      "cell_type": "code",
      "source": [
        "import sys\n",
        "input = sys.stdin.readline\n",
        "val = 0\n",
        "idx = 1\n",
        "##idx = 0\n",
        "for i in range(1, 10):\n",
        "     x = int(input())\n",
        "     if val < x:\n",
        "          val = x\n",
        "          idx = i\n",
        "print(val)\n",
        "print(idx)"
      ],
      "metadata": {
        "id": "td0VimvxiRi8"
      },
      "execution_count": null,
      "outputs": []
    },
    {
      "cell_type": "code",
      "source": [
        "import sys\n",
        "input = sys.stdin.readline\n",
        "a = []\n",
        "for i in range(9):\n",
        "    b = list(map(int, input().split()))\n",
        "    a.append(b)\n",
        "val = a[0][0]\n",
        "idx = [1, 1]\n",
        "for i in range(9):\n",
        "    for j in range(9):\n",
        "        if val < a[i][j]:\n",
        "                val = a[i][j]\n",
        "                idx = [i + 1, j + 1]\n",
        "print(val)\n",
        "##print(idx[0], idx[1])\n",
        "print(*idx)"
      ],
      "metadata": {
        "id": "5MV2Hm6jiZpM"
      },
      "execution_count": null,
      "outputs": []
    },
    {
      "cell_type": "code",
      "source": [
        "import sys\n",
        "input = sys.stdin.readline\n",
        "val = -1\n",
        "idx = [0, 0]\n",
        "for i in range(9):\n",
        "    a = list(map(int, input().split()))\n",
        "    for j in range(9):\n",
        "        if val < a[j]:\n",
        "            val = a[j]\n",
        "            idx = [i + 1, j + 1]\n",
        "print(val)\n",
        "##print(idx[0], idx[1])\n",
        "print(*idx)"
      ],
      "metadata": {
        "id": "bgxwE5Xbiqi-"
      },
      "execution_count": null,
      "outputs": []
    },
    {
      "cell_type": "code",
      "source": [
        "import sys\n",
        "input = sys.stdin.readline\n",
        "a = input().rstrip()\n",
        "print(len(a))"
      ],
      "metadata": {
        "id": "kDCO9pwxi4Ws"
      },
      "execution_count": null,
      "outputs": []
    },
    {
      "cell_type": "code",
      "source": [
        "import sys\n",
        "input = sys.stdin.readline\n",
        "a = input().rstrip()\n",
        "##a = int(input())\n",
        "print(ord(a))\n",
        "##print(chr(a))"
      ],
      "metadata": {
        "id": "4t15qcaHjGKe"
      },
      "execution_count": null,
      "outputs": []
    },
    {
      "cell_type": "code",
      "source": [
        "import sys\n",
        "input = sys.stdin.readline\n",
        "a = input().rstrip()\n",
        "b = ''\n",
        "for x in a:\n",
        "    if x.isupper():\n",
        "        b += x.lower()\n",
        "    else:\n",
        "        b += x.upper()\n",
        "print(b)"
      ],
      "metadata": {
        "id": "Jr_k1ccCjMBB"
      },
      "execution_count": null,
      "outputs": []
    },
    {
      "cell_type": "code",
      "source": [
        "import sys\n",
        "input = sys.stdin.readline\n",
        "a = input().rstrip()\n",
        "b = [0] * 26\n",
        "for x in a:\n",
        "    b[ord(x) - ord('a')] += 1\n",
        "print(*b)"
      ],
      "metadata": {
        "id": "71CwKbXwjT7A"
      },
      "execution_count": null,
      "outputs": []
    },
    {
      "cell_type": "code",
      "source": [
        "import sys\n",
        "import string\n",
        "input = sys.stdin.readline\n",
        "a = input().rstrip()\n",
        "for x in string.ascii_lowercase:\n",
        "    print(a.find(x), end = ' ')"
      ],
      "metadata": {
        "id": "rw21daBDjZZ0"
      },
      "execution_count": null,
      "outputs": []
    },
    {
      "cell_type": "code",
      "source": [
        "import sys\n",
        "import string\n",
        "input = sys.stdin.readline\n",
        "a = input().rstrip()\n",
        "b = []\n",
        "for x in string.ascii_lowercase:\n",
        "    b.append(a.find(x))\n",
        "print(*b)"
      ],
      "metadata": {
        "id": "ksbtadNyjded"
      },
      "execution_count": null,
      "outputs": []
    },
    {
      "cell_type": "code",
      "source": [
        "import sys\n",
        "input = sys.stdin.readline\n",
        "n = int(input())\n",
        "a = input().rstrip()\n",
        "res = 0\n",
        "for x in a:\n",
        "    res += int(x)\n",
        "print(res)"
      ],
      "metadata": {
        "id": "U5bHPzpqjhTQ"
      },
      "execution_count": null,
      "outputs": []
    },
    {
      "cell_type": "code",
      "source": [
        "import sys\n",
        "input = sys.stdin.readline\n",
        "a = input().rstrip()\n",
        "res = 0\n",
        "##for x in ['a', 'e', 'i', 'o', 'u']:\n",
        "for x in 'aeiou':\n",
        "    res += a.count(x)\n",
        "print(res)"
      ],
      "metadata": {
        "id": "ChaYyD3QjlwE"
      },
      "execution_count": null,
      "outputs": []
    },
    {
      "cell_type": "code",
      "source": [
        "import sys\n",
        "input = sys.stdin.readline\n",
        "a = list(map(int, input().split(',')))\n",
        "print(len(a))"
      ],
      "metadata": {
        "id": "ReQB8rgZjpwY"
      },
      "execution_count": null,
      "outputs": []
    },
    {
      "cell_type": "code",
      "source": [
        "import sys\n",
        "input = sys.stdin.readline\n",
        "a = input().rstrip()\n",
        "print(a.count(',') + 1)"
      ],
      "metadata": {
        "id": "N4jvmfN8jsKj"
      },
      "execution_count": null,
      "outputs": []
    },
    {
      "cell_type": "code",
      "source": [
        "import sys\n",
        "input = sys.stdin.readline\n",
        "a = input().split()\n",
        "print(len(a))"
      ],
      "metadata": {
        "id": "tvE66MyWjtPe"
      },
      "execution_count": null,
      "outputs": []
    },
    {
      "cell_type": "code",
      "source": [
        "import sys\n",
        "input = sys.stdin.readline\n",
        "a = input().rstrip()\n",
        "if a == a[::-1]:\n",
        "   print(1)\n",
        "else:\n",
        "   print(0)"
      ],
      "metadata": {
        "id": "8usz5V5ujwBd"
      },
      "execution_count": null,
      "outputs": []
    },
    {
      "cell_type": "code",
      "source": [
        "import sys\n",
        "input = sys.stdin.readline\n",
        "a, b = input().split()\n",
        "a = int(a[::-1])\n",
        "b = int(b[::-1])\n",
        "##if a > b:\n",
        "## print(a)\n",
        "##else:\n",
        "## print(b)\n",
        "print(max(a, b))"
      ],
      "metadata": {
        "id": "9-6-NpN4j0Pg"
      },
      "execution_count": null,
      "outputs": []
    },
    {
      "cell_type": "code",
      "source": [
        "import sys\n",
        "input = sys.stdin.readline\n",
        "a = input().rstrip()\n",
        "b = ''\n",
        "for x in a:\n",
        "    c = ord(x) - 3\n",
        "    if c < ord('A'):\n",
        "        c += 26\n",
        "    b += chr(c)\n",
        "print(b)"
      ],
      "metadata": {
        "id": "3blv-fvYj2z0"
      },
      "execution_count": null,
      "outputs": []
    },
    {
      "cell_type": "code",
      "source": [
        "import sys\n",
        "input = sys.stdin.readline\n",
        "t = int(input())\n",
        "for i in range(t):\n",
        "    a = input().rstrip()\n",
        "    res = 0\n",
        "    v = 0\n",
        "    for x in a:\n",
        "        if x == 'O':\n",
        "            v += 1\n",
        "        else:\n",
        "            v = 0\n",
        "        res += v\n",
        "print(res)"
      ],
      "metadata": {
        "id": "eTsRfQxpj_0r"
      },
      "execution_count": null,
      "outputs": []
    },
    {
      "cell_type": "code",
      "source": [
        ":\n",
        "import sys\n",
        "input = sys.stdin.readline\n",
        "a = []\n",
        "for i in range(8):\n",
        "    b = input().rstrip()\n",
        "    a.append(b)\n",
        "res = 0\n",
        "for i in range(8):\n",
        "    for j in range(8):\n",
        "        if a[i][j] == '.':\n",
        "        continue\n",
        "    if (i % 2 == 0 and j % 2 == 0) or (i % 2 == 1 and j % 2 == 1):\n",
        "        res += 1\n",
        "print(res)"
      ],
      "metadata": {
        "id": "LwXoYR9JkN4q"
      },
      "execution_count": null,
      "outputs": []
    },
    {
      "cell_type": "code",
      "source": [
        "import sys\n",
        "input = sys.stdin.readline\n",
        "res = 0\n",
        "for i in range(8):\n",
        "    a = input().rstrip()\n",
        "    for j in range(8):\n",
        "        if a[j] == '.':\n",
        "            continue\n",
        "        if i % 2 == j % 2:\n",
        "            res += 1\n",
        "print(res)"
      ],
      "metadata": {
        "id": "gD1paOxUkanj"
      },
      "execution_count": null,
      "outputs": []
    },
    {
      "cell_type": "code",
      "source": [
        "import sys\n",
        "input = sys.stdin.readline\n",
        "t = int(input())\n",
        "for i in range(t):\n",
        "    a = input().split()\n",
        "    for x in a:\n",
        "        print(x[::-1], end = ' ')\n",
        "    print()"
      ],
      "metadata": {
        "id": "6INq-SLYkroY"
      },
      "execution_count": null,
      "outputs": []
    },
    {
      "cell_type": "code",
      "source": [
        "import sys\n",
        "input = sys.stdin.readline\n",
        "t = int(input())\n",
        "for i in range(t):\n",
        "    a = input().split()\n",
        "    b = []\n",
        "    for x in a:\n",
        "        b.append(x[::-1])\n",
        "    print(*b)"
      ],
      "metadata": {
        "id": "FnTfl3cck07c"
      },
      "execution_count": null,
      "outputs": []
    },
    {
      "cell_type": "code",
      "source": [
        "import sys\n",
        "input = sys.stdin.readline\n",
        "n = int(input())\n",
        "for i in range(1, n + 1):\n",
        "    a = input().rstrip()\n",
        "    b = [0] * 26\n",
        "    for x in a:\n",
        "        if x.islower():\n",
        "            b[ord(x) - ord('a')] += 1\n",
        "        elif x.isupper():\n",
        "            b[ord(x) - ord('A')] += 1\n",
        "    cnt = min(b)\n",
        "    if cnt >= 3:\n",
        "        print(f'Case {i}:', 'Triple pangram!!!')\n",
        "    elif cnt == 2:\n",
        "        print(f'Case {i}:', 'Double pangram!!')\n",
        "    elif cnt == 1:\n",
        "        print(f'Case {i}:', 'Pangram!')\n",
        "    else:\n",
        "        print(f'Case {i}:', 'Not a pangram')"
      ],
      "metadata": {
        "id": "9B6PreU_lAOw"
      },
      "execution_count": null,
      "outputs": []
    }
  ]
}