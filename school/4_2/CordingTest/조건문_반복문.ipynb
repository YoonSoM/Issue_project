{
  "nbformat": 4,
  "nbformat_minor": 0,
  "metadata": {
    "colab": {
      "provenance": []
    },
    "kernelspec": {
      "name": "python3",
      "display_name": "Python 3"
    },
    "language_info": {
      "name": "python"
    }
  },
  "cells": [
    {
      "cell_type": "code",
      "execution_count": null,
      "metadata": {
        "id": "9TflEvYMlJ95"
      },
      "outputs": [],
      "source": [
        "import sys\n",
        "input = sys.stdin.readline\n",
        "a, b = map(int, input().split())\n",
        "if a > b:\n",
        "print('>')\n",
        "elif a < b:\n",
        "print('<')\n",
        "else:\n",
        "print('==')"
      ]
    },
    {
      "cell_type": "code",
      "source": [
        "import sys\n",
        "input = sys.stdin.readline\n",
        "a = int(input())\n",
        "if 90 <= a <= 100:\n",
        "print('A')\n",
        "elif 80 <= a <= 89:\n",
        "print('B')\n",
        "elif 70 <= a <= 79:\n",
        "print('C')\n",
        "elif 60 <= a <= 69:\n",
        "print('D')\n",
        "else:\n",
        "print('F')\n"
      ],
      "metadata": {
        "id": "IvOtz62xlNEB"
      },
      "execution_count": null,
      "outputs": []
    },
    {
      "cell_type": "code",
      "source": [
        "import sys\n",
        "input = sys.stdin.readline\n",
        "a = int(input())\n",
        "if 90 <= a:\n",
        "print('A')\n",
        "elif 80 <= a:\n",
        "     print('B')\n",
        "elif 70 <= a:\n",
        "    print('C')\n",
        "elif 60 <= a:\n",
        "    print('D')\n",
        "else:\n",
        "    print('F')"
      ],
      "metadata": {
        "id": "sydeQDEflOjC"
      },
      "execution_count": null,
      "outputs": []
    },
    {
      "cell_type": "code",
      "source": [
        "import sys\n",
        "input = sys.stdin.readline\n",
        "a = int(input())\n",
        "a //= 10\n",
        "if 9 <= a:\n",
        "    print('A')\n",
        "elif a == 8:\n",
        "    print('B')\n",
        "elif a == 7:\n",
        "    print('C')\n",
        "elif a == 6:\n",
        "    print('D')\n",
        "else:\n",
        "    print('F')"
      ],
      "metadata": {
        "id": "pxsKN5fUlQgi"
      },
      "execution_count": null,
      "outputs": []
    },
    {
      "cell_type": "code",
      "source": [
        "import sys\n",
        "input = sys.stdin.readline\n",
        "x = int(input())\n",
        "y = int(input())\n",
        "if x > 0 and y > 0:\n",
        "    print(1)\n",
        "elif x < 0 and y > 0:\n",
        "    print(2)\n",
        "elif x < 0 and y < 0:\n",
        "    print(3)\n",
        "else:\n",
        "    print(4)"
      ],
      "metadata": {
        "id": "UOASpgOplner"
      },
      "execution_count": null,
      "outputs": []
    },
    {
      "cell_type": "code",
      "source": [
        "import sys\n",
        "input = sys.stdin.readline\n",
        "x = int(input())\n",
        "y = int(input())\n",
        "if x > 0:\n",
        "    if y > 0:\n",
        "        print(1)\n",
        "    else:\n",
        "        print(4)\n",
        "else:\n",
        "    if y > 0:\n",
        "        print(2)\n",
        "    else:\n",
        "        print(3)"
      ],
      "metadata": {
        "id": "GW_xBRXql2yE"
      },
      "execution_count": null,
      "outputs": []
    },
    {
      "cell_type": "code",
      "source": [
        "import sys\n",
        "input = sys.stdin.readline\n",
        "a = list(map(int, input().split()))\n",
        "res = 0\n",
        "for x in a:\n",
        "## res += x * x\n",
        "    res += x ** 2\n",
        "## res %= 10\n",
        "print(res % 10)"
      ],
      "metadata": {
        "id": "_kQsNE62mTDy"
      },
      "execution_count": null,
      "outputs": []
    },
    {
      "cell_type": "code",
      "source": [
        "import sys\n",
        "input = sys.stdin.readline\n",
        "k, n, m = map(int, input().split())\n",
        "if k * n <= m:\n",
        "    print(0)\n",
        "else:\n",
        "    print(k * n - m)"
      ],
      "metadata": {
        "id": "We9BY2PUmiXt"
      },
      "execution_count": null,
      "outputs": []
    },
    {
      "cell_type": "code",
      "source": [
        "import sys\n",
        "input = sys.stdin.readline\n",
        "while True:\n",
        "    a, b = map(int, input().split())\n",
        "## if a == b == 0:\n",
        "    if a == b:\n",
        "        break\n",
        "    if b % a == 0:\n",
        "        print('factor')\n",
        "    elif a % b == 0:\n",
        "        print('multiple')\n",
        "    else:\n",
        "        print('neither')"
      ],
      "metadata": {
        "id": "3onJpSh_m7B_"
      },
      "execution_count": null,
      "outputs": []
    },
    {
      "cell_type": "code",
      "source": [
        "import sys\n",
        "input = sys.stdin.readline\n",
        "n = int(input())\n",
        "for i in range(1, 10):\n",
        "    print(n, '*', i, '=', n * i)"
      ],
      "metadata": {
        "id": "qcRPd5LkpJTw"
      },
      "execution_count": null,
      "outputs": []
    },
    {
      "cell_type": "code",
      "source": [
        "import sys\n",
        "input = sys.stdin.readline\n",
        "n = int(input())\n",
        "for i in range(1, 10):\n",
        "## print(n, '*', i, '=', n * i)\n",
        "    print(f'{n} * {i} = {n * i}')"
      ],
      "metadata": {
        "id": "hSgLhDKppNXT"
      },
      "execution_count": null,
      "outputs": []
    },
    {
      "cell_type": "code",
      "source": [
        "import sys\n",
        "input = sys.stdin.readline\n",
        "n = int(input())\n",
        "for i in range(n):\n",
        "    print('*' * (i + 1))"
      ],
      "metadata": {
        "id": "CJ-ivuX9pUuV"
      },
      "execution_count": null,
      "outputs": []
    },
    {
      "cell_type": "code",
      "source": [
        "import sys\n",
        "input = sys.stdin.readline\n",
        "n = int(input())\n",
        "for i in range(1, n + 1):\n",
        "    print('*' * i)"
      ],
      "metadata": {
        "id": "eq8nrkDZpYmN"
      },
      "execution_count": null,
      "outputs": []
    },
    {
      "cell_type": "code",
      "source": [
        "import sys\n",
        "input = sys.stdin.readline\n",
        "n = int(input())\n",
        "for i in range(1, n + 1):\n",
        "    print(' ' * (n - i) + '*' * i)"
      ],
      "metadata": {
        "id": "OKM5fAQ1pf9W"
      },
      "execution_count": null,
      "outputs": []
    },
    {
      "cell_type": "code",
      "source": [
        "import sys\n",
        "input = sys.stdin.readline\n",
        "n = int(input())\n",
        "for i in range(n):\n",
        "## print(' ' * (n - (i + 1)) + '*' * (i + 1))\n",
        "    print(' ' * (n - i - 1) + '*' * (i + 1))"
      ],
      "metadata": {
        "id": "ZGXKOS34pimZ"
      },
      "execution_count": null,
      "outputs": []
    },
    {
      "cell_type": "code",
      "source": [
        "import sys\n",
        "input = sys.stdin.readline\n",
        "n = int(input())\n",
        "for i in range(n, 0, -1):\n",
        "    print('*' * i)"
      ],
      "metadata": {
        "id": "WKO3UNQ6pmlo"
      },
      "execution_count": null,
      "outputs": []
    },
    {
      "cell_type": "code",
      "source": [
        "import sys\n",
        "input = sys.stdin.readline\n",
        "n = int(input())\n",
        "for i in range(n):\n",
        "    print('*' * (n - i))"
      ],
      "metadata": {
        "id": "vB7shb-apqvU"
      },
      "execution_count": null,
      "outputs": []
    },
    {
      "cell_type": "code",
      "source": [
        "import sys\n",
        "input = sys.stdin.readline\n",
        "n = int(input())\n",
        "for i in range(n, 0, -1):\n",
        "    print(' ' * (n - i) + '*' * i)"
      ],
      "metadata": {
        "id": "REjZ-vJBpsj5"
      },
      "execution_count": null,
      "outputs": []
    },
    {
      "cell_type": "code",
      "source": [
        "import sys\n",
        "input = sys.stdin.readline\n",
        "n = int(input())\n",
        "for i in range(n):\n",
        "    print(' ' * i + '*' * (n - i))"
      ],
      "metadata": {
        "id": "TWwkYYu0pvcj"
      },
      "execution_count": null,
      "outputs": []
    },
    {
      "cell_type": "code",
      "source": [
        "import sys\n",
        "input = sys.stdin.readline\n",
        "n = int(input())\n",
        "for i in range(1, n + 1):\n",
        "    print(' ' * (n - i) + '*' * (2 * i - 1))"
      ],
      "metadata": {
        "id": "pMb-66ktpz5b"
      },
      "execution_count": null,
      "outputs": []
    },
    {
      "cell_type": "code",
      "source": [
        "import sys\n",
        "input = sys.stdin.readline\n",
        "n = int(input())\n",
        "for i in range(n, 0, -1):\n",
        "    print(' ' * (n - i) + '*' * (2 * i - 1))"
      ],
      "metadata": {
        "id": "gr-ek7UQp4sW"
      },
      "execution_count": null,
      "outputs": []
    },
    {
      "cell_type": "code",
      "source": [
        "import sys\n",
        "input = sys.stdin.readline\n",
        "a = int(input())\n",
        "if a % 4 != 0:\n",
        "    print(0)\n",
        "else:\n",
        "    if a % 100 != 0 or a % 400 == 0:\n",
        "        print(1)\n",
        "    else:\n",
        "        print(0)"
      ],
      "metadata": {
        "id": "bhAr2VkXp8Di"
      },
      "execution_count": null,
      "outputs": []
    },
    {
      "cell_type": "code",
      "source": [
        "import sys\n",
        "input = sys.stdin.readline\n",
        "a = int(input())\n",
        "##if (a % 4 == 0 and a % 100 != 0) or (a % 4 == 0 and a % 400 == 0):\n",
        "if (a % 4 == 0 and a % 100 != 0) or (a % 400 == 0):\n",
        "   print(1)\n",
        "else:\n",
        "   print(0)"
      ],
      "metadata": {
        "id": "maiJcaMzqD3l"
      },
      "execution_count": null,
      "outputs": []
    },
    {
      "cell_type": "code",
      "source": [
        "import sys\n",
        "input = sys.stdin.readline\n",
        "##if (a % 4 == 0 and a % 100 != 0) or (a % 4 == 0 and a % 400 == 0):\n",
        "##if (a % 4 == 0 and a % 100 != 0) or (a % 400 == 0):\n",
        "if (a % 4 == 0) and (a % 100 != 0 or a % 400 == 0):\n",
        "   print(1)\n",
        "else:\n",
        "   print(0)"
      ],
      "metadata": {
        "id": "bHCXQ6XyqMYq"
      },
      "execution_count": null,
      "outputs": []
    },
    {
      "cell_type": "code",
      "source": [
        "import sys\n",
        "input = sys.stdin.readline\n",
        "n, x = map(int, input().split())\n",
        "a = list(map(int, input().split()))\n",
        "for y in a:\n",
        "   if y < x:\n",
        "      print(y, end = ' ')"
      ],
      "metadata": {
        "id": "qx7A4sToqTgW"
      },
      "execution_count": null,
      "outputs": []
    },
    {
      "cell_type": "code",
      "source": [
        "import sys\n",
        "input = sys.stdin.readline\n",
        "n, x = map(int, input().split())\n",
        "a = list(map(int, input().split()))\n",
        "b = []\n",
        "for y in a:\n",
        "      if y < x:\n",
        "         b.append(y)\n",
        "print(*b)"
      ],
      "metadata": {
        "id": "gkv7ujyiqZPM"
      },
      "execution_count": null,
      "outputs": []
    },
    {
      "cell_type": "code",
      "source": [
        "import sys\n",
        "input = sys.stdin.readline\n",
        "##a, b, c = map(int, input().split())\n",
        "a = list(map(int, input().split()))\n",
        "if a[0] == a[1] == a[2]:\n",
        "   print(10000 + a[0] * 1000)\n",
        "elif a[0] == a[1]:\n",
        "   print(1000 + a[0] * 100)\n",
        "elif a[1] == a[2]:\n",
        "   print(1000 + a[1] * 100)\n",
        "elif a[2] == a[0]:\n",
        "   print(1000 + a[2] * 100)\n",
        "else:\n",
        "   print(max(a) * 100)"
      ],
      "metadata": {
        "id": "CfPLJNHlqi9P"
      },
      "execution_count": null,
      "outputs": []
    },
    {
      "cell_type": "code",
      "source": [
        "import sys\n",
        "input = sys.stdin.readline\n",
        "##a, b, c = map(int, input().split())\n",
        "a = list(map(int, input().split()))\n",
        "a.sort()\n",
        "if a[0] == a[2]:\n",
        "   print(10000 + a[0] * 1000)\n",
        "elif a[0] == a[1] or a[1] == a[2]:\n",
        "   print(1000 + a[1] * 100)\n",
        "else:\n",
        "   print(max(a) * 100)"
      ],
      "metadata": {
        "id": "lqNwzPWcqq_i"
      },
      "execution_count": null,
      "outputs": []
    },
    {
      "cell_type": "code",
      "source": [
        "import sys\n",
        "input = sys.stdin.readline\n",
        "n, m = map(int, input().split())\n",
        "a = list(map(int, input().split()))\n",
        "res = 0\n",
        "for i in range(n - 2):\n",
        "   for j in range(i + 1, n - 1):\n",
        "      for k in range(j + 1, n):\n",
        "         if res < a[i] + a[j] + a[k] <= m:\n",
        "            res = a[i] + a[j] + a[k]\n",
        "print(res)"
      ],
      "metadata": {
        "id": "D89UThloqwR2"
      },
      "execution_count": null,
      "outputs": []
    },
    {
      "cell_type": "code",
      "source": [
        "import sys\n",
        "input = sys.stdin.readline\n",
        "n = int(input())\n",
        "cnt = 0\n",
        "a = n\n",
        "while True:\n",
        "   b = a // 10 + a % 10\n",
        "   a = (a % 10) * 10 + b % 10\n",
        "   cnt += 1\n",
        "   if a == n:\n",
        "      break\n",
        "print(cnt)"
      ],
      "metadata": {
        "id": "6aS0ldJhq4M3"
      },
      "execution_count": null,
      "outputs": []
    }
  ]
}