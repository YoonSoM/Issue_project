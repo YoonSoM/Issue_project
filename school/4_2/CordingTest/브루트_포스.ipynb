{
  "nbformat": 4,
  "nbformat_minor": 0,
  "metadata": {
    "colab": {
      "provenance": []
    },
    "kernelspec": {
      "name": "python3",
      "display_name": "Python 3"
    },
    "language_info": {
      "name": "python"
    }
  },
  "cells": [
    {
      "cell_type": "markdown",
      "source": [
        "\n",
        "\n",
        "https://www.acmicpc.net/problem/1075\n",
        "\n"
      ],
      "metadata": {
        "id": "p-EMCYGZTwrh"
      }
    },
    {
      "cell_type": "code",
      "execution_count": null,
      "metadata": {
        "id": "jG9PmEJJNv5M"
      },
      "outputs": [],
      "source": [
        "import sys\n",
        "input = sys.stdin.readline\n",
        "n = int(input())\n",
        "f = int(input())\n",
        "n //= 100\n",
        "n *= 100\n",
        "res = 0\n",
        "for i in range(100):\n",
        "    if (n + i) % f == 0:\n",
        "        res = i\n",
        "        break\n",
        "if res < 10:\n",
        "##     print('0' + str(res))\n",
        "##     print(0, res, sep = '')\n",
        "    print(f'{res:02d}')\n",
        "else:\n",
        "    print(res)"
      ]
    },
    {
      "cell_type": "code",
      "source": [
        "import sys\n",
        "input = sys.stdin.readline\n",
        "n = int(input())\n",
        "f = int(input())\n",
        "n //= 100\n",
        "n *= 100\n",
        "res = 0\n",
        "for i in range(100):\n",
        "    if (n + i) % f == 0:\n",
        "        res = i\n",
        "        break\n",
        "print(f'{res:02d}')"
      ],
      "metadata": {
        "id": "WObcsLT6OY5f"
      },
      "execution_count": null,
      "outputs": []
    },
    {
      "cell_type": "markdown",
      "source": [
        "https://www.acmicpc.net/problem/3040"
      ],
      "metadata": {
        "id": "u5GlNUXKTp5X"
      }
    },
    {
      "cell_type": "code",
      "source": [
        "import sys\n",
        "input = sys.stdin.readline\n",
        "a = []\n",
        "for i in range(9):\n",
        "    x = int(input())\n",
        "    a.append(x)\n",
        "for i1 in range(9):\n",
        "    for i2 in range(i1 + 1, 9):\n",
        "        for i3 in range(i2 + 1, 9):\n",
        "            for i4 in range(i3 + 1, 9):\n",
        "              for i5 in range(i4 + 1, 9):\n",
        "                for i6 in range(i5 + 1, 9):\n",
        "                    for i7 in range(i6 + 1, 9):\n",
        "                        if a[i1] + a[i2] + a[i3] + a[i4] + a[i5] + a[i6] + a[i7]\n",
        "                            print(a[i1])\n",
        "                            print(a[i2])\n",
        "                            print(a[i3])\n",
        "                            print(a[i4])\n",
        "                            print(a[i5])\n",
        "                            print(a[i6])\n",
        "                            print(a[i7])"
      ],
      "metadata": {
        "id": "jnpDEocpOlYa"
      },
      "execution_count": null,
      "outputs": []
    },
    {
      "cell_type": "code",
      "source": [
        "import sys\n",
        "input = sys.stdin.readline\n",
        "a = []\n",
        "s = 0\n",
        "res = []\n",
        "for i in range(9):\n",
        "    x = int(input())\n",
        "    a.append(x)\n",
        "    s += x\n",
        "for i in range(9):\n",
        "    for j in range(i + 1, 9):\n",
        "        if s - a[i] - a[j] == 100:\n",
        "            res = [i, j]\n",
        "##             break\n",
        "##\n",
        "##     if len(res) > 0:\n",
        "##         break\n",
        "for i in range(9):\n",
        "    if i not in res:\n",
        "        print(a[i])"
      ],
      "metadata": {
        "id": "Z_lRkAuEO6po"
      },
      "execution_count": null,
      "outputs": []
    },
    {
      "cell_type": "code",
      "source": [
        "import sys\n",
        "input = sys.stdin.readline\n",
        "a = []\n",
        "s = 0\n",
        "res = []\n",
        "for i in range(9):\n",
        "    x = int(input())\n",
        "    a.append(x)\n",
        "    s += x\n",
        "for i in range(9):\n",
        "    for j in range(i + 1, 9):\n",
        "        if s - a[i] - a[j] == 100:\n",
        "            res = [a[i], a[j]]\n",
        "##             break\n",
        "##\n",
        "##     if len(res) > 0:\n",
        "##         break\n",
        "for i in range(9):\n",
        "    if a[i] not in res:\n",
        "        print(a[i])"
      ],
      "metadata": {
        "id": "04wIbm4CPTQt"
      },
      "execution_count": null,
      "outputs": []
    },
    {
      "cell_type": "markdown",
      "source": [
        "https://www.acmicpc.net/problem/14697"
      ],
      "metadata": {
        "id": "YNX5aWPoTfFp"
      }
    },
    {
      "cell_type": "code",
      "source": [
        "import sys\n",
        "input = sys.stdin.readline\n",
        "a, b, c, n = map(int, input().split())\n",
        "res = 0\n",
        "for i in range(n // a + 1):\n",
        "    for j in range(n // b + 1):\n",
        "        for k in range(n // c + 1):\n",
        "            if a * i + b * j + c * k == n:\n",
        "                res = 1\n",
        "##                 break\n",
        "##\n",
        "##         if res == 1:\n",
        "##             break\n",
        "##\n",
        "##     if res == 1:\n",
        "##         break\n",
        "print(res)"
      ],
      "metadata": {
        "id": "wtWlAFv6Pryg"
      },
      "execution_count": null,
      "outputs": []
    },
    {
      "cell_type": "markdown",
      "source": [
        "https://www.acmicpc.net/problem/19532"
      ],
      "metadata": {
        "id": "j-ey3srZTdZI"
      }
    },
    {
      "cell_type": "code",
      "source": [
        "import sys\n",
        "input = sys.stdin.readline\n",
        "a, b, c, d, e, f = map(int, input().split())\n",
        "res = []\n",
        "for x in range(-999, 1000):\n",
        "    for y in range(-999, 1000):\n",
        "        if a * x + b * y == c and d * x + e * y == f:\n",
        "            res = [x, y]\n",
        "##             break\n",
        "##\n",
        "##     if len(res) > 0:\n",
        "##         break\n",
        "print(*res)"
      ],
      "metadata": {
        "id": "gfNP71rPP3f2"
      },
      "execution_count": null,
      "outputs": []
    },
    {
      "cell_type": "markdown",
      "source": [
        "https://www.acmicpc.net/problem/2851"
      ],
      "metadata": {
        "id": "Wd445lawTbV6"
      }
    },
    {
      "cell_type": "code",
      "source": [
        "import sys\n",
        "input = sys.stdin.readline\n",
        "res = 0\n",
        "for i in range(10):\n",
        "    x = int(input())\n",
        "    now = res + x\n",
        "    if now <= 100:\n",
        "        res = now\n",
        "        continue\n",
        "    if now - 100 <= 100 - res:\n",
        "        res = now\n",
        "    break\n",
        "print(res)"
      ],
      "metadata": {
        "id": "mlQO-FWgQCRd"
      },
      "execution_count": null,
      "outputs": []
    },
    {
      "cell_type": "code",
      "source": [
        "import sys\n",
        "input = sys.stdin.readline\n",
        "res = 0\n",
        "for i in range(10):\n",
        "    x = int(input())\n",
        "    now = res + x\n",
        "    if abs(100 - res) < abs(100 - now):\n",
        "        break\n",
        "    res = now\n",
        "print(res)"
      ],
      "metadata": {
        "id": "yqjsU3jJQMLO"
      },
      "execution_count": null,
      "outputs": []
    },
    {
      "cell_type": "markdown",
      "source": [
        "https://www.acmicpc.net/problem/1145"
      ],
      "metadata": {
        "id": "r2a9jt1RTZ4p"
      }
    },
    {
      "cell_type": "code",
      "source": [
        "import sys\n",
        "input = sys.stdin.readline\n",
        "a = list(map(int, input().split()))\n",
        "res = 0\n",
        "for i in range(1, 1000000):\n",
        "    cnt = 0\n",
        "    for x in a:\n",
        "        if i % x == 0:\n",
        "            cnt += 1\n",
        "    if cnt >= 3:\n",
        "        res = i\n",
        "        break\n",
        "print(res)"
      ],
      "metadata": {
        "id": "h_Ke_OVPQTD8"
      },
      "execution_count": null,
      "outputs": []
    },
    {
      "cell_type": "markdown",
      "source": [
        "https://www.acmicpc.net/problem/7568"
      ],
      "metadata": {
        "id": "MVhP5e1pSFKV"
      }
    },
    {
      "cell_type": "code",
      "source": [
        "import sys\n",
        "input = sys.stdin.readline\n",
        "n = int(input())\n",
        "a = []\n",
        "res = [1] * n\n",
        "for i in range(n):\n",
        "    x, y = map(int, input().split())\n",
        "    a.append([x, y])\n",
        "for i in range(n):\n",
        "    x1, y1 = a[i]\n",
        "    for j in range(i + 1, n):\n",
        "        x2, y2 = a[j]\n",
        "        if x1 < x2 and y1 < y2:\n",
        "            res[i] += 1\n",
        "        elif x1 > x2 and y1 > y2:\n",
        "            res[j] += 1\n",
        "print(*res)"
      ],
      "metadata": {
        "id": "nXQMoClTQbeX"
      },
      "execution_count": null,
      "outputs": []
    },
    {
      "cell_type": "markdown",
      "source": [
        "https://www.acmicpc.net/problem/1436"
      ],
      "metadata": {
        "id": "TJK6144bSDMV"
      }
    },
    {
      "cell_type": "code",
      "source": [
        "import sys\n",
        "input = sys.stdin.readline\n",
        "n = int(input())\n",
        "cnt = 0\n",
        "i = 666\n",
        "while True:\n",
        "  if str(i).count('666') >= 1:\n",
        "      cnt += 1\n",
        "      if cnt == n:\n",
        "        break\n",
        "  i += 1\n",
        "print(i)"
      ],
      "metadata": {
        "id": "6CSjMAXrQkUw"
      },
      "execution_count": null,
      "outputs": []
    },
    {
      "cell_type": "markdown",
      "source": [
        "https://www.acmicpc.net/problem/1018"
      ],
      "metadata": {
        "id": "SMtHOBn9SBvX"
      }
    },
    {
      "cell_type": "code",
      "source": [
        "import sys\n",
        "input = sys.stdin.readline\n",
        "n, m = map(int, input().split())\n",
        "a = []\n",
        "res = 64\n",
        "for i in range(n):\n",
        "    x = input().rstrip()\n",
        "    a.append(x)\n",
        "for i in range(n - 7):\n",
        "    for j in range(m - 7):\n",
        "        cnt = 0\n",
        "        for x in range(i, i + 8):\n",
        "            for y in range(j, j + 8):\n",
        "                if (x + y) % 2 == 0 and a[x][y] == 'B':\n",
        "                    cnt += 1\n",
        "                elif (x + y) % 2 == 1 and a[x][y] == 'W':\n",
        "                    cnt += 1\n",
        "        res = min(res, cnt)\n",
        "        cnt = 0\n",
        "        for x in range(i, i + 8):\n",
        "            for y in range(j, j + 8):\n",
        "                if (x + y) % 2 == 0 and a[x][y] == 'W':\n",
        "                    cnt += 1\n",
        "                elif (x + y) % 2 == 1 and a[x][y] == 'B':\n",
        "                    cnt += 1\n",
        "        res = min(res, cnt)\n",
        "print(res)"
      ],
      "metadata": {
        "id": "47ZPpdAEQxUZ"
      },
      "execution_count": null,
      "outputs": []
    },
    {
      "cell_type": "markdown",
      "source": [],
      "metadata": {
        "id": "PKLZyVkyR8hk"
      }
    },
    {
      "cell_type": "code",
      "source": [
        "import sys\n",
        "input = sys.stdin.readline\n",
        "n, m = map(int, input().split())\n",
        "a = []\n",
        "res = 32\n",
        "for i in range(n):\n",
        "    x = input().rstrip()\n",
        "    a.append(x)\n",
        "for i in range(n - 7):\n",
        "    for j in range(m - 7):\n",
        "        cnt = 0\n",
        "        for x in range(i, i + 8):\n",
        "            for y in range(j, j + 8):\n",
        "                if (x + y) % 2 == 0 and a[x][y] == 'B':\n",
        "                    cnt += 1\n",
        "                elif (x + y) % 2 == 1 and a[x][y] == 'W':\n",
        "                    cnt += 1\n",
        "        res = min(res, cnt, 64 - cnt)\n",
        "print(res)"
      ],
      "metadata": {
        "id": "w9vrPK8fRMIr"
      },
      "execution_count": null,
      "outputs": []
    },
    {
      "cell_type": "markdown",
      "source": [
        "https://www.acmicpc.net/problem/1120"
      ],
      "metadata": {
        "id": "1BmM6wnxRyCs"
      }
    },
    {
      "cell_type": "code",
      "source": [
        "import sys\n",
        "input = sys.stdin.readline\n",
        "a, b = input().split()\n",
        "na, nb = len(a), len(b)\n",
        "res = 50\n",
        "for i in range(nb - na + 1):\n",
        "    cnt = 0\n",
        "    for j in range(na):\n",
        "        if a[j] != b[i + j]:\n",
        "            cnt += 1\n",
        "    res = min(res, cnt)\n",
        "print(res)"
      ],
      "metadata": {
        "id": "Ja1BwLd5RpqW"
      },
      "execution_count": null,
      "outputs": []
    }
  ]
}