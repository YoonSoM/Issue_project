{
  "nbformat": 4,
  "nbformat_minor": 0,
  "metadata": {
    "colab": {
      "provenance": []
    },
    "kernelspec": {
      "name": "python3",
      "display_name": "Python 3"
    },
    "language_info": {
      "name": "python"
    }
  },
  "cells": [
    {
      "cell_type": "markdown",
      "source": [
        "이번 유닛에서는 파이썬의 문자열 포매팅 기법에 대해 학습합니다.\n"
      ],
      "metadata": {
        "id": "vkFIWHDwvyme"
      }
    },
    {
      "cell_type": "markdown",
      "source": [
        "문자열 포매팅을 통해 문자열 내에 변수나 값을 효과적으로 삽입하는 방법을 익힙니다.\n"
      ],
      "metadata": {
        "id": "V6k8_Pc4v3ST"
      }
    },
    {
      "cell_type": "markdown",
      "source": [
        "이는 데이터 분석 결과를 보고서 형태로 만들거나, 로그 메시지를 생성할 때 유용하게 사\n",
        "용됩니다."
      ],
      "metadata": {
        "id": "Ws-HomvSv4JM"
      }
    },
    {
      "cell_type": "markdown",
      "source": [
        "% 연산자를 이용한 포매팅"
      ],
      "metadata": {
        "id": "OpHr2NVjv5LU"
      }
    },
    {
      "cell_type": "markdown",
      "source": [
        "% 연산자를 사용한 포매팅은 C언어 스타일의 포매팅 방식입니다"
      ],
      "metadata": {
        "id": "OFhMluN8v6q7"
      }
    },
    {
      "cell_type": "markdown",
      "source": [
        "현재는 권장되지 않지만, 레거시 코드에서 볼 수 있으므로 알아둘 필요가 있습니다."
      ],
      "metadata": {
        "id": "ZHBByTrvv7cc"
      }
    },
    {
      "cell_type": "code",
      "source": [
        "name = 'Alice'\n",
        "age = 25\n",
        "\"My name is %s and I'm %d years old.\" % (name, age)\n"
      ],
      "metadata": {
        "id": "W5D7LpuPv-mB"
      },
      "execution_count": null,
      "outputs": []
    },
    {
      "cell_type": "code",
      "execution_count": null,
      "metadata": {
        "id": "Ab7k-BoXvwjS"
      },
      "outputs": [],
      "source": [
        "pi = 3.14159\n",
        "'Pi is approximately %.2f' % pi\n"
      ]
    },
    {
      "cell_type": "markdown",
      "source": [
        "str.format() 메소드\n"
      ],
      "metadata": {
        "id": "K8rRGprMwARc"
      }
    },
    {
      "cell_type": "markdown",
      "source": [
        "str.format() 메소드는 % 연산자보다 더 유연하고 가독성이 좋은 포매팅 방법을 제\n",
        "공합니다"
      ],
      "metadata": {
        "id": "lWm05I61wCGM"
      }
    },
    {
      "cell_type": "code",
      "source": [
        "name = 'Alice'\n",
        "age = 25\n",
        "\"My name is {} and I'm {} years old.\".format(name, age)"
      ],
      "metadata": {
        "id": "0QtQLe5lwDJF"
      },
      "execution_count": null,
      "outputs": []
    },
    {
      "cell_type": "code",
      "source": [
        "\"My name is {0} and I'm {1} years old.\".format(name, age) # 인덱스 사용"
      ],
      "metadata": {
        "id": "sVGBe3YcwEjN"
      },
      "execution_count": null,
      "outputs": []
    },
    {
      "cell_type": "code",
      "source": [
        "\"My name is {n} and I'm {a} years old.\".format(n = name, a = age) # 키워드 인자 사용"
      ],
      "metadata": {
        "id": "Dhmcv31LwFt8"
      },
      "execution_count": null,
      "outputs": []
    },
    {
      "cell_type": "code",
      "source": [
        "pi = 3.14159\n",
        "'Pi is approximately {:.2f}'.format(pi)\n"
      ],
      "metadata": {
        "id": "z-eVU_oPwH96"
      },
      "execution_count": null,
      "outputs": []
    },
    {
      "cell_type": "markdown",
      "source": [
        "f -문자열"
      ],
      "metadata": {
        "id": "_0nPbnjOwItp"
      }
    },
    {
      "cell_type": "markdown",
      "source": [
        "f -문자열( f -strings)은 파이썬 3.6에서 도입된 문자열 포매팅 방법입니다"
      ],
      "metadata": {
        "id": "G98BhaFtwJxI"
      }
    },
    {
      "cell_type": "markdown",
      "source": [
        "간결하고 직관적이어서 많이 사용됩니다."
      ],
      "metadata": {
        "id": "jdVW_TAVwK4P"
      }
    },
    {
      "cell_type": "code",
      "source": [
        "name = 'Alice'\n",
        "age = 25\n",
        "f\"My name is {name} and I'm {age} years old.\""
      ],
      "metadata": {
        "id": "KxWMWDClwL3c"
      },
      "execution_count": null,
      "outputs": []
    },
    {
      "cell_type": "code",
      "source": [
        "f\"Next year, I'll be {age + 1} years old.\" # 표현식 사용"
      ],
      "metadata": {
        "id": "ppawNZCqwNAU"
      },
      "execution_count": null,
      "outputs": []
    },
    {
      "cell_type": "code",
      "source": [
        "pi = 3.14159\n",
        "f'Pi is approximately {pi:.2f}'"
      ],
      "metadata": {
        "id": "-OyxT6CIwOIC"
      },
      "execution_count": null,
      "outputs": []
    },
    {
      "cell_type": "code",
      "source": [
        "large_number = 1234567890\n",
        "f'Large number: {large_number:,}' # 천 단위 구분자 사용"
      ],
      "metadata": {
        "id": "Fss1sDISwPBi"
      },
      "execution_count": null,
      "outputs": []
    },
    {
      "cell_type": "markdown",
      "source": [
        "데이터 분석과 인공지능에서의 활용"
      ],
      "metadata": {
        "id": "lDkIgRj6wQOK"
      }
    },
    {
      "cell_type": "markdown",
      "source": [
        "문자열 포매팅은 데이터 분석과 인공지능 모델링에서 중요한 역할을 합니다"
      ],
      "metadata": {
        "id": "r20DEJ7wwT2S"
      }
    },
    {
      "cell_type": "markdown",
      "source": [
        "예) 데이터 분석 결과 보고서 생성"
      ],
      "metadata": {
        "id": "Ucr67m1ywEXk"
      }
    },
    {
      "cell_type": "markdown",
      "source": [
        "f -문자열을 사용하여 모델명, 정확도, 실행 시간 등의 정보를 포함한 보고서 형식의\n",
        "문자열을 만듭니다."
      ],
      "metadata": {
        "id": "9SCLPo7GwWz2"
      }
    },
    {
      "cell_type": "markdown",
      "source": [
        "정확도와 실행 시간은 소수점 둘째 자리까지 표시하도록 포매팅되었습니다.\n"
      ],
      "metadata": {
        "id": "NtvtlMstwXsf"
      }
    },
    {
      "cell_type": "code",
      "source": [
        "def generate_report(name, accuracy, runtime):\n",
        "  report = f'''\n",
        "  모델 성능 보고서\n",
        "  ----------------\n",
        "  모델명: {name}\n",
        "  정확도: {accuracy:.2f}%\n",
        "  실행 시간: {runtime:.2f} 초\n",
        "  '''\n",
        "  return report"
      ],
      "metadata": {
        "id": "Ec2l8h6iwYyH"
      },
      "execution_count": null,
      "outputs": []
    },
    {
      "cell_type": "code",
      "source": [
        "model_name = 'RandomForest'\n",
        "model_accuracy = 92.7\n",
        "model_runtime = 5.6324\n",
        "print(generate_report(model_name, model_accuracy, model_runtime))"
      ],
      "metadata": {
        "id": "_pRzjnKxwfwh"
      },
      "execution_count": null,
      "outputs": []
    }
  ]
}