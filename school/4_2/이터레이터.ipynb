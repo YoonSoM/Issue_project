{
  "nbformat": 4,
  "nbformat_minor": 0,
  "metadata": {
    "colab": {
      "provenance": []
    },
    "kernelspec": {
      "name": "python3",
      "display_name": "Python 3"
    },
    "language_info": {
      "name": "python"
    }
  },
  "cells": [
    {
      "cell_type": "markdown",
      "source": [
        "이번 유닛에서는 파이썬의 이터레이터(iterator)에 대해 학습합니다.\n",
        "이터레이터의 개념, 기본 사용법, 그리고 간단한 이터레이터를 직접 만드는 방법을 배웁\n",
        "니다.\n",
        "또한 예외 처리와 관련된 raise 키워드에 대해서도 알아봅니다.\n"
      ],
      "metadata": {
        "id": "8T8ylz3ozlTu"
      }
    },
    {
      "cell_type": "markdown",
      "source": [
        "이터레이터의 개념\n",
        "이터레이터는 순회 가능한(iterable) 객체에서 데이터를 하나씩 가져오는 객체입니다.\n",
        "쉽게 말해, 책의 책갈피와 비슷한 역할을 합니다.\n",
        "책갈피가 현재 읽은 위치를 기억하고 있듯이, 이터레이터는 현재 처리 중인 데이터\n",
        "의 위치를 기억합니다.\n",
        "파이썬에서 자주 사용하는 리스트, 튜플, 문자열 등이 모두 순회 가능한 객체입니다.\n"
      ],
      "metadata": {
        "id": "igIWnXXXzmXS"
      }
    },
    {
      "cell_type": "markdown",
      "source": [
        "이터레이터 기본 사용법\n",
        "파이썬의 for 루프는 내부적으로 이터레이터를 사용합니다"
      ],
      "metadata": {
        "id": "i6vn4wtfzotf"
      }
    },
    {
      "cell_type": "code",
      "execution_count": null,
      "metadata": {
        "id": "ELRgp91pzDtJ"
      },
      "outputs": [],
      "source": [
        "fruits = ['apple', 'banana', 'cherry']\n",
        "for fruit in fruits:\n",
        "print(fruit)"
      ]
    },
    {
      "cell_type": "markdown",
      "source": [
        "이 코드에서 for 루프는 fruits 리스트의 이터레이터를 사용하여 각 원소를 순회합\n",
        "니다.\n"
      ],
      "metadata": {
        "id": "0e8PUeqFzqp6"
      }
    },
    {
      "cell_type": "markdown",
      "source": [
        "iter() 와 next() 함수\n",
        "iter() 함수는 순회 가능한 객체로부터 이터레이터를 생성합니다.\n",
        "next() 함수는 이터레이터에서 다음 원소를 가져옵니다.\n"
      ],
      "metadata": {
        "id": "2GQ-AWqNzreJ"
      }
    },
    {
      "cell_type": "code",
      "source": [
        "fruits = ['apple', 'banana', 'cherry']\n",
        "fruit_iter = iter(fruits)\n",
        "print(next(fruit_iter)) # 출력: apple\n",
        "print(next(fruit_iter)) # 출력: banana\n",
        "print(next(fruit_iter)) # 출력: cherry\n",
        "print(next(fruit_iter)) # StopIteration 예외 발생"
      ],
      "metadata": {
        "id": "-J60_CiDzsng"
      },
      "execution_count": null,
      "outputs": []
    },
    {
      "cell_type": "markdown",
      "source": [
        "이 예제에서 next() 를 호출할 때마다 이터레이터는 다음 원소를 반환합니다.\n",
        "모든 원소를 다 순회하면 StopIteration 예외가 발생합니다."
      ],
      "metadata": {
        "id": "3kHZoOM4zxp2"
      }
    },
    {
      "cell_type": "markdown",
      "source": [
        "for 루프와 이터레이터\n",
        "파이썬의 for 루프가 내부적으로 어떻게 동작하는지 살펴봅시다."
      ],
      "metadata": {
        "id": "2qhDvPayzyxV"
      }
    },
    {
      "cell_type": "code",
      "source": [
        "fruits = ['apple', 'banana', 'cherry']\n"
      ],
      "metadata": {
        "id": "MMxmYwBVzzhP"
      },
      "execution_count": null,
      "outputs": []
    },
    {
      "cell_type": "code",
      "source": [
        "# for 루프 사용\n",
        "for fruit in fruits:\n",
        "    print(fruit)"
      ],
      "metadata": {
        "id": "0YKLccRuz0RW"
      },
      "execution_count": null,
      "outputs": []
    },
    {
      "cell_type": "code",
      "source": [
        "# 이터레이터 직접 사용\n",
        "fruit_iter = iter(fruits)\n",
        "while True:\n",
        "    try:\n",
        "         fruit = next(fruit_iter)\n",
        "          print(fruit)\n",
        "    except StopIteration:\n",
        "      break"
      ],
      "metadata": {
        "id": "nBY2c0EXz16B"
      },
      "execution_count": null,
      "outputs": []
    },
    {
      "cell_type": "markdown",
      "source": [
        "간단한 이터레이터 만들기\n",
        "자신만의 이터레이터를 만들려면 __iter__() 와 __next__() 메서드를 구현해야 합\n",
        "니다"
      ],
      "metadata": {
        "id": "XrN-2mTVz7Zc"
      }
    },
    {
      "cell_type": "markdown",
      "source": [
        "예) 3의 배수를 생성하는 이터레이터"
      ],
      "metadata": {
        "id": "sunObLP6z9Hs"
      }
    },
    {
      "cell_type": "code",
      "source": [
        "class ThreeMultiplier:\n",
        "    def __init__(self, max):\n",
        "        self.max = max\n",
        "        self.num = 0\n",
        "    def __iter__(self):\n",
        "        return self\n",
        "        def __next__(self):\n",
        "       if self.num >= self.max:\n",
        "          raise StopIteration\n",
        "      self.num += 3\n",
        "      return self.num"
      ],
      "metadata": {
        "id": "zWqvMCg_z-nj"
      },
      "execution_count": null,
      "outputs": []
    },
    {
      "cell_type": "code",
      "source": [
        "# 이터레이터 사용\n",
        "multiplier = ThreeMultiplier(15)\n",
        "for num in multiplier:\n",
        "    print(num)"
      ],
      "metadata": {
        "id": "0O-MvOrn0MaQ"
      },
      "execution_count": null,
      "outputs": []
    },
    {
      "cell_type": "markdown",
      "source": [
        "이 예제에서 ThreeMultiplier 클래스는 3의 배수를 생성하는 이터레이터입니다.\n",
        "__next__() 메서드는 다음 3의 배수를 반환하고, 최대값에 도달하면\n",
        "StopIteration 예외를 발생시킵니다.\n",
        "raise 는 파이썬에서 예외를 발생시키는 키워드입니다.\n",
        "이터레이터에서는 주로 StopIteration 예외를 발생시키는 데 사용됩니다"
      ],
      "metadata": {
        "id": "ZRlsBCOw0D41"
      }
    },
    {
      "cell_type": "markdown",
      "source": [
        "이터레이터와 리스트의 차이\n",
        "이터레이터는 메모리 효율성이 높지만, 인덱싱이나 길이 확인이 어렵습니다."
      ],
      "metadata": {
        "id": "tRgZloXsz-Ug"
      }
    },
    {
      "cell_type": "markdown",
      "source": [
        "예) 리스트 사용"
      ],
      "metadata": {
        "id": "mhUfcH7d0Q20"
      }
    },
    {
      "cell_type": "code",
      "source": [
        "numbers_list = [1, 2, 3, 4, 5]"
      ],
      "metadata": {
        "id": "iQLZMr_F0S3y"
      },
      "execution_count": null,
      "outputs": []
    },
    {
      "cell_type": "code",
      "source": [
        "numbers_list[2] # 인덱싱 가능"
      ],
      "metadata": {
        "id": "64TVRg660UII"
      },
      "execution_count": null,
      "outputs": []
    },
    {
      "cell_type": "code",
      "source": [
        "len(numbers_list) # 길이 확인 가능"
      ],
      "metadata": {
        "id": "bPJ31GLu0U1B"
      },
      "execution_count": null,
      "outputs": []
    },
    {
      "cell_type": "markdown",
      "source": [
        "예) 이터레이터 사용"
      ],
      "metadata": {
        "id": "I48zrbWF0Vwo"
      }
    },
    {
      "cell_type": "code",
      "source": [
        "numbers_iter = iter([1, 2, 3, 4, 5])"
      ],
      "metadata": {
        "id": "VK7fh9HO0WjD"
      },
      "execution_count": null,
      "outputs": []
    },
    {
      "cell_type": "code",
      "source": [
        "numbers_iter[2] # 오류 발생: 이터레이터는 인덱싱 불가"
      ],
      "metadata": {
        "id": "iTKe0NcR0Ykk"
      },
      "execution_count": null,
      "outputs": []
    },
    {
      "cell_type": "code",
      "source": [
        "len(numbers_iter) # 오류 발생: 이터레이터는 len() 사용 불가"
      ],
      "metadata": {
        "id": "sf72TaYM0bw2"
      },
      "execution_count": null,
      "outputs": []
    },
    {
      "cell_type": "code",
      "source": [
        "# 이터레이터의 모든 값을 소비\n",
        "for num in numbers_iter:\n",
        "print(num)"
      ],
      "metadata": {
        "id": "AAkPBXOm0c3j"
      },
      "execution_count": null,
      "outputs": []
    },
    {
      "cell_type": "code",
      "source": [
        "# 이터레이터는 한 번 소비되면 재사용 불가\n",
        "for num in numbers_iter:\n",
        "print(num) # 아무것도 출력되지 않음"
      ],
      "metadata": {
        "id": "tvp8nhSu0eAG"
      },
      "execution_count": null,
      "outputs": []
    },
    {
      "cell_type": "markdown",
      "source": [
        "데이터 분석과 인공지능에서의 활용\n",
        "이터레이터는 대용량 데이터셋을 처리할 때 매우 유용합니다."
      ],
      "metadata": {
        "id": "WjwsPB-N0e6k"
      }
    },
    {
      "cell_type": "markdown",
      "source": [
        "예) 센서 데이터 스트림 처리\n",
        "이 예제는 무한한 센서 데이터 스트림을 시뮬레이션하고, 이터레이터를 사용하여 필\n",
        "요한 만큼의 데이터만 처리합니다."
      ],
      "metadata": {
        "id": "eaehjOFj0YWX"
      }
    },
    {
      "cell_type": "code",
      "source": [
        "import random\n",
        "import time"
      ],
      "metadata": {
        "id": "67_RBBbl0iwh"
      },
      "execution_count": null,
      "outputs": []
    },
    {
      "cell_type": "code",
      "source": [
        "class SensorDataStream:\n",
        "    def __iter__(self):\n",
        "        return self\n",
        "    def __next__(self):\n",
        "        time.sleep(1) # 1초마다 데이터 생성\n",
        "        return random.randint(0, 100) # 센서 값 시뮬레이션"
      ],
      "metadata": {
        "id": "IKc-DmMx0kPQ"
      },
      "execution_count": null,
      "outputs": []
    },
    {
      "cell_type": "code",
      "source": [
        "def process_sensor_data(data_stream, num_readings):\n",
        "    total = 0\n",
        "    for _ in range(num_readings):\n",
        "        reading = next(data_stream)\n",
        "        total += reading\n",
        "        print(f'Current reading: {reading}')\n",
        "    return total / num_readings"
      ],
      "metadata": {
        "id": "n9aCvamq0o_0"
      },
      "execution_count": null,
      "outputs": []
    },
    {
      "cell_type": "code",
      "source": [
        "# 센서 데이터 스트림 생성\n",
        "sensor_stream = SensorDataStream()"
      ],
      "metadata": {
        "id": "SkREOVAA0uov"
      },
      "execution_count": null,
      "outputs": []
    },
    {
      "cell_type": "code",
      "source": [
        "# 10개의 센서 값을 처리하고 평균 계산\n",
        "average = process_sensor_data(sensor_stream, 10)\n",
        "f'Average sensor reading: {average}'"
      ],
      "metadata": {
        "id": "m_SRJ8ix0wGk"
      },
      "execution_count": null,
      "outputs": []
    }
  ]
}