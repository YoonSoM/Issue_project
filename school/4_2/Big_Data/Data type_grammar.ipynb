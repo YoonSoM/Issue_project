{
  "nbformat": 4,
  "nbformat_minor": 0,
  "metadata": {
    "colab": {
      "provenance": []
    },
    "kernelspec": {
      "name": "python3",
      "display_name": "Python 3"
    },
    "language_info": {
      "name": "python"
    }
  },
  "cells": [
    {
      "cell_type": "markdown",
      "source": [
        "# 값(객체), 변수 , 키워드(Keyword)\n",
        "\n"
      ],
      "metadata": {
        "id": "Vz7z5o_a-aQq"
      }
    },
    {
      "cell_type": "markdown",
      "source": [
        "- 값\n",
        "    - 객체\n",
        "    - 프로그래밍에서 처리(연산)하는 대상\n",
        "    - 수, 문자, 이미지, 음성 등등\n",
        "\n",
        "- 변수\n",
        "    - 값(객체)을 담을수 있는 공간\n",
        "    - 객체의 위치(주소)를 갖고 있는 공간\n",
        "\n",
        "- 키워드\n",
        "    - 파이썬에서 이미 예약되어있는 예약어\n",
        "    - 코드를 제어할수 있는 조건문이나 반복문, 함수나 클래스 등을 만들기 위해 파이썬 문법적인 요소로 정의 되어 있다.\n",
        "    "
      ],
      "metadata": {
        "id": "_Ay_TJ1lu7aG"
      }
    },
    {
      "cell_type": "code",
      "source": [
        "x = 1004 # x 라는 변수를 선언하고 1004를 넣어라\n",
        "x # 변수를 사용할때는 값이 반환된다."
      ],
      "metadata": {
        "colab": {
          "base_uri": "https://localhost:8080/"
        },
        "id": "NJDMetFC-aID",
        "outputId": "338aafb6-9b7b-4500-c616-dae65e299074"
      },
      "execution_count": null,
      "outputs": [
        {
          "output_type": "execute_result",
          "data": {
            "text/plain": [
              "1004"
            ]
          },
          "metadata": {},
          "execution_count": 46
        }
      ]
    },
    {
      "cell_type": "code",
      "source": [
        "y = x # 변수의 값을 새로운 변수에 넣을수 있다.\n",
        "y"
      ],
      "metadata": {
        "id": "FxQxSM_Lo1bN",
        "colab": {
          "base_uri": "https://localhost:8080/"
        },
        "outputId": "9b761582-9303-4b91-fb9b-302bb3c666d8"
      },
      "execution_count": null,
      "outputs": [
        {
          "output_type": "execute_result",
          "data": {
            "text/plain": [
              "1004"
            ]
          },
          "metadata": {},
          "execution_count": 45
        }
      ]
    },
    {
      "cell_type": "code",
      "source": [
        "id(x) , id(y) # 변수의 값을 새로운 변수에 넣을때는 새로운 값을 메모리에 생성할 필요가 없기때문에 x와 y의 주소값은 같다."
      ],
      "metadata": {
        "colab": {
          "base_uri": "https://localhost:8080/"
        },
        "id": "OfhJZgGVwqbY",
        "outputId": "6397fccd-c1b9-4d53-b856-a2a492dca2ea"
      },
      "execution_count": null,
      "outputs": [
        {
          "output_type": "execute_result",
          "data": {
            "text/plain": [
              "(140361762084112, 140361831604944)"
            ]
          },
          "metadata": {},
          "execution_count": 48
        }
      ]
    },
    {
      "cell_type": "code",
      "source": [
        "a = 1001 # 1001 을 메모리에 새로 생성해서 변수에 넣음\n",
        "b = 1001 # 1001 을 메모리에 새로 생성해서 변수에 넣음\n",
        "\n",
        "id(a) , id(b) # 1001 이라는 값은 동일한 값이지만 값을 메모리에 생성해서 변수에 넣기 때문에 주소값이 다른것을 확인 할수 있다."
      ],
      "metadata": {
        "id": "kuj2_MyVPIRI",
        "colab": {
          "base_uri": "https://localhost:8080/"
        },
        "outputId": "9a0cb646-0e16-4964-98c4-b115ea7c29fa"
      },
      "execution_count": null,
      "outputs": [
        {
          "output_type": "execute_result",
          "data": {
            "text/plain": [
              "(140361762084528, 140361762085200)"
            ]
          },
          "metadata": {},
          "execution_count": 51
        }
      ]
    },
    {
      "cell_type": "markdown",
      "source": [
        "## 변수를 왜 사용하는가?\n",
        "- 값을 재활용하고 가독성을 높여주고 , 중복을 제거하여 유지보수가 용이"
      ],
      "metadata": {
        "id": "1Iy2lxiSOUpX"
      }
    },
    {
      "cell_type": "code",
      "source": [
        "print(9*1)\n",
        "print(9*2)\n",
        "print(9*3)\n",
        "print(9*4)\n",
        "print(9*5)\n",
        "print(9*6)\n",
        "print(9*7)\n",
        "print(9*8)\n",
        "print(9*9)"
      ],
      "metadata": {
        "colab": {
          "base_uri": "https://localhost:8080/"
        },
        "id": "nuHas8qnrR4T",
        "outputId": "3f803671-76b5-4604-a20c-6734c8376889"
      },
      "execution_count": null,
      "outputs": [
        {
          "output_type": "stream",
          "name": "stdout",
          "text": [
            "9\n",
            "18\n",
            "27\n",
            "36\n",
            "45\n",
            "54\n",
            "63\n",
            "72\n",
            "81\n"
          ]
        }
      ]
    },
    {
      "cell_type": "code",
      "source": [
        "n = 3\n",
        "print( n * 1)\n",
        "print( n * 2)\n",
        "print( n * 3)\n",
        "print( n * 4)\n",
        "print( n * 5)\n",
        "print( n * 6)\n",
        "print( n * 7)\n",
        "print( n * 8)\n",
        "print( n * 9)"
      ],
      "metadata": {
        "colab": {
          "base_uri": "https://localhost:8080/"
        },
        "id": "ybWB7pViOmir",
        "outputId": "4288e147-992e-4378-e98d-81889b59633b"
      },
      "execution_count": null,
      "outputs": [
        {
          "output_type": "stream",
          "name": "stdout",
          "text": [
            "3\n",
            "6\n",
            "9\n",
            "12\n",
            "15\n",
            "18\n",
            "21\n",
            "24\n",
            "27\n"
          ]
        }
      ]
    },
    {
      "cell_type": "markdown",
      "source": [
        "## 변수 이름 규칙\n",
        "\n",
        "\n",
        "\n"
      ],
      "metadata": {
        "id": "MDD2clEwPwWh"
      }
    },
    {
      "cell_type": "markdown",
      "source": [
        "- 대소문자 구분\n",
        "    - 대문자 A 변수와 소문자 a 변수는 서로 다른변수라는 의미"
      ],
      "metadata": {
        "id": "_TJYJ_aVQ9do"
      }
    },
    {
      "cell_type": "code",
      "source": [
        "A = 3\n",
        "a = 1\n",
        "print(A)\n",
        "print(a)"
      ],
      "metadata": {
        "colab": {
          "base_uri": "https://localhost:8080/"
        },
        "id": "_WSvPC8gQ3oQ",
        "outputId": "2e1cb786-eec9-498e-aa3c-e3d3d07c2ca3"
      },
      "execution_count": null,
      "outputs": [
        {
          "output_type": "stream",
          "name": "stdout",
          "text": [
            "3\n",
            "1\n"
          ]
        }
      ]
    },
    {
      "cell_type": "markdown",
      "source": [
        "- 알파벳, 숫자, 언더바(_)만을 이용해서 변수명 선언"
      ],
      "metadata": {
        "id": "DYS1FpMtRERo"
      }
    },
    {
      "cell_type": "code",
      "source": [
        "my_age = 42"
      ],
      "metadata": {
        "id": "Dl-QEqGpRF6w"
      },
      "execution_count": null,
      "outputs": []
    },
    {
      "cell_type": "markdown",
      "source": [
        "- 변수명 첫 글자에 숫자는 문법오류 발생"
      ],
      "metadata": {
        "id": "DjiY4J59Rbb4"
      }
    },
    {
      "cell_type": "code",
      "source": [
        "1a = 1"
      ],
      "metadata": {
        "colab": {
          "base_uri": "https://localhost:8080/",
          "height": 137
        },
        "id": "3Q-q5VRKRf0y",
        "outputId": "f32dafb7-1400-47b4-ea77-72d8f9af996a"
      },
      "execution_count": null,
      "outputs": [
        {
          "output_type": "error",
          "ename": "SyntaxError",
          "evalue": "ignored",
          "traceback": [
            "\u001b[0;36m  File \u001b[0;32m\"<ipython-input-57-cc67e5ecf289>\"\u001b[0;36m, line \u001b[0;32m1\u001b[0m\n\u001b[0;31m    1a = 1\u001b[0m\n\u001b[0m     ^\u001b[0m\n\u001b[0;31mSyntaxError\u001b[0m\u001b[0;31m:\u001b[0m invalid syntax\n"
          ]
        }
      ]
    },
    {
      "cell_type": "markdown",
      "source": [
        "- python의 키워드(예약어)를 변수명으로 해서 값을 넣을때도 문법오류 발생"
      ],
      "metadata": {
        "id": "NrF3QHYBRlZX"
      }
    },
    {
      "cell_type": "code",
      "source": [
        "if = 1"
      ],
      "metadata": {
        "colab": {
          "base_uri": "https://localhost:8080/",
          "height": 137
        },
        "id": "HFJpv5GdRiJ3",
        "outputId": "fd79818a-0e1e-4864-80ba-455818c8a79d"
      },
      "execution_count": null,
      "outputs": [
        {
          "output_type": "error",
          "ename": "SyntaxError",
          "evalue": "ignored",
          "traceback": [
            "\u001b[0;36m  File \u001b[0;32m\"<ipython-input-58-773eba7f7781>\"\u001b[0;36m, line \u001b[0;32m1\u001b[0m\n\u001b[0;31m    if = 1\u001b[0m\n\u001b[0m       ^\u001b[0m\n\u001b[0;31mSyntaxError\u001b[0m\u001b[0;31m:\u001b[0m invalid syntax\n"
          ]
        }
      ]
    },
    {
      "cell_type": "markdown",
      "source": [
        "- 이미 정의된 함수및 클래스의 이름을 변수명으로 하여 값을 넣어도 문법오류는 발생하지 않지만 값을 넣은 이후부터 그 함수 또는 클래스의 기능을 사용하지 못하기 때문에 변수명으로 사용하면 안된다."
      ],
      "metadata": {
        "id": "GS8lRASwRnww"
      }
    },
    {
      "cell_type": "markdown",
      "source": [
        "# 주석\n",
        "- 코드 실행에 영향을 주지 않고 코드에 설명을 달아줄때 사용\n",
        "- 한줄 주석 : 코드 앞에 `#`를 입력해주면 됩니다.\n",
        "\n"
      ],
      "metadata": {
        "id": "jRhlS5B0B5EP"
      }
    },
    {
      "cell_type": "code",
      "source": [
        "# 한줄 주석 입니다."
      ],
      "metadata": {
        "id": "Tmfj5f2XB4YB"
      },
      "execution_count": null,
      "outputs": []
    },
    {
      "cell_type": "markdown",
      "source": [
        "- 단축키를 이용한 주석 처리 방법\n",
        "    - 주석처리 하고자하는 코드에 커서를 가져다 놓거나, 드래그를 한 상태에서 `ctrl + /` 입력하면 코드가 주석처리 된다."
      ],
      "metadata": {
        "id": "MhHQ-QBV06gO"
      }
    },
    {
      "cell_type": "code",
      "source": [
        "# a = 1004\n",
        "# print(a)"
      ],
      "metadata": {
        "id": "G7mW-CCHTJDe"
      },
      "execution_count": null,
      "outputs": []
    },
    {
      "cell_type": "markdown",
      "source": [
        "- 여러줄 주석(Docstring): 설명을 큰따옴표 3개 or 작은따옴표 3개로 감싸주면 된다.\n",
        "- Docstring은 주석 말고 문자열을 생성할때도 사용"
      ],
      "metadata": {
        "id": "avZeEOedS_6I"
      }
    },
    {
      "cell_type": "code",
      "source": [
        "\"\"\"\n",
        "여러줄 주석입니다.\n",
        "여러줄 주석입니다.\n",
        "\"\"\"\n",
        "print(\"끈따옴표 혹은 작은 따옴표 3개로 묶어 주시면 됩니다.\")"
      ],
      "metadata": {
        "colab": {
          "base_uri": "https://localhost:8080/"
        },
        "id": "4HBG68kQ_6-w",
        "outputId": "bac58678-20fc-452b-faa6-6cdc96157e30"
      },
      "execution_count": null,
      "outputs": [
        {
          "output_type": "stream",
          "name": "stdout",
          "text": [
            "끈따옴표 혹은 작은 따옴표 3개로 묶어 주시면 됩니다.\n"
          ]
        }
      ]
    },
    {
      "cell_type": "markdown",
      "source": [
        "# 자료형(data type)\n",
        "- 파이썬은 기본적으로 4가지 자료형을 가지고 있다.\n",
        "    \n",
        "    "
      ],
      "metadata": {
        "id": "FAePB7KwLsCm"
      }
    },
    {
      "cell_type": "markdown",
      "source": [
        "## int\n",
        "- -1, 0 , 3 과 같은 정수를 의미하는 자료형"
      ],
      "metadata": {
        "id": "OtbWIoJhWKT8"
      }
    },
    {
      "cell_type": "markdown",
      "source": [
        "- type 함수를 이용하면 객체의 자료형을 확인 할수 있다."
      ],
      "metadata": {
        "id": "g09H-sbiWThs"
      }
    },
    {
      "cell_type": "code",
      "source": [
        "a = 1\n",
        "type(a)"
      ],
      "metadata": {
        "colab": {
          "base_uri": "https://localhost:8080/"
        },
        "id": "x335nF-zK5SY",
        "outputId": "01312ad2-31a1-4f1f-ffe1-f8f372323402"
      },
      "execution_count": null,
      "outputs": [
        {
          "output_type": "execute_result",
          "data": {
            "text/plain": [
              "int"
            ]
          },
          "metadata": {},
          "execution_count": 63
        }
      ]
    },
    {
      "cell_type": "markdown",
      "source": [
        "## float\n",
        "- 3.14, 3.0 , -1.5 와 같은 실수를 의미하는 자료형"
      ],
      "metadata": {
        "id": "LbzMF9hiW14c"
      }
    },
    {
      "cell_type": "code",
      "source": [
        "a = 3.14\n",
        "type(a)"
      ],
      "metadata": {
        "colab": {
          "base_uri": "https://localhost:8080/"
        },
        "id": "Hy17913FK5Pi",
        "outputId": "3dfd0398-94bf-4769-cde9-e1a9f80b6440"
      },
      "execution_count": null,
      "outputs": [
        {
          "output_type": "execute_result",
          "data": {
            "text/plain": [
              "float"
            ]
          },
          "metadata": {},
          "execution_count": 64
        }
      ]
    },
    {
      "cell_type": "markdown",
      "source": [
        "## bool\n",
        "- 참(True) / 거짓(False) 을 나타내는 논리 자료형을 의미\n",
        "\n",
        "\n",
        "    "
      ],
      "metadata": {
        "id": "LSa51ziAW6d0"
      }
    },
    {
      "cell_type": "code",
      "source": [
        "a = True\n",
        "b = False\n",
        "\n",
        "type(a) , type(b)"
      ],
      "metadata": {
        "colab": {
          "base_uri": "https://localhost:8080/"
        },
        "id": "bwPoMIqWOPhV",
        "outputId": "0a4330a3-af08-44f0-bdd8-47537bfcf646"
      },
      "execution_count": null,
      "outputs": [
        {
          "output_type": "execute_result",
          "data": {
            "text/plain": [
              "(bool, bool)"
            ]
          },
          "metadata": {},
          "execution_count": 65
        }
      ]
    },
    {
      "cell_type": "markdown",
      "source": [
        "## str\n",
        "- 문자열 을 의미하는 자료형"
      ],
      "metadata": {
        "id": "3UkieGbEXter"
      }
    },
    {
      "cell_type": "code",
      "source": [
        "a = \"hello\"\n",
        "type(a)"
      ],
      "metadata": {
        "colab": {
          "base_uri": "https://localhost:8080/"
        },
        "id": "pliSRwkEOPd8",
        "outputId": "8f3f1971-f0ad-4a36-bcc5-2e58587db020"
      },
      "execution_count": null,
      "outputs": [
        {
          "output_type": "execute_result",
          "data": {
            "text/plain": [
              "str"
            ]
          },
          "metadata": {},
          "execution_count": 66
        }
      ]
    },
    {
      "cell_type": "markdown",
      "source": [
        "## 자료형변환(Casting)\n",
        "- 파이썬에 기본자료형 간에 자료형 변환이 가능하다.\n",
        "\n"
      ],
      "metadata": {
        "id": "iplVGoK1FXCr"
      }
    },
    {
      "cell_type": "code",
      "source": [
        "int_value = 3\n",
        "float_value = 3.14\n",
        "bool_value = True\n",
        "str_value = \"3\""
      ],
      "metadata": {
        "id": "sl2LKqmiFjiz"
      },
      "execution_count": null,
      "outputs": []
    },
    {
      "cell_type": "code",
      "source": [
        "int(float_value) #  int 함수를 사용하여 실수를 정수로 변경"
      ],
      "metadata": {
        "colab": {
          "base_uri": "https://localhost:8080/"
        },
        "id": "Vv4ZZCgbFjbq",
        "outputId": "bd7f9a21-122f-4455-f69c-e34cb3247d42"
      },
      "execution_count": null,
      "outputs": [
        {
          "output_type": "execute_result",
          "data": {
            "text/plain": [
              "3"
            ]
          },
          "metadata": {},
          "execution_count": 68
        }
      ]
    },
    {
      "cell_type": "code",
      "source": [
        "float(int_value) # float 함수를 사용하여 정수를 실수로 변경"
      ],
      "metadata": {
        "colab": {
          "base_uri": "https://localhost:8080/"
        },
        "id": "fhYf-PZNF8dS",
        "outputId": "970983c9-37c0-4983-ff61-def2c83caa30"
      },
      "execution_count": null,
      "outputs": [
        {
          "output_type": "execute_result",
          "data": {
            "text/plain": [
              "3.0"
            ]
          },
          "metadata": {},
          "execution_count": 69
        }
      ]
    },
    {
      "cell_type": "code",
      "source": [
        "str(float_value) # str 함수를 사용하여 실수를 문자열로 변경"
      ],
      "metadata": {
        "colab": {
          "base_uri": "https://localhost:8080/",
          "height": 35
        },
        "id": "UXherFGTbu4s",
        "outputId": "0e4edfc4-9505-4998-d9e1-45d7e1e607df"
      },
      "execution_count": null,
      "outputs": [
        {
          "output_type": "execute_result",
          "data": {
            "text/plain": [
              "'3.14'"
            ],
            "application/vnd.google.colaboratory.intrinsic+json": {
              "type": "string"
            }
          },
          "metadata": {},
          "execution_count": 70
        }
      ]
    },
    {
      "cell_type": "code",
      "source": [
        "bool(int_value) # bool 함수를 사용하여 정수를 논리 자료형으로 변경. 여기서 숫자가 0이 아닐경우 True 로 변경, 0일경우 False로 변경"
      ],
      "metadata": {
        "colab": {
          "base_uri": "https://localhost:8080/"
        },
        "id": "p2NOOVRBF8Z5",
        "outputId": "1932f41b-7c8c-4d7c-af53-959be80cdf6d"
      },
      "execution_count": null,
      "outputs": [
        {
          "output_type": "execute_result",
          "data": {
            "text/plain": [
              "True"
            ]
          },
          "metadata": {},
          "execution_count": 71
        }
      ]
    },
    {
      "cell_type": "code",
      "source": [
        "bool(0) # 0을 넣으면 False로 변경"
      ],
      "metadata": {
        "colab": {
          "base_uri": "https://localhost:8080/"
        },
        "id": "E5r23AsDGH5q",
        "outputId": "d2502f7f-a58c-47db-db21-46bece4a7587"
      },
      "execution_count": null,
      "outputs": [
        {
          "output_type": "execute_result",
          "data": {
            "text/plain": [
              "False"
            ]
          },
          "metadata": {},
          "execution_count": 72
        }
      ]
    },
    {
      "cell_type": "markdown",
      "source": [
        "# None\n",
        "- `없음`을 나타내는 Python의 특수한 (값)객체\n",
        "- 파이썬에서는 변수를 선언할때 값을 넣어줘야 문법오류가 발생 하지 않는다.\n",
        "- 변수를 선언하고 값을 넣고 싶지 않을때 `None` 값을 넣어주면 된다."
      ],
      "metadata": {
        "id": "R-KgbvWTUhtW"
      }
    },
    {
      "cell_type": "code",
      "source": [
        "a = None\n",
        "a"
      ],
      "metadata": {
        "id": "J2K1Er9rUhSW"
      },
      "execution_count": null,
      "outputs": []
    },
    {
      "cell_type": "markdown",
      "source": [
        "# 연산자"
      ],
      "metadata": {
        "id": "hVO-uzQmfOUX"
      }
    },
    {
      "cell_type": "markdown",
      "source": [
        "\n",
        "## 산술연산자\n",
        "- 산술연산의 결과를 반환한다.\n",
        "- `+, -, *, / , //, % , **`"
      ],
      "metadata": {
        "id": "9gtzgrArVUL0"
      }
    },
    {
      "cell_type": "code",
      "source": [
        "print( 5 + 2) # 더하기\n",
        "print( 5 - 2) # 빼기\n",
        "print( 5 * 2) # 곱하기\n",
        "print( 5 / 2) # 나누기\n",
        "print( 5 // 2) # 몫\n",
        "print( 5 % 2) # 나머지\n",
        "print( 5 ** 2) # 거듭제곱"
      ],
      "metadata": {
        "colab": {
          "base_uri": "https://localhost:8080/"
        },
        "id": "GW5Q2thHU9B1",
        "outputId": "3b7c96e2-561d-4e80-e0cd-22f1d35bbf8d"
      },
      "execution_count": null,
      "outputs": [
        {
          "output_type": "stream",
          "name": "stdout",
          "text": [
            "7\n",
            "3\n",
            "10\n",
            "2.5\n",
            "2\n",
            "1\n",
            "25\n"
          ]
        }
      ]
    },
    {
      "cell_type": "markdown",
      "source": [
        "## 대입 연산자\n",
        "- 값을 변수에 할당한다.\n",
        "- 연산결과의 값을 변수에 할당한다.\n",
        "- `= , += , -= , ...`"
      ],
      "metadata": {
        "id": "DXf2eMFqW__c"
      }
    },
    {
      "cell_type": "code",
      "source": [
        "num = 3\n",
        "num -= 3 # num = num - 3\n",
        "num"
      ],
      "metadata": {
        "id": "ZNCB_RejHwxR",
        "colab": {
          "base_uri": "https://localhost:8080/"
        },
        "outputId": "5cd566c2-e443-490a-c1eb-f1010ddcb607"
      },
      "execution_count": null,
      "outputs": [
        {
          "output_type": "execute_result",
          "data": {
            "text/plain": [
              "0"
            ]
          },
          "metadata": {},
          "execution_count": 75
        }
      ]
    },
    {
      "cell_type": "code",
      "source": [
        "num = 3\n",
        "num += 3\n",
        "num"
      ],
      "metadata": {
        "colab": {
          "base_uri": "https://localhost:8080/"
        },
        "id": "bUrTffmEcrC0",
        "outputId": "85c4b1af-faa4-4e29-e7f3-be732d9f4b41"
      },
      "execution_count": null,
      "outputs": [
        {
          "output_type": "execute_result",
          "data": {
            "text/plain": [
              "6"
            ]
          },
          "metadata": {},
          "execution_count": 76
        }
      ]
    },
    {
      "cell_type": "code",
      "source": [
        "num = 3\n",
        "num **= 3 # num = num ** 3\n",
        "num"
      ],
      "metadata": {
        "colab": {
          "base_uri": "https://localhost:8080/"
        },
        "id": "37tnO8f0jGaT",
        "outputId": "90e3ce1d-7445-44a8-cd18-cf6718e1cec7"
      },
      "execution_count": null,
      "outputs": [
        {
          "output_type": "execute_result",
          "data": {
            "text/plain": [
              "27"
            ]
          },
          "metadata": {},
          "execution_count": 77
        }
      ]
    },
    {
      "cell_type": "markdown",
      "source": [
        "## 비교 연산자\n",
        "- 변수 또는 객체를 비교하여 bool 객체를 반환한다.\n",
        "- `> , < , >=, <= , !=, ==`"
      ],
      "metadata": {
        "id": "jv0_gymfXi67"
      }
    },
    {
      "cell_type": "code",
      "source": [
        "a = 5\n",
        "b = 3\n",
        "\n",
        "# 비교 결과가 참이면 True, 거짓이면 False 반환\n",
        "print(a > b) # a가 b보다 크다\n",
        "print(a < b) # a가 b보다 작다\n",
        "print(a >= 5) # a가 5보다 크거나 같다\n",
        "print(b <= 3) # a가 3보다 작거나 같다\n",
        "print( a == b ) # a와 b가 같다\n",
        "print( a != b ) # a와 b가 같지 않다"
      ],
      "metadata": {
        "id": "CEtsgZtY9wrs",
        "colab": {
          "base_uri": "https://localhost:8080/"
        },
        "outputId": "4f7d49a4-8b91-4586-aeef-0d15e9ac60bb"
      },
      "execution_count": null,
      "outputs": [
        {
          "output_type": "stream",
          "name": "stdout",
          "text": [
            "True\n",
            "False\n",
            "True\n",
            "True\n",
            "False\n",
            "True\n"
          ]
        }
      ]
    },
    {
      "cell_type": "markdown",
      "source": [
        "## 논리연산자\n",
        "- bool 자료형을 연산하여 bool 자료형을 반환한다.\n",
        "- `and, or, not`\n",
        "- `A and B` : A와 B 모두 True 면 결과는 True\n",
        "- `A or B` : A와 B 둘 중 하나만 True여도 결과는 True\n",
        "- `not A` : A가 True면 False가 되고, False면 True가 된다.\n",
        "\n",
        "\n"
      ],
      "metadata": {
        "id": "-gYfIMIYX8qC"
      }
    },
    {
      "cell_type": "code",
      "source": [
        "1 < 3 and 3 > 1"
      ],
      "metadata": {
        "colab": {
          "base_uri": "https://localhost:8080/"
        },
        "id": "gR-nQFYcX1Vs",
        "outputId": "e0b0ca1a-e85c-4dd3-cecc-5681f91952a3"
      },
      "execution_count": null,
      "outputs": [
        {
          "output_type": "execute_result",
          "data": {
            "text/plain": [
              "True"
            ]
          },
          "metadata": {},
          "execution_count": 79
        }
      ]
    },
    {
      "cell_type": "code",
      "source": [
        "3 < 1 or 4 < 3"
      ],
      "metadata": {
        "colab": {
          "base_uri": "https://localhost:8080/"
        },
        "id": "E-8akhveaizx",
        "outputId": "05a8b67b-62c1-45f0-8513-74b3e88afbf4"
      },
      "execution_count": null,
      "outputs": [
        {
          "output_type": "execute_result",
          "data": {
            "text/plain": [
              "False"
            ]
          },
          "metadata": {},
          "execution_count": 80
        }
      ]
    },
    {
      "cell_type": "code",
      "source": [
        "not False"
      ],
      "metadata": {
        "colab": {
          "base_uri": "https://localhost:8080/"
        },
        "id": "uD-piNcYaixA",
        "outputId": "a455e00d-36d9-4416-b0e0-9aa520e705e4"
      },
      "execution_count": null,
      "outputs": [
        {
          "output_type": "execute_result",
          "data": {
            "text/plain": [
              "True"
            ]
          },
          "metadata": {},
          "execution_count": 81
        }
      ]
    },
    {
      "cell_type": "code",
      "source": [
        "not True"
      ],
      "metadata": {
        "colab": {
          "base_uri": "https://localhost:8080/"
        },
        "id": "TZZheDC5nmIo",
        "outputId": "7c91f1bf-1502-42d5-e756-965aed901df7"
      },
      "execution_count": null,
      "outputs": [
        {
          "output_type": "execute_result",
          "data": {
            "text/plain": [
              "False"
            ]
          },
          "metadata": {},
          "execution_count": 82
        }
      ]
    },
    {
      "cell_type": "markdown",
      "source": [
        "## 포함 연산자\n",
        "- 어떠한 값이 포함 되어있는지 여부에 따라 bool 객체를 반환\n",
        "- `in , not in`\n",
        "- `A in B` : A 문자열이 B 문자열에 포함 되어있으면 결과는 True\n",
        "- `A not in B` : A 문자열이 B 문자열에 포함 되면 결과는 Flase , 없으면 True"
      ],
      "metadata": {
        "id": "MYsdim8eoamX"
      }
    },
    {
      "cell_type": "code",
      "source": [
        "\"a\" in \"abcd\""
      ],
      "metadata": {
        "colab": {
          "base_uri": "https://localhost:8080/"
        },
        "id": "vfuDy27wwou_",
        "outputId": "a5f1d125-d37f-4a66-94cc-5ea89c44bfc3"
      },
      "execution_count": null,
      "outputs": [
        {
          "output_type": "execute_result",
          "data": {
            "text/plain": [
              "True"
            ]
          },
          "metadata": {},
          "execution_count": 83
        }
      ]
    },
    {
      "cell_type": "code",
      "execution_count": null,
      "metadata": {
        "id": "AlUB8aSj9v8v",
        "colab": {
          "base_uri": "https://localhost:8080/"
        },
        "outputId": "d7a436aa-f57f-43a4-b19c-60554d298746"
      },
      "outputs": [
        {
          "output_type": "execute_result",
          "data": {
            "text/plain": [
              "False"
            ]
          },
          "metadata": {},
          "execution_count": 84
        }
      ],
      "source": [
        "\"a\" not in \"abcd\""
      ]
    }
  ]
}