{
  "cells": [
    {
      "cell_type": "markdown",
      "metadata": {
        "id": "b0DEv7i_Tcuq"
      },
      "source": [
        "# 파일 입출력\n",
        "\n",
        "- open 함수: 파일을 열수 있는 함수, 파일 객체를 반환한다.\n",
        "- 파일열기 모드는 대표적으로 다음과 같다.\n",
        "    - w: 쓰기 모드\n",
        "    - a: 추가 모드\n",
        "    - r: 읽기 모드\n",
        "- open 함수로 열면 파일 객체가 반환 되는데 파일에 대한 처리가 종료되면 항상 close 메소드를 이용해서 닫아줘야한다."
      ]
    },
    {
      "cell_type": "markdown",
      "metadata": {
        "id": "Zq5dPQ_udD28"
      },
      "source": [
        "## 쓰기 모드"
      ]
    },
    {
      "cell_type": "code",
      "execution_count": null,
      "metadata": {
        "id": "u7G3Zix_Z4Dn"
      },
      "outputs": [],
      "source": [
        "f = open(\"memo.txt\",\"w\") # 새로운 파일을 생성한다.\n",
        "print(f)\n",
        "f.close()"
      ]
    },
    {
      "cell_type": "code",
      "execution_count": null,
      "metadata": {
        "id": "QhMuGs-FZ4BI"
      },
      "outputs": [],
      "source": [
        "f = open(\"memo.txt\",\"w\")\n",
        "for i in range(1,11):\n",
        "    data = f\"{i} 번째 줄!\\n\"\n",
        "    f.write(data)\n",
        "f.close()"
      ]
    },
    {
      "cell_type": "markdown",
      "metadata": {
        "id": "TGLbZbaTdn4V"
      },
      "source": [
        "## 추가모드"
      ]
    },
    {
      "cell_type": "code",
      "execution_count": null,
      "metadata": {
        "id": "zkmgq3ioZ3-P"
      },
      "outputs": [],
      "source": [
        "f = open(\"memo.txt\",\"a\")\n",
        "data = \"11 번째 줄!\\n\"\n",
        "f.write(data)\n",
        "f.close()"
      ]
    },
    {
      "cell_type": "markdown",
      "metadata": {
        "id": "NiG9QzDJd8rV"
      },
      "source": [
        "## 읽기 모드"
      ]
    },
    {
      "cell_type": "markdown",
      "metadata": {
        "id": "eDIpkH_DsWrZ"
      },
      "source": [
        "- `read` 메소드\n",
        "    - 파일 내용 전체를 문자열로 반환한다."
      ]
    },
    {
      "cell_type": "code",
      "execution_count": null,
      "metadata": {
        "id": "UOad9-EkZ37w"
      },
      "outputs": [],
      "source": [
        "f = open(\"memo.txt\",\"r\")\n",
        "data = f.read()\n",
        "f.close()\n",
        "print(data)"
      ]
    },
    {
      "cell_type": "markdown",
      "metadata": {
        "id": "_sx67decshvZ"
      },
      "source": [
        "- `readline` 메소드\n",
        "    - 한줄씩 문자열로 반환한다.(한줄에 포함되어있는 개행문자 포함)"
      ]
    },
    {
      "cell_type": "code",
      "execution_count": null,
      "metadata": {
        "id": "bJCJi36CfAMx"
      },
      "outputs": [],
      "source": [
        "f = open(\"memo.txt\",\"r\")\n",
        "while True:\n",
        "    data = f.readline()\n",
        "    if not data:\n",
        "        break\n",
        "    print(data,end=\"\")\n",
        "f.close()"
      ]
    },
    {
      "cell_type": "markdown",
      "metadata": {
        "id": "wmcUe_SQtHYQ"
      },
      "source": [
        "- `readlines` 메소드\n",
        "    - 한줄씩 리스트에 담아 반환한다.(각줄에 개행문자 포함)"
      ]
    },
    {
      "cell_type": "code",
      "execution_count": null,
      "metadata": {
        "id": "QoeFQxeJgXRa"
      },
      "outputs": [],
      "source": [
        "f = open(\"memo.txt\",\"r\")\n",
        "data = f.readlines()\n",
        "f.close()\n",
        "\n",
        "print(data)"
      ]
    },
    {
      "cell_type": "markdown",
      "metadata": {
        "id": "VSP0ZRkbiLQX"
      },
      "source": [
        "## with문\n",
        "- 자동으로 파일을 닫아준다."
      ]
    },
    {
      "cell_type": "code",
      "execution_count": null,
      "metadata": {
        "id": "SsuyUD4IjUtY"
      },
      "outputs": [],
      "source": [
        "with open(\"memo.txt\", \"r\") as f:\n",
        "    data = f.read()\n",
        "    print(data)"
      ]
    },
    {
      "cell_type": "markdown",
      "metadata": {
        "id": "aGsnO_BzieXi"
      },
      "source": [
        "- for 문을 이용해서 한줄씩 출력하기"
      ]
    },
    {
      "cell_type": "code",
      "execution_count": null,
      "metadata": {
        "colab": {
          "base_uri": "https://localhost:8080/"
        },
        "id": "ZlmOf6WwiF78",
        "outputId": "45605983-7909-426c-812f-4d8b6d42b039"
      },
      "outputs": [
        {
          "output_type": "stream",
          "name": "stdout",
          "text": [
            "1 번째 줄!\n",
            "2 번째 줄!\n",
            "3 번째 줄!\n",
            "4 번째 줄!\n",
            "5 번째 줄!\n",
            "6 번째 줄!\n",
            "7 번째 줄!\n",
            "8 번째 줄!\n",
            "9 번째 줄!\n",
            "10 번째 줄!\n",
            "11 번째 줄!\n"
          ]
        }
      ],
      "source": [
        "with open(\"memo.txt\", \"r\") as f:\n",
        "    for line in f:\n",
        "        print(line,end=\"\")"
      ]
    },
    {
      "cell_type": "markdown",
      "metadata": {
        "id": "5UZPWTB-CJgb"
      },
      "source": [
        "## JSON(JavaScript Object Notation)\n",
        "- 자바스크립트에서 사용되는 객체 표현식\n",
        "- 데이터를 저장하거나 전송할때 많이 사용\n",
        "- 서버와 클라이언트간의 데이터 전송과정에서 많이 사용\n",
        "- 파이썬의 딕셔너리와 매우 유사"
      ]
    },
    {
      "cell_type": "code",
      "execution_count": null,
      "metadata": {
        "id": "Gl79Jp6GkkHl"
      },
      "outputs": [],
      "source": [
        "import json"
      ]
    },
    {
      "cell_type": "code",
      "execution_count": null,
      "metadata": {
        "id": "8ZtK15ZcyjKt"
      },
      "outputs": [],
      "source": [
        "data = {\n",
        "    'Daniel': {'age': 20, 'height': 170},\n",
        "    'John': {'age': 30, 'height': 175, 'weight': 80},\n",
        "    '관수': {'age':42}\n",
        " }"
      ]
    },
    {
      "cell_type": "code",
      "execution_count": null,
      "metadata": {
        "id": "LqqONe23y17m"
      },
      "outputs": [],
      "source": [
        "with open(\"info.json\", 'w') as f:\n",
        "    json.dump(data, f, ensure_ascii=False, indent=4) # json 형식으로 파일 쓰기"
      ]
    },
    {
      "cell_type": "code",
      "execution_count": null,
      "metadata": {
        "colab": {
          "base_uri": "https://localhost:8080/"
        },
        "id": "qtAQjn43kj-P",
        "outputId": "287f8803-719a-41a0-a726-65bf2115dc3b"
      },
      "outputs": [
        {
          "output_type": "execute_result",
          "data": {
            "text/plain": [
              "dict"
            ]
          },
          "metadata": {},
          "execution_count": 12
        }
      ],
      "source": [
        "with open(\"info.json\", 'r') as f:\n",
        "    info = json.load(f) # json 파일을 딕셔너리 형태로 반환\n",
        "\n",
        "type(info) # 딕셔너리 형태로 사용할수 있다."
      ]
    },
    {
      "cell_type": "code",
      "execution_count": null,
      "metadata": {
        "colab": {
          "base_uri": "https://localhost:8080/"
        },
        "id": "GMFLYImOGHSX",
        "outputId": "e39e1759-2013-47cd-bec1-dba197b53a5e"
      },
      "outputs": [
        {
          "output_type": "execute_result",
          "data": {
            "text/plain": [
              "{'Daniel': {'age': 20, 'height': 170},\n",
              " 'John': {'age': 30, 'height': 175, 'weight': 80},\n",
              " '관수': {'age': 42}}"
            ]
          },
          "metadata": {},
          "execution_count": 13
        }
      ],
      "source": [
        "info"
      ]
    },
    {
      "cell_type": "markdown",
      "metadata": {
        "id": "t0ZPHqSzG3Wn"
      },
      "source": [
        "## pickle 모듈\n",
        "- 우리가 사용하는 다양한 객체들을 파일로 저장하고 싶다면?\n",
        "- 객체의 구조를 직렬화해서 파일로 저장한다.\n",
        "- 보통 딕셔너리, 리스트 등을 저장하고 불러올때 사용한다.\n"
      ]
    },
    {
      "cell_type": "markdown",
      "metadata": {
        "id": "pBH5RSe80rcw"
      },
      "source": [
        "- 리스트 저장해보기"
      ]
    },
    {
      "cell_type": "code",
      "execution_count": null,
      "metadata": {
        "id": "aPnTiKjFG3N2"
      },
      "outputs": [],
      "source": [
        "import pickle"
      ]
    },
    {
      "cell_type": "code",
      "execution_count": null,
      "metadata": {
        "id": "nIJvfqKFG3H_"
      },
      "outputs": [],
      "source": [
        "data = [1,2,3,4,5,6,7]"
      ]
    },
    {
      "cell_type": "code",
      "execution_count": null,
      "metadata": {
        "id": "LmOmBSWyG2-f"
      },
      "outputs": [],
      "source": [
        "with open('data.pkl', 'wb') as f: # 바이너리 옵션을 추가로 줘야한다.\n",
        "    pickle.dump(data, f)"
      ]
    },
    {
      "cell_type": "code",
      "execution_count": null,
      "metadata": {
        "colab": {
          "base_uri": "https://localhost:8080/"
        },
        "id": "pafgAIkdIwkt",
        "outputId": "46133256-4133-401b-8efb-fb939d0730a5"
      },
      "outputs": [
        {
          "output_type": "execute_result",
          "data": {
            "text/plain": [
              "[1, 2, 3, 4, 5, 6, 7]"
            ]
          },
          "metadata": {},
          "execution_count": 33
        }
      ],
      "source": [
        "with open('data.pkl', 'rb') as f:\n",
        "    rdata = pickle.load(f) # 파이썬에서 사용할수 있는 객체형식으로 불러와 진다.\n",
        "rdata"
      ]
    },
    {
      "cell_type": "markdown",
      "metadata": {
        "id": "bAef5Hov0f4x"
      },
      "source": [
        "- 인스턴스 저장해보기"
      ]
    },
    {
      "cell_type": "code",
      "execution_count": null,
      "metadata": {
        "id": "CZrY2Fa3nLcZ"
      },
      "outputs": [],
      "source": [
        "class MyClass:\n",
        "    def __init__(self):\n",
        "        self.my_name = \"My Class\""
      ]
    },
    {
      "cell_type": "code",
      "execution_count": null,
      "metadata": {
        "id": "Gl8Z59vQnLTH"
      },
      "outputs": [],
      "source": [
        "instacne = MyClass()\n",
        "with open('instacne.pkl', 'wb') as f:\n",
        "    pickle.dump(instacne, f)"
      ]
    },
    {
      "cell_type": "code",
      "execution_count": null,
      "metadata": {
        "colab": {
          "base_uri": "https://localhost:8080/"
        },
        "id": "VZ7UZje2jY37",
        "outputId": "ae64e626-42d1-4b83-aeb2-5c2629dd6f64"
      },
      "outputs": [
        {
          "output_type": "execute_result",
          "data": {
            "text/plain": [
              "<__main__.MyClass at 0x7f7de84b76d0>"
            ]
          },
          "metadata": {},
          "execution_count": 36
        }
      ],
      "source": [
        "with open('instacne.pkl', 'rb') as f:\n",
        "    instacne = pickle.load(f)\n",
        "instacne"
      ]
    },
    {
      "cell_type": "code",
      "execution_count": null,
      "metadata": {
        "colab": {
          "base_uri": "https://localhost:8080/",
          "height": 35
        },
        "id": "egTM219ljY1L",
        "outputId": "6e6247b4-a911-430f-eb1a-5b701f1cebf2"
      },
      "outputs": [
        {
          "output_type": "execute_result",
          "data": {
            "text/plain": [
              "'My Class'"
            ],
            "application/vnd.google.colaboratory.intrinsic+json": {
              "type": "string"
            }
          },
          "metadata": {},
          "execution_count": 37
        }
      ],
      "source": [
        "instacne.my_name"
      ]
    }
  ],
  "metadata": {
    "colab": {
      "provenance": []
    },
    "kernelspec": {
      "display_name": "Python 3",
      "name": "python3"
    },
    "language_info": {
      "name": "python"
    }
  },
  "nbformat": 4,
  "nbformat_minor": 0
}