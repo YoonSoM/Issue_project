{
  "nbformat": 4,
  "nbformat_minor": 0,
  "metadata": {
    "colab": {
      "provenance": []
    },
    "kernelspec": {
      "name": "python3",
      "display_name": "Python 3"
    },
    "language_info": {
      "name": "python"
    }
  },
  "cells": [
    {
      "cell_type": "markdown",
      "source": [
        "# 제어문\n",
        "- 코드의 **흐름을** 제어하는 문법\n",
        "- 프로그램은 어떠한 작업을 하기위해 단순하게 순차적, 어떤 조건에 의한 분기, 특정 코드 부분을 반복해서 실행한다. 여기서 주어진 조건에 따라 반복해서 코드를 실행할때 사용하는 것을 제어문이라고 한다."
      ],
      "metadata": {
        "id": "a1JFzHLSExvv"
      }
    },
    {
      "cell_type": "markdown",
      "source": [
        "\n",
        "\n",
        "# 조건문 ( `Condition` )\n",
        "- 특정한 조건을 만족하면 ( `True` ) 코드를 실행\n",
        "\n",
        "\n",
        "\n"
      ],
      "metadata": {
        "id": "LB6u3rcNluiE"
      }
    },
    {
      "cell_type": "markdown",
      "source": [
        "### 조건문의 구조\n",
        "```python\n",
        "if <condition>:\n",
        "    code context\n",
        "    ...\n",
        "elif <condition>:\n",
        "    code context\n",
        "    ...\n",
        "elif <condition>:\n",
        "    code context\n",
        "    ...\n",
        "...\n",
        "else:\n",
        "    code context\n",
        "```"
      ],
      "metadata": {
        "id": "BBWp-ywwnRtx"
      }
    },
    {
      "cell_type": "code",
      "source": [
        "accuracy = 0.92\n",
        "if accuracy >= 0.9:\n",
        "    print(\"와우 최고의 인공지능 모델입니다.\")\n",
        "elif accuracy >= 0.8:\n",
        "    print(\"좋은 모델입니다.\")\n",
        "elif accuracy >= 0.7:\n",
        "    print(\"평범함 모델입니다.\")\n",
        "else:\n",
        "    print(\"성능향상이 필요한 모델입니다.\")"
      ],
      "metadata": {
        "colab": {
          "base_uri": "https://localhost:8080/"
        },
        "id": "zGuQBwRf8mKO",
        "outputId": "92558175-215b-412e-a119-8bf0dc4577ae"
      },
      "execution_count": null,
      "outputs": [
        {
          "output_type": "stream",
          "name": "stdout",
          "text": [
            "와우 최고의 인공지능 모델입니다.\n"
          ]
        }
      ]
    },
    {
      "cell_type": "markdown",
      "source": [
        "- if 문은 단독으로 사용 가능하다."
      ],
      "metadata": {
        "id": "uCdmeicD3HR6"
      }
    },
    {
      "cell_type": "code",
      "source": [
        "num = 2\n",
        "if num != 0:\n",
        "    print(10 / num)"
      ],
      "metadata": {
        "colab": {
          "base_uri": "https://localhost:8080/"
        },
        "id": "UaTtj-w6aP32",
        "outputId": "75d32fdf-5518-4825-c621-07a5f5997234"
      },
      "execution_count": null,
      "outputs": [
        {
          "output_type": "stream",
          "name": "stdout",
          "text": [
            "5.0\n"
          ]
        }
      ]
    },
    {
      "cell_type": "code",
      "source": [
        "num = 0\n",
        "if num:\n",
        "    print(10 / num)"
      ],
      "metadata": {
        "id": "sN5brPICe4m-"
      },
      "execution_count": null,
      "outputs": []
    },
    {
      "cell_type": "markdown",
      "source": [
        "## 중첩 조건문\n",
        "- 조건문 안에 조건문을 사용할수 있다.\n"
      ],
      "metadata": {
        "id": "JMlG-40ubm6Q"
      }
    },
    {
      "cell_type": "code",
      "source": [
        "age = 19\n",
        "\n",
        "if age > 99 or age < 0:\n",
        "    print(\"유효한 나이를 입력해주세요\")\n",
        "else:\n",
        "    if age < 20:\n",
        "        print(\"20세이상만 회원가입이 가능합니다.\")\n",
        "    else:\n",
        "        print(\"DB 저장 완료\")"
      ],
      "metadata": {
        "colab": {
          "base_uri": "https://localhost:8080/"
        },
        "id": "clThXSvGD_BF",
        "outputId": "5f8761e3-fdf2-411b-f83c-06b3cfba00bf"
      },
      "execution_count": null,
      "outputs": [
        {
          "output_type": "stream",
          "name": "stdout",
          "text": [
            "20세이상만 회원가입이 가능합니다.\n"
          ]
        }
      ]
    },
    {
      "cell_type": "markdown",
      "source": [
        "# 반복문( Loop )\n",
        "- 반복적으로 코드를 수행할때 사용\n",
        "\n",
        "\n",
        "\n"
      ],
      "metadata": {
        "id": "3vEB16Gl4S7p"
      }
    },
    {
      "cell_type": "markdown",
      "source": [
        "## `while` 문\n",
        "- 조건제 반복\n",
        "- 조건이 참인 동안 반복\n",
        "- 무한 반복 주의\n",
        "\n",
        "\n",
        "```python\n",
        "while <condition>:\n",
        "    code context\n",
        "```"
      ],
      "metadata": {
        "id": "xeF4ocU3Jbds"
      }
    },
    {
      "cell_type": "code",
      "source": [
        "n = 3\n",
        "i = 1\n",
        "while i < 10:\n",
        "    print(f\"{n} X {i} = {n*i}\")\n",
        "    i += 1"
      ],
      "metadata": {
        "colab": {
          "base_uri": "https://localhost:8080/"
        },
        "id": "q2WA0oSyKYB1",
        "outputId": "9559c437-3e95-455c-f3ca-aad5a93fafc8"
      },
      "execution_count": null,
      "outputs": [
        {
          "output_type": "stream",
          "name": "stdout",
          "text": [
            "3 X 1 = 3\n",
            "3 X 2 = 6\n",
            "3 X 3 = 9\n",
            "3 X 4 = 12\n",
            "3 X 5 = 15\n",
            "3 X 6 = 18\n",
            "3 X 7 = 21\n",
            "3 X 8 = 24\n",
            "3 X 9 = 27\n"
          ]
        }
      ]
    },
    {
      "cell_type": "markdown",
      "source": [
        "## 중첩 while 문"
      ],
      "metadata": {
        "id": "0HE2w7PRuUM0"
      }
    },
    {
      "cell_type": "code",
      "source": [
        "n = 2\n",
        "while n < 10:\n",
        "    print(f\"{n} 단 입니다.\")\n",
        "    i = 1\n",
        "    while i < 10:\n",
        "        print(f\"{n} X {i} = {n*i}\")\n",
        "        i += 1\n",
        "    n += 1"
      ],
      "metadata": {
        "colab": {
          "base_uri": "https://localhost:8080/"
        },
        "id": "ujkZ5BN95ixr",
        "outputId": "fbf0f629-ad05-4009-98b5-518966974c03"
      },
      "execution_count": null,
      "outputs": [
        {
          "output_type": "stream",
          "name": "stdout",
          "text": [
            "2 단 입니다.\n",
            "2 X 1 = 2\n",
            "2 X 2 = 4\n",
            "2 X 3 = 6\n",
            "2 X 4 = 8\n",
            "2 X 5 = 10\n",
            "2 X 6 = 12\n",
            "2 X 7 = 14\n",
            "2 X 8 = 16\n",
            "2 X 9 = 18\n",
            "3 단 입니다.\n",
            "3 X 1 = 3\n",
            "3 X 2 = 6\n",
            "3 X 3 = 9\n",
            "3 X 4 = 12\n",
            "3 X 5 = 15\n",
            "3 X 6 = 18\n",
            "3 X 7 = 21\n",
            "3 X 8 = 24\n",
            "3 X 9 = 27\n",
            "4 단 입니다.\n",
            "4 X 1 = 4\n",
            "4 X 2 = 8\n",
            "4 X 3 = 12\n",
            "4 X 4 = 16\n",
            "4 X 5 = 20\n",
            "4 X 6 = 24\n",
            "4 X 7 = 28\n",
            "4 X 8 = 32\n",
            "4 X 9 = 36\n",
            "5 단 입니다.\n",
            "5 X 1 = 5\n",
            "5 X 2 = 10\n",
            "5 X 3 = 15\n",
            "5 X 4 = 20\n",
            "5 X 5 = 25\n",
            "5 X 6 = 30\n",
            "5 X 7 = 35\n",
            "5 X 8 = 40\n",
            "5 X 9 = 45\n",
            "6 단 입니다.\n",
            "6 X 1 = 6\n",
            "6 X 2 = 12\n",
            "6 X 3 = 18\n",
            "6 X 4 = 24\n",
            "6 X 5 = 30\n",
            "6 X 6 = 36\n",
            "6 X 7 = 42\n",
            "6 X 8 = 48\n",
            "6 X 9 = 54\n",
            "7 단 입니다.\n",
            "7 X 1 = 7\n",
            "7 X 2 = 14\n",
            "7 X 3 = 21\n",
            "7 X 4 = 28\n",
            "7 X 5 = 35\n",
            "7 X 6 = 42\n",
            "7 X 7 = 49\n",
            "7 X 8 = 56\n",
            "7 X 9 = 63\n",
            "8 단 입니다.\n",
            "8 X 1 = 8\n",
            "8 X 2 = 16\n",
            "8 X 3 = 24\n",
            "8 X 4 = 32\n",
            "8 X 5 = 40\n",
            "8 X 6 = 48\n",
            "8 X 7 = 56\n",
            "8 X 8 = 64\n",
            "8 X 9 = 72\n",
            "9 단 입니다.\n",
            "9 X 1 = 9\n",
            "9 X 2 = 18\n",
            "9 X 3 = 27\n",
            "9 X 4 = 36\n",
            "9 X 5 = 45\n",
            "9 X 6 = 54\n",
            "9 X 7 = 63\n",
            "9 X 8 = 72\n",
            "9 X 9 = 81\n"
          ]
        }
      ]
    },
    {
      "cell_type": "markdown",
      "source": [
        "## `for` 문\n",
        "- 반복 가능(iterable)한 객체를 더이상 꺼낼수 없을때 까지 반복\n",
        "- `list`, `tuple`, `set`, `dict` , `str`\n",
        "\n",
        "```python\n",
        "for <variable> in <iterable>:\n",
        "    code context\n",
        "```\n",
        "\n",
        "\n"
      ],
      "metadata": {
        "id": "RHnQDh-EQwLk"
      }
    },
    {
      "cell_type": "code",
      "source": [
        "n = 9\n",
        "lst = [1,2,3,4,5,6,7,8,9]\n",
        "for i in lst:\n",
        "    print(f\"{n} X {i} = {n*i}\")"
      ],
      "metadata": {
        "colab": {
          "base_uri": "https://localhost:8080/"
        },
        "id": "WieYcxu4lroY",
        "outputId": "0d94768f-34da-448e-c176-71ce81c93d43"
      },
      "execution_count": null,
      "outputs": [
        {
          "output_type": "stream",
          "name": "stdout",
          "text": [
            "9 X 1 = 9\n",
            "9 X 2 = 18\n",
            "9 X 3 = 27\n",
            "9 X 4 = 36\n",
            "9 X 5 = 45\n",
            "9 X 6 = 54\n",
            "9 X 7 = 63\n",
            "9 X 8 = 72\n",
            "9 X 9 = 81\n"
          ]
        }
      ]
    },
    {
      "cell_type": "markdown",
      "source": [
        "### 파이썬의 `range` 함수\n",
        "- 특정 구간의 숫자의 범위를 만들어주는 함수\n",
        "- 슬라이싱 기법을 이용하여 숫자의 범위를 만들수 있다.\n",
        "- 파이썬에 range 라는 숫자의 범위를 가진 iterable한 특수한 객체이다.\n",
        "- for문과 같이 자주 사용된다."
      ],
      "metadata": {
        "id": "XasXaMwHmrXu"
      }
    },
    {
      "cell_type": "code",
      "source": [
        "range(0,10)"
      ],
      "metadata": {
        "colab": {
          "base_uri": "https://localhost:8080/"
        },
        "id": "2BF2bmfunDEu",
        "outputId": "c80f2227-b12a-4783-ceb0-b8e6dc8cdc4d"
      },
      "execution_count": null,
      "outputs": [
        {
          "output_type": "execute_result",
          "data": {
            "text/plain": [
              "range(0, 10)"
            ]
          },
          "metadata": {},
          "execution_count": 10
        }
      ]
    },
    {
      "cell_type": "code",
      "source": [
        "range(10)"
      ],
      "metadata": {
        "colab": {
          "base_uri": "https://localhost:8080/"
        },
        "id": "mborcifIU1yo",
        "outputId": "13fa3994-db20-4e16-a371-d602dc910a9e"
      },
      "execution_count": null,
      "outputs": [
        {
          "output_type": "execute_result",
          "data": {
            "text/plain": [
              "range(0, 10)"
            ]
          },
          "metadata": {},
          "execution_count": 11
        }
      ]
    },
    {
      "cell_type": "code",
      "source": [
        "type(range(0,10))"
      ],
      "metadata": {
        "colab": {
          "base_uri": "https://localhost:8080/"
        },
        "id": "mo7lPvKonTrv",
        "outputId": "d65e0df3-fdce-4ce1-91bf-5009c6141f8d"
      },
      "execution_count": null,
      "outputs": [
        {
          "output_type": "execute_result",
          "data": {
            "text/plain": [
              "range"
            ]
          },
          "metadata": {},
          "execution_count": 12
        }
      ]
    },
    {
      "cell_type": "code",
      "source": [
        "list(range(0,10))"
      ],
      "metadata": {
        "colab": {
          "base_uri": "https://localhost:8080/"
        },
        "id": "UClsY_Ct-F7A",
        "outputId": "d12d8f38-c7c9-4ef6-9846-49845a707ff6"
      },
      "execution_count": null,
      "outputs": [
        {
          "output_type": "execute_result",
          "data": {
            "text/plain": [
              "[0, 1, 2, 3, 4, 5, 6, 7, 8, 9]"
            ]
          },
          "metadata": {},
          "execution_count": 13
        }
      ]
    },
    {
      "cell_type": "code",
      "source": [
        "list(range(2,11,2))"
      ],
      "metadata": {
        "colab": {
          "base_uri": "https://localhost:8080/"
        },
        "id": "2kUgmyH1ncSP",
        "outputId": "0ea8753a-69a0-4a20-b702-e8fe9e7b1c23"
      },
      "execution_count": null,
      "outputs": [
        {
          "output_type": "execute_result",
          "data": {
            "text/plain": [
              "[2, 4, 6, 8, 10]"
            ]
          },
          "metadata": {},
          "execution_count": 14
        }
      ]
    },
    {
      "cell_type": "code",
      "source": [
        "n = 9\n",
        "for i in range(1,10):\n",
        "    print(f\"{n} X {i} = {n*i}\")"
      ],
      "metadata": {
        "colab": {
          "base_uri": "https://localhost:8080/"
        },
        "id": "P6RQoZqMn4dv",
        "outputId": "7317d3e4-1252-4acf-ce81-31f62afaf7e5"
      },
      "execution_count": null,
      "outputs": [
        {
          "output_type": "stream",
          "name": "stdout",
          "text": [
            "9 X 1 = 9\n",
            "9 X 2 = 18\n",
            "9 X 3 = 27\n",
            "9 X 4 = 36\n",
            "9 X 5 = 45\n",
            "9 X 6 = 54\n",
            "9 X 7 = 63\n",
            "9 X 8 = 72\n",
            "9 X 9 = 81\n"
          ]
        }
      ]
    },
    {
      "cell_type": "markdown",
      "source": [
        "## 중첩 `for` 문"
      ],
      "metadata": {
        "id": "ld0oRNlW9MGw"
      }
    },
    {
      "cell_type": "code",
      "source": [
        "for i in range(2,10):\n",
        "    print(f\"{i} 단 입니다.\")\n",
        "    for j in range(1,10):\n",
        "        print(f\"{i} X {j} = {i*j}\")"
      ],
      "metadata": {
        "colab": {
          "base_uri": "https://localhost:8080/"
        },
        "id": "_Is_HbKz9LdY",
        "outputId": "c28c5947-96c0-4a24-cd38-ecb95520a2b9"
      },
      "execution_count": null,
      "outputs": [
        {
          "output_type": "stream",
          "name": "stdout",
          "text": [
            "2 단 입니다.\n",
            "2 X 1 = 2\n",
            "2 X 2 = 4\n",
            "2 X 3 = 6\n",
            "2 X 4 = 8\n",
            "2 X 5 = 10\n",
            "2 X 6 = 12\n",
            "2 X 7 = 14\n",
            "2 X 8 = 16\n",
            "2 X 9 = 18\n",
            "3 단 입니다.\n",
            "3 X 1 = 3\n",
            "3 X 2 = 6\n",
            "3 X 3 = 9\n",
            "3 X 4 = 12\n",
            "3 X 5 = 15\n",
            "3 X 6 = 18\n",
            "3 X 7 = 21\n",
            "3 X 8 = 24\n",
            "3 X 9 = 27\n",
            "4 단 입니다.\n",
            "4 X 1 = 4\n",
            "4 X 2 = 8\n",
            "4 X 3 = 12\n",
            "4 X 4 = 16\n",
            "4 X 5 = 20\n",
            "4 X 6 = 24\n",
            "4 X 7 = 28\n",
            "4 X 8 = 32\n",
            "4 X 9 = 36\n",
            "5 단 입니다.\n",
            "5 X 1 = 5\n",
            "5 X 2 = 10\n",
            "5 X 3 = 15\n",
            "5 X 4 = 20\n",
            "5 X 5 = 25\n",
            "5 X 6 = 30\n",
            "5 X 7 = 35\n",
            "5 X 8 = 40\n",
            "5 X 9 = 45\n",
            "6 단 입니다.\n",
            "6 X 1 = 6\n",
            "6 X 2 = 12\n",
            "6 X 3 = 18\n",
            "6 X 4 = 24\n",
            "6 X 5 = 30\n",
            "6 X 6 = 36\n",
            "6 X 7 = 42\n",
            "6 X 8 = 48\n",
            "6 X 9 = 54\n",
            "7 단 입니다.\n",
            "7 X 1 = 7\n",
            "7 X 2 = 14\n",
            "7 X 3 = 21\n",
            "7 X 4 = 28\n",
            "7 X 5 = 35\n",
            "7 X 6 = 42\n",
            "7 X 7 = 49\n",
            "7 X 8 = 56\n",
            "7 X 9 = 63\n",
            "8 단 입니다.\n",
            "8 X 1 = 8\n",
            "8 X 2 = 16\n",
            "8 X 3 = 24\n",
            "8 X 4 = 32\n",
            "8 X 5 = 40\n",
            "8 X 6 = 48\n",
            "8 X 7 = 56\n",
            "8 X 8 = 64\n",
            "8 X 9 = 72\n",
            "9 단 입니다.\n",
            "9 X 1 = 9\n",
            "9 X 2 = 18\n",
            "9 X 3 = 27\n",
            "9 X 4 = 36\n",
            "9 X 5 = 45\n",
            "9 X 6 = 54\n",
            "9 X 7 = 63\n",
            "9 X 8 = 72\n",
            "9 X 9 = 81\n"
          ]
        }
      ]
    },
    {
      "cell_type": "markdown",
      "source": [
        "- 문자열도 iterable 하다"
      ],
      "metadata": {
        "id": "HhS-riw7duyt"
      }
    },
    {
      "cell_type": "code",
      "source": [
        "text = \"Hello Python\"\n",
        "for s in text:\n",
        "    print(s)"
      ],
      "metadata": {
        "colab": {
          "base_uri": "https://localhost:8080/"
        },
        "id": "yR3Xdug1qOCx",
        "outputId": "58cb05e6-7780-464c-8dfb-766ae5d6f960"
      },
      "execution_count": null,
      "outputs": [
        {
          "output_type": "stream",
          "name": "stdout",
          "text": [
            "H\n",
            "e\n",
            "l\n",
            "l\n",
            "o\n",
            " \n",
            "P\n",
            "y\n",
            "t\n",
            "h\n",
            "o\n",
            "n\n"
          ]
        }
      ]
    },
    {
      "cell_type": "markdown",
      "source": [
        "## break 문\n",
        "- 해당 반복문을 빠져 나온다."
      ],
      "metadata": {
        "id": "APBQN1W7sR9G"
      }
    },
    {
      "cell_type": "code",
      "source": [
        "text = \"Hello Python\"\n",
        "for s in text:\n",
        "    if s == \" \":\n",
        "        break\n",
        "    print(s)"
      ],
      "metadata": {
        "colab": {
          "base_uri": "https://localhost:8080/"
        },
        "id": "lMvN0ZoUsL3P",
        "outputId": "cf982020-0c7b-4e2f-a21e-10a8cf040137"
      },
      "execution_count": null,
      "outputs": [
        {
          "output_type": "stream",
          "name": "stdout",
          "text": [
            "H\n",
            "e\n",
            "l\n",
            "l\n",
            "o\n"
          ]
        }
      ]
    },
    {
      "cell_type": "markdown",
      "source": [
        "## continue 문\n",
        "- 진행을 중단하고 다음 반복으로 넘어간다."
      ],
      "metadata": {
        "id": "FYXQPYfqsZJj"
      }
    },
    {
      "cell_type": "code",
      "source": [
        "text = \"Hello Python\"\n",
        "for s in text:\n",
        "    if s == \" \":\n",
        "        continue\n",
        "    print(s)"
      ],
      "metadata": {
        "colab": {
          "base_uri": "https://localhost:8080/"
        },
        "id": "9cbmgTXXsX4o",
        "outputId": "d34ca06c-8718-4133-9c8d-a3cc91baebaa"
      },
      "execution_count": null,
      "outputs": [
        {
          "output_type": "stream",
          "name": "stdout",
          "text": [
            "H\n",
            "e\n",
            "l\n",
            "l\n",
            "o\n",
            "P\n",
            "y\n",
            "t\n",
            "h\n",
            "o\n",
            "n\n"
          ]
        }
      ]
    },
    {
      "cell_type": "markdown",
      "source": [
        "## `enumerate` 함수\n",
        "-  iterable한 객체를 꺼낼때 인덱스도 같이 꺼낸다."
      ],
      "metadata": {
        "id": "xa6xIgIiBXT9"
      }
    },
    {
      "cell_type": "code",
      "source": [
        "lst = [10,20,30,40,50]\n",
        "for i,v in enumerate(lst):\n",
        "    print(f\"{i}번째 인덱스 의 요소는 {v}\")"
      ],
      "metadata": {
        "colab": {
          "base_uri": "https://localhost:8080/"
        },
        "id": "KA5TLC5-FzJz",
        "outputId": "fa0dbb7c-07cd-4dc5-d7a2-fbd1f8eea2c9"
      },
      "execution_count": null,
      "outputs": [
        {
          "output_type": "stream",
          "name": "stdout",
          "text": [
            "0번째 인덱스 의 요소는 10\n",
            "1번째 인덱스 의 요소는 20\n",
            "2번째 인덱스 의 요소는 30\n",
            "3번째 인덱스 의 요소는 40\n",
            "4번째 인덱스 의 요소는 50\n"
          ]
        }
      ]
    },
    {
      "cell_type": "code",
      "source": [
        "list(enumerate(lst))"
      ],
      "metadata": {
        "colab": {
          "base_uri": "https://localhost:8080/"
        },
        "id": "cR20622Nt7_1",
        "outputId": "5ef3a141-f0ab-40e8-f031-0ba21b506664"
      },
      "execution_count": null,
      "outputs": [
        {
          "output_type": "execute_result",
          "data": {
            "text/plain": [
              "[(0, 10), (1, 20), (2, 30), (3, 40), (4, 50)]"
            ]
          },
          "metadata": {},
          "execution_count": 21
        }
      ]
    },
    {
      "cell_type": "code",
      "source": [
        "dict(enumerate(lst))"
      ],
      "metadata": {
        "colab": {
          "base_uri": "https://localhost:8080/"
        },
        "id": "pc7GFMrnuEGP",
        "outputId": "ec3e9774-4484-4353-f287-69a0d9ac8058"
      },
      "execution_count": null,
      "outputs": [
        {
          "output_type": "execute_result",
          "data": {
            "text/plain": [
              "{0: 10, 1: 20, 2: 30, 3: 40, 4: 50}"
            ]
          },
          "metadata": {},
          "execution_count": 22
        }
      ]
    },
    {
      "cell_type": "markdown",
      "source": [
        "## `zip` 함수\n",
        "- 여러 개의 컬렉션을 순번대로 병렬로 꺼낸다.\n"
      ],
      "metadata": {
        "id": "Y29FP1RPaLyE"
      }
    },
    {
      "cell_type": "code",
      "source": [
        "class_list = [\"A반\", \"B반\", \"C반\"]\n",
        "score_list = [90,87,93]\n",
        "\n",
        "for c, s in zip(class_list, score_list):\n",
        "    print(f\"{c}의 점수는 {s}점\")"
      ],
      "metadata": {
        "id": "NFiRDbsTbF_l",
        "colab": {
          "base_uri": "https://localhost:8080/"
        },
        "outputId": "8dc83a5c-8fa0-418a-8a19-ee0a147c10d2"
      },
      "execution_count": null,
      "outputs": [
        {
          "output_type": "stream",
          "name": "stdout",
          "text": [
            "A반의 점수는 90점\n",
            "B반의 점수는 87점\n",
            "C반의 점수는 93점\n"
          ]
        }
      ]
    },
    {
      "cell_type": "code",
      "source": [
        "zip(class_list,score_list)"
      ],
      "metadata": {
        "colab": {
          "base_uri": "https://localhost:8080/"
        },
        "id": "WYuyFHYFyDwD",
        "outputId": "dc5923f1-2da5-4def-b701-0769bf831267"
      },
      "execution_count": null,
      "outputs": [
        {
          "output_type": "execute_result",
          "data": {
            "text/plain": [
              "<zip at 0x7ff2432b8be0>"
            ]
          },
          "metadata": {},
          "execution_count": 24
        }
      ]
    },
    {
      "cell_type": "code",
      "source": [
        "list(zip(class_list,score_list))"
      ],
      "metadata": {
        "colab": {
          "base_uri": "https://localhost:8080/"
        },
        "id": "O_y8PFRTyQGP",
        "outputId": "83c34295-50d9-405b-8a65-a8cf5640528f"
      },
      "execution_count": null,
      "outputs": [
        {
          "output_type": "execute_result",
          "data": {
            "text/plain": [
              "[('A반', 90), ('B반', 87), ('C반', 93)]"
            ]
          },
          "metadata": {},
          "execution_count": 25
        }
      ]
    },
    {
      "cell_type": "code",
      "source": [
        "dict(zip(class_list,score_list))"
      ],
      "metadata": {
        "colab": {
          "base_uri": "https://localhost:8080/"
        },
        "id": "nIUp208Vyffx",
        "outputId": "ef49ed90-745d-4bac-befb-21b36a1ab58c"
      },
      "execution_count": null,
      "outputs": [
        {
          "output_type": "execute_result",
          "data": {
            "text/plain": [
              "{'A반': 90, 'B반': 87, 'C반': 93}"
            ]
          },
          "metadata": {},
          "execution_count": 26
        }
      ]
    },
    {
      "cell_type": "markdown",
      "source": [
        "## `dict`를 `for` 문으로 반복"
      ],
      "metadata": {
        "id": "Vsymft99xHlP"
      }
    },
    {
      "cell_type": "code",
      "source": [
        "score_dict = {\n",
        "    \"국어\": 100,\n",
        "    \"수학\": 80,\n",
        "    \"영어\": 85\n",
        "}\n",
        "for k in score_dict.keys():\n",
        "  print(f\"{k}는 {score_dict[k]}점\")"
      ],
      "metadata": {
        "colab": {
          "base_uri": "https://localhost:8080/"
        },
        "id": "kst-uw8ZxWMI",
        "outputId": "4bc2007a-73f4-48b9-9a2b-3d6e5915c71a"
      },
      "execution_count": null,
      "outputs": [
        {
          "output_type": "stream",
          "name": "stdout",
          "text": [
            "국어는 100점\n",
            "수학는 80점\n",
            "영어는 85점\n"
          ]
        }
      ]
    },
    {
      "cell_type": "code",
      "source": [
        "for value in score_dict.values():\n",
        "  print(f\"{value}점\")"
      ],
      "metadata": {
        "colab": {
          "base_uri": "https://localhost:8080/"
        },
        "id": "8gaG8giOzjbC",
        "outputId": "89502cc7-35a4-407d-dc8c-bc7899d03ade"
      },
      "execution_count": null,
      "outputs": [
        {
          "output_type": "stream",
          "name": "stdout",
          "text": [
            "100점\n",
            "80점\n",
            "85점\n"
          ]
        }
      ]
    },
    {
      "cell_type": "code",
      "source": [
        "for subject, score in score_dict.items():\n",
        "  print(f\"{subject}는 {score}점\")"
      ],
      "metadata": {
        "colab": {
          "base_uri": "https://localhost:8080/"
        },
        "id": "X9jVgCNQdzGq",
        "outputId": "173689c7-cb2f-4fdb-f9fa-88f1fc1cd0a0"
      },
      "execution_count": null,
      "outputs": [
        {
          "output_type": "stream",
          "name": "stdout",
          "text": [
            "국어는 100점\n",
            "수학는 80점\n",
            "영어는 85점\n"
          ]
        }
      ]
    },
    {
      "cell_type": "markdown",
      "source": [
        "## 삼항 연산자\n",
        "- `if`, `else`만 사용해서 삼항연산을 수행\n",
        "\n",
        "\n",
        "\n",
        "\n",
        "```python\n",
        "<True 일 때 사용할 값> if <condition> else <False 일 때 사용할 값>\n",
        "```"
      ],
      "metadata": {
        "id": "cRQeIXLN8_rJ"
      }
    },
    {
      "cell_type": "code",
      "source": [
        "age = 20\n",
        "msg = \"회원가입이 가능\" if age >= 20 else \"회원가입이 불가능\"\n",
        "print(msg)"
      ],
      "metadata": {
        "colab": {
          "base_uri": "https://localhost:8080/"
        },
        "id": "j1P5nc-X_DqJ",
        "outputId": "e446f3b8-1d87-44f6-956e-6f30e63ece53"
      },
      "execution_count": null,
      "outputs": [
        {
          "output_type": "stream",
          "name": "stdout",
          "text": [
            "회원가입이 가능\n"
          ]
        }
      ]
    },
    {
      "cell_type": "markdown",
      "source": [
        "# 컴프리헨션(Comprehension)\n",
        "- 반복가능한 객체를 활용해서 새로운 반복가능한 객체를 만들때 유용하다.\n",
        "- `list`, `set`, `dict`를 자료형을 간단하게 만들기 위한 문법\n",
        "- `tuple` 은 컴프리헨션으로 만들 수 없다\n",
        "\n",
        "\n",
        "```python\n",
        "[ <추가할 값에 대한 처리> for <값> in <collection> if <값에 대한 조건> ]\n",
        "```\n",
        "\n"
      ],
      "metadata": {
        "id": "mwtuwW_AAHd9"
      }
    },
    {
      "cell_type": "code",
      "source": [
        "result = [ data ** 2 for data in range(1, 6) ]\n",
        "result"
      ],
      "metadata": {
        "colab": {
          "base_uri": "https://localhost:8080/"
        },
        "id": "vQLWozmDD_wp",
        "outputId": "9c6a4354-5e68-400c-cd83-2aa1a1baf9e4"
      },
      "execution_count": null,
      "outputs": [
        {
          "output_type": "execute_result",
          "data": {
            "text/plain": [
              "[1, 4, 9, 16, 25]"
            ]
          },
          "metadata": {},
          "execution_count": 31
        }
      ]
    },
    {
      "cell_type": "code",
      "source": [
        "num_list = list(range(1, 21))\n",
        "result = [ num for num in num_list if num % 2 == 0]\n",
        "print(result)"
      ],
      "metadata": {
        "colab": {
          "base_uri": "https://localhost:8080/"
        },
        "id": "HieaZnm9FoOI",
        "outputId": "770c33fa-8710-40ca-b574-73c12a73e77b"
      },
      "execution_count": null,
      "outputs": [
        {
          "output_type": "stream",
          "name": "stdout",
          "text": [
            "[2, 4, 6, 8, 10, 12, 14, 16, 18, 20]\n"
          ]
        }
      ]
    },
    {
      "cell_type": "code",
      "source": [
        "result = [ num**2 if num % 2 == 0 else num for num in num_list]\n",
        "print(result)"
      ],
      "metadata": {
        "colab": {
          "base_uri": "https://localhost:8080/"
        },
        "id": "ILbVYTFJUo4m",
        "outputId": "8b0cadfa-b4d5-4e01-b0f4-ba3134734feb"
      },
      "execution_count": null,
      "outputs": [
        {
          "output_type": "stream",
          "name": "stdout",
          "text": [
            "[1, 4, 3, 16, 5, 36, 7, 64, 9, 100, 11, 144, 13, 196, 15, 256, 17, 324, 19, 400]\n"
          ]
        }
      ]
    },
    {
      "cell_type": "markdown",
      "source": [
        "## `dict` Comprehension"
      ],
      "metadata": {
        "id": "dCios9fj5sYH"
      }
    },
    {
      "cell_type": "code",
      "source": [
        "key_list = [\"국어\", \"영어\", \"수학\"]\n",
        "value_list = [80, 85, 90]\n",
        "result = { k : v for k, v in zip(key_list, value_list)}\n",
        "result"
      ],
      "metadata": {
        "colab": {
          "base_uri": "https://localhost:8080/"
        },
        "id": "vtxu9148MEFg",
        "outputId": "62e57e1e-0c68-4c4f-b50b-dd1d695c156a"
      },
      "execution_count": null,
      "outputs": [
        {
          "output_type": "execute_result",
          "data": {
            "text/plain": [
              "{'국어': 80, '수학': 90, '영어': 85}"
            ]
          },
          "metadata": {},
          "execution_count": 34
        }
      ]
    },
    {
      "cell_type": "code",
      "source": [
        "text = \"Hello Python\"\n",
        "result = {char : text.count(char) for char in set(text)}\n",
        "result"
      ],
      "metadata": {
        "colab": {
          "base_uri": "https://localhost:8080/"
        },
        "id": "2HxbxNANOEV-",
        "outputId": "8e70c807-d849-40b2-dbbe-8eb3b71e1db0"
      },
      "execution_count": null,
      "outputs": [
        {
          "output_type": "execute_result",
          "data": {
            "text/plain": [
              "{' ': 1,\n",
              " 'H': 1,\n",
              " 'P': 1,\n",
              " 'e': 1,\n",
              " 'h': 1,\n",
              " 'l': 2,\n",
              " 'n': 1,\n",
              " 'o': 2,\n",
              " 't': 1,\n",
              " 'y': 1}"
            ]
          },
          "metadata": {},
          "execution_count": 35
        }
      ]
    }
  ]
}