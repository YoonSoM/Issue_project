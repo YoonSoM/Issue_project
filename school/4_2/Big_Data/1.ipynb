{
  "cells": [
    {
      "cell_type": "markdown",
      "id": "social-science",
      "metadata": {
        "id": "social-science"
      },
      "source": [
        "# 셀의 모드\n",
        "- 셀은 명령모드와 입력모드가 있다.\n",
        "- 셀의 커서가 깜빡이면 입력모드, 깜빡이지 않으면 명령모드이다.\n",
        "- 셀의 입력 모드에서 `Esc` 키를 누르면 명령모드로 전환 된다.\n",
        "- 명령모드\n",
        "    - `a`(위에 셀추가) , `b`(아래셀추가) , `dd`(셀삭제)\n",
        "- 입력 모드\n",
        "    - `ctrl + enter`( 셀실행후 현재 셀선택)\n",
        "    - `shift + enter`( 셀실행후 아래 셀선택)\n",
        "    - `tab`(자동완성)\n",
        "    - `shift + tab`(도움말)\n",
        "    - `ctrl + /` (주석처리)"
      ]
    },
    {
      "cell_type": "code",
      "execution_count": null,
      "id": "prescribed-michael",
      "metadata": {
        "id": "prescribed-michael"
      },
      "outputs": [],
      "source": []
    },
    {
      "cell_type": "code",
      "execution_count": null,
      "id": "adult-league",
      "metadata": {
        "id": "adult-league"
      },
      "outputs": [],
      "source": [
        "print(\"Hello Python\")"
      ]
    },
    {
      "cell_type": "code",
      "execution_count": null,
      "id": "fluid-father",
      "metadata": {
        "id": "fluid-father"
      },
      "outputs": [],
      "source": [
        "# print?"
      ]
    },
    {
      "cell_type": "code",
      "execution_count": null,
      "id": "civilian-registrar",
      "metadata": {
        "id": "civilian-registrar"
      },
      "outputs": [],
      "source": [
        "print(2+1)"
      ]
    },
    {
      "cell_type": "markdown",
      "id": "baking-manitoba",
      "metadata": {
        "id": "baking-manitoba"
      },
      "source": [
        "# 셀 종류\n",
        "- 코드 셀\n",
        "    - 명령모드에서 `y` 키 입력\n",
        "- 마크다운 셀(텍스트 셀)\n",
        "    - 명령모드에서 `m` 키 입력\n",
        "    - 마크업 언어는 태그나 서식 등을 이용하여 문서나 데이터의 구조를 명시하는 언어에 일종\n",
        "    - 마크다운은 일반 텍스트 기반의 경량화된 마크업 언어\n",
        "    - 프로그래밍 언어: 프로그램을 만들기 위한 언어\n",
        "    - 마크업 언어: 정해진 서식을 이용하여 문서 등을 만들기위한 언어"
      ]
    },
    {
      "cell_type": "markdown",
      "id": "injured-deposit",
      "metadata": {
        "id": "injured-deposit"
      },
      "source": [
        "# 여러 셀 실행하기\n",
        "- 전체 셀 실행: `Cell` 메뉴에서 `Run Cells` 클릭\n",
        "- 현재 셀의 위에 있는 셀을 모두 실행: `Cell` 메뉴에서 `Run All Abose`클릭"
      ]
    },
    {
      "cell_type": "markdown",
      "id": "athletic-batch",
      "metadata": {
        "id": "athletic-batch"
      },
      "source": [
        "# 노트북 파일 재시작 및 종료하기\n",
        "- 재시작: `Kernel` 메뉴에서 `Restart` 클릭\n",
        "- 종료: `File` 메뉴에서 `Close and Halt` 클릭"
      ]
    }
  ],
  "metadata": {
    "kernelspec": {
      "display_name": "Python 3",
      "language": "python",
      "name": "python3"
    },
    "language_info": {
      "codemirror_mode": {
        "name": "ipython",
        "version": 3
      },
      "file_extension": ".py",
      "mimetype": "text/x-python",
      "name": "python",
      "nbconvert_exporter": "python",
      "pygments_lexer": "ipython3",
      "version": "3.8.5"
    },
    "colab": {
      "provenance": []
    }
  },
  "nbformat": 4,
  "nbformat_minor": 5
}