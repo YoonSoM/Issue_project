{
  "nbformat": 4,
  "nbformat_minor": 0,
  "metadata": {
    "colab": {
      "provenance": []
    },
    "kernelspec": {
      "name": "python3",
      "display_name": "Python 3"
    },
    "language_info": {
      "name": "python"
    }
  },
  "cells": [
    {
      "cell_type": "markdown",
      "source": [
        "# 함수(function)\n",
        "- 코드의 반복을 줄이거나 어떠한 용도를 위해 특정 코드들을 모아둔 것\n",
        "- 어떠한 결과를 만들어내는 코드의 집합\n",
        "- (재사용 할)코드의 묶음\n",
        "- 필요할때 마다 호출해서 사용가능"
      ],
      "metadata": {
        "id": "9QLAf-5rzMfN"
      }
    },
    {
      "cell_type": "markdown",
      "source": [
        "## 함수의 정의 방법\n",
        "```python\n",
        "def <function_name>(paramter1, parameter2, ...):\n",
        "    ...\n",
        "    code context\n",
        "    ...\n",
        "```\n",
        "\n",
        "\n"
      ],
      "metadata": {
        "id": "xFEIe00wC2db"
      }
    },
    {
      "cell_type": "markdown",
      "source": [
        "- 파라미터(Parameter) : 함수를 정의할때 입력받는 변수(매개변수)\n",
        "- 아규먼트(Argument) : 함수를 호출하는 곳에서 함수에 넣어주는 값(인수)"
      ],
      "metadata": {
        "id": "NmhAuzap8Q6I"
      }
    },
    {
      "cell_type": "markdown",
      "source": [
        "- 두수를 더하는 함수 만들어보기"
      ],
      "metadata": {
        "id": "IHXCty6okl1c"
      }
    },
    {
      "cell_type": "code",
      "source": [
        "def add_func(a,b): # a와 b는 파라미터\n",
        "    return a + b\n",
        "\n",
        "add_func(2,3) # 2와3은 아규먼트"
      ],
      "metadata": {
        "id": "wj3ndycSVJ9a"
      },
      "execution_count": null,
      "outputs": []
    },
    {
      "cell_type": "markdown",
      "source": [
        "- 리스트를 인수로 받아 짝수만 출력하는 함수 만들어보기"
      ],
      "metadata": {
        "id": "ycBaLSpckld9"
      }
    },
    {
      "cell_type": "code",
      "source": [
        "def print_even(lst): # lst는 파라미터\n",
        "    for i in lst:\n",
        "        if i % 2 == 0:\n",
        "            print(i)\n",
        "\n",
        "lst = [1,2,3,4]\n",
        "print_even(lst) # lst는 아규먼트"
      ],
      "metadata": {
        "id": "m3dx8H9tQ4bj"
      },
      "execution_count": null,
      "outputs": []
    },
    {
      "cell_type": "markdown",
      "source": [
        "- 두수를 인수로 받고 세번째 인수로 더하기,빼기,곱하기,나누기에 대한 문자열을 입력받아 계산하는 함수 만들어보기"
      ],
      "metadata": {
        "id": "K6-bxVNRktot"
      }
    },
    {
      "cell_type": "code",
      "source": [
        "def calculate(n1,n2,arithmetic):\n",
        "    if arithmetic == \"plus\":\n",
        "        result = n1 + n2\n",
        "    elif arithmetic == \"minus\":\n",
        "        result = n1 - n2\n",
        "    elif arithmetic == \"multiply\":\n",
        "        result = n1 * n2\n",
        "    else:\n",
        "        result = n1 / n2 if n2 else 0\n",
        "    return result\n",
        "calculate(5,2,\"divide\") # plus, minus, multiply, divide"
      ],
      "metadata": {
        "id": "hAiHvEvgk-L4"
      },
      "execution_count": null,
      "outputs": []
    },
    {
      "cell_type": "markdown",
      "source": [
        "- 이메일이 담긴 리스트를 인수로 받아 아이디부분만 추출하여 리스트로 반환하는 함수 만들어 보기"
      ],
      "metadata": {
        "id": "MvdkMKmdk61u"
      }
    },
    {
      "cell_type": "code",
      "source": [
        "def email2id(email_list):\n",
        "    return [email.split(\"@\")[0] for email in email_list ]\n",
        "\n",
        "email_list = [\"user1004@gmail.com\",\"user22@naver.com\",\"user30@gmail.com\",\"user100@hanmail.net\"]\n",
        "email2id(email_list)"
      ],
      "metadata": {
        "id": "l3Q2KrUln7Iz"
      },
      "execution_count": null,
      "outputs": []
    },
    {
      "cell_type": "code",
      "source": [],
      "metadata": {
        "id": "vd141oMI3G4z"
      },
      "execution_count": null,
      "outputs": []
    },
    {
      "cell_type": "markdown",
      "source": [
        "## 변수의 사용 범위(Scope)\n",
        "- 지역 변수(local) : 함수 내부에서 만들어진 지역 변수는 함수 내에서만 사용이 가능하다 ( 함수 내에서 선언된 변수, 파라미터 )\n",
        "- 전역 변수(global) : 함수 밖에서 만들어진 변수는 어디에서든 사용이 가능하다.\n",
        "- 제어문은 해당이 안된다. 즉 제어문 code context 안에 변수는 글로벌한 변수다."
      ],
      "metadata": {
        "id": "fUyXijXsLrDa"
      }
    },
    {
      "cell_type": "code",
      "source": [
        "gv = 10 # 전역 변수\n",
        "\n",
        "def do_func():\n",
        "    print(gv)\n",
        "\n",
        "do_func()"
      ],
      "metadata": {
        "id": "DvaceDIbNByK"
      },
      "execution_count": null,
      "outputs": []
    },
    {
      "cell_type": "code",
      "source": [
        "gv = 10 # 전역 변수\n",
        "\n",
        "def do_func():\n",
        "    gv = 100 # 지역 변수\n",
        "    print(gv)\n",
        "\n",
        "do_func() # 지역변수 gv 출력\n",
        "print(gv) # 전역변수 gv 출력"
      ],
      "metadata": {
        "id": "XCQFCNO5NJgL"
      },
      "execution_count": null,
      "outputs": []
    },
    {
      "cell_type": "markdown",
      "source": [
        "- 지역 변수는 해당 지역에서만 사용되고 사라진다."
      ],
      "metadata": {
        "id": "NCQqVn_kXMhq"
      }
    },
    {
      "cell_type": "code",
      "source": [
        "def do_func():\n",
        "    loc = 10\n",
        "\n",
        "do_func()\n",
        "print(loc)"
      ],
      "metadata": {
        "id": "w4TDqcUNNeIX"
      },
      "execution_count": null,
      "outputs": []
    },
    {
      "cell_type": "markdown",
      "source": [
        "## 아규먼트(Argument)를 넣는 방식\n"
      ],
      "metadata": {
        "id": "CjvD9JoVTuTq"
      }
    },
    {
      "cell_type": "markdown",
      "source": [
        "### positional argument\n",
        "- 정의된 파라미터 위치에 맞게 넣는 방식"
      ],
      "metadata": {
        "id": "eS2utltIZC-J"
      }
    },
    {
      "cell_type": "code",
      "source": [
        "def do_func(a, b, c):\n",
        "    print(a, b, c)\n",
        "\n",
        "do_func(1,2,3)"
      ],
      "metadata": {
        "id": "7fw14T2-Tqpx"
      },
      "execution_count": null,
      "outputs": []
    },
    {
      "cell_type": "markdown",
      "source": [
        "### keyword argument\n",
        "- 정의된 파라미터명을 키워드로 하여 넣는 방식"
      ],
      "metadata": {
        "id": "clvWxhQ2Zb3J"
      }
    },
    {
      "cell_type": "code",
      "source": [
        "do_func(a=1,b=2,c=3)"
      ],
      "metadata": {
        "id": "yzVGFhqtT2mo"
      },
      "execution_count": null,
      "outputs": []
    },
    {
      "cell_type": "code",
      "source": [
        "do_func(b=2,a=1,c=3)"
      ],
      "metadata": {
        "id": "XsoEDHGyUEnT"
      },
      "execution_count": null,
      "outputs": []
    },
    {
      "cell_type": "markdown",
      "source": [
        "## 파라미터(Parameter)를 정의하는 방식\n",
        "\n",
        "\n"
      ],
      "metadata": {
        "id": "Ht49Pm5BF2c3"
      }
    },
    {
      "cell_type": "markdown",
      "source": [
        "### 디폴트 파라미터\n",
        "- 아규먼트를 넣어주지 않을때 파라미터에 지정된 초깃값을 사용"
      ],
      "metadata": {
        "id": "yG7tZDF3G3e3"
      }
    },
    {
      "cell_type": "code",
      "source": [
        "def do_func(a, b, c = 1):\n",
        "    print(a, b, c)\n",
        "do_func(\"Hello\", 30)"
      ],
      "metadata": {
        "id": "lFdORYjZHljH"
      },
      "execution_count": null,
      "outputs": []
    },
    {
      "cell_type": "markdown",
      "source": [
        "- 잘못된 default parameter 설정\n",
        "    - default parameter 일반 파라미터 뒤에 넣어줘야합니다."
      ],
      "metadata": {
        "id": "c_6UFSdqJQiI"
      }
    },
    {
      "cell_type": "code",
      "source": [
        "def do_func(a,  b = 1 ,c):\n",
        "    print(a, b, c)"
      ],
      "metadata": {
        "id": "TkZCEs8QJj0X"
      },
      "execution_count": null,
      "outputs": []
    },
    {
      "cell_type": "markdown",
      "source": [
        "### 가변 파라미터\n",
        "- 함수를 정의하면서 Argument가 `n`개가 들어 갈 수 있다!(0개 포함)\n",
        "- `*(asterisk)` 를 이용한다.\n",
        "- 일반적으로 `*args` 로 표현\n",
        "- 함수내부에 튜플형태로 묶인다."
      ],
      "metadata": {
        "id": "3A9QaB4ZK9Fo"
      }
    },
    {
      "cell_type": "code",
      "source": [
        "def do_func(*args):\n",
        "    print(args)\n",
        "\n",
        "do_func(1,2,3,5,6,7,8,9,10,11,12,101)"
      ],
      "metadata": {
        "id": "Fi05t0fNPvlG"
      },
      "execution_count": null,
      "outputs": []
    },
    {
      "cell_type": "code",
      "source": [
        "def avg_numbers(*args):\n",
        "    return sum(args) / len(args) if len(args) else 0"
      ],
      "metadata": {
        "id": "94AZUwUU_lxz"
      },
      "execution_count": null,
      "outputs": []
    },
    {
      "cell_type": "code",
      "source": [
        "tup = (2,3,4,5,6,7,8)\n",
        "avg_numbers(*tup) # avg_numbers(2,3,4,5,6,7,8)"
      ],
      "metadata": {
        "id": "QQ0wsaXI_Ilr"
      },
      "execution_count": null,
      "outputs": []
    },
    {
      "cell_type": "markdown",
      "source": [
        "### 키워드 가변 파라미터\n",
        "- 함수를 정의하면서 keyword Argument가 n개가 들어 갈 수 있다(0개 포함)\n",
        "- 일반적으로 `**kwargs` 로 표현\n",
        "- 함수내부에서 딕셔너리 형태로 묶인다\n",
        "- 변수명이 `Key`로, 값이 `value`로 들어간다.\n"
      ],
      "metadata": {
        "id": "Z3ByfD_aT-Mm"
      }
    },
    {
      "cell_type": "code",
      "source": [
        "def do_func(a, b, **kwargs):\n",
        "    print(a)\n",
        "    print(b)\n",
        "    print(kwargs)"
      ],
      "metadata": {
        "id": "BEm-Es1XVOQI"
      },
      "execution_count": null,
      "outputs": []
    },
    {
      "cell_type": "code",
      "source": [
        "do_func(10, 20, c=30, d=40, e=50)"
      ],
      "metadata": {
        "id": "Oi80vkdxVX8W"
      },
      "execution_count": null,
      "outputs": []
    },
    {
      "cell_type": "code",
      "source": [
        "kwargs_dict = {\n",
        "    \"c\" : 30,\n",
        "    \"d\" : 40,\n",
        "    \"e\" : 50,\n",
        "}\n",
        "do_func(10, 20, **kwargs_dict)"
      ],
      "metadata": {
        "id": "MrIGIyG4A6Za"
      },
      "execution_count": null,
      "outputs": []
    },
    {
      "cell_type": "markdown",
      "source": [
        "- 여러종류의 파라미터를 혼합하여 정의할때 파라미터 정의 순서"
      ],
      "metadata": {
        "id": "tPb4Z5T90sT1"
      }
    },
    {
      "cell_type": "code",
      "source": [
        "def do_func(positional_parame1, positional_param2 , default_parame=\"wecode\", *args, **kwargs):\n",
        "    pass"
      ],
      "metadata": {
        "id": "bpuDeykhyWwh"
      },
      "execution_count": null,
      "outputs": []
    },
    {
      "cell_type": "markdown",
      "source": [
        "## 람다 함수(lambda)\n",
        "- 한줄 짜리 간단한 함수를 만들 때 사용\n",
        "- 1회용 함수를 만들 때 많이 사용\n",
        "- 람다 함수는 아주 간단한 파라미터가 있고, 일반적으로 리턴이 있는 함수를 만들 때 사용 한다."
      ],
      "metadata": {
        "id": "uTOc5VSzZWGd"
      }
    },
    {
      "cell_type": "code",
      "source": [
        "def add(num1, num2):\n",
        "  return num1 + num2\n",
        "\n",
        "add(1, 2)"
      ],
      "metadata": {
        "id": "_svAvBNu6unp"
      },
      "execution_count": null,
      "outputs": []
    },
    {
      "cell_type": "code",
      "source": [
        "add_lambda = lambda num1, num2 : num1 + num2\n",
        "add_lambda(1, 2)"
      ],
      "metadata": {
        "id": "WTJ55nff7XW5"
      },
      "execution_count": null,
      "outputs": []
    },
    {
      "cell_type": "code",
      "source": [
        "square = lambda x : x ** 2\n",
        "square(5)"
      ],
      "metadata": {
        "id": "NDAPOi198zqH"
      },
      "execution_count": null,
      "outputs": []
    },
    {
      "cell_type": "code",
      "source": [
        "get_size = lambda x : max(x) - min(x)\n",
        "get_size([1,2,3,5,9])"
      ],
      "metadata": {
        "id": "Ir63Gygt4_OO"
      },
      "execution_count": null,
      "outputs": []
    },
    {
      "cell_type": "markdown",
      "source": [
        "# 클래스(Class)\n",
        "- 변수와 함수를 묶어 놓은 개념\n",
        "- 클래스는 데이터(변수)와 기능(함수)을 갖고있는 객체를 만들기 위한 설계도\n",
        "- 클래스를 메모리에 객체화 하면 그걸 인스턴스(instance)라고 한다."
      ],
      "metadata": {
        "id": "WeWqtrgMlEWQ"
      }
    },
    {
      "cell_type": "markdown",
      "source": [
        "## 클래스의 구조\n",
        "- 변수: 인스턴스 변수(객체화 되면 참조가능한 변수), 클래스 변수(클래스 정의시에도 참조가능한 변수)\n",
        "- 함수: method(객체의 소속되는 함수)\n",
        "- `__init__` 메소드 : 생성자(`Constructor`)\n",
        "- 객체의 변수의 값을 초기 세팅\n",
        "- 객체가 처음 만들어 질 때 초기화해야할 변수들있다면 `__init__` 메소드에 작성한다.\n",
        "- 일반적으로 인스턴스 변수들 초기화할때 정의한다.\n",
        "\n",
        "\n",
        "  \n",
        "\n"
      ],
      "metadata": {
        "id": "mprse7mEl0yt"
      }
    },
    {
      "cell_type": "markdown",
      "source": [
        "## 클래스 정의 방법\n",
        "\n",
        "```python\n",
        "class <ClassName>:\n",
        "    def __init__(self):\n",
        "        ...\n",
        "        code context\n",
        "        ...\n",
        "    \n",
        "    def <method_name>(self):\n",
        "        ...\n",
        "        code context\n",
        "        ...\n",
        "\n",
        "```"
      ],
      "metadata": {
        "id": "EOZ-rGrOmnsd"
      }
    },
    {
      "cell_type": "markdown",
      "source": [
        "## self\n",
        "- 클래스가 객체화 되었을때 자기 자신의 주소를 받는 파라미터\n",
        "- 클래스가 인스턴스화 되면 메모리상에 어디에 위치해 있는지 self 안에 주소값을 참조하여 인스턴스에 접근하고 그안에 인스턴스 변수와 인스턴스 메소드에 접근해서 사용한다.\n",
        "- 클래스를 정의할때 메소드에 무조건 첫번째 파라미터에 정의해줘야한다.\n",
        "- 클래스의 메소드를 사용할때는 아규먼트로 넣어주지 않아도 자동으로 들어간다."
      ],
      "metadata": {
        "id": "e_vMc9Odm0eq"
      }
    },
    {
      "cell_type": "markdown",
      "source": [
        "- 게임 플레이어 클래스 만들어보기"
      ],
      "metadata": {
        "id": "ObnNGJvtlWPN"
      }
    },
    {
      "cell_type": "code",
      "source": [
        "class PlayerCharacter:\n",
        "    def __init__(self,hp = 100,exp = 0):\n",
        "        self.hp = hp\n",
        "        self.exp = exp\n",
        "    def attack(self):\n",
        "        print(\"공격하기\")\n",
        "        self.exp += 2\n",
        "    def defend(self):\n",
        "        print(\"방어하기\")\n",
        "        self.exp += 1"
      ],
      "metadata": {
        "id": "4eWx7d1Zmowa"
      },
      "execution_count": null,
      "outputs": []
    },
    {
      "cell_type": "markdown",
      "source": [
        "- 클래스를 사용하면 서로 다른 상태를 가지고 있지만 구조와 기능이 같은 여러 객체를 생성할수 있다."
      ],
      "metadata": {
        "id": "IHgB_laufnWy"
      }
    },
    {
      "cell_type": "code",
      "source": [
        "player1 = PlayerCharacter(100,0)\n",
        "player2 = PlayerCharacter(150,20)"
      ],
      "metadata": {
        "id": "PiaLhmk3motz"
      },
      "execution_count": null,
      "outputs": []
    },
    {
      "cell_type": "markdown",
      "source": [
        "- 인스턴스변수는 참조연산자(`.`)를 이용해서 확인할수 있다."
      ],
      "metadata": {
        "id": "zVSdwTywf2Ii"
      }
    },
    {
      "cell_type": "code",
      "source": [
        "print(player1.hp)\n",
        "print(player2.hp)"
      ],
      "metadata": {
        "id": "nyI4rznMmord"
      },
      "execution_count": null,
      "outputs": []
    },
    {
      "cell_type": "markdown",
      "source": [
        "- 인스턴스 변수의 값을 변경이 가능하다."
      ],
      "metadata": {
        "id": "WX5TMO0ZgBsC"
      }
    },
    {
      "cell_type": "code",
      "source": [
        "player1.hp = 80\n",
        "player1.hp"
      ],
      "metadata": {
        "id": "7bQGjWYJmopJ"
      },
      "execution_count": null,
      "outputs": []
    },
    {
      "cell_type": "markdown",
      "source": [
        "- 참조연산자(.)를 이용해서 메소드를 사용할수 있다."
      ],
      "metadata": {
        "id": "pvK3FOHqgNXM"
      }
    },
    {
      "cell_type": "code",
      "source": [
        "player1.attack()\n",
        "player1.exp"
      ],
      "metadata": {
        "id": "MrH582C0mokb"
      },
      "execution_count": null,
      "outputs": []
    },
    {
      "cell_type": "markdown",
      "source": [
        "- self 파라미터에 경우 인수로 자동으로 들어간다."
      ],
      "metadata": {
        "id": "qzfJt8SZiBdf"
      }
    },
    {
      "cell_type": "code",
      "source": [
        "player1.attack(3)"
      ],
      "metadata": {
        "id": "AM-HAp-Mh-VA"
      },
      "execution_count": null,
      "outputs": []
    },
    {
      "cell_type": "markdown",
      "source": [
        "# 모듈(Module), 패키지(Package)\n",
        "- 모듈 : 변수, 함수, 클래스를 모아놓은 `.py` 확장자 파일\n",
        "  - `.py` 파일 : 마크다운이나 셀 같은 정보는 없고, 순수한 파이썬 코드만 존재\n",
        "  - `.ipynb` 파일 : 데이터 분석가들이 파이썬 언어와 데이터로 작업하고 실험할수 있도록 도와주는 Interactive 한 계산 환경(Jupyter Notebook 환경에서 실행되는 파일)\n",
        "- 패키지 : 모듈의 기능을 디렉토리(폴더) 별로 정리해 놓은 개념\n",
        "    - 모듈을 모아놓은 폴더\n",
        "    - 라이브러리라고 부르기도함.\n",
        "    - 엄밀히 말하면 라이브러리는 패키지의 집합으로 패키지보다 큰개념\n",
        "    - 패키지 생성: 디렉토리(폴더)를 만든 것과 비슷한 작업\n",
        "\n",
        "```python\n",
        "# 모듈 불러오기\n",
        "import <모듈명>\n",
        "\n",
        "# 패키지에서 모듈 불러오기\n",
        "from <패키지명> import <모듈명>\n",
        "\n",
        "# 모듈에서 안에 함수 혹은 클래스 불러오기\n",
        "from <모듈명> import <함수 or 클래스>\n",
        "\n",
        "# 별칭 주기\n",
        "import <모듈명> as <별칭>\n",
        "\n",
        "# 패키지 안에 패키지가 있고 그안에 모듈이 있는경우\n",
        "from <상위패키지.하위패키지> import <모듈명>\n",
        "```"
      ],
      "metadata": {
        "id": "2yGj8LNzvO_6"
      }
    },
    {
      "cell_type": "markdown",
      "source": [
        "## random 모듈 이용한 모듈 사용하기"
      ],
      "metadata": {
        "id": "k776YtmLwTpN"
      }
    },
    {
      "cell_type": "markdown",
      "source": [
        "- 모듈 불러오기"
      ],
      "metadata": {
        "id": "M4q1QhoVwnnA"
      }
    },
    {
      "cell_type": "code",
      "source": [
        "import random\n",
        "random.random() # 0~1사이에 랜덤한 실수를 반환"
      ],
      "metadata": {
        "id": "g-AExezCvO0u"
      },
      "execution_count": null,
      "outputs": []
    },
    {
      "cell_type": "markdown",
      "source": [
        "- 별칭 주기"
      ],
      "metadata": {
        "id": "MMvtiHZAwxPE"
      }
    },
    {
      "cell_type": "code",
      "source": [
        "import random as rd\n",
        "rd.randint(1,20) # 2개의 정수 사이의 랜덤 정수를 반환"
      ],
      "metadata": {
        "id": "HlAHLZ8sv_a2"
      },
      "execution_count": null,
      "outputs": []
    },
    {
      "cell_type": "markdown",
      "source": [
        "- 모듈에서 안에 함수 혹은 클래스 불러오기"
      ],
      "metadata": {
        "id": "kSyGB3SRxIZe"
      }
    },
    {
      "cell_type": "code",
      "source": [
        "from random import random, randint\n",
        "random()"
      ],
      "metadata": {
        "id": "GDhFDAJSvOxl"
      },
      "execution_count": null,
      "outputs": []
    },
    {
      "cell_type": "code",
      "source": [
        "randint(1,20)"
      ],
      "metadata": {
        "id": "I4QAu5suvOpF"
      },
      "execution_count": null,
      "outputs": []
    }
  ]
}