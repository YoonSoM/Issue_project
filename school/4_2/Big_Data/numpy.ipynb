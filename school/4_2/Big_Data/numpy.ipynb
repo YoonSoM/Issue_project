{
  "nbformat": 4,
  "nbformat_minor": 0,
  "metadata": {
    "colab": {
      "provenance": []
    },
    "kernelspec": {
      "name": "python3",
      "display_name": "Python 3"
    },
    "language_info": {
      "name": "python"
    }
  },
  "cells": [
    {
      "cell_type": "markdown",
      "source": [
        "## numpy란?\n",
        "- `Numerical Python`의 약자\n",
        "  - 수치 계산을 하기 위한 파이썬 라이브러리\n",
        "- 벡터, 행렬 단위의 대용량 수치 연산이 빠르게 진행\n",
        "  - 배열을 병렬 연산 한다.\n",
        "\n",
        "- 벡터(vector)\n",
        "  - 1차원 데이터( 1차원 배열 )\n",
        "  - 스칼라(scalar)가 연속적으로 여러 개 모여 있는 것\n",
        "    - 스칼라(scalar)\n",
        "        - 단순하게 측정한 하나의 값\n",
        "\n",
        "- 행렬(Matrix)\n",
        "  - 2차원 데이터( 2차원 배열 )\n",
        "  - 1차원 배열인 벡터가 여러 개 모여 있는 것"
      ],
      "metadata": {
        "id": "6vzgtdWYRYxO"
      }
    },
    {
      "cell_type": "code",
      "source": [
        "import numpy as np"
      ],
      "metadata": {
        "id": "El3rLv6xDBqA"
      },
      "execution_count": null,
      "outputs": []
    },
    {
      "cell_type": "markdown",
      "source": [
        "##  벡터(vector)"
      ],
      "metadata": {
        "id": "htkyFW9T0fi-"
      }
    },
    {
      "cell_type": "code",
      "source": [
        "lst = [1, 2, 3 ,4,5,6]\n",
        "arr = np.array(lst)\n",
        "arr"
      ],
      "metadata": {
        "colab": {
          "base_uri": "https://localhost:8080/"
        },
        "id": "amsb-VniDVMS",
        "outputId": "8ec9db07-5e0f-4a07-9535-1c62f94727dd"
      },
      "execution_count": null,
      "outputs": [
        {
          "output_type": "execute_result",
          "data": {
            "text/plain": [
              "array([1, 2, 3, 4, 5, 6])"
            ]
          },
          "metadata": {},
          "execution_count": 2
        }
      ]
    },
    {
      "cell_type": "markdown",
      "source": [
        "## 행렬(Matrix)"
      ],
      "metadata": {
        "id": "WXCiLZQUcYOd"
      }
    },
    {
      "cell_type": "code",
      "source": [
        "lst = [\n",
        "        [1, 2, 3] ,\n",
        "        [4,5,6]\n",
        "       ]\n",
        "arr = np.array(lst)\n",
        "arr"
      ],
      "metadata": {
        "colab": {
          "base_uri": "https://localhost:8080/"
        },
        "id": "q_6Q0JEocMYf",
        "outputId": "3303cb35-6e7b-49fb-c206-720450f044a9"
      },
      "execution_count": null,
      "outputs": [
        {
          "output_type": "execute_result",
          "data": {
            "text/plain": [
              "array([[1, 2, 3],\n",
              "       [4, 5, 6]])"
            ]
          },
          "metadata": {},
          "execution_count": 3
        }
      ]
    },
    {
      "cell_type": "code",
      "source": [
        "type(arr)"
      ],
      "metadata": {
        "colab": {
          "base_uri": "https://localhost:8080/"
        },
        "id": "zqnKIRxmule0",
        "outputId": "5d45f679-5063-4815-b6b5-ccda6ed7aff5"
      },
      "execution_count": null,
      "outputs": [
        {
          "output_type": "execute_result",
          "data": {
            "text/plain": [
              "numpy.ndarray"
            ]
          },
          "metadata": {},
          "execution_count": 4
        }
      ]
    },
    {
      "cell_type": "code",
      "source": [
        "arr.__len__() # 매직메소드 구현되어있다. len함수에 넣을수 있다."
      ],
      "metadata": {
        "colab": {
          "base_uri": "https://localhost:8080/"
        },
        "id": "Bmt3foUrSgcE",
        "outputId": "a11d0fee-cdb0-4f36-d0f1-c630e514eb9b"
      },
      "execution_count": null,
      "outputs": [
        {
          "output_type": "execute_result",
          "data": {
            "text/plain": [
              "2"
            ]
          },
          "metadata": {},
          "execution_count": 5
        }
      ]
    },
    {
      "cell_type": "code",
      "source": [
        "len(arr) # 첫번째 차원에 길이만 구한다."
      ],
      "metadata": {
        "colab": {
          "base_uri": "https://localhost:8080/"
        },
        "id": "gjLr2gjySh2A",
        "outputId": "d5235b63-f9db-42cd-d66f-2b8d58aee0bc"
      },
      "execution_count": null,
      "outputs": [
        {
          "output_type": "execute_result",
          "data": {
            "text/plain": [
              "2"
            ]
          },
          "metadata": {},
          "execution_count": 6
        }
      ]
    },
    {
      "cell_type": "code",
      "source": [
        "arr.shape # 크기 확인"
      ],
      "metadata": {
        "colab": {
          "base_uri": "https://localhost:8080/"
        },
        "id": "JabzGHQVaEVr",
        "outputId": "940fc061-c8ae-4e67-bb63-c342a50be320"
      },
      "execution_count": null,
      "outputs": [
        {
          "output_type": "execute_result",
          "data": {
            "text/plain": [
              "(2, 3)"
            ]
          },
          "metadata": {},
          "execution_count": 7
        }
      ]
    },
    {
      "cell_type": "code",
      "source": [
        "arr = np.array([1, 2, 3 ,4,5,6])\n",
        "arr.shape"
      ],
      "metadata": {
        "colab": {
          "base_uri": "https://localhost:8080/"
        },
        "id": "OXCMIzQyd_JR",
        "outputId": "6eddd67e-6946-4fd6-bde2-9e7a727b5385"
      },
      "execution_count": null,
      "outputs": [
        {
          "output_type": "execute_result",
          "data": {
            "text/plain": [
              "(6,)"
            ]
          },
          "metadata": {},
          "execution_count": 8
        }
      ]
    },
    {
      "cell_type": "markdown",
      "source": [
        "# 인덱싱과 슬라이싱\n",
        "- 기본적으로 파이썬에서 사용되는 인덱스, 슬라이싱 기법을 그대로 따라간다."
      ],
      "metadata": {
        "id": "rb3pw8tRZmOr"
      }
    },
    {
      "cell_type": "code",
      "source": [
        "arr[-1]"
      ],
      "metadata": {
        "colab": {
          "base_uri": "https://localhost:8080/"
        },
        "id": "tNDfbvZv1pBL",
        "outputId": "9ebbbb42-6969-491e-b9ab-ce6eebbe53dc"
      },
      "execution_count": null,
      "outputs": [
        {
          "output_type": "execute_result",
          "data": {
            "text/plain": [
              "6"
            ]
          },
          "metadata": {},
          "execution_count": 9
        }
      ]
    },
    {
      "cell_type": "code",
      "source": [
        "arr[::-1]"
      ],
      "metadata": {
        "colab": {
          "base_uri": "https://localhost:8080/"
        },
        "id": "Vf9LHob4Zsfj",
        "outputId": "b7228c2c-f7bc-4ae7-e8c2-d67c7639154f"
      },
      "execution_count": null,
      "outputs": [
        {
          "output_type": "execute_result",
          "data": {
            "text/plain": [
              "array([6, 5, 4, 3, 2, 1])"
            ]
          },
          "metadata": {},
          "execution_count": 10
        }
      ]
    },
    {
      "cell_type": "markdown",
      "source": [
        "- 행렬 형태의 배열 만들기"
      ],
      "metadata": {
        "id": "v_H0W-Fylnqc"
      }
    },
    {
      "cell_type": "code",
      "source": [
        "arr = np.array([\n",
        "                [1,2,3],\n",
        "                [4,5,6],\n",
        "                [7,8,9],\n",
        "                [10,11,12],\n",
        "                ])\n",
        "arr"
      ],
      "metadata": {
        "colab": {
          "base_uri": "https://localhost:8080/"
        },
        "id": "xExm8XokbTyy",
        "outputId": "8ac36553-a4b9-401d-bc02-8b6aa172e271"
      },
      "execution_count": null,
      "outputs": [
        {
          "output_type": "execute_result",
          "data": {
            "text/plain": [
              "array([[ 1,  2,  3],\n",
              "       [ 4,  5,  6],\n",
              "       [ 7,  8,  9],\n",
              "       [10, 11, 12]])"
            ]
          },
          "metadata": {},
          "execution_count": 11
        }
      ]
    },
    {
      "cell_type": "markdown",
      "source": [
        "- 데이터 행의 개수를 알고 싶다면?"
      ],
      "metadata": {
        "id": "8pv08QH0lfj-"
      }
    },
    {
      "cell_type": "code",
      "source": [
        "arr.shape[0]"
      ],
      "metadata": {
        "colab": {
          "base_uri": "https://localhost:8080/"
        },
        "id": "nAJhGLfebegZ",
        "outputId": "3f263e0d-bc07-4026-965c-9654ea65a67a"
      },
      "execution_count": null,
      "outputs": [
        {
          "output_type": "execute_result",
          "data": {
            "text/plain": [
              "4"
            ]
          },
          "metadata": {},
          "execution_count": 12
        }
      ]
    },
    {
      "cell_type": "markdown",
      "source": [
        "- 데이터 열의 개수를 알고 싶다면?"
      ],
      "metadata": {
        "id": "3to8t7WIllma"
      }
    },
    {
      "cell_type": "code",
      "source": [
        "arr.shape[1]"
      ],
      "metadata": {
        "colab": {
          "base_uri": "https://localhost:8080/"
        },
        "id": "ayFRfjBkbgK5",
        "outputId": "28e71ed5-a5dd-4c83-9a89-e326a2f684ff"
      },
      "execution_count": null,
      "outputs": [
        {
          "output_type": "execute_result",
          "data": {
            "text/plain": [
              "3"
            ]
          },
          "metadata": {},
          "execution_count": 13
        }
      ]
    },
    {
      "cell_type": "markdown",
      "source": [
        "- 다차원에 대한 슬라이싱이 가능하다."
      ],
      "metadata": {
        "id": "C1LD2QnicAqY"
      }
    },
    {
      "cell_type": "code",
      "source": [
        "arr"
      ],
      "metadata": {
        "colab": {
          "base_uri": "https://localhost:8080/"
        },
        "id": "j9y9nAB102o9",
        "outputId": "fce703c1-d3be-4cbc-9cf5-0b1a34f8367a"
      },
      "execution_count": null,
      "outputs": [
        {
          "output_type": "execute_result",
          "data": {
            "text/plain": [
              "array([[ 1,  2,  3],\n",
              "       [ 4,  5,  6],\n",
              "       [ 7,  8,  9],\n",
              "       [10, 11, 12]])"
            ]
          },
          "metadata": {},
          "execution_count": 14
        }
      ]
    },
    {
      "cell_type": "markdown",
      "source": [
        "- 1번열만 가져오고 싶다면?"
      ],
      "metadata": {
        "id": "EFpINOLTlwc7"
      }
    },
    {
      "cell_type": "code",
      "source": [
        "arr[:,1]"
      ],
      "metadata": {
        "colab": {
          "base_uri": "https://localhost:8080/"
        },
        "id": "SS3bkr2Bb7gB",
        "outputId": "10589825-cd0a-4f27-e8f9-504686ce4039"
      },
      "execution_count": null,
      "outputs": [
        {
          "output_type": "execute_result",
          "data": {
            "text/plain": [
              "array([ 2,  5,  8, 11])"
            ]
          },
          "metadata": {},
          "execution_count": 15
        }
      ]
    },
    {
      "cell_type": "markdown",
      "source": [
        "- 0번열과 2번열을 가져오고 싶다?"
      ],
      "metadata": {
        "id": "7DtXXjwgl0o5"
      }
    },
    {
      "cell_type": "code",
      "source": [
        "arr[:,::2]"
      ],
      "metadata": {
        "colab": {
          "base_uri": "https://localhost:8080/"
        },
        "id": "EFK-n6VBb7PI",
        "outputId": "52041dea-cecd-4eb6-b029-663985de4f49"
      },
      "execution_count": null,
      "outputs": [
        {
          "output_type": "execute_result",
          "data": {
            "text/plain": [
              "array([[ 1,  3],\n",
              "       [ 4,  6],\n",
              "       [ 7,  9],\n",
              "       [10, 12]])"
            ]
          },
          "metadata": {},
          "execution_count": 16
        }
      ]
    },
    {
      "cell_type": "markdown",
      "source": [
        "# 마스킹(masking)\n",
        "\n",
        "- 마스킹이란?\n",
        "    - bool배열을 마스크로 사용하여 데이터의 특정부분들을 선택할수 있다."
      ],
      "metadata": {
        "id": "Q9xrGYFHUvaP"
      }
    },
    {
      "cell_type": "code",
      "source": [
        "arr"
      ],
      "metadata": {
        "colab": {
          "base_uri": "https://localhost:8080/"
        },
        "id": "elGnZGUk349h",
        "outputId": "cb466f7c-9713-461a-d289-121006185b35"
      },
      "execution_count": null,
      "outputs": [
        {
          "output_type": "execute_result",
          "data": {
            "text/plain": [
              "array([[ 1,  2,  3],\n",
              "       [ 4,  5,  6],\n",
              "       [ 7,  8,  9],\n",
              "       [10, 11, 12]])"
            ]
          },
          "metadata": {},
          "execution_count": 17
        }
      ]
    },
    {
      "cell_type": "markdown",
      "source": [
        "- 첫번째 행과 세번째 행 가져와보기"
      ],
      "metadata": {
        "id": "h9DO9ci5-8em"
      }
    },
    {
      "cell_type": "code",
      "source": [
        "mask_arr = np.array([True,False,True,False])\n",
        "\n",
        "arr[mask_arr]"
      ],
      "metadata": {
        "colab": {
          "base_uri": "https://localhost:8080/"
        },
        "id": "hX-6gl1k-Gq_",
        "outputId": "eaeebc57-4a9e-4c7d-a9b3-5afaf0e1f141"
      },
      "execution_count": null,
      "outputs": [
        {
          "output_type": "execute_result",
          "data": {
            "text/plain": [
              "array([[1, 2, 3],\n",
              "       [7, 8, 9]])"
            ]
          },
          "metadata": {},
          "execution_count": 18
        }
      ]
    },
    {
      "cell_type": "markdown",
      "source": [
        "- 슬라이싱과 마스킹 조합 가능\n",
        "    - 0번 과 2번 열을 가져오고 싶다면?"
      ],
      "metadata": {
        "id": "LkXfS0vnf8pm"
      }
    },
    {
      "cell_type": "code",
      "source": [
        "mask = [True,False,True]\n",
        "arr[:,mask]"
      ],
      "metadata": {
        "colab": {
          "base_uri": "https://localhost:8080/"
        },
        "id": "8cfy9LRGfvlU",
        "outputId": "3934825e-776a-44f9-8ae2-5d1db18c4985"
      },
      "execution_count": null,
      "outputs": [
        {
          "output_type": "execute_result",
          "data": {
            "text/plain": [
              "array([[ 1,  3],\n",
              "       [ 4,  6],\n",
              "       [ 7,  9],\n",
              "       [10, 12]])"
            ]
          },
          "metadata": {},
          "execution_count": 19
        }
      ]
    },
    {
      "cell_type": "markdown",
      "source": [
        "- 2보다 큰수만 가져오고 싶다면?"
      ],
      "metadata": {
        "id": "wsxMOuanmmVF"
      }
    },
    {
      "cell_type": "code",
      "source": [
        "mask = arr > 2\n",
        "mask"
      ],
      "metadata": {
        "colab": {
          "base_uri": "https://localhost:8080/"
        },
        "id": "TI8sGiG0e5to",
        "outputId": "046006c5-e078-4655-cce4-ae10db2738b9"
      },
      "execution_count": null,
      "outputs": [
        {
          "output_type": "execute_result",
          "data": {
            "text/plain": [
              "array([[False, False,  True],\n",
              "       [ True,  True,  True],\n",
              "       [ True,  True,  True],\n",
              "       [ True,  True,  True]])"
            ]
          },
          "metadata": {},
          "execution_count": 20
        }
      ]
    },
    {
      "cell_type": "code",
      "source": [
        "arr[mask] # 모든 스칼라에 마스킹을 할경우 벡터로 출력"
      ],
      "metadata": {
        "colab": {
          "base_uri": "https://localhost:8080/"
        },
        "id": "IBKN4CZyfilq",
        "outputId": "ad72ceea-4ee3-4839-8406-dd1d6cf6aa27"
      },
      "execution_count": null,
      "outputs": [
        {
          "output_type": "execute_result",
          "data": {
            "text/plain": [
              "array([ 3,  4,  5,  6,  7,  8,  9, 10, 11, 12])"
            ]
          },
          "metadata": {},
          "execution_count": 21
        }
      ]
    },
    {
      "cell_type": "markdown",
      "source": [
        "# 여러개의 인덱스 값들을 이용하여 가져올수 있다."
      ],
      "metadata": {
        "id": "qPTdYyyaghf1"
      }
    },
    {
      "cell_type": "code",
      "source": [
        "arr"
      ],
      "metadata": {
        "colab": {
          "base_uri": "https://localhost:8080/"
        },
        "id": "VAWr_8sMm0Li",
        "outputId": "11472e41-1cb1-4aab-ba64-05b60bd05ec4"
      },
      "execution_count": null,
      "outputs": [
        {
          "output_type": "execute_result",
          "data": {
            "text/plain": [
              "array([[ 1,  2,  3],\n",
              "       [ 4,  5,  6],\n",
              "       [ 7,  8,  9],\n",
              "       [10, 11, 12]])"
            ]
          },
          "metadata": {},
          "execution_count": 22
        }
      ]
    },
    {
      "cell_type": "markdown",
      "source": [
        "- 0번, 2번 행 가져오기"
      ],
      "metadata": {
        "id": "sMtYPoXLm5H5"
      }
    },
    {
      "cell_type": "code",
      "source": [
        "index_list = [0,2]\n",
        "arr[index_list]"
      ],
      "metadata": {
        "colab": {
          "base_uri": "https://localhost:8080/"
        },
        "id": "Sfg_nA5ve5qW",
        "outputId": "b0b9f99d-0620-4d3c-9b02-f4587485e0b2"
      },
      "execution_count": null,
      "outputs": [
        {
          "output_type": "execute_result",
          "data": {
            "text/plain": [
              "array([[1, 2, 3],\n",
              "       [7, 8, 9]])"
            ]
          },
          "metadata": {},
          "execution_count": 23
        }
      ]
    },
    {
      "cell_type": "markdown",
      "source": [
        "- 0번, 2번 열 가져오기"
      ],
      "metadata": {
        "id": "SpdoG9Uzm8ew"
      }
    },
    {
      "cell_type": "code",
      "source": [
        "arr[:,index_list]"
      ],
      "metadata": {
        "colab": {
          "base_uri": "https://localhost:8080/"
        },
        "id": "JO-wlR-Phhws",
        "outputId": "5cf346f7-5083-4979-bd01-3a0b31698871"
      },
      "execution_count": null,
      "outputs": [
        {
          "output_type": "execute_result",
          "data": {
            "text/plain": [
              "array([[ 1,  3],\n",
              "       [ 4,  6],\n",
              "       [ 7,  9],\n",
              "       [10, 12]])"
            ]
          },
          "metadata": {},
          "execution_count": 24
        }
      ]
    },
    {
      "cell_type": "markdown",
      "source": [
        "# 3. `numpy` 함수 알아보기"
      ],
      "metadata": {
        "id": "1rRJY3E0Gqs1"
      }
    },
    {
      "cell_type": "markdown",
      "source": [
        "# 배열의 각 요소 별로 연산(element-wise)"
      ],
      "metadata": {
        "id": "W4DkBQtyk2CU"
      }
    },
    {
      "cell_type": "code",
      "source": [
        "arr1 = np.array( [1,5,1] )\n",
        "arr2 = np.array( [3,2,7] )\n",
        "\n",
        "np.add(arr1,arr2) # arr1 + arr2"
      ],
      "metadata": {
        "colab": {
          "base_uri": "https://localhost:8080/"
        },
        "id": "6qeqL_rGkYL_",
        "outputId": "3646e8fd-e09d-4c0d-f4de-96aa6788a483"
      },
      "execution_count": null,
      "outputs": [
        {
          "output_type": "execute_result",
          "data": {
            "text/plain": [
              "array([4, 7, 8])"
            ]
          },
          "metadata": {},
          "execution_count": 25
        }
      ]
    },
    {
      "cell_type": "code",
      "source": [
        "np.subtract(arr1,arr2) # arr1 - arr2"
      ],
      "metadata": {
        "colab": {
          "base_uri": "https://localhost:8080/"
        },
        "id": "lkH4rsQ2k-S0",
        "outputId": "cde380d0-2dee-401f-d1fc-a11c1cc07cec"
      },
      "execution_count": null,
      "outputs": [
        {
          "output_type": "execute_result",
          "data": {
            "text/plain": [
              "array([-2,  3, -6])"
            ]
          },
          "metadata": {},
          "execution_count": 26
        }
      ]
    },
    {
      "cell_type": "code",
      "source": [
        "np.multiply(arr1,arr2) # arr1 * arr2"
      ],
      "metadata": {
        "colab": {
          "base_uri": "https://localhost:8080/"
        },
        "id": "tMUmDf_Qk-Ld",
        "outputId": "6d66f366-5876-47b1-b590-6d2e681ac20b"
      },
      "execution_count": null,
      "outputs": [
        {
          "output_type": "execute_result",
          "data": {
            "text/plain": [
              "array([ 3, 10,  7])"
            ]
          },
          "metadata": {},
          "execution_count": 27
        }
      ]
    },
    {
      "cell_type": "code",
      "source": [
        "np.divide(arr1,arr2) # arr1 / arr2"
      ],
      "metadata": {
        "colab": {
          "base_uri": "https://localhost:8080/"
        },
        "id": "cvTxjIHFlLcX",
        "outputId": "72a76347-cf60-4719-e4fc-4db239fc93ad"
      },
      "execution_count": null,
      "outputs": [
        {
          "output_type": "execute_result",
          "data": {
            "text/plain": [
              "array([0.33333333, 2.5       , 0.14285714])"
            ]
          },
          "metadata": {},
          "execution_count": 28
        }
      ]
    },
    {
      "cell_type": "code",
      "source": [
        "np.abs(arr1-arr2) # 절대값"
      ],
      "metadata": {
        "colab": {
          "base_uri": "https://localhost:8080/"
        },
        "id": "FDzrIY3Tls4e",
        "outputId": "d552dd67-1321-41af-ca51-16396a7a47af"
      },
      "execution_count": null,
      "outputs": [
        {
          "output_type": "execute_result",
          "data": {
            "text/plain": [
              "array([2, 3, 6])"
            ]
          },
          "metadata": {},
          "execution_count": 29
        }
      ]
    },
    {
      "cell_type": "markdown",
      "source": [
        "# 브로드캐스팅(Broadcasting)\n",
        "- 배열의 모양이 다르더라도 어떠한 조건이 만족했을때 작은 배열을 큰배열 크기로 맞춘다.\n"
      ],
      "metadata": {
        "id": "AiaBuAAbkL0K"
      }
    },
    {
      "cell_type": "code",
      "source": [
        "arr"
      ],
      "metadata": {
        "colab": {
          "base_uri": "https://localhost:8080/"
        },
        "id": "EtUkhufbjy-6",
        "outputId": "0a51d99e-4b84-41ae-8e28-043292531dd3"
      },
      "execution_count": null,
      "outputs": [
        {
          "output_type": "execute_result",
          "data": {
            "text/plain": [
              "array([[ 1,  2,  3],\n",
              "       [ 4,  5,  6],\n",
              "       [ 7,  8,  9],\n",
              "       [10, 11, 12]])"
            ]
          },
          "metadata": {},
          "execution_count": 30
        }
      ]
    },
    {
      "cell_type": "markdown",
      "source": [
        "- 스칼라일 경우 큰 배열에 크기로 변환된다."
      ],
      "metadata": {
        "id": "HTtB2nyjkZui"
      }
    },
    {
      "cell_type": "code",
      "source": [
        "arr * 2"
      ],
      "metadata": {
        "colab": {
          "base_uri": "https://localhost:8080/"
        },
        "id": "zQlqMnApkJRB",
        "outputId": "6bc538c7-c7de-4086-d6b9-1bcc2b1ec0db"
      },
      "execution_count": null,
      "outputs": [
        {
          "output_type": "execute_result",
          "data": {
            "text/plain": [
              "array([[ 2,  4,  6],\n",
              "       [ 8, 10, 12],\n",
              "       [14, 16, 18],\n",
              "       [20, 22, 24]])"
            ]
          },
          "metadata": {},
          "execution_count": 31
        }
      ]
    },
    {
      "cell_type": "code",
      "source": [
        "arr * np.array([2,2,2])"
      ],
      "metadata": {
        "colab": {
          "base_uri": "https://localhost:8080/"
        },
        "id": "uAscQH3ojmy6",
        "outputId": "b415e373-74c9-41c5-991d-b83aedc25429"
      },
      "execution_count": null,
      "outputs": [
        {
          "output_type": "execute_result",
          "data": {
            "text/plain": [
              "array([[ 2,  4,  6],\n",
              "       [ 8, 10, 12],\n",
              "       [14, 16, 18],\n",
              "       [20, 22, 24]])"
            ]
          },
          "metadata": {},
          "execution_count": 32
        }
      ]
    },
    {
      "cell_type": "code",
      "source": [
        "arr * np.array(\n",
        "    [\n",
        "     [2],\n",
        "     [2],\n",
        "     [2],\n",
        "     [2],\n",
        "     ]\n",
        "    )"
      ],
      "metadata": {
        "colab": {
          "base_uri": "https://localhost:8080/"
        },
        "id": "cB3AW5ipl0JB",
        "outputId": "29caa5c0-ef41-4f62-aed1-0395621cc7d5"
      },
      "execution_count": null,
      "outputs": [
        {
          "output_type": "execute_result",
          "data": {
            "text/plain": [
              "array([[ 2,  4,  6],\n",
              "       [ 8, 10, 12],\n",
              "       [14, 16, 18],\n",
              "       [20, 22, 24]])"
            ]
          },
          "metadata": {},
          "execution_count": 33
        }
      ]
    },
    {
      "cell_type": "markdown",
      "source": [
        "# 배열 만들기"
      ],
      "metadata": {
        "id": "EpXTrR1eoTnn"
      }
    },
    {
      "cell_type": "markdown",
      "source": [
        "- `np.arange`\n",
        "    - `range` 함수 와 비슷하지만 ndarrray 가 반환된다.(슬라이싱 기법과 비슷)"
      ],
      "metadata": {
        "id": "_n2eQ_21qW-T"
      }
    },
    {
      "cell_type": "code",
      "source": [
        "np.arange(10)"
      ],
      "metadata": {
        "colab": {
          "base_uri": "https://localhost:8080/"
        },
        "id": "f-8dVZAUqWus",
        "outputId": "c714d2ab-bb53-4e7e-9357-26dc96ea13b7"
      },
      "execution_count": null,
      "outputs": [
        {
          "output_type": "execute_result",
          "data": {
            "text/plain": [
              "array([0, 1, 2, 3, 4, 5, 6, 7, 8, 9])"
            ]
          },
          "metadata": {},
          "execution_count": 34
        }
      ]
    },
    {
      "cell_type": "code",
      "source": [
        "np.arange(1, 10, 2)"
      ],
      "metadata": {
        "colab": {
          "base_uri": "https://localhost:8080/"
        },
        "id": "-DcRFXpBqWr-",
        "outputId": "9507886c-09f8-40b3-9f7a-601cd86271a6"
      },
      "execution_count": null,
      "outputs": [
        {
          "output_type": "execute_result",
          "data": {
            "text/plain": [
              "array([1, 3, 5, 7, 9])"
            ]
          },
          "metadata": {},
          "execution_count": 35
        }
      ]
    },
    {
      "cell_type": "markdown",
      "source": [
        "- `np.zeros`\n",
        "    - 0으로 채워진 배열 만들기\n",
        ""
      ],
      "metadata": {
        "id": "wgR8bkNQq19J"
      }
    },
    {
      "cell_type": "code",
      "source": [
        "np.zeros(10)"
      ],
      "metadata": {
        "colab": {
          "base_uri": "https://localhost:8080/"
        },
        "id": "iTeX1x9CqWpL",
        "outputId": "5a62157e-6e6e-4e01-c9e3-9f1e9a11b5ff"
      },
      "execution_count": null,
      "outputs": [
        {
          "output_type": "execute_result",
          "data": {
            "text/plain": [
              "array([0., 0., 0., 0., 0., 0., 0., 0., 0., 0.])"
            ]
          },
          "metadata": {},
          "execution_count": 36
        }
      ]
    },
    {
      "cell_type": "code",
      "source": [
        "np.zeros( (2,3) )"
      ],
      "metadata": {
        "colab": {
          "base_uri": "https://localhost:8080/"
        },
        "id": "J3E5bbjRqWl7",
        "outputId": "7612ccff-4d83-4acc-cd10-49d16d0788ae"
      },
      "execution_count": null,
      "outputs": [
        {
          "output_type": "execute_result",
          "data": {
            "text/plain": [
              "array([[0., 0., 0.],\n",
              "       [0., 0., 0.]])"
            ]
          },
          "metadata": {},
          "execution_count": 37
        }
      ]
    },
    {
      "cell_type": "markdown",
      "source": [
        "- `np.ones`\n",
        "    - 1 로 채워진 배열 만들기\n"
      ],
      "metadata": {
        "id": "4T0MsBSvq7yE"
      }
    },
    {
      "cell_type": "code",
      "source": [
        "np.ones(10)"
      ],
      "metadata": {
        "colab": {
          "base_uri": "https://localhost:8080/"
        },
        "id": "UNS8WvpY0GOy",
        "outputId": "fdd5f674-f12a-46f7-e9e3-45231bafd7b4"
      },
      "execution_count": null,
      "outputs": [
        {
          "output_type": "execute_result",
          "data": {
            "text/plain": [
              "array([1., 1., 1., 1., 1., 1., 1., 1., 1., 1.])"
            ]
          },
          "metadata": {},
          "execution_count": 38
        }
      ]
    },
    {
      "cell_type": "code",
      "source": [
        "np.ones( (2,3) )"
      ],
      "metadata": {
        "colab": {
          "base_uri": "https://localhost:8080/"
        },
        "id": "cna88O8N0SzZ",
        "outputId": "159fdf93-7170-4d5a-8ba6-649ec10aa714"
      },
      "execution_count": null,
      "outputs": [
        {
          "output_type": "execute_result",
          "data": {
            "text/plain": [
              "array([[1., 1., 1.],\n",
              "       [1., 1., 1.]])"
            ]
          },
          "metadata": {},
          "execution_count": 39
        }
      ]
    },
    {
      "cell_type": "markdown",
      "source": [
        "- `np.full`\n",
        "    - 지정한 값으로 채워진 배열을 만들 때 사용"
      ],
      "metadata": {
        "id": "jtwnefOF0Zd_"
      }
    },
    {
      "cell_type": "code",
      "source": [
        "np.full((3,5) , True )"
      ],
      "metadata": {
        "colab": {
          "base_uri": "https://localhost:8080/"
        },
        "id": "9BbyRUew0GL5",
        "outputId": "cd30b376-ab09-4fc5-d5c8-9cb1d191ebd3"
      },
      "execution_count": null,
      "outputs": [
        {
          "output_type": "execute_result",
          "data": {
            "text/plain": [
              "array([[ True,  True,  True,  True,  True],\n",
              "       [ True,  True,  True,  True,  True],\n",
              "       [ True,  True,  True,  True,  True]])"
            ]
          },
          "metadata": {},
          "execution_count": 40
        }
      ]
    },
    {
      "cell_type": "markdown",
      "source": [
        "# numpy 집계 함수"
      ],
      "metadata": {
        "id": "SPJhnn_NnnU2"
      }
    },
    {
      "cell_type": "code",
      "source": [
        "scores = np.array([80,90,100,70,40,90])"
      ],
      "metadata": {
        "id": "baUvkx19ls07"
      },
      "execution_count": null,
      "outputs": []
    },
    {
      "cell_type": "code",
      "source": [
        "np.sum(scores) , scores.sum() # 총합"
      ],
      "metadata": {
        "colab": {
          "base_uri": "https://localhost:8080/"
        },
        "id": "m2I8XE1Jn1uJ",
        "outputId": "38a317b8-2135-46ce-dcf9-e027037a66b8"
      },
      "execution_count": null,
      "outputs": [
        {
          "output_type": "execute_result",
          "data": {
            "text/plain": [
              "(470, 470)"
            ]
          },
          "metadata": {},
          "execution_count": 42
        }
      ]
    },
    {
      "cell_type": "code",
      "source": [
        "np.mean(scores) , scores.mean() # 평균"
      ],
      "metadata": {
        "colab": {
          "base_uri": "https://localhost:8080/"
        },
        "id": "4Q2wmw0gn1rg",
        "outputId": "9b8bce7d-cb28-4895-dbe7-3a11b4f10266"
      },
      "execution_count": null,
      "outputs": [
        {
          "output_type": "execute_result",
          "data": {
            "text/plain": [
              "(78.33333333333333, 78.33333333333333)"
            ]
          },
          "metadata": {},
          "execution_count": 43
        }
      ]
    },
    {
      "cell_type": "code",
      "source": [
        "np.median(scores)  # 중앙값"
      ],
      "metadata": {
        "colab": {
          "base_uri": "https://localhost:8080/"
        },
        "id": "Gez2pljRn1o_",
        "outputId": "25e60cd2-6efd-421c-80e3-92fb4f6c80ff"
      },
      "execution_count": null,
      "outputs": [
        {
          "output_type": "execute_result",
          "data": {
            "text/plain": [
              "85.0"
            ]
          },
          "metadata": {},
          "execution_count": 44
        }
      ]
    },
    {
      "cell_type": "code",
      "source": [
        "np.std(scores) , scores.std() # 표준편차"
      ],
      "metadata": {
        "colab": {
          "base_uri": "https://localhost:8080/"
        },
        "id": "t9xi0oO4n1mA",
        "outputId": "2dd28ff4-df07-4629-db3e-59c575d3388b"
      },
      "execution_count": null,
      "outputs": [
        {
          "output_type": "execute_result",
          "data": {
            "text/plain": [
              "(19.50783318453271, 19.50783318453271)"
            ]
          },
          "metadata": {},
          "execution_count": 45
        }
      ]
    },
    {
      "cell_type": "code",
      "source": [
        "np.var(scores) , scores.var() # 분산"
      ],
      "metadata": {
        "colab": {
          "base_uri": "https://localhost:8080/"
        },
        "id": "_ZT5HftCn1iw",
        "outputId": "beb5f19f-c8cd-4c09-c466-ff80a0599150"
      },
      "execution_count": null,
      "outputs": [
        {
          "output_type": "execute_result",
          "data": {
            "text/plain": [
              "(380.5555555555556, 380.5555555555556)"
            ]
          },
          "metadata": {},
          "execution_count": 46
        }
      ]
    },
    {
      "cell_type": "code",
      "source": [
        "np.min(scores) , scores.min() # 최소값"
      ],
      "metadata": {
        "colab": {
          "base_uri": "https://localhost:8080/"
        },
        "id": "MdQK3CrWlsvT",
        "outputId": "d9a1e6fe-c6d8-4221-c5c3-ce40fd53a54c"
      },
      "execution_count": null,
      "outputs": [
        {
          "output_type": "execute_result",
          "data": {
            "text/plain": [
              "(40, 40)"
            ]
          },
          "metadata": {},
          "execution_count": 47
        }
      ]
    },
    {
      "cell_type": "code",
      "source": [
        "np.max(scores) , scores.max() # 최대값"
      ],
      "metadata": {
        "colab": {
          "base_uri": "https://localhost:8080/"
        },
        "id": "dZfr5TUK2opN",
        "outputId": "0463cb6f-76e2-44f1-a4e4-6bf53b4bd8aa"
      },
      "execution_count": null,
      "outputs": [
        {
          "output_type": "execute_result",
          "data": {
            "text/plain": [
              "(100, 100)"
            ]
          },
          "metadata": {},
          "execution_count": 48
        }
      ]
    },
    {
      "cell_type": "code",
      "source": [
        "np.argmin(scores), scores.argmin() # 최소값 인덱스 반환"
      ],
      "metadata": {
        "colab": {
          "base_uri": "https://localhost:8080/"
        },
        "id": "OnI0WmRn2znU",
        "outputId": "b7c66d35-1d24-4cc7-8239-bdeece95fa48"
      },
      "execution_count": null,
      "outputs": [
        {
          "output_type": "execute_result",
          "data": {
            "text/plain": [
              "(4, 4)"
            ]
          },
          "metadata": {},
          "execution_count": 49
        }
      ]
    },
    {
      "cell_type": "code",
      "source": [
        "np.argmax(scores) , scores.argmax()  # 최대값 인덱스 반환"
      ],
      "metadata": {
        "colab": {
          "base_uri": "https://localhost:8080/"
        },
        "id": "EqP7v_bY2zkx",
        "outputId": "72947247-9d55-403f-c6dd-3b692125ed30"
      },
      "execution_count": null,
      "outputs": [
        {
          "output_type": "execute_result",
          "data": {
            "text/plain": [
              "(2, 2)"
            ]
          },
          "metadata": {},
          "execution_count": 50
        }
      ]
    },
    {
      "cell_type": "code",
      "source": [
        "arr = np.array([1,3,3,4,4,6,6,6,6])\n",
        "np.unique(arr) # 고유값만 보기(중복 제거)"
      ],
      "metadata": {
        "colab": {
          "base_uri": "https://localhost:8080/"
        },
        "id": "XA4aZYxHhy6p",
        "outputId": "a70a70a6-c12a-489a-b1d0-bba78af3972f"
      },
      "execution_count": null,
      "outputs": [
        {
          "output_type": "execute_result",
          "data": {
            "text/plain": [
              "array([1, 3, 4, 6])"
            ]
          },
          "metadata": {},
          "execution_count": 51
        }
      ]
    },
    {
      "cell_type": "code",
      "source": [
        "np.square([2,3,4]) # 제곱"
      ],
      "metadata": {
        "colab": {
          "base_uri": "https://localhost:8080/"
        },
        "id": "ExGpSO51aIe4",
        "outputId": "b85cefd3-3988-4e70-ce27-6cd86d02f0b7"
      },
      "execution_count": null,
      "outputs": [
        {
          "output_type": "execute_result",
          "data": {
            "text/plain": [
              "array([ 4,  9, 16])"
            ]
          },
          "metadata": {},
          "execution_count": 52
        }
      ]
    },
    {
      "cell_type": "code",
      "source": [
        "np.sqrt([2,3,4]) # 루트"
      ],
      "metadata": {
        "colab": {
          "base_uri": "https://localhost:8080/"
        },
        "id": "u6DVWGCKaGLg",
        "outputId": "020ae772-bd63-48c0-bb1a-b65ce7c707ca"
      },
      "execution_count": null,
      "outputs": [
        {
          "output_type": "execute_result",
          "data": {
            "text/plain": [
              "array([1.41421356, 1.73205081, 2.        ])"
            ]
          },
          "metadata": {},
          "execution_count": 53
        }
      ]
    },
    {
      "cell_type": "code",
      "source": [
        "np.round([5.3,7.5,8.8]) # 반올림"
      ],
      "metadata": {
        "colab": {
          "base_uri": "https://localhost:8080/"
        },
        "id": "LehHbbvLjHGg",
        "outputId": "816b8697-6fb1-4064-aff6-3067d81af0c8"
      },
      "execution_count": null,
      "outputs": [
        {
          "output_type": "execute_result",
          "data": {
            "text/plain": [
              "array([5., 8., 9.])"
            ]
          },
          "metadata": {},
          "execution_count": 54
        }
      ]
    },
    {
      "cell_type": "code",
      "source": [
        "np.round([5.33,7.56,8.81], 1) # 두번째 인수를 1줄경우 소수점 1자리 까지 반올림"
      ],
      "metadata": {
        "colab": {
          "base_uri": "https://localhost:8080/"
        },
        "id": "vRkk1fZEjQdQ",
        "outputId": "23e0da88-2235-445a-da75-7799fec7ab34"
      },
      "execution_count": null,
      "outputs": [
        {
          "output_type": "execute_result",
          "data": {
            "text/plain": [
              "array([5.3, 7.6, 8.8])"
            ]
          },
          "metadata": {},
          "execution_count": 55
        }
      ]
    },
    {
      "cell_type": "markdown",
      "source": [
        "- exp 함수 : $y=e^x$\n",
        "    - 자연상수(오일러의수,2.71828....)를 밑으로하는 지수함수\n",
        "    - 지수함수는 거듭제곱의 지수를 변수로 하는 함수를 말한다.\n",
        "    - x 에 0 들어가면 1이 반환\n",
        "    - x 에 1 들어가면 오일러수 반환"
      ],
      "metadata": {
        "id": "y96mIy1Frq25"
      }
    },
    {
      "cell_type": "markdown",
      "source": [
        "![1280px-Exp.jpg](data:image/jpeg;base64,/9j/4QAYRXhpZgAASUkqAAgAAAAAAAAAAAAAAP/sABFEdWNreQABAAQAAAA8AAD/4QMraHR0cDovL25zLmFkb2JlLmNvbS94YXAvMS4wLwA8P3hwYWNrZXQgYmVnaW49Iu+7vyIgaWQ9Ilc1TTBNcENlaGlIenJlU3pOVGN6a2M5ZCI/PiA8eDp4bXBtZXRhIHhtbG5zOng9ImFkb2JlOm5zOm1ldGEvIiB4OnhtcHRrPSJBZG9iZSBYTVAgQ29yZSA1LjMtYzAxMSA2Ni4xNDU2NjEsIDIwMTIvMDIvMDYtMTQ6NTY6MjcgICAgICAgICI+IDxyZGY6UkRGIHhtbG5zOnJkZj0iaHR0cDovL3d3dy53My5vcmcvMTk5OS8wMi8yMi1yZGYtc3ludGF4LW5zIyI+IDxyZGY6RGVzY3JpcHRpb24gcmRmOmFib3V0PSIiIHhtbG5zOnhtcE1NPSJodHRwOi8vbnMuYWRvYmUuY29tL3hhcC8xLjAvbW0vIiB4bWxuczpzdFJlZj0iaHR0cDovL25zLmFkb2JlLmNvbS94YXAvMS4wL3NUeXBlL1Jlc291cmNlUmVmIyIgeG1sbnM6eG1wPSJodHRwOi8vbnMuYWRvYmUuY29tL3hhcC8xLjAvIiB4bXBNTTpEb2N1bWVudElEPSJ4bXAuZGlkOjUxREQyQUJBMDJCMDExRUQ5NUI4OTc1MjQyNTdCOTlDIiB4bXBNTTpJbnN0YW5jZUlEPSJ4bXAuaWlkOjUxREQyQUI5MDJCMDExRUQ5NUI4OTc1MjQyNTdCOTlDIiB4bXA6Q3JlYXRvclRvb2w9IkFkb2JlIFBob3Rvc2hvcCBDUzYgKFdpbmRvd3MpIj4gPHhtcE1NOkRlcml2ZWRGcm9tIHN0UmVmOmluc3RhbmNlSUQ9InhtcC5paWQ6ODMwMThGMzIwMkFFMTFFRDg2NkFFRTZBNDQ0RkI5RkQiIHN0UmVmOmRvY3VtZW50SUQ9InhtcC5kaWQ6ODMwMThGMzMwMkFFMTFFRDg2NkFFRTZBNDQ0RkI5RkQiLz4gPC9yZGY6RGVzY3JpcHRpb24+IDwvcmRmOlJERj4gPC94OnhtcG1ldGE+IDw/eHBhY2tldCBlbmQ9InIiPz7/7gAOQWRvYmUAZMAAAAAB/9sAhAAGBAQEBQQGBQUGCQYFBgkLCAYGCAsMCgoLCgoMEAwMDAwMDBAMDg8QDw4MExMUFBMTHBsbGxwfHx8fHx8fHx8fAQcHBw0MDRgQEBgaFREVGh8fHx8fHx8fHx8fHx8fHx8fHx8fHx8fHx8fHx8fHx8fHx8fHx8fHx8fHx8fHx8fHx//wAARCADhASwDAREAAhEBAxEB/8QAxwAAAwEAAwEBAAAAAAAAAAAAAAMFBAIGBwEIAQEAAgMBAAAAAAAAAAAAAAAAAwUBAgYEEAAABQIABQsODQIDBQkBAAAAAQIDBBEFIRITFAYxQVFxkbHRIpJTB2EyQlJysiMzszRUFRY2gaLSY3PTdJS01FV1lWIkgkMIoYMlJhjCk4Q1RWW1dhc4EQEAAgEBAwcHCQcFAAAAAAAAAQIDETEEBSFBUYESMhNhcaGxIlIGkcHRQmJykrIzgtIjQ5MUFfDhooMW/9oADAMBAAIRAxEAPwD9UgI+lGkKrDAamFCenJcfbYU2xQ1Jyh0JVMJnhoREWuesWEBzu+k1utUliI83JflSEKdQxEjvSVk2g0pUtRNJXipqsiwgMvtnB/T7r/HS/qwB7Zwf0+6/x0v6sBxe04tjDS3noVzbZaSa3HFW6WSUpSVTUfg9QiAci0zgGVSt91Mj1D9XS/qwB7Zwf0+6/wAdL+rAHtnB/T7r/HS/qwHFGnFsWtbaIVzU40ZE6grdLqkzKpV8HrlhAcvbOD+n3X+Ol/VgD2zg/p91/jpf1YBb2nloYNsn4lyaN5ZNMkq3yyx3FEZkhPg9U6GAZ7Zwf0+6/wAdL+rAHtnB/T7r/HS/qwB7Zwf0+6/x0v6sAuNp5aJTKX4sS5PsLqSXUW+WaTxTNJ0PJ6xlQAz2zg/p91/jpf1YA9s4P6fdf46X9WAWenloKSmKcS5FKWhTqGPV8vHNtBklSyLJ6hGtJHtgGe2cH9Puv8dL+rAHtnB/T7r/AB0v6sBxc03trbanHIN0Q2gjUtZ26XQkkVTM/B6wDl7Zwf0+6/x0v6sAe2cH9Puv8dL+rAHtnB/T7r/HS/qwGaR0j6OxmJb8lq4MsW9JrnurgSySwkkZQ1OHk8BEg8baG+PHa9orWO1aeSIjnkmdDImn1mmxGZkOLcpMOS2l6NIbt8s0ONuESkLSeTwkpJ1IMmO1LTW0aWidJjonoInU32zg/p91/jpf1Y0C39PLRHNsn4lyaN5ZNM49vlljuKqZIT4PVOhgGe2cH9Puv8dL+rAHtnB/T7r/AB0v6sAe2cH9Puv8dL+rALj6eWmS0T0aJc3mVGZJcRb5ZpM0maVF4vWURkAZ7Zwf0+6/x0v6sAe2UH9Puv8AHS/qwGm1aSwblLciNMS476EZXElxX42MiuKZoN1CSVQzKtAFYAAPhpSqlSI8U6lXWPZAQ3C/56jn/wC1v/iGQF0AAM9xZafgSWXkktp1paHEHqGlSTIywbJAHoIiSRFqERAPoAAZ2GWkSpLiEkS3VINxWyZIIi/2ANAAAY7lFjyFQzebJZsyEOtVrxVpJREoqbYDYAAAAxWaLHi25piM2TTKDWaUFWhYy1KPVrqmYDaAAER5KfbWGqnGK2yiI+ob8cBbAABUttDsV5twsZtaFJWk9cjKhkAanAREAAAA8z6cn0W7oz0rcit/3l0OPEomtXFyFNMeTF/8L4ovv+PXZXW34YmUWafZl6DaICLdaYVvR1kNhqOnaaQSC3hS58s5Mlrz9aZn5UkRpDWImWK5xY8g4ZvNk5kZKHWq14q0koiUVNioDaAAAAyWmNHjQEMx0E20lThkgq0I1OKUersmYDWAAE1ZF7Rsnr5m75VsBSAAAAQnPfmP+2P/AIhoBdAABUrzV7uFbwBqetLaAAAAKb8c9tp70gDQAARL1WPpU7xgHgAAAEQPNUbau+MA8AAIz3vnE/bpPl44CyAAHB/xLncnvAOZahAAAAPNOl1JzJGitjRRR3TSWCp9s+yjRGzkPU5CR0HAJ7Hj5Z+pgtp962lYRZeXSPK9LHPpQAzy9Vj6VO8YDQAAAARC82Ttq74wDwAAnL94mvsbnlWwFEAAI2lVrvNygxmrTNzGQ1LYfcdM1ES2mlYy2zJGEyXqGQDDdI02RprDTEmKhKTbn1LUlttzHTl2uKeUI6fAA7CbMivnBl/hTwAPmRk+kHyU8ABclmQUZ2sgzLEVgxU7G0AYTMmhf3B8lPAAMjJ9IPkp4ABkZPpB8lPAAW2zIyrv9weAy7FOwXUAMyMn0g+SngAGRk+kHyU8ABMlmQRs1kGfhCpxU7B9QA7IyfSD5KeAAZGT6QfJTwADIyfSD5KeAAiEzIOMgykGRcbBip7Y+oAfkZPpB8lPAAMjJ9IPkp4AEd5p/wBsIhZc6+rpOHFTz7HUAWMjJ9IPkp4ABkZPpB8lPAA4PMyMiv8AuD60+xTsbQDmTMmnnB8lPAAMjJ9IPkp4ABkZPpB8lPAA83v6ym9OWitrJWVetVun3Ra9TJ5wlMRKjSXFVWlCrqDoNzpNOG5766RfJSnn09pFbvxD0jIyfSD5KeAc+lGRk+kHyU8ABEpmQRs1kGfhU04qdg+oAfkZPpB8lPAAMjJ9IPkp4ABkZPpB8lPAATDZkHHSZSDIqqwYqe2PqAHZGT6QfJTwAAmZFfOD5KeABKiRZzGktZM5UtC4rptNqabRkyyqMBKQRGr4QFwAAABCc9+Y/wC2P/iGgF0AAFSvNXu4VvAGp60toAAAApvxz22nvSANAABEvVY+lTvGAeAAAARA81Rtq74wDwAAjPe+cT9uk+XjgLIAAcH/ABLncnvAOZahAAAAPN9GGW7j026X3dKeLaoEG0JWeqa3MaS4RbXEF/vdpx8Ow4/fve/yaVj50VeW8y9IFAlADPL1WPpU7xgNAAAABELzZO2rvjAPAACcv3ia+xueVbAUQAAxXa6ItsZMhxh6Qg1pQoo6CWpOMdMYyM04AEe43GBB02hrmyG4yXba+htTqiQSlZwzgKuuA7AcuKR0N1FdsgBnkXnUbpAFSpcU4zpE6ipoVrlsAGJlxaF4VG6QD7nkXnUbpADPIvOo3SAKblxsq6eVRhMtcu1ANzyLzqN0gBnkXnUbpAESpUYzYo6nA6muEtgwD88i86jdIAZ5F51G6QAzuLzqN0gGeDKjFFQRupI+Nrl2xgNGeRedRukAM8i86jdIBGelR/bGIrKpp6uk4alz7ACznkXnUbpADPIvOo3SAcHpcU2V+FR1p65bADkUuLQvCo3SAfc8i86jdIAFLin/AJqN0gHn3Q7Iafg6SXp48Rd5v0+Q0peBRx21Ewx8BIawC847MVvjxRP6eGkdcxrb0yjxbJnyvQc8i86jdIUaQZ5F51G6QDPLlRjNijqcDqa4S2DAaM8i86jdIAZ5F51G6QAzuLzqN0gCIcqMUdJG6ksKtcu2MA/PIvOo3SABS4pnQnUV2yASY10tszSYm4kpp9xiI4TyG1Eo0HlUFxqamoAtgAAuRGYkISh9snEpWlxKVFUiUgyUk/gMqgIzpEenMev6Y/8AiGgF0AAFSvNXu4VvAGJ60toB9AABTfjnttPekAaAACJeqx9KneMA8AAABngeao21d8YDQAAEV73zift0ny8cBaAADg/4lzuT3gHMtQgAAi6bXorHofe7xWioEGQ+3rGa0NqNBFtqoQ9nDt38feMeP3r1j0tbzpEyh9C9oK0dGWj0EyxXChNSHU0oZOSizhRH1Syo9fH8/i79mv8Ab06q+z8zXFGlYd2FQkADPL1WPpU7xgNAAAABELzZO2rvjAPAACcoi9omvsbnlWwFEAAABCc9+Y/7Y/8AiGgF0AAFSvNXu4VvAGp60toAAAApvxz22nvSANAABEvVY+lTvGAeAAAARA81Rtq74wDwAAjPe+cT9uk+XjgLIAAcH/Eudye8A5lqEAAHnXT2tT+gB2NpeJK0juEG0RVF28iQhR4Nfwbah0HwzHZ3vxZ7uGl7z1Vn55hFm7unS73BZaYNxhpOK01iIbSWoSUtpIi3BQWtNpmZ2ylahgADPL1WPpU7xgNAAAABELzZO2rvjAPAACcv3ia+xueVbAUQAAi6Vp0mVDi+z+IcgpTZykuGSSUwVcZOMfWkasXGMuNi1phAYrqV1PTWH6tUwlz1c/ljkpWojRnDPW4hpw7YDsJlNrgNqmtgVwgPlJ2y1uK4QC5JTc2dqbVMRVcCtjbAMIp1CwtbiuEAUnbLW4rhAFJ2y1uK4QC2ym5V2htVqVcCtguqAZSdstbiuEAUnbLW4rhAJklMqzU2vGFTArYPqgHUnbLW4rhAFJ2y1uK4QBSdstbiuEAiEUzNkYptU42srtj6oB9J2y1uK4QBSdstbiuEBHeKZ7YRMLeN6uk6yqUy7HVAWKTtlrcVwgCk7Za3FcIDg8U3JLqbVMU9ZWxtgOZFOpqtbiuEAUnbLW4rhAedaavPXLpW0HsCsVw4ed3p9KesSTLRssLWR4fGKMk01x0PDqzj3DeMvvdnHHXOto+RFfltEO/slNyz9DarjJrgV2hdUc8lOpO2WtxXCAKTtlrcVwgESimVZqbfjU0wK1aH1QD6TtlrcVwgCk7Za3FcIApO2WtxXCATDKbm6aG1SqtZXbH1QDqTtlrcVwgPpFNrhNqmvgVwgJMQruWkv9+qMpvNXc3yCXErJOVR1+OpSTwU1AFwAAABCc9+Y/7Y/wDiGgF0AAFSvNXu4VvAGp60toAAAApvxz22nvSANAABEvVY+lTvGAeAAAARA81Rtq74wDwAAjPe+cT9uk+XjgLIAAcH/Eudye8A5lqEAAHmuiLJXbpl0zvx8dm0x4dhhO6pVxc5lILuXFJHRb9bwuHYMXPktbJP5a+jVDXlvM9T0Rjx8juk94Q51McAAGeXqsfSp3jAaAAAACIXmydtXfGAeAAE5fvE19jc8q2AogABluN1t1taadnyER0POtx2TWdMd55WK22ktU1KVqEQCW6ZFpzGqZF/wx/V+0NAL1S2QBUtkAqUZZq9h7BW8AYkyxSw6wD7UtkAVLZAKbMss9h1096QBtS2QBUtkBnlGVWMP+aneMBoqWyAKlsgCpbIDPAMs1Rh11d8YDRUtkAVLZARXjL2yiYf/TpPl44C1UtkAVLZAcHzLIuYexPeAciMqFhAJnTY0GFImyV4keK0t55ewhtJqUfwEQ3x45vaK122nSOsmdHQegaPIVoEV6mNk1O0lnTLzJT/AFSnjxD+FtCadQXvxNav914VZ1rhpXHH7MfTqiw93Xpd+YMsvIw9knvCHPpT6lsgCpbIDPLMqsYf81O8YDRUtkAVLZAFS2QCIRlmycOurvjAPqWyAKlsgJqlJPSJqhkdIjlafStgKQAAZLpa4lzjFGlpNbGOlxTZYCUaDxkkfw4cACLcbfBm6bxETI7clLdtfW2l1JLJKs4ZwljEdDAdgOLGPCbSOSQAzSLzKOSQBUqLGKM6ZNIriK7EtgAxMSLil4FGp2pAPuaReZRySAGaReZRySAKbixsq74JGqXYl2oBuaReZRySAGaReZRySAIlRYxGxRpGF1NeKWwYB+aReZRySAGaReZRySAGaReZRySAIgxYxxUGbSDPjdiXbGAfmkXmUckgBmkXmUckgEZ6NG9sYhZJFPV0k6ULn2AFnNIvMo5JADNIvMo5JAOD0SLkV+CR1p9iWwA5lEi0LwKOSQDofTbKzLo9mw4CEput8cYs9sSXENT81wm6EotTweOfwC8+HcNb73W1+5jib281Y19eiLNPs+d3K12SBbrZDt7LaVMw2W47alERmaWkEgjPq4BT5ss5L2vO20zPypIjSDGYsbLyPBIwKTTil2hCNk7NIvMo5JADNIvMo5JAES4sYjYo0jC6kj4pbBgH5pF5lHJIAZpF5lHJIAZpF5lHJIAiFFjHHSZtIPCrsS7YwD80i8yjkkAM1jF/lI5JAJTFtt0TSYnIsVphx6I4by20JSazyqD4xkWHVAWgAAAEJz35j/tj/wCIaAXQAAVK81e7hW8AanrS2gAAACm/HPbae9IA0AAES9Vj6VO8YB4AAABEDzVG2rvjAPAACM975xP26T5eOAsgABwf8S53J7wDmWoQDzHTFS7/ANMmiGjiKnEsTD+kVxT2JqKseJh7ZLpme0Y6TcNMHDs2ae9lmMVfzX9CG3LeI6OV6cObTEsePkd0nvCAOAADPL1WPpU7xgNAAAABELzZO2rvjAPAACcv3ia+xueVbAUQAAnX6ddIcNDlthKnPqdbQtCTSWI2aiyi6KUjGomtCI9XqAJN1kT2NNYZwohTFqtz5OJN1LWInOGuNVRHjbQDsJuyq4GKls45cAD5lZXMfHLgALkuyTju1YoWIqvHLY2gDCdlULwHxy4ABlZXMfHLgAGVlcx8cuAAtt2TlXfAYalXjlsF1ADMrK5j45cAAysrmPjlwAEyXZJmzVinhCpxy2D6gB2Vlcx8cuAAZWVzHxy4ABlZXMfHLgAJhOySjIImKlxsOOXbH1ADsrK5j45cAAysrmPjlwAI7zkj2wiHkeN6uk4McufY6gCxlZXMfHLgAGVlcx8cuABxedk5JdWMGKfZlsbQDkTsrB4D45cADzroqf8AXl60s04bSchF2nFAt6jOiUw7cnJINszrxXHFKUdMBmOh43E4MeHdZjTsU7VvvX5eXzRpCLHyzNnouVlcx8cuAc8lKZdk5Z+jGHGTXjl2hdQA3KyuY+OXAAMrK5j45cABMpySZs1Yp4VNOOWwfUAOysrmPjlwADKyuY+OXAAMrK5j45cABMN2SUdNGKlVXZl2x9QA7KyuY+OXAA+k7KrhYoXdlwAJMSRcXtJKS4RRUIiuky4TyXcoWVRhxSIjT8IC4AAAAhOe/Mf9sf8AxDQC6AACpXmr3cK3gDU9aW0AAAAU3457bT3pAGgAAiXqsfSp3jAPAAAAIgeao21d8YB4AARnvfOJ+3SfLxwFkAAOD/iXO5PeAdQ6XNInrF0f3N2JjKuk5BW21NIPFcXLmnkGsSvZIx8f/CLfgW6Rn3ukW7lfbt0dmvLOvn2daPLbSqxoXozH0X0TtVgjmSkW6OhlbiSoS3CKrrlP63DUr4R5OIb5O8575p+vbXq5o6o5G1K9mNFoeNsSx4+R3Se8IA4AAM8vVY+lTvGA0AAAAEQvNk7au+MA8AAJy/eJr7G55VsBRAABb0iOwlKnnUNJUokJNaiSRqUdEpKuuZ6hAIznvzH/AGx/8Q0AugAAqV5q93Ct4A1PWltAAAAFt+Oe2096QBgAAIl6rH0qd4wDwAAACIHmqNtXfGAeAAEZ73zift0ny8cBZAADg/4lzuT3gHml9a9rOmS0Wcjylp0LYK73IiwpO4yOLCaXsLbQRvJ6g6Tdp/teHXyfzN4nsV+5HfnzTPsyht7V4joenDm0wAJY8fI7pPeEAcAAGeXqsfSp3jAaAAAACIXmydtXfGAeAAE5fvE19jc8q2AogABgvdnYu0HM3lqbbNxtw1opjkbayWnFM60PGSWEBIuUBibptDQ8p1JN259aci64ydc4Z6421JNRdQ8ADsJxW9lfLXwgPmatbK+WvhALlRWyjOnVfWK7NextgGJitULCvlr4QBmrWyvlr4QBmrWyvlr4QC24reVdwr1S7Nfa7YBmatbK+WvhAGatbK+WvhAIlRWyNjCvC6ns17B9UA/NWtlfLXwgDNWtlfLXwgDNWtlfLXwgEQYzZxUHVfZdmvtj6oB+atbK+WvhAGatbK+WvhARnozftjETVdPV0k+vVXx7HVAWc1a2V8tfCAM1a2V8tfCAi6Z6RWHRLRmfpBeXnGrfCRVwyU4o1KWZIbQRJqdVrUSS2xmIiZ0mdB1voUtMhzQ1GktzdJ27aVuHeZbjRmlJIkERx2iMqGZIZxeuwkZmQt+Nb1iyZYph/RxVitdvL0z1yjx1mI5dsu/Zq1sr5a+EU6QZq1sr5a+EAlmK3l5GFeBSezX2hdUA7NWu2X/3i+EAZq1sr5a+EAiVGbI2MK8LqS69ewfVAPzVrZXy18IAzVrZXy18IAzVrZXy18IBMKK2cdJ1Xqq7NfbH1QDs1a2V8tfCA+lFb2V8tfCAkxrdHiaTEtpTylPRHDWTrzrpF4VB8UnFKJOrrALYAAACE578x/2x/wDENALoAAKleavdwreANT1pbQAAABTfjnttPekAaAACJeqx9KneMA8AAAAiB5qjbV3xgHgABGe984n7dJ8vHAWQAA8s6QWz0501gaAMnlbHa8S66YkkqkoioqFCUepV5RY6kn2NFFqDotwpXdt0vvN4ib5NaYon/nbT7OyJ6eRDae1bSObapaMXRWlml12zKQqNorodKTaYkOKeSbk3FhslSFPYpJM2o2UQ220XFxiNR14tOdTJWmN30ihdOvR/am7tI9UXVF0clW1OK2wo48VSmsbFIlLopVeMZlUiOgD1YB0689J2iNifuDk5944UKQiPc7gxHefiw3lIbo3IebSpKFeERXVxaljUAYekO/r0UjRekCFJXIsrbkZm/wAVLinGF26Qsmylx0JJZZZlbqFVRgW3jEdeKaQ78haFoStCiUhREpKiOpGR4SMjAIl6rH0qd4wGgAAAAiF5snbV3xgHgABOX7xNfY3PKtgKIAAS9Iryu0wm5CEtLU4+0ylt5zJY2UURYqFUVx6VMiOhbJkAnXGZmum0RWQefx7a8mjCMc0/3DWFWEqEA7Ab/wA2vkgDOPm3OSAVJfrGdLJr6xXY9QAwn8BeDc5ID7nHzbnJAGcfNuckAtt/wrp5NzCZdj/SQBmcfNuckAZx825yQCJT9TZ8GvA6XY9QwD84+bc5IAzj5tzkgDOPm3OSARCfpGQWTX2XY/1GAfnHzbnJAGcfNuckBGee/wCcYh5Nf/l0nBi/PsALOcfNuckB17TvTmDolo4/dZDSnJKjJi2QqGS5MxwjyLCKVPjGWE6YCqY9/DNwtvWaMcckbbT7tY22aXv2Y1TujLRKRovYnn7sapWk14dO4aQTSIjxpLmHJpMuwZI8RJFg1TKlR6OM8RrvOWIxx2cOOOzSPsxz+e22WMdNI5drr/QI1ItUbTSyTWlpuEHSect5JlxltSktvMPbTjaqkKhIl9Il5tTf+oboyJ2Wy0uMzds4QtxCTby0Qyax6nxccy4tdXWAekXnpC0UsukNo0euktUa7X01JtjCm3DJxSaFTHSk0JMzOhYx4TAeGaP3To7thaUaHdJc64wrwu7TnJFsy88mblHnPG606yzFPFcN4l0xU8YwHd+lQokL/TvcLdEtUm3tLgxrfa7Q+ZuyEZV5tiMyfGdUbnGTxcYzLU1gHpej7D9vsNtgSELW/EiMMOqIq1W22lKjrtkA0Sn6mx4NeB1J9b1DAPzj5tzkgDOPm3OSAM4+bc5IBMN+kdJZNeqrsf6jAOzj5tzkgAn/AJtfJASo83ONJCTm77OTiupxnm8RKvCo6w6nUBaAAAAQnPfmP+2P/iGgF0AAFSvNXu4VvAGp60toAAAApvxz22nvSANAABEvVY+lTvGAlNaZ2B2Zd2EPnm9hQarvcTKkSOtCMo4yt86JyjbdFuJLrCMsagCTA6VNHpJ2Jx+NNt8HSZZtWK4TGSbYkOGWM0gzJSlNKkI4zJOEnHLUw4AHcgHVLJ0haLzdKl6GxJC371GiuTpCUtrJpDSXiaPwqiSlSsddOLXXAV29JLarSJzR5w1sXJLJSmEOoNKJDNSJa2F9a5k1KInCLCmpVKhkZhUARnvfOJ+3SfLxwFK4XCFboL8+c8iNDioU7IfcPFQhCCqpSjPWIhvixWyWitY1tPJEMTOjzTQ2FO0+0nb6QLzHNrR6CSkaFWx4qKMlHRdydQeotzFLJV1E4S1lH0W/5K7jgndMc65bfrWj0Y48kfW6Z64iKsdqe1Ozmenv+Jc7k94c0mRJGixFpOzpHbZJwZjiEx7uySCW1OjoJWSJ0qpNLrKlHk3CPUM0mRkZYoVnLbbnVLU5FZWpwyNxSm0majLUxqlhoAxXbR6NdZ9tky3FmxbHc5aiESMRb6fFOLUaTX4I+MlKVEWNQzrQgGxtppcx11aEqdaMibcMiNSSNBVIj1S1QEm66JM3jSGBc7q9nMG0KTItdrNBE0iaRKSUtxRmZuOISoyaLAlFTVhVimkL4DPL1WPpU7xgNAAAABELzZO2rvjAPAACcv3ia+xueVbAUQAAAEJz35j/ALY/+IaAXQAAVK81e7hW8AanrS2gAAACm/HPbae9IA0AAOvdIV8d0f0KvV+ZSS37TCkTGUKKpG40yo2yPqY9KgPHekJEq0/6Q2lQlLy863W6RcpGManFuXF5l6W4tZ4VG848rGM9XGAXP9RiSj9BjciPxZEB61vQVpwKQ4h5tKVIMtQySowHs5VoVcB65APJI/8A/UDP/wBGL/5UwFDp+leptDYemDJGmfordIM6OtJ4qjQ6+mJIZqWHEeZkKSpOv8AD0sB167Todu0kauE95EWDGtkpciS6ZIbQknmDM1KPAQkxYrZLRWsdq07IhiZ0dEZZuHS9cGZctl2F0ZQncrFiuYzb15ebVxHXUYDTFSZVSk8Kjwn/AE9Na1OFVmtZi2+2jSZ2xiieaPt9M83rh7/3fW9aaababS00kkNoIkoQkiJKUkVCIiLUIhy0zMzrKd8f8S53J7wwOZahAAAAEsePkd0nvCAOAADPL1WPpU7xgNAAAABELzZO2rvjAPAACcv3ia+xueVbAUQAAwXq3vT4jbLLuRcRIjv5Sqi4rLyHFJ4pl1yUmnYw4QEm5RX5Gm0NLMt2IaLa+pSmibM1FnDPFPKJWVNoB2A2HOfXuI+SAMg5z69xHyQCpTLmbO+HX1itZGx3IBiWHKF4depsI+SA+5Bzn17iPkgDIOc+vcR8kAptlzKu+HXqlrI7XuQDcg5z69xHyQBkHOfXuI+SAm6Q2WPdrRJtE5xbkK5tOw5SOKRm2+0ptVDxdWisADo+h9li3ro+k9GGlBqbuNohep7hGTikbsVtJtRJ8Y1JOqHW0IWlWHFcI0nxkmAZJ6NNKL7btG7HpVdIsqy2F9qTMOMytD1ychlixSeStSm2kH17ySxsZWBOKQCnapemy+k+8W9+4tS9FmobbrTTcfJuw5KjbybSnjLFdN5GVWdK4pEnUrhDFE0G0jX0qo06zuIUMrP6iKIROZbIlKznLY1MTHxsGLSlNcAvpLhL0tn23QGIpcltyXFuWkz2Kk2Y1uiu5ZLa1li0elOtpQ0jCeKSlmVE4QsabdI2juieJHlSnpt6k4INigpS/NfUfWklpKTNJH2yqFtngFpw7hGbeuWvs44717clY6/mhpfJFfO8+R0eaV6b9I1sv2nr5RbMUR1+NoSlS3W0oZWgmylqI0tLWpx0nFkST60kngwFtlz13TNrumS0z2ezN9NNZnb2eiOjn52IjtR7UPam4mSbQ006pttsiShCUoSlKSKhEREmhERCqmZmdZ2pHPIOc+vcR8kYC3mXMivw6+tPWRsdyA5kw5QvDr3EfJAfcg5z69xHyQBkHOfXuI+SAQyy5l5Hh19cnWR2hf0gH5Bzn17iPkgDIOc+vcR8kBnlsuEbHh1n4VOsnYP+kBoyDnPr3EfJAGQc59e4j5IAyDvPr3EfJAIhsuHHT4dZYVaye2P+kA/IOc+vcR8kAEy5z69xHyQEmNEkMaTEp2Y7KS5EcNCHSaIkeFRgTk0IPdqAtgAAAITnvzH/AGx/8Q0AugAAqV5q93Ct4A1PWltAAAAFN+Oe2096QBoAAIl6rH0qd4wDsmjHJzFLKERpJdMNDwmVfgAfQGO53qzWpk3rnPjwWUkajckuoZSRFqnVZpITYd3yZZ0pW1p8kTPqYmYja6A/04aJt/8AD9HGJmllzIzSTFnYW80SjMzLHkKJLRJoeEyM6C6w/Dm8TXt5prgp03mIn8O31I5zRzcrh6v6ZdLUKKa/G0DtT1DdYhKKbdV6x40jiMtVSRUUgsYhvGTh26z7MW3nJ029nH+HvW6+RjS9vsuz6G9G+ieiLa1WqKa572GVdZKsvMeM9U3HlcbDsFQuoK7iHFs+9z/En2Y2VjkrHmj/AFLemOK7G173zift0ny8cVrdaAADg/4lzuT3gHMtQgAAACWPHyO6T3hAHAABnl6rH0qd4wGgAAAAiF5snbV3xgHgABOX7xNfY3PKtgKIAAS9IdJLZYIrUm4GsmnXMmWTTjGVEmtSj/pQhBqP/YA6xpppzovodpZbpukUtUONLgSWY60svP4y0PMqUVGEOKLAeqZD17nuOXebTXFGsxGs8sR65hra0RtY/wDqH6JT1Lu8rYpAn/UCx/8AOb57sfjp+818ar7/ANQXRaepcJR7FLfP+oGP/Pb30V/HT948Wr45089HLzam2356zWRpLFts7Xwa7RDFuA7zEaz2Px0+k8WHMunfQWlENXVfc2yb9WH+Bze9j/qV+k8WPKP/ANy0VPxdrvrmxiWqUdd1JB/g8nPkwx/2VPFjokpzp2sKet0d0kX3Nqe/7RkNo4Faf52D+pDHi+SWJfT9a21KU1ohpQ8tZlxE2wyMqFTDVZCSvw/rt3jd4/b/ANjxfJL6jpwvEnzLo80jcrqZaOTO+ZjaeCbvXvb3gjzTMseJPuy+L6Vuk14yTD6NZKCP/MmXBiORbZGgzCOGcOjvb3X9nHaTt391yVpZ0zSTSZ2SwW+qiyWdXB13FXrY2QQYjth4VXT+Lmt5sen5mdb9EPuU6ZppGmXpPYLPXsrdBkyzL4ZK0ke4NvH4VTu482T714r+WDS888QU9oDc7ilJX3pLvUgv8xNvJq2pV1KMtqwDavHMGP8AS3bFH3u1f1yx4czttLXaeiXobt72cuW9F0mGdVyrop2atRlspexm/iiLP8S77kjsxfsV6KRFfVy+lmMNY5ndbZdLJHhNtMraabTUkoabNCCIjoVEpSREKO1pmdZnWUrV68tXpBbiuAYB68tXpBbiuABHevNs9sIi84KhW+SWorVy7HUAWPXlq9ILcVwAD15avSC3FcADg9e7UbSyzgutPWVsbQDmV7tVPOC3FcAA9eWr0gtxXAAPXlq9ILcVwAEs3q1k8+ecJwqTrK7QuoAd68tXpBbiuAAevLV6QW4rgAIlXq1mbP8AcJwOpPUVsH1AD/Xlq9ILcVwAD15avSC3FcAA9d2r0gtxXAATDvVrKOks4SeFWsrtj6gB3ry1ekFuK4AB67tXpBbiuABkYnw5WkSM3dJw0RHMYiIypV1GyQCyAACZUKHLQluUw2+hC0uIS4klkS0HVKiI9cjASHPfmP8Atj34hoBdAABckzKO6ZHQyQoyMtoAwtQtoAAAAtszN10jPARlQvgAMAABEozI2KHSrpEe1QwDwAAACIJmcZBmdTqrCfdGAeAAEZ4z9sohVwerpJ0/38cBZAADg8ZkysywGSTofwAOZahAAAAEsmZvyCrgJSaF/gIA4AAESzMjYodKupI9qhgHgAAAEwzM46TM6nVWE+6MA4AAJyzP2hZKuDNHcH+9bAUQAAAEJz35j/tj/wCIaAXQAAXKwxne4VvAGJ60toAAAAtvxzu2XekAYAACJRGZsfSp3jAPAAAAIgkZRUEeyrvjAPAACM975RP26T5eOAsgABwf8S53J7wDmWoQAAABLJHl5HVUnvCAOAABEsjM2Kc6neMA8AAAAmERlHTXZV3xgHAABOX7xNfY3PKtgKIAASr0i/LyZW40E2TkdSjJWK5QpCDeI8YjTiZDGwatQCbvZ7w5eY91tUuOw81HciutSmVvIUhxaHCUnJuMmlRG31QHzIab+nW37o/+ZAGQ039Otv3R/wDMgET7ZppNgyIa7jbm0SWlsqcREfxkktJpM01k6pVAOTG02Skk59bToVK5o/rf+JAfchpv6dbfuj/5kAZDTf062/dH/wAyAQxa9M2ZMmQm429SpRpUtJxH6JxEEji/3OvQA/Iab+nW37o/+ZAGQ039Otv3R/8AMgMdxsmmU9URTlzgN5nIRKRiRH+MpBKSSVVk9aeMA2ZDTf062/dH/wAyAMhpv6dbfuj/AOZAGQ039Otv3R/8yAx2iyaZWu3tQWrnAebaNZk47Efxzx1ms60k62NQBsyGm/p1t+6P/mQBkNN/Trb90f8AzIDGux6YqvDV1O5W8nmY7kVLWZvYhpdW24aj/ua1I2iItsBsyGm/p1t+6P8A5kAZDTf062/dH/zIBUu36ayYr0dVwtyEvIU2paYj+MRKKlSrJ1cIBqY2mxERZ9bcBU80f/MgDIab+nW37o/+ZAGQ039Otv3R/wDMgMsWz6ZRpk2Um5W9apy0OOIVEfxUGhtLREj+51DJFdsBqyGm/p1t+6P/AJkAZDTf062/dH/zIDHcrJplPOIblzgNZnIRKRk4j/GU2RkSFVk9aeNhAbMhpv6dbfuj/wCZAGQ039Otv3R/8yAMhpv6dbfuj/5kBktVm0ytsFENq5QHkIUtROORH8Y8otTh1pJ1jVQgGvIab+nW37o/+ZAGQ039Otv3R/8AMgOdtt1+TdFTrrLivElk2GWorDjNMZZKNSjcder1pUpQBZAAAAQXNHZjulMW8uTFKbiIeQhojURGh6hZJTZeDMkGklE5TH1q0AXgAAnX+2TrlbnYkO4Ltq3ULQp9tCFqotJpwY2pStakZGAfaYbsK1Q4TruXdisNMuP0MsdTaCSa6GaqYxlXVMBqAfFEZpMiPFMywK1aHsgI9msUmDdLhPfkm8uclhC0lWilR0GnLGkzxULWSqKSgiTxSPVqAsgABD0isc25ri5J5s2WJDD5su46DQbKzWa2nGTQslngTQzxaVwYQFwAAFSW3nGTQy8bDhmkydJKVGREojMqKqWEsADFo7a37XakQ33SecQ6+slkazLFdeW6lNVmpXFSsk6usApAABBa0cmI0sevZzlHGcRQovG5tDeTOpmnJpNBuJokjxlKw0AXgAAl6T2mTdrHJt8Z/Nn3sTEf43FNDiV14hpV2OyAqAAAAJFgs79ueubjpNEU6WqQhLKnTLFNKUljJcUokrMk8bEoRnhAVwAAj3qxvXG42iU29kPVkg5ClEasZZGg2zaNJGSTStKzrXUMiMgFgAAFyW3nI7rbLpsPLSaW3iSSjQoywKxVYDpsGAn6L2eTZrDEtkmYqe/GSpKpikmlTlVmojMjUvDQ6aoCoAAEpmyqRpNJvKl0ysZuKhBOOGRpQo11U2o8mkyMzoaCqZHxtQgFUAAAAAAAAAAAAAAAAAAAAAAAAAAAAAAAAAAAAAAAAAAAAAAAAAAAAAAAAAB//9k=)"
      ],
      "metadata": {
        "id": "PP0LLI8iu-LM"
      }
    },
    {
      "cell_type": "markdown",
      "source": [
        "- x 값이 커질수록 반환값이 더커지는 특징이 있다.\n",
        "- x 값이 큰수가 들어가면 무한대 값이 나온다."
      ],
      "metadata": {
        "id": "SsrDyT31t4tF"
      }
    },
    {
      "cell_type": "code",
      "source": [
        "np.exp(1000)"
      ],
      "metadata": {
        "colab": {
          "base_uri": "https://localhost:8080/"
        },
        "id": "ByrL-dgZAqNC",
        "outputId": "46613737-6694-4923-f77d-16355cc73fb0"
      },
      "execution_count": null,
      "outputs": [
        {
          "output_type": "stream",
          "name": "stderr",
          "text": [
            "/usr/local/lib/python3.7/dist-packages/ipykernel_launcher.py:1: RuntimeWarning: overflow encountered in exp\n",
            "  \"\"\"Entry point for launching an IPython kernel.\n"
          ]
        },
        {
          "output_type": "execute_result",
          "data": {
            "text/plain": [
              "inf"
            ]
          },
          "metadata": {},
          "execution_count": 56
        }
      ]
    },
    {
      "cell_type": "code",
      "source": [
        "np.exp(0) # 1이 반환된다."
      ],
      "metadata": {
        "colab": {
          "base_uri": "https://localhost:8080/"
        },
        "id": "ECxri0WrpK6o",
        "outputId": "667eaebd-a746-43d7-84e1-ae07c1f9bbf6"
      },
      "execution_count": null,
      "outputs": [
        {
          "output_type": "execute_result",
          "data": {
            "text/plain": [
              "1.0"
            ]
          },
          "metadata": {},
          "execution_count": 57
        }
      ]
    },
    {
      "cell_type": "code",
      "source": [
        "np.exp(1) # 오일러수가 반환된다."
      ],
      "metadata": {
        "colab": {
          "base_uri": "https://localhost:8080/"
        },
        "id": "VTyFOgwjuPM7",
        "outputId": "9d274a90-c082-4a3c-f98f-ebb832341071"
      },
      "execution_count": null,
      "outputs": [
        {
          "output_type": "execute_result",
          "data": {
            "text/plain": [
              "2.718281828459045"
            ]
          },
          "metadata": {},
          "execution_count": 58
        }
      ]
    },
    {
      "cell_type": "code",
      "source": [
        "np.exp(8) # 작은 수를 큰수로 반환환다."
      ],
      "metadata": {
        "colab": {
          "base_uri": "https://localhost:8080/"
        },
        "id": "dK7R_am1uXnJ",
        "outputId": "f956c13f-e9d5-44b2-d59e-65803cf84e68"
      },
      "execution_count": null,
      "outputs": [
        {
          "output_type": "execute_result",
          "data": {
            "text/plain": [
              "2980.9579870417283"
            ]
          },
          "metadata": {},
          "execution_count": 59
        }
      ]
    },
    {
      "cell_type": "markdown",
      "source": [
        "- 자연 로그 함수 : $y = \\log_e x$\n",
        "    - e(오일러의수)를 밑으로하는 로그함수\n",
        "    - x 에 0 들어가면 무한대 , 1 들어가면 0\n",
        "    - x 값이 클수록 더 작게 만들어주는 특징이 있다.\n",
        "    - x 값에 0 이하가 들어갈경우 무한대값이 나온다."
      ],
      "metadata": {
        "id": "64wzLpV4x3E_"
      }
    },
    {
      "cell_type": "markdown",
      "source": [
        "![Log_(2).jpg](data:image/jpeg;base64,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)"
      ],
      "metadata": {
        "id": "HXiRpzGuw-OI"
      }
    },
    {
      "cell_type": "code",
      "source": [
        "np.log([0,1])"
      ],
      "metadata": {
        "colab": {
          "base_uri": "https://localhost:8080/"
        },
        "id": "rkG658t-_fOb",
        "outputId": "11d9588a-9570-4d6b-a8db-852aa4dc2e6f"
      },
      "execution_count": null,
      "outputs": [
        {
          "output_type": "stream",
          "name": "stderr",
          "text": [
            "/usr/local/lib/python3.7/dist-packages/ipykernel_launcher.py:1: RuntimeWarning: divide by zero encountered in log\n",
            "  \"\"\"Entry point for launching an IPython kernel.\n"
          ]
        },
        {
          "output_type": "execute_result",
          "data": {
            "text/plain": [
              "array([-inf,   0.])"
            ]
          },
          "metadata": {},
          "execution_count": 60
        }
      ]
    },
    {
      "cell_type": "code",
      "source": [
        "np.log(100000000000000000)"
      ],
      "metadata": {
        "colab": {
          "base_uri": "https://localhost:8080/"
        },
        "id": "aKBX1WXcwE-D",
        "outputId": "8340956f-63f2-4677-be96-de4911ce8565"
      },
      "execution_count": null,
      "outputs": [
        {
          "output_type": "execute_result",
          "data": {
            "text/plain": [
              "39.14394658089878"
            ]
          },
          "metadata": {},
          "execution_count": 61
        }
      ]
    },
    {
      "cell_type": "markdown",
      "source": [
        "- 분위수 :\n",
        "    - 데이터의 크기 순서에 따른 위치값\n",
        "    - 이상치에 영향을 적게 받는다.\n",
        "    - 0.5를 줄경우 중앙값이 나온다."
      ],
      "metadata": {
        "id": "l1tS62L6tcLn"
      }
    },
    {
      "cell_type": "code",
      "source": [
        "arr = np.array([100,3,3,6,7,9,20,10,9])\n",
        "np.quantile(arr,0.5) , np.median(arr) , np.mean(arr)"
      ],
      "metadata": {
        "colab": {
          "base_uri": "https://localhost:8080/"
        },
        "id": "-5pTITROqm8R",
        "outputId": "06845fd8-5730-41fb-ab06-7df34747beb4"
      },
      "execution_count": null,
      "outputs": [
        {
          "output_type": "execute_result",
          "data": {
            "text/plain": [
              "(9.0, 9.0, 18.555555555555557)"
            ]
          },
          "metadata": {},
          "execution_count": 62
        }
      ]
    },
    {
      "cell_type": "markdown",
      "source": [
        "- 사분위수 구해보기\n",
        "    - 데이터를 4등분\n",
        "    - 데이터의 25%지점 50%지점 75%지점 구해보기"
      ],
      "metadata": {
        "id": "YGNmjtySucyF"
      }
    },
    {
      "cell_type": "code",
      "source": [
        "np.quantile(arr,[0,0.25,0.5,0.75,1]) # 0사분위수(최소값) , 1사분위수 , 2사분위수(중앙값) ,3사분위수, 4사분위수(최대값)"
      ],
      "metadata": {
        "colab": {
          "base_uri": "https://localhost:8080/"
        },
        "id": "7QCGyKnSub4V",
        "outputId": "c621ecf8-cf60-4fae-fbf1-089a2b95a318"
      },
      "execution_count": null,
      "outputs": [
        {
          "output_type": "execute_result",
          "data": {
            "text/plain": [
              "array([  3.,   6.,   9.,  10., 100.])"
            ]
          },
          "metadata": {},
          "execution_count": 63
        }
      ]
    },
    {
      "cell_type": "markdown",
      "source": [
        "# 배열 조건 연산"
      ],
      "metadata": {
        "id": "MpFrr_dA6X7_"
      }
    },
    {
      "cell_type": "code",
      "source": [
        "scores = np.array([80,90,100,70,40,90])\n",
        "scores"
      ],
      "metadata": {
        "id": "dNc9_mdy6e_f",
        "colab": {
          "base_uri": "https://localhost:8080/"
        },
        "outputId": "619d985f-9da7-46c5-a28d-a9ad14a64905"
      },
      "execution_count": null,
      "outputs": [
        {
          "output_type": "execute_result",
          "data": {
            "text/plain": [
              "array([ 80,  90, 100,  70,  40,  90])"
            ]
          },
          "metadata": {},
          "execution_count": 64
        }
      ]
    },
    {
      "cell_type": "code",
      "source": [
        "scores >= 80 # 80 이상인 요소는 True 아닐경우 False"
      ],
      "metadata": {
        "colab": {
          "base_uri": "https://localhost:8080/"
        },
        "id": "cIKq0SCr6e8n",
        "outputId": "bf87be3f-4310-40d1-d2b1-7522ade8df5f"
      },
      "execution_count": null,
      "outputs": [
        {
          "output_type": "execute_result",
          "data": {
            "text/plain": [
              "array([ True,  True,  True, False, False,  True])"
            ]
          },
          "metadata": {},
          "execution_count": 65
        }
      ]
    },
    {
      "cell_type": "code",
      "source": [
        "np.any(scores >= 100)  # 요소중에 조건에 참이 하나라도 있을 경우"
      ],
      "metadata": {
        "colab": {
          "base_uri": "https://localhost:8080/"
        },
        "id": "ipptjp6M6e5r",
        "outputId": "7d0d3671-f215-4000-eaef-4b545c465f4f"
      },
      "execution_count": null,
      "outputs": [
        {
          "output_type": "execute_result",
          "data": {
            "text/plain": [
              "True"
            ]
          },
          "metadata": {},
          "execution_count": 66
        }
      ]
    },
    {
      "cell_type": "code",
      "source": [
        "np.all(scores > 30)  # 모든요소가 조건에 맞을 경우만 true"
      ],
      "metadata": {
        "colab": {
          "base_uri": "https://localhost:8080/"
        },
        "id": "oEb61Lpm6e2n",
        "outputId": "00776a0b-150f-4ef2-c925-ea7e12d02112"
      },
      "execution_count": null,
      "outputs": [
        {
          "output_type": "execute_result",
          "data": {
            "text/plain": [
              "True"
            ]
          },
          "metadata": {},
          "execution_count": 67
        }
      ]
    },
    {
      "cell_type": "code",
      "source": [
        "np.all(scores > 50)"
      ],
      "metadata": {
        "colab": {
          "base_uri": "https://localhost:8080/"
        },
        "id": "QTuC6stpCA8g",
        "outputId": "21a3e9fe-10a0-4524-d92b-0e5bbc0207c6"
      },
      "execution_count": null,
      "outputs": [
        {
          "output_type": "execute_result",
          "data": {
            "text/plain": [
              "False"
            ]
          },
          "metadata": {},
          "execution_count": 68
        }
      ]
    },
    {
      "cell_type": "markdown",
      "source": [
        "- np.where\n",
        "    - 첫번째 인수에 조건이 들어간다.\n",
        "    - 두번째 인수에는 조건이 참일 경우의 값\n",
        "    - 세번째 인수에는 조건이 거짓일 경우의 값"
      ],
      "metadata": {
        "id": "V2lodGf8vWqh"
      }
    },
    {
      "cell_type": "code",
      "source": [
        "np.where(scores >= 80 , scores , 0)"
      ],
      "metadata": {
        "colab": {
          "base_uri": "https://localhost:8080/"
        },
        "id": "ntvNg20vWY-T",
        "outputId": "6f2befa4-a1b6-4ce9-c576-d98a3ec83fd4"
      },
      "execution_count": null,
      "outputs": [
        {
          "output_type": "execute_result",
          "data": {
            "text/plain": [
              "array([ 80,  90, 100,   0,   0,  90])"
            ]
          },
          "metadata": {},
          "execution_count": 69
        }
      ]
    },
    {
      "cell_type": "markdown",
      "source": [
        "- 무한대 값"
      ],
      "metadata": {
        "id": "9_PvXv1vDzuA"
      }
    },
    {
      "cell_type": "code",
      "source": [
        "np.inf"
      ],
      "metadata": {
        "colab": {
          "base_uri": "https://localhost:8080/"
        },
        "id": "L2sburWdDzOa",
        "outputId": "3da571f1-d6bf-46e6-8718-f31f9d8d75ce"
      },
      "execution_count": null,
      "outputs": [
        {
          "output_type": "execute_result",
          "data": {
            "text/plain": [
              "inf"
            ]
          },
          "metadata": {},
          "execution_count": 70
        }
      ]
    },
    {
      "cell_type": "markdown",
      "source": [
        "- nan 값(결측치)"
      ],
      "metadata": {
        "id": "TvnYfAccD3dP"
      }
    },
    {
      "cell_type": "code",
      "source": [
        "np.nan"
      ],
      "metadata": {
        "colab": {
          "base_uri": "https://localhost:8080/"
        },
        "id": "jAU4-9ywD2nn",
        "outputId": "096112a9-1c5f-4c7a-a37a-b1a8310b223b"
      },
      "execution_count": null,
      "outputs": [
        {
          "output_type": "execute_result",
          "data": {
            "text/plain": [
              "nan"
            ]
          },
          "metadata": {},
          "execution_count": 71
        }
      ]
    },
    {
      "cell_type": "markdown",
      "source": [
        "- 데이터 전처리 과정에서 다음과 같이 무한대 값과 nan 값이 생겼다고 가정해보자"
      ],
      "metadata": {
        "id": "FWbNM4JUzcAJ"
      }
    },
    {
      "cell_type": "code",
      "source": [
        "arr = np.array([np.inf , np.nan , 4, 5, 7, 8.1])\n",
        "arr"
      ],
      "metadata": {
        "colab": {
          "base_uri": "https://localhost:8080/"
        },
        "id": "mMw9nhGUCXkx",
        "outputId": "3c8674b1-0de1-4ec0-99d4-b933639e3fe6"
      },
      "execution_count": null,
      "outputs": [
        {
          "output_type": "execute_result",
          "data": {
            "text/plain": [
              "array([inf, nan, 4. , 5. , 7. , 8.1])"
            ]
          },
          "metadata": {},
          "execution_count": 72
        }
      ]
    },
    {
      "cell_type": "code",
      "source": [
        "np.isinf(arr) # 무한대값 찾기"
      ],
      "metadata": {
        "colab": {
          "base_uri": "https://localhost:8080/"
        },
        "id": "l9gQOBkLCXiF",
        "outputId": "207f1b12-b1fc-45f3-d627-06fdbcd24a22"
      },
      "execution_count": null,
      "outputs": [
        {
          "output_type": "execute_result",
          "data": {
            "text/plain": [
              "array([ True, False, False, False, False, False])"
            ]
          },
          "metadata": {},
          "execution_count": 73
        }
      ]
    },
    {
      "cell_type": "code",
      "source": [
        "np.isnan(arr) # NaN 찾기"
      ],
      "metadata": {
        "colab": {
          "base_uri": "https://localhost:8080/"
        },
        "id": "8Y4vPh16CXfA",
        "outputId": "d51484ff-e62e-44d7-bf3d-83825b15b823"
      },
      "execution_count": null,
      "outputs": [
        {
          "output_type": "execute_result",
          "data": {
            "text/plain": [
              "array([False,  True, False, False, False, False])"
            ]
          },
          "metadata": {},
          "execution_count": 74
        }
      ]
    },
    {
      "cell_type": "code",
      "source": [
        "np.isfinite(arr) # 셀수있는 정상데이터 찾기"
      ],
      "metadata": {
        "colab": {
          "base_uri": "https://localhost:8080/"
        },
        "id": "-9h61jHRCXcJ",
        "outputId": "7fc2d049-9342-4e15-8954-3dcb4fa3df95"
      },
      "execution_count": null,
      "outputs": [
        {
          "output_type": "execute_result",
          "data": {
            "text/plain": [
              "array([False, False,  True,  True,  True,  True])"
            ]
          },
          "metadata": {},
          "execution_count": 75
        }
      ]
    },
    {
      "cell_type": "code",
      "source": [
        "arr[np.isfinite(arr) == False] = 0 # 무한대값과 nan 값 0으로 초기화하기\n",
        "arr"
      ],
      "metadata": {
        "colab": {
          "base_uri": "https://localhost:8080/"
        },
        "id": "RetrZds8XQPr",
        "outputId": "04c917ce-de57-4239-c4c8-4708269f6a86"
      },
      "execution_count": null,
      "outputs": [
        {
          "output_type": "execute_result",
          "data": {
            "text/plain": [
              "array([0. , 0. , 4. , 5. , 7. , 8.1])"
            ]
          },
          "metadata": {},
          "execution_count": 76
        }
      ]
    },
    {
      "cell_type": "markdown",
      "source": [
        "# numpy random"
      ],
      "metadata": {
        "id": "Kd93E0OnE_c2"
      }
    },
    {
      "cell_type": "markdown",
      "source": [
        "- rand 0 과 1사이 랜덤값 반환"
      ],
      "metadata": {
        "id": "IazA2SxcFOK2"
      }
    },
    {
      "cell_type": "code",
      "source": [
        "np.random.rand()"
      ],
      "metadata": {
        "colab": {
          "base_uri": "https://localhost:8080/"
        },
        "id": "UB72043TE_K2",
        "outputId": "f3204c39-ba9d-45fd-cc22-47d6712e4291"
      },
      "execution_count": null,
      "outputs": [
        {
          "output_type": "execute_result",
          "data": {
            "text/plain": [
              "0.9003369072556155"
            ]
          },
          "metadata": {},
          "execution_count": 83
        }
      ]
    },
    {
      "cell_type": "code",
      "source": [
        "np.random.rand(3) # 크기 지정하기"
      ],
      "metadata": {
        "colab": {
          "base_uri": "https://localhost:8080/"
        },
        "id": "utjVHhUrFWbu",
        "outputId": "ea990b9b-92cb-429a-f42c-ea01d0431893"
      },
      "execution_count": null,
      "outputs": [
        {
          "output_type": "execute_result",
          "data": {
            "text/plain": [
              "array([0.08698874, 0.7589555 , 0.60725334])"
            ]
          },
          "metadata": {},
          "execution_count": 86
        }
      ]
    },
    {
      "cell_type": "code",
      "source": [
        "np.random.rand(3,4)"
      ],
      "metadata": {
        "colab": {
          "base_uri": "https://localhost:8080/"
        },
        "id": "Ql9dlkCnFZWe",
        "outputId": "3edb433e-fb16-4ec4-e654-79f09aa23ce1"
      },
      "execution_count": null,
      "outputs": [
        {
          "output_type": "execute_result",
          "data": {
            "text/plain": [
              "array([[0.03970715, 0.87144542, 0.26281189, 0.86761638],\n",
              "       [0.3461437 , 0.3403859 , 0.19460446, 0.19123175],\n",
              "       [0.43794266, 0.41633547, 0.12977039, 0.48781431]])"
            ]
          },
          "metadata": {},
          "execution_count": 89
        }
      ]
    },
    {
      "cell_type": "markdown",
      "source": [
        "- randn\n",
        "    - 평균이 0 이고 분산이 1인 정규분포의 랜덤값들을 반환"
      ],
      "metadata": {
        "id": "mv1X8nSrF0Cj"
      }
    },
    {
      "cell_type": "code",
      "source": [
        "arr = np.random.randn(10000)\n",
        "arr"
      ],
      "metadata": {
        "colab": {
          "base_uri": "https://localhost:8080/"
        },
        "id": "YyTSEVGbFlDl",
        "outputId": "b2e6b160-7642-4573-f61c-b1dde2b4a248"
      },
      "execution_count": null,
      "outputs": [
        {
          "output_type": "execute_result",
          "data": {
            "text/plain": [
              "array([ 0.81107137,  0.7270694 ,  0.60526414, ..., -0.02626906,\n",
              "       -0.42480228, -1.07701032])"
            ]
          },
          "metadata": {},
          "execution_count": 94
        }
      ]
    },
    {
      "cell_type": "code",
      "source": [
        "arr.mean() , arr.var()"
      ],
      "metadata": {
        "colab": {
          "base_uri": "https://localhost:8080/"
        },
        "id": "mcNsGlIoGHx1",
        "outputId": "2ee45bd7-6be2-459f-9e14-d8b2aa22d201"
      },
      "execution_count": null,
      "outputs": [
        {
          "output_type": "execute_result",
          "data": {
            "text/plain": [
              "(0.004480258957545551, 0.9905065133878524)"
            ]
          },
          "metadata": {},
          "execution_count": 95
        }
      ]
    },
    {
      "cell_type": "markdown",
      "source": [
        "- randint\n",
        "    - start ~ end-1 의  랜덤한 정수를 반환\n",
        "    - 세번째 인자는 크기 지정"
      ],
      "metadata": {
        "id": "Oh9GpxKEHAmd"
      }
    },
    {
      "cell_type": "code",
      "source": [
        "arr = np.random.randint(50, 100)\n",
        "arr"
      ],
      "metadata": {
        "colab": {
          "base_uri": "https://localhost:8080/"
        },
        "id": "SWGeileSHRCM",
        "outputId": "f62aae25-ece5-4b08-a1dc-b64dc574be22"
      },
      "execution_count": null,
      "outputs": [
        {
          "output_type": "execute_result",
          "data": {
            "text/plain": [
              "90"
            ]
          },
          "metadata": {},
          "execution_count": 100
        }
      ]
    },
    {
      "cell_type": "code",
      "source": [
        "arr = np.random.randint(50, 100, (4, 3))\n",
        "arr"
      ],
      "metadata": {
        "colab": {
          "base_uri": "https://localhost:8080/"
        },
        "id": "Lph6nj3sGtie",
        "outputId": "7f39c9a4-1cc7-4b73-f175-0e6dbd85834d"
      },
      "execution_count": null,
      "outputs": [
        {
          "output_type": "execute_result",
          "data": {
            "text/plain": [
              "array([[83, 70, 89],\n",
              "       [77, 72, 62],\n",
              "       [64, 71, 62],\n",
              "       [75, 71, 84]])"
            ]
          },
          "metadata": {},
          "execution_count": 103
        }
      ]
    },
    {
      "cell_type": "markdown",
      "source": [
        "- shuffle 배열을 섞는다.\n",
        "    - 반환 값이 없고 배열 자체를 섞는다."
      ],
      "metadata": {
        "id": "v2IkUlStItS7"
      }
    },
    {
      "cell_type": "code",
      "source": [
        "arr = np.arange(1,7)\n",
        "np.random.shuffle(arr)\n",
        "arr"
      ],
      "metadata": {
        "colab": {
          "base_uri": "https://localhost:8080/"
        },
        "id": "EzBfMtdrH8kG",
        "outputId": "5940463f-d888-4242-f877-256b9f90a6ad"
      },
      "execution_count": null,
      "outputs": [
        {
          "output_type": "execute_result",
          "data": {
            "text/plain": [
              "array([1, 2, 6, 4, 3, 5])"
            ]
          },
          "metadata": {},
          "execution_count": 107
        }
      ]
    },
    {
      "cell_type": "markdown",
      "source": [
        "- choice\n",
        "    - 지정한 개수만큼 랜덤하게 선택해서 추출"
      ],
      "metadata": {
        "id": "MbJIhfUFJjxP"
      }
    },
    {
      "cell_type": "code",
      "source": [
        "np.random.choice(5,3) # 0~4의 정수에서 랜덤하게 3개 선택(같은 값이 나올수 있음)"
      ],
      "metadata": {
        "colab": {
          "base_uri": "https://localhost:8080/"
        },
        "id": "y3q3Xu-AJBKl",
        "outputId": "d8372d03-e97c-4c17-cf00-b1af0798d097"
      },
      "execution_count": null,
      "outputs": [
        {
          "output_type": "execute_result",
          "data": {
            "text/plain": [
              "array([0, 0, 3])"
            ]
          },
          "metadata": {},
          "execution_count": 109
        }
      ]
    },
    {
      "cell_type": "code",
      "source": [
        "np.random.choice(5,3,replace=False) # 같은 값을 랜덤하게 선택 안되게 하기"
      ],
      "metadata": {
        "colab": {
          "base_uri": "https://localhost:8080/"
        },
        "id": "ymSk3eTuJv07",
        "outputId": "bbb8d023-0324-453b-fcd8-8388cf1049c5"
      },
      "execution_count": null,
      "outputs": [
        {
          "output_type": "execute_result",
          "data": {
            "text/plain": [
              "array([0, 2, 1])"
            ]
          },
          "metadata": {},
          "execution_count": 114
        }
      ]
    },
    {
      "cell_type": "code",
      "source": [
        "np.random.choice(5,3,p=[0.3,0.3,0.2,0.1,0.1]) # 확률도 줄수있다.p 인수의 합이 1이 되어야 한다."
      ],
      "metadata": {
        "colab": {
          "base_uri": "https://localhost:8080/"
        },
        "id": "SYKDdeIHJ66K",
        "outputId": "92d1d057-2a08-4278-f601-a9c6cf9567bf"
      },
      "execution_count": null,
      "outputs": [
        {
          "output_type": "execute_result",
          "data": {
            "text/plain": [
              "array([3, 3, 4])"
            ]
          },
          "metadata": {},
          "execution_count": 118
        }
      ]
    },
    {
      "cell_type": "code",
      "source": [
        "arr = np.array([10,20,30,40,50,60])\n",
        "np.random.choice(arr,3) # 배열도 첫번째 인수로 넣을수 있음"
      ],
      "metadata": {
        "colab": {
          "base_uri": "https://localhost:8080/"
        },
        "id": "vn7ygdCEKgRZ",
        "outputId": "1cfe364d-d970-4491-e1e5-b69e32d40c78"
      },
      "execution_count": null,
      "outputs": [
        {
          "output_type": "execute_result",
          "data": {
            "text/plain": [
              "array([30, 40, 30])"
            ]
          },
          "metadata": {},
          "execution_count": 122
        }
      ]
    },
    {
      "cell_type": "markdown",
      "source": [
        "#  `axis` 이해하기"
      ],
      "metadata": {
        "id": "fNM8o-H9Ia5X"
      }
    },
    {
      "cell_type": "code",
      "source": [
        "arr = np.random.randint(50, 91, (4, 3))\n",
        "arr"
      ],
      "metadata": {
        "colab": {
          "base_uri": "https://localhost:8080/"
        },
        "id": "oXmzFCShIcLF",
        "outputId": "103148b1-bdfc-446b-9b75-4723b654ef39"
      },
      "execution_count": null,
      "outputs": [
        {
          "output_type": "execute_result",
          "data": {
            "text/plain": [
              "array([[51, 54, 63],\n",
              "       [81, 64, 66],\n",
              "       [71, 85, 62],\n",
              "       [53, 84, 59]])"
            ]
          },
          "metadata": {},
          "execution_count": 123
        }
      ]
    },
    {
      "cell_type": "code",
      "source": [
        "arr.sum(axis=0) # 행방향일 경우 열에 대한 집계가 이루어 진다."
      ],
      "metadata": {
        "colab": {
          "base_uri": "https://localhost:8080/"
        },
        "id": "K2uIKSqTIb-1",
        "outputId": "354d03c1-f5ed-46f7-a42a-188638981d42"
      },
      "execution_count": null,
      "outputs": [
        {
          "output_type": "execute_result",
          "data": {
            "text/plain": [
              "array([256, 287, 250])"
            ]
          },
          "metadata": {},
          "execution_count": 124
        }
      ]
    },
    {
      "cell_type": "code",
      "source": [
        "arr.sum(axis=1) # 열방향일 경우 행에 대한 집계가 이루어 진다."
      ],
      "metadata": {
        "colab": {
          "base_uri": "https://localhost:8080/"
        },
        "id": "3gUAnLWPIb7t",
        "outputId": "3ece4f5e-bab6-4c79-a1fc-c8f3898a498b"
      },
      "execution_count": null,
      "outputs": [
        {
          "output_type": "execute_result",
          "data": {
            "text/plain": [
              "array([168, 211, 218, 196])"
            ]
          },
          "metadata": {},
          "execution_count": 125
        }
      ]
    },
    {
      "cell_type": "markdown",
      "source": [
        "# 배열 차원 변경"
      ],
      "metadata": {
        "id": "nDgWaEUNLbjy"
      }
    },
    {
      "cell_type": "code",
      "source": [
        "arr = np.arange(6)\n",
        "arr"
      ],
      "metadata": {
        "colab": {
          "base_uri": "https://localhost:8080/"
        },
        "id": "eC-vn4M6Lfeu",
        "outputId": "6d432489-31b2-4df7-c581-8889c2e2cb6a"
      },
      "execution_count": null,
      "outputs": [
        {
          "output_type": "execute_result",
          "data": {
            "text/plain": [
              "array([0, 1, 2, 3, 4, 5])"
            ]
          },
          "metadata": {},
          "execution_count": 126
        }
      ]
    },
    {
      "cell_type": "code",
      "source": [
        "arr2 = np.reshape(arr, (2,3) )\n",
        "arr2"
      ],
      "metadata": {
        "colab": {
          "base_uri": "https://localhost:8080/"
        },
        "id": "7QrZUxLTcRaC",
        "outputId": "0c33c186-931b-4beb-f99d-6acc04aea058"
      },
      "execution_count": null,
      "outputs": [
        {
          "output_type": "execute_result",
          "data": {
            "text/plain": [
              "array([[0, 1, 2],\n",
              "       [3, 4, 5]])"
            ]
          },
          "metadata": {},
          "execution_count": 127
        }
      ]
    },
    {
      "cell_type": "code",
      "source": [
        "np.transpose(arr2) # 전치!! 열이 행이 되고 행은 열이 된다."
      ],
      "metadata": {
        "colab": {
          "base_uri": "https://localhost:8080/"
        },
        "id": "bk9A42FJ0GQ_",
        "outputId": "251818e2-f54d-4a5f-93e9-5f17f67ed045"
      },
      "execution_count": null,
      "outputs": [
        {
          "output_type": "execute_result",
          "data": {
            "text/plain": [
              "array([[0, 3],\n",
              "       [1, 4],\n",
              "       [2, 5]])"
            ]
          },
          "metadata": {},
          "execution_count": 128
        }
      ]
    },
    {
      "cell_type": "code",
      "source": [
        "arr2.T"
      ],
      "metadata": {
        "colab": {
          "base_uri": "https://localhost:8080/"
        },
        "id": "_bN5Wry2cRXM",
        "outputId": "fc9dc389-7c15-4486-d3a5-622b055d209b"
      },
      "execution_count": null,
      "outputs": [
        {
          "output_type": "execute_result",
          "data": {
            "text/plain": [
              "array([[0, 3],\n",
              "       [1, 4],\n",
              "       [2, 5]])"
            ]
          },
          "metadata": {},
          "execution_count": 129
        }
      ]
    },
    {
      "cell_type": "markdown",
      "source": [
        "```\n",
        "- reshape 와 transpose 다르다.\n",
        "- transpose 서로의 차원을 맞바꿈\n",
        "- reshape 데이터 요소의 순서대로 재배치하면 차원을 변경\n",
        "```"
      ],
      "metadata": {
        "id": "InqaH5ZD0gAW"
      }
    },
    {
      "cell_type": "code",
      "source": [
        "arr2"
      ],
      "metadata": {
        "colab": {
          "base_uri": "https://localhost:8080/"
        },
        "id": "MhL_Y4MIWuxh",
        "outputId": "122d4e90-4229-4650-c21f-e41457fb6439"
      },
      "execution_count": null,
      "outputs": [
        {
          "output_type": "execute_result",
          "data": {
            "text/plain": [
              "array([[0, 1, 2],\n",
              "       [3, 4, 5]])"
            ]
          },
          "metadata": {},
          "execution_count": 131
        }
      ]
    },
    {
      "cell_type": "code",
      "source": [
        "arr2.flatten() # 1차원으로 변경"
      ],
      "metadata": {
        "colab": {
          "base_uri": "https://localhost:8080/"
        },
        "id": "RxnPdUpIZAdA",
        "outputId": "3c707f6b-26db-4390-b0fc-27519b737a06"
      },
      "execution_count": null,
      "outputs": [
        {
          "output_type": "execute_result",
          "data": {
            "text/plain": [
              "array([0, 1, 2, 3, 4, 5])"
            ]
          },
          "metadata": {},
          "execution_count": 132
        }
      ]
    },
    {
      "cell_type": "code",
      "source": [
        "arr.reshape(-1) # \breshape 를 이용한 방법"
      ],
      "metadata": {
        "colab": {
          "base_uri": "https://localhost:8080/"
        },
        "id": "_Mc905dSZHgr",
        "outputId": "e1ce3629-db53-49e7-92e6-ee5ae59a336c"
      },
      "execution_count": null,
      "outputs": [
        {
          "output_type": "execute_result",
          "data": {
            "text/plain": [
              "array([0, 1, 2, 3, 4, 5])"
            ]
          },
          "metadata": {},
          "execution_count": 133
        }
      ]
    },
    {
      "cell_type": "markdown",
      "source": [
        "# numpy 배열 합치기"
      ],
      "metadata": {
        "id": "wI6rfk3zA8U1"
      }
    },
    {
      "cell_type": "markdown",
      "source": [
        "- concatenate 함수\n",
        "    - axis 방향으로 배열을 합칠수 있다."
      ],
      "metadata": {
        "id": "vp-KZodeBTjs"
      }
    },
    {
      "cell_type": "code",
      "source": [
        "arr1 = np.array([\n",
        "    [1,2],\n",
        "    [3,4],\n",
        "    [5,6]\n",
        "])\n",
        "arr2 = np.array([\n",
        "    [10,20]\n",
        "])\n",
        "np.concatenate((arr1,arr2),axis=0)"
      ],
      "metadata": {
        "colab": {
          "base_uri": "https://localhost:8080/"
        },
        "id": "eTjPjO1RBALx",
        "outputId": "8b570306-0af9-4d17-e077-b6ca05a90ac2"
      },
      "execution_count": null,
      "outputs": [
        {
          "output_type": "execute_result",
          "data": {
            "text/plain": [
              "array([[ 1,  2],\n",
              "       [ 3,  4],\n",
              "       [ 5,  6],\n",
              "       [10, 20]])"
            ]
          },
          "metadata": {},
          "execution_count": 134
        }
      ]
    },
    {
      "cell_type": "code",
      "source": [
        "arr2 = np.array([\n",
        "    [10],\n",
        "    [20],\n",
        "    [30]\n",
        "])\n",
        "np.concatenate((arr1,arr2),axis=1)"
      ],
      "metadata": {
        "colab": {
          "base_uri": "https://localhost:8080/"
        },
        "id": "Bq0GP8iRBAFO",
        "outputId": "1c479b61-ec15-4b7c-fdd6-ca5d3822243c"
      },
      "execution_count": null,
      "outputs": [
        {
          "output_type": "execute_result",
          "data": {
            "text/plain": [
              "array([[ 1,  2, 10],\n",
              "       [ 3,  4, 20],\n",
              "       [ 5,  6, 30]])"
            ]
          },
          "metadata": {},
          "execution_count": 135
        }
      ]
    }
  ]
}