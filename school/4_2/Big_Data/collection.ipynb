{
  "nbformat": 4,
  "nbformat_minor": 0,
  "metadata": {
    "colab": {
      "provenance": []
    },
    "kernelspec": {
      "name": "python3",
      "display_name": "Python 3"
    },
    "language_info": {
      "name": "python"
    }
  },
  "cells": [
    {
      "cell_type": "markdown",
      "source": [
        "# 컬렉션 자료형(Collection data type)\n",
        "- 여러가지 요소를 하나로 묶어서 사용하는 데이터 타입\n",
        "    - 문법적인 요소들 빼고는 모두 다 담을 수 있다.\n",
        "    - list, set, dict, tuple"
      ],
      "metadata": {
        "id": "NA2yHg_6C8E1"
      }
    },
    {
      "cell_type": "markdown",
      "source": [
        "# `list`\n",
        "- 인덱싱(indexing)\n",
        "    - 데이터의 순번을 이용하여 특정 값을 선택할수 있다.\n",
        "- 슬라이싱(Slicing)\n",
        "    - 데이터의 특정 범위를 선택할 수 있다.\n",
        "- Mutable 자료형\n",
        "    - 변경 가능하다.\n",
        "- 중복 데이터 저장이 가능하다.\n",
        "- `[]`를 이용해서 만들 수 있다.\n",
        "\n"
      ],
      "metadata": {
        "id": "jeLuv2w7Bk6n"
      }
    },
    {
      "cell_type": "code",
      "source": [
        "lst = []\n",
        "lst"
      ],
      "metadata": {
        "colab": {
          "base_uri": "https://localhost:8080/"
        },
        "id": "dCuUxj-rkAmN",
        "outputId": "f37598ea-3fbc-4a7e-88dd-a58bb7a4b7b4"
      },
      "execution_count": null,
      "outputs": [
        {
          "output_type": "execute_result",
          "data": {
            "text/plain": [
              "[]"
            ]
          },
          "metadata": {},
          "execution_count": 1
        }
      ]
    },
    {
      "cell_type": "code",
      "source": [
        "lst = [1, 2, 3, \"four\", None, 7.0, True]\n",
        "lst"
      ],
      "metadata": {
        "colab": {
          "base_uri": "https://localhost:8080/"
        },
        "id": "4xPQIinCA1gB",
        "outputId": "0a9c3c4d-68b5-402b-9057-5f5ab6e8064c"
      },
      "execution_count": null,
      "outputs": [
        {
          "output_type": "execute_result",
          "data": {
            "text/plain": [
              "[1, 2, 3, 'four', None, 7.0, True]"
            ]
          },
          "metadata": {},
          "execution_count": 2
        }
      ]
    },
    {
      "cell_type": "code",
      "source": [
        "type(lst)"
      ],
      "metadata": {
        "colab": {
          "base_uri": "https://localhost:8080/"
        },
        "id": "Us0rT-sxseXI",
        "outputId": "b6bbad55-9418-4a15-b83b-0f4aac367c1e"
      },
      "execution_count": null,
      "outputs": [
        {
          "output_type": "execute_result",
          "data": {
            "text/plain": [
              "list"
            ]
          },
          "metadata": {},
          "execution_count": 3
        }
      ]
    },
    {
      "cell_type": "code",
      "source": [
        "len(lst)"
      ],
      "metadata": {
        "colab": {
          "base_uri": "https://localhost:8080/"
        },
        "id": "mvsuMmvgeEhy",
        "outputId": "84227e15-fe5f-4e5a-8bb7-a80c515bd66f"
      },
      "execution_count": null,
      "outputs": [
        {
          "output_type": "execute_result",
          "data": {
            "text/plain": [
              "7"
            ]
          },
          "metadata": {},
          "execution_count": 4
        }
      ]
    },
    {
      "cell_type": "markdown",
      "source": [
        "## 인덱싱(indexing)\n",
        "- 순번을 이용하여 데이터의 값을 선택할수 있다.\n",
        "- 파이썬의 인덱스는 두 종류가 있다.\n",
        "- 양수 인덱스\n",
        "    - 0 부터 시작한다.\n",
        "    - 왼쪽에서 오른쪽으로 1씩 증가\n",
        "- 음수 인덱스\n",
        "    - -1 부터 시작한다.\n",
        "    - 오른쪽에서 왼쪽으로 1씩 감소\n",
        "- 인덱스는 무조건 정수이다."
      ],
      "metadata": {
        "id": "LVTVS8maHjzJ"
      }
    },
    {
      "cell_type": "code",
      "source": [
        "lst"
      ],
      "metadata": {
        "colab": {
          "base_uri": "https://localhost:8080/"
        },
        "id": "DNpVLkJus425",
        "outputId": "3af78339-4789-474c-814a-e968429f8692"
      },
      "execution_count": null,
      "outputs": [
        {
          "output_type": "execute_result",
          "data": {
            "text/plain": [
              "[1, 2, 3, 'four', None, 7.0, True]"
            ]
          },
          "metadata": {},
          "execution_count": 5
        }
      ]
    },
    {
      "cell_type": "code",
      "source": [
        "print(lst[0])\n",
        "print(lst[4])"
      ],
      "metadata": {
        "colab": {
          "base_uri": "https://localhost:8080/"
        },
        "id": "ixJhIfAgHjbS",
        "outputId": "11823303-09a0-4b9f-8705-a05aa8936dfb"
      },
      "execution_count": null,
      "outputs": [
        {
          "output_type": "stream",
          "name": "stdout",
          "text": [
            "1\n",
            "None\n"
          ]
        }
      ]
    },
    {
      "cell_type": "code",
      "source": [
        "print(lst[-1])\n",
        "print(lst[-3])"
      ],
      "metadata": {
        "colab": {
          "base_uri": "https://localhost:8080/"
        },
        "id": "iRS10PO3k-DF",
        "outputId": "ff079f82-c3a5-420d-a901-e3ba7ecb65ed"
      },
      "execution_count": null,
      "outputs": [
        {
          "output_type": "stream",
          "name": "stdout",
          "text": [
            "True\n",
            "None\n"
          ]
        }
      ]
    },
    {
      "cell_type": "markdown",
      "source": [
        "## 슬라이싱(Slicing)\n",
        "- 인덱스를 사용해서 데이터의 특정 범위를 선택할수 있다.\n",
        "- `[start : end : step]`\n",
        "    - `start` ~ `end-1` 부분을 `step`만큼 건너 뛰면서 잘라낸다.\n",
        "    - `start, end, step`은 생략이 가능하다.\n",
        "    - `start`를 생략하면 자동으로 0이 들어간다.\n",
        "    - `end`를 생략하면 자동으로 데이터의 길이가 들어간다.\n",
        "    - 지정한 범위에서 `step`만큼 건너 뛰면서 슬라이싱\n",
        "    - `step`을 생략하면 기본적으로 1이 주어진다.\n"
      ],
      "metadata": {
        "id": "4_HGTAlyKAfv"
      }
    },
    {
      "cell_type": "code",
      "source": [
        "lst = [\"a\",\"b\",\"c\",\"d\",\"e\",\"f\",\"g\"]\n",
        "lst"
      ],
      "metadata": {
        "colab": {
          "base_uri": "https://localhost:8080/"
        },
        "id": "hMMrkBlyJpyi",
        "outputId": "d0e6b04f-5290-43ad-a7f2-fda8c9a650c8"
      },
      "execution_count": null,
      "outputs": [
        {
          "output_type": "execute_result",
          "data": {
            "text/plain": [
              "['a', 'b', 'c', 'd', 'e', 'f', 'g']"
            ]
          },
          "metadata": {},
          "execution_count": 8
        }
      ]
    },
    {
      "cell_type": "code",
      "source": [
        "lst[0:3]"
      ],
      "metadata": {
        "colab": {
          "base_uri": "https://localhost:8080/"
        },
        "id": "J1T3QRtiJpuh",
        "outputId": "b627114c-1746-4f38-adce-f6be99fe50d8"
      },
      "execution_count": null,
      "outputs": [
        {
          "output_type": "execute_result",
          "data": {
            "text/plain": [
              "['a', 'b', 'c']"
            ]
          },
          "metadata": {},
          "execution_count": 9
        }
      ]
    },
    {
      "cell_type": "code",
      "source": [
        "lst[-4:-1]"
      ],
      "metadata": {
        "colab": {
          "base_uri": "https://localhost:8080/"
        },
        "id": "5BT_9eT2l3q0",
        "outputId": "7866817f-64ae-411c-eaf5-4bd7bc383035"
      },
      "execution_count": null,
      "outputs": [
        {
          "output_type": "execute_result",
          "data": {
            "text/plain": [
              "['d', 'e', 'f']"
            ]
          },
          "metadata": {},
          "execution_count": 10
        }
      ]
    },
    {
      "cell_type": "code",
      "source": [
        "lst[:]"
      ],
      "metadata": {
        "colab": {
          "base_uri": "https://localhost:8080/"
        },
        "id": "oF1t0bGamc67",
        "outputId": "7603b214-36a0-4ae0-db5b-cc918f59a076"
      },
      "execution_count": null,
      "outputs": [
        {
          "output_type": "execute_result",
          "data": {
            "text/plain": [
              "['a', 'b', 'c', 'd', 'e', 'f', 'g']"
            ]
          },
          "metadata": {},
          "execution_count": 11
        }
      ]
    },
    {
      "cell_type": "code",
      "source": [
        "lst[0:len(lst)]"
      ],
      "metadata": {
        "colab": {
          "base_uri": "https://localhost:8080/"
        },
        "id": "HoDbCN-MnEcT",
        "outputId": "55526ab9-0c6d-46b5-f754-35c661740173"
      },
      "execution_count": null,
      "outputs": [
        {
          "output_type": "execute_result",
          "data": {
            "text/plain": [
              "['a', 'b', 'c', 'd', 'e', 'f', 'g']"
            ]
          },
          "metadata": {},
          "execution_count": 12
        }
      ]
    },
    {
      "cell_type": "code",
      "source": [
        "lst[3:]"
      ],
      "metadata": {
        "colab": {
          "base_uri": "https://localhost:8080/"
        },
        "id": "i87Rfm4mJpo_",
        "outputId": "b4a4661f-56cd-4005-d528-c477a8980418"
      },
      "execution_count": null,
      "outputs": [
        {
          "output_type": "execute_result",
          "data": {
            "text/plain": [
              "['d', 'e', 'f', 'g']"
            ]
          },
          "metadata": {},
          "execution_count": 13
        }
      ]
    },
    {
      "cell_type": "code",
      "source": [
        "lst[:5]"
      ],
      "metadata": {
        "colab": {
          "base_uri": "https://localhost:8080/"
        },
        "id": "8cBBQXgXA1Xx",
        "outputId": "d937b2bf-2b4f-427a-f530-ae985e82da97"
      },
      "execution_count": null,
      "outputs": [
        {
          "output_type": "execute_result",
          "data": {
            "text/plain": [
              "['a', 'b', 'c', 'd', 'e']"
            ]
          },
          "metadata": {},
          "execution_count": 14
        }
      ]
    },
    {
      "cell_type": "code",
      "source": [
        "lst[::]"
      ],
      "metadata": {
        "colab": {
          "base_uri": "https://localhost:8080/"
        },
        "id": "-YzAWXDVPfIz",
        "outputId": "8c11e55b-fc4b-438f-d87b-f6480cea6f5c"
      },
      "execution_count": null,
      "outputs": [
        {
          "output_type": "execute_result",
          "data": {
            "text/plain": [
              "['a', 'b', 'c', 'd', 'e', 'f', 'g']"
            ]
          },
          "metadata": {},
          "execution_count": 15
        }
      ]
    },
    {
      "cell_type": "code",
      "source": [
        "lst[0:len(lst):1]"
      ],
      "metadata": {
        "colab": {
          "base_uri": "https://localhost:8080/"
        },
        "id": "HA-3zvZun-Jy",
        "outputId": "2207074c-b2c3-4a61-d8b3-ac6ec3fd9ae9"
      },
      "execution_count": null,
      "outputs": [
        {
          "output_type": "execute_result",
          "data": {
            "text/plain": [
              "['a', 'b', 'c', 'd', 'e', 'f', 'g']"
            ]
          },
          "metadata": {},
          "execution_count": 16
        }
      ]
    },
    {
      "cell_type": "code",
      "source": [
        "lst[::2]"
      ],
      "metadata": {
        "colab": {
          "base_uri": "https://localhost:8080/"
        },
        "id": "lLFtqb5Lxye2",
        "outputId": "5f5083fe-c590-4f13-bdb6-5b3992750429"
      },
      "execution_count": null,
      "outputs": [
        {
          "output_type": "execute_result",
          "data": {
            "text/plain": [
              "['a', 'c', 'e', 'g']"
            ]
          },
          "metadata": {},
          "execution_count": 17
        }
      ]
    },
    {
      "cell_type": "markdown",
      "source": [
        "- `step` 부분에 부호(양수, 음수)를 이용해서 방향 설정도 가능\n",
        "  - 양수 : 정방향(왼쪽에서 오른쪽)\n",
        "  - 음수 : 역방향(오른쪽에서 왼쪽)"
      ],
      "metadata": {
        "id": "esYs05dzoavq"
      }
    },
    {
      "cell_type": "code",
      "source": [
        "lst"
      ],
      "metadata": {
        "colab": {
          "base_uri": "https://localhost:8080/"
        },
        "id": "6ujwkGdUohI0",
        "outputId": "95164ef4-3765-4a3e-f17c-1019fd14fe2b"
      },
      "execution_count": null,
      "outputs": [
        {
          "output_type": "execute_result",
          "data": {
            "text/plain": [
              "['a', 'b', 'c', 'd', 'e', 'f', 'g']"
            ]
          },
          "metadata": {},
          "execution_count": 18
        }
      ]
    },
    {
      "cell_type": "code",
      "source": [
        "lst[::-1]"
      ],
      "metadata": {
        "colab": {
          "base_uri": "https://localhost:8080/"
        },
        "id": "q2ofK96Ox8HW",
        "outputId": "b07b82a0-efd7-4bb3-ab06-89447e7894d3"
      },
      "execution_count": null,
      "outputs": [
        {
          "output_type": "execute_result",
          "data": {
            "text/plain": [
              "['g', 'f', 'e', 'd', 'c', 'b', 'a']"
            ]
          },
          "metadata": {},
          "execution_count": 19
        }
      ]
    },
    {
      "cell_type": "code",
      "source": [
        "lst[-1:-5:-1]"
      ],
      "metadata": {
        "colab": {
          "base_uri": "https://localhost:8080/"
        },
        "id": "tBRVaWpYpoO4",
        "outputId": "d49ba979-094c-4842-80e8-8eebe7e59cc4"
      },
      "execution_count": null,
      "outputs": [
        {
          "output_type": "execute_result",
          "data": {
            "text/plain": [
              "['g', 'f', 'e', 'd']"
            ]
          },
          "metadata": {},
          "execution_count": 20
        }
      ]
    },
    {
      "cell_type": "markdown",
      "source": [
        "- 수정이 가능하다."
      ],
      "metadata": {
        "id": "a9mNSkk6hZBA"
      }
    },
    {
      "cell_type": "code",
      "source": [
        "lst[0] = \"z\"\n",
        "lst"
      ],
      "metadata": {
        "colab": {
          "base_uri": "https://localhost:8080/"
        },
        "id": "RWWCstachbJ5",
        "outputId": "39819994-23cb-4ab2-ef77-883b86f241bb"
      },
      "execution_count": null,
      "outputs": [
        {
          "output_type": "execute_result",
          "data": {
            "text/plain": [
              "['z', 'b', 'c', 'd', 'e', 'f', 'g']"
            ]
          },
          "metadata": {},
          "execution_count": 21
        }
      ]
    },
    {
      "cell_type": "markdown",
      "source": [
        "# `tuple`\n",
        "- 인덱싱(indexing)\n",
        "    - 데이터의 순번을 이용하여 특정 값을 선택할수 있다.\n",
        "- 슬라이싱(Slicing)\n",
        "    - 데이터의 특정 범위를 선택할 수 있다.\n",
        "- Immutable 자료형\n",
        "    - 변경 불가능하다.\n",
        "- 중복 데이터 저장이 가능하다.\n",
        "- `()`를 이용해서 만들 수 있다.\n",
        "\n"
      ],
      "metadata": {
        "id": "ySWDPNDDsRpo"
      }
    },
    {
      "cell_type": "code",
      "source": [
        "tuples = ()\n",
        "tuples"
      ],
      "metadata": {
        "colab": {
          "base_uri": "https://localhost:8080/"
        },
        "id": "2EE_f9k5S6Qf",
        "outputId": "e0cf7125-3964-405d-e179-d93d9e47875e"
      },
      "execution_count": null,
      "outputs": [
        {
          "output_type": "execute_result",
          "data": {
            "text/plain": [
              "()"
            ]
          },
          "metadata": {},
          "execution_count": 22
        }
      ]
    },
    {
      "cell_type": "code",
      "source": [
        "tuples = (\"h\",\"e\",\"l\",\"l\",\"o\")\n",
        "tuples"
      ],
      "metadata": {
        "id": "DX5hUSe5sISZ",
        "colab": {
          "base_uri": "https://localhost:8080/"
        },
        "outputId": "64da0e62-6af1-4448-d0c2-119e34a85fcd"
      },
      "execution_count": null,
      "outputs": [
        {
          "output_type": "execute_result",
          "data": {
            "text/plain": [
              "('h', 'e', 'l', 'l', 'o')"
            ]
          },
          "metadata": {},
          "execution_count": 23
        }
      ]
    },
    {
      "cell_type": "code",
      "source": [
        "tuples = \"h\",\"e\",\"l\",\"l\",\"o\"\n",
        "tuples"
      ],
      "metadata": {
        "colab": {
          "base_uri": "https://localhost:8080/"
        },
        "id": "aAm-hlbZzLd5",
        "outputId": "a72c2757-9244-4d94-add5-57fa437a16d4"
      },
      "execution_count": null,
      "outputs": [
        {
          "output_type": "execute_result",
          "data": {
            "text/plain": [
              "('h', 'e', 'l', 'l', 'o')"
            ]
          },
          "metadata": {},
          "execution_count": 24
        }
      ]
    },
    {
      "cell_type": "code",
      "source": [
        "type(tuples)"
      ],
      "metadata": {
        "colab": {
          "base_uri": "https://localhost:8080/"
        },
        "id": "bgdqgpMwzOyZ",
        "outputId": "43a86229-0308-4b5c-834a-b46d70eedd8d"
      },
      "execution_count": null,
      "outputs": [
        {
          "output_type": "execute_result",
          "data": {
            "text/plain": [
              "tuple"
            ]
          },
          "metadata": {},
          "execution_count": 25
        }
      ]
    },
    {
      "cell_type": "markdown",
      "source": [
        "- 인덱싱및 슬라이싱 방법은 동일하다."
      ],
      "metadata": {
        "id": "PDiAc8P6zRnR"
      }
    },
    {
      "cell_type": "code",
      "source": [
        "tuples[0]"
      ],
      "metadata": {
        "colab": {
          "base_uri": "https://localhost:8080/",
          "height": 35
        },
        "id": "xn2aUhLazV65",
        "outputId": "6ed1c363-a086-4d86-c9b7-3d1975626745"
      },
      "execution_count": null,
      "outputs": [
        {
          "output_type": "execute_result",
          "data": {
            "text/plain": [
              "'h'"
            ],
            "application/vnd.google.colaboratory.intrinsic+json": {
              "type": "string"
            }
          },
          "metadata": {},
          "execution_count": 26
        }
      ]
    },
    {
      "cell_type": "code",
      "source": [
        "tuples[::-1]"
      ],
      "metadata": {
        "colab": {
          "base_uri": "https://localhost:8080/"
        },
        "id": "xE9VbWmdzYa5",
        "outputId": "88a68e3c-4123-4c18-824b-35bf83d14e8e"
      },
      "execution_count": null,
      "outputs": [
        {
          "output_type": "execute_result",
          "data": {
            "text/plain": [
              "('o', 'l', 'l', 'e', 'h')"
            ]
          },
          "metadata": {},
          "execution_count": 27
        }
      ]
    },
    {
      "cell_type": "markdown",
      "source": [
        "- 수정 불가능하다."
      ],
      "metadata": {
        "id": "Jw2V9KAOi7OX"
      }
    },
    {
      "cell_type": "code",
      "source": [
        "tuples[0] = \"j\""
      ],
      "metadata": {
        "colab": {
          "base_uri": "https://localhost:8080/",
          "height": 174
        },
        "id": "Y_m2zlZ1wAMp",
        "outputId": "3ca39e26-1ac6-47e5-e108-ea280c044edb"
      },
      "execution_count": null,
      "outputs": [
        {
          "output_type": "error",
          "ename": "TypeError",
          "evalue": "ignored",
          "traceback": [
            "\u001b[0;31m---------------------------------------------------------------------------\u001b[0m",
            "\u001b[0;31mTypeError\u001b[0m                                 Traceback (most recent call last)",
            "\u001b[0;32m<ipython-input-28-b2eb1a7df413>\u001b[0m in \u001b[0;36m<module>\u001b[0;34m()\u001b[0m\n\u001b[0;32m----> 1\u001b[0;31m \u001b[0mtuples\u001b[0m\u001b[0;34m[\u001b[0m\u001b[0;36m0\u001b[0m\u001b[0;34m]\u001b[0m \u001b[0;34m=\u001b[0m \u001b[0;34m\"j\"\u001b[0m\u001b[0;34m\u001b[0m\u001b[0;34m\u001b[0m\u001b[0m\n\u001b[0m",
            "\u001b[0;31mTypeError\u001b[0m: 'tuple' object does not support item assignment"
          ]
        }
      ]
    },
    {
      "cell_type": "code",
      "source": [
        "num_tuple = (1, 2, 3, 4, 5, 6, 7, 8, 9, 10)\n",
        "num_tuple"
      ],
      "metadata": {
        "colab": {
          "base_uri": "https://localhost:8080/"
        },
        "id": "R8mRdGdDA-XI",
        "outputId": "192e6c09-0015-4ecf-d4a6-ba84a4322d6a"
      },
      "execution_count": null,
      "outputs": [
        {
          "output_type": "execute_result",
          "data": {
            "text/plain": [
              "(1, 2, 3, 4, 5, 6, 7, 8, 9, 10)"
            ]
          },
          "metadata": {},
          "execution_count": 29
        }
      ]
    },
    {
      "cell_type": "markdown",
      "source": [
        "- 슬라이싱을 이용하여 짝수만 출력해보자."
      ],
      "metadata": {
        "id": "5kvd1FXGhrhQ"
      }
    },
    {
      "cell_type": "code",
      "source": [
        "num_tuple[1::2]"
      ],
      "metadata": {
        "colab": {
          "base_uri": "https://localhost:8080/"
        },
        "id": "lJ0AfwppBJ2Y",
        "outputId": "b8c43f85-64fa-4039-c729-59902c71f46e"
      },
      "execution_count": null,
      "outputs": [
        {
          "output_type": "execute_result",
          "data": {
            "text/plain": [
              "(2, 4, 6, 8, 10)"
            ]
          },
          "metadata": {},
          "execution_count": 30
        }
      ]
    },
    {
      "cell_type": "markdown",
      "source": [
        "# `set`\n",
        "- 데이터에 순번이 없어 인덱싱과 슬라이싱을 지원 안한다\n",
        "- `mutable` 자료형\n",
        "- 중요한 특징으로 중복 데이터의 저장을 허용하지 않는다\n",
        "- {} 중괄호 를 이용해서 만든다.\n",
        "\n"
      ],
      "metadata": {
        "id": "GjQxXZ_nsQlm"
      }
    },
    {
      "cell_type": "code",
      "source": [
        "sets = set()\n",
        "type(sets)"
      ],
      "metadata": {
        "colab": {
          "base_uri": "https://localhost:8080/"
        },
        "id": "7vxvZOInTX9T",
        "outputId": "b7182335-1c6a-4fc3-ed27-e6003a8696d9"
      },
      "execution_count": null,
      "outputs": [
        {
          "output_type": "execute_result",
          "data": {
            "text/plain": [
              "set"
            ]
          },
          "metadata": {},
          "execution_count": 31
        }
      ]
    },
    {
      "cell_type": "code",
      "source": [
        "sets = {1001,1001, 1001,1003,1003,1003,3,3,3}\n",
        "sets"
      ],
      "metadata": {
        "id": "sps31ARTsTay",
        "colab": {
          "base_uri": "https://localhost:8080/"
        },
        "outputId": "786fc1d8-904f-46c6-afaf-bbb530df1ebf"
      },
      "execution_count": null,
      "outputs": [
        {
          "output_type": "execute_result",
          "data": {
            "text/plain": [
              "{3, 1001, 1003}"
            ]
          },
          "metadata": {},
          "execution_count": 32
        }
      ]
    },
    {
      "cell_type": "markdown",
      "source": [
        "- 인덱싱을 지원 안한다."
      ],
      "metadata": {
        "id": "wPlq2c3oitPH"
      }
    },
    {
      "cell_type": "code",
      "source": [
        "sets[0]"
      ],
      "metadata": {
        "colab": {
          "base_uri": "https://localhost:8080/",
          "height": 174
        },
        "id": "F8oKwGzS3kAC",
        "outputId": "fa199d43-e3f5-42f5-be82-d264f38aae72"
      },
      "execution_count": null,
      "outputs": [
        {
          "output_type": "error",
          "ename": "TypeError",
          "evalue": "ignored",
          "traceback": [
            "\u001b[0;31m---------------------------------------------------------------------------\u001b[0m",
            "\u001b[0;31mTypeError\u001b[0m                                 Traceback (most recent call last)",
            "\u001b[0;32m<ipython-input-33-d3627dfb5037>\u001b[0m in \u001b[0;36m<module>\u001b[0;34m()\u001b[0m\n\u001b[0;32m----> 1\u001b[0;31m \u001b[0msets\u001b[0m\u001b[0;34m[\u001b[0m\u001b[0;36m0\u001b[0m\u001b[0;34m]\u001b[0m\u001b[0;34m\u001b[0m\u001b[0;34m\u001b[0m\u001b[0m\n\u001b[0m",
            "\u001b[0;31mTypeError\u001b[0m: 'set' object is not subscriptable"
          ]
        }
      ]
    },
    {
      "cell_type": "markdown",
      "source": [
        "- 슬라이싱도 안된다."
      ],
      "metadata": {
        "id": "K0wQPuICi1lQ"
      }
    },
    {
      "cell_type": "code",
      "source": [
        "sets[:]"
      ],
      "metadata": {
        "colab": {
          "base_uri": "https://localhost:8080/",
          "height": 174
        },
        "id": "geV7KFl_DR7B",
        "outputId": "55acd1ee-85a2-43a3-8327-f5288ef0cfcf"
      },
      "execution_count": null,
      "outputs": [
        {
          "output_type": "error",
          "ename": "TypeError",
          "evalue": "ignored",
          "traceback": [
            "\u001b[0;31m---------------------------------------------------------------------------\u001b[0m",
            "\u001b[0;31mTypeError\u001b[0m                                 Traceback (most recent call last)",
            "\u001b[0;32m<ipython-input-34-4de7d8d57b9f>\u001b[0m in \u001b[0;36m<module>\u001b[0;34m()\u001b[0m\n\u001b[0;32m----> 1\u001b[0;31m \u001b[0msets\u001b[0m\u001b[0;34m[\u001b[0m\u001b[0;34m:\u001b[0m\u001b[0;34m]\u001b[0m\u001b[0;34m\u001b[0m\u001b[0;34m\u001b[0m\u001b[0m\n\u001b[0m",
            "\u001b[0;31mTypeError\u001b[0m: 'set' object is not subscriptable"
          ]
        }
      ]
    },
    {
      "cell_type": "markdown",
      "source": [
        "# `dict`\n",
        "\n",
        "- `mutable` 자료형\n",
        "- `Key-Value` 구조 자료형\n",
        "- `key`는 중복을 허용하지 않는다.\n",
        "- `value`는 중복 저장을 허용한다.\n",
        "```python\n",
        "{\n",
        "    key : values,\n",
        "    key : values,\n",
        "    ...\n",
        "}\n",
        "```"
      ],
      "metadata": {
        "id": "pxpc8la8sTyA"
      }
    },
    {
      "cell_type": "code",
      "source": [
        "city = {\n",
        "    \"한국\" : \"부산\",\n",
        "    \"일본\" : \"교토\",\n",
        "    \"캐나다\" : \"오타와\"\n",
        "}\n",
        "city"
      ],
      "metadata": {
        "id": "SPKJu7YRsUt4",
        "colab": {
          "base_uri": "https://localhost:8080/"
        },
        "outputId": "5b6b00e3-4262-4e50-f9ec-57383fb4d2b1"
      },
      "execution_count": null,
      "outputs": [
        {
          "output_type": "execute_result",
          "data": {
            "text/plain": [
              "{'일본': '교토', '캐나다': '오타와', '한국': '부산'}"
            ]
          },
          "metadata": {},
          "execution_count": 35
        }
      ]
    },
    {
      "cell_type": "code",
      "source": [
        "type(city)"
      ],
      "metadata": {
        "colab": {
          "base_uri": "https://localhost:8080/"
        },
        "id": "2VSuuD_mJr2x",
        "outputId": "191f6e87-a747-4a97-fab7-74f556ae9abc"
      },
      "execution_count": null,
      "outputs": [
        {
          "output_type": "execute_result",
          "data": {
            "text/plain": [
              "dict"
            ]
          },
          "metadata": {},
          "execution_count": 36
        }
      ]
    },
    {
      "cell_type": "code",
      "source": [
        "city[\"한국\"]"
      ],
      "metadata": {
        "colab": {
          "base_uri": "https://localhost:8080/",
          "height": 35
        },
        "id": "deMuIrmvzHIh",
        "outputId": "fe481490-db1d-47b5-f914-4eb62f436d05"
      },
      "execution_count": null,
      "outputs": [
        {
          "output_type": "execute_result",
          "data": {
            "text/plain": [
              "'부산'"
            ],
            "application/vnd.google.colaboratory.intrinsic+json": {
              "type": "string"
            }
          },
          "metadata": {},
          "execution_count": 37
        }
      ]
    },
    {
      "cell_type": "markdown",
      "source": [
        "- `dict`에 key&value 추가 또는 value 변경\n",
        "    - 추가와 변경의 문법이 똑같다.\n",
        "    - key가 없으면 추가, 있으면 value 수정"
      ],
      "metadata": {
        "id": "R_UBT5AqzoIm"
      }
    },
    {
      "cell_type": "code",
      "source": [
        "city"
      ],
      "metadata": {
        "colab": {
          "base_uri": "https://localhost:8080/"
        },
        "id": "E4OKE84HLKYV",
        "outputId": "7f52601f-d43c-4aef-f98f-114bfa0edeb3"
      },
      "execution_count": null,
      "outputs": [
        {
          "output_type": "execute_result",
          "data": {
            "text/plain": [
              "{'일본': '교토', '캐나다': '오타와', '한국': '부산'}"
            ]
          },
          "metadata": {},
          "execution_count": 38
        }
      ]
    },
    {
      "cell_type": "code",
      "source": [
        "city[\"중국\"] = \"베이징\"\n",
        "city"
      ],
      "metadata": {
        "colab": {
          "base_uri": "https://localhost:8080/"
        },
        "id": "dUYzutfHznRl",
        "outputId": "104e37be-2eb0-42ce-cf4b-9f1f4415bbe5"
      },
      "execution_count": null,
      "outputs": [
        {
          "output_type": "execute_result",
          "data": {
            "text/plain": [
              "{'일본': '교토', '중국': '베이징', '캐나다': '오타와', '한국': '부산'}"
            ]
          },
          "metadata": {},
          "execution_count": 39
        }
      ]
    },
    {
      "cell_type": "code",
      "source": [
        "city[\"일본\"] = \"도꾜\"\n",
        "city"
      ],
      "metadata": {
        "colab": {
          "base_uri": "https://localhost:8080/"
        },
        "id": "qFpqPJ4Xzsnm",
        "outputId": "201099bb-f388-41d9-b57f-b86cd9ed3c8f"
      },
      "execution_count": null,
      "outputs": [
        {
          "output_type": "execute_result",
          "data": {
            "text/plain": [
              "{'일본': '도꾜', '중국': '베이징', '캐나다': '오타와', '한국': '부산'}"
            ]
          },
          "metadata": {},
          "execution_count": 40
        }
      ]
    }
  ]
}