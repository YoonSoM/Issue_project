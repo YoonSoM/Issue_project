{
  "nbformat": 4,
  "nbformat_minor": 0,
  "metadata": {
    "colab": {
      "provenance": []
    },
    "kernelspec": {
      "name": "python3",
      "display_name": "Python 3"
    },
    "language_info": {
      "name": "python"
    }
  },
  "cells": [
    {
      "cell_type": "markdown",
      "source": [
        "# iterable & iterator\n",
        "- iterable 객체\n",
        "    - 반복 가능한 객체 (list, dict, set, str, tuple, range ...)\n",
        "- iterator 객체\n",
        "    - 값을 차례대로 꺼낼 수 있는 객체\n",
        "    - 다 꺼내면 사라진다.\n",
        "    - 꺼낼때 데이터를 생성해주는 방식\n",
        "\n"
      ],
      "metadata": {
        "id": "uZvKt4hR148s"
      }
    },
    {
      "cell_type": "markdown",
      "source": [
        "## iter 함수\n",
        "- iterable 객체를 iterator 객체로 변환한다."
      ],
      "metadata": {
        "id": "Aq0j-g0dsOxJ"
      }
    },
    {
      "cell_type": "code",
      "source": [
        "lst = [1,2,3]\n",
        "iterator = iter(lst)\n",
        "type(iterator)"
      ],
      "metadata": {
        "id": "n4FfbGSnsNNi",
        "colab": {
          "base_uri": "https://localhost:8080/"
        },
        "outputId": "daae7ee7-d22a-4a70-83ee-c217632dfa34"
      },
      "execution_count": null,
      "outputs": [
        {
          "output_type": "execute_result",
          "data": {
            "text/plain": [
              "list_iterator"
            ]
          },
          "metadata": {},
          "execution_count": 1
        }
      ]
    },
    {
      "cell_type": "markdown",
      "source": [
        "- for 문은 iterable,iterator  객체를 모두 반복해준다."
      ],
      "metadata": {
        "id": "869i0WgfM9NO"
      }
    },
    {
      "cell_type": "code",
      "source": [
        "for n in lst:\n",
        "    print(n)\n",
        "\n",
        "for n in iterator:\n",
        "    print(n)"
      ],
      "metadata": {
        "id": "a2rlw-vjsuXJ",
        "colab": {
          "base_uri": "https://localhost:8080/"
        },
        "outputId": "86b63ab9-f2b7-470e-d918-7aa7ff7e6ee5"
      },
      "execution_count": null,
      "outputs": [
        {
          "output_type": "stream",
          "name": "stdout",
          "text": [
            "1\n",
            "2\n",
            "3\n",
            "1\n",
            "2\n",
            "3\n"
          ]
        }
      ]
    },
    {
      "cell_type": "markdown",
      "source": [
        "- 다 꺼내면 사라지기 때문에 for 문이 실행이 안된다."
      ],
      "metadata": {
        "id": "iYyA5rfLM_2e"
      }
    },
    {
      "cell_type": "code",
      "source": [
        "for n in iterator:\n",
        "    print(n)"
      ],
      "metadata": {
        "id": "9ySblVj6suOh"
      },
      "execution_count": null,
      "outputs": []
    },
    {
      "cell_type": "markdown",
      "source": [
        "## next 함수\n",
        "- iterator 객체를 순서대로 하나씩 꺼낸다."
      ],
      "metadata": {
        "id": "AUKvlOtAtHQ6"
      }
    },
    {
      "cell_type": "code",
      "source": [
        "lst = [1,2,3]\n",
        "iterator = iter(lst)\n",
        "\n",
        "print( next(iterator) )\n",
        "print( next(iterator) )\n",
        "print( next(iterator) )"
      ],
      "metadata": {
        "id": "1InuzH_D3tp6",
        "colab": {
          "base_uri": "https://localhost:8080/"
        },
        "outputId": "738b2a93-30fe-4978-cf05-a2912512b45a"
      },
      "execution_count": null,
      "outputs": [
        {
          "output_type": "stream",
          "name": "stdout",
          "text": [
            "1\n",
            "2\n",
            "3\n"
          ]
        }
      ]
    },
    {
      "cell_type": "markdown",
      "source": [
        "- iterator는 다 꺼내면 사라지기 때문에 꺼낼수가 없어 에러 발생"
      ],
      "metadata": {
        "id": "3A99stZaNH-u"
      }
    },
    {
      "cell_type": "code",
      "source": [
        "next(iterator)"
      ],
      "metadata": {
        "id": "hdTL9WExtdMG",
        "colab": {
          "base_uri": "https://localhost:8080/",
          "height": 174
        },
        "outputId": "eb864d0d-a361-4596-b23a-a74d6371fb14"
      },
      "execution_count": null,
      "outputs": [
        {
          "output_type": "error",
          "ename": "StopIteration",
          "evalue": "ignored",
          "traceback": [
            "\u001b[0;31m---------------------------------------------------------------------------\u001b[0m",
            "\u001b[0;31mStopIteration\u001b[0m                             Traceback (most recent call last)",
            "\u001b[0;32m<ipython-input-5-2c3869eb1e92>\u001b[0m in \u001b[0;36m<module>\u001b[0;34m\u001b[0m\n\u001b[0;32m----> 1\u001b[0;31m \u001b[0mnext\u001b[0m\u001b[0;34m(\u001b[0m\u001b[0miterator\u001b[0m\u001b[0;34m)\u001b[0m\u001b[0;34m\u001b[0m\u001b[0;34m\u001b[0m\u001b[0m\n\u001b[0m",
            "\u001b[0;31mStopIteration\u001b[0m: "
          ]
        }
      ]
    },
    {
      "cell_type": "markdown",
      "source": [
        "- `enumerate`와 `zip` 도 이터레이터 방식"
      ],
      "metadata": {
        "id": "q4EQoQJMFAQS"
      }
    },
    {
      "cell_type": "code",
      "source": [
        "iterator = enumerate([1,2,3])\n",
        "print( next(iterator) )\n",
        "print( next(iterator) )\n",
        "print( next(iterator) )\n",
        "print( next(iterator) ) # 여기서 StopIteration 에러 발생"
      ],
      "metadata": {
        "id": "jhsUrvxwNbPt",
        "colab": {
          "base_uri": "https://localhost:8080/",
          "height": 266
        },
        "outputId": "fa966616-42f9-4c23-b1fd-7438555f8d14"
      },
      "execution_count": null,
      "outputs": [
        {
          "output_type": "stream",
          "name": "stdout",
          "text": [
            "(0, 1)\n",
            "(1, 2)\n",
            "(2, 3)\n"
          ]
        },
        {
          "output_type": "error",
          "ename": "StopIteration",
          "evalue": "ignored",
          "traceback": [
            "\u001b[0;31m---------------------------------------------------------------------------\u001b[0m",
            "\u001b[0;31mStopIteration\u001b[0m                             Traceback (most recent call last)",
            "\u001b[0;32m<ipython-input-6-6075c814e211>\u001b[0m in \u001b[0;36m<module>\u001b[0;34m\u001b[0m\n\u001b[1;32m      3\u001b[0m \u001b[0mprint\u001b[0m\u001b[0;34m(\u001b[0m \u001b[0mnext\u001b[0m\u001b[0;34m(\u001b[0m\u001b[0miterator\u001b[0m\u001b[0;34m)\u001b[0m \u001b[0;34m)\u001b[0m\u001b[0;34m\u001b[0m\u001b[0;34m\u001b[0m\u001b[0m\n\u001b[1;32m      4\u001b[0m \u001b[0mprint\u001b[0m\u001b[0;34m(\u001b[0m \u001b[0mnext\u001b[0m\u001b[0;34m(\u001b[0m\u001b[0miterator\u001b[0m\u001b[0;34m)\u001b[0m \u001b[0;34m)\u001b[0m\u001b[0;34m\u001b[0m\u001b[0;34m\u001b[0m\u001b[0m\n\u001b[0;32m----> 5\u001b[0;31m \u001b[0mprint\u001b[0m\u001b[0;34m(\u001b[0m \u001b[0mnext\u001b[0m\u001b[0;34m(\u001b[0m\u001b[0miterator\u001b[0m\u001b[0;34m)\u001b[0m \u001b[0;34m)\u001b[0m \u001b[0;31m# 여기서 StopIteration 에러 발생\u001b[0m\u001b[0;34m\u001b[0m\u001b[0;34m\u001b[0m\u001b[0m\n\u001b[0m",
            "\u001b[0;31mStopIteration\u001b[0m: "
          ]
        }
      ]
    },
    {
      "cell_type": "code",
      "source": [
        "iterator = zip([1,2,3],[4,5,6])\n",
        "print( next(iterator) )\n",
        "print( next(iterator) )\n",
        "print( next(iterator) )\n",
        "print( next(iterator) ) # 여기서 StopIteration 에러 발생"
      ],
      "metadata": {
        "id": "aIauxuPzE_VI",
        "colab": {
          "base_uri": "https://localhost:8080/",
          "height": 266
        },
        "outputId": "b6c336b6-2d0c-4dd7-d8a6-d98f843896c7"
      },
      "execution_count": null,
      "outputs": [
        {
          "output_type": "stream",
          "name": "stdout",
          "text": [
            "(1, 4)\n",
            "(2, 5)\n",
            "(3, 6)\n"
          ]
        },
        {
          "output_type": "error",
          "ename": "StopIteration",
          "evalue": "ignored",
          "traceback": [
            "\u001b[0;31m---------------------------------------------------------------------------\u001b[0m",
            "\u001b[0;31mStopIteration\u001b[0m                             Traceback (most recent call last)",
            "\u001b[0;32m<ipython-input-7-39c6bb4bbcaa>\u001b[0m in \u001b[0;36m<module>\u001b[0;34m\u001b[0m\n\u001b[1;32m      3\u001b[0m \u001b[0mprint\u001b[0m\u001b[0;34m(\u001b[0m \u001b[0mnext\u001b[0m\u001b[0;34m(\u001b[0m\u001b[0miterator\u001b[0m\u001b[0;34m)\u001b[0m \u001b[0;34m)\u001b[0m\u001b[0;34m\u001b[0m\u001b[0;34m\u001b[0m\u001b[0m\n\u001b[1;32m      4\u001b[0m \u001b[0mprint\u001b[0m\u001b[0;34m(\u001b[0m \u001b[0mnext\u001b[0m\u001b[0;34m(\u001b[0m\u001b[0miterator\u001b[0m\u001b[0;34m)\u001b[0m \u001b[0;34m)\u001b[0m\u001b[0;34m\u001b[0m\u001b[0;34m\u001b[0m\u001b[0m\n\u001b[0;32m----> 5\u001b[0;31m \u001b[0mprint\u001b[0m\u001b[0;34m(\u001b[0m \u001b[0mnext\u001b[0m\u001b[0;34m(\u001b[0m\u001b[0miterator\u001b[0m\u001b[0;34m)\u001b[0m \u001b[0;34m)\u001b[0m \u001b[0;31m# 여기서 StopIteration 에러 발생\u001b[0m\u001b[0;34m\u001b[0m\u001b[0;34m\u001b[0m\u001b[0m\n\u001b[0m",
            "\u001b[0;31mStopIteration\u001b[0m: "
          ]
        }
      ]
    },
    {
      "cell_type": "markdown",
      "source": [
        "- next 함수는 이터레이터가 인수로 들어가야한다.\n",
        "- 리스트는 iterator 가 아니라 에러난다.\n",
        "- 리스트는 iterable 객체이다."
      ],
      "metadata": {
        "id": "2jhcRLeIt9_4"
      }
    },
    {
      "cell_type": "code",
      "source": [
        "lst = [1,2,3]\n",
        "next(lst)"
      ],
      "metadata": {
        "id": "bBJtdWyE1viH",
        "colab": {
          "base_uri": "https://localhost:8080/",
          "height": 192
        },
        "outputId": "dd3f2a41-464c-475c-c245-d9c920f6cfb7"
      },
      "execution_count": null,
      "outputs": [
        {
          "output_type": "error",
          "ename": "TypeError",
          "evalue": "ignored",
          "traceback": [
            "\u001b[0;31m---------------------------------------------------------------------------\u001b[0m",
            "\u001b[0;31mTypeError\u001b[0m                                 Traceback (most recent call last)",
            "\u001b[0;32m<ipython-input-8-60d8d9ed87d3>\u001b[0m in \u001b[0;36m<module>\u001b[0;34m\u001b[0m\n\u001b[1;32m      1\u001b[0m \u001b[0mlst\u001b[0m \u001b[0;34m=\u001b[0m \u001b[0;34m[\u001b[0m\u001b[0;36m1\u001b[0m\u001b[0;34m,\u001b[0m\u001b[0;36m2\u001b[0m\u001b[0;34m,\u001b[0m\u001b[0;36m3\u001b[0m\u001b[0;34m]\u001b[0m\u001b[0;34m\u001b[0m\u001b[0;34m\u001b[0m\u001b[0m\n\u001b[0;32m----> 2\u001b[0;31m \u001b[0mnext\u001b[0m\u001b[0;34m(\u001b[0m\u001b[0mlst\u001b[0m\u001b[0;34m)\u001b[0m\u001b[0;34m\u001b[0m\u001b[0;34m\u001b[0m\u001b[0m\n\u001b[0m",
            "\u001b[0;31mTypeError\u001b[0m: 'list' object is not an iterator"
          ]
        }
      ]
    },
    {
      "cell_type": "markdown",
      "source": [
        "# Generator란?\n",
        "- iterator를 생성해주는 표현식\n",
        "- iterator 와 같은 동작을 하는 객체\n"
      ],
      "metadata": {
        "id": "5sp-UAfO6dHJ"
      }
    },
    {
      "cell_type": "markdown",
      "source": [
        "## 소괄호를 이용한 컴프리헨션 문법으로 제너레이터를 생성 가능"
      ],
      "metadata": {
        "id": "Wr-hVTEsuZ35"
      }
    },
    {
      "cell_type": "code",
      "source": [
        "gen = ( x for x in range(3) )\n",
        "type(gen)"
      ],
      "metadata": {
        "id": "pGG8G-OJ616R",
        "colab": {
          "base_uri": "https://localhost:8080/"
        },
        "outputId": "3ca47d16-103b-4d6a-b277-511f4f756ac5"
      },
      "execution_count": null,
      "outputs": [
        {
          "output_type": "execute_result",
          "data": {
            "text/plain": [
              "generator"
            ]
          },
          "metadata": {},
          "execution_count": 9
        }
      ]
    },
    {
      "cell_type": "markdown",
      "source": [
        "- 이터레이터와 동일하게 다 꺼내면 사라진다."
      ],
      "metadata": {
        "id": "AuSkYrVaOMvO"
      }
    },
    {
      "cell_type": "code",
      "source": [
        "print( next(gen) )\n",
        "print( next(gen) )\n",
        "print( next(gen) )\n",
        "print( next(gen) )"
      ],
      "metadata": {
        "id": "wq3Yk7bG613G",
        "colab": {
          "base_uri": "https://localhost:8080/",
          "height": 266
        },
        "outputId": "3b8e202e-adfb-41a2-bf3b-753ee229e4c1"
      },
      "execution_count": null,
      "outputs": [
        {
          "output_type": "stream",
          "name": "stdout",
          "text": [
            "0\n",
            "1\n",
            "2\n"
          ]
        },
        {
          "output_type": "error",
          "ename": "StopIteration",
          "evalue": "ignored",
          "traceback": [
            "\u001b[0;31m---------------------------------------------------------------------------\u001b[0m",
            "\u001b[0;31mStopIteration\u001b[0m                             Traceback (most recent call last)",
            "\u001b[0;32m<ipython-input-10-e2d3bb987eb9>\u001b[0m in \u001b[0;36m<module>\u001b[0;34m\u001b[0m\n\u001b[1;32m      2\u001b[0m \u001b[0mprint\u001b[0m\u001b[0;34m(\u001b[0m \u001b[0mnext\u001b[0m\u001b[0;34m(\u001b[0m\u001b[0mgen\u001b[0m\u001b[0;34m)\u001b[0m \u001b[0;34m)\u001b[0m\u001b[0;34m\u001b[0m\u001b[0;34m\u001b[0m\u001b[0m\n\u001b[1;32m      3\u001b[0m \u001b[0mprint\u001b[0m\u001b[0;34m(\u001b[0m \u001b[0mnext\u001b[0m\u001b[0;34m(\u001b[0m\u001b[0mgen\u001b[0m\u001b[0;34m)\u001b[0m \u001b[0;34m)\u001b[0m\u001b[0;34m\u001b[0m\u001b[0;34m\u001b[0m\u001b[0m\n\u001b[0;32m----> 4\u001b[0;31m \u001b[0mprint\u001b[0m\u001b[0;34m(\u001b[0m \u001b[0mnext\u001b[0m\u001b[0;34m(\u001b[0m\u001b[0mgen\u001b[0m\u001b[0;34m)\u001b[0m \u001b[0;34m)\u001b[0m\u001b[0;34m\u001b[0m\u001b[0;34m\u001b[0m\u001b[0m\n\u001b[0m",
            "\u001b[0;31mStopIteration\u001b[0m: "
          ]
        }
      ]
    },
    {
      "cell_type": "markdown",
      "source": [
        "- 메모리 점유율 비교해보기"
      ],
      "metadata": {
        "id": "pdbGVK1AvQqf"
      }
    },
    {
      "cell_type": "code",
      "source": [
        "import sys\n",
        "\n",
        "gen = ( x for x in range(1000) )\n",
        "lst = list(range(1000))\n",
        "\n",
        "\n",
        "sys.getsizeof(gen) , sys.getsizeof(lst)"
      ],
      "metadata": {
        "id": "095m3KHouxKy",
        "colab": {
          "base_uri": "https://localhost:8080/"
        },
        "outputId": "d52b11c3-1bc8-484e-8166-cadb9aa2b492"
      },
      "execution_count": null,
      "outputs": [
        {
          "output_type": "execute_result",
          "data": {
            "text/plain": [
              "(128, 9120)"
            ]
          },
          "metadata": {},
          "execution_count": 11
        }
      ]
    },
    {
      "cell_type": "markdown",
      "source": [
        "## 함수를 이용한 제너레이터 생성 방법\n",
        "    - yield 문을 이용하면 된다."
      ],
      "metadata": {
        "id": "gyu-rJVBSQYd"
      }
    },
    {
      "cell_type": "code",
      "source": [
        "def gen_func():\n",
        "    yield 1 # 예일드를 만나면 정지\n",
        "    yield 2\n",
        "    yield 3"
      ],
      "metadata": {
        "id": "PwQqVrCo61zg"
      },
      "execution_count": null,
      "outputs": []
    },
    {
      "cell_type": "code",
      "source": [
        "gen = gen_func()\n",
        "type(gen)"
      ],
      "metadata": {
        "id": "rdMCyls061wH",
        "colab": {
          "base_uri": "https://localhost:8080/"
        },
        "outputId": "97231374-e1a8-4eda-b050-3a473c7b2054"
      },
      "execution_count": null,
      "outputs": [
        {
          "output_type": "execute_result",
          "data": {
            "text/plain": [
              "generator"
            ]
          },
          "metadata": {},
          "execution_count": 13
        }
      ]
    },
    {
      "cell_type": "code",
      "source": [
        "print( next(gen) )\n",
        "print( next(gen) )\n",
        "print( next(gen) )\n",
        "print( next(gen) )"
      ],
      "metadata": {
        "id": "GMyyc0L67mHg",
        "colab": {
          "base_uri": "https://localhost:8080/",
          "height": 266
        },
        "outputId": "cfbce456-d309-4329-b9fd-60456c68c3c2"
      },
      "execution_count": null,
      "outputs": [
        {
          "output_type": "stream",
          "name": "stdout",
          "text": [
            "1\n",
            "2\n",
            "3\n"
          ]
        },
        {
          "output_type": "error",
          "ename": "StopIteration",
          "evalue": "ignored",
          "traceback": [
            "\u001b[0;31m---------------------------------------------------------------------------\u001b[0m",
            "\u001b[0;31mStopIteration\u001b[0m                             Traceback (most recent call last)",
            "\u001b[0;32m<ipython-input-14-e2d3bb987eb9>\u001b[0m in \u001b[0;36m<module>\u001b[0;34m\u001b[0m\n\u001b[1;32m      2\u001b[0m \u001b[0mprint\u001b[0m\u001b[0;34m(\u001b[0m \u001b[0mnext\u001b[0m\u001b[0;34m(\u001b[0m\u001b[0mgen\u001b[0m\u001b[0;34m)\u001b[0m \u001b[0;34m)\u001b[0m\u001b[0;34m\u001b[0m\u001b[0;34m\u001b[0m\u001b[0m\n\u001b[1;32m      3\u001b[0m \u001b[0mprint\u001b[0m\u001b[0;34m(\u001b[0m \u001b[0mnext\u001b[0m\u001b[0;34m(\u001b[0m\u001b[0mgen\u001b[0m\u001b[0;34m)\u001b[0m \u001b[0;34m)\u001b[0m\u001b[0;34m\u001b[0m\u001b[0;34m\u001b[0m\u001b[0m\n\u001b[0;32m----> 4\u001b[0;31m \u001b[0mprint\u001b[0m\u001b[0;34m(\u001b[0m \u001b[0mnext\u001b[0m\u001b[0;34m(\u001b[0m\u001b[0mgen\u001b[0m\u001b[0;34m)\u001b[0m \u001b[0;34m)\u001b[0m\u001b[0;34m\u001b[0m\u001b[0;34m\u001b[0m\u001b[0m\n\u001b[0m",
            "\u001b[0;31mStopIteration\u001b[0m: "
          ]
        }
      ]
    },
    {
      "cell_type": "markdown",
      "source": [
        "- 정수를 인수로 받아 0 부터 개수만큼 반복해서 꺼내주는 제너레이터"
      ],
      "metadata": {
        "id": "dtQNbzbfTHr5"
      }
    },
    {
      "cell_type": "code",
      "source": [
        "def gen_func(num):\n",
        "    for i in range(num):\n",
        "        yield i"
      ],
      "metadata": {
        "id": "KpAoz6I67wz5"
      },
      "execution_count": null,
      "outputs": []
    },
    {
      "cell_type": "code",
      "source": [
        "gen = gen_func(5)"
      ],
      "metadata": {
        "id": "MIIFd36O7wxn"
      },
      "execution_count": null,
      "outputs": []
    },
    {
      "cell_type": "code",
      "source": [
        "for n in gen: # 두번실행하면 출력안된다. 다 꺼내면 사라지기 때문!\n",
        "    print(n)"
      ],
      "metadata": {
        "id": "cIYhswhW7wsO"
      },
      "execution_count": null,
      "outputs": []
    },
    {
      "cell_type": "markdown",
      "source": [
        "- yield from 이용하여 간단히 제너레이터 생성"
      ],
      "metadata": {
        "id": "OGlh75N3SqiJ"
      }
    },
    {
      "cell_type": "code",
      "source": [
        "def gen_func(num):\n",
        "    yield from range(num) # from 절에 반복가능한 객체를 넣어주면 된다."
      ],
      "metadata": {
        "id": "fhniLBkOALwa"
      },
      "execution_count": null,
      "outputs": []
    },
    {
      "cell_type": "code",
      "source": [
        "gen = gen_func(5)"
      ],
      "metadata": {
        "id": "pX9o8mITIdS6"
      },
      "execution_count": null,
      "outputs": []
    },
    {
      "cell_type": "code",
      "source": [
        "for n in gen:\n",
        "    print(n)"
      ],
      "metadata": {
        "id": "idWcDl-bz7nr",
        "colab": {
          "base_uri": "https://localhost:8080/"
        },
        "outputId": "e4ca6493-4282-4143-a2e1-d52a2b5814aa"
      },
      "execution_count": null,
      "outputs": [
        {
          "output_type": "stream",
          "name": "stdout",
          "text": [
            "0\n",
            "1\n",
            "2\n",
            "3\n",
            "4\n"
          ]
        }
      ]
    }
  ]
}