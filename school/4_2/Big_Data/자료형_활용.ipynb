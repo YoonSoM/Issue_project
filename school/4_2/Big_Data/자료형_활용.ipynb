{
  "nbformat": 4,
  "nbformat_minor": 0,
  "metadata": {
    "colab": {
      "provenance": []
    },
    "kernelspec": {
      "name": "python3",
      "display_name": "Python 3"
    },
    "language_info": {
      "name": "python"
    }
  },
  "cells": [
    {
      "cell_type": "markdown",
      "source": [
        "# 함수와 메서드(Method)\n",
        "$$\n",
        "f(x) = 2x\n",
        "$$\n",
        "- 함수\n",
        "    - 코드의 반복을 줄이거나 어떠한 용도를 위해 특정 코드들을 모아둔 것\n",
        "    - 어떠한 결과를 만들어내는 코드의 집합\n",
        "\n",
        "- 메소드: 객체에 소속된 형태의 함수\n"
      ],
      "metadata": {
        "id": "GdG-991X_Uxa"
      }
    },
    {
      "cell_type": "code",
      "source": [
        "lst = [10,2,35,4]\n",
        "max(lst) # 최대값을 반환"
      ],
      "metadata": {
        "colab": {
          "base_uri": "https://localhost:8080/"
        },
        "id": "9Z2pyji4EYTO",
        "outputId": "fba11fbf-a537-4915-852b-590baef6888b"
      },
      "execution_count": null,
      "outputs": [
        {
          "output_type": "execute_result",
          "data": {
            "text/plain": [
              "35"
            ]
          },
          "metadata": {},
          "execution_count": 1
        }
      ]
    },
    {
      "cell_type": "code",
      "source": [
        "min(lst) # 최소값을 반환"
      ],
      "metadata": {
        "colab": {
          "base_uri": "https://localhost:8080/"
        },
        "id": "UiTjGr5AEYIu",
        "outputId": "bdd51fc6-ac04-4d4f-8d4f-627a3dfede79"
      },
      "execution_count": null,
      "outputs": [
        {
          "output_type": "execute_result",
          "data": {
            "text/plain": [
              "2"
            ]
          },
          "metadata": {},
          "execution_count": 2
        }
      ]
    },
    {
      "cell_type": "code",
      "source": [
        "sum(lst) # 합계를 반환"
      ],
      "metadata": {
        "colab": {
          "base_uri": "https://localhost:8080/"
        },
        "id": "bR7Rdr4dEivW",
        "outputId": "5233c945-bfbb-4659-f77a-c20bea1ba05a"
      },
      "execution_count": null,
      "outputs": [
        {
          "output_type": "execute_result",
          "data": {
            "text/plain": [
              "51"
            ]
          },
          "metadata": {},
          "execution_count": 3
        }
      ]
    },
    {
      "cell_type": "code",
      "source": [
        "len(lst) # 길이(크기)를 반환"
      ],
      "metadata": {
        "colab": {
          "base_uri": "https://localhost:8080/"
        },
        "id": "MRFzRI0pEi-i",
        "outputId": "18a95441-71cc-49cc-ea22-bbe8e0de4d19"
      },
      "execution_count": null,
      "outputs": [
        {
          "output_type": "execute_result",
          "data": {
            "text/plain": [
              "4"
            ]
          },
          "metadata": {},
          "execution_count": 4
        }
      ]
    },
    {
      "cell_type": "code",
      "source": [
        "sorted(lst) # 정렬"
      ],
      "metadata": {
        "colab": {
          "base_uri": "https://localhost:8080/"
        },
        "id": "tf9QN3EeEv2n",
        "outputId": "ce55f25d-c5f3-4ba4-8aa0-55d227d62bdd"
      },
      "execution_count": null,
      "outputs": [
        {
          "output_type": "execute_result",
          "data": {
            "text/plain": [
              "[2, 4, 10, 35]"
            ]
          },
          "metadata": {},
          "execution_count": 5
        }
      ]
    },
    {
      "cell_type": "code",
      "source": [
        "s = \"ABCD\"\n",
        "s_lower = s.lower() # 메소드\n",
        "s_lower"
      ],
      "metadata": {
        "id": "pmDdqpWKA-me",
        "colab": {
          "base_uri": "https://localhost:8080/",
          "height": 35
        },
        "outputId": "a5ecbea8-6790-4e86-d23c-2ea20eb7c3e8"
      },
      "execution_count": null,
      "outputs": [
        {
          "output_type": "execute_result",
          "data": {
            "text/plain": [
              "'abcd'"
            ],
            "application/vnd.google.colaboratory.intrinsic+json": {
              "type": "string"
            }
          },
          "metadata": {},
          "execution_count": 6
        }
      ]
    },
    {
      "cell_type": "markdown",
      "source": [
        "# `list` 활용\n",
        "\n",
        "\n"
      ],
      "metadata": {
        "id": "jeLuv2w7Bk6n"
      }
    },
    {
      "cell_type": "markdown",
      "source": [
        "## `list`의 메소드\n"
      ],
      "metadata": {
        "id": "qJz95ngnL0j2"
      }
    },
    {
      "cell_type": "markdown",
      "source": [
        "- `append()`\n",
        "  - 리스트의 제일 뒤에 값을 추가한다."
      ],
      "metadata": {
        "id": "O_fjy0H2wPgU"
      }
    },
    {
      "cell_type": "code",
      "source": [
        "lst = [1, 2 ,3,4]\n",
        "lst.append(0)\n",
        "lst"
      ],
      "metadata": {
        "id": "Pww2HSPILyz2",
        "colab": {
          "base_uri": "https://localhost:8080/"
        },
        "outputId": "c5b02dc1-186b-43c2-d3e9-cb9e071459ae"
      },
      "execution_count": null,
      "outputs": [
        {
          "output_type": "execute_result",
          "data": {
            "text/plain": [
              "[1, 2, 3, 4, 0]"
            ]
          },
          "metadata": {},
          "execution_count": 7
        }
      ]
    },
    {
      "cell_type": "markdown",
      "source": [
        "- `sort()`\n",
        "  - 기본적으로 오름차순 정렬\n",
        "  - `reverse=True` 설정하면 내림차순 정렬"
      ],
      "metadata": {
        "id": "sC5NTsM-wSJr"
      }
    },
    {
      "cell_type": "code",
      "source": [
        "lst.sort()\n",
        "lst"
      ],
      "metadata": {
        "colab": {
          "base_uri": "https://localhost:8080/"
        },
        "id": "dSpsxYT6Lywp",
        "outputId": "cad2edc1-a1cf-4bc9-888b-b0ca76845c20"
      },
      "execution_count": null,
      "outputs": [
        {
          "output_type": "execute_result",
          "data": {
            "text/plain": [
              "[0, 1, 2, 3, 4]"
            ]
          },
          "metadata": {},
          "execution_count": 8
        }
      ]
    },
    {
      "cell_type": "code",
      "source": [
        "lst.sort(reverse=True)\n",
        "lst"
      ],
      "metadata": {
        "colab": {
          "base_uri": "https://localhost:8080/"
        },
        "id": "bKxeFosl0Z_D",
        "outputId": "d56e1e8e-f7b0-40bb-8cbd-9847c29bbc03"
      },
      "execution_count": null,
      "outputs": [
        {
          "output_type": "execute_result",
          "data": {
            "text/plain": [
              "[4, 3, 2, 1, 0]"
            ]
          },
          "metadata": {},
          "execution_count": 9
        }
      ]
    },
    {
      "cell_type": "markdown",
      "source": [
        "- `pop()`\n",
        "  - 제일 뒤에 있는 데이터를 **꺼내고** 삭제\n",
        "  - 인덱스 값을 줄경우 해당 인덱스의 값을 꺼내고 삭제(default : lastindex)"
      ],
      "metadata": {
        "id": "WSI1SvWqwXZ7"
      }
    },
    {
      "cell_type": "code",
      "source": [
        "lst = [1, 2 ,3,4]\n",
        "print(lst.pop())\n",
        "print(lst)\n",
        "\n",
        "print(lst.pop())\n",
        "print(lst)\n",
        "\n",
        "print(lst.pop())\n",
        "print(lst)\n",
        "\n",
        "print(lst.pop())\n",
        "print(lst)"
      ],
      "metadata": {
        "colab": {
          "base_uri": "https://localhost:8080/"
        },
        "id": "_0YQXl_OwbWs",
        "outputId": "a948feaf-0171-4d91-dfa3-53ba3b7b3301"
      },
      "execution_count": null,
      "outputs": [
        {
          "output_type": "stream",
          "name": "stdout",
          "text": [
            "4\n",
            "[1, 2, 3]\n",
            "3\n",
            "[1, 2]\n",
            "2\n",
            "[1]\n",
            "1\n",
            "[]\n"
          ]
        }
      ]
    },
    {
      "cell_type": "markdown",
      "source": [
        "- 앞에서 부터 꺼내고 삭제하고 싶다면?"
      ],
      "metadata": {
        "id": "t20MiGY1y_Oy"
      }
    },
    {
      "cell_type": "code",
      "source": [
        "lst = [1, 2 ,3,4]\n",
        "print(lst.pop(0))\n",
        "print(lst)\n",
        "print(lst.pop(0))\n",
        "print(lst)\n",
        "print(lst.pop(0))\n",
        "print(lst)\n",
        "print(lst.pop(0))\n",
        "print(lst)"
      ],
      "metadata": {
        "colab": {
          "base_uri": "https://localhost:8080/"
        },
        "id": "5k6GrxGMwoJF",
        "outputId": "81502973-98c2-42c7-98aa-5e88acfdbe75"
      },
      "execution_count": null,
      "outputs": [
        {
          "output_type": "stream",
          "name": "stdout",
          "text": [
            "1\n",
            "[2, 3, 4]\n",
            "2\n",
            "[3, 4]\n",
            "3\n",
            "[4]\n",
            "4\n",
            "[]\n"
          ]
        }
      ]
    },
    {
      "cell_type": "markdown",
      "source": [
        "- extend()\n",
        "  - 리스트와 리스트 합친다.(연결한다.)"
      ],
      "metadata": {
        "id": "AHbB08oQw_gE"
      }
    },
    {
      "cell_type": "code",
      "source": [
        "lst = [1,2,3]\n",
        "lst.extend([4,5,6])\n",
        "\n",
        "lst"
      ],
      "metadata": {
        "colab": {
          "base_uri": "https://localhost:8080/"
        },
        "id": "oanjlsbExAhJ",
        "outputId": "372a276b-27e4-45a0-db94-01b927dca7e8"
      },
      "execution_count": null,
      "outputs": [
        {
          "output_type": "execute_result",
          "data": {
            "text/plain": [
              "[1, 2, 3, 4, 5, 6]"
            ]
          },
          "metadata": {},
          "execution_count": 12
        }
      ]
    },
    {
      "cell_type": "markdown",
      "source": [
        "- append 메소드와 차이점은 append 메소드 경우는 리스트에 하나의 객체(요소)로 추가되는것"
      ],
      "metadata": {
        "id": "HHd8FHIXxX-D"
      }
    },
    {
      "cell_type": "code",
      "source": [
        "lst = [1,2,3]\n",
        "lst.append([4,5,6])\n",
        "lst"
      ],
      "metadata": {
        "colab": {
          "base_uri": "https://localhost:8080/"
        },
        "id": "xU9k0pOVxSWA",
        "outputId": "abba59b7-386f-4932-9803-0b8d6bade586"
      },
      "execution_count": null,
      "outputs": [
        {
          "output_type": "execute_result",
          "data": {
            "text/plain": [
              "[1, 2, 3, [4, 5, 6]]"
            ]
          },
          "metadata": {},
          "execution_count": 13
        }
      ]
    },
    {
      "cell_type": "markdown",
      "source": [
        "\n",
        "- insert()\n",
        "  - 인덱스 위치에 값을 추가한다.\n",
        "  \n"
      ],
      "metadata": {
        "id": "OnvtBG1yxnnK"
      }
    },
    {
      "cell_type": "code",
      "source": [
        "lst = [1,2,3]\n",
        "lst.insert(0 , 9)\n",
        "lst"
      ],
      "metadata": {
        "colab": {
          "base_uri": "https://localhost:8080/"
        },
        "id": "-pn_EZA-uEMj",
        "outputId": "19357a28-742b-4ae7-dfd5-955518d322a4"
      },
      "execution_count": null,
      "outputs": [
        {
          "output_type": "execute_result",
          "data": {
            "text/plain": [
              "[9, 1, 2, 3]"
            ]
          },
          "metadata": {},
          "execution_count": 14
        }
      ]
    },
    {
      "cell_type": "code",
      "source": [
        "lst = [1,2,3]\n",
        "lst.insert(1 , 9)\n",
        "lst"
      ],
      "metadata": {
        "colab": {
          "base_uri": "https://localhost:8080/"
        },
        "id": "n29FkI09xttC",
        "outputId": "808ad569-bc0b-4da3-8c83-7446b4323206"
      },
      "execution_count": null,
      "outputs": [
        {
          "output_type": "execute_result",
          "data": {
            "text/plain": [
              "[1, 9, 2, 3]"
            ]
          },
          "metadata": {},
          "execution_count": 15
        }
      ]
    },
    {
      "cell_type": "markdown",
      "source": [
        "* remove()\n",
        "  - 리스트에서 값을 찾아 삭제한다."
      ],
      "metadata": {
        "id": "da6kmbS4xyPC"
      }
    },
    {
      "cell_type": "code",
      "source": [
        "lst = [1,2,3]\n",
        "lst.remove(2)\n",
        "lst"
      ],
      "metadata": {
        "colab": {
          "base_uri": "https://localhost:8080/"
        },
        "id": "zoS7FKIzuEDz",
        "outputId": "45e82f6b-3956-4d1b-880d-005f921a0f7d"
      },
      "execution_count": null,
      "outputs": [
        {
          "output_type": "execute_result",
          "data": {
            "text/plain": [
              "[1, 3]"
            ]
          },
          "metadata": {},
          "execution_count": 16
        }
      ]
    },
    {
      "cell_type": "markdown",
      "source": [
        "- del 키워드\n",
        "  - 특정 인덱스 값을 삭제"
      ],
      "metadata": {
        "id": "YlKq2RjqyFk9"
      }
    },
    {
      "cell_type": "code",
      "source": [
        "lst = [1,2,3]\n",
        "del lst[0]\n",
        "lst"
      ],
      "metadata": {
        "id": "qv1hGlFIvZQa",
        "colab": {
          "base_uri": "https://localhost:8080/"
        },
        "outputId": "b321d6e8-141f-4d88-a45c-e641e8b3fc01"
      },
      "execution_count": null,
      "outputs": [
        {
          "output_type": "execute_result",
          "data": {
            "text/plain": [
              "[2, 3]"
            ]
          },
          "metadata": {},
          "execution_count": 17
        }
      ]
    },
    {
      "cell_type": "markdown",
      "source": [
        "- del 키워드는 변수를 메모리에서 삭제할때 사용 할수도 있다."
      ],
      "metadata": {
        "id": "pSBs5KwmyVNp"
      }
    },
    {
      "cell_type": "code",
      "source": [
        "a = 1004\n",
        "del a\n",
        "a"
      ],
      "metadata": {
        "colab": {
          "base_uri": "https://localhost:8080/",
          "height": 211
        },
        "id": "VOnk1nAwvcLa",
        "outputId": "965c7025-edb9-4fa3-ebb3-9bd49e8c8a01"
      },
      "execution_count": null,
      "outputs": [
        {
          "output_type": "error",
          "ename": "NameError",
          "evalue": "ignored",
          "traceback": [
            "\u001b[0;31m---------------------------------------------------------------------------\u001b[0m",
            "\u001b[0;31mNameError\u001b[0m                                 Traceback (most recent call last)",
            "\u001b[0;32m<ipython-input-18-e5d3a0273a35>\u001b[0m in \u001b[0;36m<module>\u001b[0;34m()\u001b[0m\n\u001b[1;32m      1\u001b[0m \u001b[0ma\u001b[0m \u001b[0;34m=\u001b[0m \u001b[0;36m1004\u001b[0m\u001b[0;34m\u001b[0m\u001b[0;34m\u001b[0m\u001b[0m\n\u001b[1;32m      2\u001b[0m \u001b[0;32mdel\u001b[0m \u001b[0ma\u001b[0m\u001b[0;34m\u001b[0m\u001b[0;34m\u001b[0m\u001b[0m\n\u001b[0;32m----> 3\u001b[0;31m \u001b[0ma\u001b[0m\u001b[0;34m\u001b[0m\u001b[0;34m\u001b[0m\u001b[0m\n\u001b[0m",
            "\u001b[0;31mNameError\u001b[0m: name 'a' is not defined"
          ]
        }
      ]
    },
    {
      "cell_type": "markdown",
      "source": [
        "- count()\n",
        "  - 리스트안에 객체(요소)의 빈도수를 반환해준다."
      ],
      "metadata": {
        "id": "wiQ69X9v1kma"
      }
    },
    {
      "cell_type": "code",
      "source": [
        "lst = [1,2,3,3,3,2,1,1,1,1]\n",
        "lst.count(3)"
      ],
      "metadata": {
        "colab": {
          "base_uri": "https://localhost:8080/"
        },
        "id": "rKFHwhPE1kUb",
        "outputId": "26b6bd7a-f3d1-445f-ba43-a4812d1f144d"
      },
      "execution_count": null,
      "outputs": [
        {
          "output_type": "execute_result",
          "data": {
            "text/plain": [
              "3"
            ]
          },
          "metadata": {},
          "execution_count": 19
        }
      ]
    },
    {
      "cell_type": "markdown",
      "source": [
        "## list의 연산"
      ],
      "metadata": {
        "id": "SjyFXyQorHdW"
      }
    },
    {
      "cell_type": "code",
      "source": [
        "list1 = [1,2,3]\n",
        "list2 = [4,5,6]"
      ],
      "metadata": {
        "id": "z5kFoWivrHM2"
      },
      "execution_count": null,
      "outputs": []
    },
    {
      "cell_type": "markdown",
      "source": [
        "- 더하기 연산을 이용한 리스트 연결\n",
        "    - extend 와 같은 결과\n",
        "    - 다른 점은 원본 리스트를 변경하지 않고 새로은 리스트가 생기는 개념\n"
      ],
      "metadata": {
        "id": "VNSG-uEyz9mR"
      }
    },
    {
      "cell_type": "code",
      "source": [
        "list1 + list2"
      ],
      "metadata": {
        "colab": {
          "base_uri": "https://localhost:8080/"
        },
        "id": "51LgzEw6rQnX",
        "outputId": "d0ff3117-9558-46fb-9797-f31d6f45f114"
      },
      "execution_count": null,
      "outputs": [
        {
          "output_type": "execute_result",
          "data": {
            "text/plain": [
              "[1, 2, 3, 4, 5, 6]"
            ]
          },
          "metadata": {},
          "execution_count": 21
        }
      ]
    },
    {
      "cell_type": "markdown",
      "source": [
        "- 이런식으로 활용하면 append 와 동일한 효과를 볼수 있다."
      ],
      "metadata": {
        "id": "D7LD3I1J0PM5"
      }
    },
    {
      "cell_type": "code",
      "source": [
        "list1 + [6]"
      ],
      "metadata": {
        "colab": {
          "base_uri": "https://localhost:8080/"
        },
        "id": "2QNJNuahtS11",
        "outputId": "650585e8-e36c-47be-aa8b-7fceb0e0b0ce"
      },
      "execution_count": null,
      "outputs": [
        {
          "output_type": "execute_result",
          "data": {
            "text/plain": [
              "[1, 2, 3, 6]"
            ]
          },
          "metadata": {},
          "execution_count": 22
        }
      ]
    },
    {
      "cell_type": "markdown",
      "source": [
        "- 곱하기 연산을 사용하면 리스트를 반복해서 연결"
      ],
      "metadata": {
        "id": "fGgUkaahtsqG"
      }
    },
    {
      "cell_type": "code",
      "source": [
        "list1 * 3"
      ],
      "metadata": {
        "colab": {
          "base_uri": "https://localhost:8080/"
        },
        "id": "cmusRG28rSYu",
        "outputId": "52161cff-33b7-410a-e30c-56c57923b216"
      },
      "execution_count": null,
      "outputs": [
        {
          "output_type": "execute_result",
          "data": {
            "text/plain": [
              "[1, 2, 3, 1, 2, 3, 1, 2, 3]"
            ]
          },
          "metadata": {},
          "execution_count": 23
        }
      ]
    },
    {
      "cell_type": "markdown",
      "source": [
        "- 포함연산자를 이용하면 리스트 안에 객체(요소)가 포함되어있는지 알수 있다."
      ],
      "metadata": {
        "id": "mKw68Sau0tB5"
      }
    },
    {
      "cell_type": "code",
      "source": [
        "2 in list1"
      ],
      "metadata": {
        "colab": {
          "base_uri": "https://localhost:8080/"
        },
        "id": "HArv5tMfrcwu",
        "outputId": "b7b95cc2-f536-41d0-e48b-86038b854ecc"
      },
      "execution_count": null,
      "outputs": [
        {
          "output_type": "execute_result",
          "data": {
            "text/plain": [
              "True"
            ]
          },
          "metadata": {},
          "execution_count": 24
        }
      ]
    },
    {
      "cell_type": "code",
      "source": [
        "1004 in list1"
      ],
      "metadata": {
        "colab": {
          "base_uri": "https://localhost:8080/"
        },
        "id": "djovYaY6x8LK",
        "outputId": "cbd0bc78-b7e6-4ef9-c5d6-dbb38c6c7ca9"
      },
      "execution_count": null,
      "outputs": [
        {
          "output_type": "execute_result",
          "data": {
            "text/plain": [
              "False"
            ]
          },
          "metadata": {},
          "execution_count": 25
        }
      ]
    },
    {
      "cell_type": "code",
      "source": [
        "1004 not in list1"
      ],
      "metadata": {
        "colab": {
          "base_uri": "https://localhost:8080/"
        },
        "id": "K1VI4_UvrgbG",
        "outputId": "78a24df2-b6f6-4d00-8c85-796dd9f40308"
      },
      "execution_count": null,
      "outputs": [
        {
          "output_type": "execute_result",
          "data": {
            "text/plain": [
              "True"
            ]
          },
          "metadata": {},
          "execution_count": 26
        }
      ]
    },
    {
      "cell_type": "markdown",
      "source": [
        "- 비교연산자를 이용하면 리스트의 각 객체(요소)의 값이 같은지 다른지 비교할수 있다."
      ],
      "metadata": {
        "id": "MXcWBxGY09ZX"
      }
    },
    {
      "cell_type": "code",
      "source": [
        "list1 == [1,2,3]"
      ],
      "metadata": {
        "colab": {
          "base_uri": "https://localhost:8080/"
        },
        "id": "jR-brPkL1EYo",
        "outputId": "7f29be29-7b77-4b71-ece6-8b7b572308f2"
      },
      "execution_count": null,
      "outputs": [
        {
          "output_type": "execute_result",
          "data": {
            "text/plain": [
              "True"
            ]
          },
          "metadata": {},
          "execution_count": 27
        }
      ]
    },
    {
      "cell_type": "code",
      "source": [
        "list1 != [1,2,3]"
      ],
      "metadata": {
        "colab": {
          "base_uri": "https://localhost:8080/"
        },
        "id": "tZIj4fqL0eDJ",
        "outputId": "338885c9-2281-4e17-ddc0-04dbb1647485"
      },
      "execution_count": null,
      "outputs": [
        {
          "output_type": "execute_result",
          "data": {
            "text/plain": [
              "False"
            ]
          },
          "metadata": {},
          "execution_count": 28
        }
      ]
    },
    {
      "cell_type": "markdown",
      "source": [
        "# `tuple` 활용\n",
        "\n"
      ],
      "metadata": {
        "id": "ySWDPNDDsRpo"
      }
    },
    {
      "cell_type": "markdown",
      "source": [
        "## `tuple`의 메소드\n"
      ],
      "metadata": {
        "id": "pvKhFsh517WK"
      }
    },
    {
      "cell_type": "markdown",
      "source": [
        "- count()\n",
        "  - 튜플 안에 객체(요소)의 빈도수를 반환해준다."
      ],
      "metadata": {
        "id": "_Ff5cA9C3APZ"
      }
    },
    {
      "cell_type": "code",
      "source": [
        "tup = (1,2,3,3,3,2,1,1,1,1)\n",
        "tup.count(1)"
      ],
      "metadata": {
        "colab": {
          "base_uri": "https://localhost:8080/"
        },
        "id": "EZZ1HqMC2p6q",
        "outputId": "f703ea07-cc9a-4652-fcd8-75e6e8095dd4"
      },
      "execution_count": null,
      "outputs": [
        {
          "output_type": "execute_result",
          "data": {
            "text/plain": [
              "5"
            ]
          },
          "metadata": {},
          "execution_count": 29
        }
      ]
    },
    {
      "cell_type": "markdown",
      "source": [
        "- 튜플은 수정 불가능한 자료형 이지만, 컬렉션 자료형에 대한 더하기와 곱하기 연산은 새로운 객체를 생성하기 때문에 사용가능하다."
      ],
      "metadata": {
        "id": "RAbKKQL_3h9f"
      }
    },
    {
      "cell_type": "code",
      "source": [
        "tup1 = (1,2,3)\n",
        "tup2 = (4,5,6)\n",
        "\n",
        "tup1 + tup2"
      ],
      "metadata": {
        "colab": {
          "base_uri": "https://localhost:8080/"
        },
        "id": "LEIIiv2K2p3v",
        "outputId": "fd3eee8c-a93f-45c5-9fc5-7588bad3db0d"
      },
      "execution_count": null,
      "outputs": [
        {
          "output_type": "execute_result",
          "data": {
            "text/plain": [
              "(1, 2, 3, 4, 5, 6)"
            ]
          },
          "metadata": {},
          "execution_count": 30
        }
      ]
    },
    {
      "cell_type": "code",
      "source": [
        "tup1 * 2"
      ],
      "metadata": {
        "colab": {
          "base_uri": "https://localhost:8080/"
        },
        "id": "8VWRAnd52p03",
        "outputId": "7cd177be-bee0-48aa-ac59-10ce325f1ac1"
      },
      "execution_count": null,
      "outputs": [
        {
          "output_type": "execute_result",
          "data": {
            "text/plain": [
              "(1, 2, 3, 1, 2, 3)"
            ]
          },
          "metadata": {},
          "execution_count": 31
        }
      ]
    },
    {
      "cell_type": "markdown",
      "source": [
        "- 동일하게 포함 연산자와 비교연산자도 사용 가능하다."
      ],
      "metadata": {
        "id": "nqvIypff34qW"
      }
    },
    {
      "cell_type": "code",
      "source": [
        "3 in tup1"
      ],
      "metadata": {
        "colab": {
          "base_uri": "https://localhost:8080/"
        },
        "id": "8gcUiZ4L4Bqe",
        "outputId": "215fe738-19f1-4428-9a89-d4a383086eba"
      },
      "execution_count": null,
      "outputs": [
        {
          "output_type": "execute_result",
          "data": {
            "text/plain": [
              "True"
            ]
          },
          "metadata": {},
          "execution_count": 32
        }
      ]
    },
    {
      "cell_type": "code",
      "source": [
        "3 not in tup1"
      ],
      "metadata": {
        "colab": {
          "base_uri": "https://localhost:8080/"
        },
        "id": "2e5obzU04Dix",
        "outputId": "4af983ff-7315-4353-fb98-e2f678d09041"
      },
      "execution_count": null,
      "outputs": [
        {
          "output_type": "execute_result",
          "data": {
            "text/plain": [
              "False"
            ]
          },
          "metadata": {},
          "execution_count": 33
        }
      ]
    },
    {
      "cell_type": "code",
      "source": [
        "tup1 == tup2"
      ],
      "metadata": {
        "colab": {
          "base_uri": "https://localhost:8080/"
        },
        "id": "8P3nC7GG2px_",
        "outputId": "fc0f0d89-14da-409d-d454-88676b1df779"
      },
      "execution_count": null,
      "outputs": [
        {
          "output_type": "execute_result",
          "data": {
            "text/plain": [
              "False"
            ]
          },
          "metadata": {},
          "execution_count": 34
        }
      ]
    },
    {
      "cell_type": "code",
      "source": [
        "tup1 != tup2"
      ],
      "metadata": {
        "colab": {
          "base_uri": "https://localhost:8080/"
        },
        "id": "ZkvQ4_l32pu2",
        "outputId": "2bb28931-99c3-4f6b-890e-7eaa6831d32f"
      },
      "execution_count": null,
      "outputs": [
        {
          "output_type": "execute_result",
          "data": {
            "text/plain": [
              "True"
            ]
          },
          "metadata": {},
          "execution_count": 35
        }
      ]
    },
    {
      "cell_type": "markdown",
      "source": [
        "# `set` 활용\n",
        "\n",
        "\n"
      ],
      "metadata": {
        "id": "GjQxXZ_nsQlm"
      }
    },
    {
      "cell_type": "markdown",
      "source": [
        "## `set`의 메소드"
      ],
      "metadata": {
        "id": "atxaihjk4Pw4"
      }
    },
    {
      "cell_type": "code",
      "source": [
        "A = {1, 2, 3}\n",
        "B = {2, 3, 4}\n",
        "\n",
        "A , B"
      ],
      "metadata": {
        "id": "ZZ2mfBiXxz6z",
        "colab": {
          "base_uri": "https://localhost:8080/"
        },
        "outputId": "4fc97212-3cd2-4c84-bce4-a0c16e6163d8"
      },
      "execution_count": null,
      "outputs": [
        {
          "output_type": "execute_result",
          "data": {
            "text/plain": [
              "({1, 2, 3}, {2, 3, 4})"
            ]
          },
          "metadata": {},
          "execution_count": 36
        }
      ]
    },
    {
      "cell_type": "code",
      "source": [
        "A"
      ],
      "metadata": {
        "colab": {
          "base_uri": "https://localhost:8080/"
        },
        "id": "O2GvYRRXy8Fd",
        "outputId": "b0bb280d-9890-4d05-8244-71594dd81db2"
      },
      "execution_count": null,
      "outputs": [
        {
          "output_type": "execute_result",
          "data": {
            "text/plain": [
              "{1, 2, 3}"
            ]
          },
          "metadata": {},
          "execution_count": 37
        }
      ]
    },
    {
      "cell_type": "markdown",
      "source": [
        "- intersection()\n",
        "    - 교집합을 반환한다."
      ],
      "metadata": {
        "id": "npBhLVc14d0Z"
      }
    },
    {
      "cell_type": "code",
      "source": [
        "A.intersection(B)"
      ],
      "metadata": {
        "colab": {
          "base_uri": "https://localhost:8080/"
        },
        "id": "-VBocHvKx1tL",
        "outputId": "9ce74fc3-0afc-4a3f-920a-1bd3ae326a7e"
      },
      "execution_count": null,
      "outputs": [
        {
          "output_type": "execute_result",
          "data": {
            "text/plain": [
              "{2, 3}"
            ]
          },
          "metadata": {},
          "execution_count": 38
        }
      ]
    },
    {
      "cell_type": "markdown",
      "source": [
        "- union()\n",
        "    - 합집합을 반환한다."
      ],
      "metadata": {
        "id": "3A03TlWA4j09"
      }
    },
    {
      "cell_type": "code",
      "source": [
        "A.union(B)"
      ],
      "metadata": {
        "colab": {
          "base_uri": "https://localhost:8080/"
        },
        "id": "pudCnXSbx2w5",
        "outputId": "397ef8fe-2b52-4cec-b79d-6f2c3ce3da17"
      },
      "execution_count": null,
      "outputs": [
        {
          "output_type": "execute_result",
          "data": {
            "text/plain": [
              "{1, 2, 3, 4}"
            ]
          },
          "metadata": {},
          "execution_count": 39
        }
      ]
    },
    {
      "cell_type": "markdown",
      "source": [
        "- difference()\n",
        "    - 차집합을 반환환다."
      ],
      "metadata": {
        "id": "AMU2p-LW4pd1"
      }
    },
    {
      "cell_type": "code",
      "source": [
        "A.difference(B)"
      ],
      "metadata": {
        "colab": {
          "base_uri": "https://localhost:8080/"
        },
        "id": "mQy1wcCyyKkX",
        "outputId": "684632a8-0159-49a2-f4b2-ff13ed2860cb"
      },
      "execution_count": null,
      "outputs": [
        {
          "output_type": "execute_result",
          "data": {
            "text/plain": [
              "{1}"
            ]
          },
          "metadata": {},
          "execution_count": 40
        }
      ]
    },
    {
      "cell_type": "markdown",
      "source": [
        "- add()\n",
        "    - 객체(요소)를 추가할수 있다.\n",
        "    - 중복 요소 일 경우 추가 되지 않는다."
      ],
      "metadata": {
        "id": "G81IbCW30InH"
      }
    },
    {
      "cell_type": "code",
      "source": [
        "a = {1,2,3}\n",
        "a.add(4)\n",
        "a"
      ],
      "metadata": {
        "id": "KYGdHtyH3y2Z",
        "colab": {
          "base_uri": "https://localhost:8080/"
        },
        "outputId": "ef23ae01-9ead-4817-eadc-ad7dbdcb53ee"
      },
      "execution_count": null,
      "outputs": [
        {
          "output_type": "execute_result",
          "data": {
            "text/plain": [
              "{1, 2, 3, 4}"
            ]
          },
          "metadata": {},
          "execution_count": 41
        }
      ]
    },
    {
      "cell_type": "markdown",
      "source": [
        "- update()\n",
        "    - 여러 객체(요소)들을 추가할수 있다.\n",
        "    - 중복 요소는 제외되고 추가 된다."
      ],
      "metadata": {
        "id": "FTJTL0ux5I1u"
      }
    },
    {
      "cell_type": "code",
      "source": [
        "a.update([1,2,3,4,5,6])\n",
        "a"
      ],
      "metadata": {
        "id": "8KBd3PRDG2Si",
        "colab": {
          "base_uri": "https://localhost:8080/"
        },
        "outputId": "d0216442-fe89-48a5-bc62-072afb58a710"
      },
      "execution_count": null,
      "outputs": [
        {
          "output_type": "execute_result",
          "data": {
            "text/plain": [
              "{1, 2, 3, 4, 5, 6}"
            ]
          },
          "metadata": {},
          "execution_count": 42
        }
      ]
    },
    {
      "cell_type": "markdown",
      "source": [
        "- remove()\n",
        "    - 값을 기준으로 삭제한다."
      ],
      "metadata": {
        "id": "Ngybk5kF5Vm1"
      }
    },
    {
      "cell_type": "code",
      "source": [
        "a.remove(4)\n",
        "a"
      ],
      "metadata": {
        "colab": {
          "base_uri": "https://localhost:8080/"
        },
        "id": "IHJTBbamG2Pc",
        "outputId": "e76a5787-d5f3-489a-dd49-34f999b9da35"
      },
      "execution_count": null,
      "outputs": [
        {
          "output_type": "execute_result",
          "data": {
            "text/plain": [
              "{1, 2, 3, 5, 6}"
            ]
          },
          "metadata": {},
          "execution_count": 43
        }
      ]
    },
    {
      "cell_type": "markdown",
      "source": [
        "# `dict` 활용"
      ],
      "metadata": {
        "id": "pxpc8la8sTyA"
      }
    },
    {
      "cell_type": "code",
      "source": [
        "city = {\n",
        "    \"한국\" : \"부산\",\n",
        "    \"일본\" : \"교토\",\n",
        "    \"캐나다\" : \"오타와\"\n",
        "}\n",
        "city"
      ],
      "metadata": {
        "id": "SPKJu7YRsUt4",
        "colab": {
          "base_uri": "https://localhost:8080/"
        },
        "outputId": "adee623e-2c50-4036-a7e5-797502236bcb"
      },
      "execution_count": null,
      "outputs": [
        {
          "output_type": "execute_result",
          "data": {
            "text/plain": [
              "{'일본': '교토', '캐나다': '오타와', '한국': '부산'}"
            ]
          },
          "metadata": {},
          "execution_count": 44
        }
      ]
    },
    {
      "cell_type": "markdown",
      "source": [
        "## `dict`의 메소드"
      ],
      "metadata": {
        "id": "GyeWX9AQ5rMU"
      }
    },
    {
      "cell_type": "markdown",
      "source": [
        "- get()\n",
        "    - dict 자료형에 없는 key의 value 를 가져오면 에러가 발생한다.\n",
        "    - 에러를 방지하기 위해 유용하다."
      ],
      "metadata": {
        "id": "KWx6WbiuI78i"
      }
    },
    {
      "cell_type": "markdown",
      "source": [
        "\"중국\" 키가 없기 때문에 에러 발생"
      ],
      "metadata": {
        "id": "Tmvee18c6QCu"
      }
    },
    {
      "cell_type": "code",
      "source": [
        "city[\"중국\"]"
      ],
      "metadata": {
        "colab": {
          "base_uri": "https://localhost:8080/",
          "height": 174
        },
        "id": "MBzZwPLw6OAk",
        "outputId": "6332ab9c-376e-4a4d-b17a-f0dd883dc30b"
      },
      "execution_count": null,
      "outputs": [
        {
          "output_type": "error",
          "ename": "KeyError",
          "evalue": "ignored",
          "traceback": [
            "\u001b[0;31m---------------------------------------------------------------------------\u001b[0m",
            "\u001b[0;31mKeyError\u001b[0m                                  Traceback (most recent call last)",
            "\u001b[0;32m<ipython-input-45-2155b176221a>\u001b[0m in \u001b[0;36m<module>\u001b[0;34m()\u001b[0m\n\u001b[0;32m----> 1\u001b[0;31m \u001b[0mcity\u001b[0m\u001b[0;34m[\u001b[0m\u001b[0;34m\"중국\"\u001b[0m\u001b[0;34m]\u001b[0m\u001b[0;34m\u001b[0m\u001b[0;34m\u001b[0m\u001b[0m\n\u001b[0m",
            "\u001b[0;31mKeyError\u001b[0m: '중국'"
          ]
        }
      ]
    },
    {
      "cell_type": "markdown",
      "source": [
        "에러가 발생하지 않는다."
      ],
      "metadata": {
        "id": "i8hg-MGH6a4e"
      }
    },
    {
      "cell_type": "code",
      "source": [
        "city.get(\"중국\")"
      ],
      "metadata": {
        "id": "MqWVgCfU2ojP"
      },
      "execution_count": null,
      "outputs": []
    },
    {
      "cell_type": "markdown",
      "source": [
        "해당 key가 없을 경우 지정한 값으로 value값을 반환되게 할수 있다."
      ],
      "metadata": {
        "id": "8N7pbXe36dIr"
      }
    },
    {
      "cell_type": "code",
      "source": [
        "city.get(\"중국\",\"없음\")"
      ],
      "metadata": {
        "colab": {
          "base_uri": "https://localhost:8080/",
          "height": 35
        },
        "id": "RUQeYhlu2uhP",
        "outputId": "38fb6285-67ad-4fe5-d150-d1cfedf2207a"
      },
      "execution_count": null,
      "outputs": [
        {
          "output_type": "execute_result",
          "data": {
            "text/plain": [
              "'없음'"
            ],
            "application/vnd.google.colaboratory.intrinsic+json": {
              "type": "string"
            }
          },
          "metadata": {},
          "execution_count": 47
        }
      ]
    },
    {
      "cell_type": "markdown",
      "source": [
        "- update()\n",
        "    - dict 자료형에 dict 자료형을 추가할때 사용한다.\n",
        "    - 동일한 key가 있을 경우 value 가 수정되고, 없을 경우 추가된다."
      ],
      "metadata": {
        "id": "RLZp-2xN6pgs"
      }
    },
    {
      "cell_type": "code",
      "source": [
        "add_city = {\"중국\": \"상하이\" , \"미국\" : \"워싱턴\"}\n",
        "city.update(add_city)\n",
        "city"
      ],
      "metadata": {
        "colab": {
          "base_uri": "https://localhost:8080/"
        },
        "id": "6b7CTD0vUDeT",
        "outputId": "d6c29d30-2fae-460d-bbb8-d854b3f425ae"
      },
      "execution_count": null,
      "outputs": [
        {
          "output_type": "execute_result",
          "data": {
            "text/plain": [
              "{'미국': '워싱턴', '일본': '교토', '중국': '상하이', '캐나다': '오타와', '한국': '부산'}"
            ]
          },
          "metadata": {},
          "execution_count": 48
        }
      ]
    },
    {
      "cell_type": "markdown",
      "source": [
        "- pop()\n",
        "    - key의 value 를 반환 하면서 지정한 key와 value를 삭제한다."
      ],
      "metadata": {
        "id": "gWWN4Ime7Waj"
      }
    },
    {
      "cell_type": "code",
      "source": [
        "print(city.pop(\"중국\"))\n",
        "city"
      ],
      "metadata": {
        "colab": {
          "base_uri": "https://localhost:8080/"
        },
        "id": "qtV1lQ7O3Ny-",
        "outputId": "184ae0e6-a287-4eed-d6be-9e23aed55c53"
      },
      "execution_count": null,
      "outputs": [
        {
          "output_type": "stream",
          "name": "stdout",
          "text": [
            "상하이\n"
          ]
        },
        {
          "output_type": "execute_result",
          "data": {
            "text/plain": [
              "{'미국': '워싱턴', '일본': '교토', '캐나다': '오타와', '한국': '부산'}"
            ]
          },
          "metadata": {},
          "execution_count": 49
        }
      ]
    },
    {
      "cell_type": "markdown",
      "source": [
        "- keys()\n",
        "    - dict 자료형의 전체 key 를 확인할수 있다."
      ],
      "metadata": {
        "id": "wJUSZl7V7k18"
      }
    },
    {
      "cell_type": "code",
      "source": [
        "city.keys()"
      ],
      "metadata": {
        "colab": {
          "base_uri": "https://localhost:8080/"
        },
        "id": "g-zAbmbY2Cg0",
        "outputId": "f1fb4752-eb77-4f99-b1d3-c8ad0ec62661"
      },
      "execution_count": null,
      "outputs": [
        {
          "output_type": "execute_result",
          "data": {
            "text/plain": [
              "dict_keys(['한국', '일본', '캐나다', '미국'])"
            ]
          },
          "metadata": {},
          "execution_count": 50
        }
      ]
    },
    {
      "cell_type": "markdown",
      "source": [
        "- values()\n",
        "    - dict 자료형의 전체 value 를 확인할수 있다."
      ],
      "metadata": {
        "id": "OR6aJX-37rmL"
      }
    },
    {
      "cell_type": "code",
      "source": [
        "city.values()"
      ],
      "metadata": {
        "colab": {
          "base_uri": "https://localhost:8080/"
        },
        "id": "IgcxoLjG2Yed",
        "outputId": "bb68cd02-bbb6-42b3-fa00-d03aa04a7219"
      },
      "execution_count": null,
      "outputs": [
        {
          "output_type": "execute_result",
          "data": {
            "text/plain": [
              "dict_values(['부산', '교토', '오타와', '워싱턴'])"
            ]
          },
          "metadata": {},
          "execution_count": 51
        }
      ]
    },
    {
      "cell_type": "markdown",
      "source": [
        "- items()\n",
        "    - dict 자료형의 전체 key 와 value 를 확인할수 있다.\n",
        "    - key 와 value는 튜플 형태로 묶인다."
      ],
      "metadata": {
        "id": "Vx8wx0SM7xTz"
      }
    },
    {
      "cell_type": "code",
      "source": [
        "city.items()"
      ],
      "metadata": {
        "colab": {
          "base_uri": "https://localhost:8080/"
        },
        "id": "Nt3QeHyP2b9D",
        "outputId": "e2df6f62-19f4-430a-f353-7f483978ec20"
      },
      "execution_count": null,
      "outputs": [
        {
          "output_type": "execute_result",
          "data": {
            "text/plain": [
              "dict_items([('한국', '부산'), ('일본', '교토'), ('캐나다', '오타와'), ('미국', '워싱턴')])"
            ]
          },
          "metadata": {},
          "execution_count": 52
        }
      ]
    },
    {
      "cell_type": "markdown",
      "source": [
        "- 포함 연산자를 이용하여 다음과 같이 활용 할수 있다."
      ],
      "metadata": {
        "id": "IOngk2OC77U0"
      }
    },
    {
      "cell_type": "markdown",
      "source": [
        "해당 키가 있는지 keys 메소드로 확인해보기"
      ],
      "metadata": {
        "id": "mDVZo7Pt8AdL"
      }
    },
    {
      "cell_type": "code",
      "source": [
        "\"한국\" in city.keys()"
      ],
      "metadata": {
        "colab": {
          "base_uri": "https://localhost:8080/"
        },
        "id": "0hGvPBoR1jUX",
        "outputId": "5b5d0d5d-70f1-4a1b-b32c-e8a3a292bccc"
      },
      "execution_count": null,
      "outputs": [
        {
          "output_type": "execute_result",
          "data": {
            "text/plain": [
              "True"
            ]
          },
          "metadata": {},
          "execution_count": 53
        }
      ]
    },
    {
      "cell_type": "markdown",
      "source": [
        "해당 value 가 없는지 확인해보기"
      ],
      "metadata": {
        "id": "QB6Au-KW8Byr"
      }
    },
    {
      "cell_type": "code",
      "source": [
        "\"서울\" not in city.values()"
      ],
      "metadata": {
        "colab": {
          "base_uri": "https://localhost:8080/"
        },
        "id": "aqRSMpg712Lm",
        "outputId": "d3aab01b-94e2-4013-b839-c027eb4cecd9"
      },
      "execution_count": null,
      "outputs": [
        {
          "output_type": "execute_result",
          "data": {
            "text/plain": [
              "True"
            ]
          },
          "metadata": {},
          "execution_count": 54
        }
      ]
    },
    {
      "cell_type": "markdown",
      "source": [
        "- 문자열만 키가 될수있는게 아니다."
      ],
      "metadata": {
        "id": "Sov2scIj402L"
      }
    },
    {
      "cell_type": "code",
      "source": [
        "num_dict = {\n",
        "    0:\"제로\",\n",
        "    3.14 : \"원주율\"\n",
        "}\n",
        "\n",
        "num_dict[3.14]"
      ],
      "metadata": {
        "colab": {
          "base_uri": "https://localhost:8080/",
          "height": 35
        },
        "id": "mKIT-eP83xuV",
        "outputId": "b4940274-0b84-4102-ec62-1b3aeb86aded"
      },
      "execution_count": null,
      "outputs": [
        {
          "output_type": "execute_result",
          "data": {
            "text/plain": [
              "'원주율'"
            ],
            "application/vnd.google.colaboratory.intrinsic+json": {
              "type": "string"
            }
          },
          "metadata": {},
          "execution_count": 55
        }
      ]
    },
    {
      "cell_type": "code",
      "source": [
        "num_dict[0]"
      ],
      "metadata": {
        "colab": {
          "base_uri": "https://localhost:8080/",
          "height": 35
        },
        "id": "qf7JFmUH8Nuj",
        "outputId": "ed7a904c-b12c-421b-ba7c-5bf517f11d40"
      },
      "execution_count": null,
      "outputs": [
        {
          "output_type": "execute_result",
          "data": {
            "text/plain": [
              "'제로'"
            ],
            "application/vnd.google.colaboratory.intrinsic+json": {
              "type": "string"
            }
          },
          "metadata": {},
          "execution_count": 56
        }
      ]
    },
    {
      "cell_type": "markdown",
      "source": [
        "- dict 자료형도 value에 모든 객체를 담을 수 있다."
      ],
      "metadata": {
        "id": "a8vTpTXpMk20"
      }
    },
    {
      "cell_type": "code",
      "source": [
        "info_dict = {\n",
        "    \"name\" : \"이관수\",\n",
        "    \"score\" : [100,100,100,100,100],\n",
        "    \"etc\" : {\n",
        "        \"my_dream\" : \"hacker\",\n",
        "    }\n",
        "}\n",
        "\n",
        "info_dict"
      ],
      "metadata": {
        "colab": {
          "base_uri": "https://localhost:8080/"
        },
        "id": "erPZCO12MKix",
        "outputId": "f645e22a-0b65-4d8b-8f8b-5d192e048f62"
      },
      "execution_count": null,
      "outputs": [
        {
          "output_type": "execute_result",
          "data": {
            "text/plain": [
              "{'etc': {'my_dream': 'hacker'},\n",
              " 'name': '이관수',\n",
              " 'score': [100, 100, 100, 100, 100]}"
            ]
          },
          "metadata": {},
          "execution_count": 57
        }
      ]
    },
    {
      "cell_type": "markdown",
      "source": [
        "- key를 수정해야 할경우 다음과 같이 pop 메소드를 이용하면 된다."
      ],
      "metadata": {
        "id": "0uK4VLfK8p1a"
      }
    },
    {
      "cell_type": "code",
      "source": [
        "num_dict = {\n",
        "    \"mean\":80,\n",
        "    \"std\" : 3.5,\n",
        "}\n",
        "\n",
        "num_dict[\"avg\"] = num_dict.pop(\"mean\")\n",
        "num_dict"
      ],
      "metadata": {
        "colab": {
          "base_uri": "https://localhost:8080/"
        },
        "id": "vWP_ufOI8lca",
        "outputId": "3bf26ec6-be19-4869-832e-7d6b78c87a4d"
      },
      "execution_count": null,
      "outputs": [
        {
          "output_type": "execute_result",
          "data": {
            "text/plain": [
              "{'avg': 80, 'std': 3.5}"
            ]
          },
          "metadata": {},
          "execution_count": 58
        }
      ]
    },
    {
      "cell_type": "markdown",
      "source": [
        "# 컬렉션 자료형의 변환"
      ],
      "metadata": {
        "id": "sdxr4bnI2sTW"
      }
    },
    {
      "cell_type": "markdown",
      "source": [
        "- list -> tuple"
      ],
      "metadata": {
        "id": "7FeWfMCh8-Yp"
      }
    },
    {
      "cell_type": "code",
      "source": [
        "lst = [1, 2, 3]\n",
        "tuple(lst)"
      ],
      "metadata": {
        "colab": {
          "base_uri": "https://localhost:8080/"
        },
        "id": "AOKe4x6Z2vEb",
        "outputId": "849d3d00-18e5-4a24-faec-bc9c462f4b55"
      },
      "execution_count": null,
      "outputs": [
        {
          "output_type": "execute_result",
          "data": {
            "text/plain": [
              "(1, 2, 3)"
            ]
          },
          "metadata": {},
          "execution_count": 59
        }
      ]
    },
    {
      "cell_type": "markdown",
      "source": [
        "- tuple -> list"
      ],
      "metadata": {
        "id": "AlDg6m-n9BIt"
      }
    },
    {
      "cell_type": "code",
      "source": [
        "tup = 1, 2, 3\n",
        "list(tup)"
      ],
      "metadata": {
        "colab": {
          "base_uri": "https://localhost:8080/"
        },
        "id": "kCHFX5712wHb",
        "outputId": "38f27d61-d544-4847-e26f-69af880386e4"
      },
      "execution_count": null,
      "outputs": [
        {
          "output_type": "execute_result",
          "data": {
            "text/plain": [
              "[1, 2, 3]"
            ]
          },
          "metadata": {},
          "execution_count": 60
        }
      ]
    },
    {
      "cell_type": "markdown",
      "source": [
        "- lst -> set"
      ],
      "metadata": {
        "id": "4-yGlmss9EdC"
      }
    },
    {
      "cell_type": "code",
      "source": [
        "lst = [1, 1, 2, 3, 4, 4, 6, 6]\n",
        "set(lst)"
      ],
      "metadata": {
        "colab": {
          "base_uri": "https://localhost:8080/"
        },
        "id": "0a2tUgYg2zgj",
        "outputId": "2944144a-d321-497c-9546-2980e80f7997"
      },
      "execution_count": null,
      "outputs": [
        {
          "output_type": "execute_result",
          "data": {
            "text/plain": [
              "{1, 2, 3, 4, 6}"
            ]
          },
          "metadata": {},
          "execution_count": 61
        }
      ]
    },
    {
      "cell_type": "markdown",
      "source": [
        "- set -> list"
      ],
      "metadata": {
        "id": "9YOzfAdy9Ibh"
      }
    },
    {
      "cell_type": "code",
      "source": [
        "sets = {\"Apple\", \"Banana\", \"Mango\"}\n",
        "list(sets)"
      ],
      "metadata": {
        "colab": {
          "base_uri": "https://localhost:8080/"
        },
        "id": "5LQYquB12zdj",
        "outputId": "2a0c4139-9dae-4fc6-c189-22ab2a3666f7"
      },
      "execution_count": null,
      "outputs": [
        {
          "output_type": "execute_result",
          "data": {
            "text/plain": [
              "['Mango', 'Apple', 'Banana']"
            ]
          },
          "metadata": {},
          "execution_count": 62
        }
      ]
    },
    {
      "cell_type": "markdown",
      "source": [
        "- dict -> list\n",
        "    - dict 를 list 로 변환하면 key만 리스트에 담긴다."
      ],
      "metadata": {
        "id": "wQrUeMIQ9MQC"
      }
    },
    {
      "cell_type": "code",
      "source": [
        "city = {\n",
        "    \"한국\" : \"부산\",\n",
        "    \"일본\" : \"교토\",\n",
        "    \"캐나다\" : \"오타와\"\n",
        "}\n",
        "list(city)"
      ],
      "metadata": {
        "colab": {
          "base_uri": "https://localhost:8080/"
        },
        "id": "R38g_Jzq2zZb",
        "outputId": "95902b10-82fe-4262-9f20-e55368d4689b"
      },
      "execution_count": null,
      "outputs": [
        {
          "output_type": "execute_result",
          "data": {
            "text/plain": [
              "['한국', '일본', '캐나다']"
            ]
          },
          "metadata": {},
          "execution_count": 63
        }
      ]
    },
    {
      "cell_type": "markdown",
      "source": [
        "- keys() 메소드 이용시 위에 셀과 결과가 동일하다."
      ],
      "metadata": {
        "id": "xgBk6pZs9YU6"
      }
    },
    {
      "cell_type": "code",
      "source": [
        "list(city.keys())"
      ],
      "metadata": {
        "colab": {
          "base_uri": "https://localhost:8080/"
        },
        "id": "So7FeZ__VzMB",
        "outputId": "4c24acf9-9bde-4cc2-b962-ee39e6c0335f"
      },
      "execution_count": null,
      "outputs": [
        {
          "output_type": "execute_result",
          "data": {
            "text/plain": [
              "['한국', '일본', '캐나다']"
            ]
          },
          "metadata": {},
          "execution_count": 64
        }
      ]
    },
    {
      "cell_type": "markdown",
      "source": [
        "- values() 메소드를 이용하면 value 만 리스트에 담을수 있다."
      ],
      "metadata": {
        "id": "ZgBr4Pam9fQx"
      }
    },
    {
      "cell_type": "code",
      "source": [
        "list(city.values())"
      ],
      "metadata": {
        "colab": {
          "base_uri": "https://localhost:8080/"
        },
        "id": "zTSceABF6KmX",
        "outputId": "ab7b123b-3e8d-4b30-fd67-3c34d83d0f2d"
      },
      "execution_count": null,
      "outputs": [
        {
          "output_type": "execute_result",
          "data": {
            "text/plain": [
              "['부산', '교토', '오타와']"
            ]
          },
          "metadata": {},
          "execution_count": 65
        }
      ]
    },
    {
      "cell_type": "markdown",
      "source": [
        "- items() 메소드를 이용하면 key , value 가 튜플형태로 묶여 리스트에 담긴다."
      ],
      "metadata": {
        "id": "QJ49P39u9qPS"
      }
    },
    {
      "cell_type": "code",
      "source": [
        "tup_list = list(city.items())\n",
        "tup_list"
      ],
      "metadata": {
        "colab": {
          "base_uri": "https://localhost:8080/"
        },
        "id": "9OvUx3kG6Kiz",
        "outputId": "5525a981-efff-4bf7-dc4f-a2022d4cea25"
      },
      "execution_count": null,
      "outputs": [
        {
          "output_type": "execute_result",
          "data": {
            "text/plain": [
              "[('한국', '부산'), ('일본', '교토'), ('캐나다', '오타와')]"
            ]
          },
          "metadata": {},
          "execution_count": 67
        }
      ]
    },
    {
      "cell_type": "markdown",
      "source": [
        "-  리스트안에 튜플이 두개 씩 들어있으면 key , value 형태로 쌍을 이뤄 dict 자료형으로 변환 할수 있다."
      ],
      "metadata": {
        "id": "kVQESTlO93Cx"
      }
    },
    {
      "cell_type": "code",
      "source": [
        "dict(tup_list)"
      ],
      "metadata": {
        "colab": {
          "base_uri": "https://localhost:8080/"
        },
        "id": "QCdXY3167bNy",
        "outputId": "6152899b-3563-4e47-a8b3-b67c50443801"
      },
      "execution_count": null,
      "outputs": [
        {
          "output_type": "execute_result",
          "data": {
            "text/plain": [
              "{'일본': '교토', '캐나다': '오타와', '한국': '부산'}"
            ]
          },
          "metadata": {},
          "execution_count": 68
        }
      ]
    },
    {
      "cell_type": "markdown",
      "source": [
        "- 문자열도 시퀀스 하기 때문에 리스트로 변환 가능하다."
      ],
      "metadata": {
        "id": "UY2IFb02-HWK"
      }
    },
    {
      "cell_type": "code",
      "source": [
        "text = \"hello\"\n",
        "list(text)"
      ],
      "metadata": {
        "colab": {
          "base_uri": "https://localhost:8080/"
        },
        "id": "upp9UVVV2zSU",
        "outputId": "dd2fc264-c740-4510-8d91-f09284b7346e"
      },
      "execution_count": null,
      "outputs": [
        {
          "output_type": "execute_result",
          "data": {
            "text/plain": [
              "['h', 'e', 'l', 'l', 'o']"
            ]
          },
          "metadata": {},
          "execution_count": 69
        }
      ]
    },
    {
      "cell_type": "markdown",
      "source": [
        "# `str` 활용"
      ],
      "metadata": {
        "id": "zmg4XNIK_D8R"
      }
    },
    {
      "cell_type": "markdown",
      "source": [
        "- 큰따옴표로 문자열을 생성한경우\n",
        "    - 문자열안에 큰따옴표를 넣고 싶을때는 `\\` 기호를 따옴표 앞에 붙이면 문법오류가 발생하지 않는다.\n",
        "    - 작은 따옴표도 동일한 방식으로 하면 된다."
      ],
      "metadata": {
        "id": "mJUfkdRK_xhB"
      }
    },
    {
      "cell_type": "code",
      "source": [
        "text = \"빅데이터 기초 \\\"프로그래밍\\\" 강의\"\n",
        "print(text)"
      ],
      "metadata": {
        "colab": {
          "base_uri": "https://localhost:8080/"
        },
        "id": "cZDkBLCO-rfN",
        "outputId": "5602446d-35fe-49fd-8ebd-7d197b2d6c65"
      },
      "execution_count": null,
      "outputs": [
        {
          "output_type": "stream",
          "name": "stdout",
          "text": [
            "빅데이터 기초 \"프로그래밍\" 강의\n"
          ]
        }
      ]
    },
    {
      "cell_type": "markdown",
      "source": [
        "- doc string 를 이용하면 작은 따옴표와 큰 따옴표를 모두 넣을 수 있다."
      ],
      "metadata": {
        "id": "LFeF25Ub_d4a"
      }
    },
    {
      "cell_type": "code",
      "source": [
        "text = \"\"\" '빅데이터' 기초 \"프로그래밍\" 강의 \"\"\"\n",
        "print(text)"
      ],
      "metadata": {
        "colab": {
          "base_uri": "https://localhost:8080/"
        },
        "id": "s82zrPV4_ZcR",
        "outputId": "8f7a1eb4-067e-4f89-d70d-922d6cbdbacc"
      },
      "execution_count": null,
      "outputs": [
        {
          "output_type": "stream",
          "name": "stdout",
          "text": [
            " '빅데이터' 기초 \"프로그래밍\" 강의 \n"
          ]
        }
      ]
    },
    {
      "cell_type": "markdown",
      "source": [
        "- 문자열도 인덱싱과 슬라이싱이 모두 가능하다."
      ],
      "metadata": {
        "id": "fSK7bqbJAc0v"
      }
    },
    {
      "cell_type": "code",
      "source": [
        "text = \"hello\"\n",
        "text[-1]"
      ],
      "metadata": {
        "colab": {
          "base_uri": "https://localhost:8080/",
          "height": 35
        },
        "id": "vc1kxZpM-rdK",
        "outputId": "7360c5af-39c3-4ac4-c0e0-891edbb8a04e"
      },
      "execution_count": null,
      "outputs": [
        {
          "output_type": "execute_result",
          "data": {
            "text/plain": [
              "'o'"
            ],
            "application/vnd.google.colaboratory.intrinsic+json": {
              "type": "string"
            }
          },
          "metadata": {},
          "execution_count": 73
        }
      ]
    },
    {
      "cell_type": "code",
      "source": [
        "text[::-1]"
      ],
      "metadata": {
        "colab": {
          "base_uri": "https://localhost:8080/",
          "height": 35
        },
        "id": "87bIHUgW-rZ0",
        "outputId": "a02c55d0-176f-411d-dc3c-fb0cfb6ae240"
      },
      "execution_count": null,
      "outputs": [
        {
          "output_type": "execute_result",
          "data": {
            "text/plain": [
              "'olleh'"
            ],
            "application/vnd.google.colaboratory.intrinsic+json": {
              "type": "string"
            }
          },
          "metadata": {},
          "execution_count": 74
        }
      ]
    },
    {
      "cell_type": "markdown",
      "source": [
        "- 문자열에도 연산자를 활용할수 있다."
      ],
      "metadata": {
        "id": "u6ulETVVArJg"
      }
    },
    {
      "cell_type": "code",
      "source": [
        "text1 = \"hello\"\n",
        "text2 = \"world\"\n",
        "\n",
        "print(text1 + text2)"
      ],
      "metadata": {
        "colab": {
          "base_uri": "https://localhost:8080/"
        },
        "id": "6Fsd5rB0-rW7",
        "outputId": "72919d99-0415-4c32-9e7e-529c50383c76"
      },
      "execution_count": null,
      "outputs": [
        {
          "output_type": "stream",
          "name": "stdout",
          "text": [
            "helloworld\n"
          ]
        }
      ]
    },
    {
      "cell_type": "code",
      "source": [
        "text1 * 10"
      ],
      "metadata": {
        "colab": {
          "base_uri": "https://localhost:8080/",
          "height": 35
        },
        "id": "Rz2BORP7-rT6",
        "outputId": "114f9a3e-4cd7-4a9b-b978-0f494c3eec75"
      },
      "execution_count": null,
      "outputs": [
        {
          "output_type": "execute_result",
          "data": {
            "text/plain": [
              "'hellohellohellohellohellohellohellohellohellohello'"
            ],
            "application/vnd.google.colaboratory.intrinsic+json": {
              "type": "string"
            }
          },
          "metadata": {},
          "execution_count": 76
        }
      ]
    },
    {
      "cell_type": "code",
      "source": [
        "\"d\" in text2"
      ],
      "metadata": {
        "colab": {
          "base_uri": "https://localhost:8080/"
        },
        "id": "cl2gN5PtA-US",
        "outputId": "f73fb1fd-dfe9-4ba9-b210-9baafa812669"
      },
      "execution_count": null,
      "outputs": [
        {
          "output_type": "execute_result",
          "data": {
            "text/plain": [
              "True"
            ]
          },
          "metadata": {},
          "execution_count": 77
        }
      ]
    },
    {
      "cell_type": "code",
      "source": [
        "\"d\" not in text2"
      ],
      "metadata": {
        "colab": {
          "base_uri": "https://localhost:8080/"
        },
        "id": "3OJP-qjUA-Rf",
        "outputId": "5c17585e-6a6f-414b-fb6c-4d9b58b9b293"
      },
      "execution_count": null,
      "outputs": [
        {
          "output_type": "execute_result",
          "data": {
            "text/plain": [
              "False"
            ]
          },
          "metadata": {},
          "execution_count": 78
        }
      ]
    },
    {
      "cell_type": "markdown",
      "source": [
        "- 문자열 포매팅(String Formatting)\n",
        "    - 문자열 내의 **특정한 값**을 **변수로 부터** 동적으로 문자열을 생성"
      ],
      "metadata": {
        "id": "RbzUztXEBPNO"
      }
    },
    {
      "cell_type": "code",
      "source": [
        "name = \"철수\"\n",
        "age  = 25"
      ],
      "metadata": {
        "id": "viXrJbezA-O1"
      },
      "execution_count": null,
      "outputs": []
    },
    {
      "cell_type": "markdown",
      "source": [
        "더하기 연산자를 이용한 방법"
      ],
      "metadata": {
        "id": "nH8sw-GYBwM_"
      }
    },
    {
      "cell_type": "code",
      "source": [
        "text = \"제 이름은 \" + name + '입니다. 나이는 ' + str(age) +\"입니다.\"\n",
        "print(text)"
      ],
      "metadata": {
        "colab": {
          "base_uri": "https://localhost:8080/"
        },
        "id": "f0MvAMctA-Mh",
        "outputId": "c580da7d-5224-49df-9ee2-490bd06870ff"
      },
      "execution_count": null,
      "outputs": [
        {
          "output_type": "stream",
          "name": "stdout",
          "text": [
            "제 이름은 철수입니다. 나이는 25입니다.\n"
          ]
        }
      ]
    },
    {
      "cell_type": "markdown",
      "source": [
        "format 메소드를 이용한 방법"
      ],
      "metadata": {
        "id": "nKuv_T7lBtZ5"
      }
    },
    {
      "cell_type": "code",
      "source": [
        "text = \"제 이름은 {}입니다. 나이는 {}입니다.\"\n",
        "print( text.format(name, age)  )"
      ],
      "metadata": {
        "colab": {
          "base_uri": "https://localhost:8080/"
        },
        "id": "mEmjgJkRA-Jf",
        "outputId": "234b8dd4-f738-4a06-ff07-2e9a78d90a11"
      },
      "execution_count": null,
      "outputs": [
        {
          "output_type": "stream",
          "name": "stdout",
          "text": [
            "제 이름은 철수입니다. 나이는 25입니다.\n"
          ]
        }
      ]
    },
    {
      "cell_type": "markdown",
      "source": [
        "F string 을 이용한 방법"
      ],
      "metadata": {
        "id": "aqtmrhmwBzxo"
      }
    },
    {
      "cell_type": "code",
      "source": [
        "text = f\"제 이름은 {name}입니다. 나이는 {age}입니다.\"\n",
        "print(text)"
      ],
      "metadata": {
        "colab": {
          "base_uri": "https://localhost:8080/"
        },
        "id": "t5XK0ZiwB3Nz",
        "outputId": "a34860c1-6154-4c7e-b76d-c2ba672a94f8"
      },
      "execution_count": null,
      "outputs": [
        {
          "output_type": "stream",
          "name": "stdout",
          "text": [
            "제 이름은 철수입니다. 나이는 25입니다.\n"
          ]
        }
      ]
    },
    {
      "cell_type": "markdown",
      "source": [
        "## `str`의 메소드"
      ],
      "metadata": {
        "id": "u57hDZ06CGRO"
      }
    },
    {
      "cell_type": "markdown",
      "source": [
        "- 대문자 or 소문자로 변환"
      ],
      "metadata": {
        "id": "-vamu3J6CQzP"
      }
    },
    {
      "cell_type": "code",
      "source": [
        "text = \"Hello Python\"\n",
        "text.upper()"
      ],
      "metadata": {
        "colab": {
          "base_uri": "https://localhost:8080/",
          "height": 35
        },
        "id": "M9IYHFbvB3Lz",
        "outputId": "e6d4ba2a-341f-4a3d-d7a0-3202bf6ac4d2"
      },
      "execution_count": null,
      "outputs": [
        {
          "output_type": "execute_result",
          "data": {
            "text/plain": [
              "'HELLO PYTHON'"
            ],
            "application/vnd.google.colaboratory.intrinsic+json": {
              "type": "string"
            }
          },
          "metadata": {},
          "execution_count": 83
        }
      ]
    },
    {
      "cell_type": "code",
      "source": [
        "text.lower()"
      ],
      "metadata": {
        "colab": {
          "base_uri": "https://localhost:8080/",
          "height": 35
        },
        "id": "LYM7Kl3mB3IH",
        "outputId": "c49bd95b-0450-4b3e-8dbe-8a2ce78de96d"
      },
      "execution_count": null,
      "outputs": [
        {
          "output_type": "execute_result",
          "data": {
            "text/plain": [
              "'hello python'"
            ],
            "application/vnd.google.colaboratory.intrinsic+json": {
              "type": "string"
            }
          },
          "metadata": {},
          "execution_count": 84
        }
      ]
    },
    {
      "cell_type": "markdown",
      "source": [
        "- 문자열 치환"
      ],
      "metadata": {
        "id": "XwR2c5VxCX8H"
      }
    },
    {
      "cell_type": "code",
      "source": [
        "text = \"Hello Python\"\n",
        "text.replace(\"P\", \"C\")"
      ],
      "metadata": {
        "colab": {
          "base_uri": "https://localhost:8080/",
          "height": 35
        },
        "id": "Es11zD5zB3Ff",
        "outputId": "e10b8554-f5fb-472b-ebff-bfabd948df4f"
      },
      "execution_count": null,
      "outputs": [
        {
          "output_type": "execute_result",
          "data": {
            "text/plain": [
              "'Hello Cython'"
            ],
            "application/vnd.google.colaboratory.intrinsic+json": {
              "type": "string"
            }
          },
          "metadata": {},
          "execution_count": 85
        }
      ]
    },
    {
      "cell_type": "markdown",
      "source": [
        "- 문자열 분리"
      ],
      "metadata": {
        "id": "Bu5vPTYpCft5"
      }
    },
    {
      "cell_type": "code",
      "source": [
        "text = \"Hello Python\"\n",
        "text.split() # 기본적으로 공백을 기준으로 분리"
      ],
      "metadata": {
        "colab": {
          "base_uri": "https://localhost:8080/"
        },
        "id": "9ZUVfr7NCfJO",
        "outputId": "d3dbfdbc-cad4-4042-abaf-cfaee78db9a2"
      },
      "execution_count": null,
      "outputs": [
        {
          "output_type": "execute_result",
          "data": {
            "text/plain": [
              "['Hello', 'Python']"
            ]
          },
          "metadata": {},
          "execution_count": 86
        }
      ]
    },
    {
      "cell_type": "code",
      "source": [
        "text = \"Hello#Python\"\n",
        "text.split(\"#\") # 기준값을 주어 분리하는 방법"
      ],
      "metadata": {
        "colab": {
          "base_uri": "https://localhost:8080/"
        },
        "id": "1NPtcl9cCeku",
        "outputId": "ecdb0ee5-7b2b-4717-def9-754fa6347ed6"
      },
      "execution_count": null,
      "outputs": [
        {
          "output_type": "execute_result",
          "data": {
            "text/plain": [
              "['Hello', 'Python']"
            ]
          },
          "metadata": {},
          "execution_count": 87
        }
      ]
    },
    {
      "cell_type": "markdown",
      "source": [
        "- 문자열의 좌우 공백 제거"
      ],
      "metadata": {
        "id": "PibW7yMnDFPe"
      }
    },
    {
      "cell_type": "code",
      "source": [
        "text = \"    Hello Python     \"\n",
        "print(text)"
      ],
      "metadata": {
        "colab": {
          "base_uri": "https://localhost:8080/"
        },
        "id": "gRSwW12xCcKE",
        "outputId": "c0453472-a2c3-439f-9f13-44ddca790349"
      },
      "execution_count": null,
      "outputs": [
        {
          "output_type": "stream",
          "name": "stdout",
          "text": [
            "    Hello Python     \n"
          ]
        }
      ]
    },
    {
      "cell_type": "code",
      "source": [
        "print(text.strip())"
      ],
      "metadata": {
        "colab": {
          "base_uri": "https://localhost:8080/"
        },
        "id": "UUc4ILqtCcHN",
        "outputId": "5f328e42-2c73-46dd-c537-8bcbbd6032d5"
      },
      "execution_count": null,
      "outputs": [
        {
          "output_type": "stream",
          "name": "stdout",
          "text": [
            "Hello Python\n"
          ]
        }
      ]
    },
    {
      "cell_type": "markdown",
      "source": [
        "- 문자열 연결하기\n",
        "    - 리스트의 각 문자열들을 하나의 문자열로 연결 할수 있다."
      ],
      "metadata": {
        "id": "JD6mEP68DNdN"
      }
    },
    {
      "cell_type": "code",
      "source": [
        "lst = ['오늘', '하루', '너무', '행복하다']\n",
        "\"#\".join(lst)"
      ],
      "metadata": {
        "colab": {
          "base_uri": "https://localhost:8080/",
          "height": 35
        },
        "id": "NABOZACyCcFG",
        "outputId": "9ee61869-a264-445d-8415-6cbf1de3615b"
      },
      "execution_count": null,
      "outputs": [
        {
          "output_type": "execute_result",
          "data": {
            "text/plain": [
              "'오늘#하루#너무#행복하다'"
            ],
            "application/vnd.google.colaboratory.intrinsic+json": {
              "type": "string"
            }
          },
          "metadata": {},
          "execution_count": 90
        }
      ]
    },
    {
      "cell_type": "markdown",
      "source": [
        "- 지정한 문자열로 시작하는지 여부 반환"
      ],
      "metadata": {
        "id": "RAFiM4vFDmmx"
      }
    },
    {
      "cell_type": "code",
      "source": [
        "text = \"빅데이터 기초 프로그래밍 강의\"\n",
        "text.startswith(\"빅데이터\")"
      ],
      "metadata": {
        "colab": {
          "base_uri": "https://localhost:8080/"
        },
        "id": "RFduq2OxCcBe",
        "outputId": "3860ad41-c610-4b8d-fcfd-7a8f9c91156d"
      },
      "execution_count": null,
      "outputs": [
        {
          "output_type": "execute_result",
          "data": {
            "text/plain": [
              "True"
            ]
          },
          "metadata": {},
          "execution_count": 91
        }
      ]
    },
    {
      "cell_type": "markdown",
      "source": [
        "- 지정한 문자열로 끝나는지 여부 반환"
      ],
      "metadata": {
        "id": "udX5iPc7Dpht"
      }
    },
    {
      "cell_type": "code",
      "source": [
        "text = \"빅데이터 기초 프로그래밍 강의\"\n",
        "text.endswith(\"강의\")"
      ],
      "metadata": {
        "colab": {
          "base_uri": "https://localhost:8080/"
        },
        "id": "MmALllZ3Cb-v",
        "outputId": "d438bb3f-5889-4001-b0bc-b36341244dc4"
      },
      "execution_count": null,
      "outputs": [
        {
          "output_type": "execute_result",
          "data": {
            "text/plain": [
              "True"
            ]
          },
          "metadata": {},
          "execution_count": 92
        }
      ]
    }
  ]
}