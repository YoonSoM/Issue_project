{
  "nbformat": 4,
  "nbformat_minor": 0,
  "metadata": {
    "colab": {
      "provenance": []
    },
    "kernelspec": {
      "name": "python3",
      "display_name": "Python 3"
    },
    "language_info": {
      "name": "python"
    }
  },
  "cells": [
    {
      "cell_type": "markdown",
      "source": [
        "# `os` , `sys` 모듈"
      ],
      "metadata": {
        "id": "bqUQto1jiAPC"
      }
    },
    {
      "cell_type": "code",
      "source": [
        "import sys, os"
      ],
      "metadata": {
        "id": "uWqu7GDWiEFD"
      },
      "execution_count": null,
      "outputs": []
    },
    {
      "cell_type": "markdown",
      "source": [
        "- 파이썬 라이브러리가 저장되어있는 위치(경로)들을 리스트로 담고 있다.\n",
        "- 이 위치를 참조하여 라이브러리를 찾는다."
      ],
      "metadata": {
        "id": "MdZPhtOTxxyg"
      }
    },
    {
      "cell_type": "code",
      "source": [
        "sys.path"
      ],
      "metadata": {
        "id": "Tm4__zpmxscD",
        "colab": {
          "base_uri": "https://localhost:8080/"
        },
        "outputId": "7d2dc872-c5b9-464c-86e9-79406aee499a"
      },
      "execution_count": null,
      "outputs": [
        {
          "output_type": "execute_result",
          "data": {
            "text/plain": [
              "['/content',\n",
              " '/env/python',\n",
              " '/usr/lib/python37.zip',\n",
              " '/usr/lib/python3.7',\n",
              " '/usr/lib/python3.7/lib-dynload',\n",
              " '',\n",
              " '/usr/local/lib/python3.7/dist-packages',\n",
              " '/usr/lib/python3/dist-packages',\n",
              " '/usr/local/lib/python3.7/dist-packages/IPython/extensions',\n",
              " '/root/.ipython']"
            ]
          },
          "metadata": {},
          "execution_count": 2
        }
      ]
    },
    {
      "cell_type": "markdown",
      "source": [
        "- 현재 파일 경로 확인"
      ],
      "metadata": {
        "id": "IAfPCFlJRyzh"
      }
    },
    {
      "cell_type": "code",
      "source": [
        "os.getcwd()"
      ],
      "metadata": {
        "id": "R2CQ3ig5xaCc",
        "colab": {
          "base_uri": "https://localhost:8080/",
          "height": 36
        },
        "outputId": "7291fe9f-1b23-4913-c2ea-aea6262a87ca"
      },
      "execution_count": null,
      "outputs": [
        {
          "output_type": "execute_result",
          "data": {
            "text/plain": [
              "'/content'"
            ],
            "application/vnd.google.colaboratory.intrinsic+json": {
              "type": "string"
            }
          },
          "metadata": {},
          "execution_count": 3
        }
      ]
    },
    {
      "cell_type": "markdown",
      "source": [
        "- 파이썬 버전 확인"
      ],
      "metadata": {
        "id": "H1VbEfB0yNlO"
      }
    },
    {
      "cell_type": "code",
      "source": [
        "sys.version"
      ],
      "metadata": {
        "id": "EJ6RhTSLyMKZ",
        "colab": {
          "base_uri": "https://localhost:8080/",
          "height": 36
        },
        "outputId": "8fe2bb2c-76b9-4dcf-a9d5-51c1c6c47dd6"
      },
      "execution_count": null,
      "outputs": [
        {
          "output_type": "execute_result",
          "data": {
            "text/plain": [
              "'3.7.14 (default, Sep  8 2022, 00:06:44) \\n[GCC 7.5.0]'"
            ],
            "application/vnd.google.colaboratory.intrinsic+json": {
              "type": "string"
            }
          },
          "metadata": {},
          "execution_count": 4
        }
      ]
    },
    {
      "cell_type": "markdown",
      "source": [
        "- cpu 개수 확인하기"
      ],
      "metadata": {
        "id": "48yfz3TpiOe8"
      }
    },
    {
      "cell_type": "code",
      "source": [
        "os.cpu_count()"
      ],
      "metadata": {
        "id": "VHfhD5wMiIKi",
        "colab": {
          "base_uri": "https://localhost:8080/"
        },
        "outputId": "2d0fa2f8-0748-4d0a-81f7-2f54036cb2c9"
      },
      "execution_count": null,
      "outputs": [
        {
          "output_type": "execute_result",
          "data": {
            "text/plain": [
              "2"
            ]
          },
          "metadata": {},
          "execution_count": 5
        }
      ]
    },
    {
      "cell_type": "markdown",
      "source": [
        "- 폴더 만들기\n",
        "    - 폴더가 있을 경우 에러가 발생한다."
      ],
      "metadata": {
        "id": "X6UF-A4gijeb"
      }
    },
    {
      "cell_type": "code",
      "source": [
        "os.mkdir(\"data\")"
      ],
      "metadata": {
        "id": "qkZLKS7AiIDw"
      },
      "execution_count": null,
      "outputs": []
    },
    {
      "cell_type": "markdown",
      "source": [
        "- 폴더 또는 파일명 변경하기"
      ],
      "metadata": {
        "id": "676xnvE-jGqV"
      }
    },
    {
      "cell_type": "code",
      "source": [
        "os.rename(\"data\",\"data1\")"
      ],
      "metadata": {
        "id": "LZ4-Et3RRWVw"
      },
      "execution_count": null,
      "outputs": []
    },
    {
      "cell_type": "markdown",
      "source": [
        "- 폴더 삭제"
      ],
      "metadata": {
        "id": "udPil6qcjbx4"
      }
    },
    {
      "cell_type": "code",
      "source": [
        "os.rmdir(\"data1\")"
      ],
      "metadata": {
        "id": "3dSNc7PDoChV"
      },
      "execution_count": null,
      "outputs": []
    },
    {
      "cell_type": "markdown",
      "source": [
        "- 폴더 존재 여부 확인\n",
        "    - bool 객체를 반환"
      ],
      "metadata": {
        "id": "bDBLJfRkj5ko"
      }
    },
    {
      "cell_type": "code",
      "source": [
        "os.path.isdir(\"data1\")"
      ],
      "metadata": {
        "id": "y5DT7HvMRWNp",
        "colab": {
          "base_uri": "https://localhost:8080/"
        },
        "outputId": "5ce2c7b1-c71e-4fd0-a1ce-5ac3575dcba9"
      },
      "execution_count": null,
      "outputs": [
        {
          "output_type": "execute_result",
          "data": {
            "text/plain": [
              "False"
            ]
          },
          "metadata": {},
          "execution_count": 9
        }
      ]
    },
    {
      "cell_type": "markdown",
      "source": [
        "- 파일 존재 여부 확인\n",
        "    - bool 객체를 반환"
      ],
      "metadata": {
        "id": "Kw-S89_vkywf"
      }
    },
    {
      "cell_type": "code",
      "source": [
        "os.path.isfile(\"memo.txt\")"
      ],
      "metadata": {
        "id": "icyI4J7bkiPa",
        "colab": {
          "base_uri": "https://localhost:8080/"
        },
        "outputId": "8f21f408-757e-405a-f5f7-1911d4f00fad"
      },
      "execution_count": null,
      "outputs": [
        {
          "output_type": "execute_result",
          "data": {
            "text/plain": [
              "False"
            ]
          },
          "metadata": {},
          "execution_count": 10
        }
      ]
    },
    {
      "cell_type": "markdown",
      "source": [
        "- 폴더 및 파일 존재 여부 확인\n",
        "    - bool 객체 반환"
      ],
      "metadata": {
        "id": "W81d6O2Ck_kv"
      }
    },
    {
      "cell_type": "code",
      "source": [
        "os.path.exists(\"data\")"
      ],
      "metadata": {
        "id": "oLokY9m3kiEg",
        "colab": {
          "base_uri": "https://localhost:8080/"
        },
        "outputId": "31d5ba6e-2333-4af5-9daf-70864904d6b8"
      },
      "execution_count": null,
      "outputs": [
        {
          "output_type": "execute_result",
          "data": {
            "text/plain": [
              "False"
            ]
          },
          "metadata": {},
          "execution_count": 11
        }
      ]
    },
    {
      "cell_type": "markdown",
      "source": [
        "- 파일 삭제하기"
      ],
      "metadata": {
        "id": "tFGu7YbplODf"
      }
    },
    {
      "cell_type": "code",
      "source": [
        "os.remove(\"memo.txt\")"
      ],
      "metadata": {
        "id": "qbJsMMP8lLFl"
      },
      "execution_count": null,
      "outputs": []
    },
    {
      "cell_type": "markdown",
      "source": [
        "# random 모듈 사용해보기"
      ],
      "metadata": {
        "id": "YM3qPq148uBc"
      }
    },
    {
      "cell_type": "code",
      "source": [
        "import random"
      ],
      "metadata": {
        "id": "3iAh_vb-81hc"
      },
      "execution_count": null,
      "outputs": []
    },
    {
      "cell_type": "markdown",
      "source": [
        "- random 함수\n",
        "    - 0 ~ 1 사이에 랜덤 실수를 반환 한다."
      ],
      "metadata": {
        "id": "BPc-bqnk8xtU"
      }
    },
    {
      "cell_type": "code",
      "source": [
        "random.random()"
      ],
      "metadata": {
        "id": "WYds_Z2Il3Ou",
        "colab": {
          "base_uri": "https://localhost:8080/"
        },
        "outputId": "2113cb51-cdaa-4b1d-f8f6-3d0569f65951"
      },
      "execution_count": null,
      "outputs": [
        {
          "output_type": "execute_result",
          "data": {
            "text/plain": [
              "0.20192921062766855"
            ]
          },
          "metadata": {},
          "execution_count": 18
        }
      ]
    },
    {
      "cell_type": "markdown",
      "source": [
        "- 2개의 숫자 사이의 랜덤 실수를 반환한다."
      ],
      "metadata": {
        "id": "2zgVjDE29Fd9"
      }
    },
    {
      "cell_type": "code",
      "source": [
        "random.uniform(1, 10)"
      ],
      "metadata": {
        "id": "lkj4iS9y8_aU",
        "colab": {
          "base_uri": "https://localhost:8080/"
        },
        "outputId": "2f4cf5ab-71da-4915-a5c5-20dd347d3e37"
      },
      "execution_count": null,
      "outputs": [
        {
          "output_type": "execute_result",
          "data": {
            "text/plain": [
              "4.336596816391052"
            ]
          },
          "metadata": {},
          "execution_count": 23
        }
      ]
    },
    {
      "cell_type": "markdown",
      "source": [
        "- 2개의 숫자 사이의 랜덤 정수를 반환"
      ],
      "metadata": {
        "id": "xP2ZHIbc9QNi"
      }
    },
    {
      "cell_type": "code",
      "source": [
        "random.randint(1,20)"
      ],
      "metadata": {
        "id": "uI360LGX8_Sj",
        "colab": {
          "base_uri": "https://localhost:8080/"
        },
        "outputId": "f713ab34-5968-4443-8164-4d833be63f29"
      },
      "execution_count": null,
      "outputs": [
        {
          "output_type": "execute_result",
          "data": {
            "text/plain": [
              "5"
            ]
          },
          "metadata": {},
          "execution_count": 28
        }
      ]
    },
    {
      "cell_type": "markdown",
      "source": [
        "- start, stop, step 으로 만들어지는 정수 중에 랜덤값을 반환"
      ],
      "metadata": {
        "id": "_KNc2cm09ib7"
      }
    },
    {
      "cell_type": "code",
      "source": [
        "random.randrange(20) # 스타트값 생략시"
      ],
      "metadata": {
        "id": "e391vVIZ8_LN",
        "colab": {
          "base_uri": "https://localhost:8080/"
        },
        "outputId": "6bb8c186-af40-4be7-910f-c849c89b5876"
      },
      "execution_count": null,
      "outputs": [
        {
          "output_type": "execute_result",
          "data": {
            "text/plain": [
              "19"
            ]
          },
          "metadata": {},
          "execution_count": 32
        }
      ]
    },
    {
      "cell_type": "code",
      "source": [
        "random.randrange(1,5)"
      ],
      "metadata": {
        "id": "yY6bycRg92ND",
        "colab": {
          "base_uri": "https://localhost:8080/"
        },
        "outputId": "749e1326-de4e-4b21-b6ff-e5f490286037"
      },
      "execution_count": null,
      "outputs": [
        {
          "output_type": "execute_result",
          "data": {
            "text/plain": [
              "3"
            ]
          },
          "metadata": {},
          "execution_count": 40
        }
      ]
    },
    {
      "cell_type": "code",
      "source": [
        "random.randrange(0,10,2) # 스텝 추가"
      ],
      "metadata": {
        "id": "tH4p-U5z944T",
        "colab": {
          "base_uri": "https://localhost:8080/"
        },
        "outputId": "072c968a-04d3-4c03-b8bd-f4e0508285a5"
      },
      "execution_count": null,
      "outputs": [
        {
          "output_type": "execute_result",
          "data": {
            "text/plain": [
              "4"
            ]
          },
          "metadata": {},
          "execution_count": 48
        }
      ]
    },
    {
      "cell_type": "markdown",
      "source": [
        "- 시퀀스 자료형에서 랜덤하게 하나의 원소를 선택"
      ],
      "metadata": {
        "id": "8bWxgkDo-Jt6"
      }
    },
    {
      "cell_type": "code",
      "source": [
        "lst = [1,2,3,4,5,6]\n",
        "random.choice(lst)"
      ],
      "metadata": {
        "id": "1sEcAfXK-A9f",
        "colab": {
          "base_uri": "https://localhost:8080/"
        },
        "outputId": "28ee04e8-57d7-4cc5-bdf3-0bae5076947d"
      },
      "execution_count": null,
      "outputs": [
        {
          "output_type": "execute_result",
          "data": {
            "text/plain": [
              "2"
            ]
          },
          "metadata": {},
          "execution_count": 51
        }
      ]
    },
    {
      "cell_type": "markdown",
      "source": [
        "- 시퀀스 자료형에서 랜덤하게 두번째 인자의 개수로 선택"
      ],
      "metadata": {
        "id": "jsLEdGPF-gcy"
      }
    },
    {
      "cell_type": "code",
      "source": [
        "random.sample(lst,  2)"
      ],
      "metadata": {
        "id": "xNyNmdfL-A62",
        "colab": {
          "base_uri": "https://localhost:8080/"
        },
        "outputId": "d29f2b89-121a-4a06-c460-0ee62174196c"
      },
      "execution_count": null,
      "outputs": [
        {
          "output_type": "execute_result",
          "data": {
            "text/plain": [
              "[4, 2]"
            ]
          },
          "metadata": {},
          "execution_count": 56
        }
      ]
    },
    {
      "cell_type": "markdown",
      "source": [
        "- 요소의 순서를 랜덤하게 변경한다."
      ],
      "metadata": {
        "id": "nlCWelwd-2wT"
      }
    },
    {
      "cell_type": "code",
      "source": [
        "lst = [1,2,3,4,5,6]\n",
        "random.shuffle(lst)  # 순서를 변경한 자료형을 반환하는게 아니라 원본을 변경! 즉 mutable한 자료형만 가능\n",
        "lst"
      ],
      "metadata": {
        "id": "WjUkuZl1-A3t",
        "colab": {
          "base_uri": "https://localhost:8080/"
        },
        "outputId": "ce072e1e-bc53-4899-a101-a1e200f84ec3"
      },
      "execution_count": null,
      "outputs": [
        {
          "output_type": "execute_result",
          "data": {
            "text/plain": [
              "[3, 6, 2, 5, 1, 4]"
            ]
          },
          "metadata": {},
          "execution_count": 57
        }
      ]
    },
    {
      "cell_type": "code",
      "source": [
        "tup = (1,2,3,4,5,6)\n",
        "random.shuffle(tup) # 에러난다"
      ],
      "metadata": {
        "id": "i7VOd_m6-A0z",
        "colab": {
          "base_uri": "https://localhost:8080/",
          "height": 325
        },
        "outputId": "40ccf5fb-5a47-460c-bc9e-f10e56067772"
      },
      "execution_count": null,
      "outputs": [
        {
          "output_type": "error",
          "ename": "TypeError",
          "evalue": "ignored",
          "traceback": [
            "\u001b[0;31m---------------------------------------------------------------------------\u001b[0m",
            "\u001b[0;31mTypeError\u001b[0m                                 Traceback (most recent call last)",
            "\u001b[0;32m<ipython-input-58-5cc00b9c5823>\u001b[0m in \u001b[0;36m<module>\u001b[0;34m\u001b[0m\n\u001b[1;32m      1\u001b[0m \u001b[0mtup\u001b[0m \u001b[0;34m=\u001b[0m \u001b[0;34m(\u001b[0m\u001b[0;36m1\u001b[0m\u001b[0;34m,\u001b[0m\u001b[0;36m2\u001b[0m\u001b[0;34m,\u001b[0m\u001b[0;36m3\u001b[0m\u001b[0;34m,\u001b[0m\u001b[0;36m4\u001b[0m\u001b[0;34m,\u001b[0m\u001b[0;36m5\u001b[0m\u001b[0;34m,\u001b[0m\u001b[0;36m6\u001b[0m\u001b[0;34m)\u001b[0m\u001b[0;34m\u001b[0m\u001b[0;34m\u001b[0m\u001b[0m\n\u001b[0;32m----> 2\u001b[0;31m \u001b[0mrandom\u001b[0m\u001b[0;34m.\u001b[0m\u001b[0mshuffle\u001b[0m\u001b[0;34m(\u001b[0m\u001b[0mtup\u001b[0m\u001b[0;34m)\u001b[0m \u001b[0;31m# 에러난다\u001b[0m\u001b[0;34m\u001b[0m\u001b[0;34m\u001b[0m\u001b[0m\n\u001b[0m",
            "\u001b[0;32m/usr/lib/python3.7/random.py\u001b[0m in \u001b[0;36mshuffle\u001b[0;34m(self, x, random)\u001b[0m\n\u001b[1;32m    276\u001b[0m                 \u001b[0;31m# pick an element in x[:i+1] with which to exchange x[i]\u001b[0m\u001b[0;34m\u001b[0m\u001b[0;34m\u001b[0m\u001b[0;34m\u001b[0m\u001b[0m\n\u001b[1;32m    277\u001b[0m                 \u001b[0mj\u001b[0m \u001b[0;34m=\u001b[0m \u001b[0mrandbelow\u001b[0m\u001b[0;34m(\u001b[0m\u001b[0mi\u001b[0m\u001b[0;34m+\u001b[0m\u001b[0;36m1\u001b[0m\u001b[0;34m)\u001b[0m\u001b[0;34m\u001b[0m\u001b[0;34m\u001b[0m\u001b[0m\n\u001b[0;32m--> 278\u001b[0;31m                 \u001b[0mx\u001b[0m\u001b[0;34m[\u001b[0m\u001b[0mi\u001b[0m\u001b[0;34m]\u001b[0m\u001b[0;34m,\u001b[0m \u001b[0mx\u001b[0m\u001b[0;34m[\u001b[0m\u001b[0mj\u001b[0m\u001b[0;34m]\u001b[0m \u001b[0;34m=\u001b[0m \u001b[0mx\u001b[0m\u001b[0;34m[\u001b[0m\u001b[0mj\u001b[0m\u001b[0;34m]\u001b[0m\u001b[0;34m,\u001b[0m \u001b[0mx\u001b[0m\u001b[0;34m[\u001b[0m\u001b[0mi\u001b[0m\u001b[0;34m]\u001b[0m\u001b[0;34m\u001b[0m\u001b[0;34m\u001b[0m\u001b[0m\n\u001b[0m\u001b[1;32m    279\u001b[0m         \u001b[0;32melse\u001b[0m\u001b[0;34m:\u001b[0m\u001b[0;34m\u001b[0m\u001b[0;34m\u001b[0m\u001b[0m\n\u001b[1;32m    280\u001b[0m             \u001b[0m_int\u001b[0m \u001b[0;34m=\u001b[0m \u001b[0mint\u001b[0m\u001b[0;34m\u001b[0m\u001b[0;34m\u001b[0m\u001b[0m\n",
            "\u001b[0;31mTypeError\u001b[0m: 'tuple' object does not support item assignment"
          ]
        }
      ]
    },
    {
      "cell_type": "markdown",
      "source": [
        "# collections 모듈\n",
        "- 파이썬의 내장 자료 구조\n",
        "- 기존 자료구조를 확장하여 제작된 파이썬 내장 모듈"
      ],
      "metadata": {
        "id": "AYCcpj-43IVX"
      }
    },
    {
      "cell_type": "markdown",
      "source": [
        "## deque"
      ],
      "metadata": {
        "id": "Va_bwQYf6qIP"
      }
    },
    {
      "cell_type": "code",
      "source": [
        "from collections import deque"
      ],
      "metadata": {
        "id": "oWLVMdppcRu_"
      },
      "execution_count": null,
      "outputs": []
    },
    {
      "cell_type": "code",
      "source": [
        "dq = deque() # 실행하면 디큐 객체가 반환\n",
        "dq"
      ],
      "metadata": {
        "id": "nTnpTzbg60ve",
        "colab": {
          "base_uri": "https://localhost:8080/"
        },
        "outputId": "9178f264-2842-48e6-8dfe-a1f7008815db"
      },
      "execution_count": null,
      "outputs": [
        {
          "output_type": "execute_result",
          "data": {
            "text/plain": [
              "deque([])"
            ]
          },
          "metadata": {},
          "execution_count": 60
        }
      ]
    },
    {
      "cell_type": "markdown",
      "source": [
        "- append 메소드"
      ],
      "metadata": {
        "id": "tOgC6rq07EMr"
      }
    },
    {
      "cell_type": "code",
      "source": [
        "dq.append(100)\n",
        "dq"
      ],
      "metadata": {
        "id": "3_pwkY7U666k",
        "colab": {
          "base_uri": "https://localhost:8080/"
        },
        "outputId": "159db657-9f0f-4626-823f-993cf0021975"
      },
      "execution_count": null,
      "outputs": [
        {
          "output_type": "execute_result",
          "data": {
            "text/plain": [
              "deque([100])"
            ]
          },
          "metadata": {},
          "execution_count": 61
        }
      ]
    },
    {
      "cell_type": "markdown",
      "source": [
        "- appendleft 메소드\n",
        "    - 인수로 넣은 값을 왼쪽 부터 추가"
      ],
      "metadata": {
        "id": "lUGc-dMd7nyb"
      }
    },
    {
      "cell_type": "code",
      "source": [
        "dq.appendleft(300)\n",
        "dq"
      ],
      "metadata": {
        "id": "Du2bgGpO7KOz",
        "colab": {
          "base_uri": "https://localhost:8080/"
        },
        "outputId": "8595169f-1ad6-4931-972f-a64b6db470ef"
      },
      "execution_count": null,
      "outputs": [
        {
          "output_type": "execute_result",
          "data": {
            "text/plain": [
              "deque([300, 100])"
            ]
          },
          "metadata": {},
          "execution_count": 62
        }
      ]
    },
    {
      "cell_type": "markdown",
      "source": [
        "- deque 객체 생성시 반복 가능한 객체를 인수로 넣어도 된다."
      ],
      "metadata": {
        "id": "HoM-jZsR8ONr"
      }
    },
    {
      "cell_type": "code",
      "source": [
        "dq = deque(range(10))\n",
        "dq"
      ],
      "metadata": {
        "id": "3iE-xGY78ECL",
        "colab": {
          "base_uri": "https://localhost:8080/"
        },
        "outputId": "2191883d-eac8-402d-d030-958758200d24"
      },
      "execution_count": null,
      "outputs": [
        {
          "output_type": "execute_result",
          "data": {
            "text/plain": [
              "deque([0, 1, 2, 3, 4, 5, 6, 7, 8, 9])"
            ]
          },
          "metadata": {},
          "execution_count": 63
        }
      ]
    },
    {
      "cell_type": "markdown",
      "source": [
        "- rotate 메소드\n",
        "    - dq 객체 안에 요소를 회전한다."
      ],
      "metadata": {
        "id": "FWcDogYH8k_S"
      }
    },
    {
      "cell_type": "code",
      "source": [
        "dq.rotate()\n",
        "dq"
      ],
      "metadata": {
        "id": "2Z4k5sua92Ve",
        "colab": {
          "base_uri": "https://localhost:8080/"
        },
        "outputId": "bf9c9415-593b-4f41-c6a9-8c87cf8cfcf6"
      },
      "execution_count": null,
      "outputs": [
        {
          "output_type": "execute_result",
          "data": {
            "text/plain": [
              "deque([9, 0, 1, 2, 3, 4, 5, 6, 7, 8])"
            ]
          },
          "metadata": {},
          "execution_count": 64
        }
      ]
    },
    {
      "cell_type": "markdown",
      "source": [
        "- 양수를 주면 수만큼 오른쪽으로 회전한다."
      ],
      "metadata": {
        "id": "kADf381fTZOo"
      }
    },
    {
      "cell_type": "code",
      "source": [
        "dq = deque(range(10))\n",
        "dq.rotate(2)\n",
        "dq"
      ],
      "metadata": {
        "id": "ucqSEnlk8iHk",
        "colab": {
          "base_uri": "https://localhost:8080/"
        },
        "outputId": "b802596d-a277-4249-ea5d-e68733abcb01"
      },
      "execution_count": null,
      "outputs": [
        {
          "output_type": "execute_result",
          "data": {
            "text/plain": [
              "deque([8, 9, 0, 1, 2, 3, 4, 5, 6, 7])"
            ]
          },
          "metadata": {},
          "execution_count": 65
        }
      ]
    },
    {
      "cell_type": "markdown",
      "source": [
        "- 음수를 주면 음수만큼 왼쪽으로 회전한다."
      ],
      "metadata": {
        "id": "93zzQS13TjbY"
      }
    },
    {
      "cell_type": "code",
      "source": [
        "dq = deque(range(10))\n",
        "dq.rotate(-2)\n",
        "dq"
      ],
      "metadata": {
        "id": "Cs6P3-LT8D48",
        "colab": {
          "base_uri": "https://localhost:8080/"
        },
        "outputId": "d622a5bc-75f0-4915-b39b-36c241e56bec"
      },
      "execution_count": null,
      "outputs": [
        {
          "output_type": "execute_result",
          "data": {
            "text/plain": [
              "deque([2, 3, 4, 5, 6, 7, 8, 9, 0, 1])"
            ]
          },
          "metadata": {},
          "execution_count": 66
        }
      ]
    },
    {
      "cell_type": "markdown",
      "source": [
        "- 인덱싱 지원"
      ],
      "metadata": {
        "id": "ZSaC_KYE5II9"
      }
    },
    {
      "cell_type": "code",
      "source": [
        "dq[0]"
      ],
      "metadata": {
        "id": "S2xPL66Q40jV",
        "colab": {
          "base_uri": "https://localhost:8080/"
        },
        "outputId": "087aa9de-3d28-403e-f472-6ab4dcc15c9e"
      },
      "execution_count": null,
      "outputs": [
        {
          "output_type": "execute_result",
          "data": {
            "text/plain": [
              "2"
            ]
          },
          "metadata": {},
          "execution_count": 67
        }
      ]
    },
    {
      "cell_type": "markdown",
      "source": [
        "- 슬라이싱 X"
      ],
      "metadata": {
        "id": "ukga7Mle6PEu"
      }
    },
    {
      "cell_type": "code",
      "source": [
        "dq[:]"
      ],
      "metadata": {
        "id": "Ch680j4I40gO",
        "colab": {
          "base_uri": "https://localhost:8080/",
          "height": 176
        },
        "outputId": "5c8f8e3e-3dc8-4020-8fd1-1cca73f6ef65"
      },
      "execution_count": null,
      "outputs": [
        {
          "output_type": "error",
          "ename": "TypeError",
          "evalue": "ignored",
          "traceback": [
            "\u001b[0;31m---------------------------------------------------------------------------\u001b[0m",
            "\u001b[0;31mTypeError\u001b[0m                                 Traceback (most recent call last)",
            "\u001b[0;32m<ipython-input-68-5a150bc9d2f9>\u001b[0m in \u001b[0;36m<module>\u001b[0;34m\u001b[0m\n\u001b[0;32m----> 1\u001b[0;31m \u001b[0mdq\u001b[0m\u001b[0;34m[\u001b[0m\u001b[0;34m:\u001b[0m\u001b[0;34m]\u001b[0m\u001b[0;34m\u001b[0m\u001b[0;34m\u001b[0m\u001b[0m\n\u001b[0m",
            "\u001b[0;31mTypeError\u001b[0m: sequence index must be integer, not 'slice'"
          ]
        }
      ]
    },
    {
      "cell_type": "markdown",
      "source": [
        "## defaultdict\n",
        "- 딕셔너리의 단점으로 없는 key에 접근시 에러가 발생하는 단점을 보완\n",
        "- 딕셔너리에 없는 key에 접근시 지정한 기본값을 이용하여 key,value 를 생성"
      ],
      "metadata": {
        "id": "w5acpREdAc-3"
      }
    },
    {
      "cell_type": "code",
      "source": [
        "d = {}\n",
        "d[\"key1\"]"
      ],
      "metadata": {
        "id": "gmKQRxf7BCjI",
        "colab": {
          "base_uri": "https://localhost:8080/",
          "height": 194
        },
        "outputId": "e6c8b4f1-dd92-4f9c-e83b-e36944405bcb"
      },
      "execution_count": null,
      "outputs": [
        {
          "output_type": "error",
          "ename": "KeyError",
          "evalue": "ignored",
          "traceback": [
            "\u001b[0;31m---------------------------------------------------------------------------\u001b[0m",
            "\u001b[0;31mKeyError\u001b[0m                                  Traceback (most recent call last)",
            "\u001b[0;32m<ipython-input-69-98cebd65e778>\u001b[0m in \u001b[0;36m<module>\u001b[0;34m\u001b[0m\n\u001b[1;32m      1\u001b[0m \u001b[0md\u001b[0m \u001b[0;34m=\u001b[0m \u001b[0;34m{\u001b[0m\u001b[0;34m}\u001b[0m\u001b[0;34m\u001b[0m\u001b[0;34m\u001b[0m\u001b[0m\n\u001b[0;32m----> 2\u001b[0;31m \u001b[0md\u001b[0m\u001b[0;34m[\u001b[0m\u001b[0;34m\"key1\"\u001b[0m\u001b[0;34m]\u001b[0m\u001b[0;34m\u001b[0m\u001b[0;34m\u001b[0m\u001b[0m\n\u001b[0m",
            "\u001b[0;31mKeyError\u001b[0m: 'key1'"
          ]
        }
      ]
    },
    {
      "cell_type": "markdown",
      "source": [
        "- 인수로 기본값으로 하고자하는 함수를 넣어주면 된다."
      ],
      "metadata": {
        "id": "v6PwQCg9UOeY"
      }
    },
    {
      "cell_type": "code",
      "source": [
        "from collections import defaultdict\n",
        "default_dict = defaultdict(lambda:0) # 파라미터 없고 0을 반환\n",
        "default_dict[\"key1\"] # 없는키 접근하여도 에러가 발생하지 않음."
      ],
      "metadata": {
        "id": "dMa4Jxj__Fth",
        "colab": {
          "base_uri": "https://localhost:8080/"
        },
        "outputId": "42b3369b-d796-4dab-8acb-25793faa2eab"
      },
      "execution_count": null,
      "outputs": [
        {
          "output_type": "execute_result",
          "data": {
            "text/plain": [
              "0"
            ]
          },
          "metadata": {},
          "execution_count": 70
        }
      ]
    },
    {
      "cell_type": "markdown",
      "source": [
        "- 지정한 기본값을 값으로 하여 key ,value 가 생성된다."
      ],
      "metadata": {
        "id": "gw7sID6eUMXo"
      }
    },
    {
      "cell_type": "code",
      "source": [
        "default_dict"
      ],
      "metadata": {
        "id": "meFTwheC_Fqk",
        "colab": {
          "base_uri": "https://localhost:8080/"
        },
        "outputId": "9a0a0ae2-e921-4f6f-9ac1-0ba434bb82a4"
      },
      "execution_count": null,
      "outputs": [
        {
          "output_type": "execute_result",
          "data": {
            "text/plain": [
              "defaultdict(<function __main__.<lambda>()>, {'key1': 0})"
            ]
          },
          "metadata": {},
          "execution_count": 71
        }
      ]
    },
    {
      "cell_type": "markdown",
      "source": [
        "## OrderedDict\n",
        "- 순서를 가진 딕셔너리 객체\n",
        "- key, value 가 생성한 순서대로 저장된다."
      ],
      "metadata": {
        "id": "g23_ZQpZH412"
      }
    },
    {
      "cell_type": "code",
      "source": [
        "from collections import OrderedDict\n",
        "order_dict = OrderedDict()\n",
        "\n",
        "order_dict[\"사과\"] = 200\n",
        "order_dict[\"딸기\"] = 100\n",
        "order_dict[\"포도\"] = 50\n",
        "\n",
        "# 꺼내올때 순서대로 꺼내와 진다.\n",
        "for k,v in order_dict.items():\n",
        "    print(k,v)"
      ],
      "metadata": {
        "id": "eRB_JB0LHVsT",
        "colab": {
          "base_uri": "https://localhost:8080/"
        },
        "outputId": "282c4832-16a7-4b5c-e563-7d079de8ace7"
      },
      "execution_count": null,
      "outputs": [
        {
          "output_type": "stream",
          "name": "stdout",
          "text": [
            "사과 200\n",
            "딸기 100\n",
            "포도 50\n"
          ]
        }
      ]
    },
    {
      "cell_type": "markdown",
      "source": [
        "## Counter\n",
        "- 시퀀스 자료형의 데이터 값의 개수를 딕셔너리 형태로 반환"
      ],
      "metadata": {
        "id": "lquK95M8LUcH"
      }
    },
    {
      "cell_type": "code",
      "source": [
        "from collections import Counter\n",
        "\n",
        "Counter(\"aaabbc\") # 값이 key가 되고 개수가 value 가 된다."
      ],
      "metadata": {
        "id": "uCJ_FuoOKqHg",
        "colab": {
          "base_uri": "https://localhost:8080/"
        },
        "outputId": "6d3d7cd0-b1d9-445b-df76-f72b5ab20ef3"
      },
      "execution_count": null,
      "outputs": [
        {
          "output_type": "execute_result",
          "data": {
            "text/plain": [
              "Counter({'a': 3, 'b': 2, 'c': 1})"
            ]
          },
          "metadata": {},
          "execution_count": 73
        }
      ]
    },
    {
      "cell_type": "markdown",
      "source": [
        "- 딕셔너리 자료형을 넣을경우 그대로 생성됨"
      ],
      "metadata": {
        "id": "pU5RfgysNSXu"
      }
    },
    {
      "cell_type": "code",
      "source": [
        "counter = Counter({'사과': 3, '딸기': 2, '포도': 1,'참외':4})\n",
        "counter"
      ],
      "metadata": {
        "id": "EuRthrgFKqFI",
        "colab": {
          "base_uri": "https://localhost:8080/"
        },
        "outputId": "1fde5ebf-40b0-4d51-a220-5fdc3216a5f6"
      },
      "execution_count": null,
      "outputs": [
        {
          "output_type": "execute_result",
          "data": {
            "text/plain": [
              "Counter({'사과': 3, '딸기': 2, '포도': 1, '참외': 4})"
            ]
          },
          "metadata": {},
          "execution_count": 74
        }
      ]
    },
    {
      "cell_type": "markdown",
      "source": [
        "- most_common\n",
        "    - values를 기준으로 내림차순 정렬하여 key ,value 를 튜플에 담고 리스트에 담아 반환"
      ],
      "metadata": {
        "id": "5eDbNuRcN_vF"
      }
    },
    {
      "cell_type": "code",
      "source": [
        "counter.most_common()"
      ],
      "metadata": {
        "id": "Lw_kxIVFKqCK",
        "colab": {
          "base_uri": "https://localhost:8080/"
        },
        "outputId": "0621a49f-0923-4713-895c-c298fb499b93"
      },
      "execution_count": null,
      "outputs": [
        {
          "output_type": "execute_result",
          "data": {
            "text/plain": [
              "[('참외', 4), ('사과', 3), ('딸기', 2), ('포도', 1)]"
            ]
          },
          "metadata": {},
          "execution_count": 75
        }
      ]
    },
    {
      "cell_type": "markdown",
      "source": [
        "- elements\n",
        "    - value 의 갯수 만큼 key 를 반복할수 있는 객체를 반환"
      ],
      "metadata": {
        "id": "G3f4078BOywN"
      }
    },
    {
      "cell_type": "code",
      "source": [
        "for i in counter.elements():\n",
        "    print(i)"
      ],
      "metadata": {
        "id": "YUYmIRo9Kp_Z",
        "colab": {
          "base_uri": "https://localhost:8080/"
        },
        "outputId": "6e529240-49f9-48ba-d9fa-f30e91580f48"
      },
      "execution_count": null,
      "outputs": [
        {
          "output_type": "stream",
          "name": "stdout",
          "text": [
            "사과\n",
            "사과\n",
            "사과\n",
            "딸기\n",
            "딸기\n",
            "포도\n",
            "참외\n",
            "참외\n",
            "참외\n",
            "참외\n"
          ]
        }
      ]
    },
    {
      "cell_type": "code",
      "source": [],
      "metadata": {
        "id": "AD6sv_jmgePm"
      },
      "execution_count": null,
      "outputs": []
    }
  ]
}