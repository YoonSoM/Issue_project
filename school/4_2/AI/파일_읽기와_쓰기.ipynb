{
  "nbformat": 4,
  "nbformat_minor": 0,
  "metadata": {
    "colab": {
      "provenance": []
    },
    "kernelspec": {
      "name": "python3",
      "display_name": "Python 3"
    },
    "language_info": {
      "name": "python"
    }
  },
  "cells": [
    {
      "cell_type": "markdown",
      "source": [],
      "metadata": {
        "id": "pQsnJWXVsQLR"
      }
    },
    {
      "cell_type": "markdown",
      "source": [
        "파일 입출력의 개념"
      ],
      "metadata": {
        "id": "SbUfR4EgsQ7s"
      }
    },
    {
      "cell_type": "markdown",
      "source": [
        "파일 입출력은 프로그램이 외부 파일과 데이터를 주고받는 과정을 말합니다.\n",
        "이는 데이터를 영구적으로 저장하거나 다른 프로그램과 데이터를 공유할 때 매우 중요합\n",
        "니다.\n"
      ],
      "metadata": {
        "id": "FxDdphszsRza"
      }
    },
    {
      "cell_type": "markdown",
      "source": [
        "파일 입출력의 기본 단계:\n",
        "1. 파일 열기\n",
        "2. 파일 읽기 또는 쓰기\n",
        "3. 파일 닫기"
      ],
      "metadata": {
        "id": "7ujMxjFNsTc5"
      }
    },
    {
      "cell_type": "markdown",
      "source": [
        "파일 열기와 닫기\n",
        "파일을 열 때는 open() 함수를 사용하고, 닫을 때는 close() 메소드를 사용합니다."
      ],
      "metadata": {
        "id": "jooPdVobsUSj"
      }
    },
    {
      "cell_type": "markdown",
      "source": [
        "# 파일 열기\n",
        "file = open('example.txt', 'r') # 'r'은 읽기 모드를 의미합니다.\n",
        "# 파일 작업 수행\n",
        "# ...\n",
        "# 파일 닫기\n",
        "file.close()"
      ],
      "metadata": {
        "id": "JtPRLWnpsVZ-"
      }
    },
    {
      "cell_type": "markdown",
      "source": [
        "주요 파일 열기 모드:\n",
        "r : 읽기 모드 (기본값)\n",
        "w : 쓰기 모드 (기존 내용 삭제)\n",
        "a : 추가 모드 (기존 내용 끝에 추가)\n",
        "r+ : 읽기와 쓰기 모드"
      ],
      "metadata": {
        "id": "wSbdiGSrsWys"
      }
    },
    {
      "cell_type": "markdown",
      "source": [
        "with 문을 이용한 파일 처리\n",
        "with 문은 파일을 자동으로 닫아주므로 실수로 파일을 열어둔 채로 두는 것을 방지할\n",
        "수 있습니다"
      ],
      "metadata": {
        "id": "U0ZEOkQusX2e"
      }
    },
    {
      "cell_type": "markdown",
      "source": [
        "with 문을 사용하면 파일 사용이 끝난 후 자동으로 close() 가 호출되므로, 명시적으\n",
        "로 close() 를 호출할 필요가 없습니다.\n"
      ],
      "metadata": {
        "id": "zDvZh2MUsZAY"
      }
    },
    {
      "cell_type": "markdown",
      "source": [
        "# with 문 사용 예제\n",
        "with open('example.txt', 'r') as file:\n",
        " # 파일 작업 수행\n",
        " # ...\n",
        "# 이 지점에서 파일은 자동으로 닫힙니다."
      ],
      "metadata": {
        "id": "LJMgO4JBsaPm"
      }
    },
    {
      "cell_type": "markdown",
      "source": [
        "파일 쓰기 메소드\n",
        "파일에 쓰는 주요 메소드는 다음과 같습니다:\n",
        "1. write() : 문자열을 파일에 씁니다.\n",
        "2. writelines() : 문자열 리스트를 파일에 씁니다.\n"
      ],
      "metadata": {
        "id": "5_9KwF8Isbq_"
      }
    },
    {
      "cell_type": "markdown",
      "source": [
        "with 문\n",
        "with 문은 파일을 자동으로 닫아주므로 close() 를 명시적으로 호출할 필요가\n",
        "없습니다"
      ],
      "metadata": {
        "id": "0CLAsn2csdhK"
      }
    },
    {
      "cell_type": "code",
      "execution_count": null,
      "metadata": {
        "id": "0k2AWMfTsEkC"
      },
      "outputs": [],
      "source": [
        "# write() 사용\n",
        "with open('output.txt', 'w') as file:\n",
        "    file.write('안녕하세요.\\n')\n",
        "    file.write('파이썬 파일 쓰기 예제입니다.')\n",
        "print('파일 쓰기가 완료되었습니다.')"
      ]
    },
    {
      "cell_type": "code",
      "source": [
        "# writelines() 사용\n",
        "lines = ['첫 번째 줄\\n', '두 번째 줄\\n', '세 번째 줄\\n']\n",
        "with open('output_lines.txt', 'w') as file:\n",
        "    file.writelines(lines)\n",
        "print('파일 쓰기가 완료되었습니다.')"
      ],
      "metadata": {
        "id": "M50UTfp8shT4"
      },
      "execution_count": null,
      "outputs": []
    },
    {
      "cell_type": "markdown",
      "source": [
        "이 예제에서 w 모드로 파일을 열면 기존 내용이 모두 삭제되고 새로운 내용이 쓰입니다.\n",
        "기존 내용을 유지하면서 끝에 새 내용을 추가하려면 a 모드를 사용해야 합니다.\n"
      ],
      "metadata": {
        "id": "Qfq6eAyssj_T"
      }
    },
    {
      "cell_type": "markdown",
      "source": [
        "파일 읽기 메소드"
      ],
      "metadata": {
        "id": "lPk75YN6skx-"
      }
    },
    {
      "cell_type": "markdown",
      "source": [
        "파일을 읽는 주요 메소드는 다음과 같습니다:\n",
        "1. read() : 파일 전체 내용을 문자열로 읽습니다.\n",
        "2. readline() : 한 줄씩 읽습니다.\n",
        "3. readlines() : 모든 줄을 읽어 리스트로 반환합니다."
      ],
      "metadata": {
        "id": "_cqqqVJIsln2"
      }
    },
    {
      "cell_type": "code",
      "source": [
        "# 전체 내용 읽기\n",
        "with open('output.txt', 'r') as file:\n",
        "  content = file.read()\n",
        "print(content)"
      ],
      "metadata": {
        "id": "6kzGS3qQsmtv"
      },
      "execution_count": null,
      "outputs": []
    },
    {
      "cell_type": "code",
      "source": [
        "# 한 줄씩 읽기\n",
        "with open('output_lines.txt', 'r') as file:\n",
        "  while True:\n",
        "    line = file.readline()\n",
        "    print(line.strip())\n",
        "    if not line: # 빈 문자열 반환할 경우 loop 탈출!\n",
        "        break"
      ],
      "metadata": {
        "id": "qC8hf43Uspi8"
      },
      "execution_count": null,
      "outputs": []
    },
    {
      "cell_type": "code",
      "source": [
        "# 모든 줄을 리스트로 읽기\n",
        "with open('output_lines.txt', 'r') as file:\n",
        "    lines = file.readlines()\n",
        "for line in lines:\n",
        "    print(line.strip())"
      ],
      "metadata": {
        "id": "ixkWRwl1svHk"
      },
      "execution_count": null,
      "outputs": []
    },
    {
      "cell_type": "markdown",
      "source": [
        "데이터 분석과 인공지능에서의 활용\n",
        "파일 입출력은 데이터 분석과 인공지능 분야에서 매우 중요한 역할을 합니다.\n",
        "대부분의 데이터는 파일 형태로 저장되어 있으며, 이를 읽고 처리하는 것이 데이터 분석\n",
        "의 첫 단계입니다"
      ],
      "metadata": {
        "id": "91Ez4mZOsyJP"
      }
    },
    {
      "cell_type": "markdown",
      "source": [],
      "metadata": {
        "id": "7ZZhfh0qspFC"
      }
    },
    {
      "cell_type": "markdown",
      "source": [
        "예) 텍스트 분석 및 결과 저장\n",
        "이 예제에서는 collections 모듈의 Counter 와 defaultdict 를 사용하여 텍\n",
        "스트를 분석하고, 그 결과를 파일로 저장한 후 다시 읽어오는 과정을 보여줍니다.\n",
        "이를 통해 효율적인 텍스트 처리 방법과 파일 입출력 작업을 배울 수 있습니다."
      ],
      "metadata": {
        "id": "MAp2B0dzszMs"
      }
    },
    {
      "cell_type": "code",
      "source": [
        "from collections import Counter, defaultdict"
      ],
      "metadata": {
        "id": "NpiNgwpys0EL"
      },
      "execution_count": null,
      "outputs": []
    },
    {
      "cell_type": "code",
      "source": [
        "# 분석할 텍스트 준비\n",
        "text = '''\n",
        "To be or not to be, that is the question.\n",
        "Ask not what your country can do for you, ask what you can do for your country.\n",
        "I have a dream that one day this nation will rise up.\n",
        "'''\n",
        "print(text)\n"
      ],
      "metadata": {
        "id": "hE6Mo5P-s1Fl"
      },
      "execution_count": null,
      "outputs": []
    },
    {
      "cell_type": "code",
      "source": [
        "# 단어를 소문자로 변환하고 쉼표와 마침표를 제거한 후 단어 리스트 생성\n",
        "words = text.lower().replace(',', '').replace('.', '').split()\n",
        "words"
      ],
      "metadata": {
        "id": "8E13OwIfs2NJ"
      },
      "execution_count": null,
      "outputs": []
    },
    {
      "cell_type": "code",
      "source": [
        "# 총 단어 수 계산\n",
        "total_words = len(words)\n",
        "total_words"
      ],
      "metadata": {
        "id": "5xE8UDkfs387"
      },
      "execution_count": null,
      "outputs": []
    },
    {
      "cell_type": "code",
      "source": [
        "# 고유 단어 수 계산\n",
        "unique_words = len(set(words))\n",
        "unique_words"
      ],
      "metadata": {
        "id": "l0UOCPbzs4t5"
      },
      "execution_count": null,
      "outputs": []
    },
    {
      "cell_type": "code",
      "source": [
        "# Counter를 사용한 단어 빈도수 계산\n",
        "word_freq = Counter(words)\n",
        "word_freq"
      ],
      "metadata": {
        "id": "D5TCxsbrs5a6"
      },
      "execution_count": null,
      "outputs": []
    },
    {
      "cell_type": "code",
      "source": [
        "# 가장 많이 사용된 단어 찾기\n",
        "word_freq.most_common(1)"
      ],
      "metadata": {
        "id": "VXcYEmLfs6vC"
      },
      "execution_count": null,
      "outputs": []
    },
    {
      "cell_type": "code",
      "source": [
        "word_freq.most_common(1)[0]"
      ],
      "metadata": {
        "id": "OAKiGj_Qs7bs"
      },
      "execution_count": null,
      "outputs": []
    },
    {
      "cell_type": "code",
      "source": [
        "most_common, frequency = word_freq.most_common(1)[0]\n",
        "most_common, frequency"
      ],
      "metadata": {
        "id": "bQJaU1bMs8Gh"
      },
      "execution_count": null,
      "outputs": []
    },
    {
      "cell_type": "code",
      "source": [
        "print(f'총 단어 수: {total_words}')\n",
        "print(f'고유 단어 수: {unique_words}')\n",
        "print(f'가장 많이 사용된 단어: {most_common} (빈도수: {frequency})')"
      ],
      "metadata": {
        "id": "lRl5rsAys9M1"
      },
      "execution_count": null,
      "outputs": []
    },
    {
      "cell_type": "code",
      "source": [
        "# 분석 결과를 파일에 저장\n",
        "filename = 'text_analysis_result.txt'\n",
        "with open(filename, 'w') as file:\n",
        "  file.write(f'총 단어 수: {total_words}\\n')\n",
        "  file.write(f'고유 단어 수: {unique_words}\\n')\n",
        "  file.write(f'가장 많이 사용된 단어: {most_common} (빈도수: {frequency})')\n",
        "print(f'분석 결과가 {filename} 파일에 저장되었습니다.')"
      ],
      "metadata": {
        "id": "rLIGAE-bs-YZ"
      },
      "execution_count": null,
      "outputs": []
    },
    {
      "cell_type": "code",
      "source": [
        "# 저장된 분석 결과 읽기\n",
        "filename = 'text_analysis_result.txt'\n",
        "with open(filename, 'r') as file:\n",
        "  print(file.read())"
      ],
      "metadata": {
        "id": "Bc8zL2d4s_bi"
      },
      "execution_count": null,
      "outputs": []
    }
  ]
}