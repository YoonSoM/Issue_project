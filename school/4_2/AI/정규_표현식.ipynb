{
  "nbformat": 4,
  "nbformat_minor": 0,
  "metadata": {
    "colab": {
      "provenance": []
    },
    "kernelspec": {
      "name": "python3",
      "display_name": "Python 3"
    },
    "language_info": {
      "name": "python"
    }
  },
  "cells": [
    {
      "cell_type": "markdown",
      "source": [],
      "metadata": {
        "id": "JDfn7rJC_RRp"
      }
    },
    {
      "cell_type": "markdown",
      "source": [
        "정규 표현식을 사용하여 문자열에서 특정 패턴을 찾고 처리하는 방법을 익힙니다"
      ],
      "metadata": {
        "id": "71ByL9Zx_SO7"
      }
    },
    {
      "cell_type": "markdown",
      "source": [
        "이는 데이터 전처리, 텍스트 분석 등 다양한 분야에서 활용됩니다."
      ],
      "metadata": {
        "id": "d32oLwrw_TFk"
      }
    },
    {
      "cell_type": "markdown",
      "source": [
        "정규 표현식 소개"
      ],
      "metadata": {
        "id": "elregU9a_U6m"
      }
    },
    {
      "cell_type": "markdown",
      "source": [
        "정규 표현식은 문자열에서 특정 패턴을 찾거나 매칭하는 데 사용되는 특별한 문자열입니\n",
        "다"
      ],
      "metadata": {
        "id": "ncfn8Chu_Vll"
      }
    },
    {
      "cell_type": "markdown",
      "source": [
        "파이썬에서는 re 모듈을 통해 정규 표현식을 사용할 수 있습니다"
      ],
      "metadata": {
        "id": "N2YEUu0-_WWJ"
      }
    },
    {
      "cell_type": "markdown",
      "source": [
        "기본 패턴 매칭"
      ],
      "metadata": {
        "id": "_C9PtH-c_XV_"
      }
    },
    {
      "cell_type": "markdown",
      "source": [
        "이 예제의 r'World' 는 정규 표현식 패턴입니다."
      ],
      "metadata": {
        "id": "lwQNSbFM_YBu"
      }
    },
    {
      "cell_type": "markdown",
      "source": [
        "r 은 원시 문자열(raw string)을 의미합니다"
      ],
      "metadata": {
        "id": "ry_2lTnF_ZGM"
      }
    },
    {
      "cell_type": "markdown",
      "source": [
        "이는 백슬래시( \\ )를 특별히 처리하지 않고 그대로 사용하겠다는 뜻입니다."
      ],
      "metadata": {
        "id": "BLgDNgfT_Z7p"
      }
    },
    {
      "cell_type": "markdown",
      "source": [
        "re.search() 는 문자열 전체에서 패턴을 찾는 함수입니다."
      ],
      "metadata": {
        "id": "tPB0X7O4_bAJ"
      }
    },
    {
      "cell_type": "code",
      "source": [
        "import re"
      ],
      "metadata": {
        "id": "mZTwWvcO_bs7"
      },
      "execution_count": null,
      "outputs": []
    },
    {
      "cell_type": "code",
      "source": [
        "text = 'Hello, World!'\n",
        "pattern = r'World'"
      ],
      "metadata": {
        "id": "USzl0le7_eC1"
      },
      "execution_count": null,
      "outputs": []
    },
    {
      "cell_type": "code",
      "source": [
        "if re.search(pattern, text):\n",
        "    print('패턴을 찾았습니다!')\n",
        "else:\n",
        "    print('패턴을 찾지 못했습니다.')\n"
      ],
      "metadata": {
        "id": "gvBzQr5x_fHB"
      },
      "execution_count": null,
      "outputs": []
    },
    {
      "cell_type": "markdown",
      "source": [
        "기본 메타 문자\n"
      ],
      "metadata": {
        "id": "qzEpdQ-6_jWl"
      }
    },
    {
      "cell_type": "markdown",
      "source": [
        "정규 표현식에서 특별한 의미를 가지는 문자들을 메타 문자라고 합니다."
      ],
      "metadata": {
        "id": "RAh1SZyl_k4q"
      }
    },
    {
      "cell_type": "markdown",
      "source": [
        ". (마침표)"
      ],
      "metadata": {
        "id": "i2oZbQMJ_lxG"
      }
    },
    {
      "cell_type": "markdown",
      "source": [
        "줄바꿈을 제외한 임의의 한 문자를 나타냅니다."
      ],
      "metadata": {
        "id": "ZSqaxofc_mi2"
      }
    },
    {
      "cell_type": "markdown",
      "source": [
        "예) r'c.t' 는 'cat', 'cot', 'cut' 등과 매치됩니다."
      ],
      "metadata": {
        "id": "I00qkqPn_nRX"
      }
    },
    {
      "cell_type": "markdown",
      "source": [
        "^ (캐럿)\n",
        "문자열의 시작을 나타냅니다.\n",
        "예) r'^Hello' 는 'Hello, World!'와 매치되지만 'World, Hello!'와는 매치되지 않습\n",
        "니다."
      ],
      "metadata": {
        "id": "xmvtymbm_oQ2"
      }
    },
    {
      "cell_type": "markdown",
      "source": [
        "$ (달러)\n",
        "문자열의 끝을 나타냅니다.\n",
        "예) r'World$' 는 'Hello, World'와 매치되지만 'World, Hello'와는 매치되지 않습니\n",
        "다.\n"
      ],
      "metadata": {
        "id": "K_jfS7MV_piq"
      }
    },
    {
      "cell_type": "markdown",
      "source": [
        "* (별표)\n",
        "앞의 문자가 0 번 이상 반복됨을 나타냅니다.\n",
        "예) r'ab*c' 는 'ac', 'abc', 'abbc', 'abbbc' 등과 매치됩니다."
      ],
      "metadata": {
        "id": "Dfw1Y7dZ_sT_"
      }
    },
    {
      "cell_type": "markdown",
      "source": [
        "+ (더하기)\n",
        "앞의 문자가 1 번 이상 반복됨을 나타냅니다.\n",
        "예) r'ab+c' 는 'abc', 'abbc', 'abbbc' 등과 매치되지만 'ac'와는 매치되지 않습니다"
      ],
      "metadata": {
        "id": "7sczGWzC_tt9"
      }
    },
    {
      "cell_type": "markdown",
      "source": [
        "? (물음표)\n",
        "앞의 문자가 0 번 또는 1 번 반복됨을 나타냅니다.\n",
        "예) r'ab?c' 는 'ac', 'abc'와 매치되지만 'abbc'와는 매치되지 않습니다."
      ],
      "metadata": {
        "id": "7SqzVH65_u3z"
      }
    },
    {
      "cell_type": "code",
      "source": [
        "text = 'The cat and the hat sat on the mat.'\n",
        "pattern = r'.at'\n",
        "matches = re.findall(pattern, text)\n",
        "matches\n"
      ],
      "metadata": {
        "id": "C7DEkO_M_wer"
      },
      "execution_count": null,
      "outputs": []
    },
    {
      "cell_type": "markdown",
      "source": [
        "예제 설명"
      ],
      "metadata": {
        "id": "bCDZi6js_xXX"
      }
    },
    {
      "cell_type": "markdown",
      "source": [
        "r'.at' 에서 . 은 임의의 문자 한 개를 나타냅니다. 따라서 at 앞에 임의의 한 문\n",
        "자가 오는 패턴을 찾습니다"
      ],
      "metadata": {
        "id": "7QfI-d5D_ygl"
      }
    },
    {
      "cell_type": "markdown",
      "source": [
        "re.findall() 은 패턴과 일치하는 모든 부분을 찾아 리스트로 반환합니다."
      ],
      "metadata": {
        "id": "opdXG_ot_zyN"
      }
    },
    {
      "cell_type": "markdown",
      "source": [
        "특정 문자 그룹 지정하기 (문자 집합)"
      ],
      "metadata": {
        "id": "Iq8882lA_1Aj"
      }
    },
    {
      "cell_type": "markdown",
      "source": [
        "대괄호 [] 를 사용하여 찾고자 하는 문자들의 그룹을 지정할 수 있습니다."
      ],
      "metadata": {
        "id": "GBZoICrm_1-d"
      }
    },
    {
      "cell_type": "markdown",
      "source": [
        "이를 '문자 집합'이라고 부릅니다. 문자 집합은 괄호 안의 문자들 중 하나와 일치합니다.\n"
      ],
      "metadata": {
        "id": "9JU3FuV6_3Cw"
      }
    },
    {
      "cell_type": "code",
      "source": [
        "text = 'cat, hat, rat, bat'\n",
        "pattern = r'[chr]at'\n",
        "matches = re.findall(pattern, text)\n",
        "matches"
      ],
      "metadata": {
        "id": "lH81PIR1_39m"
      },
      "execution_count": null,
      "outputs": []
    },
    {
      "cell_type": "markdown",
      "source": [
        "예제 설명\n",
        "[chr] 은 'c', 'h', 'r' 중 하나의 문자와 일치합니다.\n",
        "따라서 [chr]at 은 'cat', 'hat', 'rat'과 일치하지만 'bat'과는 일치하지 않습니다"
      ],
      "metadata": {
        "id": "9DM8kPER_4-K"
      }
    },
    {
      "cell_type": "code",
      "source": [
        "text = '문자열 예제123, 숫자는 456입니다.'\n",
        "pattern = r'[0123456789]+'\n",
        "matches = re.findall(pattern, text)\n",
        "matches"
      ],
      "metadata": {
        "id": "_4z5-r0n_53t"
      },
      "execution_count": null,
      "outputs": []
    },
    {
      "cell_type": "markdown",
      "source": [
        "자주 사용되는 문자 집합 단축 표현\n"
      ],
      "metadata": {
        "id": "tgKmHGTr_66j"
      }
    },
    {
      "cell_type": "markdown",
      "source": [
        "자주 사용되는 문자 집합들은 간단한 표현으로 대체할 수 있습니다:\n",
        "\\d : 모든 숫자와 일치합니다. [0-9] 와 동일합니다.\n",
        "0 부터 9 까지의 모든 숫자\n",
        "\\w : 모든 문자 및 숫자와 일치합니다. [a-zA-Z0-9_] 와 동일합니다.\n",
        "모든 알파벳 소문자( a-z ), 대문자( A-Z ), 숫자( 0-9 ), 그리고 밑줄( _ )\n",
        "\\s : 모든 공백 문자(스페이스, 탭, 줄바꿈)와 일치합니다."
      ],
      "metadata": {
        "id": "Hqs4olD9_8Dn"
      }
    },
    {
      "cell_type": "code",
      "source": [
        "text = '문자열 예제123, 숫자는 456입니다.'\n",
        "pattern = r'[0-9]+'\n",
        "matches = re.findall(pattern, text)\n",
        "matches\n"
      ],
      "metadata": {
        "id": "kKRrb8Ea_9Zu"
      },
      "execution_count": null,
      "outputs": []
    },
    {
      "cell_type": "code",
      "source": [
        "text = '문자열 예제123, 숫자는 456입니다.'\n",
        "pattern = r'\\d+'\n",
        "matches = re.findall(pattern, text)\n",
        "matches\n"
      ],
      "metadata": {
        "id": "RiYlbtZL_-aJ"
      },
      "execution_count": null,
      "outputs": []
    },
    {
      "cell_type": "code",
      "source": [
        "text = 'username123, user_name, User_Name_123'\n",
        "pattern = r'[a-zA-Z0-9_]+'\n",
        "matches = re.findall(pattern, text)\n",
        "matches\n"
      ],
      "metadata": {
        "id": "vk8YnvRx__sL"
      },
      "execution_count": null,
      "outputs": []
    },
    {
      "cell_type": "code",
      "source": [
        "text = 'username123, user_name, User_Name_123'\n",
        "pattern = r'\\w+'\n",
        "matches = re.findall(pattern, text)\n",
        "matches"
      ],
      "metadata": {
        "id": "fiwnk13eAA-Y"
      },
      "execution_count": null,
      "outputs": []
    },
    {
      "cell_type": "markdown",
      "source": [
        "반복 횟수 지정"
      ],
      "metadata": {
        "id": "tM2G610GACBz"
      }
    },
    {
      "cell_type": "markdown",
      "source": [
        "{n} : 정확히 n 번 반복\n",
        "{n,} : n 번 이상 반복\n",
        "{n,m} : n 번 이상 m 번 이하 반복"
      ],
      "metadata": {
        "id": "Qqna78b0ADHK"
      }
    },
    {
      "cell_type": "code",
      "source": [
        "text = '전화번호는 010-1234-5678 입니다.'\n",
        "pattern = r'\\d{3}-\\d{4}-\\d{4}'\n",
        "matches = re.findall(pattern, text)\n",
        "matches"
      ],
      "metadata": {
        "id": "-IPe3h6GAFH7"
      },
      "execution_count": null,
      "outputs": []
    },
    {
      "cell_type": "code",
      "source": [
        "text = '전화번호는 010-1234-5678 입니다.'\n",
        "pattern = r'\\d{2,}-\\d{3,4}-\\d{4}'\n",
        "matches = re.findall(pattern, text)\n",
        "matches"
      ],
      "metadata": {
        "id": "Qo5RpWTtAGlT"
      },
      "execution_count": null,
      "outputs": []
    },
    {
      "cell_type": "code",
      "source": [
        "text = '사용자명은 user123이고, 이메일은 user123@example.com 입니다.'\n",
        "pattern = r'\\w+@\\w+\\.\\w+'\n",
        "matches = re.findall(pattern, text)\n",
        "matches"
      ],
      "metadata": {
        "id": "tughHk1LAH8U"
      },
      "execution_count": null,
      "outputs": []
    },
    {
      "cell_type": "markdown",
      "source": [
        "re 모듈의 주요 함수"
      ],
      "metadata": {
        "id": "4ROG8pM9AJjc"
      }
    },
    {
      "cell_type": "markdown",
      "source": [
        "re.search() : 문자열 전체에서 패턴을 검색\n",
        "re.findall() : 패턴과 일치하는 모든 부분을 리스트로 반환\n",
        "re.sub() : 패턴과 일치하는 부분을 다른 문자열로 대체\n"
      ],
      "metadata": {
        "id": "2QZh1EUHAKnC"
      }
    },
    {
      "cell_type": "code",
      "source": [
        "text = '연락처는 010-1234-5678 입니다.'\n",
        "pattern = r'\\d{3}-\\d{4}-\\d{4}'\n",
        "if re.search(pattern, text):\n",
        "    print('전화번호를 찾았습니다!')\n",
        "else:\n",
        "    print('전화번호를 찾지 못했습니다.')\n"
      ],
      "metadata": {
        "id": "ixkIykpgAMQz"
      },
      "execution_count": null,
      "outputs": []
    },
    {
      "cell_type": "code",
      "source": [
        "text = 'There are 123 apples and 456 bananas'\n",
        "pattern = r'\\d+'\n",
        "re.sub(pattern, 'NUM', text)\n"
      ],
      "metadata": {
        "id": "7UXx4USLANeB"
      },
      "execution_count": null,
      "outputs": []
    },
    {
      "cell_type": "markdown",
      "source": [
        "데이터 분석과 인공지능에서의 활용"
      ],
      "metadata": {
        "id": "65zoQwTjAPy3"
      }
    },
    {
      "cell_type": "markdown",
      "source": [
        "정규 표현식은 데이터 전처리와 텍스트 분석에서 매우 유용합니다"
      ],
      "metadata": {
        "id": "XaryiK0IAQoB"
      }
    },
    {
      "cell_type": "markdown",
      "source": [
        "예) 텍스트에서 날짜 형식 추출하기\n",
        "\\d{4} 는 4 자리 숫자(연도)를 찾습니다.\n",
        "\\d{1,2} 는 1 자리 또는 2 자리 숫자(월, 일)를 찾습니다.\n",
        "이런 식으로 정규 표현식을 사용하면 대량의 텍스트 데이터에서 특정 패턴(날짜, 이\n",
        "메일 주소, 전화번호 등)을 쉽게 추출할 수 있습니다."
      ],
      "metadata": {
        "id": "1tYtQbKEASB3"
      }
    },
    {
      "cell_type": "code",
      "source": [
        "text = '2000년 3월 1일에 첫 번째 시험, 2100년 9월 1일에 두 번째 시험이 있습니다.'\n",
        "pattern = r'\\d{4}년 \\d{1,2}월 \\d{1,2}일'\n",
        "matches = re.findall(pattern, text)\n",
        "matches"
      ],
      "metadata": {
        "id": "z9muJZkNATJg"
      },
      "execution_count": null,
      "outputs": []
    }
  ]
}