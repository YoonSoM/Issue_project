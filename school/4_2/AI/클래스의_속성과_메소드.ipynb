{
  "nbformat": 4,
  "nbformat_minor": 0,
  "metadata": {
    "colab": {
      "provenance": []
    },
    "kernelspec": {
      "name": "python3",
      "display_name": "Python 3"
    },
    "language_info": {
      "name": "python"
    }
  },
  "cells": [
    {
      "cell_type": "markdown",
      "source": [],
      "metadata": {
        "id": "Yy-SnQQCHNr8"
      }
    },
    {
      "cell_type": "code",
      "execution_count": null,
      "metadata": {
        "id": "3LDXmo0ZHIUW"
      },
      "outputs": [],
      "source": [
        "class Dog:\n",
        "    def __init__(self, name, age):\n",
        "        self.name = name # 'name'은 속성입니다.\n",
        "        self.age = age # 'age'는 속성입니다."
      ]
    },
    {
      "cell_type": "code",
      "source": [
        "my_dog = Dog('바둑이', 3)"
      ],
      "metadata": {
        "id": "n_6EsKOYHQEf"
      },
      "execution_count": null,
      "outputs": []
    },
    {
      "cell_type": "code",
      "source": [
        "f'내 강아지의 이름은 {my_dog.name}이고, {my_dog.age}살입니다.'"
      ],
      "metadata": {
        "id": "0ubks-rfHQ7L"
      },
      "execution_count": null,
      "outputs": []
    },
    {
      "cell_type": "markdown",
      "source": [
        "여기서 name 과 age 는 'Dog' 클래스의 속성입니다.\n",
        "각 'Dog' 객체는 자신만의 name 과 age 값을 가집니다.\n",
        "속성의 특징:\n",
        "1. 객체마다 다른 값을 가질 수 있습니다.\n",
        "2. 점(.) 표기법을 사용하여 접근할 수 있습니다. (예: my_dog.name )\n",
        "3. 객체의 상태를 나타냅니다.\n",
        "클래스의 메소드 (Methods)\n",
        "메소드는 클래스 내에서 정의된 함수로, 객체가 수행할 수 있는 동작을 나타냅니다."
      ],
      "metadata": {
        "id": "4zMeBnryHU5v"
      }
    },
    {
      "cell_type": "code",
      "source": [
        "class Dog:\n",
        "    def __init__(self, name, age):\n",
        "      self.name = name\n",
        "      self.age = age\n",
        "    def bark(self): # 'bark'는 메소드입니다.\n",
        "      print(f'{self.name}가 멍멍! 하고 짖습니다.')\n",
        "    def have_birthday(self): # 'have_birthday'는 메소드입니다.\n",
        "      self.age += 1\n",
        "      print(f'{self.name}의 나이가 {self.age}살이 되었습니다!')"
      ],
      "metadata": {
        "id": "QkwBK1smHVtL"
      },
      "execution_count": null,
      "outputs": []
    },
    {
      "cell_type": "code",
      "source": [
        "my_dog = Dog('바둑이', 3)"
      ],
      "metadata": {
        "id": "QTV2TVu6HgzO"
      },
      "execution_count": null,
      "outputs": []
    },
    {
      "cell_type": "code",
      "source": [
        "my_dog.bark() # 메소드 호출\n",
        "my_dog.have_birthday() # 메소드 호출"
      ],
      "metadata": {
        "id": "6f_ks2G4HhjA"
      },
      "execution_count": null,
      "outputs": []
    },
    {
      "cell_type": "markdown",
      "source": [
        "메소드의 특징:\n",
        "1. 객체의 동작을 정의합니다.\n",
        "2. 메소드 내에서 self 를 통해 객체의 속성에 접근할 수 있습니다.\n",
        "3. 객체의 상태(속성)를 변경할 수 있습니다"
      ],
      "metadata": {
        "id": "LS8PKdm9HiiL"
      }
    },
    {
      "cell_type": "markdown",
      "source": [
        "self 이해하기\n",
        "self 는 객체 자신을 가리키는 참조입니다.\n",
        "메소드를 정의할 때 첫 번째 매개변수로 self 를 사용합니다."
      ],
      "metadata": {
        "id": "u68eCnbRHjpo"
      }
    },
    {
      "cell_type": "code",
      "source": [
        "class Circle:\n",
        "    def __init__(self, radius):\n",
        "        self.radius = radius # self를 통해 객체의 속성에 접근\n",
        "    def area(self):\n",
        "        return 3.14 * self.radius ** 2 # self를 통해 객체의 속성 사용"
      ],
      "metadata": {
        "id": "n5TBrzciHkvy"
      },
      "execution_count": null,
      "outputs": []
    },
    {
      "cell_type": "code",
      "source": [
        "my_circle = Circle(5)"
      ],
      "metadata": {
        "id": "mB72anlCHpVk"
      },
      "execution_count": null,
      "outputs": []
    },
    {
      "cell_type": "code",
      "source": [
        "f'원의 넓이: {my_circle.area()}'"
      ],
      "metadata": {
        "id": "RR-V_OngHqUE"
      },
      "execution_count": null,
      "outputs": []
    },
    {
      "cell_type": "markdown",
      "source": [
        "self 의 역할:\n",
        "1. 객체의 속성에 접근할 수 있게 합니다.\n",
        "2. 같은 클래스의 다른 메소드를 호출할 수 있게 합니다.\n",
        "3. 각 객체가 자신만의 데이터를 가질 수 있게 합니다.\n",
        "데이터 분석 관련 예제\n",
        "간단한 데이터 분석 클래스를 만들어 보겠습니다."
      ],
      "metadata": {
        "id": "G_Ha0bbsHthg"
      }
    },
    {
      "cell_type": "code",
      "source": [
        "class DataAnalyzer:\n",
        "    def __init__(self, data):\n",
        "      self.data = data # 데이터를 속성으로 저장\n",
        "    def mean(self):\n",
        "      return sum(self.data) / len(self.data)\n",
        "    def median(self):\n",
        "      sorted_data = sorted(self.data)\n",
        "      n = len(sorted_data)\n",
        "      if n % 2 == 0:\n",
        "        return (sorted_data[n // 2 - 1] + sorted_data[n // 2]) / 2\n",
        "      else:\n",
        "        return sorted_data[n // 2]\n",
        "    def range(self):\n",
        "        return max(self.data) - min(self.data)"
      ],
      "metadata": {
        "id": "v4ykk619Hu_C"
      },
      "execution_count": null,
      "outputs": []
    },
    {
      "cell_type": "code",
      "source": [
        "# 사용 예\n",
        "temperatures = [20, 25, 30, 27, 22, 28]\n",
        "analyzer = DataAnalyzer(temperatures)"
      ],
      "metadata": {
        "id": "79K3bliMH6vp"
      },
      "execution_count": null,
      "outputs": []
    },
    {
      "cell_type": "code",
      "source": [
        "f'평균 온도: {analyzer.mean():.2f}'"
      ],
      "metadata": {
        "id": "gmCmDypzH7si"
      },
      "execution_count": null,
      "outputs": []
    },
    {
      "cell_type": "code",
      "source": [
        "f'중앙값 온도: {analyzer.median():.2f}'"
      ],
      "metadata": {
        "id": "-0434oXZH9tM"
      },
      "execution_count": null,
      "outputs": []
    },
    {
      "cell_type": "code",
      "source": [
        "f'온도 범위: {analyzer.range():.2f}'"
      ],
      "metadata": {
        "id": "NHW8A3LbH-75"
      },
      "execution_count": null,
      "outputs": []
    },
    {
      "cell_type": "markdown",
      "source": [
        "이 예제에서 DataAnalyzer 클래스는:\n",
        "1. data 라는 속성을 가집니다.\n",
        "2. mean() , median() , range() 메소드를 통해 데이터 분석 기능을 제공합니다.\n",
        "이렇게 클래스를 사용하면 데이터와 그 데이터를 분석하는 기능을 하나의 단위로 묶어\n",
        "관리할 수 있습니다"
      ],
      "metadata": {
        "id": "kB_FXFWPIAfe"
      }
    },
    {
      "cell_type": "markdown",
      "source": [
        "데이터 분석과 인공지능에서의 활용\n",
        "클래스의 속성과 메소드는 데이터 분석과 인공지능 분야에서 다음과 같이 활용될 수 있\n",
        "습니다:\n",
        "1. 데이터 표현: 복잡한 데이터 구조를 클래스의 속성으로 표현할 수 있습니다.\n",
        "2. 데이터 처리: 데이터 전처리, 변환, 분석 등의 작업을 클래스의 메소드로 구현할 수\n",
        "있습니다.\n",
        "3. 결과 저장: 분석 결과를 클래스의 속성으로 저장하고 관리할 수 있습니다.\n"
      ],
      "metadata": {
        "id": "2kTlA4HJIB0A"
      }
    },
    {
      "cell_type": "markdown",
      "source": [
        "예) 데이터 처리 클래스\n",
        "이 예제에서 DataProcessor 클래스는 다음과 같은 기능을 제공합니다:\n",
        "1. remove_duplicates() : 데이터에서 중복을 제거합니다.\n",
        "2. calculate_stats() : 데이터의 평균, 최대값, 최소값을 계산합니다.\n",
        "3. scale_data(factor) : 모든 데이터 값을 주어진 factor만큼 곱합니다.\n",
        "4. show_results() : 원본 데이터, 처리된 데이터, 통계 정보를 출력합니다"
      ],
      "metadata": {
        "id": "qjqlI3cGIC_6"
      }
    },
    {
      "cell_type": "code",
      "source": [
        "class DataProcessor:\n",
        "    def __init__(self, data):\n",
        "        self.data = data # 원본 데이터 (속성)\n",
        "        self.processed_data = None # 처리된 데이터를 저장할 속성\n",
        "        self.stats = {} # 통계 정보를 저장할 속성\n",
        "    def remove_duplicates(self):\n",
        "        # 중복 제거 메소드\n",
        "        self.processed_data = list(set(self.data))\n",
        "        print('중복이 제거되었습니다.')\n",
        "    def calculate_stats(self):\n",
        "        # 기본 통계 계산 메소드\n",
        "        if self.processed_data is None:\n",
        "        self.processed_data = self.data # 만약 처리된 데이터가 없으면 원본 데이\n",
        "        self.stats['mean'] = sum(self.processed_data) / len(self.processed_data)\n",
        "        self.stats['max'] = max(self.processed_data)\n",
        "        self.stats['min'] = min(self.processed_data)\n",
        "        print('기본 통계가 계산되었습니다.')\n",
        "    def scale_data(self, factor):\n",
        "        # 데이터 스케일 조정 메소드\n",
        "        if self.processed_data is None:\n",
        "        self.processed_data = self.data # 만약 처리된 데이터가 없으면 원본 데이\n",
        "        self.processed_data = [x * factor for x in self.processed_data]\n",
        "        print(f'데이터가 {factor}배 스케일 조정되었습니다.')\n",
        "    def show_results(self):\n",
        "        # 결과 출력 메소드\n",
        "        print('\\n처리 결과:')\n",
        "        print(f'원본 데이터: {self.data}')\n",
        "        print(f'처리된 데이터: {self.processed_data}')\n",
        "        print(f'통계 정보: {self.stats}')"
      ],
      "metadata": {
        "id": "zwqWe-ngIEP5"
      },
      "execution_count": null,
      "outputs": []
    },
    {
      "cell_type": "code",
      "source": [
        "# 사용 예\n",
        "data = [1, 2, 2, 3, 4, 4, 5]\n",
        "processor = DataProcessor(data)"
      ],
      "metadata": {
        "id": "Jdk6Vk9RIdrj"
      },
      "execution_count": null,
      "outputs": []
    },
    {
      "cell_type": "code",
      "source": [
        "processor.remove_duplicates()\n",
        "processor.scale_data(2)\n",
        "processor.calculate_stats()\n",
        "processor.show_results()"
      ],
      "metadata": {
        "id": "l6xGIUByIek6"
      },
      "execution_count": null,
      "outputs": []
    }
  ]
}