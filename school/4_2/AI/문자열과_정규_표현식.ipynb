{
  "nbformat": 4,
  "nbformat_minor": 0,
  "metadata": {
    "colab": {
      "provenance": []
    },
    "kernelspec": {
      "name": "python3",
      "display_name": "Python 3"
    },
    "language_info": {
      "name": "python"
    }
  },
  "cells": [
    {
      "cell_type": "markdown",
      "source": [
        "문자열 메소드"
      ],
      "metadata": {
        "id": "weqgQ42eRjHF"
      }
    },
    {
      "cell_type": "markdown",
      "source": [
        "이번 유닛에서는 파이썬의 문자열 처리 기능 중 가장 기본이 되는 문자열 메소드에 대해\n",
        "학습합니다.\n"
      ],
      "metadata": {
        "id": "Uzj-lGhMRksW"
      }
    },
    {
      "cell_type": "markdown",
      "source": [
        "문자열 메소드를 통해 텍스트 데이터를 효과적으로 다루는 방법을 익힐 수 있습니다"
      ],
      "metadata": {
        "id": "wDJaLVEZRlsp"
      }
    },
    {
      "cell_type": "markdown",
      "source": [
        "이는 데이터 분석과 인공지능 분야에서 텍스트 데이터를 전처리하고 가공하는 데 필수적\n",
        "인 기술입니다."
      ],
      "metadata": {
        "id": "lES-6ms0RmjJ"
      }
    },
    {
      "cell_type": "markdown",
      "source": [
        "문자열과 시퀀스"
      ],
      "metadata": {
        "id": "n9S2d-5ARnZM"
      }
    },
    {
      "cell_type": "markdown",
      "source": [
        "문자열은 파이썬에서 텍스트를 표현하는 데 사용되는 데이터 타입입니다."
      ],
      "metadata": {
        "id": "mSpV_C_gRoz8"
      }
    },
    {
      "cell_type": "code",
      "execution_count": null,
      "metadata": {
        "id": "JIcripgFRfDL"
      },
      "outputs": [],
      "source": [
        "text = 'Hello, World!'\n",
        "text"
      ]
    },
    {
      "cell_type": "markdown",
      "source": [
        "인덱싱"
      ],
      "metadata": {
        "id": "ybSioaamRs4J"
      }
    },
    {
      "cell_type": "markdown",
      "source": [
        "각 원소에 순서대로 번호(인덱스)가 매겨져 있어, 특정 위치의 원소에 접근할 수 있습\n",
        "니다.\n"
      ],
      "metadata": {
        "id": "46szpznsRuTC"
      }
    },
    {
      "cell_type": "markdown",
      "source": [
        "인덱싱은 0 부터 시작하며, 음수 인덱스는 뒤에서부터 접근합니다.\n"
      ],
      "metadata": {
        "id": "EOtAu065RvSh"
      }
    },
    {
      "cell_type": "code",
      "source": [
        "text[0]"
      ],
      "metadata": {
        "id": "9iPOS2A2Rrsm"
      },
      "execution_count": null,
      "outputs": []
    },
    {
      "cell_type": "code",
      "source": [
        "text[-1] # 마지막 문자"
      ],
      "metadata": {
        "id": "fiK7OHGHRxJC"
      },
      "execution_count": null,
      "outputs": []
    },
    {
      "cell_type": "markdown",
      "source": [
        "슬라이싱"
      ],
      "metadata": {
        "id": "zyOqaFTDRy8n"
      }
    },
    {
      "cell_type": "markdown",
      "source": [
        "문자열의 일부분을 추출할 수 있습니다."
      ],
      "metadata": {
        "id": "_JcdhHufRz2A"
      }
    },
    {
      "cell_type": "markdown",
      "source": [
        "슬라이싱은 start:end:step 형식으로 사용하며, 범위는 start <= x < end 입\n",
        "니다"
      ],
      "metadata": {
        "id": "bhV8tLwmR0hQ"
      }
    },
    {
      "cell_type": "code",
      "source": [
        "text[0:5] # 0부터 4까지"
      ],
      "metadata": {
        "id": "wmPRhQxdR1hC"
      },
      "execution_count": null,
      "outputs": []
    },
    {
      "cell_type": "code",
      "source": [
        "text[:5] #처음부터 4까지"
      ],
      "metadata": {
        "id": "KyOThSC4R2dM"
      },
      "execution_count": null,
      "outputs": []
    },
    {
      "cell_type": "code",
      "source": [
        "text[7:] # 7부터 끝까지"
      ],
      "metadata": {
        "id": "ZvkCRarsR4n0"
      },
      "execution_count": null,
      "outputs": []
    },
    {
      "cell_type": "code",
      "source": [
        "text[::2] # 2 step으로 건너뛰며"
      ],
      "metadata": {
        "id": "dqXCcmFRR5vy"
      },
      "execution_count": null,
      "outputs": []
    },
    {
      "cell_type": "markdown",
      "source": [
        "길이"
      ],
      "metadata": {
        "id": "L9doPzMHR6x-"
      }
    },
    {
      "cell_type": "markdown",
      "source": [
        "len() 함수를 사용하여 문자열의 길이를 알 수 있습니다"
      ],
      "metadata": {
        "id": "-ZLMqhPMR7qi"
      }
    },
    {
      "cell_type": "code",
      "source": [
        "len(text)"
      ],
      "metadata": {
        "id": "AnnbS97rR83a"
      },
      "execution_count": null,
      "outputs": []
    },
    {
      "cell_type": "markdown",
      "source": [
        "문자열의 불변성"
      ],
      "metadata": {
        "id": "e2kx_48aR_CJ"
      }
    },
    {
      "cell_type": "markdown",
      "source": [
        "파이썬의 문자열은 불변(immutable)입니다"
      ],
      "metadata": {
        "id": "fcidSjSoSBE5"
      }
    },
    {
      "cell_type": "markdown",
      "source": [
        "한번 생성된 문자열은 수정할 수 없습니다.\n"
      ],
      "metadata": {
        "id": "9ukeW6OUSB95"
      }
    },
    {
      "cell_type": "code",
      "source": [
        "text[0] = 'h"
      ],
      "metadata": {
        "id": "pnhJRzVRSC8j"
      },
      "execution_count": null,
      "outputs": []
    },
    {
      "cell_type": "markdown",
      "source": [
        "주요 문자열 메소드"
      ],
      "metadata": {
        "id": "Blt13FtlSE9i"
      }
    },
    {
      "cell_type": "markdown",
      "source": [
        "파이썬은 문자열을 다루기 위한 다양한 내장 메소드를 제공합니다"
      ],
      "metadata": {
        "id": "z2b2UiyRSGD0"
      }
    },
    {
      "cell_type": "markdown",
      "source": [
        "이러한 메소드들은 문자열을 변환하거나 분석하는 데 사용됩니다.\n"
      ],
      "metadata": {
        "id": "k-r4PGiQSG-x"
      }
    },
    {
      "cell_type": "code",
      "source": [
        "text\n"
      ],
      "metadata": {
        "id": "DDb-exjiSD7W"
      },
      "execution_count": null,
      "outputs": []
    },
    {
      "cell_type": "markdown",
      "source": [
        "upper()"
      ],
      "metadata": {
        "id": "h3dKYOlYSId1"
      }
    },
    {
      "cell_type": "markdown",
      "source": [
        "모든 문자를 대문자로 변환합니다.\n"
      ],
      "metadata": {
        "id": "2k7AfmYTSJSa"
      }
    },
    {
      "cell_type": "code",
      "source": [
        "text.upper()"
      ],
      "metadata": {
        "id": "39iArfONSKJn"
      },
      "execution_count": null,
      "outputs": []
    },
    {
      "cell_type": "markdown",
      "source": [
        "lower()"
      ],
      "metadata": {
        "id": "RX4ojZarSK2G"
      }
    },
    {
      "cell_type": "markdown",
      "source": [
        "모든 문자를 소문자로 변환합니다."
      ],
      "metadata": {
        "id": "DM4QyZQTSLhm"
      }
    },
    {
      "cell_type": "code",
      "source": [
        "text.lower()"
      ],
      "metadata": {
        "id": "AJ9YIGv_SMR_"
      },
      "execution_count": null,
      "outputs": []
    },
    {
      "cell_type": "markdown",
      "source": [
        "capitalize()"
      ],
      "metadata": {
        "id": "7F7rUYCVSPZc"
      }
    },
    {
      "cell_type": "markdown",
      "source": [
        "첫 글자만 대문자로, 나머지는 소문자로 변환합니다.\n"
      ],
      "metadata": {
        "id": "69POpjGvSQZo"
      }
    },
    {
      "cell_type": "code",
      "source": [
        "text = 'hello, world!'\n",
        "text"
      ],
      "metadata": {
        "id": "UT3_ayE_SRU7"
      },
      "execution_count": null,
      "outputs": []
    },
    {
      "cell_type": "code",
      "source": [
        "text.capitalize()"
      ],
      "metadata": {
        "id": "WZZRjEsaSSS-"
      },
      "execution_count": null,
      "outputs": []
    },
    {
      "cell_type": "markdown",
      "source": [
        "title()"
      ],
      "metadata": {
        "id": "TuWp6fYVSTJK"
      }
    },
    {
      "cell_type": "markdown",
      "source": [
        "각 단어의 첫 글자를 대문자로 변환합니다.\n"
      ],
      "metadata": {
        "id": "QPR2IXMGST3U"
      }
    },
    {
      "cell_type": "code",
      "source": [
        "text.title()"
      ],
      "metadata": {
        "id": "uzcjUa-xSUyU"
      },
      "execution_count": null,
      "outputs": []
    },
    {
      "cell_type": "markdown",
      "source": [
        "strip() , lstrip() , rstrip()"
      ],
      "metadata": {
        "id": "B7dLKa_4SVpA"
      }
    },
    {
      "cell_type": "markdown",
      "source": [
        "문자열의 양쪽, 왼쪽, 오른쪽의 공백을 제거합니다."
      ],
      "metadata": {
        "id": "nF2qm13lSWes"
      }
    },
    {
      "cell_type": "code",
      "source": [
        "text = ' Hello, World! '\n",
        "text"
      ],
      "metadata": {
        "id": "bWedTfLpSXZw"
      },
      "execution_count": null,
      "outputs": []
    },
    {
      "cell_type": "code",
      "source": [
        "\n",
        "text.strip()"
      ],
      "metadata": {
        "id": "__3SplDySYPO"
      },
      "execution_count": null,
      "outputs": []
    },
    {
      "cell_type": "code",
      "source": [
        "text.lstrip()"
      ],
      "metadata": {
        "id": "eXWYNGEySZEG"
      },
      "execution_count": null,
      "outputs": []
    },
    {
      "cell_type": "code",
      "source": [
        "text.rstrip()"
      ],
      "metadata": {
        "id": "qTkcfXyOSZ29"
      },
      "execution_count": null,
      "outputs": []
    },
    {
      "cell_type": "code",
      "source": [
        "text"
      ],
      "metadata": {
        "id": "2Jr2PN8WSass"
      },
      "execution_count": null,
      "outputs": []
    },
    {
      "cell_type": "code",
      "source": [
        "text = text.strip()\n",
        "text"
      ],
      "metadata": {
        "id": "J9GGTuyySbbH"
      },
      "execution_count": null,
      "outputs": []
    },
    {
      "cell_type": "markdown",
      "source": [
        "find()"
      ],
      "metadata": {
        "id": "PxJYNIiuSct2"
      }
    },
    {
      "cell_type": "markdown",
      "source": [
        "지정된 부분 문자열의 시작 인덱스를 반환합니다.\n"
      ],
      "metadata": {
        "id": "yECzOgQhSd9Y"
      }
    },
    {
      "cell_type": "markdown",
      "source": [
        "없으면 -1 을 반환합니다."
      ],
      "metadata": {
        "id": "lhNnigrrSexk"
      }
    },
    {
      "cell_type": "code",
      "source": [
        "text = 'Hello, World!'\n",
        "text"
      ],
      "metadata": {
        "id": "q1IMRuAySf01"
      },
      "execution_count": null,
      "outputs": []
    },
    {
      "cell_type": "code",
      "source": [
        "text.find('World')"
      ],
      "metadata": {
        "id": "AAvESc1ISgl1"
      },
      "execution_count": null,
      "outputs": []
    },
    {
      "cell_type": "code",
      "source": [
        "text.find('Python')"
      ],
      "metadata": {
        "id": "xAw1gLahShU9"
      },
      "execution_count": null,
      "outputs": []
    },
    {
      "cell_type": "markdown",
      "source": [
        "replace()"
      ],
      "metadata": {
        "id": "RjRbfSHFSiWU"
      }
    },
    {
      "cell_type": "markdown",
      "source": [
        "지정된 부분 문자열을 다른 문자열로 교체합니다.\n"
      ],
      "metadata": {
        "id": "Tn76LvjeSl1v"
      }
    },
    {
      "cell_type": "code",
      "source": [
        "text.replace('World', 'Python')"
      ],
      "metadata": {
        "id": "QOuJpg_3Sm09"
      },
      "execution_count": null,
      "outputs": []
    },
    {
      "cell_type": "code",
      "source": [
        "text"
      ],
      "metadata": {
        "id": "l73N4rrBSnfs"
      },
      "execution_count": null,
      "outputs": []
    },
    {
      "cell_type": "code",
      "source": [
        "text = text.replace('World', 'Python')\n",
        "text"
      ],
      "metadata": {
        "id": "3oVGQ9QvSobr"
      },
      "execution_count": null,
      "outputs": []
    },
    {
      "cell_type": "markdown",
      "source": [
        "split()"
      ],
      "metadata": {
        "id": "taRIuNxbSpFn"
      }
    },
    {
      "cell_type": "markdown",
      "source": [
        "지정된 구분자를 기준으로 문자열을 분할하여 리스트로 반환합니다.\n"
      ],
      "metadata": {
        "id": "3Ezsz0nDSqCj"
      }
    },
    {
      "cell_type": "code",
      "source": [
        "text = 'Hello, World!'\n",
        "text"
      ],
      "metadata": {
        "id": "xmRHpB8sSrDp"
      },
      "execution_count": null,
      "outputs": []
    },
    {
      "cell_type": "code",
      "source": [
        "text.split(',')"
      ],
      "metadata": {
        "id": "D4KeGUYkStZB"
      },
      "execution_count": null,
      "outputs": []
    },
    {
      "cell_type": "code",
      "source": [
        "text.split(', ')"
      ],
      "metadata": {
        "id": "jRQREkTcSuPP"
      },
      "execution_count": null,
      "outputs": []
    },
    {
      "cell_type": "markdown",
      "source": [
        "join()"
      ],
      "metadata": {
        "id": "-Hc8J_qOSvMe"
      }
    },
    {
      "cell_type": "markdown",
      "source": [
        "문자열 리스트를 하나의 문자열로 결합할 때 사용합니다.\n"
      ],
      "metadata": {
        "id": "BncaRV3oSwdq"
      }
    },
    {
      "cell_type": "markdown",
      "source": [
        "split() 이 문자열을 리스트로 분할한다면, join() 은 리스트를 문자열로 결합합\n",
        "니다."
      ],
      "metadata": {
        "id": "YLkatuZgSxJw"
      }
    },
    {
      "cell_type": "code",
      "source": [
        "text = ['Hello', 'World', 'Python']"
      ],
      "metadata": {
        "id": "gVfJlHZnSyPG"
      },
      "execution_count": null,
      "outputs": []
    },
    {
      "cell_type": "code",
      "source": [
        "text[0] + text[1] + text[2]"
      ],
      "metadata": {
        "id": "y7IWu4g3SzMb"
      },
      "execution_count": null,
      "outputs": []
    },
    {
      "cell_type": "code",
      "source": [
        "text[0] + ' ' + text[1] + ' ' + text[2]"
      ],
      "metadata": {
        "id": "jQczS_39S0qv"
      },
      "execution_count": null,
      "outputs": []
    },
    {
      "cell_type": "code",
      "source": [
        "''.join(text)"
      ],
      "metadata": {
        "id": "JwTmA-3oS1lB"
      },
      "execution_count": null,
      "outputs": []
    },
    {
      "cell_type": "code",
      "source": [
        "' '.join(text)"
      ],
      "metadata": {
        "id": "JTlgg2KwS25o"
      },
      "execution_count": null,
      "outputs": []
    },
    {
      "cell_type": "code",
      "source": [
        "', '.join(text)"
      ],
      "metadata": {
        "id": "0bMeEj_rS3mf"
      },
      "execution_count": null,
      "outputs": []
    },
    {
      "cell_type": "code",
      "source": [
        "text"
      ],
      "metadata": {
        "id": "klQZbWrRS4V8"
      },
      "execution_count": null,
      "outputs": []
    },
    {
      "cell_type": "code",
      "source": [
        "text = ', '.join(text)\n",
        "text"
      ],
      "metadata": {
        "id": "c17nZU4MS5M-"
      },
      "execution_count": null,
      "outputs": []
    },
    {
      "cell_type": "markdown",
      "source": [
        "문자열 검사 메소드"
      ],
      "metadata": {
        "id": "JyqpTL57S-Sm"
      }
    },
    {
      "cell_type": "markdown",
      "source": [
        "문자열 검사 메소드는 문자열의 특정 속성을 확인하는 데 사용됩니다.v"
      ],
      "metadata": {
        "id": "KKsD1qNRTAQL"
      }
    },
    {
      "cell_type": "markdown",
      "source": [
        "이들은 주로 True 또는 False 를 반환합니다"
      ],
      "metadata": {
        "id": "NkPxCsAMTBXA"
      }
    },
    {
      "cell_type": "markdown",
      "source": [
        "isalnum()"
      ],
      "metadata": {
        "id": "2HHqImpJTCL5"
      }
    },
    {
      "cell_type": "markdown",
      "source": [
        "문자열이 알파벳과 숫자로만 구성되어 있는지 검사합니다.\n"
      ],
      "metadata": {
        "id": "7czIRTcETDIh"
      }
    },
    {
      "cell_type": "code",
      "source": [
        "text = 'HelloWorld'\n",
        "text.isalnum()"
      ],
      "metadata": {
        "id": "bds-GTQ3TDuR"
      },
      "execution_count": null,
      "outputs": []
    },
    {
      "cell_type": "code",
      "source": [
        "text = 'Hello123'\n",
        "text.isalnum()"
      ],
      "metadata": {
        "id": "4XQlf_RmTEej"
      },
      "execution_count": null,
      "outputs": []
    },
    {
      "cell_type": "code",
      "source": [
        "text = 'Hello, World!'\n",
        "text.isalnum()"
      ],
      "metadata": {
        "id": "UUW6zWRkTFaG"
      },
      "execution_count": null,
      "outputs": []
    },
    {
      "cell_type": "markdown",
      "source": [
        "isalpha()"
      ],
      "metadata": {
        "id": "x3KU40LjTGG3"
      }
    },
    {
      "cell_type": "markdown",
      "source": [
        "문자열이 알파벳으로만 구성되어 있는지 검사합니다"
      ],
      "metadata": {
        "id": "LmKw3RgXTG02"
      }
    },
    {
      "cell_type": "code",
      "source": [
        "text = 'HelloWorld'\n",
        "text.isalpha()"
      ],
      "metadata": {
        "id": "m8AVqmoeTHdj"
      },
      "execution_count": null,
      "outputs": []
    },
    {
      "cell_type": "code",
      "source": [
        "text = 'Hello123'\n",
        "text.isalpha()"
      ],
      "metadata": {
        "id": "KOtOJoCoTIWT"
      },
      "execution_count": null,
      "outputs": []
    },
    {
      "cell_type": "markdown",
      "source": [
        "isdigit()"
      ],
      "metadata": {
        "id": "YBw13ZtgTJZC"
      }
    },
    {
      "cell_type": "markdown",
      "source": [
        "문자열이 숫자로만 구성되어 있는지 검사합니다"
      ],
      "metadata": {
        "id": "gpU7tgTrTKdF"
      }
    },
    {
      "cell_type": "code",
      "source": [
        "text = '123'\n",
        "text.isdigit()"
      ],
      "metadata": {
        "id": "lKDGS8n7TLI2"
      },
      "execution_count": null,
      "outputs": []
    },
    {
      "cell_type": "code",
      "source": [
        "text = 'Hello123'\n",
        "text.isdigit()"
      ],
      "metadata": {
        "id": "cnltawfRTMB8"
      },
      "execution_count": null,
      "outputs": []
    },
    {
      "cell_type": "markdown",
      "source": [
        "islower()"
      ],
      "metadata": {
        "id": "FCkI0EeMTM92"
      }
    },
    {
      "cell_type": "markdown",
      "source": [
        "문자열이 모두 소문자인지 검사합니다"
      ],
      "metadata": {
        "id": "PvciYwzxTNnw"
      }
    },
    {
      "cell_type": "code",
      "source": [
        "text = 'hello'\n",
        "text.islower()"
      ],
      "metadata": {
        "id": "cN-rZV85TOcT"
      },
      "execution_count": null,
      "outputs": []
    },
    {
      "cell_type": "code",
      "source": [
        "text = 'Hello'\n",
        "text.islower()"
      ],
      "metadata": {
        "id": "huZFc6VETPev"
      },
      "execution_count": null,
      "outputs": []
    },
    {
      "cell_type": "markdown",
      "source": [
        "isupper()"
      ],
      "metadata": {
        "id": "w2PlBBsJTQQW"
      }
    },
    {
      "cell_type": "markdown",
      "source": [
        "문자열이 모두 대문자인지 검사합니다."
      ],
      "metadata": {
        "id": "D_-u4jDwTRDy"
      }
    },
    {
      "cell_type": "code",
      "source": [
        "text = 'HELLO'\n",
        "text.isupper()"
      ],
      "metadata": {
        "id": "2eykWDCyTSSK"
      },
      "execution_count": null,
      "outputs": []
    },
    {
      "cell_type": "code",
      "source": [
        "text = 'Hello'\n",
        "text.isupper()"
      ],
      "metadata": {
        "id": "x4ErwRzSTTo6"
      },
      "execution_count": null,
      "outputs": []
    },
    {
      "cell_type": "markdown",
      "source": [
        "데이터 분석과 인공지능에서의 활용"
      ],
      "metadata": {
        "id": "EhWnDDSvTUjC"
      }
    },
    {
      "cell_type": "markdown",
      "source": [
        "문자열 메소드는 데이터 분석과 인공지능 분야에서 텍스트 데이터 전처리에 광범위하게\n",
        "사용됩니다"
      ],
      "metadata": {
        "id": "-shBWLOdTVKt"
      }
    },
    {
      "cell_type": "markdown",
      "source": [
        "예) 간단한 감성 분석"
      ],
      "metadata": {
        "id": "ps4wxjgZTV3r"
      }
    },
    {
      "cell_type": "markdown",
      "source": [
        "감성 분석이란 텍스트에 표현된 감정이나 의견을 분석하는 것을 말합니다"
      ],
      "metadata": {
        "id": "r1FGN0iFTWqm"
      }
    },
    {
      "cell_type": "code",
      "source": [
        "def simple_sentiment_analysis(text):\n",
        "# 텍스트를 소문자로 변환\n",
        "text = text.lower()\n",
        "# 구두점 제거\n",
        "text = text.replace('.', '')\n",
        "text = text.replace(',', '')\n",
        "text = text.replace('!', '')\n",
        "text = text.replace('?', '')\n",
        "# 단어로 분리\n",
        "words = text.split()\n",
        "# 간단한 긍정/부정 단어 사전\n",
        "positive_words = ['good', 'great', 'excellent', 'happy', 'love']\n",
        "negative_words = ['bad', 'terrible', 'awful', 'sad', 'hate']\n",
        "# 긍정/부정 점수 계산\n",
        "positive_score = sum([1 for word in words if word in positive_words])\n",
        "negative_score = sum([1 for word in words if word in negative_words])\n",
        "# 감성 판단\n",
        "if positive_score > negative_score:\n",
        "  return '긍정적'\n",
        "elif positive_score < negative_score:\n",
        "  return '부정적'\n",
        "else:\n",
        "  return '중립적'"
      ],
      "metadata": {
        "id": "vVKkCwSBTXe5"
      },
      "execution_count": null,
      "outputs": []
    },
    {
      "cell_type": "code",
      "source": [
        "review = \"I love this product! It's really great and makes me happy.\"\n",
        "simple_sentiment_analysis(review)"
      ],
      "metadata": {
        "id": "l9DrzKR-TZ4B"
      },
      "execution_count": null,
      "outputs": []
    },
    {
      "cell_type": "code",
      "source": [
        "review = \"This is terrible. I hate it and feel sad about my purchase.\"\n",
        "simple_sentiment_analysis(review)"
      ],
      "metadata": {
        "id": "IWU0Mx-MTbXB"
      },
      "execution_count": null,
      "outputs": []
    },
    {
      "cell_type": "markdown",
      "source": [
        "예) 토큰화된 텍스트를 문장으로 재구성"
      ],
      "metadata": {
        "id": "yYi_rraITcD9"
      }
    },
    {
      "cell_type": "markdown",
      "source": [
        "join() 메소드는 효율적인 문자열 연결 방법을 제공하며, 특히 많은 문자열을 연\n",
        "결할 때 + 연산자를 사용하는 것보다 성능이 좋습니다"
      ],
      "metadata": {
        "id": "TdIKgNu4Tc-c"
      }
    },
    {
      "cell_type": "code",
      "source": [
        "tokens = ['The', 'quick', 'brown', 'fox', 'jumps', 'over', 'the', 'lazy', 'dog']\n",
        "sentence = ' '.join(tokens)\n",
        "sentence"
      ],
      "metadata": {
        "id": "fKyFTfQLTd2p"
      },
      "execution_count": null,
      "outputs": []
    }
  ]
}