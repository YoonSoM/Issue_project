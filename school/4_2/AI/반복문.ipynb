{
  "nbformat": 4,
  "nbformat_minor": 0,
  "metadata": {
    "colab": {
      "provenance": []
    },
    "kernelspec": {
      "name": "python3",
      "display_name": "Python 3"
    },
    "language_info": {
      "name": "python"
    }
  },
  "cells": [
    {
      "cell_type": "markdown",
      "source": [],
      "metadata": {
        "id": "TA4uYC917v_Q"
      }
    },
    {
      "cell_type": "markdown",
      "source": [
        "이번 유닛에서는 파이썬의 기본적인 반복 구조 중 하나인 while 반복문에 대해 학습합\n",
        "니다.\n",
        "while 문은 주어진 조건이 참인 동안 코드 블록을 반복적으로 실행합니다."
      ],
      "metadata": {
        "id": "vGyg7qHy7xij"
      }
    },
    {
      "cell_type": "markdown",
      "source": [
        "while 문의 기본 구조"
      ],
      "metadata": {
        "id": "nfGV0kTM7yc4"
      }
    },
    {
      "cell_type": "markdown",
      "source": [
        "while 문의 기본 구조는 다음과 같습니다:\n",
        "조건이 참( True )인 동안 들여쓰기된 코드 블록이 반복적으로 실행됩니다."
      ],
      "metadata": {
        "id": "5g698UmD71B_"
      }
    },
    {
      "cell_type": "markdown",
      "source": [
        "while 조건:"
      ],
      "metadata": {
        "id": "12Y_354P72Y6"
      }
    },
    {
      "cell_type": "markdown",
      "source": [
        "반복할 코드"
      ],
      "metadata": {
        "id": "eAPZQTWR73On"
      }
    },
    {
      "cell_type": "code",
      "execution_count": null,
      "metadata": {
        "id": "RhFz0gXX5NEB"
      },
      "outputs": [],
      "source": [
        "count = 0\n",
        "while count < 5:\n",
        "   print(count)\n",
        "   count += 1 # count = count + 1\n",
        "print('반복 종료')"
      ]
    },
    {
      "cell_type": "markdown",
      "source": [
        "password = ''\n",
        "while password != '1234':\n",
        "password = input('비밀번호를 입력하세요: ')\n",
        "print(\"로그인 성공!\")\n"
      ],
      "metadata": {
        "id": "d_WCq6Dh76SF"
      }
    },
    {
      "cell_type": "markdown",
      "source": [
        "무한 루프와 break 문\n"
      ],
      "metadata": {
        "id": "I-lbz6ha78j0"
      }
    },
    {
      "cell_type": "markdown",
      "source": [
        "while True 를 사용하면 무한 루프를 만들 수 있습니다.\n",
        "이때 break 문을 사용하여 루프를 종료할 수 있습니다."
      ],
      "metadata": {
        "id": "G0T7z5TU794v"
      }
    },
    {
      "cell_type": "code",
      "source": [
        "while True:\n",
        "   response = input('계속하시겠습니까? (y/n): ')\n",
        "   if response == 'n':\n",
        "      break\n",
        "print('프로그램 종료')"
      ],
      "metadata": {
        "id": "hNtnSJwK7_V0"
      },
      "execution_count": null,
      "outputs": []
    },
    {
      "cell_type": "markdown",
      "source": [
        "continue 문"
      ],
      "metadata": {
        "id": "Pdkg5xr68Adg"
      }
    },
    {
      "cell_type": "markdown",
      "source": [
        "continue 문을 사용하면 현재 반복을 건너뛰고 다음 반복으로 넘어갈 수 있습니다."
      ],
      "metadata": {
        "id": "dEbpTeze8Bqv"
      }
    },
    {
      "cell_type": "code",
      "source": [
        "i = 0\n",
        "while i < 10:\n",
        "   i += 1\n",
        "   print(i)"
      ],
      "metadata": {
        "id": "ZrJp6o4T8C52"
      },
      "execution_count": null,
      "outputs": []
    },
    {
      "cell_type": "code",
      "source": [
        "i = 0\n",
        "while i < 10:\n",
        "   i += 1\n",
        "   if i % 2 == 0:\n",
        "      continue\n",
        "   print(i)"
      ],
      "metadata": {
        "id": "bX-YXkIl8EMk"
      },
      "execution_count": null,
      "outputs": []
    },
    {
      "cell_type": "markdown",
      "source": [
        "while 문과 else 절"
      ],
      "metadata": {
        "id": "YmROifkf8FSX"
      }
    },
    {
      "cell_type": "markdown",
      "source": [
        "while 문이 정상적으로 종료되면( break 로 종료되지 않으면) else 절이 실행됩니다."
      ],
      "metadata": {
        "id": "IF08YTZW8GST"
      }
    },
    {
      "cell_type": "code",
      "source": [
        "count = 0\n",
        "while count < 3:\n",
        "   print(count)\n",
        "   count += 1\n",
        "else:\n",
        "   print('반복이 정상적으로 종료되었습니다.')"
      ],
      "metadata": {
        "id": "FXj-3d2W8Jlv"
      },
      "execution_count": null,
      "outputs": []
    },
    {
      "cell_type": "code",
      "source": [
        "num = 17\n",
        "i = 2\n",
        "while i < num:\n",
        "   if num % i == 0:\n",
        "      print(num, '은(는) 소수가 아닙니다.')\n",
        "      break\n",
        "   i += 1\n",
        "else:\n",
        "   print(num, '은(는) 소수입니다.')"
      ],
      "metadata": {
        "id": "ary9CHGC8MFt"
      },
      "execution_count": null,
      "outputs": []
    },
    {
      "cell_type": "markdown",
      "source": [
        "중첩 while 문"
      ],
      "metadata": {
        "id": "chfZ1lgh8Nf3"
      }
    },
    {
      "cell_type": "markdown",
      "source": [
        "while 문 안에 또 다른 while 문을 넣을 수 있습니다."
      ],
      "metadata": {
        "id": "2ArV4kwk8OxW"
      }
    },
    {
      "cell_type": "code",
      "source": [
        "i = 2\n",
        "while i <= 9:\n",
        "   j = 1\n",
        "   while j <= 9:\n",
        "      print(i, 'x', j, '=', i * j)\n",
        "      j += 1\n",
        "   i += 1\n",
        "   print()"
      ],
      "metadata": {
        "id": "FKzM2R5g8SOy"
      },
      "execution_count": null,
      "outputs": []
    },
    {
      "cell_type": "markdown",
      "source": [
        "데이터 분석과 인공지능에서의 활용"
      ],
      "metadata": {
        "id": "jK99s_QA8ZPf"
      }
    },
    {
      "cell_type": "markdown",
      "source": [
        "while 문은 데이터 분석과 인공지능 분야에서 다양하게 활용됩니다.\n"
      ],
      "metadata": {
        "id": "DIkx-uGM8aaf"
      }
    },
    {
      "cell_type": "markdown",
      "source": [
        "예) 간단한 데이터 정제"
      ],
      "metadata": {
        "id": "psLFkPrz8cOx"
      }
    },
    {
      "cell_type": "markdown",
      "source": [
        "이 예제는 음수를 제거하여 데이터를 정제하는 과정을 보여줍니다.\n",
        "실제 데이터 분석에서는 이러한 과정을 통해 불필요하거나 잘못된 데이터를 제거합\n",
        "니다"
      ],
      "metadata": {
        "id": "r1ICOWMR8een"
      }
    },
    {
      "cell_type": "code",
      "source": [
        "data = [1, 2, -3, 4, -5, 6, 7, -8, 9, 10]\n",
        "cleaned_data = []\n",
        "i = 0\n",
        "while i < len(data):\n",
        "   if data[i] > 0:\n",
        "      cleaned_data.append(data[i])\n",
        "   i += 1\n",
        "cleaned_data"
      ],
      "metadata": {
        "id": "I--MFeVe8fZD"
      },
      "execution_count": null,
      "outputs": []
    },
    {
      "cell_type": "markdown",
      "source": [
        "예) 이동 평균 계산\n",
        "이 예제는 주어진 데이터에 대해 이동 평균을 계산합니다.\n",
        "이동 평균은 시계열 데이터를 분석할 때 자주 사용되는 기법으로, 데이터의 전반적\n",
        "인 추세를 파악하는 데 도움이 됩니다."
      ],
      "metadata": {
        "id": "GWCw4-E38gvd"
      }
    },
    {
      "cell_type": "code",
      "source": [
        "data = [1, 3, 5, 7, 9, 11, 13, 15, 17, 19]\n",
        "window_size = 3\n",
        "i = 0\n",
        "moving_averages = []\n",
        "while i < len(data) - window_size + 1:\n",
        "   window = data[i:i + window_size]\n",
        "   window_average = sum(window) / window_size\n",
        "   moving_averages.append(window_average)\n",
        "   i += 1\n",
        "moving_averages"
      ],
      "metadata": {
        "id": "rOTRfP-x8kil"
      },
      "execution_count": null,
      "outputs": []
    }
  ]
}