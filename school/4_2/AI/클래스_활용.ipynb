{
  "nbformat": 4,
  "nbformat_minor": 0,
  "metadata": {
    "colab": {
      "provenance": []
    },
    "kernelspec": {
      "name": "python3",
      "display_name": "Python 3"
    },
    "language_info": {
      "name": "python"
    }
  },
  "cells": [
    {
      "cell_type": "markdown",
      "source": [
        "이번 유닛에서는 지금까지 배운 클래스 개념을 실제 문제에 적용하는 방법을 학습합니\n",
        "다.\n",
        "실생활 문제를 클래스로 모델링하고, 여러 객체 간의 상호작용을 구현해봅니다.\n",
        "또한 간단한 상속 개념도 소개합니"
      ],
      "metadata": {
        "id": "Mix0lHnZNJ4a"
      }
    },
    {
      "cell_type": "markdown",
      "source": [
        "실생활 문제를 클래스로 모델링하기\n",
        "도서관 관리 시스템을 예로 들어 클래스를 설계해 보겠습니다.\n"
      ],
      "metadata": {
        "id": "WrcGQN4BNLqT"
      }
    },
    {
      "cell_type": "code",
      "execution_count": null,
      "metadata": {
        "id": "RyWfzV8kNFeJ"
      },
      "outputs": [],
      "source": [
        "class Book:\n",
        "  def __init__(self, title, author, isbn):\n",
        "      self.title = title\n",
        "      self.author = author\n",
        "      self.isbn = isbn\n",
        "      self.is_borrowed = False\n",
        "  def borrow(self):\n",
        "      if not self.is_borrowed:\n",
        "        self.is_borrowed = True\n",
        "        return True\n",
        "      return False\n",
        "  def return_book(self):\n",
        "      self.is_borrowed = False\n",
        "  def __str__(self):\n",
        "      return f\"'{self.title}' by {self.author}\"\n",
        "class Library:\n",
        "    def __init__(self):\n",
        "        self.books = []\n",
        "    def add_book(self, book):\n",
        "        self.books.append(book)\n",
        "    def find_book(self, title):\n",
        "        for book in self.books:\n",
        "          if book.title.lower() == title.lower():\n",
        "            return book\n",
        "        return None\n",
        "    def borrow_book(self, title):\n",
        "        book = self.find_book(title)\n",
        "        if book:\n",
        "            if book.borrow():\n",
        "                print(f'\"{book.title}\" has been borrowed.')\n",
        "            else:\n",
        "                print(f'Sorry, \"{book.title}\" is already borrowed.')\n",
        "        else:\n",
        "            print(f'Sorry, we don\\'t have a book titled \"{title}\".')"
      ]
    },
    {
      "cell_type": "code",
      "source": [
        "# 사용 예\n",
        "library = Library()\n",
        "library.add_book(Book('Python Basics', 'John Smith', '1234567890'))\n",
        "library.add_book(Book('Data Science Handbook', 'Jane Doe', '0987654321'))"
      ],
      "metadata": {
        "id": "-OESWMtaN5gZ"
      },
      "execution_count": null,
      "outputs": []
    },
    {
      "cell_type": "code",
      "source": [
        "library.borrow_book('Python Basics')\n",
        "library.borrow_book('Python Basics') # 이미 대출된 책\n",
        "library.borrow_book('Java Programming') # 없는 책"
      ],
      "metadata": {
        "id": "cjgjcnEKN7_I"
      },
      "execution_count": null,
      "outputs": []
    },
    {
      "cell_type": "markdown",
      "source": [
        "이 예제에서는 Book 과 Library 두 개의 클래스를 정의했습니다.\n",
        "Book 클래스는 개별 책을, Library 클래스는 도서관 전체를 나타냅니다.\n",
        "이렇게 실제 개념을 클래스로 모델링하면 복잡한 시스템을 체계적으로 구현할 수 있습니\n",
        "다."
      ],
      "metadata": {
        "id": "VGd_e-akOY-f"
      }
    },
    {
      "cell_type": "markdown",
      "source": [
        "상속의 개념\n",
        "상속은 기존 클래스의 속성과 메소드를 새로운 클래스가 물려받는 개념입니다.\n",
        "예를 들어, 전자책(E-book)을 나타내는 클래스를 만들어 보겠습니다."
      ],
      "metadata": {
        "id": "Tc-S0a5ZOZxV"
      }
    },
    {
      "cell_type": "code",
      "source": [
        "class Ebook(Book):\n",
        "    def __init__(self, title, author, isbn, file_size):\n",
        "        super().__init__(title, author, isbn)\n",
        "        self.file_size = file_size\n",
        "    def download(self):\n",
        "        print(f'Downloading \"{self.title}\" ({self.file_size} MB)...')"
      ],
      "metadata": {
        "id": "G8kqt4jCObv1"
      },
      "execution_count": null,
      "outputs": []
    },
    {
      "cell_type": "code",
      "source": [
        "# 사용 예\n",
        "ebook = Ebook('Python Advanced', 'Alice Johnson', '1122334455', 5.2)\n",
        "print(ebook) # Book 클래스의 __str__ 메소드 사용\n",
        "ebook.download() # Ebook 클래스의 새로운 메소드"
      ],
      "metadata": {
        "id": "ShD4PQ0GOnsB"
      },
      "execution_count": null,
      "outputs": []
    },
    {
      "cell_type": "markdown",
      "source": [
        "여기서 Ebook 클래스는 Book 클래스를 상속받아 만들어졌습니다.\n",
        "따라서 Book 의 모든 속성과 메소드를 가지면서, 추가로 file_size 속성과\n",
        "download 메소드를 갖게 됩니다."
      ],
      "metadata": {
        "id": "ZUPlP7VoOptk"
      }
    },
    {
      "cell_type": "markdown",
      "source": [
        "데이터 분석 관련 예제\n",
        "간단한 데이터 분석 클래스 계층을 만들어 보겠습니다."
      ],
      "metadata": {
        "id": "s7OEfBIoOqpl"
      }
    },
    {
      "cell_type": "code",
      "source": [
        "class DataSet:\n",
        "    def __init__(self, data):\n",
        "        self.data = data\n",
        "    def get_mean(self):\n",
        "        return sum(self.data) / len(self.data)\n",
        "    def get_std(self):\n",
        "        mean = self.get_mean()\n",
        "        deviation_list = [ (mean - x ) ** 2 for x in self.data ]\n",
        "        var = sum(deviation_list) / len(self.data)\n",
        "        return var ** 0.5\n",
        "class StandardScaler(DataSet):\n",
        "    def __init__(self, data):\n",
        "          super().__init__(data)\n",
        "    def transform(self):\n",
        "        mean = self.get_mean()\n",
        "        std = self.get_std()\n",
        "        return [(x - mean) / std for x in self.data ]"
      ],
      "metadata": {
        "id": "lurSHFyxOsKg"
      },
      "execution_count": null,
      "outputs": []
    },
    {
      "cell_type": "code",
      "source": [
        "# 사용 예\n",
        "simple_data = DataSet([1, 2, 3, 4, 5])\n",
        "f'Mean: {simple_data.get_mean()}' , f'Std: {simple_data.get_std()}'"
      ],
      "metadata": {
        "id": "Z_AZF-VjO2ak"
      },
      "execution_count": null,
      "outputs": []
    },
    {
      "cell_type": "code",
      "source": [
        "scaler = StandardScaler([10, 20, 30, 40, 50])\n",
        "f'Mean: {scaler.get_mean()}' , f'Std: {scaler.get_std()}'"
      ],
      "metadata": {
        "id": "7YG6miSPO3W1"
      },
      "execution_count": null,
      "outputs": []
    },
    {
      "cell_type": "code",
      "source": [
        "scaler.transform()"
      ],
      "metadata": {
        "id": "1yhA06ZAO4fy"
      },
      "execution_count": null,
      "outputs": []
    },
    {
      "cell_type": "markdown",
      "source": [
        "이 예제에서 StandardScaler 클래스는 DataSet 클래스를 상속받아 Scaling 하는 기\n",
        "능을 추가 구현합니다.\n",
        "이렇게 상속을 사용하면 코드의 재사용성을 높이고 구조를 체계화할 수 있습니다.\n"
      ],
      "metadata": {
        "id": "mP3D1uTlO6vl"
      }
    },
    {
      "cell_type": "markdown",
      "source": [
        "데이터 분석과 인공지능에서의 활용"
      ],
      "metadata": {
        "id": "b3SYn5ZdO7x7"
      }
    },
    {
      "cell_type": "markdown",
      "source": [
        "클래스와 상속 개념은 데이터 분석과 인공지능 분야에서 다음과 같이 활용될 수 있습니\n",
        "다:\n",
        "1. 데이터 구조화: 다양한 형태의 데이터를 일관된 방식으로 다룰 수 있습니다.\n",
        "2. 알고리즘 구현: 머신러닝 알고리즘을 클래스로 구현하여 재사용성을 높일 수 있습니\n",
        "다.\n",
        "3. 모델 확장: 기존 모델을 상속받아 새로운 기능을 추가하거나 변경할 수 있습니다."
      ],
      "metadata": {
        "id": "65X51XTRO8oH"
      }
    },
    {
      "cell_type": "markdown",
      "source": [
        "예) 데이터 전처리 클래스\n",
        "이 예제에서 DataPreprocessor 클래스는 데이터 전처리의 여러 단계를 메소드로\n",
        "구현하고 있습니다.\n",
        "이런 방식으로 클래스를 사용하면 복잡한 데이터 처리 과정을 체계적으로 관리\n",
        "할 수 있습니다.\n",
        "각각의 메소드( remove_missing_values , remove_duplicates , sort_data )는\n",
        "데이터를 정제하는 특정 작업을 수행합니다.\n",
        "clean 메소드는 이러한 개별 작업들을 순서대로 실행하여 전체 데이터 정제\n",
        "과정을 완성합니다.\n",
        "이런 방식으로 클래스를 사용하면 복잡한 데이터 처리 과정을 체계적으로 관리할 수\n",
        "있습니다.\n",
        "각 단계가 명확히 구분되어 있어 코드를 이해하기 쉽고, 필요에 따라 단계를 추\n",
        "가하거나 수정하기도 용이합니다.\n"
      ],
      "metadata": {
        "id": "UemKZ3WSO9yR"
      }
    },
    {
      "cell_type": "code",
      "source": [
        "class DataCleaner:\n",
        "    def __init__(self, data):\n",
        "        self.data = data\n",
        "    def remove_missing_values(self):\n",
        "        self.data = [x for x in self.data if x is not None]\n",
        "        print('결측값이 제거되었습니다.')\n",
        "    def remove_duplicates(self):\n",
        "        self.data = list(set(self.data))\n",
        "        print('중복값이 제거되었습니다.')\n",
        "    def sort_data(self):\n",
        "        self.data.sort()\n",
        "        print('데이터가 정렬되었습니다.')\n",
        "    def clean(self):\n",
        "        self.remove_missing_values()\n",
        "        self.remove_duplicates()\n",
        "        self.sort_data()\n",
        "        return self.data"
      ],
      "metadata": {
        "id": "25SkHKrLPAZk"
      },
      "execution_count": null,
      "outputs": []
    },
    {
      "cell_type": "code",
      "source": [
        "# 사용 예\n",
        "raw_data = [3, None, 2, 2, None, 1, 3, 5]\n",
        "cleaner = DataCleaner(raw_data)\n",
        "cleaned_data = cleaner.clean()\n",
        "f'정제된 데이터: {cleaned_data}'"
      ],
      "metadata": {
        "id": "XRHvhBapPNOm"
      },
      "execution_count": null,
      "outputs": []
    }
  ]
}