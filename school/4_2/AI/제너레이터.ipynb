{
  "nbformat": 4,
  "nbformat_minor": 0,
  "metadata": {
    "colab": {
      "provenance": []
    },
    "kernelspec": {
      "name": "python3",
      "display_name": "Python 3"
    },
    "language_info": {
      "name": "python"
    }
  },
  "cells": [
    {
      "cell_type": "markdown",
      "source": [],
      "metadata": {
        "id": "aIbZguPU3K-A"
      }
    },
    {
      "cell_type": "markdown",
      "source": [
        "제너레이터의 개념"
      ],
      "metadata": {
        "id": "M5tCtHwp3L65"
      }
    },
    {
      "cell_type": "markdown",
      "source": [
        "제너레이터는 이터레이터를 생성하는 함수입니다.\n",
        "일반 함수와는 달리 yield 키워드를 사용하여 값을 하나씩 반환합니다.\n",
        "yield 를 사용하면 함수의 상태를 '기억'하고 다음 호출 시 중단된 위치에서 다시\n",
        "시작할 수 있습니다.\n",
        "제너레이터는 모든 값을 한 번에 메모리에 저장하지 않고, 필요할 때마다 값을 생성합니\n",
        "다.\n"
      ],
      "metadata": {
        "id": "34Ge7COK3MwV"
      }
    },
    {
      "cell_type": "markdown",
      "source": [
        "예를 들어, 책을 읽을 때 우리는 모든 페이지를 한 번에 읽지 않고 한 페이지씩 읽습니다.\n",
        "제너레이터는 이와 비슷한 방식으로 작동합니다."
      ],
      "metadata": {
        "id": "NBc1tfHw3N3Y"
      }
    },
    {
      "cell_type": "markdown",
      "source": [
        "제너레이터 생성"
      ],
      "metadata": {
        "id": "FUeU0Co23Otl"
      }
    },
    {
      "cell_type": "markdown",
      "source": [
        "제너레이터 함수는 yield 키워드를 사용하여 정의합니다."
      ],
      "metadata": {
        "id": "1iL4LOfV3PZE"
      }
    },
    {
      "cell_type": "code",
      "source": [
        "def simple_generator():\n",
        "yield 1\n",
        "yield 2\n",
        "yield 3"
      ],
      "metadata": {
        "id": "BY6tcu6Q3QYM"
      },
      "execution_count": null,
      "outputs": []
    },
    {
      "cell_type": "code",
      "source": [
        "# 제너레이터 사용\n",
        "gen = simple_generator()\n",
        "next(gen) # 출력: 1"
      ],
      "metadata": {
        "id": "O_YIw3hT3SKr"
      },
      "execution_count": null,
      "outputs": []
    },
    {
      "cell_type": "code",
      "source": [
        "next(gen) # 출력: 2"
      ],
      "metadata": {
        "id": "hqqxkjz33Tuf"
      },
      "execution_count": null,
      "outputs": []
    },
    {
      "cell_type": "code",
      "execution_count": null,
      "metadata": {
        "id": "FkOoh1VF3I1X"
      },
      "outputs": [],
      "source": [
        "next(gen) # 출력: 3"
      ]
    },
    {
      "cell_type": "markdown",
      "source": [
        "이 예제에서 simple_generator 함수는 1, 2, 3을 순서대로 생성합니다.\n",
        "next() 함수를 호출할 때마다 다음 yield 문까지 실행되고 값을 반환합니다.\n"
      ],
      "metadata": {
        "id": "Iq0rehFB3a39"
      }
    },
    {
      "cell_type": "markdown",
      "source": [
        "제너레이터와 for 루프"
      ],
      "metadata": {
        "id": "1wQ4DsRa3cLT"
      }
    },
    {
      "cell_type": "markdown",
      "source": [
        "제너레이터는 for 루프와 함께 사용하기 편리합니다"
      ],
      "metadata": {
        "id": "0wl1BQpL3c6C"
      }
    },
    {
      "cell_type": "code",
      "source": [
        "def countdown(n):\n",
        "  for i in range(n,0,-1):\n",
        "    yield i"
      ],
      "metadata": {
        "id": "-vdzC9LG3d3O"
      },
      "execution_count": null,
      "outputs": []
    },
    {
      "cell_type": "code",
      "source": [
        "for num in countdown(5):\n",
        "    print(num)"
      ],
      "metadata": {
        "id": "JdfYEfmo3go8"
      },
      "execution_count": null,
      "outputs": []
    },
    {
      "cell_type": "markdown",
      "source": [
        "이 예제에서 countdown 제너레이터는 주어진 숫자부터 1까지 카운트다운합니다."
      ],
      "metadata": {
        "id": "knSP2ICu3iFh"
      }
    },
    {
      "cell_type": "markdown",
      "source": [
        "제너레이터의 장점"
      ],
      "metadata": {
        "id": "7a7PYonN3jBD"
      }
    },
    {
      "cell_type": "markdown",
      "source": [
        "메모리 효율성: 모든 값을 한 번에 생성하지 않아 메모리를 절약합니다.\n",
        "2. 지연 평가(Lazy Evaluation): 필요할 때만 값을 생성합니다.\n",
        "3. 무한 시퀀스 표현 가능: 이론적으로 무한한 데이터 스트림을 표현할 수 있습니다.\n"
      ],
      "metadata": {
        "id": "dATichu23kAT"
      }
    },
    {
      "cell_type": "code",
      "source": [
        "def even_numbers():\n",
        "  n = 0\n",
        "  while True:\n",
        "      yield n\n",
        "      n += 2"
      ],
      "metadata": {
        "id": "jj3a7nh33k3w"
      },
      "execution_count": null,
      "outputs": []
    },
    {
      "cell_type": "code",
      "source": [
        "evens = even_numbers()\n",
        "for _ in range(5):\n",
        "      print(next(evens))"
      ],
      "metadata": {
        "id": "_JVeCQJz3oKb"
      },
      "execution_count": null,
      "outputs": []
    },
    {
      "cell_type": "markdown",
      "source": [
        "이 제너레이터는 이론적으로 무한한 짝수를 생성할 수 있습니다.\n"
      ],
      "metadata": {
        "id": "NTkwYTuM3q2w"
      }
    },
    {
      "cell_type": "markdown",
      "source": [
        "제너레이터 표현식\n",
        "리스트 컴프리헨션과 유사하게, 제너레이터 표현식을 사용할 수 있습니다.\n",
        "예) 리스트 컴프리헨션"
      ],
      "metadata": {
        "id": "JYct47NZ3sUq"
      }
    },
    {
      "cell_type": "code",
      "source": [
        "squares_list = [x ** 2 for x in range(5)]\n",
        "squares_list"
      ],
      "metadata": {
        "id": "IzHmCkFa3tQX"
      },
      "execution_count": null,
      "outputs": []
    },
    {
      "cell_type": "markdown",
      "source": [
        "예) 제너레이터 표현식"
      ],
      "metadata": {
        "id": "t757x1nG3uRu"
      }
    },
    {
      "cell_type": "code",
      "source": [
        "squares_gen = (x ** 2 for x in range(5))\n",
        "squares_gen # 출력: <generator object <genexpr> at 0x...>"
      ],
      "metadata": {
        "id": "-6ARA2Ct3vTn"
      },
      "execution_count": null,
      "outputs": []
    },
    {
      "cell_type": "code",
      "source": [
        "for square in squares_gen:\n",
        "print(square) # 0, 1, 4, 9, 16 순서대로 출력"
      ],
      "metadata": {
        "id": "XK8Yn0IT3wNJ"
      },
      "execution_count": null,
      "outputs": []
    },
    {
      "cell_type": "markdown",
      "source": [
        "제너레이터 표현식은 소괄호 () 를 사용하며, 리스트 컴프리헨션과 달리 즉시 모든 값\n",
        "을 생성하지 않습니다."
      ],
      "metadata": {
        "id": "Vc-7Bp1K3xDG"
      }
    },
    {
      "cell_type": "markdown",
      "source": [
        "메모리 효율성 비교"
      ],
      "metadata": {
        "id": "f3N0ML443yVV"
      }
    },
    {
      "cell_type": "code",
      "source": [
        "gen = ( x for x in range(100000) )\n",
        "lst = list(range(100000))"
      ],
      "metadata": {
        "id": "zv7JNwiB3x8F"
      },
      "execution_count": null,
      "outputs": []
    },
    {
      "cell_type": "code",
      "source": [
        "import sys\n",
        "sys.getsizeof(gen) , sys.getsizeof(lst)\n"
      ],
      "metadata": {
        "id": "a1pabYAI31X0"
      },
      "execution_count": null,
      "outputs": []
    },
    {
      "cell_type": "markdown",
      "source": [
        "실제 활용 예제: 대용량 파일 처리\n",
        "제너레이터는 대용량 데이터를 처리할 때 특히 유용합니다"
      ],
      "metadata": {
        "id": "5bBd03L832RS"
      }
    },
    {
      "cell_type": "code",
      "source": [
        "def read_large_file(file_path):\n",
        "    with open(file_path, 'r') as file:\n",
        "        for line in file:\n",
        "          yield line.strip()\n",
        "def count_words(file_path):\n",
        "    total_words = 0\n",
        "      for line in read_large_file(file_path):\n",
        "        words = line.split()\n",
        "        total_words += len(words)\n",
        "      return total_words\n",
        "# 사용 예\n",
        "file_path = 'very_large_file.txt'\n",
        "word_count = count_words(file_path)\n",
        "print(f'총 단어 수: {word_count}')"
      ],
      "metadata": {
        "id": "xMJY1jX333mu"
      },
      "execution_count": null,
      "outputs": []
    },
    {
      "cell_type": "markdown",
      "source": [
        "이 예제에서 read_large_file 제너레이터는 대용량 파일을 한 번에 한 줄씩 읽습니\n",
        "다.\n",
        "이를 통해 파일 크기에 관계없이 효율적으로 단어 수를 계산할 수 있습니다.\n",
        "데이터 분석과 인공지능에서의 활용\n",
        "제너레이터는 데이터 분석 과정에서 대용량 데이터를 처리하거나 데이터 스트림을 다룰\n",
        "때 매우 유용합니다.\n",
        "예) 센서 데이터 시뮬레이션 및 분석\n",
        "이 예제는 센서에서 지속적으로 데이터를 받아 분석하는 상황을 시뮬레이션합니다.\n",
        "sensor_data 제너레이터는 무한히 데이터를 생성할 수 있지만,\n",
        "analyze_sensor_data 함수에서 필요한 만큼만 데이터를 사용합니다."
      ],
      "metadata": {
        "id": "tz7_Qk9Z4BIb"
      }
    },
    {
      "cell_type": "code",
      "source": [
        "import random\n",
        "import time"
      ],
      "metadata": {
        "id": "cTsJZUyb4COd"
      },
      "execution_count": null,
      "outputs": []
    },
    {
      "cell_type": "code",
      "source": [
        "def sensor_data():\n",
        "    while True:\n",
        "        yield {\n",
        "          'temperature': random.uniform(20.0, 30.0),\n",
        "            'humidity': random.uniform(40.0, 60.0),\n",
        "          'pressure': random.uniform(990.0, 1010.0)\n",
        "      }\n",
        "      time.sleep(1) # 1초마다 데이터 생성\n",
        "def analyze_sensor_data(data_stream, num_samples):\n",
        "    temp_sum = humid_sum = press_sum = 0\n",
        "    for _ in range(num_samples):\n",
        "          data = next(data_stream)\n",
        "          temp_sum += data['temperature']\n",
        "          humid_sum += data['humidity']\n",
        "          press_sum += data['pressure']\n",
        "          print(f\"현재 측정값: {data}\")\n",
        "    return {\n",
        "        'avg_temperature': temp_sum / num_samples,\n",
        "        'avg_humidity': humid_sum / num_samples,\n",
        "        'avg_pressure': press_sum / num_samples\n",
        "        }"
      ],
      "metadata": {
        "id": "lUEaXK-A4Dsy"
      },
      "execution_count": null,
      "outputs": []
    },
    {
      "cell_type": "code",
      "source": [
        "# 사용 예\n",
        "sensor_stream = sensor_data()\n",
        "results = analyze_sensor_data(sensor_stream, 5)\n",
        "for key, value in results.items():\n",
        "    print(f'{key}: {value:.2f}'"
      ],
      "metadata": {
        "id": "zYD-SpMl4RFX"
      },
      "execution_count": null,
      "outputs": []
    }
  ]
}