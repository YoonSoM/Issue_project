{
  "nbformat": 4,
  "nbformat_minor": 0,
  "metadata": {
    "colab": {
      "provenance": []
    },
    "kernelspec": {
      "name": "python3",
      "display_name": "Python 3"
    },
    "language_info": {
      "name": "python"
    }
  },
  "cells": [
    {
      "cell_type": "markdown",
      "source": [
        "정수 사용하기"
      ],
      "metadata": {
        "id": "HZ0rl4uOVk-b"
      }
    },
    {
      "cell_type": "code",
      "execution_count": 1,
      "metadata": {
        "colab": {
          "base_uri": "https://localhost:8080/"
        },
        "id": "eF2wUl7PVcuI",
        "outputId": "88bfe274-35b9-4ee1-ecba-c686af2261a9"
      },
      "outputs": [
        {
          "output_type": "execute_result",
          "data": {
            "text/plain": [
              "25"
            ]
          },
          "metadata": {},
          "execution_count": 1
        }
      ],
      "source": [
        "age = 25\n",
        "age"
      ]
    },
    {
      "cell_type": "code",
      "source": [
        "num_samples = 1000\n",
        "num_samples"
      ],
      "metadata": {
        "id": "78tuVVyrVnJa"
      },
      "execution_count": null,
      "outputs": []
    },
    {
      "cell_type": "code",
      "source": [
        "temperature = -5\n",
        "temperature"
      ],
      "metadata": {
        "id": "Nz6U0dm2Vor0"
      },
      "execution_count": null,
      "outputs": []
    },
    {
      "cell_type": "code",
      "source": [
        "result = 10 + 3\n",
        "result"
      ],
      "metadata": {
        "id": "hj8UNngvVqEE"
      },
      "execution_count": null,
      "outputs": []
    },
    {
      "cell_type": "code",
      "source": [
        "result = 10 - 3\n",
        "result"
      ],
      "metadata": {
        "id": "bB92bv9dVsee"
      },
      "execution_count": null,
      "outputs": []
    },
    {
      "cell_type": "code",
      "source": [
        "result = 10 * 3\n",
        "result"
      ],
      "metadata": {
        "id": "-ffroJatVuoo"
      },
      "execution_count": null,
      "outputs": []
    },
    {
      "cell_type": "code",
      "source": [
        "result = 10 // 3\n",
        "result"
      ],
      "metadata": {
        "id": "QTxWkq8PVvgm"
      },
      "execution_count": null,
      "outputs": []
    },
    {
      "cell_type": "code",
      "source": [
        "result = 10 % 3\n",
        "result"
      ],
      "metadata": {
        "id": "vsnxHmrlVwtF"
      },
      "execution_count": null,
      "outputs": []
    },
    {
      "cell_type": "code",
      "source": [
        "height = 175.5\n",
        "height"
      ],
      "metadata": {
        "id": "NMptdVZUVxz8"
      },
      "execution_count": null,
      "outputs": []
    },
    {
      "cell_type": "code",
      "source": [
        "pi = 3.14159\n",
        "pi"
      ],
      "metadata": {
        "id": "UCo9UqajVzP6"
      },
      "execution_count": null,
      "outputs": []
    },
    {
      "cell_type": "code",
      "source": [
        "radius = 10\n",
        "area = pi * (radius ** 2)\n",
        "area"
      ],
      "metadata": {
        "id": "MMsUXVpBV0O7"
      },
      "execution_count": null,
      "outputs": []
    },
    {
      "cell_type": "code",
      "source": [
        "distance = 240.0\n",
        "time = 2.5\n",
        "speed = distance / time\n",
        "speed"
      ],
      "metadata": {
        "id": "jF_8BhgdV1Ov"
      },
      "execution_count": null,
      "outputs": []
    },
    {
      "cell_type": "code",
      "source": [
        "\n",
        "distance = 240\n",
        "time = 2.5\n",
        "speed = distance / time\n",
        "speed"
      ],
      "metadata": {
        "id": "Wi0DkADLV2eG"
      },
      "execution_count": null,
      "outputs": []
    },
    {
      "cell_type": "code",
      "source": [
        "distance = 240.0\n",
        "time = 2\n",
        "speed = distance / time\n",
        "speed"
      ],
      "metadata": {
        "id": "LUC01Ms8V3f1"
      },
      "execution_count": null,
      "outputs": []
    },
    {
      "cell_type": "code",
      "source": [
        "distance = 240\n",
        "time = 2\n",
        "speed = distance / time\n",
        "speed"
      ],
      "metadata": {
        "id": "ZcS3wOfQV4iO"
      },
      "execution_count": null,
      "outputs": []
    },
    {
      "cell_type": "code",
      "source": [
        "name = 'Alice'\n",
        "name"
      ],
      "metadata": {
        "id": "yaeTROc7V5eH"
      },
      "execution_count": null,
      "outputs": []
    },
    {
      "cell_type": "code",
      "source": [
        "greeting = 'Hello, World!'\n",
        "greeting"
      ],
      "metadata": {
        "id": "bEAYJ0tAV6aQ"
      },
      "execution_count": null,
      "outputs": []
    },
    {
      "cell_type": "code",
      "source": [
        "multiline = '''이것은\n",
        "여러 줄에 걸친\n",
        "문자열입니다.'''\n",
        "multiline"
      ],
      "metadata": {
        "id": "jwruQ9m0V7hp"
      },
      "execution_count": null,
      "outputs": []
    },
    {
      "cell_type": "code",
      "source": [
        "multiline = '''이것은\n",
        "여러 줄에 걸친\n",
        "문자열입니다.'''\n",
        "print(multiline)"
      ],
      "metadata": {
        "id": "JPYrUbdQV8rG"
      },
      "execution_count": null,
      "outputs": []
    },
    {
      "cell_type": "code",
      "source": [
        "first_name = 'John'\n",
        "last_name = 'Doe'\n",
        "full_name = first_name + ' ' + last_name\n",
        "full_name"
      ],
      "metadata": {
        "id": "0B53zvnAV-4S"
      },
      "execution_count": null,
      "outputs": []
    },
    {
      "cell_type": "code",
      "source": [
        "echo = 'Hello ' * 3\n",
        "echo"
      ],
      "metadata": {
        "id": "8EjnhWJHWAFQ"
      },
      "execution_count": null,
      "outputs": []
    },
    {
      "cell_type": "code",
      "source": [
        "text = 'Python'\n",
        "first_char = text[0] # 첫 번째 문자\n",
        "first_char"
      ],
      "metadata": {
        "id": "74B6YYKVWB_K"
      },
      "execution_count": null,
      "outputs": []
    },
    {
      "cell_type": "code",
      "source": [
        "last_char = text[-1] # 마지막 문자\n",
        "last_char"
      ],
      "metadata": {
        "id": "MHitNDJdWDRg"
      },
      "execution_count": null,
      "outputs": []
    },
    {
      "cell_type": "code",
      "source": [
        "substring = text[1:4] # 1번 인덱스부터 3번 인덱스까지\n",
        "substring"
      ],
      "metadata": {
        "id": "6zLcQlqtWEZD"
      },
      "execution_count": null,
      "outputs": []
    },
    {
      "cell_type": "code",
      "source": [
        "first_three = text[:3] # 처음부터 2번 인덱스까지\n",
        "first_three"
      ],
      "metadata": {
        "id": "A4SdaTJzWFp1"
      },
      "execution_count": null,
      "outputs": []
    },
    {
      "cell_type": "code",
      "source": [
        "last_three = text[-3:] # 뒤에서 세 문자\n",
        "last_three"
      ],
      "metadata": {
        "id": "2RroceCqWIuU"
      },
      "execution_count": null,
      "outputs": []
    },
    {
      "cell_type": "code",
      "source": [
        "reversed_text = text[::-1] # 문자열 뒤집기\n",
        "reversed_text"
      ],
      "metadata": {
        "id": "F69R9QSpWKhh"
      },
      "execution_count": null,
      "outputs": []
    },
    {
      "cell_type": "code",
      "source": [
        "dataset_size = 10000\n",
        "print('데이터셋 크기:', dataset_size)"
      ],
      "metadata": {
        "id": "-ZmVLLWlWLmb"
      },
      "execution_count": null,
      "outputs": []
    },
    {
      "cell_type": "code",
      "source": [
        "accuracy = 0.9567\n",
        "print('모델 정확도:', accuracy)"
      ],
      "metadata": {
        "id": "tFF_hwjIWMnr"
      },
      "execution_count": null,
      "outputs": []
    },
    {
      "cell_type": "code",
      "source": [
        "class_labels = 'cat,dog'\n",
        "print('클래스 레이블:', class_labels)"
      ],
      "metadata": {
        "id": "EsjJSvT6WOmA"
      },
      "execution_count": null,
      "outputs": []
    },
    {
      "cell_type": "code",
      "source": [
        "model_name = 'Deep Neural Network'\n",
        "version = 'v2.0'\n",
        "model_info = model_name + ' ' + version\n",
        "print('모델 정보:', model_info)"
      ],
      "metadata": {
        "id": "6uEv63XQWPkE"
      },
      "execution_count": null,
      "outputs": []
    },
    {
      "cell_type": "code",
      "source": [
        "is_student = True\n",
        "is_student"
      ],
      "metadata": {
        "id": "7OLe0NvUWQwS"
      },
      "execution_count": null,
      "outputs": []
    },
    {
      "cell_type": "code",
      "source": [
        "is_student = False\n",
        "is_student"
      ],
      "metadata": {
        "id": "ZASwUti4WRsK"
      },
      "execution_count": null,
      "outputs": []
    },
    {
      "cell_type": "code",
      "source": [
        "type(is_student) # 변수의 자료형 확인"
      ],
      "metadata": {
        "id": "r1Ne36U2WSxf"
      },
      "execution_count": null,
      "outputs": []
    },
    {
      "cell_type": "code",
      "source": [
        ":\n",
        "x = 5\n",
        "y = 10"
      ],
      "metadata": {
        "id": "0E9uv-2vWUQo"
      },
      "execution_count": null,
      "outputs": []
    },
    {
      "cell_type": "code",
      "source": [
        "x == y # 같음"
      ],
      "metadata": {
        "id": "c_W9x8M7WVDj"
      },
      "execution_count": null,
      "outputs": []
    },
    {
      "cell_type": "code",
      "source": [
        "x != y # 다름"
      ],
      "metadata": {
        "id": "kDyszrJUWWIQ"
      },
      "execution_count": null,
      "outputs": []
    },
    {
      "cell_type": "code",
      "source": [
        "x < y"
      ],
      "metadata": {
        "id": "QpMkpLkGWXdJ"
      },
      "execution_count": null,
      "outputs": []
    },
    {
      "cell_type": "code",
      "source": [
        "x > y"
      ],
      "metadata": {
        "id": "LZ0AX8_-WYbH"
      },
      "execution_count": null,
      "outputs": []
    },
    {
      "cell_type": "code",
      "source": [
        "x <= y"
      ],
      "metadata": {
        "id": "_-IiLpeWWZTj"
      },
      "execution_count": null,
      "outputs": []
    },
    {
      "cell_type": "code",
      "source": [
        "x >= y"
      ],
      "metadata": {
        "id": "aB5o06LEWZwG"
      },
      "execution_count": null,
      "outputs": []
    },
    {
      "cell_type": "code",
      "source": [
        "name1 = 'Alice'\n",
        "name2 = 'Bob'"
      ],
      "metadata": {
        "id": "vl5IdS16WblK"
      },
      "execution_count": null,
      "outputs": []
    },
    {
      "cell_type": "code",
      "source": [
        "name1 == name2"
      ],
      "metadata": {
        "id": "stnlshIlWdMD"
      },
      "execution_count": null,
      "outputs": []
    },
    {
      "cell_type": "code",
      "source": [
        "name1 != name2"
      ],
      "metadata": {
        "id": "EZyn7GW6WeUd"
      },
      "execution_count": null,
      "outputs": []
    },
    {
      "cell_type": "code",
      "source": [
        "name1 < name2 # 사전순 크기 비교"
      ],
      "metadata": {
        "id": "ai8UdWSvWf72"
      },
      "execution_count": null,
      "outputs": []
    },
    {
      "cell_type": "code",
      "source": [
        "name1 = 'Ali'\n",
        "name2 = 'Alice'"
      ],
      "metadata": {
        "id": "453h-nBpWhC3"
      },
      "execution_count": null,
      "outputs": []
    },
    {
      "cell_type": "code",
      "source": [
        "name1 < name2"
      ],
      "metadata": {
        "id": "RrjUFyiGWiVD"
      },
      "execution_count": null,
      "outputs": []
    },
    {
      "cell_type": "code",
      "source": [
        "a = True\n",
        "b = False"
      ],
      "metadata": {
        "id": "ytsWtxqiWjVZ"
      },
      "execution_count": null,
      "outputs": []
    },
    {
      "cell_type": "code",
      "source": [
        "\n",
        "a and b # 둘 다 참일 때만 참"
      ],
      "metadata": {
        "id": "19fBPp2TWkev"
      },
      "execution_count": null,
      "outputs": []
    },
    {
      "cell_type": "code",
      "source": [
        "a or b # 둘 중 하나라도 참이면 참"
      ],
      "metadata": {
        "id": "D9KHt-lOWlVA"
      },
      "execution_count": null,
      "outputs": []
    },
    {
      "cell_type": "code",
      "source": [
        "not a # 참을 거짓으로, 거짓을 참으로"
      ],
      "metadata": {
        "id": "vCO6vd0IWnBl"
      },
      "execution_count": null,
      "outputs": []
    },
    {
      "cell_type": "code",
      "source": [
        "not b"
      ],
      "metadata": {
        "id": "chWbo3k5WoHj"
      },
      "execution_count": null,
      "outputs": []
    },
    {
      "cell_type": "code",
      "source": [
        "bool(0)"
      ],
      "metadata": {
        "id": "qKvDS0bHWp6v"
      },
      "execution_count": null,
      "outputs": []
    },
    {
      "cell_type": "code",
      "source": [
        "bool(1)"
      ],
      "metadata": {
        "id": "LqTrpqv3Wqze"
      },
      "execution_count": null,
      "outputs": []
    },
    {
      "cell_type": "code",
      "source": [
        "bool(100)"
      ],
      "metadata": {
        "id": "dVWLyalLWsF_"
      },
      "execution_count": null,
      "outputs": []
    },
    {
      "cell_type": "code",
      "source": [
        "bool(-1)"
      ],
      "metadata": {
        "id": "EzeOkT3fWtqx"
      },
      "execution_count": null,
      "outputs": []
    },
    {
      "cell_type": "code",
      "source": [
        "bool('') # 빈 문자열"
      ],
      "metadata": {
        "id": "n8SMnplRWuo_"
      },
      "execution_count": null,
      "outputs": []
    },
    {
      "cell_type": "code",
      "source": [
        "bool('Hello')"
      ],
      "metadata": {
        "id": "A3UrryI2Wvaw"
      },
      "execution_count": null,
      "outputs": []
    },
    {
      "cell_type": "code",
      "source": [
        "bool([]) # 빈 리스트"
      ],
      "metadata": {
        "id": "86L-4tzgWxXM"
      },
      "execution_count": null,
      "outputs": []
    },
    {
      "cell_type": "code",
      "source": [
        "bool([1, 2, 3])"
      ],
      "metadata": {
        "id": "gWSbyEa6WyRJ"
      },
      "execution_count": null,
      "outputs": []
    },
    {
      "cell_type": "code",
      "source": [
        ": bool(None)"
      ],
      "metadata": {
        "id": "hWBDpni7Wz9o"
      },
      "execution_count": null,
      "outputs": []
    },
    {
      "cell_type": "code",
      "source": [
        "number = 4\n",
        "is_even = number % 2 == 0\n",
        "is_even"
      ],
      "metadata": {
        "id": "TrRZ2DotW1cI"
      },
      "execution_count": null,
      "outputs": []
    },
    {
      "cell_type": "code",
      "source": [
        "threshold = 0.8\n",
        "accuracy = 0.85\n",
        "is_good_model = accuracy > threshold\n",
        "is_good_model"
      ],
      "metadata": {
        "id": "XPnnw21oW1TV"
      },
      "execution_count": null,
      "outputs": []
    },
    {
      "cell_type": "code",
      "source": [
        "values = [1, 2, None, 4, 5]\n",
        "first_value_is_missing = values[0] is None\n",
        "first_value_is_missing"
      ],
      "metadata": {
        "id": "KycEzWaNW5sP"
      },
      "execution_count": null,
      "outputs": []
    },
    {
      "cell_type": "code",
      "source": [
        "third_value_is_missing = values[2] is None\n",
        "third_value_is_missing"
      ],
      "metadata": {
        "id": "OTLhL6NXW7Kg"
      },
      "execution_count": null,
      "outputs": []
    },
    {
      "cell_type": "code",
      "source": [
        "x = 5\n",
        "y = 'Hello'\n",
        "z = 3.14"
      ],
      "metadata": {
        "id": "8Lpx8DqTXAAi"
      },
      "execution_count": null,
      "outputs": []
    },
    {
      "cell_type": "code",
      "source": [
        "x"
      ],
      "metadata": {
        "id": "4XXxbGmQXCxz"
      },
      "execution_count": null,
      "outputs": []
    },
    {
      "cell_type": "code",
      "source": [
        "y"
      ],
      "metadata": {
        "id": "FUKcwXEqXFFT"
      },
      "execution_count": null,
      "outputs": []
    },
    {
      "cell_type": "code",
      "source": [
        "z"
      ],
      "metadata": {
        "id": "OufmRMeBXHDP"
      },
      "execution_count": null,
      "outputs": []
    },
    {
      "cell_type": "code",
      "source": [
        "x, y, z"
      ],
      "metadata": {
        "id": "wpmEKgC_XIfg"
      },
      "execution_count": null,
      "outputs": []
    },
    {
      "cell_type": "code",
      "source": [
        "type(x), type(y), type(z)"
      ],
      "metadata": {
        "id": "qDcGJFmMXMDI"
      },
      "execution_count": null,
      "outputs": []
    },
    {
      "cell_type": "code",
      "source": [
        "x = 10 # 변수는 언제든지 다른 값을 할당받을 수 있음\n",
        "x"
      ],
      "metadata": {
        "id": "Z5w14NjTXNpX"
      },
      "execution_count": null,
      "outputs": []
    },
    {
      "cell_type": "code",
      "source": [
        "x = 'Python'\n",
        "x"
      ],
      "metadata": {
        "id": "G0m6hAxHXO2u"
      },
      "execution_count": null,
      "outputs": []
    },
    {
      "cell_type": "code",
      "source": [
        "str_num = '123'\n",
        "type(str_num)"
      ],
      "metadata": {
        "id": "u7bMyo7SXQUE"
      },
      "execution_count": null,
      "outputs": []
    },
    {
      "cell_type": "code",
      "source": [
        "int_num = int(str_num)\n",
        "type(int_num)"
      ],
      "metadata": {
        "id": "GXIhWPxAXR-C"
      },
      "execution_count": null,
      "outputs": []
    },
    {
      "cell_type": "code",
      "source": [
        "str_num, int_num"
      ],
      "metadata": {
        "id": "pSUBzaaSXT5N"
      },
      "execution_count": null,
      "outputs": []
    },
    {
      "cell_type": "code",
      "source": [
        "str_float = '3.14'\n",
        "type(str_float)"
      ],
      "metadata": {
        "id": "7zWpXCjnXVAX"
      },
      "execution_count": null,
      "outputs": []
    },
    {
      "cell_type": "code",
      "source": [
        "float_num = float(str_float)\n",
        "type(float_num)"
      ],
      "metadata": {
        "id": "6WiMtjPaXWNe"
      },
      "execution_count": null,
      "outputs": []
    },
    {
      "cell_type": "code",
      "source": [
        "str_float, float_num"
      ],
      "metadata": {
        "id": "Lv-7hC7fXYNC"
      },
      "execution_count": null,
      "outputs": []
    },
    {
      "cell_type": "code",
      "source": [
        "int_num = 456\n",
        "type(int_num)"
      ],
      "metadata": {
        "id": "WEfKTolcXZJ5"
      },
      "execution_count": null,
      "outputs": []
    },
    {
      "cell_type": "code",
      "source": [
        "str_num = str(int_num)\n",
        "type(str_num)"
      ],
      "metadata": {
        "id": "Wq97Z4MPXaRf"
      },
      "execution_count": null,
      "outputs": []
    },
    {
      "cell_type": "code",
      "source": [
        "int_num, str_num"
      ],
      "metadata": {
        "id": "l_tE4150Xb2a"
      },
      "execution_count": null,
      "outputs": []
    },
    {
      "cell_type": "code",
      "source": [
        "float_num = 2.718\n",
        "type(float_num)"
      ],
      "metadata": {
        "id": "gmG1q3RsXdTe"
      },
      "execution_count": null,
      "outputs": []
    },
    {
      "cell_type": "code",
      "source": [
        "str_float = str(float_num)\n",
        "type(str_float)"
      ],
      "metadata": {
        "id": "5PTQL6x6Xe27"
      },
      "execution_count": null,
      "outputs": []
    },
    {
      "cell_type": "code",
      "source": [
        "float_num, str_float"
      ],
      "metadata": {
        "id": "S5kj6sczXgPm"
      },
      "execution_count": null,
      "outputs": []
    },
    {
      "cell_type": "code",
      "source": [
        "int_num = 5\n",
        "type(int_num)"
      ],
      "metadata": {
        "id": "0nbDWGHDXh5U"
      },
      "execution_count": null,
      "outputs": []
    },
    {
      "cell_type": "code",
      "source": [
        "float_num = float(int_num)\n",
        "type(float_num)"
      ],
      "metadata": {
        "id": "h7Mwji3PXjrp"
      },
      "execution_count": null,
      "outputs": []
    },
    {
      "cell_type": "code",
      "source": [
        "int_num, float_num"
      ],
      "metadata": {
        "id": "-3h_2OIoXlPD"
      },
      "execution_count": null,
      "outputs": []
    },
    {
      "cell_type": "code",
      "source": [
        "float_num = 7.8\n",
        "type(float_num)"
      ],
      "metadata": {
        "id": "Drbl6mWtXnVN"
      },
      "execution_count": null,
      "outputs": []
    },
    {
      "cell_type": "code",
      "source": [
        "int_num = int(float_num)\n",
        "type(int_num)"
      ],
      "metadata": {
        "id": "XancDYJJXoS9"
      },
      "execution_count": null,
      "outputs": []
    },
    {
      "cell_type": "code",
      "source": [
        "float_num, int_num"
      ],
      "metadata": {
        "id": "64ten6LkXouH"
      },
      "execution_count": null,
      "outputs": []
    },
    {
      "cell_type": "code",
      "source": [
        "raw_data = '42'\n",
        "processed_data = int(raw_data)\n",
        "processed_data, type(processed_data)"
      ],
      "metadata": {
        "id": "ffSjX01jXqgc"
      },
      "execution_count": null,
      "outputs": []
    },
    {
      "cell_type": "code",
      "source": [
        "accuracy = 0.95\n",
        "accuracy_percent = int(accuracy * 100)\n",
        "accuracy_percent"
      ],
      "metadata": {
        "id": "PXKoImZQXrfj"
      },
      "execution_count": null,
      "outputs": []
    },
    {
      "cell_type": "code",
      "source": [
        "class_number = 1\n",
        "class_label = str(class_number)\n",
        "class_label, type(class_label)"
      ],
      "metadata": {
        "id": "qy9T8Pe4XufL"
      },
      "execution_count": null,
      "outputs": []
    }
  ]
}