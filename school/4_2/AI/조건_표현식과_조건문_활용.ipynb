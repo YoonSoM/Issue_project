{
  "nbformat": 4,
  "nbformat_minor": 0,
  "metadata": {
    "colab": {
      "provenance": []
    },
    "kernelspec": {
      "name": "python3",
      "display_name": "Python 3"
    },
    "language_info": {
      "name": "python"
    }
  },
  "cells": [
    {
      "cell_type": "markdown",
      "source": [],
      "metadata": {
        "id": "GWoV5l8izad_"
      }
    },
    {
      "cell_type": "markdown",
      "source": [
        "조건 표현식 (삼항 연산자)"
      ],
      "metadata": {
        "id": "VnzAHiqrzbO8"
      }
    },
    {
      "cell_type": "markdown",
      "source": [
        "조건 표현식은 if - else 문을 한 줄로 작성할 수 있게 해주는 간결한 문법입니다"
      ],
      "metadata": {
        "id": "xFR984cmzcE2"
      }
    },
    {
      "cell_type": "markdown",
      "source": [
        "결과 = 참일_때의_값 if 조건 else 거짓일_때의_값"
      ],
      "metadata": {
        "id": "AsMGURsUzc0G"
      }
    },
    {
      "cell_type": "code",
      "execution_count": null,
      "metadata": {
        "id": "9KxECfCVzQ0m"
      },
      "outputs": [],
      "source": [
        "x = 10\n",
        "if x > 0:\n",
        "   result = '양수'\n",
        "else:\n",
        "   result = '음수 또는 0'\n",
        "result"
      ]
    },
    {
      "cell_type": "code",
      "source": [
        "x = 10\n",
        "result = '양수' if x > 0 else '음수 또는 0'\n",
        "result"
      ],
      "metadata": {
        "id": "reFD_xzSze7i"
      },
      "execution_count": null,
      "outputs": []
    },
    {
      "cell_type": "markdown",
      "source": [
        "조건 표현식의 활용"
      ],
      "metadata": {
        "id": "Hgzrhf2Mzf3P"
      }
    },
    {
      "cell_type": "markdown",
      "source": [
        "예) 절대값 계산\n"
      ],
      "metadata": {
        "id": "RRlkkvexzgwz"
      }
    },
    {
      "cell_type": "code",
      "source": [
        "\n",
        "x = -5\n",
        "abs_x = x if x >= 0 else -x\n",
        "abs_x"
      ],
      "metadata": {
        "id": "yMPGBsGpzhtH"
      },
      "execution_count": null,
      "outputs": []
    },
    {
      "cell_type": "markdown",
      "source": [
        "예) 짝수/홀수 판별"
      ],
      "metadata": {
        "id": "aRwJdFfQzirL"
      }
    },
    {
      "cell_type": "code",
      "source": [
        "num = 7\n",
        "parity = '짝수' if num % 2 == 0 else '홀수'\n",
        "parity"
      ],
      "metadata": {
        "id": "LpJVDeQtzjls"
      },
      "execution_count": null,
      "outputs": []
    },
    {
      "cell_type": "markdown",
      "source": [
        "조건 표현식의 장단점"
      ],
      "metadata": {
        "id": "j6nIZ5DRzkcH"
      }
    },
    {
      "cell_type": "markdown",
      "source": [
        "장점"
      ],
      "metadata": {
        "id": "yCK7WA7RzlNu"
      }
    },
    {
      "cell_type": "markdown",
      "source": [
        "코드가 간결해질 수 있습니다.\n",
        "간단한 조건문을 한 줄로 표현할 수 있어 가독성이 높아질 수 있습니다"
      ],
      "metadata": {
        "id": "rXFi1pDUzmHM"
      }
    },
    {
      "cell_type": "markdown",
      "source": [
        "단점"
      ],
      "metadata": {
        "id": "Xxy_mtEZzm23"
      }
    },
    {
      "cell_type": "markdown",
      "source": [
        "점\n",
        "복잡한 조건의 경우 가독성이 떨어질 수 있습니다.\n",
        "중첩해서 사용하면 이해하기 어려워질 수 있습니다."
      ],
      "metadata": {
        "id": "QqtnCKOzznnp"
      }
    },
    {
      "cell_type": "markdown",
      "source": [
        "조건문의 성능과 최적화"
      ],
      "metadata": {
        "id": "ZHs89x5rzoZ6"
      }
    },
    {
      "cell_type": "markdown",
      "source": [
        "복잡한 조건문은 프로그램의 성능에 영향을 줄 수 있습니다.\n",
        "조건의 순서를 최적화하여 성능을 개선할 수 있습니다."
      ],
      "metadata": {
        "id": "jaHu5yLgzpUM"
      }
    },
    {
      "cell_type": "code",
      "source": [
        "score = 85"
      ],
      "metadata": {
        "id": "0_nYkG0DzqRu"
      },
      "execution_count": null,
      "outputs": []
    },
    {
      "cell_type": "code",
      "source": [
        "# 효율적인 방법\n",
        "if score >= 90: # 가장 빈번한 경우를 먼저 체크\n",
        "   grade = 'A'\n",
        "elif score >= 80:\n",
        "   grade = 'B'\n",
        "elif score >= 70:\n",
        "   grade = 'C'\n",
        "else:\n",
        "   grade = 'D'\n",
        "grade"
      ],
      "metadata": {
        "id": "tIYQ8mmvzrk6"
      },
      "execution_count": null,
      "outputs": []
    },
    {
      "cell_type": "code",
      "source": [
        "# 비효율적인 방법\n",
        "if score < 70:\n",
        "   grade = 'D'\n",
        "elif score < 80:\n",
        "   grade = 'C'\n",
        "elif score < 90:\n",
        "   grade = 'B'\n",
        "else:\n",
        "   grade = 'A'\n",
        "grade"
      ],
      "metadata": {
        "id": "JlTaJpN9zsu-"
      },
      "execution_count": null,
      "outputs": []
    },
    {
      "cell_type": "markdown",
      "source": [
        "중첩 조건문 최소화하기"
      ],
      "metadata": {
        "id": "km4rO19Rzxwp"
      }
    },
    {
      "cell_type": "markdown",
      "source": [
        "때로는 중첩 조건문을 사용하지 않고도 같은 결과를 얻을 수 있습니다.\n",
        "이는 코드의 가독성을 높이는 데 도움이 됩니다.\n"
      ],
      "metadata": {
        "id": "2cx_BEVtzydJ"
      }
    },
    {
      "cell_type": "code",
      "source": [
        "x = 10\n",
        "y = 5"
      ],
      "metadata": {
        "id": "W2tr0MV4zzyJ"
      },
      "execution_count": null,
      "outputs": []
    },
    {
      "cell_type": "code",
      "source": [
        "if x > 0:\n",
        "   if y > 0:\n",
        "      print('둘 다 양수')\n",
        "   else:\n",
        "      print('x만 양수')\n",
        "   else:\n",
        "      print('x가 양수가 아님')\n"
      ],
      "metadata": {
        "id": "7hT2lRbrz028"
      },
      "execution_count": null,
      "outputs": []
    },
    {
      "cell_type": "code",
      "source": [
        "if x > 0 and y > 0:\n",
        "   print('둘 다 양수')\n",
        "elif x > 0:\n",
        "   print('x만 양수')\n",
        "else:\n",
        "   print('x가 양수가 아님')"
      ],
      "metadata": {
        "id": "1iEEnls4z14C"
      },
      "execution_count": null,
      "outputs": []
    },
    {
      "cell_type": "markdown",
      "source": [
        "과도한 중첩은 코드의 유지보수를 어렵게 만들고, 오류 발생 가능성을 높입니다.\n",
        "따라서 가능한 한 중첩을 최소화하고 코드의 구조를 단순하게 유지하는 것이 좋습니다.\n",
        "조건을 단순화하거나 논리적으로 재구성합니다.\n",
        "중첩 수준을 줄이기 위해 조건을 분리합니다.\n",
        "가능한 경우, 다른 제어 구조(예: elif 사용)를 활용합니다."
      ],
      "metadata": {
        "id": "oW1mO_WFz26J"
      }
    },
    {
      "cell_type": "code",
      "source": [
        "x = 1\n",
        "y = 2\n",
        "z = 3\n",
        "category = ''\n",
        "if x > 0:\n",
        "   if y > 0:\n",
        "      if z > 0:\n",
        "         category = 'Category A'\n",
        "      else:\n",
        "         if x > y:\n",
        "            category = 'Category B'\n",
        "   else:\n",
        "      if y > z:\n",
        "         category = 'Category C'\n",
        "      else:\n",
        "         category = 'Category D'\n",
        "   else:\n",
        "      if z > 0:\n",
        "         if x > z:\n",
        "            category = 'Category E'\n",
        "         else:\n",
        "            category = 'Category F'\n",
        "      else:\n",
        "         category = 'Category G'\n",
        "else:\n",
        "   if y > 0:\n",
        "      if z > 0:\n",
        "         category = 'Category H'\n",
        "      else:\n",
        "         category = 'Category I'\n",
        "   else:\n",
        "      if z > 0:\n",
        "         category = 'Category J'\n",
        "      else:\n",
        "         category = 'Category K'\n",
        "category"
      ],
      "metadata": {
        "id": "Vp56XSWmz47F"
      },
      "execution_count": null,
      "outputs": []
    },
    {
      "cell_type": "markdown",
      "source": [
        "데이터 분석과 인공지능에서의 활용\n"
      ],
      "metadata": {
        "id": "GKkJxf1sz9Uf"
      }
    },
    {
      "cell_type": "markdown",
      "source": [
        "조건 표현식은 데이터 전처리나 간단한 데이터 변환 작업에서 유용하게 사용됩니다.\n",
        "복잡한 로직을 간결하게 표현할 수 있어 코드의 가독성을 높이고 데이터 처리 과정을 효\n",
        "율적으로 만들 수 있습니다."
      ],
      "metadata": {
        "id": "xyA-Pbazz-be"
      }
    },
    {
      "cell_type": "markdown",
      "source": [
        "예) 데이터 정규화\n"
      ],
      "metadata": {
        "id": "zM5uJVuQz_M8"
      }
    },
    {
      "cell_type": "markdown",
      "source": [
        "이 예제는 데이터 정규화의 기본적인 형태를 보여줍니다.\n",
        "데이터 정규화는 서로 다른 척도의 데이터를 공통된 척도로 변환하는 과정입니\n",
        "다.\n",
        "raw_value 를 max_value 로 나누어 0 과 1 사이의 값으로 변환합니다.\n",
        "조건 표현식을 사용하여 max_value 가 0 인 경우(즉, 0 으로 나누는 경우)를 방지\n",
        "합니다.\n",
        "이러한 정규화는 머신러닝 모델의 성능을 향상시키는 데 중요한 역할을 합니다."
      ],
      "metadata": {
        "id": "Z7pHyCt60BBF"
      }
    },
    {
      "cell_type": "code",
      "source": [
        "raw_value = 75\n",
        "max_value = 100\n",
        "normalized = raw_value / max_value if max_value != 0 else 0\n",
        "normalized"
      ],
      "metadata": {
        "id": "sNAHzooh0CWC"
      },
      "execution_count": null,
      "outputs": []
    },
    {
      "cell_type": "markdown",
      "source": [
        "예) 이진 분류 레이블 생성\n",
        "이 예제는 이진 분류 문제에서 레이블을 생성하는 과정을 보여줍니다.\n",
        "score 가 threshold 보다 큰 경우 1 (양성 클래스), 그렇지 않으면 0 (음성 클래\n",
        "스)으로 레이블을 지정합니다.\n",
        "이러한 레이블 생성은 지도 학습 모델을 훈련시키기 위한 데이터 준비 과정에서 자\n",
        "주 사용됩니다.\n",
        "조건 표현식을 사용하면 이러한 레이블 생성 과정을 간결하게 표현할 수 있습니다."
      ],
      "metadata": {
        "id": "rvD1-d3e0EAL"
      }
    },
    {
      "cell_type": "code",
      "source": [
        "score = 85\n",
        "threshold = 80\n",
        "label = 1 if score > threshold else 0\n",
        "label"
      ],
      "metadata": {
        "id": "v_0H7rmu0FH8"
      },
      "execution_count": null,
      "outputs": []
    }
  ]
}