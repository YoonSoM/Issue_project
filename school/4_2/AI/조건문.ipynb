{
  "nbformat": 4,
  "nbformat_minor": 0,
  "metadata": {
    "colab": {
      "provenance": []
    },
    "kernelspec": {
      "name": "python3",
      "display_name": "Python 3"
    },
    "language_info": {
      "name": "python"
    }
  },
  "cells": [
    {
      "cell_type": "markdown",
      "source": [],
      "metadata": {
        "id": "cgbPZ4YTK6i6"
      }
    },
    {
      "cell_type": "markdown",
      "source": [
        "이번 유닛에서는 프로그래밍의 핵심 구조 중 하나인 조건문의 기초에 대해 학습합니다.\n",
        "조건문을 통해 프로그램이 특정 조건에 따라 다른 동작을 수행하도록 만들 수 있습니다"
      ],
      "metadata": {
        "id": "P0qIJGQNK7Xb"
      }
    },
    {
      "cell_type": "markdown",
      "source": [
        "if 문의 기본 구조"
      ],
      "metadata": {
        "id": "78TEEJcIK8AU"
      }
    },
    {
      "cell_type": "markdown",
      "source": [
        "if 문은 가장 기본적인 조건문 구조입니다.\n",
        "조건이 참( True )일 때만 들여쓰기된 코드가 실행됩니다"
      ],
      "metadata": {
        "id": "K-QArHV6K8pw"
      }
    },
    {
      "cell_type": "markdown",
      "source": [
        "if 조건:\n",
        " 실행할 코드\n"
      ],
      "metadata": {
        "id": "SC0upr9SK9Uf"
      }
    },
    {
      "cell_type": "code",
      "execution_count": null,
      "metadata": {
        "id": "9A_UqNlUK37S"
      },
      "outputs": [],
      "source": [
        "age = 20\n",
        "if age >= 18:\n",
        "print('성인입니다.')\n",
        "print('프로그램 종료')"
      ]
    },
    {
      "cell_type": "code",
      "source": [
        "temperature = 28\n",
        "if temperature > 30:\n",
        "print('너무 덥습니다.')\n",
        "print('실내에 있는 것이 좋겠어요.')\n",
        "print('오늘의 날씨 안내였습니다.')"
      ],
      "metadata": {
        "id": "Dto0tmPVK_hT"
      },
      "execution_count": null,
      "outputs": []
    },
    {
      "cell_type": "markdown",
      "source": [
        "if - else 문"
      ],
      "metadata": {
        "id": "NMPhLmYqLBFA"
      }
    },
    {
      "cell_type": "markdown",
      "source": [
        "조건이 거짓( False )일 때 실행할 코드를 지정할 수 있습니다.\n"
      ],
      "metadata": {
        "id": "FcaBAyziLB4X"
      }
    },
    {
      "cell_type": "markdown",
      "source": [
        "if 조건:\n",
        " 조건이 참일 때 실행할 코드"
      ],
      "metadata": {
        "id": "UAfOb4qALDpI"
      }
    },
    {
      "cell_type": "markdown",
      "source": [
        "else:\n",
        " 조건이 거짓일 때 실행할 코드"
      ],
      "metadata": {
        "id": "sCcxdR15LEUC"
      }
    },
    {
      "cell_type": "code",
      "source": [
        "time = 14 # 24시간 형식\n",
        "if time < 12:\n",
        "print('좋은 아침입니다!')\n",
        "else:\n",
        "print('좋은 오후입니다!')"
      ],
      "metadata": {
        "id": "-PmP9CIsLF46"
      },
      "execution_count": null,
      "outputs": []
    },
    {
      "cell_type": "code",
      "source": [
        "score = 75\n",
        "if score >= 60:\n",
        "print('합격입니다.')\n",
        "print('축하드립니다!')\n",
        "else:\n",
        "print('불합격입니다.')\n",
        "print('다음 기회에 도전해주세요.')"
      ],
      "metadata": {
        "id": "4KjHwZHFLJ32"
      },
      "execution_count": null,
      "outputs": []
    },
    {
      "cell_type": "code",
      "source": [
        "is_raining = True\n",
        "if is_raining:\n",
        "print('우산을 가져가세요.')\n",
        "print('비 조심하세요!')\n",
        "else:\n",
        "print('날씨가 좋습니다.')\n",
        "print('즐거운 하루 보내세요!')"
      ],
      "metadata": {
        "id": "PaTnGSStLL7B"
      },
      "execution_count": null,
      "outputs": []
    },
    {
      "cell_type": "markdown",
      "source": [
        "비교 연산자"
      ],
      "metadata": {
        "id": "bYZxzwg8LNj4"
      }
    },
    {
      "cell_type": "markdown",
      "source": [
        "조건을 만들 때 사용하는 연산자들입니다"
      ],
      "metadata": {
        "id": "hylFA3X3LP0f"
      }
    },
    {
      "cell_type": "markdown",
      "source": [
        "== : 같다\n",
        "!= : 같지 않다\n",
        "> : (왼쪽이 오른쪽보다) 크다\n",
        "< : (왼쪽이 오른쪽보다) 작다\n",
        ">= : (왼쪽이 오른쪽보다) 크거나 같다\n",
        "<= : (왼쪽이 오른쪽보다) 작거나 같다"
      ],
      "metadata": {
        "id": "Q0wKJ3ENLR-J"
      }
    },
    {
      "cell_type": "code",
      "source": [
        "x = 5\n",
        "y = 10"
      ],
      "metadata": {
        "id": "hCnWTV3ULTLv"
      },
      "execution_count": null,
      "outputs": []
    },
    {
      "cell_type": "code",
      "source": [
        "x == y"
      ],
      "metadata": {
        "id": "8H0aD6GwLUBK"
      },
      "execution_count": null,
      "outputs": []
    },
    {
      "cell_type": "code",
      "source": [
        "x != y"
      ],
      "metadata": {
        "id": "4PCKEza4LUzj"
      },
      "execution_count": null,
      "outputs": []
    },
    {
      "cell_type": "code",
      "source": [
        "x > y"
      ],
      "metadata": {
        "id": "QNSZ44OZLVxr"
      },
      "execution_count": null,
      "outputs": []
    },
    {
      "cell_type": "code",
      "source": [
        "x < y"
      ],
      "metadata": {
        "id": "wgnOBOtsLZ3f"
      },
      "execution_count": null,
      "outputs": []
    },
    {
      "cell_type": "code",
      "source": [
        "x >= y"
      ],
      "metadata": {
        "id": "l6mrhu2JLbEL"
      },
      "execution_count": null,
      "outputs": []
    },
    {
      "cell_type": "code",
      "source": [
        "x <= y"
      ],
      "metadata": {
        "id": "wZlkpsI-LckF"
      },
      "execution_count": null,
      "outputs": []
    },
    {
      "cell_type": "code",
      "source": [
        "name = 'Alice' # 문자열 비교"
      ],
      "metadata": {
        "id": "BZdMUYhuLdrc"
      },
      "execution_count": null,
      "outputs": []
    },
    {
      "cell_type": "code",
      "source": [
        "name == 'Alice'"
      ],
      "metadata": {
        "id": "18vtNgfELfvS"
      },
      "execution_count": null,
      "outputs": []
    },
    {
      "cell_type": "code",
      "source": [
        "name != 'Bob'"
      ],
      "metadata": {
        "id": "fCKQ_Sp0LgmP"
      },
      "execution_count": null,
      "outputs": []
    },
    {
      "cell_type": "markdown",
      "source": [
        "True 와 False 로 평가되는 값"
      ],
      "metadata": {
        "id": "RZ-FzH-FLhYW"
      }
    },
    {
      "cell_type": "markdown",
      "source": [
        "False 로 평가되는 값들"
      ],
      "metadata": {
        "id": "yOr_syEoLiQw"
      }
    },
    {
      "cell_type": "markdown",
      "source": [
        "숫자 0\n",
        "빈 문자열 ''\n",
        "빈 리스트 []\n",
        "빈 튜플 ()\n",
        "빈 딕셔너리 {}\n",
        "빈 집합 set()\n",
        "None"
      ],
      "metadata": {
        "id": "rBNRJghtLjcv"
      }
    },
    {
      "cell_type": "markdown",
      "source": [
        "그 외의 대부분의 값은 True 로 평가됩니다.\n"
      ],
      "metadata": {
        "id": "9OkOsMqzLkQW"
      }
    },
    {
      "cell_type": "code",
      "source": [
        "if 0:\n",
        "print('이 문장은 실행되지 않습니다.')"
      ],
      "metadata": {
        "id": "9Q4R5D5dLmnl"
      },
      "execution_count": null,
      "outputs": []
    },
    {
      "cell_type": "code",
      "source": [
        "if 1:\n",
        "print('이 문장은 실행됩니다.')"
      ],
      "metadata": {
        "id": "Zs2-dgxiLjIw"
      },
      "execution_count": null,
      "outputs": []
    },
    {
      "cell_type": "code",
      "source": [
        "empty_list = []\n",
        "if empty_list:\n",
        "print('리스트가 비어있지 않습니다.')\n",
        "else:\n",
        "print('리스트가 비어있습니다.')"
      ],
      "metadata": {
        "id": "tBHCkWL9Loxr"
      },
      "execution_count": null,
      "outputs": []
    },
    {
      "cell_type": "markdown",
      "source": [
        "None"
      ],
      "metadata": {
        "id": "BwQ3420KLqPD"
      }
    },
    {
      "cell_type": "markdown",
      "source": [
        "None 은 \"아무것도 없음\"을 나타내는 특별한 값입니다.\n",
        "None 은 False 로 평가되지만, False 자체와는 다릅니다.\n",
        "변수가 초기화되지 않았거나, 함수가 명시적으로 아무것도 반환하지 않을 때 사용됩\n",
        "니다.\n",
        "None 과의 비교는 is 연산자를 사용하는 것이 권장됩니다."
      ],
      "metadata": {
        "id": "jT7ZBqKcLrNY"
      }
    },
    {
      "cell_type": "code",
      "source": [
        "if None:\n",
        "print('이 문장은 실행되지 않습니다.')"
      ],
      "metadata": {
        "id": "0mrw5mJTLsh6"
      },
      "execution_count": null,
      "outputs": []
    },
    {
      "cell_type": "code",
      "source": [
        "type(None)"
      ],
      "metadata": {
        "id": "94HTRVgELtcb"
      },
      "execution_count": null,
      "outputs": []
    },
    {
      "cell_type": "code",
      "source": [
        "x = None\n",
        "if x is None:\n",
        "print('x는 초기화되지 않았습니다.')"
      ],
      "metadata": {
        "id": "n6QtuA3gL2cq"
      },
      "execution_count": null,
      "outputs": []
    },
    {
      "cell_type": "markdown",
      "source": [
        "pass 문"
      ],
      "metadata": {
        "id": "G9b0LUQ8L3cI"
      }
    },
    {
      "cell_type": "markdown",
      "source": [
        "조건문에서 아무 것도 하지 않고 넘어가야 할 때 pass 문을 사용합니다."
      ],
      "metadata": {
        "id": "Hsgr7JJPL4Wk"
      }
    },
    {
      "cell_type": "code",
      "source": [
        "age = 10\n",
        "if age < 18:\n",
        "pass # 나중에 처리할 코드\n",
        "else:\n",
        "print('성인입니다.')"
      ],
      "metadata": {
        "id": "lmjPQRCmL5VO"
      },
      "execution_count": null,
      "outputs": []
    },
    {
      "cell_type": "markdown",
      "source": [
        "데이터 분석과 인공지능에서의 활용"
      ],
      "metadata": {
        "id": "-cNitXIjL6Sz"
      }
    },
    {
      "cell_type": "markdown",
      "source": [
        "조건문은 데이터 전처리, 모델 평가 등에서 중요하게 사용됩니다.\n",
        "데이터 전처리는 원본 데이터를 분석이나 모델링에 적합한 형태로 변환하는 과정을\n",
        "말합니다.\n"
      ],
      "metadata": {
        "id": "kWDOwt5PL7Nw"
      }
    },
    {
      "cell_type": "markdown",
      "source": [
        "예) 간단한 데이터 전처리 (이상치 처리)"
      ],
      "metadata": {
        "id": "KHewvJZGL8jJ"
      }
    },
    {
      "cell_type": "markdown",
      "source": [
        "이 예제는 센서에서 측정된 온도 데이터를 전처리하는 과정을 보여줍니다.\n",
        "온도가 현실적으로 가능한 범위를 벗어나면 (이상치), 최대 허용 값으로 보정합니다.\n",
        "이러한 전처리는 데이터의 품질을 개선하고, 후속 분석이나 모델링의 정확성을 높이\n",
        "는 데 도움이 됩니다."
      ],
      "metadata": {
        "id": "aTkBgMZQL9fV"
      }
    },
    {
      "cell_type": "code",
      "source": [
        "temperature = 185\n",
        "if temperature > 100:\n",
        "temperature = 100\n",
        "print('온도가 비정상적으로 높아 100도로 보정되었습니다.')\n",
        "else:\n",
        "print('정상적인 온도입니다.')\n",
        "print('처리된 온도:', temperature)"
      ],
      "metadata": {
        "id": "kNfrvXwrL_JK"
      },
      "execution_count": null,
      "outputs": []
    },
    {
      "cell_type": "markdown",
      "source": [
        "예) 간단한 모델 평가\n",
        "이 예제는 머신러닝 모델의 성능을 평가하는 간단한 과정을 보여줍니다.\n",
        "모델의 정확도(accuracy)가 특정 임계값(threshold)을 넘는지 확인하고, 그 결과에 따\n",
        "라 다른 피드백을 제공합니다.\n"
      ],
      "metadata": {
        "id": "QqB03-gUMBP4"
      }
    },
    {
      "cell_type": "markdown",
      "source": [
        "이러한 평가는 모델 개발 과정에서 중요한 단계로, 모델의 품질을 판단하고 사용 여\n",
        "부를 결정하는 데 도움을 줍니다."
      ],
      "metadata": {
        "id": "hVnXQmFVMCG9"
      }
    },
    {
      "cell_type": "code",
      "source": [
        "accuracy = 0.85\n",
        "threshold = 0.8\n",
        "if accuracy > threshold:\n",
        "print('모델 성능이 기준을 충족합니다.')\n",
        "print('이 모델을 사용해도 좋습니다.')\n",
        "else:\n",
        "print('모델 성능이 기준에 미치지 못합니다.')\n",
        "print('모델 개선이 필요합니다.')\n"
      ],
      "metadata": {
        "id": "f06c9NSbMDYs"
      },
      "execution_count": null,
      "outputs": []
    },
    {
      "cell_type": "markdown",
      "source": [],
      "metadata": {
        "id": "3Qi9pTyzMDGr"
      }
    }
  ]
}