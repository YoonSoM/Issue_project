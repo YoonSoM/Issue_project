{
  "nbformat": 4,
  "nbformat_minor": 0,
  "metadata": {
    "colab": {
      "provenance": []
    },
    "kernelspec": {
      "name": "python3",
      "display_name": "Python 3"
    },
    "language_info": {
      "name": "python"
    }
  },
  "cells": [
    {
      "cell_type": "markdown",
      "source": [],
      "metadata": {
        "id": "jClzX5TZOBM5"
      }
    },
    {
      "cell_type": "markdown",
      "source": [
        "json 모듈: JSON 데이터 처리"
      ],
      "metadata": {
        "id": "3CcPktS0OCYR"
      }
    },
    {
      "cell_type": "markdown",
      "source": [
        "json 모듈은 JSON(JavaScript Object Notation) 형식의 데이터를 처리합니다."
      ],
      "metadata": {
        "id": "SQocyes2OE_L"
      }
    },
    {
      "cell_type": "markdown",
      "source": [
        "JSON 은 데이터를 저장하거나 전송할 때 자주 사용되는 경량의 데이터 교환 형식입니다."
      ],
      "metadata": {
        "id": "LITvZT03OF7D"
      }
    },
    {
      "cell_type": "code",
      "source": [
        " import json"
      ],
      "metadata": {
        "id": "bLD5Ph9IOIvU"
      },
      "execution_count": null,
      "outputs": []
    },
    {
      "cell_type": "code",
      "execution_count": null,
      "metadata": {
        "id": "NhHr-vjaMZfs"
      },
      "outputs": [],
      "source": [
        "data = {'name': 'Alice', 'age': 30, 'city': 'New York'}"
      ]
    },
    {
      "cell_type": "markdown",
      "source": [
        "json.dumps(obj)\n",
        "데이터를 JSON 형식의 문자열로 변환합니다"
      ],
      "metadata": {
        "id": "JOzxWQvYOK4-"
      }
    },
    {
      "cell_type": "code",
      "source": [
        "json_string = json.dumps(data) # 딕셔너리를 JSON 문자열로 변환\n",
        "json_string"
      ],
      "metadata": {
        "id": "h07Enw1dOLsh"
      },
      "execution_count": null,
      "outputs": []
    },
    {
      "cell_type": "code",
      "source": [
        "type(json_string)"
      ],
      "metadata": {
        "id": "FmBp2cSXOMll"
      },
      "execution_count": null,
      "outputs": []
    },
    {
      "cell_type": "markdown",
      "source": [
        "json.loads(str)\n",
        "JSON 형식의 문자열을 데이터로 변환합니다."
      ],
      "metadata": {
        "id": "KDralilHON9N"
      }
    },
    {
      "cell_type": "code",
      "source": [
        "decoded_data = json.loads(json_string) # JSON 문자열을 딕셔너리로 변환\n",
        "decoded_data\n"
      ],
      "metadata": {
        "id": "WpT13xHkOO4Q"
      },
      "execution_count": null,
      "outputs": []
    },
    {
      "cell_type": "code",
      "source": [
        "type(decoded_data)\n"
      ],
      "metadata": {
        "id": "obmCLXY0OP2H"
      },
      "execution_count": null,
      "outputs": []
    },
    {
      "cell_type": "code",
      "source": [
        "with open('data.json', 'w') as f: # JSON 파일 쓰기\n",
        "     json.dump(data, f)"
      ],
      "metadata": {
        "id": "rrItLUi8OQvz"
      },
      "execution_count": null,
      "outputs": []
    },
    {
      "cell_type": "markdown",
      "source": [
        "json.load(file)\n",
        "JSON 파일을 읽어 데이터로 변환합니다"
      ],
      "metadata": {
        "id": "2bBKotASOSVW"
      }
    },
    {
      "cell_type": "code",
      "source": [
        "with open('data.json', 'r') as f: # JSON 파일 읽기\n",
        "     loaded_data = json.load(f)"
      ],
      "metadata": {
        "id": "x5kh7v7vOUqZ"
      },
      "execution_count": null,
      "outputs": []
    },
    {
      "cell_type": "code",
      "source": [
        "loaded_data"
      ],
      "metadata": {
        "id": "cBfOf4y5OcKM"
      },
      "execution_count": null,
      "outputs": []
    },
    {
      "cell_type": "code",
      "source": [
        "type(loaded_data)"
      ],
      "metadata": {
        "id": "b6GsrTCnOeC2"
      },
      "execution_count": null,
      "outputs": []
    },
    {
      "cell_type": "markdown",
      "source": [
        "여러 데이터를 JSON 파일로 저장할 수 있습니다."
      ],
      "metadata": {
        "id": "_gkBWjDUOiKU"
      }
    },
    {
      "cell_type": "code",
      "source": [
        "multiple_data = [\n",
        "    {'name': 'Alice', 'age': 30, 'city': 'New York'},\n",
        "    {'name': 'Bob', 'age': 25, 'city': 'Los Angeles'},\n",
        "    {'name': 'Charlie', 'age': 35, 'city': 'Chicago'}\n",
        "]"
      ],
      "metadata": {
        "id": "FeK5j5WHOjFl"
      },
      "execution_count": null,
      "outputs": []
    },
    {
      "cell_type": "code",
      "source": [
        "with open('data.json', 'w') as f:\n",
        "    json.dump(multiple_data, f)"
      ],
      "metadata": {
        "id": "vnlPRkQnOmAv"
      },
      "execution_count": null,
      "outputs": []
    },
    {
      "cell_type": "code",
      "source": [
        "with open('data.json', 'r') as f:\n",
        "    loaded_data = json.load(f)"
      ],
      "metadata": {
        "id": "mRIA7GMqOqVl"
      },
      "execution_count": null,
      "outputs": []
    },
    {
      "cell_type": "code",
      "source": [
        "loaded_data"
      ],
      "metadata": {
        "id": "dzuD8lPiOtFl"
      },
      "execution_count": null,
      "outputs": []
    },
    {
      "cell_type": "code",
      "source": [
        "type(loaded_data)"
      ],
      "metadata": {
        "id": "-tctxVZwOt8D"
      },
      "execution_count": null,
      "outputs": []
    },
    {
      "cell_type": "markdown",
      "source": [
        "collections 모듈: 특수 데이터 구조"
      ],
      "metadata": {
        "id": "l_FIhoY3Ov2m"
      }
    },
    {
      "cell_type": "markdown",
      "source": [
        "collections 모듈은 파이썬의 일반 내장 데이터 구조( dict , list , set , tuple )\n",
        "를 확장하는 특수한 데이터 구조를 제공합니다."
      ],
      "metadata": {
        "id": "ffrrJpZcOwyV"
      }
    },
    {
      "cell_type": "code",
      "source": [
        "from collections import Counter, defaultdict"
      ],
      "metadata": {
        "id": "YL6jDcrwOxuN"
      },
      "execution_count": null,
      "outputs": []
    },
    {
      "cell_type": "markdown",
      "source": [
        "Counter : 반복 가능한 데이터 구조의 원소 개수를 세어 딕셔너리 형태로 저장합니다.\n",
        "most_common(n) : 가장 흔한 n 개의 원소를 반환합니다.\n"
      ],
      "metadata": {
        "id": "6R9RmBFvOyo4"
      }
    },
    {
      "cell_type": "code",
      "source": [
        "words = ['apple', 'banana', 'apple', 'cherry', 'banana', 'apple']\n",
        "word_counts = Counter(words)\n",
        "word_counts # 단어 빈도"
      ],
      "metadata": {
        "id": "YoFsOJ6qO1JP"
      },
      "execution_count": null,
      "outputs": []
    },
    {
      "cell_type": "code",
      "source": [
        "word_counts.most_common()"
      ],
      "metadata": {
        "id": "w-UvUBdgO25l"
      },
      "execution_count": null,
      "outputs": []
    },
    {
      "cell_type": "code",
      "source": [
        "word_counts.most_common(1)\n"
      ],
      "metadata": {
        "id": "cPAnDeZTO3ye"
      },
      "execution_count": null,
      "outputs": []
    },
    {
      "cell_type": "markdown",
      "source": [
        "defaultdict\n",
        "기본 딕셔너리와 유사하지만, 존재하지 않는 키에 접근할 때 에러 대신 기본값을 반\n",
        "환합니다.\n",
        "생성 시 기본값을 생성하는 함수를 인자로 받습니다. (예: list , int 등)"
      ],
      "metadata": {
        "id": "xdXaPT5TO4px"
      }
    },
    {
      "cell_type": "code",
      "source": [
        "fruit_colors = defaultdict(list)\n",
        "fruit_colors['apple'].append('red')\n",
        "fruit_colors['apple'].append('green')\n",
        "fruit_colors['banana'].append('yellow')\n",
        "fruit_colors"
      ],
      "metadata": {
        "id": "X_OkYAbhO5wN"
      },
      "execution_count": null,
      "outputs": []
    },
    {
      "cell_type": "markdown",
      "source": [
        "데이터 분석과 인공지능에서의 활용\n",
        "내장 모듈들은 데이터 분석과 인공지능 분야에서 다양하게 활용됩니다.\n",
        "예) 텍스트 데이터 빈도 분석\n",
        "이 예제는 collections 와 json 모듈을 사용하여 텍스트의 단어 빈도를 분석합\n",
        "니다.\n",
        "Counter 를 사용해 각 단어의 출현 빈도를 계산합니다.\n",
        "결과를 json 모듈을 사용하여 JSON 파일로 저장합니다"
      ],
      "metadata": {
        "id": "qlZsFtxgO65u"
      }
    },
    {
      "cell_type": "code",
      "source": [
        "from collections import Counter\n",
        "import json\n",
        "# 텍스트 데이터\n",
        "text = '''\n",
        "Python is amazing. Python is versatile. Python is used for web development,\n",
        "data analysis, artificial intelligence, and more. Python is easy to learn.\n",
        "'''"
      ],
      "metadata": {
        "id": "S6AkEgMjO844"
      },
      "execution_count": null,
      "outputs": []
    },
    {
      "cell_type": "code",
      "source": [
        "# 단어 빈도 분석\n",
        "words = text.lower().split()\n",
        "word_counts = Counter(words)\n",
        "word_counts\n"
      ],
      "metadata": {
        "id": "08vlu00hO-6M"
      },
      "execution_count": null,
      "outputs": []
    },
    {
      "cell_type": "code",
      "source": [
        "# 가장 흔한 단어 5개 추출\n",
        "top_words = word_counts.most_common(5)\n",
        "top_words"
      ],
      "metadata": {
        "id": "VUS47njoPBVM"
      },
      "execution_count": null,
      "outputs": []
    },
    {
      "cell_type": "code",
      "source": [
        "# 결과를 JSON 파일로 저장\n",
        "with open('word_frequencies.json', 'w') as f:\n",
        "json.dump(dict(top_words), f)"
      ],
      "metadata": {
        "id": "VlN2UVGcRRh_"
      },
      "execution_count": null,
      "outputs": []
    },
    {
      "cell_type": "code",
      "source": [
        "with open('word_frequencies.json', 'r') as f:\n",
        "loaded_words = json.load(f)"
      ],
      "metadata": {
        "id": "IZrXw11ORTdc"
      },
      "execution_count": null,
      "outputs": []
    },
    {
      "cell_type": "code",
      "source": [
        "loaded_words"
      ],
      "metadata": {
        "id": "uWZb5iqORUrG"
      },
      "execution_count": null,
      "outputs": []
    }
  ]
}