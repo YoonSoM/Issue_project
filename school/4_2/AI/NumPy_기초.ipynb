{
  "nbformat": 4,
  "nbformat_minor": 0,
  "metadata": {
    "colab": {
      "provenance": []
    },
    "kernelspec": {
      "name": "python3",
      "display_name": "Python 3"
    },
    "language_info": {
      "name": "python"
    }
  },
  "cells": [
    {
      "cell_type": "markdown",
      "source": [
        "이번 유닛에서는 NumPy 라이브러리의 기초에 대해 간단히 소개합니다.\n",
        "NumPy는 수치 계산을 위한 파이썬 라이브러리로, 대규모 다차원 배열과 행렬을 쉽게 처\n",
        "리할 수 있게 합니다"
      ],
      "metadata": {
        "id": "Foz5TT7a50tn"
      }
    },
    {
      "cell_type": "markdown",
      "source": [
        "NumPy 소개 및 설치"
      ],
      "metadata": {
        "id": "N-tuXOj151eE"
      }
    },
    {
      "cell_type": "markdown",
      "source": [
        "NumPy(Numerical Python)는 파이썬에서 대규모 다차원 배열을 효율적으로 처리할 수\n",
        "있는 라이브러리입니다.\n",
        "대규모 다차원 배열과 행렬 연산을 효율적으로 처리할 수 있게 해줍니다."
      ],
      "metadata": {
        "id": "CsnaCoJh533z"
      }
    },
    {
      "cell_type": "markdown",
      "source": [
        "NumPy 임포트:"
      ],
      "metadata": {
        "id": "n8NrNS4t543F"
      }
    },
    {
      "cell_type": "markdown",
      "source": [
        "여기서 np 는 numpy의 일반적인 별칭(alias)입니다.\n",
        "이를 통해 numpy 대신 np 로 간단히 참조할 수 있습니다.\n",
        "import numpy as np"
      ],
      "metadata": {
        "id": "knH2Dh_s56B8"
      }
    },
    {
      "cell_type": "markdown",
      "source": [
        "NumPy 배열 생성"
      ],
      "metadata": {
        "id": "d4w6IiNY57E4"
      }
    },
    {
      "cell_type": "markdown",
      "source": [
        "NumPy 배열은 일반 파이썬 리스트보다 더 효율적이고 다양한 기능을 제공합니다.\n",
        "동일한 데이터 타입을 가진 원소들로 구성되어 있어 메모리 사용이 최적화됩니다.\n",
        "NumPy의 가장 기본적인 데이터 구조는 ndarray(n-dimensional array)입니다"
      ],
      "metadata": {
        "id": "buOaexcR58Ic"
      }
    },
    {
      "cell_type": "code",
      "execution_count": null,
      "metadata": {
        "id": "PedFJpZN5ph4"
      },
      "outputs": [],
      "source": [
        "import numpy as np"
      ]
    },
    {
      "cell_type": "markdown",
      "source": [
        "np.array() : 리스트나 튜플로부터 NumPy 배열을 생성합니다."
      ],
      "metadata": {
        "id": "-fQL8mdh6HEn"
      }
    },
    {
      "cell_type": "code",
      "source": [
        "# 1차원 배열\n",
        "arr1 = np.array([1, 2, 3, 4, 5])\n",
        "arr1"
      ],
      "metadata": {
        "id": "TefxEAwO6IBl"
      },
      "execution_count": null,
      "outputs": []
    },
    {
      "cell_type": "code",
      "source": [
        "# 2차원 배열\n",
        "arr2 = np.array([[1, 2, 3], [4, 5, 6]])\n",
        "arr2"
      ],
      "metadata": {
        "id": "mlxq0uh36JNs"
      },
      "execution_count": null,
      "outputs": []
    },
    {
      "cell_type": "markdown",
      "source": [
        "ndim : 배열의 차원 수를 반환합니다.\n"
      ],
      "metadata": {
        "id": "d_qOjhem6K8q"
      }
    },
    {
      "cell_type": "code",
      "source": [
        "arr1.ndim"
      ],
      "metadata": {
        "id": "GANeiqZP6L_w"
      },
      "execution_count": null,
      "outputs": []
    },
    {
      "cell_type": "code",
      "source": [
        "arr2.ndim"
      ],
      "metadata": {
        "id": "K3OVuKv46MvB"
      },
      "execution_count": null,
      "outputs": []
    },
    {
      "cell_type": "markdown",
      "source": [
        "shape : 배열의 형태(각 차원의 크기)를 반환합니다.\n"
      ],
      "metadata": {
        "id": "YXhqMXqj6OC1"
      }
    },
    {
      "cell_type": "code",
      "source": [
        "arr1.shape"
      ],
      "metadata": {
        "id": "qJmSuS0e6O6j"
      },
      "execution_count": null,
      "outputs": []
    },
    {
      "cell_type": "code",
      "source": [
        "arr2.shape"
      ],
      "metadata": {
        "id": "Ho0GZKSE6PtT"
      },
      "execution_count": null,
      "outputs": []
    },
    {
      "cell_type": "markdown",
      "source": [
        "dtype : 배열의 데이터 타입을 반환합니다"
      ],
      "metadata": {
        "id": "07S3fG-X6RDy"
      }
    },
    {
      "cell_type": "code",
      "source": [
        "arr1.dtype"
      ],
      "metadata": {
        "id": "YXPtZ9EU6R7O"
      },
      "execution_count": null,
      "outputs": []
    },
    {
      "cell_type": "code",
      "source": [
        "arr2.dtype"
      ],
      "metadata": {
        "id": "gmtFoTDK6Sja"
      },
      "execution_count": null,
      "outputs": []
    },
    {
      "cell_type": "markdown",
      "source": [
        "배열 인덱싱과 슬라이싱"
      ],
      "metadata": {
        "id": "qzPdF-Gt6TWu"
      }
    },
    {
      "cell_type": "markdown",
      "source": [
        "NumPy 배열의 인덱싱과 슬라이싱은 파이썬 리스트와 유사하지만 더 강력한 기능을 제\n",
        "공합니다.\n",
        "다차원 배열에서도 쉽게 원하는 데이터에 접근할 수 있습니다"
      ],
      "metadata": {
        "id": "d8rfC3C-6UNa"
      }
    },
    {
      "cell_type": "code",
      "source": [
        "arr = np.array([[1, 2, 3, 4], [5, 6, 7, 8], [9, 10, 11, 12]])\n",
        "arr"
      ],
      "metadata": {
        "id": "p-c3PoQC6VUO"
      },
      "execution_count": null,
      "outputs": []
    },
    {
      "cell_type": "markdown",
      "source": [
        "인덱싱: 배열의 특정 위치 원소에 접근합니다."
      ],
      "metadata": {
        "id": "VygfyhR86WC2"
      }
    },
    {
      "cell_type": "code",
      "source": [
        "arr[1, 2]"
      ],
      "metadata": {
        "id": "ajsBx3UX6W5x"
      },
      "execution_count": null,
      "outputs": []
    },
    {
      "cell_type": "markdown",
      "source": [
        "슬라이싱: 배열의 부분 집합을 추출합니다."
      ],
      "metadata": {
        "id": "M7E081tq6YPs"
      }
    },
    {
      "cell_type": "code",
      "source": [
        "arr[:, 1:3]"
      ],
      "metadata": {
        "id": "I_KVHBEg6ZYo"
      },
      "execution_count": null,
      "outputs": []
    },
    {
      "cell_type": "code",
      "source": [
        "bool_idx = arr > 5\n",
        "arr[bool_idx]"
      ],
      "metadata": {
        "id": "JLiZuh_76a_G"
      },
      "execution_count": null,
      "outputs": []
    },
    {
      "cell_type": "markdown",
      "source": [
        "기본 수학 연산"
      ],
      "metadata": {
        "id": "mjIV00bZ6cSh"
      }
    },
    {
      "cell_type": "markdown",
      "source": [
        "NumPy는 배열 간의 기본적인 수학 연산을 매우 효율적으로 수행합니다.\n",
        "이는 대규모 데이터셋에 대한 계산을 빠르게 처리할 수 있게 합니다"
      ],
      "metadata": {
        "id": "3FYIQtbT6dcn"
      }
    },
    {
      "cell_type": "code",
      "source": [
        "a = np.array([1, 2, 3])\n",
        "b = np.array([4, 5, 6])"
      ],
      "metadata": {
        "id": "fdb5PZGg6fDk"
      },
      "execution_count": null,
      "outputs": []
    },
    {
      "cell_type": "markdown",
      "source": [
        "NumPy는 배열 간 기본 산술 연산을 지원합니다"
      ],
      "metadata": {
        "id": "UFCQV1x56gQg"
      }
    },
    {
      "cell_type": "code",
      "source": [
        "a + b"
      ],
      "metadata": {
        "id": "y0-BXqKr6iXa"
      },
      "execution_count": null,
      "outputs": []
    },
    {
      "cell_type": "code",
      "source": [
        "a - b"
      ],
      "metadata": {
        "id": "oxoZQ4xR6jEo"
      },
      "execution_count": null,
      "outputs": []
    },
    {
      "cell_type": "code",
      "source": [
        "a * b # 원소별 곱셈"
      ],
      "metadata": {
        "id": "chXgcvmI6j_v"
      },
      "execution_count": null,
      "outputs": []
    },
    {
      "cell_type": "code",
      "source": [
        "a / b"
      ],
      "metadata": {
        "id": "3ADz58Xr6wJm"
      },
      "execution_count": null,
      "outputs": []
    },
    {
      "cell_type": "markdown",
      "source": [
        "np.square() : 배열의 각 원소를 제곱합니다."
      ],
      "metadata": {
        "id": "9fbzKwo26yfI"
      }
    },
    {
      "cell_type": "code",
      "source": [
        "np.square(a)"
      ],
      "metadata": {
        "id": "KiCJnMPH6z2I"
      },
      "execution_count": null,
      "outputs": []
    },
    {
      "cell_type": "markdown",
      "source": [
        "np.dot() : 두 배열의 내적(dot product)을 계산합니다.\n"
      ],
      "metadata": {
        "id": "8dPVxtGO608M"
      }
    },
    {
      "cell_type": "code",
      "source": [
        "np.dot(a, b)"
      ],
      "metadata": {
        "id": "45EAC8zc62Zc"
      },
      "execution_count": null,
      "outputs": []
    },
    {
      "cell_type": "markdown",
      "source": [
        "기본 통계 함수"
      ],
      "metadata": {
        "id": "XB4Dcfr8639R"
      }
    },
    {
      "cell_type": "markdown",
      "source": [
        "NumPy는 데이터 분석에 필요한 다양한 통계 함수를 제공합니다.\n",
        "이를 통해 대규모 데이터셋의 특성을 쉽게 파악할 수 있습니다."
      ],
      "metadata": {
        "id": "MJWm0edK64wd"
      }
    },
    {
      "cell_type": "code",
      "source": [
        "arr = np.array([[1, 2, 3], [4, 5, 6], [7, 8, 9]])\n",
        "arr"
      ],
      "metadata": {
        "id": "TIodsRIU65mB"
      },
      "execution_count": null,
      "outputs": []
    },
    {
      "cell_type": "markdown",
      "source": [
        "np.mean() : 배열의 평균을 계산합니다."
      ],
      "metadata": {
        "id": "SVT1W_Bx66nw"
      }
    },
    {
      "cell_type": "code",
      "source": [
        "np.mean(arr)"
      ],
      "metadata": {
        "id": "N1Wi5jRs68G9"
      },
      "execution_count": null,
      "outputs": []
    },
    {
      "cell_type": "markdown",
      "source": [
        "np.median() : 배열의 중앙값을 계산합니다.\n"
      ],
      "metadata": {
        "id": "t3oqWTFj69Lp"
      }
    },
    {
      "cell_type": "code",
      "source": [
        "np.median(arr)"
      ],
      "metadata": {
        "id": "0MMelYSq6-Ro"
      },
      "execution_count": null,
      "outputs": []
    },
    {
      "cell_type": "markdown",
      "source": [
        "np.min() , np.max() : 배열의 최소값과 최대값을 찾습니다.\n"
      ],
      "metadata": {
        "id": "f1dUpmuS6_Mn"
      }
    },
    {
      "cell_type": "code",
      "source": [
        "np.min(arr)"
      ],
      "metadata": {
        "id": "42Uk7O8G7ABn"
      },
      "execution_count": null,
      "outputs": []
    },
    {
      "cell_type": "code",
      "source": [
        "np.max(arr)\n"
      ],
      "metadata": {
        "id": "yGq0mk3l7A7q"
      },
      "execution_count": null,
      "outputs": []
    },
    {
      "cell_type": "markdown",
      "source": [
        "np.sum() : 배열의 모든 원소의 합을 계산합니다.\n"
      ],
      "metadata": {
        "id": "h__hV47c7B44"
      }
    },
    {
      "cell_type": "code",
      "source": [
        "np.sum(arr)"
      ],
      "metadata": {
        "id": "v1BtY1hP7CnZ"
      },
      "execution_count": null,
      "outputs": []
    },
    {
      "cell_type": "markdown",
      "source": [
        "axis 매개변수를 사용하여 특정 축을 따라 연산을 수행할 수 있습니다."
      ],
      "metadata": {
        "id": "eFEJcnBQ7Dqc"
      }
    },
    {
      "cell_type": "code",
      "source": [
        "np.mean(arr, axis = 0) # 각 열의 평균"
      ],
      "metadata": {
        "id": "L4JK_Bm-7HLy"
      },
      "execution_count": null,
      "outputs": []
    },
    {
      "cell_type": "code",
      "source": [
        "np.mean(arr, axis = 1) # 각 행의 평균"
      ],
      "metadata": {
        "id": "0H1wcRl47GSH"
      },
      "execution_count": null,
      "outputs": []
    },
    {
      "cell_type": "code",
      "source": [
        "np.sum(arr, axis = 0) # 각 열의 합계"
      ],
      "metadata": {
        "id": "HYkFbScL7J9p"
      },
      "execution_count": null,
      "outputs": []
    },
    {
      "cell_type": "code",
      "source": [
        "np.sum(arr, axis = 1) # 각 행의 합계"
      ],
      "metadata": {
        "id": "5n-MOXfs7L-c"
      },
      "execution_count": null,
      "outputs": []
    },
    {
      "cell_type": "markdown",
      "source": [
        "데이터 분석과 인공지능에서의 활용"
      ],
      "metadata": {
        "id": "QUVWHPWI7NEx"
      }
    },
    {
      "cell_type": "markdown",
      "source": [
        "NumPy는 데이터 분석의 기초가 되는 라이브러리입니다."
      ],
      "metadata": {
        "id": "LiFy9SV07OHY"
      }
    },
    {
      "cell_type": "markdown",
      "source": [
        "예) 간단한 데이터 분석\n",
        "이 예제에서는 간단한 온도 데이터 분석을 수행합니다.\n",
        "1. 기본 통계 계산\n",
        "2. 연속된 날짜 간 온도 변화 계산\n",
        "3. 조건에 맞는 데이터 필터링\n"
      ],
      "metadata": {
        "id": "lxSPBc2H7PYe"
      }
    },
    {
      "cell_type": "code",
      "source": [
        "import numpy as np"
      ],
      "metadata": {
        "id": "sfsR81Yj7Qp1"
      },
      "execution_count": null,
      "outputs": []
    },
    {
      "cell_type": "code",
      "source": [
        "# 일일 온도 데이터 (1주일)\n",
        "temperatures = np.array([20, 22, 23, 19, 25, 28, 24])"
      ],
      "metadata": {
        "id": "HPNbunnj7R3A"
      },
      "execution_count": null,
      "outputs": []
    },
    {
      "cell_type": "markdown",
      "source": [
        "1. 기본 통계 계산:\n",
        "np.mean() , np.max() , np.min() 을 사용하여 평균, 최고, 최저 온도를 계산합\n",
        "니다.\n"
      ],
      "metadata": {
        "id": "YhtPfu0R7VC9"
      }
    },
    {
      "cell_type": "code",
      "source": [
        "# 기본 통계\n",
        "print('평균 온도:', np.mean(temperatures))\n",
        "print('최고 온도:', np.max(temperatures))\n",
        "print('최저 온도:', np.min(temperatures))"
      ],
      "metadata": {
        "id": "WiFd03YI7Wa_"
      },
      "execution_count": null,
      "outputs": []
    },
    {
      "cell_type": "markdown",
      "source": [
        "온도 변화 계산:\n",
        "np.diff() 함수는 배열의 연속된 원소 간의 차이를 계산합니다.\n",
        "여기서는 하루 간의 온도 변화를 계산합니다. 예를 들어, [22-20, 23-22, ...] 형태의 결\n",
        "과가 나옵니다."
      ],
      "metadata": {
        "id": "ODslKSSF7YLo"
      }
    },
    {
      "cell_type": "code",
      "source": [
        "# 온도 변화\n",
        "temp_changes = np.diff(temperatures)\n",
        "print('일일 온도 변화:', temp_changes)"
      ],
      "metadata": {
        "id": "M5fixFyJ7Z5Z"
      },
      "execution_count": null,
      "outputs": []
    },
    {
      "cell_type": "markdown",
      "source": [
        ". 조건에 맞는 데이터 필터링:\n",
        "불리언 인덱싱을 사용하여 23도 이상인 날의 온도만 선택합니다"
      ],
      "metadata": {
        "id": "rshHZKnJ7bJw"
      }
    },
    {
      "cell_type": "code",
      "source": [
        "# 특정 조건에 맞는 날 찾기\n",
        "hot_days = temperatures[temperatures >= 23]\n",
        "print('23도 이상인 날의 온도:', hot_days)"
      ],
      "metadata": {
        "id": "gIcvHJhN7cJV"
      },
      "execution_count": null,
      "outputs": []
    }
  ]
}