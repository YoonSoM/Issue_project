{
  "nbformat": 4,
  "nbformat_minor": 0,
  "metadata": {
    "colab": {
      "provenance": []
    },
    "kernelspec": {
      "name": "python3",
      "display_name": "Python 3"
    },
    "language_info": {
      "name": "python"
    }
  },
  "cells": [
    {
      "cell_type": "markdown",
      "source": [
        "딕셔너리 기초"
      ],
      "metadata": {
        "id": "WaaIclsmZvmh"
      }
    },
    {
      "cell_type": "markdown",
      "source": [
        "이번 유닛에서는 파이썬의 또 다른 중요한 자료구조인 딕셔너리(dictionary)에 대해 학습\n",
        "합니다.\n",
        "딕셔너리는 데이터를 저장하고 검색하는 데 매우 효율적입니다.\n"
      ],
      "metadata": {
        "id": "Hs6UPlsWZyGL"
      }
    },
    {
      "cell_type": "markdown",
      "source": [
        "딕셔너리 생성\n"
      ],
      "metadata": {
        "id": "hGaXlASIZzLs"
      }
    },
    {
      "cell_type": "markdown",
      "source": [
        "딕셔너리는 키(key)와 값(value)의 쌍으로 이루어진 자료구조입니다.\n",
        "딕셔너리는 중괄호 {} 또는 dict() 를 사용하여 생성하며, 각 키-값 쌍은 콜론( : )으\n",
        "로 구분합니다.\n"
      ],
      "metadata": {
        "id": "Gy1Ug_U-Z0h6"
      }
    },
    {
      "cell_type": "code",
      "execution_count": null,
      "metadata": {
        "id": "4ZxsvTQpZhBr"
      },
      "outputs": [],
      "source": [
        "empty_dict = {} # 빈 딕셔너리 생성\n",
        "empty_dict"
      ]
    },
    {
      "cell_type": "code",
      "source": [
        "type(empty_dict)"
      ],
      "metadata": {
        "id": "ULNtXwfFZ3wm"
      },
      "execution_count": null,
      "outputs": []
    },
    {
      "cell_type": "code",
      "source": [
        "empty_dict2 = dict() # 빈 딕셔너리 생성\n",
        "empty_dict2"
      ],
      "metadata": {
        "id": "Kbln0iqfZ5aC"
      },
      "execution_count": null,
      "outputs": []
    },
    {
      "cell_type": "code",
      "source": [
        "type(empty_dict2)"
      ],
      "metadata": {
        "id": "tYbHPMJOZ8Yb"
      },
      "execution_count": null,
      "outputs": []
    },
    {
      "cell_type": "code",
      "source": [
        "student = {'name': 'Alice', 'age': 20, 'grade': 'A'} # 간단한 딕셔너리 생성\n",
        "student"
      ],
      "metadata": {
        "id": "Tkhnv8QhZ_Ae"
      },
      "execution_count": null,
      "outputs": []
    },
    {
      "cell_type": "code",
      "source": [
        "mixed = {'int': 42, 'float': 3.14, 'string': 'hello', 'list': [1, 2, 3]} # 다양한 자\n",
        "mixed"
      ],
      "metadata": {
        "id": "f1OPLgFPaBAi"
      },
      "execution_count": null,
      "outputs": []
    },
    {
      "cell_type": "markdown",
      "source": [
        "딕셔너리의 값에 접근하거나 수정할 때는 대괄호 [] 와 키를 사용합니다."
      ],
      "metadata": {
        "id": "R3VUfOWkaEoF"
      }
    },
    {
      "cell_type": "code",
      "source": [
        "person = {'name': 'John', 'age': 30, 'city': 'New York'}"
      ],
      "metadata": {
        "id": "IFotNsFkaEI3"
      },
      "execution_count": null,
      "outputs": []
    },
    {
      "cell_type": "markdown",
      "source": [
        "값 접근"
      ],
      "metadata": {
        "id": "x1bm0d67aO18"
      }
    },
    {
      "cell_type": "code",
      "source": [
        "person['name']"
      ],
      "metadata": {
        "id": "3cZjHCxWaQvD"
      },
      "execution_count": null,
      "outputs": []
    },
    {
      "cell_type": "code",
      "source": [
        "person['age']"
      ],
      "metadata": {
        "id": "d5jdYLq1aSCu"
      },
      "execution_count": null,
      "outputs": []
    },
    {
      "cell_type": "markdown",
      "source": [
        "값 수정"
      ],
      "metadata": {
        "id": "dOsX_Mu8aQUU"
      }
    },
    {
      "cell_type": "code",
      "source": [
        "person['age'] = 31\n",
        "person['age']"
      ],
      "metadata": {
        "id": "yH31hyepaa3x"
      },
      "execution_count": null,
      "outputs": []
    },
    {
      "cell_type": "code",
      "source": [
        "person"
      ],
      "metadata": {
        "id": "rwcntlyAacsL"
      },
      "execution_count": null,
      "outputs": []
    },
    {
      "cell_type": "markdown",
      "source": [
        "새로운 키-값 쌍 추가"
      ],
      "metadata": {
        "id": "CudW2Sc2af6L"
      }
    },
    {
      "cell_type": "code",
      "source": [
        "person['job'] = 'Engineer'\n",
        "person"
      ],
      "metadata": {
        "id": "A5YekrGTagcT"
      },
      "execution_count": null,
      "outputs": []
    },
    {
      "cell_type": "markdown",
      "source": [
        "키-값 쌍 삭제\n"
      ],
      "metadata": {
        "id": "9kMnhSm7aiJt"
      }
    },
    {
      "cell_type": "code",
      "source": [
        "del person['city']\n",
        "person"
      ],
      "metadata": {
        "id": "2XYiTQRSajHZ"
      },
      "execution_count": null,
      "outputs": []
    },
    {
      "cell_type": "markdown",
      "source": [
        "딕셔너리 키의 특성"
      ],
      "metadata": {
        "id": "o_o3UGlcaktJ"
      }
    },
    {
      "cell_type": "markdown",
      "source": [
        "딕셔너리의 키는 변경 불가능한(immutable) 자료형만 사용할 수 있습니다.\n"
      ],
      "metadata": {
        "id": "j3NRuHu1aloV"
      }
    },
    {
      "cell_type": "markdown",
      "source": [
        "올바른 키 사용\n"
      ],
      "metadata": {
        "id": "3Yv79mgVapMO"
      }
    },
    {
      "cell_type": "code",
      "source": [
        "valid_dict = {\n",
        "42: 'answer',\n",
        "'pi': 3.14,\n",
        "(1, 2): 'tuple key\n",
        "}\n",
        "valid_dict"
      ],
      "metadata": {
        "id": "hhTdcGEjaqyo"
      },
      "execution_count": null,
      "outputs": []
    },
    {
      "cell_type": "markdown",
      "source": [
        "잘못된 키 사용 ( TypeError 발생)\n"
      ],
      "metadata": {
        "id": "8FfppLo2atsm"
      }
    },
    {
      "cell_type": "code",
      "source": [
        "invalid_dict = {[1, 2]: 'list key'} # 리스트는 키로 사용할 수 없음"
      ],
      "metadata": {
        "id": "Oc1XWoeeaugL"
      },
      "execution_count": null,
      "outputs": []
    },
    {
      "cell_type": "markdown",
      "source": [
        "데이터 분석과 인공지능에서의 활용"
      ],
      "metadata": {
        "id": "taMQqxkbaw_h"
      }
    },
    {
      "cell_type": "markdown",
      "source": [
        "딕셔너리는 데이터 분석과 인공지능 분야에서 다양하게 활용됩니다"
      ],
      "metadata": {
        "id": "Oq23wfBNaxtj"
      }
    },
    {
      "cell_type": "markdown",
      "source": [
        "예) 간단한 텍스트 감정 분석 모델"
      ],
      "metadata": {
        "id": "jG53OpFxaybM"
      }
    },
    {
      "cell_type": "markdown",
      "source": [
        "이 버전은 단순히 하나의 단어에 대한 감정 점수를 확인하고, 새로운 단어를 추가하\n",
        "는 과정을 보여줍니다.\n",
        "이는 감정 분석 모델의 기본 구성 요소를 매우 간단하게 나타낸 것입니다"
      ],
      "metadata": {
        "id": "BCSlRJ2vazQC"
      }
    },
    {
      "cell_type": "code",
      "source": [
        "sentiment_scores = {\n",
        "'good': 1,\n",
        "'great': 2,\n",
        "'excellent': 2,\n",
        "'bad': -1,\n",
        "'terrible': -2\n",
        "}"
      ],
      "metadata": {
        "id": "306iNpu_a0Xc"
      },
      "execution_count": null,
      "outputs": []
    },
    {
      "cell_type": "code",
      "source": [
        "sentiment_scores['good'] # 단어 'good'의 감정 점수 확인"
      ],
      "metadata": {
        "id": "jPQcQRv-a2sQ"
      },
      "execution_count": null,
      "outputs": []
    },
    {
      "cell_type": "code",
      "source": [
        "sentiment_scores['amazing'] = 3 # 새로운 단어 추가\n",
        "sentiment_scores"
      ],
      "metadata": {
        "id": "ybadWv7aa3pN"
      },
      "execution_count": null,
      "outputs": []
    },
    {
      "cell_type": "markdown",
      "source": [
        "딕셔너리 활용\n"
      ],
      "metadata": {
        "id": "sOF58Huza4rn"
      }
    },
    {
      "cell_type": "markdown",
      "source": [
        "이번 유닛에서는 딕셔너리를 더 효과적으로 활용하는 방법에 대해 학습합니다"
      ],
      "metadata": {
        "id": "qBRufSTVa5bG"
      }
    },
    {
      "cell_type": "markdown",
      "source": [
        "in 연산자"
      ],
      "metadata": {
        "id": "Y2IA6z2da6oa"
      }
    },
    {
      "cell_type": "markdown",
      "source": [
        "in 연산자를 사용하여 특정 키가 딕셔너리에 있는지 확인할 수 있습니다"
      ],
      "metadata": {
        "id": "eZ4nKCDna7h_"
      }
    },
    {
      "cell_type": "code",
      "source": [
        "person = {'name': 'John', 'age': 30, 'city': 'New York'}"
      ],
      "metadata": {
        "id": "MoKay7uTa8iD"
      },
      "execution_count": null,
      "outputs": []
    },
    {
      "cell_type": "code",
      "source": [
        "'name' in person"
      ],
      "metadata": {
        "id": "O3lO4rVXa-UQ"
      },
      "execution_count": null,
      "outputs": []
    },
    {
      "cell_type": "code",
      "source": [
        "'gender' in person"
      ],
      "metadata": {
        "id": "GHAz-nCHa_Ux"
      },
      "execution_count": null,
      "outputs": []
    },
    {
      "cell_type": "markdown",
      "source": [
        "딕셔너리 메서드"
      ],
      "metadata": {
        "id": "UXXHuh30bARt"
      }
    },
    {
      "cell_type": "markdown",
      "source": [
        "자주 사용되는 딕셔너리 메서드들을 살펴봅시다"
      ],
      "metadata": {
        "id": "07BBOhsAbBsd"
      }
    },
    {
      "cell_type": "code",
      "source": [
        "person = {'name': 'John', 'age': 30, 'city': 'New York'}"
      ],
      "metadata": {
        "id": "oYlkpOGqbCoc"
      },
      "execution_count": null,
      "outputs": []
    },
    {
      "cell_type": "markdown",
      "source": [
        "keys()"
      ],
      "metadata": {
        "id": "XxQxGWrlbDq-"
      }
    },
    {
      "cell_type": "markdown",
      "source": [
        "모든 키를 반환합니다."
      ],
      "metadata": {
        "id": "w60p4_qebG_J"
      }
    },
    {
      "cell_type": "code",
      "source": [
        "person.keys()"
      ],
      "metadata": {
        "id": "CEe-JAcXbWL-"
      },
      "execution_count": null,
      "outputs": []
    },
    {
      "cell_type": "markdown",
      "source": [
        "values()"
      ],
      "metadata": {
        "id": "geLT3kHRbem6"
      }
    },
    {
      "cell_type": "markdown",
      "source": [
        "모든 값을 반환합니다.\n"
      ],
      "metadata": {
        "id": "e2_4Kv8DbfwV"
      }
    },
    {
      "cell_type": "code",
      "source": [
        "person.values()\n"
      ],
      "metadata": {
        "id": "N13wOQltbgxX"
      },
      "execution_count": null,
      "outputs": []
    },
    {
      "cell_type": "markdown",
      "source": [
        "items()"
      ],
      "metadata": {
        "id": "eyoHsHozbhfs"
      }
    },
    {
      "cell_type": "markdown",
      "source": [
        "모든 키-값 쌍을 반환합니다.\n"
      ],
      "metadata": {
        "id": "90mv6c_zbiVC"
      }
    },
    {
      "cell_type": "code",
      "source": [
        "person.items()"
      ],
      "metadata": {
        "id": "If1y05UVbjfW"
      },
      "execution_count": null,
      "outputs": []
    },
    {
      "cell_type": "markdown",
      "source": [
        "get()\n"
      ],
      "metadata": {
        "id": "Qmls0wl2blB-"
      }
    },
    {
      "cell_type": "markdown",
      "source": [
        "키로 값을 가져옵니다.\n",
        "만약 키가 있으면, 해당 값을 반환합니다.\n",
        "만약 키가 없으면, 기본값을 반환합니다."
      ],
      "metadata": {
        "id": "HSzbwSo5bl00"
      }
    },
    {
      "cell_type": "code",
      "source": [
        "person.get('age', 0) # 키가 있으면 해당 값 반환"
      ],
      "metadata": {
        "id": "v2IRkAyRbngG"
      },
      "execution_count": null,
      "outputs": []
    },
    {
      "cell_type": "code",
      "source": [
        "person.get('height', 170) # 키가 없으면 기본값 170 반환"
      ],
      "metadata": {
        "id": "qCu65vlFbojG"
      },
      "execution_count": null,
      "outputs": []
    },
    {
      "cell_type": "markdown",
      "source": [
        "update()"
      ],
      "metadata": {
        "id": "K6JnJTbXbppy"
      }
    },
    {
      "cell_type": "markdown",
      "source": [
        "여러 개의 키-값 쌍을 한 번에 추가하거나 수정하는 방법입니다"
      ],
      "metadata": {
        "id": "StvkJ4bhbqdp"
      }
    },
    {
      "cell_type": "code",
      "source": [
        "person.update({'job': 'Engineer', 'age': 31})\n",
        "person"
      ],
      "metadata": {
        "id": "IW5S1a7Bbrau"
      },
      "execution_count": null,
      "outputs": []
    },
    {
      "cell_type": "markdown",
      "source": [
        "딕셔너리 순회\n"
      ],
      "metadata": {
        "id": "q_YBzuI3bu_b"
      }
    },
    {
      "cell_type": "markdown",
      "source": [
        "딕셔너리의 모든 키-값 쌍을 순회하는 방법을 알아봅시다.\n"
      ],
      "metadata": {
        "id": "d-VRNg-Dbvsi"
      }
    },
    {
      "cell_type": "code",
      "source": [
        "fruits = {'apple': 3, 'banana': 2, 'orange': 5}"
      ],
      "metadata": {
        "id": "fFHqohXZbwUS"
      },
      "execution_count": null,
      "outputs": []
    },
    {
      "cell_type": "code",
      "source": [
        "for fruit, quantity in fruits.items():\n",
        "print(fruit, quantity)\n"
      ],
      "metadata": {
        "id": "bMXL3ZfVbxJn"
      },
      "execution_count": null,
      "outputs": []
    },
    {
      "cell_type": "markdown",
      "source": [
        "딕셔너리의 특징\n"
      ],
      "metadata": {
        "id": "ZPomCsKHbx5v"
      }
    },
    {
      "cell_type": "markdown",
      "source": [
        "순서가 없는(unordered) 자료형"
      ],
      "metadata": {
        "id": "hxdRIlwBb0-Q"
      }
    },
    {
      "cell_type": "markdown",
      "source": [
        "딕셔너리는 원소(키-값 쌍)를 입력한 순서대로 저장하거나 출력하지 않습니다.\n",
        "순서가 다르더라도 포함된 원소(키-값 쌍)가 같다면 두 딕셔너리는 동일한 것으로 간\n",
        "주합니다.\n"
      ],
      "metadata": {
        "id": "rxqg2bOzb17W"
      }
    },
    {
      "cell_type": "markdown",
      "source": [
        "순서가 없는 딕셔너리의 특징"
      ],
      "metadata": {
        "id": "9hvt7qZyb2kc"
      }
    },
    {
      "cell_type": "markdown",
      "source": [
        "인덱스로 접근할 수 없습니다. (예: dict1[0] 불가능)\n",
        "원소(키-값 쌍)의 순서가 중요하지 않은 데이터를 다룰 때 유용합니다.\n",
        "검색이 빠릅니다. (순서를 유지할 필요가 없어 내부적으로 효율적인 구조 사용)"
      ],
      "metadata": {
        "id": "K8m61OxQb3ak"
      }
    },
    {
      "cell_type": "code",
      "source": [
        "\n",
        "dict1 = {'a': 1, 'b': 2, 'c': 3}\n",
        "dict2 = {'c': 3, 'a': 1, 'b': 2}"
      ],
      "metadata": {
        "id": "ChKzhR-Nb4du"
      },
      "execution_count": null,
      "outputs": []
    },
    {
      "cell_type": "code",
      "source": [
        "dict1"
      ],
      "metadata": {
        "id": "aVAqcvEwb5JD"
      },
      "execution_count": null,
      "outputs": []
    },
    {
      "cell_type": "code",
      "source": [
        "dict2"
      ],
      "metadata": {
        "id": "L0-qn-lDb6p8"
      },
      "execution_count": null,
      "outputs": []
    },
    {
      "cell_type": "code",
      "source": [
        "dict1 == dict2"
      ],
      "metadata": {
        "id": "j9tCB8m-b7fj"
      },
      "execution_count": null,
      "outputs": []
    },
    {
      "cell_type": "markdown",
      "source": [
        "변경 가능(mutable)한 자료형"
      ],
      "metadata": {
        "id": "_zIR3zKIb8il"
      }
    },
    {
      "cell_type": "markdown",
      "source": [
        "딕셔너리는 변경 가능(mutable)한 자료형으로, 생성 후에도 내용을 수정할 수 있다\n",
        "는 의미입니다."
      ],
      "metadata": {
        "id": "L6Qvp-fUb9NQ"
      }
    },
    {
      "cell_type": "markdown",
      "source": [
        "키의 유일성"
      ],
      "metadata": {
        "id": "rknYYePpb-E8"
      }
    },
    {
      "cell_type": "markdown",
      "source": [
        "딕셔너리에서 키는 유일해야 합니다.\n",
        "동일한 키를 사용하면 나중 값이 이전 값을 덮어씁니다.\n"
      ],
      "metadata": {
        "id": "Ko9kDzVsb--k"
      }
    },
    {
      "cell_type": "code",
      "source": [
        "dict3 = {'a':1, 'a':2} # 바람직하지 않음"
      ],
      "metadata": {
        "id": "c3IL2R-gcAAc"
      },
      "execution_count": null,
      "outputs": []
    },
    {
      "cell_type": "code",
      "source": [
        "dict3"
      ],
      "metadata": {
        "id": "2KOCQfa5cA-w"
      },
      "execution_count": null,
      "outputs": []
    },
    {
      "cell_type": "code",
      "source": [
        "dict3['a'] = 3"
      ],
      "metadata": {
        "id": "euW2DzubcDo1"
      },
      "execution_count": null,
      "outputs": []
    },
    {
      "cell_type": "code",
      "source": [
        ":\n",
        "dict3\n"
      ],
      "metadata": {
        "id": "fXPe2TiBcEUD"
      },
      "execution_count": null,
      "outputs": []
    },
    {
      "cell_type": "markdown",
      "source": [
        "키의 자료형 제한\n"
      ],
      "metadata": {
        "id": "c_gWuZcIcFY4"
      }
    },
    {
      "cell_type": "markdown",
      "source": [
        "딕셔너리의 키는 반드시 변경할 수 없는(immutable) 자료형이어야 합니다.\n",
        "키로 문자열, 수, 튜플 등은 가능합니다.\n",
        "키로 리스트나 딕셔너리는 사용할 수 없습니다."
      ],
      "metadata": {
        "id": "grtR8sKpcGK1"
      }
    },
    {
      "cell_type": "code",
      "source": [
        "dict4 = {\n",
        "'a':100,\n",
        "1:200,\n",
        "(2, 3): 300\n",
        "}\n",
        "dict4\n"
      ],
      "metadata": {
        "id": "R3JEGX-ZcHD0"
      },
      "execution_count": null,
      "outputs": []
    },
    {
      "cell_type": "code",
      "source": [
        "dict4 = {\n",
        "'a':100,\n",
        "1:200,\n",
        "[2, 3]: 300\n",
        "}\n",
        "dict4"
      ],
      "metadata": {
        "id": "gJlraGIScH8p"
      },
      "execution_count": null,
      "outputs": []
    },
    {
      "cell_type": "markdown",
      "source": [
        "데이터 분석과 인공지능에서의 활용"
      ],
      "metadata": {
        "id": "IhnqnlDlcJMZ"
      }
    },
    {
      "cell_type": "markdown",
      "source": [
        "딕셔너리는 데이터 분석과 인공지능 분야에서 데이터를 효율적으로 관리하고 처리하는\n",
        "데 사용됩니다."
      ],
      "metadata": {
        "id": "VdKizzbGcJ3Y"
      }
    },
    {
      "cell_type": "markdown",
      "source": [
        "예) 간단한 영어-한국어 번역기"
      ],
      "metadata": {
        "id": "UmuM9obAcLQX"
      }
    },
    {
      "cell_type": "code",
      "source": [
        "translator = {\n",
        "'apple': '사과',\n",
        "'banana': '바나나',\n",
        "'car': '자동차',\n",
        "'dog': '개'\n",
        "}"
      ],
      "metadata": {
        "id": "486bNp3ccMFb"
      },
      "execution_count": null,
      "outputs": []
    },
    {
      "cell_type": "code",
      "source": [
        "word = 'apple' # 단어 번역하기\n",
        "korean_word = translator.get(word, '번역 없음')\n",
        "word, korean_word"
      ],
      "metadata": {
        "id": "qwpjEmPTcNCN"
      },
      "execution_count": null,
      "outputs": []
    },
    {
      "cell_type": "code",
      "source": [
        "translator['cat'] = '고양이' # 새로운 단어 추가\n",
        "translator"
      ],
      "metadata": {
        "id": "68zUqznMcOZG"
      },
      "execution_count": null,
      "outputs": []
    },
    {
      "cell_type": "code",
      "source": [
        "word = 'computer' # 존재하지 않는 단어\n",
        "korean_word = translator.get(word, '번역 없음')\n",
        "word, korean_word"
      ],
      "metadata": {
        "id": "G4t7rre7cPfb"
      },
      "execution_count": null,
      "outputs": []
    }
  ]
}