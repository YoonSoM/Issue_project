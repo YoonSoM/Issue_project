{
  "nbformat": 4,
  "nbformat_minor": 0,
  "metadata": {
    "colab": {
      "provenance": []
    },
    "kernelspec": {
      "name": "python3",
      "display_name": "Python 3"
    },
    "language_info": {
      "name": "python"
    }
  },
  "cells": [
    {
      "cell_type": "markdown",
      "source": [],
      "metadata": {
        "id": "U2Ui9CfcJKKx"
      }
    },
    {
      "cell_type": "markdown",
      "source": [
        "Pandas 소개 및 설치"
      ],
      "metadata": {
        "id": "aheZg82pJLPf"
      }
    },
    {
      "cell_type": "markdown",
      "source": [
        "Pandas는 데이터 분석을 위한 고성능의 사용하기 쉬운 데이터 구조와 도구를 제공합니\n",
        "다.\n",
        "특히 표 형태의 데이터를 다루는 데 매우 효과적입니다"
      ],
      "metadata": {
        "id": "wa66ZfrrJMOm"
      }
    },
    {
      "cell_type": "markdown",
      "source": [
        "Pandas 임포트:"
      ],
      "metadata": {
        "id": "En7GtGU0JNF2"
      }
    },
    {
      "cell_type": "markdown",
      "source": [
        "여기서 pd 는 pandas의 일반적인 별칭(alias)입니다.\n",
        "이를 통해 pandas 대신 pd 로 간단히 참조할 수 있습니다.\n",
        "import pandas as pd"
      ],
      "metadata": {
        "id": "RxvUJhZsJN9C"
      }
    },
    {
      "cell_type": "markdown",
      "source": [
        "Pandas의 주요 데이터 구조: Series와 DataFrame"
      ],
      "metadata": {
        "id": "qsCjnp1eJPV3"
      }
    },
    {
      "cell_type": "markdown",
      "source": [
        "Pandas의 두 가지 주요 데이터 구조는 Series와 DataFrame입니다.\n",
        "1. Series: 1차원 레이블된 배열\n",
        "2. DataFrame: 2차원 레이블된 데이터 구조 (표와 유사)\n"
      ],
      "metadata": {
        "id": "eXSvmAEYJQ_E"
      }
    },
    {
      "cell_type": "markdown",
      "source": [
        "Series\n"
      ],
      "metadata": {
        "id": "v9CJ21fmJR6z"
      }
    },
    {
      "cell_type": "markdown",
      "source": [
        "1차원 레이블된 배열입니다"
      ],
      "metadata": {
        "id": "a5AAkqmvJSxk"
      }
    },
    {
      "cell_type": "code",
      "source": [
        "import pandas as pd\n",
        "import numpy as np"
      ],
      "metadata": {
        "id": "_vWcGJz5JTlI"
      },
      "execution_count": null,
      "outputs": []
    },
    {
      "cell_type": "markdown",
      "source": [
        "pd.Series() : 1차원 데이터를 저장하는 Pandas의 데이터 구조"
      ],
      "metadata": {
        "id": "UFCK_mPbJUkh"
      }
    },
    {
      "cell_type": "code",
      "execution_count": null,
      "metadata": {
        "id": "nZzSUL9vJHkQ"
      },
      "outputs": [],
      "source": [
        "s = pd.Series([1, 3, 5, 7, 6, 8])\n",
        "s"
      ]
    },
    {
      "cell_type": "markdown",
      "source": [
        "인덱스가 있는 Series 생성"
      ],
      "metadata": {
        "id": "pFFAlPnmJYxi"
      }
    },
    {
      "cell_type": "code",
      "source": [
        "s2 = pd.Series([1, 2, 3, 4], index = ['a', 'b', 'c', 'd'])\n",
        "s2"
      ],
      "metadata": {
        "id": "Gz4vOdzdJVjA"
      },
      "execution_count": null,
      "outputs": []
    },
    {
      "cell_type": "markdown",
      "source": [
        "Series의 주요 속성\n",
        "values 속성: Series의 데이터 값들을 NumPy 배열로 반환\n",
        "values 는 Series에 저장된 실제 데이터 값들을 NumPy 배열 형태로 제공합니\n",
        "다."
      ],
      "metadata": {
        "id": "bU4i928wJdnC"
      }
    },
    {
      "cell_type": "markdown",
      "source": [
        "index 속성: Series의 인덱스를 반환\n",
        "index 는 Series의 각 데이터 포인트에 대한 라벨을 제공합니다.\n",
        "dtype 속성: Series의 데이터 타입을 반환\n",
        "dtype 은 Series에 저장된 데이터의 타입을 나타냅니다"
      ],
      "metadata": {
        "id": "MBbO4sdUJe9J"
      }
    },
    {
      "cell_type": "code",
      "source": [
        "s2.values"
      ],
      "metadata": {
        "id": "9h09DFNNJgNx"
      },
      "execution_count": null,
      "outputs": []
    },
    {
      "cell_type": "code",
      "source": [
        "s2.index"
      ],
      "metadata": {
        "id": "UrNC1mI4JhGR"
      },
      "execution_count": null,
      "outputs": []
    },
    {
      "cell_type": "code",
      "source": [
        "s2.dtype"
      ],
      "metadata": {
        "id": "nF2n6iEIJjuP"
      },
      "execution_count": null,
      "outputs": []
    },
    {
      "cell_type": "markdown",
      "source": [
        "DataFrame"
      ],
      "metadata": {
        "id": "KgMwWTGcJuOc"
      }
    },
    {
      "cell_type": "markdown",
      "source": [
        "2차원 레이블된 데이터 구조입니다. 표와 유사한 형태입니다.\n",
        "pd.DataFrame() : 2차원 데이터를 저장하는 Pandas의 주요 데이터 구조\n"
      ],
      "metadata": {
        "id": "w1UAJMYTJv_b"
      }
    },
    {
      "cell_type": "code",
      "source": [
        "data = {\n",
        "    'Name': ['John', 'Anna', 'Peter', 'Linda'],\n",
        "    'Age': [28, 34, 29, 32],\n",
        "    'City': ['New York', 'Paris', 'Berlin', 'London']\n",
        "}\n",
        "df = pd.DataFrame(data)\n",
        "df"
      ],
      "metadata": {
        "id": "Qw3sIb8lM2wu"
      },
      "execution_count": null,
      "outputs": []
    },
    {
      "cell_type": "markdown",
      "source": [
        "CSV 파일에서 DataFrame 생성\n",
        "pd.read_csv() : CSV 파일을 읽어 DataFrame으로 변환하는 함수\n",
        "df = pd.read_csv('example.csv')"
      ],
      "metadata": {
        "id": "LNucaGqnM9Cz"
      }
    },
    {
      "cell_type": "markdown",
      "source": [
        "df.info() : DataFrame의 요약 정보를 출력하는 메서드\n"
      ],
      "metadata": {
        "id": "tKqR01MPNEvH"
      }
    },
    {
      "cell_type": "code",
      "source": [
        "df.info()"
      ],
      "metadata": {
        "id": "sUR4XPvWNGA3"
      },
      "execution_count": null,
      "outputs": []
    },
    {
      "cell_type": "markdown",
      "source": [
        "df.head() : DataFrame의 처음 몇 행을 반환하는 메서드 (기본값은 5행)"
      ],
      "metadata": {
        "id": "VATPCgC7NHEe"
      }
    },
    {
      "cell_type": "code",
      "source": [
        "df.head()"
      ],
      "metadata": {
        "id": "6ctm8e7rNIva"
      },
      "execution_count": null,
      "outputs": []
    },
    {
      "cell_type": "markdown",
      "source": [
        "df.describe() : 수치형 열의 기본 통계 정보를 계산하는 메서드"
      ],
      "metadata": {
        "id": "dfJo8sooNLMQ"
      }
    },
    {
      "cell_type": "code",
      "source": [
        "df.describe()"
      ],
      "metadata": {
        "id": "ycjyVuUSNNGS"
      },
      "execution_count": null,
      "outputs": []
    },
    {
      "cell_type": "markdown",
      "source": [
        "DataFrame의 주요 속성\n",
        "values 속성: DataFrame의 데이터 값들을 2D NumPy 배열로 반환\n",
        "values 는 DataFrame에 저장된 실제 데이터 값들을 2차원 NumPy 배열 형태\n",
        "로 제공합니다.\n",
        "index 속성: DataFrame의 행 인덱스를 반환\n",
        "index 는 DataFrame의 각 행에 대한 라벨을 제공합니다.\n",
        "columns 속성: DataFrame의 열 이름을 반환\n",
        "columns 는 DataFrame의 각 열에 대한 이름을 제공합니다.\n",
        "dtypes 속성: 각 열의 데이터 타입을 반환\n",
        "dtypes 는 DataFrame의 각 열에 저장된 데이터의 타입을 나타냅니다.\n",
        "shape 속성: DataFrame의 차원(행과 열의 수)을 튜플로 반환\n",
        "shape 는 DataFrame의 행 수와 열 수를 (행, 열) 형태의 튜플로 제공합니다."
      ],
      "metadata": {
        "id": "MZHKun_PNO3z"
      }
    },
    {
      "cell_type": "code",
      "source": [
        "df = pd.DataFrame({\n",
        "    'A': [1, 2, 3],\n",
        "    'B': ['a', 'b', 'c'],\n",
        "    'C': [4.5, 5.5, 6.5]\n",
        "})\n",
        "df"
      ],
      "metadata": {
        "id": "Pmn_mm6MNTMK"
      },
      "execution_count": null,
      "outputs": []
    },
    {
      "cell_type": "code",
      "source": [
        "df.values"
      ],
      "metadata": {
        "id": "KnZ3XRZfNYMZ"
      },
      "execution_count": null,
      "outputs": []
    },
    {
      "cell_type": "code",
      "source": [
        "df.index"
      ],
      "metadata": {
        "id": "Eo32zKR3NZXs"
      },
      "execution_count": null,
      "outputs": []
    },
    {
      "cell_type": "code",
      "source": [
        "df.columns"
      ],
      "metadata": {
        "id": "K8BwYRhGNawF"
      },
      "execution_count": null,
      "outputs": []
    },
    {
      "cell_type": "code",
      "source": [
        "df.dtypes"
      ],
      "metadata": {
        "id": "B7DkUIPgNbsL"
      },
      "execution_count": null,
      "outputs": []
    },
    {
      "cell_type": "code",
      "source": [
        "df.shape"
      ],
      "metadata": {
        "id": "TO3lG4M0Ncw9"
      },
      "execution_count": null,
      "outputs": []
    },
    {
      "cell_type": "markdown",
      "source": [
        "데이터 선택 및 필터링\n",
        "Pandas는 데이터를 쉽게 선택하고 필터링할 수 있는 다양한 방법을 제공합니다.\n"
      ],
      "metadata": {
        "id": "w0Qn4nDANeEe"
      }
    },
    {
      "cell_type": "code",
      "source": [
        "data = {\n",
        "    'Name': ['John', 'Anna', 'Peter', 'Linda'],\n",
        "    'Age': [28, 34, 29, 32],\n",
        "    'City': ['New York', 'Paris', 'Berlin', 'London']\n",
        "}\n",
        "df = pd.DataFrame(data)\n",
        "df"
      ],
      "metadata": {
        "id": "B3QExx6pNfoK"
      },
      "execution_count": null,
      "outputs": []
    },
    {
      "cell_type": "code",
      "source": [
        "# 열 선택\n",
        "df['Age']"
      ],
      "metadata": {
        "id": "PD1T7aQlNk1F"
      },
      "execution_count": null,
      "outputs": []
    },
    {
      "cell_type": "code",
      "source": [
        "# 열 선택\n",
        "df[['Age']]"
      ],
      "metadata": {
        "id": "WdSmu1RrNlqe"
      },
      "execution_count": null,
      "outputs": []
    },
    {
      "cell_type": "code",
      "source": [
        "# 여러 열 선택\n",
        "df[['Name', 'City']]"
      ],
      "metadata": {
        "id": "hjEMAV9qNnkX"
      },
      "execution_count": null,
      "outputs": []
    },
    {
      "cell_type": "code",
      "source": [
        "# 조건부 필터링\n",
        "young_people = df[df['Age'] < 30]\n",
        "young_people"
      ],
      "metadata": {
        "id": "dsqxTTBKNo40"
      },
      "execution_count": null,
      "outputs": []
    },
    {
      "cell_type": "markdown",
      "source": [
        "데이터 처리 및 변환\n",
        "Pandas는 데이터 처리와 변환을 위한 다양한 기능을 제공합니다"
      ],
      "metadata": {
        "id": "7HLeNOj8NqDb"
      }
    },
    {
      "cell_type": "code",
      "source": [
        "df"
      ],
      "metadata": {
        "id": "cNhDep1WNr9a"
      },
      "execution_count": null,
      "outputs": []
    },
    {
      "cell_type": "code",
      "source": [
        "# 새로운 열 추가\n",
        "df['Country'] = ['USA', 'France', 'Germany', 'UK']\n",
        "df"
      ],
      "metadata": {
        "id": "T4mghy1PNtMA"
      },
      "execution_count": null,
      "outputs": []
    },
    {
      "cell_type": "markdown",
      "source": [
        "df.sort_values() : 지정된 열을 기준으로 DataFrame을 정렬하는 메서드\n"
      ],
      "metadata": {
        "id": "BbjhRCaeNu0F"
      }
    },
    {
      "cell_type": "code",
      "source": [
        "df.sort_values('Age')"
      ],
      "metadata": {
        "id": "XAJNnb6iNvtc"
      },
      "execution_count": null,
      "outputs": []
    },
    {
      "cell_type": "code",
      "source": [
        "df"
      ],
      "metadata": {
        "id": "qDFonXO-Nxc9"
      },
      "execution_count": null,
      "outputs": []
    },
    {
      "cell_type": "markdown",
      "source": [
        "df.dropna() : 결측치가 있는 행을 제거하는 메서드"
      ],
      "metadata": {
        "id": "i5ZlZlQ-NyTz"
      }
    },
    {
      "cell_type": "code",
      "source": [
        "data = {\n",
        "    'Name': ['John', 'Anna', 'Peter', 'Linda'],\n",
        "    'Age': [28, None, 29, 32], # None은 파이썬의 널(null) 값을 나타냅니다.\n",
        "    'City': ['New York', 'Paris', 'Berlin', 'London'],\n",
        "    'Country': ['USA', 'France', 'Germany', 'UK']\n",
        "}\n",
        "df = pd.DataFrame(data)\n",
        "df"
      ],
      "metadata": {
        "id": "F8Fy4xgjNzpg"
      },
      "execution_count": null,
      "outputs": []
    },
    {
      "cell_type": "code",
      "source": [
        "df.dropna() # df.dropna(): 결측치가 있는 행을 제거하는 메서드"
      ],
      "metadata": {
        "id": "I9zuKrY_N5O9"
      },
      "execution_count": null,
      "outputs": []
    },
    {
      "cell_type": "markdown",
      "source": [
        "df.fillna() : 결측치를 지정된 값으로 채우는 메서드\n"
      ],
      "metadata": {
        "id": "z9W2_2lbN6WI"
      }
    },
    {
      "cell_type": "code",
      "source": [
        "df.fillna(df['Age'].mean()) # df.fillna(): 결측치를 지정된 값으로 채우는 메서드"
      ],
      "metadata": {
        "id": "eO8cmo9VN7kB"
      },
      "execution_count": null,
      "outputs": []
    },
    {
      "cell_type": "markdown",
      "source": [
        "데이터 분석과 인공지능에서의 활용\n",
        "Pandas는 NumPy와 더불어 데이터 분석의 기초가 되는 라이브러리입니다.\n",
        "예) 간단한 데이터 분석\n",
        "이 예제는 Pandas를 사용하여 다음과 같은 기본적인 데이터 분석 작업을 수행합니\n",
        "다:\n",
        "1. 기본 통계 계산\n",
        "2. 변수 간 상관관계 계산\n",
        "3. 데이터 범주화"
      ],
      "metadata": {
        "id": "pStqWNGsN9Xz"
      }
    },
    {
      "cell_type": "code",
      "source": [
        "import pandas as pd"
      ],
      "metadata": {
        "id": "LL8rsj25N-dh"
      },
      "execution_count": null,
      "outputs": []
    },
    {
      "cell_type": "code",
      "source": [
        "data = {\n",
        "    'Name': ['John', 'Anna', 'Peter', 'Linda', 'Tom', 'Jane', 'Mike', 'Elizabeth'],\n",
        "    'Age': [28, 34, 29, 32, 31, 27, 35, 30],\n",
        "    'City': ['New York', 'Paris', 'Berlin', 'London', 'Tokyo', 'Sydney', 'Toronto',\n",
        "    'Salary': [50000, 60000, 55000, 65000, 70000, 52000, 58000, 62000]\n",
        "}\n",
        "df = pd.DataFrame(data)"
      ],
      "metadata": {
        "id": "WTh6vNY1OBMO"
      },
      "execution_count": null,
      "outputs": []
    },
    {
      "cell_type": "markdown",
      "source": [
        "1. 기본 통계 계산:"
      ],
      "metadata": {
        "id": "xBfiOCWXOGK7"
      }
    },
    {
      "cell_type": "code",
      "source": [
        "# 기본 통계\n",
        "df.describe()"
      ],
      "metadata": {
        "id": "rQrgqPNnOHIS"
      },
      "execution_count": null,
      "outputs": []
    },
    {
      "cell_type": "markdown",
      "source": [
        "1. 변수 간 상관관계 계산\n",
        "df['column'].corr() : 두 열 간의 상관계수를 계산하는 메서드\n"
      ],
      "metadata": {
        "id": "6r39uekpOIXw"
      }
    },
    {
      "cell_type": "code",
      "source": [
        "# 상관관계\n",
        "df['Age'].corr(df['Salary'])"
      ],
      "metadata": {
        "id": "8-6b3RzyOJ49"
      },
      "execution_count": null,
      "outputs": []
    },
    {
      "cell_type": "code",
      "source": [
        "df['Salary'].corr(df['Age'])"
      ],
      "metadata": {
        "id": "NR6HOdvKOK5x"
      },
      "execution_count": null,
      "outputs": []
    },
    {
      "cell_type": "markdown",
      "source": [
        "1. 데이터 범주화\n",
        "pd.cut() : 연속형 변수를 범주형 변수로 변환하는 함수"
      ],
      "metadata": {
        "id": "nCazr0D8OMtw"
      }
    },
    {
      "cell_type": "code",
      "source": [
        "# 나이 구간별 평균 급여\n",
        "df['Age_Group'] = pd.cut(df['Age'], bins = [25, 30, 35, 40], labels = ['26-30', '31-\n",
        "df"
      ],
      "metadata": {
        "id": "xd0DaFIOOPmB"
      },
      "execution_count": null,
      "outputs": []
    }
  ]
}