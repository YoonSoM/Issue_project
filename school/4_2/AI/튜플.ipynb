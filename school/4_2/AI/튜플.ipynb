{
  "nbformat": 4,
  "nbformat_minor": 0,
  "metadata": {
    "colab": {
      "provenance": []
    },
    "kernelspec": {
      "name": "python3",
      "display_name": "Python 3"
    },
    "language_info": {
      "name": "python"
    }
  },
  "cells": [
    {
      "cell_type": "markdown",
      "source": [
        "이번 유닛에서는 파이썬의 또 다른 중요한 자료구조인 튜플(tuple)에 대해 학습합니다.\n"
      ],
      "metadata": {
        "id": "4ZudJPklp2n9"
      }
    },
    {
      "cell_type": "markdown",
      "source": [
        "튜플은 리스트와 유사하지만 변경할 수 없는(immutable) 특성을 가지고 있어, 데이터의\n",
        "안정성이 필요한 경우에 사용됩니다.\n"
      ],
      "metadata": {
        "id": "SULR6GSyp3_T"
      }
    },
    {
      "cell_type": "markdown",
      "source": [
        "튜플 생성"
      ],
      "metadata": {
        "id": "EOGcrYUgp5Ey"
      }
    },
    {
      "cell_type": "markdown",
      "source": [
        "튜플은 소괄호 () 를 사용하여 생성하며, 각 원소는 쉼표로 구분합니다.\n"
      ],
      "metadata": {
        "id": "aqjQ5_Z0p57f"
      }
    },
    {
      "cell_type": "code",
      "execution_count": null,
      "metadata": {
        "id": "ZOmxDYIzpytq"
      },
      "outputs": [],
      "source": [
        "empty_tuple = () # 빈 튜플 생성\n",
        "empty_tuple"
      ]
    },
    {
      "cell_type": "code",
      "source": [
        "numbers = (1, 2, 3, 4, 5) # 수로 이루어진 튜플\n",
        "numbers"
      ],
      "metadata": {
        "id": "iG29LtDOp7bh"
      },
      "execution_count": null,
      "outputs": []
    },
    {
      "cell_type": "code",
      "source": [
        "mixed = (1, 'hello', 3.14, True) # 다양한 자료형을 포함하는 튜플\n",
        "mixed"
      ],
      "metadata": {
        "id": "c--mVFN4p83x"
      },
      "execution_count": null,
      "outputs": []
    },
    {
      "cell_type": "code",
      "source": [
        "single_item = (42,) # 단일 원소 튜플 생성 (쉼표 필수)\n",
        "single_item"
      ],
      "metadata": {
        "id": "TV4bzTyqp9tn"
      },
      "execution_count": null,
      "outputs": []
    },
    {
      "cell_type": "code",
      "source": [
        "single_item = (42)\n",
        "single_item"
      ],
      "metadata": {
        "id": "_Ji6azAKp-tB"
      },
      "execution_count": null,
      "outputs": []
    },
    {
      "cell_type": "markdown",
      "source": [
        "튜플 인덱싱과 슬라이싱"
      ],
      "metadata": {
        "id": "bq3ZWBZWp_t_"
      }
    },
    {
      "cell_type": "markdown",
      "source": [
        "튜플의 인덱싱과 슬라이싱은 리스트와 동일한 방식으로 동작합니다.\n"
      ],
      "metadata": {
        "id": "rYlpGlYYqAlJ"
      }
    },
    {
      "cell_type": "code",
      "source": [
        "coordinates = (10, 20, 30, 40, 50)\n",
        "coordinates[0] # 첫 번째 원소"
      ],
      "metadata": {
        "id": "A34ycjr-p_TS"
      },
      "execution_count": null,
      "outputs": []
    },
    {
      "cell_type": "code",
      "source": [
        "coordinates[-1] # 마지막 원소"
      ],
      "metadata": {
        "id": "UyTCZNnBqDaJ"
      },
      "execution_count": null,
      "outputs": []
    },
    {
      "cell_type": "code",
      "source": [
        "coordinates[:3] # 처음 세 원소"
      ],
      "metadata": {
        "id": "3APqAeK1qEL4"
      },
      "execution_count": null,
      "outputs": []
    },
    {
      "cell_type": "code",
      "source": [
        "coordinates[::2] # 홀수 번째 원소"
      ],
      "metadata": {
        "id": "Q_Jel0KYqFII"
      },
      "execution_count": null,
      "outputs": []
    },
    {
      "cell_type": "markdown",
      "source": [
        "튜플의 특징"
      ],
      "metadata": {
        "id": "93WMPC0uqGQ9"
      }
    },
    {
      "cell_type": "markdown",
      "source": [
        "불변성\n"
      ],
      "metadata": {
        "id": "Xpt1aTHVqHI4"
      }
    },
    {
      "cell_type": "markdown",
      "source": [
        "튜플의 가장 큰 특징은 한 번 생성되면 내용을 변경할 수 없다는 것입니다.\n"
      ],
      "metadata": {
        "id": "zmFp22BCqIB1"
      }
    },
    {
      "cell_type": "code",
      "source": [
        "coordinates = (10, 20, 30)\n",
        "coordinates[0] = 100"
      ],
      "metadata": {
        "id": "GxXPAbYSqJhI"
      },
      "execution_count": null,
      "outputs": []
    },
    {
      "cell_type": "markdown",
      "source": [
        "튜플 압축(tuple packing)과 압축 해제(unpacking)"
      ],
      "metadata": {
        "id": "L5B85ysCqKxy"
      }
    },
    {
      "cell_type": "markdown",
      "source": [
        "여러 값을 동시에 할당하거나 함수에서 여러 값을 반환할 때 유용합니다"
      ],
      "metadata": {
        "id": "sDcM2o_-qLyo"
      }
    },
    {
      "cell_type": "code",
      "source": [
        "person = 'John', 25, 'New York'\n",
        "person"
      ],
      "metadata": {
        "id": "d55RiQOqqMnh"
      },
      "execution_count": null,
      "outputs": []
    },
    {
      "cell_type": "code",
      "source": [
        "type(person)"
      ],
      "metadata": {
        "id": "8lhHmsH2qNin"
      },
      "execution_count": null,
      "outputs": []
    },
    {
      "cell_type": "code",
      "source": [
        "name, age, city = person\n",
        "print('이름:', name)\n",
        "print('나이:', age)\n",
        "print('도시:', city)"
      ],
      "metadata": {
        "id": "cOW0kF0oqOkL"
      },
      "execution_count": null,
      "outputs": []
    },
    {
      "cell_type": "markdown",
      "source": [
        "튜플 메서드"
      ],
      "metadata": {
        "id": "fuP1vwH5qP2S"
      }
    },
    {
      "cell_type": "markdown",
      "source": [
        "튜플은 변경할 수 없기 때문에 제한된 메서드만 제공합니다.\n"
      ],
      "metadata": {
        "id": "bsEAOvcOqQlX"
      }
    },
    {
      "cell_type": "code",
      "source": [
        "numbers = (1, 2, 3, 2, 4, 2, 5)\n",
        "count_2 = numbers.count(2) # 특정 값의 등장 횟수 반환\n",
        "count_2"
      ],
      "metadata": {
        "id": "tewbH6y1qRsJ"
      },
      "execution_count": null,
      "outputs": []
    },
    {
      "cell_type": "code",
      "source": [
        "index_4 = numbers.index(4) # 특정 값의 첫 번째 인덱스 반환\n",
        "index_4"
      ],
      "metadata": {
        "id": "rxe_J2myqS26"
      },
      "execution_count": null,
      "outputs": []
    },
    {
      "cell_type": "markdown",
      "source": [
        "데이터 분석과 인공지능에서의 활용"
      ],
      "metadata": {
        "id": "ZzzWYWyEqT0I"
      }
    },
    {
      "cell_type": "markdown",
      "source": [
        "튜플은 데이터의 안정성이 필요한 경우에 사용됩니다.\n"
      ],
      "metadata": {
        "id": "GCQ8Al9aqUaG"
      }
    },
    {
      "cell_type": "markdown",
      "source": [
        "예) 데이터 포인트 표현 (x, y 좌표)\n"
      ],
      "metadata": {
        "id": "GW7NDYyjqWK6"
      }
    },
    {
      "cell_type": "code",
      "source": [
        "point = (3, 4)\n",
        "x, y = point\n",
        "distance = (x ** 2 + y ** 2) ** 0.5\n",
        "distance"
      ],
      "metadata": {
        "id": "PqOmJBcmqXVT"
      },
      "execution_count": null,
      "outputs": []
    },
    {
      "cell_type": "markdown",
      "source": [
        "예) 날짜 표현"
      ],
      "metadata": {
        "id": "aUKuqzJqqYN5"
      }
    },
    {
      "cell_type": "code",
      "source": [
        "# 날짜 표현\n",
        "date = (2030, 3, 1)\n",
        "year, month, day = date\n",
        "'날짜: ' + str(year) + '년 ' + str(month) + '월 ' + str(day) + '일'\n"
      ],
      "metadata": {
        "id": "8JmaguXJqZa_"
      },
      "execution_count": null,
      "outputs": []
    },
    {
      "cell_type": "markdown",
      "source": [
        "예) 간단한 통계 계산"
      ],
      "metadata": {
        "id": "YHrT8CM-qacy"
      }
    },
    {
      "cell_type": "code",
      "source": [
        "data = (1, 2, 3, 4, 5)\n",
        "min_val = min(data)\n",
        "max_val = max(data)\n",
        "avg_val = sum(data) / len(data)\n",
        "print('최솟값:', min_val)\n",
        "print('최댓값:', max_val)\n",
        "print('평균:', avg_val)\n"
      ],
      "metadata": {
        "id": "V22S7I0dqbyZ"
      },
      "execution_count": null,
      "outputs": []
    },
    {
      "cell_type": "code",
      "source": [
        "result = (min_val, max_val, avg_val)\n",
        "result"
      ],
      "metadata": {
        "id": "eUCXcKAmqcum"
      },
      "execution_count": null,
      "outputs": []
    }
  ]
}