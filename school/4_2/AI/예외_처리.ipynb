{
  "nbformat": 4,
  "nbformat_minor": 0,
  "metadata": {
    "colab": {
      "provenance": []
    },
    "kernelspec": {
      "name": "python3",
      "display_name": "Python 3"
    },
    "language_info": {
      "name": "python"
    }
  },
  "cells": [
    {
      "cell_type": "markdown",
      "source": [
        "이번 유닛에서는 파이썬의 예외 처리에 대해 학습합니다.\n",
        "예외가 무엇인지, 왜 필요한지 이해하고, 기본적인 예외 처리 방법부터 파일 입출력 시 발\n",
        "생할 수 있는 예외 처리까지 다룹니다."
      ],
      "metadata": {
        "id": "r9wpibFMC4nP"
      }
    },
    {
      "cell_type": "markdown",
      "source": [
        "예외의 개념과 필요성\n",
        "예외(Exception)는 프로그램 실행 중 발생하는 오류를 의미합니다.\n",
        "예외 처리는 이러한 오류 상황을 적절히 관리하여 프로그램이 비정상적으로 종료되는 것\n",
        "을 방지하고, 오류에 대해 적절히 대응할 수 있게 해줍니다."
      ],
      "metadata": {
        "id": "R1cKUwFVC5ca"
      }
    },
    {
      "cell_type": "markdown",
      "source": [
        "예외 처리가 필요한 이유:\n",
        "1. 프로그램의 안정성 향상\n",
        "2. 오류 상황에 대한 대처\n",
        "3. 디버깅 및 문제 해결 용이성"
      ],
      "metadata": {
        "id": "U7K6fbCMC8Gr"
      }
    },
    {
      "cell_type": "markdown",
      "source": [
        "기본적인 예외 처리 구조\n",
        "파이썬에서는 try-except 구문을 사용하여 예외를 처리합니다.\n"
      ],
      "metadata": {
        "id": "MqplS-06C9ZB"
      }
    },
    {
      "cell_type": "code",
      "execution_count": null,
      "metadata": {
        "id": "P12sE2DACzng"
      },
      "outputs": [],
      "source": [
        "result = 10 / 0\n",
        "print('프로그램이 계속 실행되지 않습니다.')"
      ]
    },
    {
      "cell_type": "code",
      "source": [
        "try:\n",
        "    # 예외가 발생할 수 있는 코드\n",
        "    result = 10 / 0\n",
        "except ZeroDivisionError:\n",
        "    # 예외 처리 코드\n",
        "    print('0으로 나눌 수 없습니다.')\n",
        "print('프로그램이 계속 실행됩니다.')"
      ],
      "metadata": {
        "id": "C8vob6mDC_o8"
      },
      "execution_count": null,
      "outputs": []
    },
    {
      "cell_type": "markdown",
      "source": [
        "이 예제에서는 0으로 나누려고 시도하여 ZeroDivisionError 가 발생하지만, except\n",
        "블록에서 이를 처리하여 프로그램이 중단되지 않고 계속 실행됩니다"
      ],
      "metadata": {
        "id": "MAr2VxZCDKS-"
      }
    },
    {
      "cell_type": "markdown",
      "source": [
        "다양한 예외 유형 처리\n",
        "여러 종류의 예외를 처리하는 방법"
      ],
      "metadata": {
        "id": "viEgLm9ODLPC"
      }
    },
    {
      "cell_type": "code",
      "source": [
        "try:\n",
        "    number = int(input('숫자를 입력하세요: '))\n",
        "    result = 10 / number\n",
        "    print(f'결과: {result}')\n",
        "except ZeroDivisionError:\n",
        "    print('0으로 나눌 수 없습니다.')\n",
        "except ValueError:\n",
        "    print('유효한 숫자를 입력해야 합니다.')\n",
        "except Exception as e:\n",
        "    print(f'알 수 없는 오류가 발생했습니다: {e}')"
      ],
      "metadata": {
        "id": "Lmqoljc1DML7"
      },
      "execution_count": null,
      "outputs": []
    },
    {
      "cell_type": "markdown",
      "source": [
        "이 예제는 ValueError (잘못된 입력), ZeroDivisionError (0으로 나누기), 그리고 기\n",
        "타 예외들을 처리합니다"
      ],
      "metadata": {
        "id": "xGKrDITjDRUF"
      }
    },
    {
      "cell_type": "markdown",
      "source": [
        "finally 절 사용\n",
        "finally 절은 예외 발생 여부와 관계없이 항상 실행되는 코드 블록입니다."
      ],
      "metadata": {
        "id": "RA2eEyF4DSNh"
      }
    },
    {
      "cell_type": "code",
      "source": [
        "try:\n",
        "    file = open('example.txt', 'r')\n",
        "    content = file.read()\n",
        "    print(content)\n",
        "except FileNotFoundError:\n",
        "    print('파일을 찾을 수 없습니다.')\n",
        "finally:\n",
        "    file.close() # 파일이 열렸든 안 열렸든 닫기 시도\n",
        "    print('파일 처리가 완료되었습니다.')"
      ],
      "metadata": {
        "id": "Uj8OeGx8DTQz"
      },
      "execution_count": null,
      "outputs": []
    },
    {
      "cell_type": "markdown",
      "source": [
        "이 예제는 파일을 열고 읽는 과정에서 발생할 수 있는 예외를 처리하며, finally 절을\n",
        "사용하여 파일을 항상 닫으려고 시도합니다"
      ],
      "metadata": {
        "id": "B1srC8L0DbNj"
      }
    },
    {
      "cell_type": "markdown",
      "source": [
        "데이터 분석과 인공지능에서의 활용\n",
        "예외 처리는 데이터 분석과 인공지능 프로젝트에서 매우 중요합니다."
      ],
      "metadata": {
        "id": "YjkaFFzbDcR8"
      }
    },
    {
      "cell_type": "markdown",
      "source": [
        "예) 파일 입출력 예외 처리\n"
      ],
      "metadata": {
        "id": "3ESb1PkUDdV6"
      }
    },
    {
      "cell_type": "code",
      "source": [
        "import csv"
      ],
      "metadata": {
        "id": "1o-zUNrADe5L"
      },
      "execution_count": null,
      "outputs": []
    },
    {
      "cell_type": "code",
      "source": [
        "# CSV 파일 생성 및 데이터 쓰기\n",
        "filename = 'student_scores.csv'\n",
        "try:\n",
        "    with open(filename, 'w', newline = '') as file:\n",
        "      writer = csv.writer(file)\n",
        "      writer.writerows([\n",
        "        ['Alice', '85'],\n",
        "        ['Bob', '92'],\n",
        "        ['Charlie', '78'],\n",
        "        ['David', 'error'],\n",
        "        ['Eve'],\n",
        "        ['Frank', '']\n",
        "      ])\n",
        "    print(f\"'{filename}' 파일이 성공적으로 생성되었습니다.\")\n",
        "except Exception as e:\n",
        "    print(f'파일 생성 중 오류 발생: {e}')"
      ],
      "metadata": {
        "id": "GIbVo_Q1DgTe"
      },
      "execution_count": null,
      "outputs": []
    },
    {
      "cell_type": "code",
      "source": [
        "# CSV 파일 읽기 및 데이터 처리\n",
        "try:\n",
        "  with open(filename, 'r') as file:\n",
        "    reader = csv.reader(file)\n",
        "    scores = []\n",
        "    for row in reader:\n",
        "      if len(row) < 2:\n",
        "        print(f'경고: {row}는 올바른 형식이 아닙니다. 이 행은 무시됩니다.')\n",
        "        continue\n",
        "      name, score = row\n",
        "      try:\n",
        "        score = float(score)\n",
        "        scores.append(score)\n",
        "        print(f'{name}의 점수: {score}')\n",
        "      except ValueError:\n",
        "        print(f\"경고: '{name}'의 점수 '{score}'는 유효한 숫자가 아닙니다. 이\n",
        "    if len(scores) == 0:\n",
        "        print('\\n오류: 유효한 점수가 없습니다.')\n",
        "    else:\n",
        "        average = sum(scores) / len(scores)\n",
        "        print(f'\\n학생들의 평균 점수: {average:.2f}')\n",
        "except FileNotFoundError:\n",
        "  print(f\"'{filename}' 파일을 찾을 수 없습니다.\")\n",
        "except Exception as e:\n",
        "  print(f'예상치 못한 오류 발생: {e}')\n",
        "finally:\n",
        "  print('점수 처리 작업이 완료되었습니다.')"
      ],
      "metadata": {
        "id": "W5XxxMQ2DsDg"
      },
      "execution_count": null,
      "outputs": []
    }
  ]
}