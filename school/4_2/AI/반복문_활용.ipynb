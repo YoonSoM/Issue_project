{
  "nbformat": 4,
  "nbformat_minor": 0,
  "metadata": {
    "colab": {
      "provenance": []
    },
    "kernelspec": {
      "name": "python3",
      "display_name": "Python 3"
    },
    "language_info": {
      "name": "python"
    }
  },
  "cells": [
    {
      "cell_type": "markdown",
      "source": [
        "리스트 컴프리헨션"
      ],
      "metadata": {
        "id": "n2NqVvmi-Ljg"
      }
    },
    {
      "cell_type": "markdown",
      "source": [
        "리스트 컴프리헨션은 간결하게 리스트를 생성하는 방법입니다."
      ],
      "metadata": {
        "id": "MTT8r_PQ-Mhu"
      }
    },
    {
      "cell_type": "markdown",
      "source": [
        "기본 리스트 컴프리헨션"
      ],
      "metadata": {
        "id": "2-NWieFk-NUR"
      }
    },
    {
      "cell_type": "code",
      "execution_count": null,
      "metadata": {
        "id": "CQfRa-ip-GxD"
      },
      "outputs": [],
      "source": [
        "squares = [x ** 2 for x in range(10)]\n",
        "squares"
      ]
    },
    {
      "cell_type": "markdown",
      "source": [
        "조건부 리스트 컴프리헨션"
      ],
      "metadata": {
        "id": "uqqkwrG9-TRf"
      }
    },
    {
      "cell_type": "code",
      "source": [
        "even_squares = [x ** 2 for x in range(10) if x % 2 == 0]\n",
        "even_squares"
      ],
      "metadata": {
        "id": "qW8IYJkP-Uif"
      },
      "execution_count": null,
      "outputs": []
    },
    {
      "cell_type": "markdown",
      "source": [
        "enumerate() 함수"
      ],
      "metadata": {
        "id": "lbrXUxcc-VWz"
      }
    },
    {
      "cell_type": "markdown",
      "source": [
        "enumerate() 함수를 사용하면 반복 가능한 데이터의 인덱스와 값을 함께 얻을 수 있습\n",
        "니다"
      ],
      "metadata": {
        "id": "lsJoNZhg-WN2"
      }
    },
    {
      "cell_type": "code",
      "source": [
        "fruits = ['apple', 'banana', 'cherry']\n",
        "for index, fruit in enumerate(fruits):\n",
        "   print(index, fruit)"
      ],
      "metadata": {
        "id": "UMWdCO8O-XMO"
      },
      "execution_count": null,
      "outputs": []
    },
    {
      "cell_type": "code",
      "source": [
        "fruits = ['apple', 'banana', 'cherry']\n",
        "for index, fruit in enumerate(fruits, start = 1):\n",
        "   print(index, fruit)"
      ],
      "metadata": {
        "id": "cVafNmYa-YMY"
      },
      "execution_count": null,
      "outputs": []
    },
    {
      "cell_type": "markdown",
      "source": [
        "zip() 함수"
      ],
      "metadata": {
        "id": "Obfj7U0y-Z2S"
      }
    },
    {
      "cell_type": "markdown",
      "source": [
        "zip() 함수를 사용하여 여러 개의 반복 가능한 데이터를 동시에 순회할 수 있습니다.\n"
      ],
      "metadata": {
        "id": "dDugzRzw-az2"
      }
    },
    {
      "cell_type": "code",
      "source": [
        "names = ['Alice', 'Bob', 'Charlie']\n",
        "ages = [25, 30, 35]\n",
        "for name, age in zip(names, ages):\n",
        "   print(name, age)"
      ],
      "metadata": {
        "id": "0FFAkSWa-cGN"
      },
      "execution_count": null,
      "outputs": []
    },
    {
      "cell_type": "code",
      "source": [
        "subjects = ['수학', '과학', '영어']\n",
        "scores = [90, 85, 95]\n",
        "grades = ['A', 'B', 'A']\n",
        "for subject, score, grade in zip(subjects, scores, grades):\n",
        "   print(subject, score, grade)"
      ],
      "metadata": {
        "id": "4q9jfjzn-ehl"
      },
      "execution_count": null,
      "outputs": []
    },
    {
      "cell_type": "markdown",
      "source": [
        "반복문과 조건문 조합"
      ],
      "metadata": {
        "id": "hq73f5LC-fxs"
      }
    },
    {
      "cell_type": "markdown",
      "source": [
        "반복문과 조건문을 조합하여 더 복잡한 로직을 구현할 수 있습니다.\n"
      ],
      "metadata": {
        "id": "kaOf9WEw-gpy"
      }
    },
    {
      "cell_type": "code",
      "source": [
        "for num in range(1, 21):\n",
        "   if num % 3 == 0:\n",
        "      print(num, '은(는) 3의 배수입니다.')\n",
        "   else:\n",
        "      print(num, '은(는) 3의 배수가 아닙니다.')"
      ],
      "metadata": {
        "id": "56FaHKj1-hvh"
      },
      "execution_count": null,
      "outputs": []
    },
    {
      "cell_type": "code",
      "source": [
        "odd = []\n",
        "even = []\n",
        "for num in range(1, 11):\n",
        "   if num % 2 == 0:\n",
        "      even.append(num)\n",
        "   else:\n",
        "      odd.append(num)"
      ],
      "metadata": {
        "id": "T8Rxfn6T-j7L"
      },
      "execution_count": null,
      "outputs": []
    },
    {
      "cell_type": "code",
      "source": [
        "odd"
      ],
      "metadata": {
        "id": "sUsqLY2m-k3l"
      },
      "execution_count": null,
      "outputs": []
    },
    {
      "cell_type": "code",
      "source": [
        "even"
      ],
      "metadata": {
        "id": "G72kil9p-lrk"
      },
      "execution_count": null,
      "outputs": []
    },
    {
      "cell_type": "markdown",
      "source": [
        "while 문과 for 문의 선택\n"
      ],
      "metadata": {
        "id": "_azz7A22-ncL"
      }
    },
    {
      "cell_type": "markdown",
      "source": [
        "상황에 따라 while 문과 for 문 중 어느 것을 사용할지 결정하는 것이 중요합니다.\n",
        "일반적으로 반복 횟수가 정해져 있을 때는 for 문이, 조건에 따라 반복을 계속할지 결\n",
        "정해야 할 때는 while 문이 더 적합할 수 있습니다."
      ],
      "metadata": {
        "id": "x48f-_O1-oWO"
      }
    },
    {
      "cell_type": "code",
      "source": [
        "numbers = []\n",
        "while len(numbers) < 5:\n",
        "   num = int(input('수를 입력하세요: '))\n",
        "   numbers.append(num)\n",
        "numbers"
      ],
      "metadata": {
        "id": "Whf3Z2yv-ppg"
      },
      "execution_count": null,
      "outputs": []
    },
    {
      "cell_type": "code",
      "source": [
        "numbers = []\n",
        "for i in range(5):\n",
        "   num = int(input('수를 입력하세요: '))\n",
        "   numbers.append(num)\n",
        "numbers"
      ],
      "metadata": {
        "id": "x1cBcBnY-q0v"
      },
      "execution_count": null,
      "outputs": []
    },
    {
      "cell_type": "markdown",
      "source": [
        "while 문이 더 적합한 예제: 사용자로부터 올바른 비밀번호를 입력받을 때까지 반복\n",
        "반복 횟수가 정해져 있지 않습니다.\n",
        "특정 조건(올바른 비밀번호 입력)이 충족될 때까지 계속 반복해야 합니다."
      ],
      "metadata": {
        "id": "7NUPZ82Y-tSV"
      }
    },
    {
      "cell_type": "code",
      "source": [
        "correct_password = '1234'\n",
        "attempt = 0\n",
        "while True:\n",
        "   password = input('비밀번호를 입력하세요: ')\n",
        "   attempt += 1\n",
        "   if password == correct_password:\n",
        "      print('로그인 성공!', attempt, '번 시도했습니다.')\n",
        "      break\n",
        "   else:\n",
        "      print('비밀번호가 틀렸습니다. 다시 시도해주세요.')\n",
        "   print()"
      ],
      "metadata": {
        "id": "4z2iQUC0-u1o"
      },
      "execution_count": null,
      "outputs": []
    },
    {
      "cell_type": "markdown",
      "source": [
        "for 문이 더 적합한 예제: 1 부터 10 까지의 수 중 짝수의 합 계산\n",
        "반복 횟수가 명확하게 정해져 있습니다.\n",
        "range() 함수를 사용하여 간단하게 수 시퀀스를 생성할 수 있습니다."
      ],
      "metadata": {
        "id": "56ZFOYJv-wkf"
      }
    },
    {
      "cell_type": "code",
      "source": [
        "sum_even = 0\n",
        "for num in range(1, 11):\n",
        "   if num % 2 == 0:\n",
        "      sum_even += num\n",
        "sum_even"
      ],
      "metadata": {
        "id": "y6PLO5qJ-xe8"
      },
      "execution_count": null,
      "outputs": []
    },
    {
      "cell_type": "markdown",
      "source": [
        "while 문은 반복 횟수가 불명확하거나, 특정 조건이 만족될 때까지 계속 반복해야 하는\n",
        "경우에 유용합니다.\n",
        "for 문은 반복 횟수가 명확하거나, 반복 가능한 데이터(리스트, 튜플, 딕셔너리, 집합, 문\n",
        "자열 등)의 각 원소에 대해 작업을 수행할 때 유용합니다.\n",
        "때로는 두 방식 모두 사용 가능한 경우가 있지만, 가독성과 효율성을 고려하여 더 적합한\n",
        "방식을 선택해야 합니다."
      ],
      "metadata": {
        "id": "F0MNmSeQ-yva"
      }
    },
    {
      "cell_type": "markdown",
      "source": [
        "데이터 분석과 인공지능에서의 활용"
      ],
      "metadata": {
        "id": "jRFcrUYj-z0b"
      }
    },
    {
      "cell_type": "markdown",
      "source": [
        "반복문은 데이터 분석과 인공지능 분야에서 데이터 처리, 특성 추출, 모델 학습 등에 널리\n",
        "사용됩니다"
      ],
      "metadata": {
        "id": "YWVJEpjs-0ou"
      }
    },
    {
      "cell_type": "markdown",
      "source": [
        "예) 간단한 데이터 전처리"
      ],
      "metadata": {
        "id": "KdmsdcXR-1_6"
      }
    },
    {
      "cell_type": "markdown",
      "source": [
        "이 예제는 데이터 전처리의 한 형태를 보여줍니다.\n",
        "원본 데이터의 모든 값을 절대값으로 변환하여 음수를 제거합니다.\n",
        "이러한 전처리는 데이터의 크기만을 고려하고 부호는 무시하고자 할 때 사용될 수\n",
        "있습니다"
      ],
      "metadata": {
        "id": "MGaHyap7-4OH"
      }
    },
    {
      "cell_type": "code",
      "source": [
        "raw_data = [1, -2, 3, -4, 5, -6, 7, -8, 9]\n",
        "processed_data = [abs(x) for x in raw_data]\n",
        "processed_data"
      ],
      "metadata": {
        "id": "6tYUYRF2-6zR"
      },
      "execution_count": null,
      "outputs": []
    },
    {
      "cell_type": "markdown",
      "source": [
        "예) 간단한 통계 계산\n"
      ],
      "metadata": {
        "id": "-FAEUQWB-7mh"
      }
    },
    {
      "cell_type": "markdown",
      "source": [
        "이 예제는 기본적인 통계 계산과 데이터 필터링을 보여줍니다."
      ],
      "metadata": {
        "id": "cUTFEEHq-8mG"
      }
    },
    {
      "cell_type": "markdown",
      "source": [
        "먼저 온도 데이터의 평균을 계산한 후, 리스트 컴프리헨션을 사용하여 평균 이상의\n",
        "온도만을 새 리스트에 저장합니다.\n",
        "이러한 방식의 데이터 처리는 이상치 탐지나 특정 조건을 만족하는 데이터 추출 등\n",
        "에 활용될 수 있습니다"
      ],
      "metadata": {
        "id": "9hEJwgaD-9iy"
      }
    },
    {
      "cell_type": "code",
      "source": [
        "temperatures = [20, 22, 23, 19, 25, 21, 24]\n",
        "avg_temp = sum(temperatures) / len(temperatures)\n",
        "above_avg = [temp for temp in temperatures if temp > avg_temp]\n",
        "above_avg"
      ],
      "metadata": {
        "id": "sdfsAhkY--fv"
      },
      "execution_count": null,
      "outputs": []
    }
  ]
}