{
  "nbformat": 4,
  "nbformat_minor": 0,
  "metadata": {
    "colab": {
      "provenance": []
    },
    "kernelspec": {
      "name": "python3",
      "display_name": "Python 3"
    },
    "language_info": {
      "name": "python"
    }
  },
  "cells": [
    {
      "cell_type": "markdown",
      "source": [
        "이번 유닛에서는 파이썬의 집합(set)에 대해 학습합니다.\n",
        "집합은 중복되지 않는 원소들의 모음입니다"
      ],
      "metadata": {
        "id": "I6NORCMiI8Bd"
      }
    },
    {
      "cell_type": "markdown",
      "source": [
        "집합 생성"
      ],
      "metadata": {
        "id": "VekNeFipI-BW"
      }
    },
    {
      "cell_type": "markdown",
      "source": [
        "집합은 중괄호 {} 또는 set() 을 사용하여 생성합니다."
      ],
      "metadata": {
        "id": "Xj3eUT6NI_EB"
      }
    },
    {
      "cell_type": "code",
      "execution_count": null,
      "metadata": {
        "id": "v2GOr887IwaL"
      },
      "outputs": [],
      "source": [
        "empty_set = set() # 빈 집합 생성\n",
        "empty_set"
      ]
    },
    {
      "cell_type": "code",
      "source": [
        "type(empty_set)"
      ],
      "metadata": {
        "id": "x521ryPmJBgA"
      },
      "execution_count": null,
      "outputs": []
    },
    {
      "cell_type": "markdown",
      "source": [
        "중괄호를 사용한 집합 생성"
      ],
      "metadata": {
        "id": "yDPpi0otJQS1"
      }
    },
    {
      "cell_type": "code",
      "source": [
        "fruits1 = {'apple', 'banana', 'orange'}\n",
        "fruits"
      ],
      "metadata": {
        "id": "J_lxfEStJSWu"
      },
      "execution_count": null,
      "outputs": []
    },
    {
      "cell_type": "markdown",
      "source": [
        "set() 을 사용한 집합 생성"
      ],
      "metadata": {
        "id": "JCWX28_gJTki"
      }
    },
    {
      "cell_type": "code",
      "source": [
        "fruits2 = set(['apple', 'banana', 'orange'])\n",
        "fruits2"
      ],
      "metadata": {
        "id": "GNn3EOs-JUXk"
      },
      "execution_count": null,
      "outputs": []
    },
    {
      "cell_type": "code",
      "source": [
        "fruits1 == fruits2\n"
      ],
      "metadata": {
        "id": "S9NUfGjSJVU8"
      },
      "execution_count": null,
      "outputs": []
    },
    {
      "cell_type": "code",
      "source": [
        "type(fruits1), type(fruits2)"
      ],
      "metadata": {
        "id": "nG4adELIJWEK"
      },
      "execution_count": null,
      "outputs": []
    },
    {
      "cell_type": "markdown",
      "source": [
        "중복된 원소는 자동 제거"
      ],
      "metadata": {
        "id": "wFhb_oCcJXJ4"
      }
    },
    {
      "cell_type": "code",
      "source": [
        "colors = {'red', 'blue', 'green', 'red', 'blue'}\n",
        "colors"
      ],
      "metadata": {
        "id": "je6OF6oKJYJO"
      },
      "execution_count": null,
      "outputs": []
    },
    {
      "cell_type": "markdown",
      "source": [
        "집합 연산"
      ],
      "metadata": {
        "id": "yjhQoHnEJZ38"
      }
    },
    {
      "cell_type": "markdown",
      "source": [
        "집합은 수학의 집합 연산을 지원합니다."
      ],
      "metadata": {
        "id": "s4V2PuX4JbS0"
      }
    },
    {
      "cell_type": "code",
      "source": [
        "set1 = {1, 2, 3, 4, 5}\n",
        "set2 = {4, 5, 6, 7, 8}"
      ],
      "metadata": {
        "id": "F96ljmZdJcQ3"
      },
      "execution_count": null,
      "outputs": []
    },
    {
      "cell_type": "markdown",
      "source": [
        "합집합"
      ],
      "metadata": {
        "id": "mIIeGBsSJdls"
      }
    },
    {
      "cell_type": "code",
      "source": [
        "union_set = set1 | set2\n",
        "union_set\n"
      ],
      "metadata": {
        "id": "_R0f25m5Jedm"
      },
      "execution_count": null,
      "outputs": []
    },
    {
      "cell_type": "markdown",
      "source": [
        "교집합"
      ],
      "metadata": {
        "id": "h5_1vP9iJfdc"
      }
    },
    {
      "cell_type": "code",
      "source": [
        "intersection_set = set1 & set2\n",
        "intersection_set"
      ],
      "metadata": {
        "id": "2SO8uj3SJgfB"
      },
      "execution_count": null,
      "outputs": []
    },
    {
      "cell_type": "markdown",
      "source": [
        "차집합\n"
      ],
      "metadata": {
        "id": "xJ_MhUM1JhfC"
      }
    },
    {
      "cell_type": "code",
      "source": [
        "difference_set = set1 - set2\n",
        "difference_set\n"
      ],
      "metadata": {
        "id": "8GrDk-GfJig1"
      },
      "execution_count": null,
      "outputs": []
    },
    {
      "cell_type": "markdown",
      "source": [
        "len() 함수"
      ],
      "metadata": {
        "id": "jMZGxXW-Jkla"
      }
    },
    {
      "cell_type": "markdown",
      "source": [
        "집합의 크기(원소의 개수)를 반환합니다."
      ],
      "metadata": {
        "id": "m6TSXSa5Jlk2"
      }
    },
    {
      "cell_type": "code",
      "source": [
        "\n",
        "len(difference_set)\n"
      ],
      "metadata": {
        "id": "CQXE2Xu_JnAM"
      },
      "execution_count": null,
      "outputs": []
    },
    {
      "cell_type": "markdown",
      "source": [
        "집합 메서드"
      ],
      "metadata": {
        "id": "WGdAF9coJn8O"
      }
    },
    {
      "cell_type": "markdown",
      "source": [
        "집합을 다루는 유용한 메서드들이 있습니다."
      ],
      "metadata": {
        "id": "5xb24ZgVJo5K"
      }
    },
    {
      "cell_type": "code",
      "source": [
        "fruits = {'apple', 'banana', 'orange'}"
      ],
      "metadata": {
        "id": "hcleLYNdJp4g"
      },
      "execution_count": null,
      "outputs": []
    },
    {
      "cell_type": "markdown",
      "source": [
        "add()\n"
      ],
      "metadata": {
        "id": "ddha9j7VJrJb"
      }
    },
    {
      "cell_type": "markdown",
      "source": [
        "집합에 하나의 원소를 추가합니다"
      ],
      "metadata": {
        "id": "KxnDo_GqJr6L"
      }
    },
    {
      "cell_type": "code",
      "source": [
        "fruits.add('grape')\n",
        "fruits"
      ],
      "metadata": {
        "id": "l19fz8HTJs1j"
      },
      "execution_count": null,
      "outputs": []
    },
    {
      "cell_type": "markdown",
      "source": [
        "remove()"
      ],
      "metadata": {
        "id": "WQwpE0ydJto3"
      }
    },
    {
      "cell_type": "markdown",
      "source": [
        "집합에 원소를 제거합니다.\n"
      ],
      "metadata": {
        "id": "11sPsI6IJuhy"
      }
    },
    {
      "cell_type": "code",
      "source": [
        "fruits.remove('banana')\n",
        "fruits"
      ],
      "metadata": {
        "id": "yT1X1zfzJvVM"
      },
      "execution_count": null,
      "outputs": []
    },
    {
      "cell_type": "markdown",
      "source": [
        "update()"
      ],
      "metadata": {
        "id": "_WKqYhldJypo"
      }
    },
    {
      "cell_type": "markdown",
      "source": [
        "집합에 여러 원소를 한 번에 추가합니다."
      ],
      "metadata": {
        "id": "SBXxKZfsJzVW"
      }
    },
    {
      "cell_type": "code",
      "source": [
        "fruits.update(['melon', 'kiwi'])\n",
        "fruits"
      ],
      "metadata": {
        "id": "arGc0MX-J0qG"
      },
      "execution_count": null,
      "outputs": []
    },
    {
      "cell_type": "markdown",
      "source": [
        "in 연산자\n"
      ],
      "metadata": {
        "id": "HouXmqA9J1zg"
      }
    },
    {
      "cell_type": "markdown",
      "source": [
        "in 연산자를 사용하여 원소가 집합에 있는지 확인할 수 있습니다."
      ],
      "metadata": {
        "id": "XUKRovfdJ21S"
      }
    },
    {
      "cell_type": "code",
      "source": [
        "fruits = {'apple', 'banana', 'orange'}"
      ],
      "metadata": {
        "id": "G-Gj6x7-J37E"
      },
      "execution_count": null,
      "outputs": []
    },
    {
      "cell_type": "code",
      "source": [
        "'apple' in fruits"
      ],
      "metadata": {
        "id": "oWESUgTEJ4zM"
      },
      "execution_count": null,
      "outputs": []
    },
    {
      "cell_type": "code",
      "source": [
        "'grape' in fruits"
      ],
      "metadata": {
        "id": "Baq0Hrn4J5nQ"
      },
      "execution_count": null,
      "outputs": []
    },
    {
      "cell_type": "markdown",
      "source": [
        "집합의 특징\n"
      ],
      "metadata": {
        "id": "nj_LgT_JJ6nT"
      }
    },
    {
      "cell_type": "markdown",
      "source": [
        "순서가 없는(unordered) 자료형"
      ],
      "metadata": {
        "id": "BSt4N7j4J73s"
      }
    },
    {
      "cell_type": "markdown",
      "source": [
        "집합은 원소를 입력한 순서대로 저장하거나 출력하지 않습니다.\n",
        "순서가 다르더라도 포함된 원소가 같다면 두 집합은 동일한 것으로 간주합니다."
      ],
      "metadata": {
        "id": "nfkBpyrNJ8_H"
      }
    },
    {
      "cell_type": "markdown",
      "source": [
        "순서가 없는 집합의 특징"
      ],
      "metadata": {
        "id": "V0tl-T2HJ9st"
      }
    },
    {
      "cell_type": "markdown",
      "source": [
        "인덱스로 접근할 수 없습니다. (예: set1[0] 불가능)\n",
        "원소의 순서가 중요하지 않은 데이터를 다룰 때 유용합니다.\n",
        "검색이 빠릅니다. (순서를 유지할 필요가 없어 내부적으로 효율적인 구조 사용)"
      ],
      "metadata": {
        "id": "FPlSdOv-J-nO"
      }
    },
    {
      "cell_type": "code",
      "source": [
        "set1 = {1, 2, 3, 4, 5}\n",
        "set2 = {5, 4, 3, 2, 1}\n"
      ],
      "metadata": {
        "id": "uZeD-GtIKFFS"
      },
      "execution_count": null,
      "outputs": []
    },
    {
      "cell_type": "code",
      "source": [
        "set1"
      ],
      "metadata": {
        "id": "knq_3wYnKGkM"
      },
      "execution_count": null,
      "outputs": []
    },
    {
      "cell_type": "code",
      "source": [
        "set2"
      ],
      "metadata": {
        "id": "JrCFxyZDKHUV"
      },
      "execution_count": null,
      "outputs": []
    },
    {
      "cell_type": "code",
      "source": [
        "set1 == set2"
      ],
      "metadata": {
        "id": "Pdz7mB62KIok"
      },
      "execution_count": null,
      "outputs": []
    },
    {
      "cell_type": "markdown",
      "source": [
        "변경 가능(mutable)한 자료형"
      ],
      "metadata": {
        "id": "Qsk1euGVKL1k"
      }
    },
    {
      "cell_type": "markdown",
      "source": [
        "집합은 변경 가능(mutable)한 자료형으로, 생성 후에도 내용을 수정할 수 있다는 의\n",
        "미입니다"
      ],
      "metadata": {
        "id": "vuTng04xKMxz"
      }
    },
    {
      "cell_type": "markdown",
      "source": [
        "원소의 유일성"
      ],
      "metadata": {
        "id": "4zyhR52xKNka"
      }
    },
    {
      "cell_type": "markdown",
      "source": [
        "집합의 모든 원소는 유일합니다. (중복을 허용하지 않습니다.)"
      ],
      "metadata": {
        "id": "1y6h-fCNKOd5"
      }
    },
    {
      "cell_type": "code",
      "source": [
        "set3 = {1, 2, 2, 3, 3, 3}\n",
        "set3"
      ],
      "metadata": {
        "id": "Ze3vhMMZKLb8"
      },
      "execution_count": null,
      "outputs": []
    },
    {
      "cell_type": "markdown",
      "source": [
        "원소의 자료형 제한"
      ],
      "metadata": {
        "id": "kwSSsITVKQR0"
      }
    },
    {
      "cell_type": "markdown",
      "source": [
        "집합의 원소는 반드시 변경할 수 없는(immutable) 자료형이어야 합니다.\n",
        "원소로 문자열, 수, 튜플 등은 가능합니다.\n",
        "원소로 리스트나 딕셔너리는 사용할 수 없습니다."
      ],
      "metadata": {
        "id": "qKnP2GCRKRPh"
      }
    },
    {
      "cell_type": "code",
      "source": [
        "set4 = {1, 'a', (2, 3)}"
      ],
      "metadata": {
        "id": "F-4JuC1dKTEP"
      },
      "execution_count": null,
      "outputs": []
    },
    {
      "cell_type": "code",
      "source": [
        "set4 = {1, 'a', [2, 3]}"
      ],
      "metadata": {
        "id": "7mXQc8eNKUqI"
      },
      "execution_count": null,
      "outputs": []
    },
    {
      "cell_type": "markdown",
      "source": [
        "데이터 분석과 인공지능에서의 활용"
      ],
      "metadata": {
        "id": "Mmf-alQoKYa8"
      }
    },
    {
      "cell_type": "markdown",
      "source": [
        "집합은 데이터 분석과 인공지능 분야에서 고유한 값을 다루거나 데이터를 전처리할 때\n",
        "유용합니다.\n"
      ],
      "metadata": {
        "id": "yFlYwPh6KZxA"
      }
    },
    {
      "cell_type": "markdown",
      "source": [
        "예) 문서에서 고유한 단어 추출"
      ],
      "metadata": {
        "id": "U69II1W2Kag9"
      }
    },
    {
      "cell_type": "code",
      "source": [
        "document = ['the', 'quick', 'brown', 'fox', 'jumps', 'over', 'the', 'lazy', 'dog'] #\n",
        "unique_words = set(document)"
      ],
      "metadata": {
        "id": "Xf6mb_R9KYIK"
      },
      "execution_count": null,
      "outputs": []
    },
    {
      "cell_type": "code",
      "source": [
        "unique_words"
      ],
      "metadata": {
        "id": "f2hlfhd9Kb9I"
      },
      "execution_count": null,
      "outputs": []
    },
    {
      "cell_type": "code",
      "source": [
        "len(unique_words)"
      ],
      "metadata": {
        "id": "1vCI2aZDKdEl"
      },
      "execution_count": null,
      "outputs": []
    },
    {
      "cell_type": "markdown",
      "source": [
        "예) 데이터 중복 제거\n",
        "주의) 원래 데이터에서의 순서가 달라질 수 있음\n"
      ],
      "metadata": {
        "id": "o0dg4bFpKbwC"
      }
    },
    {
      "cell_type": "code",
      "source": [
        "data = [4, 4, 4, 4, 3, 3, 3, 2, 2, 1]\n",
        "unique_data = set(data)\n",
        "unique_data"
      ],
      "metadata": {
        "id": "3PC5sz2EKhWp"
      },
      "execution_count": null,
      "outputs": []
    },
    {
      "cell_type": "code",
      "source": [
        "unique_list = list(unique_data)\n",
        "unique_list"
      ],
      "metadata": {
        "id": "mV_29MxMKiEY"
      },
      "execution_count": null,
      "outputs": []
    }
  ]
}