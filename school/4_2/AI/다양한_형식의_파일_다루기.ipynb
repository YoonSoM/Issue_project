{
  "nbformat": 4,
  "nbformat_minor": 0,
  "metadata": {
    "colab": {
      "provenance": []
    },
    "kernelspec": {
      "name": "python3",
      "display_name": "Python 3"
    },
    "language_info": {
      "name": "python"
    }
  },
  "cells": [
    {
      "cell_type": "markdown",
      "source": [
        "이번 유닛에서는 CSV 와 JSON 형식의 파일을 읽고 쓰는 방법에 대해 학습합니다"
      ],
      "metadata": {
        "id": "g04HlBXgl6SQ"
      }
    },
    {
      "cell_type": "markdown",
      "source": [
        "CSV 파일 다루기\n",
        "CSV(Comma-Separated Values) 파일은 쉼표로 구분된 데이터를 저장하는 간단한 형\n",
        "식입니다.\n",
        "파이썬의 csv 모듈을 사용하면 이러한 파일을 쉽게 다룰 수 있습니다."
      ],
      "metadata": {
        "id": "ph1AoGddl8Fk"
      }
    },
    {
      "cell_type": "code",
      "execution_count": null,
      "metadata": {
        "id": "3rhHTNyolx9L"
      },
      "outputs": [],
      "source": [
        "import csv"
      ]
    },
    {
      "cell_type": "code",
      "source": [
        "data = [\n",
        "    ['Name', 'Age', 'City'],\n",
        "    ['Alice', 25, 'New York'],\n",
        "    ['Bob', 30, 'San Francisco'],\n",
        "    ['Charlie', 35, 'London']\n",
        "]\n",
        "data"
      ],
      "metadata": {
        "id": "JJLnjmqzl9-K"
      },
      "execution_count": null,
      "outputs": []
    },
    {
      "cell_type": "markdown",
      "source": [
        "newline = '' 파라미터\n",
        "CSV 파일을 쓸 때 newline = '' 를 사용하는 이유는 운영 체제 간의 줄 바꿈 문\n",
        "자 차이를 방지하기 위해서입니다.\n",
        "newline = '' 를 설정하면 파이썬이 자동으로 적절한 줄 바꿈 문자를 사용하여\n",
        "CSV 파일을 올바르게 작성합니다.\n"
      ],
      "metadata": {
        "id": "We31XW03mFXC"
      }
    },
    {
      "cell_type": "code",
      "source": [
        "with open('people.csv', 'w', newline = '') as file:\n",
        "    writer = csv.writer(file)\n",
        "    writer.writerows(data)\n",
        "print('CSV 파일이 생성되었습니다.')"
      ],
      "metadata": {
        "id": "MscjYAHvmGgC"
      },
      "execution_count": null,
      "outputs": []
    },
    {
      "cell_type": "code",
      "source": [
        "with open('people.csv', 'r') as file:\n",
        "  reader = csv.reader(file)\n",
        "  for row in reader:\n",
        "    print(row)"
      ],
      "metadata": {
        "id": "Abxrpj7VmMKz"
      },
      "execution_count": null,
      "outputs": []
    },
    {
      "cell_type": "markdown",
      "source": [
        "JSON 파일 다루기\n",
        "JSON(JavaScript Object Notation) 은 데이터를 구조화된 형식으로 저장하는 데\n",
        "사용되는 경량 데이터 교환 형식입니다.\n",
        "파이썬의 json 모듈을 사용하여 JSON 파일을 쉽게 다룰 수 있습니다."
      ],
      "metadata": {
        "id": "MmNYdQADmQDe"
      }
    },
    {
      "cell_type": "code",
      "source": [
        "import json"
      ],
      "metadata": {
        "id": "qfJY5XQ-mRBw"
      },
      "execution_count": null,
      "outputs": []
    },
    {
      "cell_type": "code",
      "source": [
        "data = {\n",
        "    'name': 'Alice',\n",
        "    'age': 25,\n",
        "    'city': 'New York',\n",
        "    'hobbies': ['reading', 'hiking', 'cooking']\n",
        "}\n",
        "data"
      ],
      "metadata": {
        "id": "lXD4zvGUmR3G"
      },
      "execution_count": null,
      "outputs": []
    },
    {
      "cell_type": "code",
      "source": [
        "with open('person.json', 'w') as file:\n",
        "    json.dump(data, file)\n",
        "print('JSON 파일이 생성되었습니다.')"
      ],
      "metadata": {
        "id": "BGckSgfymXH4"
      },
      "execution_count": null,
      "outputs": []
    },
    {
      "cell_type": "markdown",
      "source": [
        "json.load() 함수는 JSON 데이터를 파이썬의 해당 데이터 타입(딕셔너리, 리스트,\n",
        "문자열, 숫자 등)으로 자동 변환합니다."
      ],
      "metadata": {
        "id": "UX4-cp4dmZMG"
      }
    },
    {
      "cell_type": "code",
      "source": [
        "with open('person.json', 'r') as file:\n",
        "    loaded_data = json.load(file)\n",
        "loaded_data"
      ],
      "metadata": {
        "id": "itJwvwJtmYve"
      },
      "execution_count": null,
      "outputs": []
    },
    {
      "cell_type": "code",
      "source": [
        "data == loaded_data"
      ],
      "metadata": {
        "id": "fZJ5cZyFmdbt"
      },
      "execution_count": null,
      "outputs": []
    },
    {
      "cell_type": "markdown",
      "source": [
        "데이터 분석과 인공지능에서의 활용\n",
        "이러한 파일 처리 기술은 데이터 분석과 인공지능 프로젝트에서 다양하게 활용될 수 있\n",
        "습니다."
      ],
      "metadata": {
        "id": "AP3xzC-7meXM"
      }
    },
    {
      "cell_type": "markdown",
      "source": [
        "예) 텍스트 감정 분석\n",
        "이 예제는 실제 자연어 처리와 감정 분석의 매우 기초적인 형태를 보여줍니다."
      ],
      "metadata": {
        "id": "2JKELQ4bmg92"
      }
    },
    {
      "cell_type": "markdown",
      "source": [
        "실제 데이터 분석과 인공지능 분야에서는 이보다 훨씬 복잡하고 정교한 방법을 사용\n",
        "하지만, 이 예제를 통해 기본적인 개념을 이해할 수 있습니다."
      ],
      "metadata": {
        "id": "ehIhpJcDmiT-"
      }
    },
    {
      "cell_type": "code",
      "source": [
        "# 텍스트 파일 생성\n",
        "sentences = [\n",
        "    'I love this beautiful day',\n",
        "    'The movie was terrible and boring',\n",
        "    'I feel happy and excited about the party',\n",
        "    'This is a sad and disappointing news',\n",
        "    'The food at the restaurant was delicious'\n",
        "]\n",
        "sentences"
      ],
      "metadata": {
        "id": "cU8T9syYmgs1"
      },
      "execution_count": null,
      "outputs": []
    },
    {
      "cell_type": "code",
      "source": [
        "# 문장 저장\n",
        "with open('sentences.txt', 'w') as file:\n",
        "  for sentence in sentences:\n",
        "    file.write(sentence + '\\n')\n",
        "print('문장들이 sentences.txt 파일에 저장되었습니다.')"
      ],
      "metadata": {
        "id": "fa0tlBfsmmVT"
      },
      "execution_count": null,
      "outputs": []
    },
    {
      "cell_type": "code",
      "source": [
        "# 텍스트 파일 읽기\n",
        "with open('sentences.txt', 'r') as file:\n",
        "    loaded_sentences = file.readlines()\n",
        "loaded_sentence"
      ],
      "metadata": {
        "id": "jfiPnwEDmow-"
      },
      "execution_count": null,
      "outputs": []
    },
    {
      "cell_type": "code",
      "source": [
        "# 줄바꿈 문자 제거\n",
        "loaded_sentences = [sentence.rstrip() for sentence in loaded_sentences]\n",
        "loaded_sentences"
      ],
      "metadata": {
        "id": "OldY0b9zmriX"
      },
      "execution_count": null,
      "outputs": []
    },
    {
      "cell_type": "code",
      "source": [
        "sentences == loaded_sentences"
      ],
      "metadata": {
        "id": "6gpC6PMzmswM"
      },
      "execution_count": null,
      "outputs": []
    },
    {
      "cell_type": "code",
      "source": [
        "# 간단한 감정 분석\n",
        "positive_words = ['love', 'beautiful', 'happy', 'excited', 'delicious']\n",
        "negative_words = ['terrible', 'boring', 'sad', 'disappointing']\n",
        "for sentence in loaded_sentences:\n",
        "    words = sentence.lower().split()\n",
        "    positive_score = sum(word in positive_words for word in words)\n",
        "    negative_score = sum(word in negative_words for word in words)\n",
        "    if positive_score > negative_score:\n",
        "    sentiment = '긍정적'\n",
        "    elif negative_score > positive_score:\n",
        "    sentiment = '부정적'\n",
        "    else:\n",
        "    sentiment = '중립적'\n",
        "    print(f'문장: {sentence}')\n",
        "    print(f'감정: {sentiment}')\n",
        "    print(f'긍정 점수: {positive_score}, 부정 점수: {negative_score}')\n",
        "    print()"
      ],
      "metadata": {
        "id": "-i9jp_3Hmu2M"
      },
      "execution_count": null,
      "outputs": []
    }
  ]
}