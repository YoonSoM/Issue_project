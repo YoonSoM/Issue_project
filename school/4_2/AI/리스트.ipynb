{
  "nbformat": 4,
  "nbformat_minor": 0,
  "metadata": {
    "colab": {
      "provenance": []
    },
    "kernelspec": {
      "name": "python3",
      "display_name": "Python 3"
    },
    "language_info": {
      "name": "python"
    }
  },
  "cells": [
    {
      "cell_type": "markdown",
      "source": [
        " 리스트 기초\n"
      ],
      "metadata": {
        "id": "T-H6t4LoafNt"
      }
    },
    {
      "cell_type": "markdown",
      "source": [
        "리스트 생성"
      ],
      "metadata": {
        "id": "2IObJCbiahEQ"
      }
    },
    {
      "cell_type": "markdown",
      "source": [
        "리스트는 대괄호 [] 를 사용하여 생성하며, 각 원소는 쉼표로 구분합니다."
      ],
      "metadata": {
        "id": "9nXX-c9Haikz"
      }
    },
    {
      "cell_type": "code",
      "execution_count": null,
      "metadata": {
        "id": "QM3I8G-IaRU-"
      },
      "outputs": [],
      "source": [
        "empty_list = [] # 빈 리스트 생성\n",
        "empty_list"
      ]
    },
    {
      "cell_type": "code",
      "source": [
        "numbers = [1, 2, 3, 4, 5] # 수로 이루어진 리스트\n",
        "numbers"
      ],
      "metadata": {
        "id": "Eu4eiUZTalMD"
      },
      "execution_count": null,
      "outputs": []
    },
    {
      "cell_type": "code",
      "source": [
        "fruits = ['apple', 'banana', 'orange'] # 문자열로 이루어진 리스트\n",
        "fruits"
      ],
      "metadata": {
        "id": "32GkHMS2anJn"
      },
      "execution_count": null,
      "outputs": []
    },
    {
      "cell_type": "code",
      "source": [
        "mixed = [1, 'hello', 3.14, True] # 다양한 자료형을 포함하는 리스트\n",
        "mixed"
      ],
      "metadata": {
        "id": "s0gE3LECaorz"
      },
      "execution_count": null,
      "outputs": []
    },
    {
      "cell_type": "markdown",
      "source": [
        "리스트 인덱싱\n"
      ],
      "metadata": {
        "id": "GdDe3denaqpN"
      }
    },
    {
      "cell_type": "markdown",
      "source": [
        "리스트의 각 원소는 인덱스를 통해 접근할 수 있습니다.\n",
        "인덱스는 0부터 시작합니다. 음수 인덱스를 사용하면 뒤에서부터 셉니다.\n"
      ],
      "metadata": {
        "id": "v1wukSr9ar-c"
      }
    },
    {
      "cell_type": "code",
      "source": [
        "numbers = [10, 20, 30, 40, 50]\n",
        "first = numbers[0] # 첫 번째 원소 접근\n",
        "first"
      ],
      "metadata": {
        "id": "e3Wnbcm7astQ"
      },
      "execution_count": null,
      "outputs": []
    },
    {
      "cell_type": "code",
      "source": [
        "third = numbers[2] # 세 번째 원소 접근\n",
        "third"
      ],
      "metadata": {
        "id": "NhAzBU4CavVj"
      },
      "execution_count": null,
      "outputs": []
    },
    {
      "cell_type": "code",
      "source": [
        "last = numbers[-1] # 마지막 원소 접근\n",
        "last"
      ],
      "metadata": {
        "id": "vNSXph5eawyE"
      },
      "execution_count": null,
      "outputs": []
    },
    {
      "cell_type": "markdown",
      "source": [
        "리스트 슬라이싱"
      ],
      "metadata": {
        "id": "t1MtFW0TayF2"
      }
    },
    {
      "cell_type": "markdown",
      "source": [
        "리스트의 일부분을 추출하려면 슬라이싱을 사용합니다.\n"
      ],
      "metadata": {
        "id": "Fg1vkATkayqQ"
      }
    },
    {
      "cell_type": "code",
      "source": [
        "numbers = [1, 2, 3, 4, 5, 6, 7, 8, 9, 10]\n",
        "numbers[:3] # 처음부터 3번째 원소까지"
      ],
      "metadata": {
        "id": "9T-bZyxVawvi"
      },
      "execution_count": null,
      "outputs": []
    },
    {
      "cell_type": "code",
      "source": [
        "numbers[3:7] # 4번째부터 7번째 원소까지"
      ],
      "metadata": {
        "id": "RUF0iPqNa02n"
      },
      "execution_count": null,
      "outputs": []
    },
    {
      "cell_type": "code",
      "source": [
        "numbers[::2] # 홀수 번째 원소만"
      ],
      "metadata": {
        "id": "XpnObLdga2Kb"
      },
      "execution_count": null,
      "outputs": []
    },
    {
      "cell_type": "code",
      "source": [
        "numbers[::-1] # 리스트 뒤집기"
      ],
      "metadata": {
        "id": "Y5zTI07wa4Km"
      },
      "execution_count": null,
      "outputs": []
    },
    {
      "cell_type": "markdown",
      "source": [
        "리스트 길이\n"
      ],
      "metadata": {
        "id": "S8QOjJ1La39Z"
      }
    },
    {
      "cell_type": "markdown",
      "source": [
        "len() 함수를 사용하여 리스트의 길이(원소의 개수)를 알 수 있습니다."
      ],
      "metadata": {
        "id": "RcoAeG5oa6mS"
      }
    },
    {
      "cell_type": "code",
      "source": [
        "fruits = ['apple', 'banana', 'orange', 'grape']\n",
        "length = len(fruits)\n",
        "length"
      ],
      "metadata": {
        "id": "jiV3R3d3a7Ym"
      },
      "execution_count": null,
      "outputs": []
    },
    {
      "cell_type": "markdown",
      "source": [
        "리스트 수정\n"
      ],
      "metadata": {
        "id": "VvEVPlZUa9cX"
      }
    },
    {
      "cell_type": "markdown",
      "source": [
        "리스트는 변경 가능(mutable)한 자료형입니다.\n",
        "인덱스를 사용하여 특정 원소를 수정할 수 있습니다"
      ],
      "metadata": {
        "id": "BTC7cAiJa--2"
      }
    },
    {
      "cell_type": "code",
      "source": [
        "numbers = [1, 2, 3, 4, 5]\n",
        "numbers"
      ],
      "metadata": {
        "id": "2Uxyn4qMa_yV"
      },
      "execution_count": null,
      "outputs": []
    },
    {
      "cell_type": "code",
      "source": [
        ":\n",
        "numbers[2] = 30 # 세 번째 원소 수정\n",
        "numbers"
      ],
      "metadata": {
        "id": "5DCGdVGIbCKz"
      },
      "execution_count": null,
      "outputs": []
    },
    {
      "cell_type": "markdown",
      "source": [
        "데이터 분석과 인공지능에서의 활용"
      ],
      "metadata": {
        "id": "X8Mp_hQcbDRq"
      }
    },
    {
      "cell_type": "markdown",
      "source": [
        "리스트는 데이터 분석과 인공지능 모델링에서 데이터를 저장하고 처리하는 데 자주 사용\n",
        "됩니다"
      ],
      "metadata": {
        "id": "9QtUBd6_bFe8"
      }
    },
    {
      "cell_type": "markdown",
      "source": [
        "예) 온도 데이터 저장"
      ],
      "metadata": {
        "id": "Afic5ZpWbHKQ"
      }
    },
    {
      "cell_type": "code",
      "source": [
        "temperature_readings = [20.5, 22.1, 23.0, 19.8, 21.3]\n",
        "temperature_readings"
      ],
      "metadata": {
        "id": "arHDqPddbHxp"
      },
      "execution_count": null,
      "outputs": []
    },
    {
      "cell_type": "markdown",
      "source": [
        "예) 클래스 레이블 저장"
      ],
      "metadata": {
        "id": "QLZqVQwxbJd9"
      }
    },
    {
      "cell_type": "code",
      "source": [
        "class_labels = ['cat', 'dog', 'bird', 'fish', 'dog']\n",
        "class_labels"
      ],
      "metadata": {
        "id": "do9srYUabKnb"
      },
      "execution_count": null,
      "outputs": []
    },
    {
      "cell_type": "markdown",
      "source": [
        "예) 모델 정확도 기록"
      ],
      "metadata": {
        "id": "7dMBr-oCbNoE"
      }
    },
    {
      "cell_type": "code",
      "source": [
        "accuracies = [0.92, 0.94, 0.89, 0.95, 0.93]\n",
        "accuracies"
      ],
      "metadata": {
        "id": "Rhn_Zl1MbOl1"
      },
      "execution_count": null,
      "outputs": []
    },
    {
      "cell_type": "markdown",
      "source": [
        "리스트 활용\n"
      ],
      "metadata": {
        "id": "EFEdCZM3bQnU"
      }
    },
    {
      "cell_type": "markdown",
      "source": [
        "이번 유닛에서는 리스트를 더 깊이 있게 활용하는 방법에 대해 학습합니다.\n",
        "리스트 조작, 메서드 사용, 그리고 리스트를 활용한 다양한 작업을 살펴보겠습니다"
      ],
      "metadata": {
        "id": "FYxLU3KubRsu"
      }
    },
    {
      "cell_type": "markdown",
      "source": [
        "리스트 연산\n"
      ],
      "metadata": {
        "id": "aDTFdueAbTRB"
      }
    },
    {
      "cell_type": "markdown",
      "source": [
        "리스트는 + 로 이어붙이거나 * 로 반복할 수 있습니다."
      ],
      "metadata": {
        "id": "qNxnHYx0bUbj"
      }
    },
    {
      "cell_type": "code",
      "source": [
        "list1 = [1, 2, 3]\n",
        "list2 = [4, 5, 6]\n",
        "combined = list1 + list2\n",
        "combined"
      ],
      "metadata": {
        "id": "nfOxt4Z0bV9Y"
      },
      "execution_count": null,
      "outputs": []
    },
    {
      "cell_type": "code",
      "source": [
        "repeated = list1 * 3\n",
        "repeated\n"
      ],
      "metadata": {
        "id": "gJvaVvVtbXAT"
      },
      "execution_count": null,
      "outputs": []
    },
    {
      "cell_type": "markdown",
      "source": [
        "in 연산자를 사용하여 특정 원소가 리스트에 포함되어 있는지 확인할 수 있습니다"
      ],
      "metadata": {
        "id": "SY7NY70PbYMG"
      }
    },
    {
      "cell_type": "code",
      "source": [
        "fruits = ['apple', 'banana', 'orange']\n",
        "'apple' in fruits"
      ],
      "metadata": {
        "id": "nQYbuAssbY2I"
      },
      "execution_count": null,
      "outputs": []
    },
    {
      "cell_type": "code",
      "source": [
        "'grape' in fruits"
      ],
      "metadata": {
        "id": "yqkTCYXIbbUY"
      },
      "execution_count": null,
      "outputs": []
    },
    {
      "cell_type": "code",
      "source": [
        "numbers = [1, 2, 3, 4, 5]\n",
        "3 in numbers"
      ],
      "metadata": {
        "id": "t1lZsPQrbcTf"
      },
      "execution_count": null,
      "outputs": []
    },
    {
      "cell_type": "code",
      "source": [
        "7 in numbers"
      ],
      "metadata": {
        "id": "dX181XIMbdfR"
      },
      "execution_count": null,
      "outputs": []
    },
    {
      "cell_type": "markdown",
      "source": [
        "리스트 메서드"
      ],
      "metadata": {
        "id": "uoq9CaelbfCe"
      }
    },
    {
      "cell_type": "markdown",
      "source": [
        "리스트에는 유용한 내장 메서드들이 있습니다"
      ],
      "metadata": {
        "id": "mBQqhQgSbgC-"
      }
    },
    {
      "cell_type": "markdown",
      "source": [
        "append()\n",
        "리스트 끝에 원소를 추가합니다.\n"
      ],
      "metadata": {
        "id": "o-MhRh5AbhQ2"
      }
    },
    {
      "cell_type": "code",
      "source": [
        "fruits = ['apple', 'banana']\n",
        "fruits.append('orange')\n",
        "fruits"
      ],
      "metadata": {
        "id": "lSP6KVzYbiBq"
      },
      "execution_count": null,
      "outputs": []
    },
    {
      "cell_type": "markdown",
      "source": [
        "insert()\n",
        "지정한 위치에 원소를 삽입합니다."
      ],
      "metadata": {
        "id": "2ZO64MKMbluY"
      }
    },
    {
      "cell_type": "code",
      "source": [
        "numbers = [1, 2, 4, 5]\n",
        "numbers.insert(2, 3)\n",
        "numbers"
      ],
      "metadata": {
        "id": "3wnJjqYOoM5D"
      },
      "execution_count": null,
      "outputs": []
    },
    {
      "cell_type": "markdown",
      "source": [
        "remove()\n"
      ],
      "metadata": {
        "id": "0p0ExUwioKH4"
      }
    },
    {
      "cell_type": "markdown",
      "source": [
        "지정한 값을 가진 원소를 제거합니다.\n",
        "만약 해당 값이 여러 개인 경우, 첫 번째 원소만 제거합니다.\n",
        "만약 해당 값이 없는 경우, ValueError 를 발생시킵니다."
      ],
      "metadata": {
        "id": "n2rnK_SzoPOZ"
      }
    },
    {
      "cell_type": "code",
      "source": [
        "colors = ['red', 'blue', 'green', 'blue']\n",
        "colors.remove('blue')\n",
        "colors"
      ],
      "metadata": {
        "id": "1qHvuLw8oQh3"
      },
      "execution_count": null,
      "outputs": []
    },
    {
      "cell_type": "code",
      "source": [
        "colors = ['red', 'blue', 'green', 'blue']\n",
        "colors.remove('black')\n",
        "colors\n"
      ],
      "metadata": {
        "id": "EYpnfN0-oVO2"
      },
      "execution_count": null,
      "outputs": []
    },
    {
      "cell_type": "markdown",
      "source": [
        "pop()\n"
      ],
      "metadata": {
        "id": "4E81Ys7noXZ_"
      }
    },
    {
      "cell_type": "markdown",
      "source": [
        "지정한 인덱스의 원소를 제거하고 반환합니다.\n",
        "인덱스를 지정하지 않으면 마지막 원소를 제거합니다.\n"
      ],
      "metadata": {
        "id": "d1GH9xJmojXg"
      }
    },
    {
      "cell_type": "code",
      "source": [
        "fruits = ['apple', 'banana', 'orange']\n",
        "removed = fruits.pop(1)\n",
        "removed, fruits"
      ],
      "metadata": {
        "id": "UVhj3Ms-ok47"
      },
      "execution_count": null,
      "outputs": []
    },
    {
      "cell_type": "code",
      "source": [
        "fruits = ['apple', 'banana', 'orange']\n",
        "fruits.pop()\n",
        "fruits"
      ],
      "metadata": {
        "id": "Xpru1_8Domou"
      },
      "execution_count": null,
      "outputs": []
    },
    {
      "cell_type": "markdown",
      "source": [
        "index()"
      ],
      "metadata": {
        "id": "OrGz3uMwonpe"
      }
    },
    {
      "cell_type": "markdown",
      "source": [
        "지정한 값을 가진 원소의 인덱스를 반환합니다.\n",
        "만약 해당 값이 여러 개인 경우, 첫 번째 원소의 인덱스를 반환합니다.\n",
        "만약 해당 값이 없는 경우, ValueError 를 발생시킵니다.\n"
      ],
      "metadata": {
        "id": "cu9csFTIoo_b"
      }
    },
    {
      "cell_type": "code",
      "source": [
        "numbers = [10, 20, 30, 40, 50]\n",
        "index = numbers.index(30)\n",
        "index"
      ],
      "metadata": {
        "id": "G9MNO0Q7opuT"
      },
      "execution_count": null,
      "outputs": []
    },
    {
      "cell_type": "code",
      "source": [
        "numbers = [10, 20, 30, 40, 30]\n",
        "index = numbers.index(30)\n",
        "index"
      ],
      "metadata": {
        "id": "i2uPAW-NosgD"
      },
      "execution_count": null,
      "outputs": []
    },
    {
      "cell_type": "code",
      "source": [
        "numbers = [10, 20, 30, 40, 50]\n",
        "index = numbers.index(60)\n",
        "index"
      ],
      "metadata": {
        "id": "mI5plqvJotvI"
      },
      "execution_count": null,
      "outputs": []
    },
    {
      "cell_type": "markdown",
      "source": [
        "count()"
      ],
      "metadata": {
        "id": "6ryhW5Viou5I"
      }
    },
    {
      "cell_type": "markdown",
      "source": [
        "지정한 값을 가진 원소의 개수를 반환합니다.\n"
      ],
      "metadata": {
        "id": "RFbzah-Zovuz"
      }
    },
    {
      "cell_type": "code",
      "source": [
        "items = ['a', 'b', 'a', 'c', 'a', 'd']\n",
        "count = items.count('a')\n",
        "count"
      ],
      "metadata": {
        "id": "UvlFPH9qoxAy"
      },
      "execution_count": null,
      "outputs": []
    },
    {
      "cell_type": "code",
      "source": [
        "count = items.count('e')\n",
        "count"
      ],
      "metadata": {
        "id": "ODjtaJQfoyxa"
      },
      "execution_count": null,
      "outputs": []
    },
    {
      "cell_type": "markdown",
      "source": [
        "sort()"
      ],
      "metadata": {
        "id": "jWuZkslVo0Z6"
      }
    },
    {
      "cell_type": "markdown",
      "source": [
        "리스트를 정렬합니다."
      ],
      "metadata": {
        "id": "Mr-r9BL7o1a1"
      }
    },
    {
      "cell_type": "code",
      "source": [
        "numbers = [3, 1, 4, 1, 5, 9, 2, 6, 5, 3, 5]\n",
        "numbers.sort() # 비내림차순 정렬\n",
        "numbers"
      ],
      "metadata": {
        "id": "0mKn76gvo1_k"
      },
      "execution_count": null,
      "outputs": []
    },
    {
      "cell_type": "code",
      "source": [
        "numbers = [3, 1, 4, 1, 5, 9, 2, 6, 5, 3, 5]\n",
        "numbers.sort(reverse = True) # 비오름차순 정렬\n",
        "numbers"
      ],
      "metadata": {
        "id": "9i3F_-HWo316"
      },
      "execution_count": null,
      "outputs": []
    },
    {
      "cell_type": "markdown",
      "source": [
        "reverse()\n"
      ],
      "metadata": {
        "id": "cncrr0z0o4-N"
      }
    },
    {
      "cell_type": "markdown",
      "source": [
        "리스트의 순서를 뒤집습니다"
      ],
      "metadata": {
        "id": "sq4vXpV0o6Oq"
      }
    },
    {
      "cell_type": "code",
      "source": [
        "fruits = ['apple', 'banana', 'orange']\n",
        "fruits.reverse()\n",
        "fruits"
      ],
      "metadata": {
        "id": "vJZMwpRJo7nc"
      },
      "execution_count": null,
      "outputs": []
    },
    {
      "cell_type": "markdown",
      "source": [
        "리스트 함수"
      ],
      "metadata": {
        "id": "bUa_gYapo8w7"
      }
    },
    {
      "cell_type": "markdown",
      "source": [
        "리스트를 다룰 때 유용한 내장 함수들이 있습니다"
      ],
      "metadata": {
        "id": "IpFbEIsso-BE"
      }
    },
    {
      "cell_type": "markdown",
      "source": [
        "max()"
      ],
      "metadata": {
        "id": "eSOE7Dyvo_lz"
      }
    },
    {
      "cell_type": "markdown",
      "source": [
        "리스트에서 최댓값을 찾아줍니다.\n"
      ],
      "metadata": {
        "id": "uN7aBOLrpAZ6"
      }
    },
    {
      "cell_type": "code",
      "source": [
        "scores = [80, 70, 60, 100, 90]\n",
        "highest_score = max(scores)\n",
        "highest_score"
      ],
      "metadata": {
        "id": "kTM4eVPKpBg_"
      },
      "execution_count": null,
      "outputs": []
    },
    {
      "cell_type": "markdown",
      "source": [
        "min()"
      ],
      "metadata": {
        "id": "oV4WEwMipCiN"
      }
    },
    {
      "cell_type": "markdown",
      "source": [
        "리스트에서 최솟값을 찾아줍니다"
      ],
      "metadata": {
        "id": "fG7mOxBZpDOO"
      }
    },
    {
      "cell_type": "code",
      "source": [
        "lowest_score = min(scores)\n",
        "lowest_score"
      ],
      "metadata": {
        "id": "xRsX3z7bpEWy"
      },
      "execution_count": null,
      "outputs": []
    },
    {
      "cell_type": "markdown",
      "source": [
        "sum()"
      ],
      "metadata": {
        "id": "dtTYsk_HpHSh"
      }
    },
    {
      "cell_type": "markdown",
      "source": [
        "리스트 원소의 합계를 계산합니다.\n"
      ],
      "metadata": {
        "id": "kXD8roNRpI-n"
      }
    },
    {
      "cell_type": "code",
      "source": [
        "total_score = sum(scores)\n",
        "total_score"
      ],
      "metadata": {
        "id": "4sldWGbUpKCi"
      },
      "execution_count": null,
      "outputs": []
    },
    {
      "cell_type": "code",
      "source": [
        "average_score = sum(scores) / len(scores) # 평균 계산하기\n",
        "average_score"
      ],
      "metadata": {
        "id": "wfKCBB20pLGK"
      },
      "execution_count": null,
      "outputs": []
    },
    {
      "cell_type": "markdown",
      "source": [
        "데이터 분석과 인공지능에서의 활용"
      ],
      "metadata": {
        "id": "YRZtYNwgpMBS"
      }
    },
    {
      "cell_type": "markdown",
      "source": [
        "리스트 활용은 데이터 분석과 인공지능 모델링에서 매우 중요합니다"
      ],
      "metadata": {
        "id": "PC35J1SmpNFh"
      }
    },
    {
      "cell_type": "markdown",
      "source": [
        "예) 특성 선택"
      ],
      "metadata": {
        "id": "ql11u5tGpOMl"
      }
    },
    {
      "cell_type": "code",
      "source": [
        "features = ['age', 'gender', 'height', 'weight', 'blood_type']\n",
        "selected_features = features[:3]\n",
        "selected_features"
      ],
      "metadata": {
        "id": "7UD6fj44pPnJ"
      },
      "execution_count": null,
      "outputs": []
    },
    {
      "cell_type": "markdown",
      "source": [
        "예) 기술 통계량 계산"
      ],
      "metadata": {
        "id": "1aB5yH2-pRPI"
      }
    },
    {
      "cell_type": "code",
      "source": [
        "data = [23, 45, 12, 67, 89, 34, 56]\n",
        "data_length = len(data)\n",
        "data_sum = sum(data)\n",
        "data_max = max(data)\n",
        "data_min = min(data)\n",
        "data_mean = data_sum / data_length\n",
        "data_range = data_max - data_min\n",
        "print('데이터 개수:', data_length)\n",
        "print('합계:', data_sum)\n",
        "print('평균:', data_mean)\n",
        "print('범위:', data_range)"
      ],
      "metadata": {
        "id": "OtsutmjRpR1s"
      },
      "execution_count": null,
      "outputs": []
    },
    {
      "cell_type": "markdown",
      "source": [
        "예) 특정 값 포함 여부 확인"
      ],
      "metadata": {
        "id": "nq3kyQMPpTZi"
      }
    },
    {
      "cell_type": "code",
      "source": [
        "target_data = 45\n",
        "is_present = target_data in data\n",
        "is_present"
      ],
      "metadata": {
        "id": "eKvyqy-upVxN"
      },
      "execution_count": null,
      "outputs": []
    }
  ]
}