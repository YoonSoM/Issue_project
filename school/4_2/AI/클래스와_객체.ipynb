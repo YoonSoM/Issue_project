{
  "nbformat": 4,
  "nbformat_minor": 0,
  "metadata": {
    "colab": {
      "provenance": []
    },
    "kernelspec": {
      "name": "python3",
      "display_name": "Python 3"
    },
    "language_info": {
      "name": "python"
    }
  },
  "cells": [
    {
      "cell_type": "markdown",
      "source": [],
      "metadata": {
        "id": "KY_ZF5k069FS"
      }
    },
    {
      "cell_type": "markdown",
      "source": [
        "객체의 개념"
      ],
      "metadata": {
        "id": "rk2MfP0d69uW"
      }
    },
    {
      "cell_type": "markdown",
      "source": [
        "객체(Object)는 실생활에서 우리가 인식할 수 있는 모든 것들이라고 생각할 수 있습니다.\n",
        "예를 들어, 여러분의 강아지, 자동차, 혹은 스마트폰 등이 모두 객체입니다."
      ],
      "metadata": {
        "id": "UUGbRv1h6-jZ"
      }
    },
    {
      "cell_type": "markdown",
      "source": [
        "객체의 특징:\n",
        "1. 객체는 고유한 특성(속성)을 가집니다.\n",
        "2. 객체는 특정한 행동(기능)을 할 수 있습니다"
      ],
      "metadata": {
        "id": "L4LyctRp6_gx"
      }
    },
    {
      "cell_type": "markdown",
      "source": [
        "예를 들어, '강아지' 객체를 생각해봅시다:\n",
        "특성(속성): 이름, 나이, 품종, 색깔 등\n",
        "행동(기능): 짖기, 뛰기, 먹기 등"
      ],
      "metadata": {
        "id": "wY7m1KO97Apl"
      }
    },
    {
      "cell_type": "markdown",
      "source": [
        "프로그래밍에서 객체는 이러한 실제 세계의 사물이나 개념을 코드로 표현한 것입니다"
      ],
      "metadata": {
        "id": "xc-vfiwb7ByO"
      }
    },
    {
      "cell_type": "markdown",
      "source": [
        "클래스의 개념"
      ],
      "metadata": {
        "id": "4wnSCg9p7Cm3"
      }
    },
    {
      "cell_type": "markdown",
      "source": [
        "클래스(Class)는 객체를 만들기 위한 '설계도' 또는 '템플릿'이라고 생각할 수 있습니다."
      ],
      "metadata": {
        "id": "g9PAnY-n7DcL"
      }
    },
    {
      "cell_type": "markdown",
      "source": [
        "클래스와 객체의 관계를 이해하기 위해 '붕어빵 틀'과 '붕어빵'의 비유를 사용해 보겠습니\n",
        "다:\n",
        "클래스는 '붕어빵 틀'과 같습니다.\n",
        "객체는 이 틀로 찍어낸 '실제 붕어빵'과 같습니다.\n",
        "즉, 하나의 클래스로 여러 개의 서로 다른 객체를 만들 수 있습니다."
      ],
      "metadata": {
        "id": "9P-6AUIB7EGY"
      }
    },
    {
      "cell_type": "markdown",
      "source": [
        "클래스의 정의"
      ],
      "metadata": {
        "id": "JtySdRZl7H2U"
      }
    },
    {
      "cell_type": "markdown",
      "source": [
        "파이썬에서 클래스를 정의하는 방법을 알아보겠습니다."
      ],
      "metadata": {
        "id": "acKCCsoj7Iii"
      }
    },
    {
      "cell_type": "code",
      "execution_count": null,
      "metadata": {
        "id": "GfvxFtf867V9"
      },
      "outputs": [],
      "source": [
        "class Dog:\n",
        "  def __init__(self, name, age):\n",
        "      self.name = name\n",
        "      self.age = age\n",
        "  def bark(self):\n",
        "      print(f'{self.name}가 멍멍! 하고 짖습니다.')"
      ]
    },
    {
      "cell_type": "code",
      "source": [
        "# 객체 생성\n",
        "my_dog = Dog('멍멍이', 3)"
      ],
      "metadata": {
        "id": "2HvXrSgE7Plz"
      },
      "execution_count": null,
      "outputs": []
    },
    {
      "cell_type": "code",
      "source": [
        "# 객체 사용\n",
        "print(f'내 강아지의 이름은 {my_dog.name}이고, {my_dog.age}살입니다.')\n",
        "my_dog.bark() # 출력: 멍멍이가 멍멍! 하고 짖습니다."
      ],
      "metadata": {
        "id": "uU9-mLnU7Qa2"
      },
      "execution_count": null,
      "outputs": []
    },
    {
      "cell_type": "markdown",
      "source": [
        "이 예제에서:\n",
        "class Dog: 로 'Dog'라는 클래스를 정의합니다. 이는 강아지라는 객체를 만들기\n",
        "위한 설계도입니다.\n",
        "__init__ 메소드는 객체가 생성될 때 자동으로 호출되는 특별한 메소드입니다. 여\n",
        "기서 강아지의 이름과 나이를 설정합니다.\n",
        "self 는 객체 자신을 가리키는 참조입니다. 객체의 속성에 접근할 때 사용합니다.\n",
        "bark 메소드는 강아지가 짖는 행동을 나타냅니다."
      ],
      "metadata": {
        "id": "GHdWTI5o7TS_"
      }
    },
    {
      "cell_type": "markdown",
      "source": [
        "여러 객체의 생성"
      ],
      "metadata": {
        "id": "x1rzw42u7U_8"
      }
    },
    {
      "cell_type": "markdown",
      "source": [
        "하나의 클래스로 여러 개의 서로 다른 객체를 만들 수 있습니다"
      ],
      "metadata": {
        "id": "ckmeoex87WBl"
      }
    },
    {
      "cell_type": "code",
      "source": [
        "# 여러 강아지 객체 생성\n",
        "dog1 = Dog('바둑이', 5)\n",
        "dog2 = Dog('흰둥이', 2)"
      ],
      "metadata": {
        "id": "1S7jlFyy7Wx7"
      },
      "execution_count": null,
      "outputs": []
    },
    {
      "cell_type": "code",
      "source": [
        "# 객체 사용\n",
        "dog1.bark() # 출력: 바둑이가 멍멍! 하고 짖습니다.\n",
        "dog2.bark() # 출력: 흰둥이가 멍멍! 하고 짖습니다."
      ],
      "metadata": {
        "id": "Ad8KDzOy7S1h"
      },
      "execution_count": null,
      "outputs": []
    },
    {
      "cell_type": "code",
      "source": [
        "f'{dog1.name}는 {dog1.age}살이고, {dog2.name}는 {dog2.age}살입니다.'"
      ],
      "metadata": {
        "id": "85Xw5OEo7Syj"
      },
      "execution_count": null,
      "outputs": []
    },
    {
      "cell_type": "markdown",
      "source": [
        "이처럼 같은 Dog 클래스로 만들어졌지만, 각 객체는 서로 다른 이름과 나이를 가집니다."
      ],
      "metadata": {
        "id": "HiMjc22L7aYt"
      }
    },
    {
      "cell_type": "markdown",
      "source": [
        "데이터 분석 관련 예제"
      ],
      "metadata": {
        "id": "kmNlFSGk7bHG"
      }
    },
    {
      "cell_type": "markdown",
      "source": [
        "데이터 포인트를 표현하는 간단한 클래스를 만들어 보겠습니다"
      ],
      "metadata": {
        "id": "Zwnv9Q2q7b-L"
      }
    },
    {
      "cell_type": "code",
      "source": [
        "class DataPoint:\n",
        "    def __init__(self, x, y):\n",
        "      self.x = x\n",
        "      self.y = y\n",
        "    def distance_from_origin(self):\n",
        "      return (self.x ** 2 + self.y ** 2) ** 0.5"
      ],
      "metadata": {
        "id": "_5jj08ez7eI2"
      },
      "execution_count": null,
      "outputs": []
    },
    {
      "cell_type": "code",
      "source": [
        "# 데이터 포인트 객체 생성\n",
        "point1 = DataPoint(3, 4)\n",
        "point2 = DataPoint(1, 1)"
      ],
      "metadata": {
        "id": "lFtMSK4E7kPt"
      },
      "execution_count": null,
      "outputs": []
    },
    {
      "cell_type": "code",
      "source": [
        "# 원점으로부터의 거리 계산\n",
        "f'Point1의 원점 거리: {point1.distance_from_origin()}'"
      ],
      "metadata": {
        "id": "IuRuGYmy7lpj"
      },
      "execution_count": null,
      "outputs": []
    },
    {
      "cell_type": "code",
      "source": [
        "# 원점으로부터의 거리 계산\n",
        "f'Point2의 원점 거리: {point2.distance_from_origin()}'"
      ],
      "metadata": {
        "id": "ct3ePxNk7nAZ"
      },
      "execution_count": null,
      "outputs": []
    },
    {
      "cell_type": "markdown",
      "source": [
        "이 예제에서 DataPoint 클래스는 2D 공간의 한 점을 표현하는 객체를 만들기 위한 설\n",
        "계도입니다.\n",
        "각 DataPoint 객체는 x, y 좌표를 가지며, 원점으로부터의 거리를 계산할 수 있습니다."
      ],
      "metadata": {
        "id": "VvXPPBzh7oYA"
      }
    },
    {
      "cell_type": "markdown",
      "source": [
        "데이터 분석과 인공지능에서의 활용"
      ],
      "metadata": {
        "id": "K7aUEJSX7pPt"
      }
    },
    {
      "cell_type": "markdown",
      "source": [
        "클래스와 객체는 데이터 분석과 인공지능 분야에서 다음과 같이 활용될 수 있습니다:\n",
        "1. 데이터 구조화: 복잡한 데이터를 객체로 표현하여 체계적으로 관리할 수 있습니다.\n",
        "2. 데이터 전처리: 데이터 정제, 변환 등의 작업을 객체의 메소드로 구현할 수 있습니다.\n",
        "3. 모델 구현: 머신러닝 모델을 클래스로 구현하여 학습, 예측 등의 기능을 체계적으로\n",
        "관리할 수 있습니다."
      ],
      "metadata": {
        "id": "Ckd044IF7qDv"
      }
    },
    {
      "cell_type": "markdown",
      "source": [
        "예) 데이터셋을 표현하는 클래스\n",
        "이 예제에서 Dataset 클래스는 데이터셋을 표현하는 객체를 만들기 위한 설계도\n",
        "입니다.\n",
        "각 Dataset 객체는 데이터를 저장하고, 평균, 최대값, 최소값을 계산할 수 있습니\n",
        "다.\n"
      ],
      "metadata": {
        "id": "k41PdhB37rH0"
      }
    },
    {
      "cell_type": "code",
      "source": [
        "class Dataset:\n",
        "    def __init__(self, data):\n",
        "        self.data = data\n",
        "    def mean(self):\n",
        "        return sum(self.data) / len(self.data)\n",
        "    def max(self):\n",
        "        return max(self.data)\n",
        "    def min(self):\n",
        "        return min(self.data)"
      ],
      "metadata": {
        "id": "a36_rsiw7sF1"
      },
      "execution_count": null,
      "outputs": []
    },
    {
      "cell_type": "code",
      "source": [
        "# 사용 예\n",
        "temperatures = Dataset([20, 25, 30, 27, 22])"
      ],
      "metadata": {
        "id": "SpAzosqJ7xhp"
      },
      "execution_count": null,
      "outputs": []
    },
    {
      "cell_type": "code",
      "source": [
        "f'평균 온도: {temperatures.mean()}'"
      ],
      "metadata": {
        "id": "QnnEqaOG7y4E"
      },
      "execution_count": null,
      "outputs": []
    },
    {
      "cell_type": "code",
      "source": [
        "f'최고 온도: {temperatures.max()}'"
      ],
      "metadata": {
        "id": "UiwiWAF47z-S"
      },
      "execution_count": null,
      "outputs": []
    },
    {
      "cell_type": "code",
      "source": [
        "f'최저 온도: {temperatures.min()}'"
      ],
      "metadata": {
        "id": "Ustl_YgX709E"
      },
      "execution_count": null,
      "outputs": []
    }
  ]
}