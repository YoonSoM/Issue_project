{
  "nbformat": 4,
  "nbformat_minor": 0,
  "metadata": {
    "colab": {
      "provenance": []
    },
    "kernelspec": {
      "name": "python3",
      "display_name": "Python 3"
    },
    "language_info": {
      "name": "python"
    }
  },
  "cells": [
    {
      "cell_type": "markdown",
      "source": [
        "모듈, 패키지, 라이브러리"
      ],
      "metadata": {
        "id": "eQYz4BQDg9NG"
      }
    },
    {
      "cell_type": "markdown",
      "source": [
        "이번 유닛에서는 파이썬의 모듈, 패키지, 라이브러리의 개념을 명확히 구분하고 이해합\n",
        "니다.\n",
        "각 개념의 관계와 차이점을 학습하고, 데이터 분석과 인공지능 분야에서 자주 사용되는\n",
        "주요 라이브러리의 기본적인 사용법을 배웁니다."
      ],
      "metadata": {
        "id": "DYjhcMYZg_AE"
      }
    },
    {
      "cell_type": "markdown",
      "source": [
        "모듈, 패키지, 라이브러리의 개념과 관계"
      ],
      "metadata": {
        "id": "dbJ9cnAshADS"
      }
    },
    {
      "cell_type": "markdown",
      "source": [
        "파이썬에서 코드를 구조화하고 재사용하는 방법에는 여러 가지가 있습니다.\n",
        "모듈, 패키지, 라이브러리는 이러한 방법들을 나타내는 용어입니다."
      ],
      "metadata": {
        "id": "nRE5tWKrhBIP"
      }
    },
    {
      "cell_type": "markdown",
      "source": [
        "모듈(Module)\n"
      ],
      "metadata": {
        "id": "SH0t3bZ_hClg"
      }
    },
    {
      "cell_type": "markdown",
      "source": [
        "특징: 변수, 함수, 클래스 등을 포함할 수 있음\n",
        "예시: math , random"
      ],
      "metadata": {
        "id": "zlkmhmJGhDoI"
      }
    },
    {
      "cell_type": "markdown",
      "source": [
        "패키지(Package)\n"
      ],
      "metadata": {
        "id": "el1JGMuOhE1a"
      }
    },
    {
      "cell_type": "markdown",
      "source": [
        "정의: 여러 모듈을 묶어놓은 디렉토리\n",
        "특징: 관련된 모듈들을 체계적으로 관리할 수 있음"
      ],
      "metadata": {
        "id": "pXjIQGW1hF7y"
      }
    },
    {
      "cell_type": "markdown",
      "source": [
        "라이브러리(Library)"
      ],
      "metadata": {
        "id": "Xf5-DVPLhGxH"
      }
    },
    {
      "cell_type": "markdown",
      "source": [
        "정의: 특정 기능을 수행하기 위한 모듈과 패키지의 모음\n",
        "특징: 보통 여러 패키지로 구성되며, 큰 규모의 기능을 제공\n",
        "주의: 패키지와 라이브러리는 종종 혼용되어 사용됨"
      ],
      "metadata": {
        "id": "IfIqE3M6hHqx"
      }
    },
    {
      "cell_type": "markdown",
      "source": [
        "관계\n"
      ],
      "metadata": {
        "id": "gJzLtu-RhIwo"
      }
    },
    {
      "cell_type": "markdown",
      "source": [
        "여러 모듈이 모여 하나의 패키지를 형성할 수 있습니다.\n",
        "하나 또는 여러 개의 패키지가 모여 라이브러리를 구성할 수 있습니다.\n",
        "큰 규모의 라이브러리는 여러 패키지로 구성되지만, 작은 규모의 경우 하나의 패키\n",
        "지로 이루어질 수 있습니다.\n"
      ],
      "metadata": {
        "id": "ivKNBvFghJwF"
      }
    },
    {
      "cell_type": "markdown",
      "source": [
        "예"
      ],
      "metadata": {
        "id": "vxnXjLVbhLIX"
      }
    },
    {
      "cell_type": "markdown",
      "source": [
        "NumPy , Pandas , Matplotlib 은 모두 파이썬 라이브러리입니다.\n",
        "이들은 각각 여러 모듈로 구성된 패키지 구조를 가지고 있습니다.\n",
        "따라서 이들을 패키지라고 부르기도 하고 라이브러리라고 부르기도 합니다."
      ],
      "metadata": {
        "id": "s-8YoSO2hMVb"
      }
    },
    {
      "cell_type": "markdown",
      "source": [
        "주요 라이브러리 소개\n"
      ],
      "metadata": {
        "id": "oiaYaM5XhNSL"
      }
    },
    {
      "cell_type": "markdown",
      "source": [
        "파이썬에는 데이터 분석과 인공지능 분야에서 널리 사용되는 몇 가지 핵심 라이브러리가\n",
        "있습니다.\n",
        "이들 라이브러리는 복잡한 작업을 간단하게 수행할 수 있게 해주며, 효율적인 데이터 처\n",
        "리와 분석을 가능하게 합니다.\n"
      ],
      "metadata": {
        "id": "Z13OEkkBhORK"
      }
    },
    {
      "cell_type": "markdown",
      "source": [
        "라이브러리 설치 및 Google Colab에서의 사용"
      ],
      "metadata": {
        "id": "Hcok5TxMhPbt"
      }
    },
    {
      "cell_type": "markdown",
      "source": [
        "Google Colab은 이미 대부분의 데이터 과학 라이브러리가 설치되어 있는 환경을 제\n",
        "공합니다.\n",
        "따라서 NumPy , Pandas , Matplotlib 등은 별도의 설치 없이 바로 사용할 수 있\n",
        "습니다.\n",
        "만약 Colab에 설치되어 있지 않은 라이브러리를 사용해야 한다면, 노트북 셀에서 다\n",
        "음과 같이 설치할 수 있습니다:"
      ],
      "metadata": {
        "id": "xiHEw9EshQWs"
      }
    },
    {
      "cell_type": "markdown",
      "source": [
        "!pip install 라이브러리이름"
      ],
      "metadata": {
        "id": "sCUaPlW0hRWB"
      }
    },
    {
      "cell_type": "markdown",
      "source": [
        "NumPy\n",
        "수치 계산을 위한 라이브러리\n",
        "Colab에서 NumPy 라이브러리를 사용하려면 다음과 같이 import 문만 작성하면\n",
        "됩니다.\n"
      ],
      "metadata": {
        "id": "1-Qoivs8hSRF"
      }
    },
    {
      "cell_type": "markdown",
      "source": [
        "import numpy as np"
      ],
      "metadata": {
        "id": "xQekRquBhTMd"
      }
    },
    {
      "cell_type": "code",
      "source": [
        "import numpy as np"
      ],
      "metadata": {
        "id": "q1oouNnXhUoo"
      },
      "execution_count": null,
      "outputs": []
    },
    {
      "cell_type": "code",
      "execution_count": null,
      "metadata": {
        "id": "TenwjiHignYO"
      },
      "outputs": [],
      "source": [
        "arr = np.array([1, 2, 3, 4, 5]) # 배열 생성\n",
        "arr"
      ]
    },
    {
      "cell_type": "code",
      "source": [
        "np.mean(arr) # 배열의 평균"
      ],
      "metadata": {
        "id": "zAgYoMvahWoW"
      },
      "execution_count": null,
      "outputs": []
    },
    {
      "cell_type": "code",
      "source": [
        "np.sum(arr) # 배열의 합계"
      ],
      "metadata": {
        "id": "vtaA7lkshXjN"
      },
      "execution_count": null,
      "outputs": []
    },
    {
      "cell_type": "code",
      "source": [
        "matrix = np.array([[1, 2, 3], [4, 5, 6], [7, 8, 9]]) # 2차원 배열(행렬) 생성\n",
        "matrix"
      ],
      "metadata": {
        "id": "yYcrRxEyhZck"
      },
      "execution_count": null,
      "outputs": []
    },
    {
      "cell_type": "markdown",
      "source": [
        "Pandas\n",
        "데이터 분석을 위한 라이브러리\n",
        "Colab에서 Pandas 라이브러리를 사용하려면 다음과 같이 import 문만 작성하면\n",
        "됩니다."
      ],
      "metadata": {
        "id": "lComwZFvhazk"
      }
    },
    {
      "cell_type": "code",
      "source": [
        "import pandas as pd\n"
      ],
      "metadata": {
        "id": "OKTOmS3ahcgi"
      },
      "execution_count": null,
      "outputs": []
    },
    {
      "cell_type": "code",
      "source": [
        "data = {\n",
        "'이름': ['Alice', 'Bob', 'Charlie'],\n",
        "'나이': [25, 30, 35],\n",
        "'도시': ['서울', '부산', '인천']\n",
        "}\n",
        "df = pd.DataFrame(data) # 데이터프레임 생성\n",
        "df"
      ],
      "metadata": {
        "id": "ihh2ksi8hdo4"
      },
      "execution_count": null,
      "outputs": []
    },
    {
      "cell_type": "code",
      "source": [
        "ages = df['나이'] # 특정 열 선택\n",
        "ages"
      ],
      "metadata": {
        "id": "yAzp_xZehe04"
      },
      "execution_count": null,
      "outputs": []
    },
    {
      "cell_type": "code",
      "source": [
        "young_people = df[df['나이'] < 30] # 조건에 맞는 데이터 선택\n",
        "young_people"
      ],
      "metadata": {
        "id": "HjFK4LTHhfOm"
      },
      "execution_count": null,
      "outputs": []
    },
    {
      "cell_type": "markdown",
      "source": [
        "Matplotlib\n",
        "데이터 시각화를 위한 라이브러리\n",
        "Colab에서 Matplotlib 라이브러리를 사용하려면 다음과 같이 import 문만 작\n",
        "성하면 됩니다"
      ],
      "metadata": {
        "id": "OOhygdkdhiWo"
      }
    },
    {
      "cell_type": "markdown",
      "source": [
        "import matplotlib.pyplot as plt"
      ],
      "metadata": {
        "id": "JUCEbLIhhrQ7"
      }
    },
    {
      "cell_type": "code",
      "source": [
        "import matplotlib.pyplot as plt"
      ],
      "metadata": {
        "id": "hIQGvL1VhuEw"
      },
      "execution_count": null,
      "outputs": []
    },
    {
      "cell_type": "code",
      "source": [
        "# 간단한 막대 그래프\n",
        "categories = ['A', 'B', 'C', 'D']\n",
        "values = [3, 7, 2, 5]\n",
        "plt.bar(categories, values)\n",
        "plt.title('Bar Plot')\n",
        "plt.xlabel('Categories')\n",
        "plt.ylabel('Values')\n",
        "plt.show()"
      ],
      "metadata": {
        "id": "xQjSkLDFhvI1"
      },
      "execution_count": null,
      "outputs": []
    },
    {
      "cell_type": "markdown",
      "source": [
        "데이터 분석과 인공지능에서의 활용"
      ],
      "metadata": {
        "id": "uvENe2r1iJ_o"
      }
    },
    {
      "cell_type": "markdown",
      "source": [
        "모듈과 패키지, 라이브러리는 데이터 분석과 인공지능 분야에서 다양하게 활용됩니다.\n",
        "math 와 random 은 기본적인 수학 연산과 난수 생성에 사용되며, NumPy , Pandas ,\n",
        "Matplotlib 은 대규모 데이터 처리, 분석, 시각화에 필수적입니다.\n",
        "이러한 도구들은 데이터 전처리, 통계 분석, 머신러닝 모델 구축 등 다양한 작업에서 중요\n",
        "한 역할을 합니다."
      ],
      "metadata": {
        "id": "ub3URqEciK8C"
      }
    },
    {
      "cell_type": "markdown",
      "source": [
        "예) 학생 성적 데이터 분"
      ],
      "metadata": {
        "id": "IQttVD9niMEW"
      }
    },
    {
      "cell_type": "markdown",
      "source": [
        "이 예제는 pandas 를 사용하여 학생들의 성적 데이터를 관리하고 분석합니다.\n",
        "학생별/과목별로 matplotlib 를 사용하여 이를 시각화합니다.\n"
      ],
      "metadata": {
        "id": "nAq1p_FUiNGu"
      }
    },
    {
      "cell_type": "code",
      "source": [
        "import pandas as pd\n",
        "import matplotlib.pyplot as plt"
      ],
      "metadata": {
        "id": "fc1LeUotiOOh"
      },
      "execution_count": null,
      "outputs": []
    },
    {
      "cell_type": "code",
      "source": [
        "# 학생 성적 데이터 생성\n",
        "data = {\n",
        "    'Name': ['Alice', 'Bob', 'Charlie', 'David', 'Eva'],\n",
        "    'Math': [85, 76, 92, 88, 95],\n",
        "    'Science': [92, 88, 95, 80, 85],\n",
        "    'Literature': [78, 92, 86, 85, 91]\n",
        "}\n"
      ],
      "metadata": {
        "id": "G0mgQHoHiPXc"
      },
      "execution_count": null,
      "outputs": []
    },
    {
      "cell_type": "code",
      "source": [
        "df = pd.DataFrame(data) # DataFrame 생성\n",
        "df"
      ],
      "metadata": {
        "id": "XPXwBOfGiRtD"
      },
      "execution_count": null,
      "outputs": []
    },
    {
      "cell_type": "code",
      "source": [
        "# 막대 그래프로 학생별/과목별 점수 표시\n",
        "df.plot(kind = 'bar') # pandas의 DataFrame을 사용한 그래프 그리기\n",
        "plt.title('Scores of Students')\n",
        "plt.xlabel('Students')\n",
        "plt.ylabel('Scores')\n",
        "plt.ylim(0, 100)\n",
        "plt.show()"
      ],
      "metadata": {
        "id": "_moG2XquiXEm"
      },
      "execution_count": null,
      "outputs": []
    }
  ]
}