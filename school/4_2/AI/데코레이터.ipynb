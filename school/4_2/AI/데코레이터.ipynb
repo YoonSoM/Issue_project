{
  "nbformat": 4,
  "nbformat_minor": 0,
  "metadata": {
    "colab": {
      "provenance": []
    },
    "kernelspec": {
      "name": "python3",
      "display_name": "Python 3"
    },
    "language_info": {
      "name": "python"
    }
  },
  "cells": [
    {
      "cell_type": "markdown",
      "source": [
        "이번 유닛에서는 파이썬의 데코레이터(Decorator)에 대해 학습합니다.\n",
        "데코레이터의 개념, 기본 사용법, 그리고 데코레이터가 유용한 상황에 대해 알아봅니다.\n",
        "또한 데코레이터를 사용하여 코드를 개선하는 방법을 살펴봅니다."
      ],
      "metadata": {
        "id": "lBZ7zjxpmzxE"
      }
    },
    {
      "cell_type": "markdown",
      "source": [
        "데코레이터의 개념"
      ],
      "metadata": {
        "id": "9Vknw-jRm1YV"
      }
    },
    {
      "cell_type": "markdown",
      "source": [
        "데코레이터는 기존 함수나 클래스의 동작을 수정하거나 확장하는 방법을 제공합니다.\n",
        "이는 기존 코드를 변경하지 않고도 새로운 기능을 추가할 수 있게 해줍니다.\n",
        "데코레이터는 선물 포장과 비슷합니다.\n",
        "선물(함수)은 그대로지만, 포장(데코레이터)을 통해 외관이나 기능이 추가됩니다."
      ],
      "metadata": {
        "id": "X2FsmvEfm2pU"
      }
    },
    {
      "cell_type": "markdown",
      "source": [
        "데코레이터 생성"
      ],
      "metadata": {
        "id": "YUnr6Vvgm409"
      }
    },
    {
      "cell_type": "code",
      "execution_count": null,
      "metadata": {
        "id": "5PxWad1ymx2P"
      },
      "outputs": [],
      "source": [
        "def simple_decorator(func):\n",
        "  def wrapper():\n",
        "    print('함수 실행 전')\n",
        "    func()\n",
        "    print('함수 실행 후')\n",
        "  return wrapper"
      ]
    },
    {
      "cell_type": "code",
      "source": [
        "@simple_decorator\n",
        "def say_hello():\n",
        "    print('안녕하세요!')\n",
        "say_hello()"
      ],
      "metadata": {
        "id": "BWgP75bSm-71"
      },
      "execution_count": null,
      "outputs": []
    },
    {
      "cell_type": "markdown",
      "source": [
        "이 예제에서 simple_decorator 는 다른 함수를 인자로 받아 새로운 기능(실행 전후 메\n",
        "시지 출력)을 추가합니다."
      ],
      "metadata": {
        "id": "Iea5j-cTnCRc"
      }
    },
    {
      "cell_type": "markdown",
      "source": [
        "매개변수가 있는 함수에 데코레이터 적용"
      ],
      "metadata": {
        "id": "5MNGhVcVnD_e"
      }
    },
    {
      "cell_type": "markdown",
      "source": [
        "매개변수가 있는 함수에도 데코레이터를 적용할 수 있습니다:\n"
      ],
      "metadata": {
        "id": "3VD28SMKnFHv"
      }
    },
    {
      "cell_type": "code",
      "source": [
        "def param_decorator(func):\n",
        "  def wrapper(*args, **kwargs):\n",
        "    print(f\"함수 {func.__name__} 실행 시작\")\n",
        "    result = func(*args, **kwargs)\n",
        "    print(f\"함수 {func.__name__} 실행 완료\")\n",
        "    return result\n",
        "  return wrapper"
      ],
      "metadata": {
        "id": "y5d_m7GVnHXQ"
      },
      "execution_count": null,
      "outputs": []
    },
    {
      "cell_type": "code",
      "source": [
        "@param_decorator\n",
        "def greet(name):\n",
        "    print(f\"안녕하세요, {name}님!\")\n",
        "greet('Alice')"
      ],
      "metadata": {
        "id": "PfOuUW4UnOpr"
      },
      "execution_count": null,
      "outputs": []
    },
    {
      "cell_type": "markdown",
      "source": [
        "*args 와 **kwargs 를 사용하여 어떤 형태의 매개변수도 처리할 수 있습니다."
      ],
      "metadata": {
        "id": "pEZKgxZWnIE_"
      }
    },
    {
      "cell_type": "markdown",
      "source": [
        "데코레이터에 인자 전달\n"
      ],
      "metadata": {
        "id": "VINisMXNncZx"
      }
    },
    {
      "cell_type": "markdown",
      "source": [
        "데코레이터 자체에 인자를 전달할 수도 있습니다:"
      ],
      "metadata": {
        "id": "CD71cWwVndvA"
      }
    },
    {
      "cell_type": "code",
      "source": [
        "def repeat(times):\n",
        "    def decorator(func):\n",
        "        def wrapper(*args, **kwargs):\n",
        "          for _ in range(times):\n",
        "              func(*args, **kwargs)\n",
        "        return wrapper\n",
        "    return decorator"
      ],
      "metadata": {
        "id": "NyHT4LbCnfBf"
      },
      "execution_count": null,
      "outputs": []
    },
    {
      "cell_type": "code",
      "source": [
        "@repeat(3)\n",
        "def say_hi(name):\n",
        "    print(f'안녕, {name}!')\n",
        "say_hi('Bob')"
      ],
      "metadata": {
        "id": "2CJtAxlennyC"
      },
      "execution_count": null,
      "outputs": []
    },
    {
      "cell_type": "markdown",
      "source": [
        "이 예제에서 @repeat(3) 은 데코레이터에 인자 3 을 전달하여 함수를 3번 반복 실행합\n",
        "니다"
      ],
      "metadata": {
        "id": "pP3_PMSxnqE8"
      }
    },
    {
      "cell_type": "markdown",
      "source": [
        "데코레이터의 실제 활용"
      ],
      "metadata": {
        "id": "5U6P0A0Knrvb"
      }
    },
    {
      "cell_type": "markdown",
      "source": [
        "예) 실행 시간 측정 데코레이터\n",
        "이 데코레이터는 함수의 실행 시간을 측정하여 출력합니다"
      ],
      "metadata": {
        "id": "0861oU-8nsyU"
      }
    },
    {
      "cell_type": "code",
      "source": [
        "import time"
      ],
      "metadata": {
        "id": "vu1SWg--ntrq"
      },
      "execution_count": null,
      "outputs": []
    },
    {
      "cell_type": "code",
      "source": [
        "def measure_time(func):\n",
        "  def wrapper(*args, **kwargs):\n",
        "        start_time = time.time()\n",
        "        result = func(*args, **kwargs)\n",
        "        end_time = time.time()\n",
        "        print(f'{func.__name__} 함수 실행 시간: {end_time - start_time:.4f}초')\n",
        "        return result\n",
        "  return wrapper\n",
        "  @measure_time\n",
        "def slow_function():\n",
        "    time.sleep(2)\n",
        "    print('함수 실행 완료')"
      ],
      "metadata": {
        "id": "Djn8jvF_nuqk"
      },
      "execution_count": null,
      "outputs": []
    },
    {
      "cell_type": "code",
      "source": [
        "slow_function()"
      ],
      "metadata": {
        "id": "wstPx43ln6VI"
      },
      "execution_count": null,
      "outputs": []
    },
    {
      "cell_type": "markdown",
      "source": [
        "예) 로깅(Logging) 데코레이터\n",
        "이 데코레이터는 함수 호출 시 인자와 반환값을 로깅합니다."
      ],
      "metadata": {
        "id": "h35d4wr1n7R1"
      }
    },
    {
      "cell_type": "code",
      "source": [
        "def log_function_call(func):\n",
        "    def wrapper(*args, **kwargs):\n",
        "        print(f\"함수 {func.__name__} 호출됨. 인자: {args}, {kwargs}\")\n",
        "        result = func(*args, **kwargs)\n",
        "        print(f\"함수 {func.__name__} 반환값: {result}\")\n",
        "        return result\n",
        "    return wrapper\n",
        "@log_function_call\n",
        "def add(a, b):\n",
        "    return a + b"
      ],
      "metadata": {
        "id": "ijPwQdJpn8n6"
      },
      "execution_count": null,
      "outputs": []
    },
    {
      "cell_type": "code",
      "source": [
        "result = add(3, 5)"
      ],
      "metadata": {
        "id": "prBVLycSoHpw"
      },
      "execution_count": null,
      "outputs": []
    },
    {
      "cell_type": "markdown",
      "source": [
        "데이터 분석과 인공지능에서의 활용"
      ],
      "metadata": {
        "id": "PCxV39K2oJx4"
      }
    },
    {
      "cell_type": "markdown",
      "source": [
        "데코레이터는 데이터 분석 과정에서 코드의 재사용성을 높이고 유지보수를 쉽게 만드는\n",
        "데 도움이 됩니다."
      ],
      "metadata": {
        "id": "fFG4OOaAoK7D"
      }
    },
    {
      "cell_type": "markdown",
      "source": [
        "예) 데이터 유효성 검사 데코레이터\n",
        "이 예제에서 validate_data 데코레이터는 입력 데이터의 유효성을 검사합니다.\n",
        "이를 통해 데이터 분석 함수의 안정성을 높일 수 있습니다.\n"
      ],
      "metadata": {
        "id": "ziIGNGXToLv7"
      }
    },
    {
      "cell_type": "code",
      "source": [
        "def validate_data(func):\n",
        "    def wrapper(data):\n",
        "        if not isinstance(data, list):\n",
        "            raise ValueError('입력은 리스트여야 합니다.')\n",
        "        if not all(isinstance(x, (int, float)) for x in data):\n",
        "            raise ValueError('모든 원소는 숫자여야 합니다.')\n",
        "        return func(data)\n",
        "    return wrapper\n",
        "@validate_data\n",
        "def calculate_average(numbers):\n",
        "    return sum(numbers) / len(numbers)"
      ],
      "metadata": {
        "id": "TjTYgRZmoNBz"
      },
      "execution_count": null,
      "outputs": []
    },
    {
      "cell_type": "code",
      "source": [
        "# 사용 예\n",
        "try:\n",
        "    print(calculate_average([1, 2, 3, 4, 5]))\n",
        "    print(calculate_average([1, 2, '3', 4, 5])) # 오류 발생\n",
        "except ValueError as e:\n",
        "    print(f'오류: {e}'"
      ],
      "metadata": {
        "id": "R76SD9CaogGT"
      },
      "execution_count": null,
      "outputs": []
    }
  ]
}