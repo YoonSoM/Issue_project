{
  "nbformat": 4,
  "nbformat_minor": 0,
  "metadata": {
    "colab": {
      "provenance": []
    },
    "kernelspec": {
      "name": "python3",
      "display_name": "Python 3"
    },
    "language_info": {
      "name": "python"
    }
  },
  "cells": [
    {
      "cell_type": "markdown",
      "source": [
        "이번 유닛에서는 데이터 시각화를 위한 두 가지 주요 라이브러리인 Matplotlib과\n",
        "Seaborn의 기초를 간단히 학습합니다.\n",
        "이들 라이브러리를 사용하여 기본적인 그래프를 그리는 방법과 데이터를 효과적으로 시\n",
        "각화하는 방법을 배웁니다"
      ],
      "metadata": {
        "id": "JrG8jydb6nPC"
      }
    },
    {
      "cell_type": "markdown",
      "source": [
        "Matplotlib 소개 및 설치\n"
      ],
      "metadata": {
        "id": "kuSKlV3q6vV0"
      }
    },
    {
      "cell_type": "markdown",
      "source": [
        "Matplotlib은 파이썬의 기본적인 시각화 라이브러리입니다.\n",
        "Matplotlib 임포트:\n",
        "여기서 plt 는 matplotlib.pyplot의 일반적인 별칭(alias)입니다.\n",
        "이를 통해 matplotlib.pyplot 대신 plt 로 간단히 참조할 수 있습니다.\n",
        "import matplotlib.pyplot as plt"
      ],
      "metadata": {
        "id": "j1riSpZz6xkr"
      }
    },
    {
      "cell_type": "markdown",
      "source": [
        "Matplotlib으로 여러 그래프 그리기\n",
        "Matplotlib 라이브러리를 사용하여 라인 플롯, 산점도, 막대 그래프 등을 그릴 수 있습니\n",
        "다."
      ],
      "metadata": {
        "id": "8rMB-ycp6z_p"
      }
    },
    {
      "cell_type": "code",
      "source": [
        "import matplotlib.pyplot as plt"
      ],
      "metadata": {
        "id": "jvZ3FJfW6ulY"
      },
      "execution_count": null,
      "outputs": []
    },
    {
      "cell_type": "markdown",
      "source": [
        "라인 플롯 그리기\n",
        "라인 플롯(Line Plot)은 연속적인 데이터의 변화를 보여주는 데 사용됩니다.\n",
        "시간에 따른 데이터의 변화나 두 변수 간의 관계를 표현하는 데 적합합니다.\n",
        "plt.plot() 은 선 그래프를 그리는 함수입니다."
      ],
      "metadata": {
        "id": "Ek-QmFV77LSZ"
      }
    },
    {
      "cell_type": "code",
      "execution_count": null,
      "metadata": {
        "id": "fzI6EKoc6Z7o"
      },
      "outputs": [],
      "source": [
        "x = [1, 2, 3, 4, 5]\n",
        "y = [2, 5, 6, 10, 9]"
      ]
    },
    {
      "cell_type": "code",
      "source": [
        "plt.plot(x, y)\n",
        "plt.title('Simple Line Plot') # 제목 설정\n",
        "plt.xlabel('X-axis') # x축 레이블\n",
        "plt.ylabel('Y-axis') # y축 레이블\n",
        "plt.show() # 그래프 표시"
      ],
      "metadata": {
        "id": "EQv_SEB77NiK"
      },
      "execution_count": null,
      "outputs": []
    },
    {
      "cell_type": "markdown",
      "source": [
        "산점도 그리기\n",
        "산점도(Scatter Plot)는 두 변수 간의 관계를 점으로 표현합니다.\n",
        "변수 간의 상관관계나 패턴을 시각적으로 확인하는 데 유용합니다.\n",
        "plt.scatter() 는 산점도를 그리는 함수입니다.\n"
      ],
      "metadata": {
        "id": "CFPiLy4k7PTl"
      }
    },
    {
      "cell_type": "code",
      "source": [
        "import numpy as np\n",
        "# 데이터 준비\n",
        "x = np.random.rand(100)\n",
        "y = np.random.rand(100)"
      ],
      "metadata": {
        "id": "VGotFEm07Qb3"
      },
      "execution_count": null,
      "outputs": []
    },
    {
      "cell_type": "code",
      "source": [
        "plt.scatter(x, y)\n",
        "plt.title('Scatter Plot')\n",
        "plt.xlabel('X-axis')\n",
        "plt.ylabel('Y-axis')\n",
        "plt.show()"
      ],
      "metadata": {
        "id": "NaNoSXVU7Rfw"
      },
      "execution_count": null,
      "outputs": []
    },
    {
      "cell_type": "markdown",
      "source": [
        "막대 그래프 그리기\n",
        "막대 그래프(Bar Plot)는 범주형 데이터의 값을 비교하는 데 사용됩니다.\n",
        "각 범주의 값을 높이가 다른 막대로 표현하여 쉽게 비교할 수 있습니다.\n",
        "plt.bar() 는 막대 그래프를 그리는 함수입니다.\n"
      ],
      "metadata": {
        "id": "h_yHwo5H7UHe"
      }
    },
    {
      "cell_type": "code",
      "source": [
        "categories = ['A', 'B', 'C', 'D']\n",
        "values = [3, 7, 2, 5]"
      ],
      "metadata": {
        "id": "70wCtIdY7VP6"
      },
      "execution_count": null,
      "outputs": []
    },
    {
      "cell_type": "code",
      "source": [
        "plt.bar(categories, values)\n",
        "plt.title('Bar Plot')\n",
        "plt.xlabel('Categories')\n",
        "plt.ylabel('Values')\n",
        "plt.show()"
      ],
      "metadata": {
        "id": "Zuzgb_-k7WHG"
      },
      "execution_count": null,
      "outputs": []
    },
    {
      "cell_type": "markdown",
      "source": [
        "Seaborn 소개 및 설치\n",
        "Seaborn은 Matplotlib을 기반으로 만들어진 고수준 시각화 라이브러리입니다.\n",
        "Matplotlib 임포트:\n",
        "여기서 sns 는 seaborn의 일반적인 별칭(alias)입니다.\n",
        "이를 통해 seaborn 대신 sns 로 간단히 참조할 수 있습니다.\n",
        "import seaborn as sns"
      ],
      "metadata": {
        "id": "WflaFkbU7Yz7"
      }
    },
    {
      "cell_type": "markdown",
      "source": [
        "Seaborn으로 여러 그래프 그리기\n",
        "Seaborn 라이브러리를 사용하여 산점도 등 다양한 그래프를 그릴 수 있습니다."
      ],
      "metadata": {
        "id": "koQoCRK67Z2w"
      }
    },
    {
      "cell_type": "code",
      "source": [
        "import pandas as pd\n",
        "import seaborn as sns"
      ],
      "metadata": {
        "id": "NBx_cuSx7bMz"
      },
      "execution_count": null,
      "outputs": []
    },
    {
      "cell_type": "markdown",
      "source": [
        "산점도 그리기\n",
        "Seaborn의 scatterplot() 함수는 Matplotlib의 scatter() 와 유사하지만, 더\n",
        "많은 기능을 제공합니다.\n",
        "예를 들어, 데이터의 부분집합을 색상이나 마커 크기로 구분하여 표현할 수 있습니\n",
        "다."
      ],
      "metadata": {
        "id": "wKQDD1al7b9P"
      }
    },
    {
      "cell_type": "code",
      "source": [
        "df = pd.DataFrame({\n",
        "    'x': np.random.rand(100),\n",
        "    'y': np.random.rand(100)\n",
        "})\n",
        "df"
      ],
      "metadata": {
        "id": "OImG-2tP7dlv"
      },
      "execution_count": null,
      "outputs": []
    },
    {
      "cell_type": "code",
      "source": [
        "sns.scatterplot(x = 'x', y = 'y', data = df)\n",
        "plt.title('Seaborn Scatter Plot')\n",
        "plt.show()"
      ],
      "metadata": {
        "id": "Fs1AShIm7hZR"
      },
      "execution_count": null,
      "outputs": []
    },
    {
      "cell_type": "code",
      "source": [
        "df = pd.DataFrame({\n",
        "    'x': np.random.rand(100),\n",
        "    'y': np.random.rand(100),\n",
        "    'group': np.random.choice(['A', 'B', 'C'], 100), # 그룹 분류\n",
        "    'value': np.random.randint(1, 100, 100) # 마커 크기에 사용될 값\n",
        "})\n",
        "df"
      ],
      "metadata": {
        "id": "VF4C-Vul7jYF"
      },
      "execution_count": null,
      "outputs": []
    },
    {
      "cell_type": "code",
      "source": [
        "sns.scatterplot(x = 'x', y = 'y', size = 'value', data = df) # 마커 크기로 표현할 변\n",
        "plt.title('Seaborn Scatter Plot')\n",
        "plt.show()"
      ],
      "metadata": {
        "id": "sHDOg18X7oYH"
      },
      "execution_count": null,
      "outputs": []
    },
    {
      "cell_type": "code",
      "source": [
        "sns.scatterplot(x = 'x', y = 'y', hue = 'group', data = df) # 색상으로 구분할 변수\n",
        "plt.title('Seaborn Scatter Plot')\n",
        "plt.show()"
      ],
      "metadata": {
        "id": "gZlmu61A7pwO"
      },
      "execution_count": null,
      "outputs": []
    },
    {
      "cell_type": "markdown",
      "source": [
        "데이터 분석과 인공지능에서의 활용\n",
        "Matplotlib과 Seaborn은 데이터 시각화에서 유용하게 사용되는 라이브러리입니다."
      ],
      "metadata": {
        "id": "DiQnPXLi7sre"
      }
    },
    {
      "cell_type": "markdown",
      "source": [
        "예) 실제 데이터셋을 이용한 시각화\n",
        "이 예제에서는 식당 팁 데이터를 사용하여 총 지불액과 팁의 관계를 보여주는 산점\n",
        "도를 그립니다.\n"
      ],
      "metadata": {
        "id": "ZUttrm4D7tj9"
      }
    },
    {
      "cell_type": "code",
      "source": [
        "import seaborn as sns"
      ],
      "metadata": {
        "id": "Gcyiognw7uca"
      },
      "execution_count": null,
      "outputs": []
    },
    {
      "cell_type": "markdown",
      "source": [
        "내장 데이터셋 로드\n"
      ],
      "metadata": {
        "id": "O9kziNbf7vaS"
      }
    },
    {
      "cell_type": "code",
      "source": [
        "# 내장 데이터셋 로드\n",
        "tips = sns.load_dataset('tips')"
      ],
      "metadata": {
        "id": "2py_9ykj7xBD"
      },
      "execution_count": null,
      "outputs": []
    },
    {
      "cell_type": "code",
      "source": [
        "tips"
      ],
      "metadata": {
        "id": "niFkDh7I7yCY"
      },
      "execution_count": null,
      "outputs": []
    },
    {
      "cell_type": "markdown",
      "source": [
        "산점도 그리기\n",
        "이 산점도는 총 지불액(total_bill)과 팁(tip) 사이의 관계를 나타냅니다.\n",
        "두 변수 간의 상관관계나 패턴을 확인할 수 있습니다.\n"
      ],
      "metadata": {
        "id": "_2Gm2YNg70KW"
      }
    },
    {
      "cell_type": "code",
      "source": [
        "# 산점도 그리기\n",
        "sns.scatterplot(x = 'total_bill', y = 'tip', data = tips)\n",
        "plt.title('Tips vs Total Bill')\n",
        "plt.show()"
      ],
      "metadata": {
        "id": "Ewymbzwh73Oa"
      },
      "execution_count": null,
      "outputs": []
    },
    {
      "cell_type": "code",
      "source": [
        "# 마커 크기로 일행 수 표현\n",
        "sns.scatterplot(x = 'total_bill', y = 'tip', size = 'size', data = tips)\n",
        "plt.title('Tips vs Total Bill')\n",
        "plt.show()"
      ],
      "metadata": {
        "id": "t-VkdO2v75Ky"
      },
      "execution_count": null,
      "outputs": []
    },
    {
      "cell_type": "code",
      "source": [
        "# 색상으로 시간대 구분\n",
        "sns.scatterplot(x = 'total_bill', y = 'tip', hue = 'time', data = tips)\n",
        "plt.title('Tips vs Total Bill')\n",
        "plt.show()"
      ],
      "metadata": {
        "id": "eofqspmP76QY"
      },
      "execution_count": null,
      "outputs": []
    },
    {
      "cell_type": "code",
      "source": [
        "# 색상으로 요일 구분\n",
        "sns.scatterplot(x = 'total_bill', y = 'tip', hue = 'day', data = tips)\n",
        "plt.title('Tips vs Total Bill')\n",
        "plt.show()"
      ],
      "metadata": {
        "id": "5lK29LUY7-Tq"
      },
      "execution_count": null,
      "outputs": []
    }
  ]
}