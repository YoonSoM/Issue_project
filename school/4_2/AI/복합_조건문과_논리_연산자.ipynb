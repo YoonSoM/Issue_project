{
  "nbformat": 4,
  "nbformat_minor": 0,
  "metadata": {
    "colab": {
      "provenance": []
    },
    "kernelspec": {
      "name": "python3",
      "display_name": "Python 3"
    },
    "language_info": {
      "name": "python"
    }
  },
  "cells": [
    {
      "cell_type": "markdown",
      "source": [],
      "metadata": {
        "id": "JZr66XCfc0xR"
      }
    },
    {
      "cell_type": "markdown",
      "source": [
        "if - elif - else 문"
      ],
      "metadata": {
        "id": "r3tavOJWc1rU"
      }
    },
    {
      "cell_type": "markdown",
      "source": [
        "여러 조건을 순차적으로 검사할 때 사용합니다."
      ],
      "metadata": {
        "id": "SugbWZyec250"
      }
    },
    {
      "cell_type": "markdown",
      "source": [
        "if 조건1:\n",
        " 조건1이 참일 때 실행할 코드\n",
        "elif 조건2:\n",
        " 조건2가 참일 때 실행할 코드\n",
        "elif 조건3:\n",
        " 조건3이 참일 때 실행할 코드\n",
        "else:\n",
        " 모든 조건이 거짓일 때 실행할 코드"
      ],
      "metadata": {
        "id": "CkbKufQ6c36l"
      }
    },
    {
      "cell_type": "code",
      "execution_count": null,
      "metadata": {
        "id": "f1Iv2u5acosE"
      },
      "outputs": [],
      "source": [
        "score = 85\n",
        "if score >= 90:\n",
        "print('A 학점')\n",
        "elif score >= 80:\n",
        "print('B 학점')\n",
        "elif score >= 70:\n",
        "print('C 학점')\n",
        "else:\n",
        "print('D 학점')\n",
        "print('학점 부여가 완료되었습니다.')\n"
      ]
    },
    {
      "cell_type": "markdown",
      "source": [
        "중첩 조건문"
      ],
      "metadata": {
        "id": "1kIikpNnc7KH"
      }
    },
    {
      "cell_type": "markdown",
      "source": [
        "조건문 안에 다른 조건문을 넣을 수 있습니다"
      ],
      "metadata": {
        "id": "WE8usFl-c775"
      }
    },
    {
      "cell_type": "markdown",
      "source": [
        "if 외부조건:\n",
        " if 내부조건1:\n",
        " 내부조건1이 참일 때 실행할 코드\n",
        " else:\n",
        " 내부조건1이 거짓일 때 실행할 코드\n",
        " else:\n",
        " 외부조건이 거짓일 때 실행할 코드"
      ],
      "metadata": {
        "id": "ENlrxzJOc86m"
      }
    },
    {
      "cell_type": "code",
      "source": [
        "age = 20\n",
        "has_license = True\n",
        "if age >= 18:\n",
        "if has_license:\n",
        "print('운전할 수 있습니다.')\n",
        "else:\n",
        "print('운전면허가 필요합니다.')\n",
        "else:\n",
        "print('운전하기에 너무 어립니다.')"
      ],
      "metadata": {
        "id": "BFFeyAzzc_6c"
      },
      "execution_count": null,
      "outputs": []
    },
    {
      "cell_type": "markdown",
      "source": [
        "복잡한 조건 처리하기"
      ],
      "metadata": {
        "id": "ZksWbOJldBOH"
      }
    },
    {
      "cell_type": "markdown",
      "source": [
        "여러 조건을 조합하여 더 복잡한 상황을 처리할 수 있습니다"
      ],
      "metadata": {
        "id": "9dhBNK2ydCQQ"
      }
    },
    {
      "cell_type": "code",
      "source": [
        "temperature = 25\n",
        "is_raining = False\n",
        "if temperature > 30:\n",
        "if is_raining:\n",
        "print('덥고 비가 오는 날씨입니다. 실내에서 쉬세요.')\n",
        "else:\n",
        "print('매우 더운 날씨입니다. 햇빛을 조심하세요.')\n",
        "elif temperature > 20:\n",
        "if is_raining:\n",
        "print('선선하지만 비가 오고 있습니다. 우산을 챙기세요.')\n",
        "else:\n",
        "print('날씨가 좋습니다. 산책하기 좋아요.')\n",
        "else:\n",
        "if is_raining:\n",
        "print('쌀쌀하고 비가 옵니다. 따뜻하게 입으세요.')\n",
        "else:\n",
        "print('쌀쌀한 날씨입니다. 겉옷을 챙기세요.')"
      ],
      "metadata": {
        "id": "4tR3yOtHdDs8"
      },
      "execution_count": null,
      "outputs": []
    },
    {
      "cell_type": "markdown",
      "source": [
        "논리 연산자\n"
      ],
      "metadata": {
        "id": "aFwbdTKbdE_b"
      }
    },
    {
      "cell_type": "markdown",
      "source": [
        "여러 조건을 결합할 때 사용합니다.\n",
        "and : 두 조건이 모두 참일 때 참\n",
        "or : 두 조건 중 하나라도 참이면 참\n",
        "not : 조건의 참/거짓을 반대로 바꿈"
      ],
      "metadata": {
        "id": "Fgw2fq1xdGtP"
      }
    },
    {
      "cell_type": "code",
      "source": [
        "age = 25\n",
        "has_license = True"
      ],
      "metadata": {
        "id": "Fp83mtS8dHnI"
      },
      "execution_count": null,
      "outputs": []
    },
    {
      "cell_type": "code",
      "source": [
        "if age >= 18 and has_license:\n",
        "print('운전할 수 있습니다.')\n",
        "else:\n",
        "print('운전할 수 없습니다.')"
      ],
      "metadata": {
        "id": "Nbz3TbfedIkW"
      },
      "execution_count": null,
      "outputs": []
    },
    {
      "cell_type": "code",
      "source": [
        "if age < 18 or not has_license:\n",
        "print('운전할 수 없습니다.')\n",
        "else:\n",
        "print('운전할 수 있습니다.')"
      ],
      "metadata": {
        "id": "Pzo3-ZgPdJUX"
      },
      "execution_count": null,
      "outputs": []
    },
    {
      "cell_type": "code",
      "source": [
        "is_weekend = False\n",
        "is_holiday = True"
      ],
      "metadata": {
        "id": "eJrUKIq1dOL3"
      },
      "execution_count": null,
      "outputs": []
    },
    {
      "cell_type": "code",
      "source": [
        "if is_weekend or is_holiday:\n",
        "print('오늘은 쉬는 날입니다.')\n",
        "print('즐거운 시간 보내세요!')\n",
        "else:\n",
        "print('오늘은 평일입니다.')\n",
        "print('열심히 공부하세요!')"
      ],
      "metadata": {
        "id": "Uvj9DBExdPfe"
      },
      "execution_count": null,
      "outputs": []
    },
    {
      "cell_type": "markdown",
      "source": [
        "비교 연산자 체인"
      ],
      "metadata": {
        "id": "xHHyFB5-dQlP"
      }
    },
    {
      "cell_type": "markdown",
      "source": [
        "여러 비교를 한 줄에 연결할 수 있습니다."
      ],
      "metadata": {
        "id": "huBzn7oSdRZW"
      }
    },
    {
      "cell_type": "code",
      "source": [
        "x = 5"
      ],
      "metadata": {
        "id": "y3ye8Wl-dSVP"
      },
      "execution_count": null,
      "outputs": []
    },
    {
      "cell_type": "code",
      "source": [
        "if 0 < x and x < 10:\n",
        "print('x는 0보다 크고 10보다 작습니다.')"
      ],
      "metadata": {
        "id": "0F_Tqw5cdTY6"
      },
      "execution_count": null,
      "outputs": []
    },
    {
      "cell_type": "code",
      "source": [
        "if 0 < x < 10:\n",
        "print('x는 0보다 크고 10보다 작습니다.')\n"
      ],
      "metadata": {
        "id": "FJCiYuR6dUPJ"
      },
      "execution_count": null,
      "outputs": []
    },
    {
      "cell_type": "code",
      "source": [
        "age = 25\n",
        "if 20 <= age < 30:\n",
        "print('20대입니다.')"
      ],
      "metadata": {
        "id": "uzyVIYjNdVAY"
      },
      "execution_count": null,
      "outputs": []
    },
    {
      "cell_type": "markdown",
      "source": [
        "in 연산자와 다양한 자료구조에서의 활용"
      ],
      "metadata": {
        "id": "T6UqchdddVzk"
      }
    },
    {
      "cell_type": "markdown",
      "source": [
        "in 연산자는 특정 값이 리스트, 튜플, 집합, 딕셔너리 등에 포함되어 있는지 확인할 때\n",
        "사용합니다"
      ],
      "metadata": {
        "id": "k-MyZOkydXhw"
      }
    },
    {
      "cell_type": "markdown",
      "source": [
        "리스트에서의 in 연산자"
      ],
      "metadata": {
        "id": "vO8Lyrh3dYXD"
      }
    },
    {
      "cell_type": "code",
      "source": [
        "fruits = ['apple', 'banana', 'orange']\n",
        "if 'apple' in fruits:\n",
        "print('사과가 목록에 있습니다.')\n",
        "else:\n",
        "print('사과가 목록이 없습니다.')\n"
      ],
      "metadata": {
        "id": "PFq0wyRmdaHZ"
      },
      "execution_count": null,
      "outputs": []
    },
    {
      "cell_type": "markdown",
      "source": [
        "튜플에서의 in 연산자"
      ],
      "metadata": {
        "id": "6wcZ8hXodbHb"
      }
    },
    {
      "cell_type": "code",
      "source": [
        "numbers = (1, 2, 3, 4, 5)\n",
        "if 6 in numbers:\n",
        "print('6이 튜플에 있습니다.')\n",
        "else:\n",
        "print('6이 튜플에 없습니다.')"
      ],
      "metadata": {
        "id": "xfm_F84Pdcmq"
      },
      "execution_count": null,
      "outputs": []
    },
    {
      "cell_type": "markdown",
      "source": [
        "딕셔너리에서의 in 연산자"
      ],
      "metadata": {
        "id": "ZITp3PrAdd1d"
      }
    },
    {
      "cell_type": "code",
      "source": [
        "person = {'name': 'Alice', 'age': 25, 'city': 'New York'}\n",
        "if 'age' in person:\n",
        "print('나이 정보가 있습니다:', person['age'])\n",
        "else:\n",
        "print('나이 정보가 없습니다.')\n"
      ],
      "metadata": {
        "id": "1oJEeHA7de2s"
      },
      "execution_count": null,
      "outputs": []
    },
    {
      "cell_type": "markdown",
      "source": [
        "집합에서의 in 연산자"
      ],
      "metadata": {
        "id": "gBXjP6rXdf2r"
      }
    },
    {
      "cell_type": "code",
      "source": [
        "prime_numbers = {2, 3, 5, 7, 11, 13}\n",
        "if 4 in prime_numbers:\n",
        "print('4는 소수입니다.')\n",
        "else:\n",
        "print('4는 소수가 아닙니다.')\n"
      ],
      "metadata": {
        "id": "1TmC7nv7dg0l"
      },
      "execution_count": null,
      "outputs": []
    },
    {
      "cell_type": "markdown",
      "source": [
        "자료구조별 in 연산자 성능 비교 (시간 복잡도)\n",
        "리스트: - 은 리스트의 길이\n",
        "튜플: - 은 튜플의 길이\n",
        "딕셔너리: - 상수 시간 (평균적인 경우)\n",
        "집합: - 상수 시간 (평균적인 경우)\n"
      ],
      "metadata": {
        "id": "eMosmNKgdiFF"
      }
    },
    {
      "cell_type": "code",
      "source": [
        "import time\n",
        "# 데이터 준비\n",
        "data = list(range(1000000))\n",
        "data_tuple = tuple(data)\n",
        "data_set = set(data)\n",
        "data_dict = {i: i for i in data}"
      ],
      "metadata": {
        "id": "V2QxtULEdkVh"
      },
      "execution_count": null,
      "outputs": []
    },
    {
      "cell_type": "code",
      "source": [
        "# 리스트 검색\n",
        "start = time.time()\n",
        "999999 in data\n",
        "end = time.time()\n",
        "'리스트 검색 시간:', end - start"
      ],
      "metadata": {
        "id": "S-hT27UzdmNX"
      },
      "execution_count": null,
      "outputs": []
    },
    {
      "cell_type": "code",
      "source": [
        "# 튜플 검색\n",
        "start = time.time()\n",
        "999999 in data_tuple\n",
        "end = time.time()\n",
        "'튜플 검색 시간:', end - start"
      ],
      "metadata": {
        "id": "e8n3ADP2dnAB"
      },
      "execution_count": null,
      "outputs": []
    },
    {
      "cell_type": "code",
      "source": [
        "# 집합 검색\n",
        "start = time.time()\n",
        "999999 in data_set\n",
        "end = time.time()\n",
        "'집합 검색 시간:', end - start"
      ],
      "metadata": {
        "id": "N5Yd0UcLdpEM"
      },
      "execution_count": null,
      "outputs": []
    },
    {
      "cell_type": "code",
      "source": [
        "# 딕셔너리 검색\n",
        "start = time.time()\n",
        "999999 in data_dict\n",
        "end = time.time()\n",
        "'딕셔너리 검색 시간:', end - start"
      ],
      "metadata": {
        "id": "RTa8xf6ddqnZ"
      },
      "execution_count": null,
      "outputs": []
    },
    {
      "cell_type": "markdown",
      "source": [
        "집합과 딕셔너리에서의 검색이 리스트와 튜플에서의 검색보다 훨씬 빠른 것을 확인할 수\n",
        "있습니다.\n",
        "따라서 대량의 데이터에서 특정 값의 존재 여부를 자주 확인해야 하는 경우, 가능하다면\n",
        "집합이나 딕셔너리를 사용하는 것이 효율적입니다."
      ],
      "metadata": {
        "id": "2R8oUARCdrwx"
      }
    },
    {
      "cell_type": "markdown",
      "source": [
        "데이터 분석과 인공지능에서의 활용"
      ],
      "metadata": {
        "id": "jqHjzDrjdsud"
      }
    },
    {
      "cell_type": "markdown",
      "source": [
        "복합 조건문과 논리 연산자는 데이터 전처리, 이상 감지, 결과 해석 등 다양한 단계에서\n",
        "중요하게 사용됩니다.\n"
      ],
      "metadata": {
        "id": "D1nUYC7ddtZQ"
      }
    },
    {
      "cell_type": "markdown",
      "source": [
        "예) 데이터 전처리 - 이상치 감지 및 처리\n",
        "데이터가 유효한 범위를 벗어나면 가장 가까운 유효한 값으로 대체합니다.\n",
        "이러한 과정은 데이터의 품질을 개선하고, 후속 분석이나 모델링에 적합한 형태로\n",
        "데이터를 준비하는 데 중요합니다."
      ],
      "metadata": {
        "id": "Ha9xIsJHduSR"
      }
    },
    {
      "cell_type": "code",
      "source": [
        "raw_value = 75 # 175, -75\n",
        "processed_value = 0\n",
        "if raw_value > 100 or raw_value < 0:\n",
        "if raw_value > 100:\n",
        "processed_value = 100\n",
        "else:\n",
        "processed_value = 0\n",
        "else:\n",
        "processed_value = raw_value\n",
        "processed_value"
      ],
      "metadata": {
        "id": "H6csIhfddxrF"
      },
      "execution_count": null,
      "outputs": []
    },
    {
      "cell_type": "markdown",
      "source": [
        "예) 간단한 이상 감지 시스템\n",
        "여러 조건(온도와 습도)을 동시에 고려하여 이상 상태를 판단합니다.\n",
        "조건에 따라 적절한 경고 메시지를 생성합니다."
      ],
      "metadata": {
        "id": "d3e8ekjvdyzl"
      }
    },
    {
      "cell_type": "code",
      "source": [
        "temperature = 38.5\n",
        "humidity = 85\n",
        "is_abnormal = False\n",
        "if temperature > 37.5:\n",
        "if humidity > 70:\n",
        "is_abnormal = True\n",
        "elif temperature > 39:\n",
        "is_abnormal = True\n",
        "elif humidity > 90:\n",
        "is_abnormal = True\n",
        "if is_abnormal:\n",
        "alert_message = '이상 상태'\n",
        "else:\n",
        "alert_message = '정상 상태'\n",
        "alert_message"
      ],
      "metadata": {
        "id": "qdmTERKad2mU"
      },
      "execution_count": null,
      "outputs": []
    }
  ]
}